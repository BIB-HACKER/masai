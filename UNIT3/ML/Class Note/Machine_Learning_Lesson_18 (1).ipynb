{
 "cells": [
  {
   "cell_type": "markdown",
   "metadata": {
    "id": "HVZW19zNWDf0"
   },
   "source": [
    "# Boosting Ensembling with XGBoost\n",
    "\n",
    "<img src=\"https://www.researchgate.net/publication/348025909/figure/fig2/AS:1020217916416002@1620250314481/Simplified-structure-of-XGBoost.ppm\" height=500 width=800>"
   ]
  },
  {
   "cell_type": "markdown",
   "metadata": {
    "id": "PUmFjjlvWK6G"
   },
   "source": [
    "## The Concept of Boosting and How It Differs from Bagging\n",
    "\n",
    "Boosting is an ensemble technique that combines multiple weak learners to form a strong learner. The key idea behind boosting is to train models sequentially, each correcting its predecessor's errors.\n",
    "\n",
    "### Key Differences from Bagging:\n",
    "\n",
    "- **Sequential vs. Parallel:** Unlike bagging, where models are trained in parallel, boosting trains models sequentially.\n",
    "- **Error Correction:** Boosting focuses on improving the predictions by specifically targeting misclassified instances by previous models.\n",
    "- **Variance vs. Bias:** While bagging aims to reduce variance (overfitting), boosting primarily reduces bias (underfitting), though it can also reduce variance to some extent."
   ]
  },
  {
   "cell_type": "markdown",
   "metadata": {
    "id": "MIPQMmtrWQfh"
   },
   "source": [
    "### Sequential Model Building in Boosting\n",
    "\n",
    "In boosting, each new model is trained on the errors of the preceding models. The process can be outlined as follows:\n",
    "\n",
    "1. Train a weak model on the dataset.\n",
    "2. Identify instances that were misclassified or had higher errors.\n",
    "3. Train a new model focusing on these difficult instances.\n",
    "4. Combine the models using a weighted sum or vote.\n",
    "\n",
    "This process is repeated until the addition of new models does not significantly improve performance, or a predetermined number of models have been added."
   ]
  },
  {
   "cell_type": "markdown",
   "metadata": {
    "id": "NIMASn2cWTBc"
   },
   "source": [
    "### Overview of Different Boosting Algorithms\n",
    "\n",
    "1. **AdaBoost (Adaptive Boosting):** The first real boosting algorithm. It adjusts the weights of incorrectly classified instances so that subsequent classifiers focus more on difficult cases.\n",
    "2. **Gradient Boosting:** Improves model predictions by minimizing a loss function, which can be customized. It builds one tree at a time, where each new tree helps to correct errors made by previously trained trees.\n",
    "3. **XGBoost (Extreme Gradient Boosting):** An optimized version of Gradient Boosting that is faster and more efficient. It includes several enhancements, such as regularization to prevent overfitting."
   ]
  },
  {
   "cell_type": "markdown",
   "metadata": {
    "id": "TXzGchx2WV7j"
   },
   "source": [
    "> XGBoost stands out among boosting algorithms for its speed and performance. It handles large datasets efficiently and has been the algorithm behind many winning solutions in machine learning competitions."
   ]
  },
  {
   "cell_type": "markdown",
   "metadata": {
    "id": "E0mcgANhWX_8"
   },
   "source": [
    "Let's implement a basic XGBoost classifier to predict the weather.\n",
    "\n",
    "Weather dataset."
   ]
  },
  {
   "cell_type": "code",
   "execution_count": 3,
   "metadata": {
    "colab": {
     "base_uri": "https://localhost:8080/"
    },
    "id": "6P2dBDSGXQfs",
    "outputId": "4387dd8a-abb2-4631-dba5-d6c45cc5c4f8"
   },
   "outputs": [
    {
     "name": "stdout",
     "output_type": "stream",
     "text": [
      "Collecting opendatasets\n",
      "  Downloading opendatasets-0.1.22-py3-none-any.whl (15 kB)\n",
      "Requirement already satisfied: tqdm in /usr/local/lib/python3.10/dist-packages (from opendatasets) (4.66.2)\n",
      "Requirement already satisfied: kaggle in /usr/local/lib/python3.10/dist-packages (from opendatasets) (1.5.16)\n",
      "Requirement already satisfied: click in /usr/local/lib/python3.10/dist-packages (from opendatasets) (8.1.7)\n",
      "Requirement already satisfied: six>=1.10 in /usr/local/lib/python3.10/dist-packages (from kaggle->opendatasets) (1.16.0)\n",
      "Requirement already satisfied: certifi in /usr/local/lib/python3.10/dist-packages (from kaggle->opendatasets) (2024.2.2)\n",
      "Requirement already satisfied: python-dateutil in /usr/local/lib/python3.10/dist-packages (from kaggle->opendatasets) (2.8.2)\n",
      "Requirement already satisfied: requests in /usr/local/lib/python3.10/dist-packages (from kaggle->opendatasets) (2.31.0)\n",
      "Requirement already satisfied: python-slugify in /usr/local/lib/python3.10/dist-packages (from kaggle->opendatasets) (8.0.4)\n",
      "Requirement already satisfied: urllib3 in /usr/local/lib/python3.10/dist-packages (from kaggle->opendatasets) (2.0.7)\n",
      "Requirement already satisfied: bleach in /usr/local/lib/python3.10/dist-packages (from kaggle->opendatasets) (6.1.0)\n",
      "Requirement already satisfied: webencodings in /usr/local/lib/python3.10/dist-packages (from bleach->kaggle->opendatasets) (0.5.1)\n",
      "Requirement already satisfied: text-unidecode>=1.3 in /usr/local/lib/python3.10/dist-packages (from python-slugify->kaggle->opendatasets) (1.3)\n",
      "Requirement already satisfied: charset-normalizer<4,>=2 in /usr/local/lib/python3.10/dist-packages (from requests->kaggle->opendatasets) (3.3.2)\n",
      "Requirement already satisfied: idna<4,>=2.5 in /usr/local/lib/python3.10/dist-packages (from requests->kaggle->opendatasets) (3.6)\n",
      "Installing collected packages: opendatasets\n",
      "Successfully installed opendatasets-0.1.22\n"
     ]
    }
   ],
   "source": [
    "#pip install opendatasets"
   ]
  },
  {
   "cell_type": "code",
   "execution_count": null,
   "metadata": {
    "id": "zar1AL_anMiQ"
   },
   "outputs": [],
   "source": [
    "#pip install xgboost"
   ]
  },
  {
   "cell_type": "code",
   "execution_count": 4,
   "metadata": {
    "id": "eual6F6UXuwA"
   },
   "outputs": [],
   "source": [
    "import xgboost as xgb\n",
    "import opendatasets as od\n",
    "import pandas as pd\n",
    "from sklearn.model_selection import train_test_split\n",
    "from sklearn.metrics import accuracy_score, f1_score"
   ]
  },
  {
   "cell_type": "code",
   "execution_count": 5,
   "metadata": {
    "colab": {
     "base_uri": "https://localhost:8080/"
    },
    "id": "kQ8jjI9ecKlR",
    "outputId": "9de68501-e13a-4f14-fa3b-dd4ebf2b24e2"
   },
   "outputs": [
    {
     "name": "stdout",
     "output_type": "stream",
     "text": [
      "Please provide your Kaggle credentials to download this dataset. Learn more: http://bit.ly/kaggle-creds\n",
      "Your Kaggle username: samanvithabayaneni9\n",
      "Your Kaggle Key: ··········\n",
      "Downloading weather-dataset-rattle-package.zip to ./weather-dataset-rattle-package\n"
     ]
    },
    {
     "name": "stderr",
     "output_type": "stream",
     "text": [
      "100%|██████████| 3.83M/3.83M [00:00<00:00, 137MB/s]"
     ]
    },
    {
     "name": "stdout",
     "output_type": "stream",
     "text": [
      "\n"
     ]
    },
    {
     "name": "stderr",
     "output_type": "stream",
     "text": [
      "\n"
     ]
    }
   ],
   "source": [
    "od.download('https://www.kaggle.com/datasets/jsphyg/weather-dataset-rattle-package')"
   ]
  },
  {
   "cell_type": "markdown",
   "metadata": {
    "id": "B3FbgpJjq9BN"
   },
   "source": [
    "## Load the Data"
   ]
  },
  {
   "cell_type": "code",
   "execution_count": 6,
   "metadata": {
    "id": "RRZATY1hWYR3"
   },
   "outputs": [],
   "source": [
    "df = pd.read_csv('weather-dataset-rattle-package/weatherAUS.csv')"
   ]
  },
  {
   "cell_type": "code",
   "execution_count": 11,
   "metadata": {
    "colab": {
     "base_uri": "https://localhost:8080/"
    },
    "id": "ID3OVBeHpJ0S",
    "outputId": "95d136c1-b5b4-43f5-c47a-79241525a48b"
   },
   "outputs": [
    {
     "name": "stdout",
     "output_type": "stream",
     "text": [
      "<class 'pandas.core.frame.DataFrame'>\n",
      "RangeIndex: 145460 entries, 0 to 145459\n",
      "Data columns (total 23 columns):\n",
      " #   Column         Non-Null Count   Dtype  \n",
      "---  ------         --------------   -----  \n",
      " 0   Date           145460 non-null  object \n",
      " 1   Location       145460 non-null  object \n",
      " 2   MinTemp        143975 non-null  float64\n",
      " 3   MaxTemp        144199 non-null  float64\n",
      " 4   Rainfall       142199 non-null  float64\n",
      " 5   Evaporation    82670 non-null   float64\n",
      " 6   Sunshine       75625 non-null   float64\n",
      " 7   WindGustDir    135134 non-null  object \n",
      " 8   WindGustSpeed  135197 non-null  float64\n",
      " 9   WindDir9am     134894 non-null  object \n",
      " 10  WindDir3pm     141232 non-null  object \n",
      " 11  WindSpeed9am   143693 non-null  float64\n",
      " 12  WindSpeed3pm   142398 non-null  float64\n",
      " 13  Humidity9am    142806 non-null  float64\n",
      " 14  Humidity3pm    140953 non-null  float64\n",
      " 15  Pressure9am    130395 non-null  float64\n",
      " 16  Pressure3pm    130432 non-null  float64\n",
      " 17  Cloud9am       89572 non-null   float64\n",
      " 18  Cloud3pm       86102 non-null   float64\n",
      " 19  Temp9am        143693 non-null  float64\n",
      " 20  Temp3pm        141851 non-null  float64\n",
      " 21  RainToday      142199 non-null  object \n",
      " 22  RainTomorrow   142193 non-null  object \n",
      "dtypes: float64(16), object(7)\n",
      "memory usage: 25.5+ MB\n"
     ]
    }
   ],
   "source": [
    "df.info()"
   ]
  },
  {
   "cell_type": "code",
   "execution_count": 17,
   "metadata": {
    "colab": {
     "base_uri": "https://localhost:8080/"
    },
    "id": "Tpr2FoyzpNLJ",
    "outputId": "d66c49ea-85c5-482e-c08a-5cb4fbe97181"
   },
   "outputs": [
    {
     "data": {
      "text/plain": [
       "Date                 0\n",
       "Location             0\n",
       "MinTemp            637\n",
       "MaxTemp            322\n",
       "Rainfall          1406\n",
       "Evaporation      60843\n",
       "Sunshine         67816\n",
       "WindGustDir       9330\n",
       "WindGustSpeed     9270\n",
       "WindDir9am       10013\n",
       "WindDir3pm        3778\n",
       "WindSpeed9am      1348\n",
       "WindSpeed3pm      2630\n",
       "Humidity9am       1774\n",
       "Humidity3pm       3610\n",
       "Pressure9am      14014\n",
       "Pressure3pm      13981\n",
       "Cloud9am         53657\n",
       "Cloud3pm         57094\n",
       "Temp9am            904\n",
       "Temp3pm           2726\n",
       "RainToday         1406\n",
       "RainTomorrow         0\n",
       "dtype: int64"
      ]
     },
     "execution_count": 17,
     "metadata": {},
     "output_type": "execute_result"
    }
   ],
   "source": [
    "df.isna().sum()"
   ]
  },
  {
   "cell_type": "markdown",
   "metadata": {
    "id": "7PE2lA2XrAN-"
   },
   "source": [
    "## Clean the Data"
   ]
  },
  {
   "cell_type": "code",
   "execution_count": 12,
   "metadata": {
    "id": "QEIkU_FuYgIC"
   },
   "outputs": [],
   "source": [
    "df.dropna(subset=['RainTomorrow'], inplace=True)"
   ]
  },
  {
   "cell_type": "code",
   "execution_count": 18,
   "metadata": {
    "id": "cWQmoBAgccqj"
   },
   "outputs": [],
   "source": [
    "df.dropna(subset=['RainToday'], inplace=True)"
   ]
  },
  {
   "cell_type": "markdown",
   "metadata": {
    "id": "5vSyF_wyrB8l"
   },
   "source": [
    "## Feature Engineering"
   ]
  },
  {
   "cell_type": "code",
   "execution_count": null,
   "metadata": {
    "id": "Y8lqWdNbp_I2"
   },
   "outputs": [],
   "source": [
    "df['Date'] = pd.to_datetime(df['Date'])\n",
    "df['Day'] = df.Date.dt.day\n",
    "df['Month'] = df.Date.dt.month\n",
    "df['Year'] = df.Date.dt.year\n",
    "df.drop('Date',axis=1,inplace=True)"
   ]
  },
  {
   "cell_type": "markdown",
   "metadata": {
    "id": "EVyQM28crE3a"
   },
   "source": [
    "## Data Analysis & Visualization"
   ]
  },
  {
   "cell_type": "code",
   "execution_count": 126,
   "metadata": {
    "id": "Q7pVWKVbdRfi"
   },
   "outputs": [],
   "source": [
    "import seaborn as sns"
   ]
  },
  {
   "cell_type": "code",
   "execution_count": 69,
   "metadata": {
    "id": "rBEk2j1RxA0O"
   },
   "outputs": [],
   "source": [
    "import matplotlib.pyplot as plt"
   ]
  },
  {
   "cell_type": "code",
   "execution_count": 73,
   "metadata": {
    "id": "ATizwjMCxK4T"
   },
   "outputs": [],
   "source": [
    "#numerics"
   ]
  },
  {
   "cell_type": "code",
   "execution_count": 72,
   "metadata": {
    "colab": {
     "base_uri": "https://localhost:8080/",
     "height": 444
    },
    "id": "ee6NzYRaxJ9V",
    "outputId": "f290cf01-290f-4026-fd88-5723d199023a"
   },
   "outputs": [
    {
     "data": {
      "application/vnd.google.colaboratory.intrinsic+json": {
       "type": "dataframe"
      },
      "text/html": [
       "\n",
       "  <div id=\"df-1124ec2a-bf08-443c-8132-cb4cd00df729\" class=\"colab-df-container\">\n",
       "    <div>\n",
       "<style scoped>\n",
       "    .dataframe tbody tr th:only-of-type {\n",
       "        vertical-align: middle;\n",
       "    }\n",
       "\n",
       "    .dataframe tbody tr th {\n",
       "        vertical-align: top;\n",
       "    }\n",
       "\n",
       "    .dataframe thead th {\n",
       "        text-align: right;\n",
       "    }\n",
       "</style>\n",
       "<table border=\"1\" class=\"dataframe\">\n",
       "  <thead>\n",
       "    <tr style=\"text-align: right;\">\n",
       "      <th></th>\n",
       "      <th>MinTemp</th>\n",
       "      <th>MaxTemp</th>\n",
       "      <th>Rainfall</th>\n",
       "      <th>Evaporation</th>\n",
       "      <th>Sunshine</th>\n",
       "      <th>WindGustSpeed</th>\n",
       "      <th>WindSpeed9am</th>\n",
       "      <th>WindSpeed3pm</th>\n",
       "      <th>Humidity9am</th>\n",
       "      <th>Humidity3pm</th>\n",
       "      <th>Pressure9am</th>\n",
       "      <th>Pressure3pm</th>\n",
       "      <th>Cloud9am</th>\n",
       "      <th>Cloud3pm</th>\n",
       "      <th>Temp9am</th>\n",
       "      <th>Temp3pm</th>\n",
       "      <th>Day</th>\n",
       "      <th>Month</th>\n",
       "      <th>Year</th>\n",
       "    </tr>\n",
       "  </thead>\n",
       "  <tbody>\n",
       "    <tr>\n",
       "      <th>0</th>\n",
       "      <td>13.4</td>\n",
       "      <td>22.9</td>\n",
       "      <td>0.6</td>\n",
       "      <td>NaN</td>\n",
       "      <td>NaN</td>\n",
       "      <td>44.0</td>\n",
       "      <td>20.0</td>\n",
       "      <td>24.0</td>\n",
       "      <td>71.0</td>\n",
       "      <td>22.0</td>\n",
       "      <td>1007.7</td>\n",
       "      <td>1007.1</td>\n",
       "      <td>8.0</td>\n",
       "      <td>NaN</td>\n",
       "      <td>16.9</td>\n",
       "      <td>21.8</td>\n",
       "      <td>1</td>\n",
       "      <td>12</td>\n",
       "      <td>2008</td>\n",
       "    </tr>\n",
       "    <tr>\n",
       "      <th>1</th>\n",
       "      <td>7.4</td>\n",
       "      <td>25.1</td>\n",
       "      <td>0.0</td>\n",
       "      <td>NaN</td>\n",
       "      <td>NaN</td>\n",
       "      <td>44.0</td>\n",
       "      <td>4.0</td>\n",
       "      <td>22.0</td>\n",
       "      <td>44.0</td>\n",
       "      <td>25.0</td>\n",
       "      <td>1010.6</td>\n",
       "      <td>1007.8</td>\n",
       "      <td>NaN</td>\n",
       "      <td>NaN</td>\n",
       "      <td>17.2</td>\n",
       "      <td>24.3</td>\n",
       "      <td>2</td>\n",
       "      <td>12</td>\n",
       "      <td>2008</td>\n",
       "    </tr>\n",
       "    <tr>\n",
       "      <th>2</th>\n",
       "      <td>12.9</td>\n",
       "      <td>25.7</td>\n",
       "      <td>0.0</td>\n",
       "      <td>NaN</td>\n",
       "      <td>NaN</td>\n",
       "      <td>46.0</td>\n",
       "      <td>19.0</td>\n",
       "      <td>26.0</td>\n",
       "      <td>38.0</td>\n",
       "      <td>30.0</td>\n",
       "      <td>1007.6</td>\n",
       "      <td>1008.7</td>\n",
       "      <td>NaN</td>\n",
       "      <td>2.0</td>\n",
       "      <td>21.0</td>\n",
       "      <td>23.2</td>\n",
       "      <td>3</td>\n",
       "      <td>12</td>\n",
       "      <td>2008</td>\n",
       "    </tr>\n",
       "    <tr>\n",
       "      <th>3</th>\n",
       "      <td>9.2</td>\n",
       "      <td>28.0</td>\n",
       "      <td>0.0</td>\n",
       "      <td>NaN</td>\n",
       "      <td>NaN</td>\n",
       "      <td>24.0</td>\n",
       "      <td>11.0</td>\n",
       "      <td>9.0</td>\n",
       "      <td>45.0</td>\n",
       "      <td>16.0</td>\n",
       "      <td>1017.6</td>\n",
       "      <td>1012.8</td>\n",
       "      <td>NaN</td>\n",
       "      <td>NaN</td>\n",
       "      <td>18.1</td>\n",
       "      <td>26.5</td>\n",
       "      <td>4</td>\n",
       "      <td>12</td>\n",
       "      <td>2008</td>\n",
       "    </tr>\n",
       "    <tr>\n",
       "      <th>4</th>\n",
       "      <td>17.5</td>\n",
       "      <td>32.3</td>\n",
       "      <td>1.0</td>\n",
       "      <td>NaN</td>\n",
       "      <td>NaN</td>\n",
       "      <td>41.0</td>\n",
       "      <td>7.0</td>\n",
       "      <td>20.0</td>\n",
       "      <td>82.0</td>\n",
       "      <td>33.0</td>\n",
       "      <td>1010.8</td>\n",
       "      <td>1006.0</td>\n",
       "      <td>7.0</td>\n",
       "      <td>8.0</td>\n",
       "      <td>17.8</td>\n",
       "      <td>29.7</td>\n",
       "      <td>5</td>\n",
       "      <td>12</td>\n",
       "      <td>2008</td>\n",
       "    </tr>\n",
       "    <tr>\n",
       "      <th>...</th>\n",
       "      <td>...</td>\n",
       "      <td>...</td>\n",
       "      <td>...</td>\n",
       "      <td>...</td>\n",
       "      <td>...</td>\n",
       "      <td>...</td>\n",
       "      <td>...</td>\n",
       "      <td>...</td>\n",
       "      <td>...</td>\n",
       "      <td>...</td>\n",
       "      <td>...</td>\n",
       "      <td>...</td>\n",
       "      <td>...</td>\n",
       "      <td>...</td>\n",
       "      <td>...</td>\n",
       "      <td>...</td>\n",
       "      <td>...</td>\n",
       "      <td>...</td>\n",
       "      <td>...</td>\n",
       "    </tr>\n",
       "    <tr>\n",
       "      <th>145454</th>\n",
       "      <td>3.5</td>\n",
       "      <td>21.8</td>\n",
       "      <td>0.0</td>\n",
       "      <td>NaN</td>\n",
       "      <td>NaN</td>\n",
       "      <td>31.0</td>\n",
       "      <td>15.0</td>\n",
       "      <td>13.0</td>\n",
       "      <td>59.0</td>\n",
       "      <td>27.0</td>\n",
       "      <td>1024.7</td>\n",
       "      <td>1021.2</td>\n",
       "      <td>NaN</td>\n",
       "      <td>NaN</td>\n",
       "      <td>9.4</td>\n",
       "      <td>20.9</td>\n",
       "      <td>20</td>\n",
       "      <td>6</td>\n",
       "      <td>2017</td>\n",
       "    </tr>\n",
       "    <tr>\n",
       "      <th>145455</th>\n",
       "      <td>2.8</td>\n",
       "      <td>23.4</td>\n",
       "      <td>0.0</td>\n",
       "      <td>NaN</td>\n",
       "      <td>NaN</td>\n",
       "      <td>31.0</td>\n",
       "      <td>13.0</td>\n",
       "      <td>11.0</td>\n",
       "      <td>51.0</td>\n",
       "      <td>24.0</td>\n",
       "      <td>1024.6</td>\n",
       "      <td>1020.3</td>\n",
       "      <td>NaN</td>\n",
       "      <td>NaN</td>\n",
       "      <td>10.1</td>\n",
       "      <td>22.4</td>\n",
       "      <td>21</td>\n",
       "      <td>6</td>\n",
       "      <td>2017</td>\n",
       "    </tr>\n",
       "    <tr>\n",
       "      <th>145456</th>\n",
       "      <td>3.6</td>\n",
       "      <td>25.3</td>\n",
       "      <td>0.0</td>\n",
       "      <td>NaN</td>\n",
       "      <td>NaN</td>\n",
       "      <td>22.0</td>\n",
       "      <td>13.0</td>\n",
       "      <td>9.0</td>\n",
       "      <td>56.0</td>\n",
       "      <td>21.0</td>\n",
       "      <td>1023.5</td>\n",
       "      <td>1019.1</td>\n",
       "      <td>NaN</td>\n",
       "      <td>NaN</td>\n",
       "      <td>10.9</td>\n",
       "      <td>24.5</td>\n",
       "      <td>22</td>\n",
       "      <td>6</td>\n",
       "      <td>2017</td>\n",
       "    </tr>\n",
       "    <tr>\n",
       "      <th>145457</th>\n",
       "      <td>5.4</td>\n",
       "      <td>26.9</td>\n",
       "      <td>0.0</td>\n",
       "      <td>NaN</td>\n",
       "      <td>NaN</td>\n",
       "      <td>37.0</td>\n",
       "      <td>9.0</td>\n",
       "      <td>9.0</td>\n",
       "      <td>53.0</td>\n",
       "      <td>24.0</td>\n",
       "      <td>1021.0</td>\n",
       "      <td>1016.8</td>\n",
       "      <td>NaN</td>\n",
       "      <td>NaN</td>\n",
       "      <td>12.5</td>\n",
       "      <td>26.1</td>\n",
       "      <td>23</td>\n",
       "      <td>6</td>\n",
       "      <td>2017</td>\n",
       "    </tr>\n",
       "    <tr>\n",
       "      <th>145458</th>\n",
       "      <td>7.8</td>\n",
       "      <td>27.0</td>\n",
       "      <td>0.0</td>\n",
       "      <td>NaN</td>\n",
       "      <td>NaN</td>\n",
       "      <td>28.0</td>\n",
       "      <td>13.0</td>\n",
       "      <td>7.0</td>\n",
       "      <td>51.0</td>\n",
       "      <td>24.0</td>\n",
       "      <td>1019.4</td>\n",
       "      <td>1016.5</td>\n",
       "      <td>3.0</td>\n",
       "      <td>2.0</td>\n",
       "      <td>15.1</td>\n",
       "      <td>26.0</td>\n",
       "      <td>24</td>\n",
       "      <td>6</td>\n",
       "      <td>2017</td>\n",
       "    </tr>\n",
       "  </tbody>\n",
       "</table>\n",
       "<p>140787 rows × 19 columns</p>\n",
       "</div>\n",
       "    <div class=\"colab-df-buttons\">\n",
       "\n",
       "  <div class=\"colab-df-container\">\n",
       "    <button class=\"colab-df-convert\" onclick=\"convertToInteractive('df-1124ec2a-bf08-443c-8132-cb4cd00df729')\"\n",
       "            title=\"Convert this dataframe to an interactive table.\"\n",
       "            style=\"display:none;\">\n",
       "\n",
       "  <svg xmlns=\"http://www.w3.org/2000/svg\" height=\"24px\" viewBox=\"0 -960 960 960\">\n",
       "    <path d=\"M120-120v-720h720v720H120Zm60-500h600v-160H180v160Zm220 220h160v-160H400v160Zm0 220h160v-160H400v160ZM180-400h160v-160H180v160Zm440 0h160v-160H620v160ZM180-180h160v-160H180v160Zm440 0h160v-160H620v160Z\"/>\n",
       "  </svg>\n",
       "    </button>\n",
       "\n",
       "  <style>\n",
       "    .colab-df-container {\n",
       "      display:flex;\n",
       "      gap: 12px;\n",
       "    }\n",
       "\n",
       "    .colab-df-convert {\n",
       "      background-color: #E8F0FE;\n",
       "      border: none;\n",
       "      border-radius: 50%;\n",
       "      cursor: pointer;\n",
       "      display: none;\n",
       "      fill: #1967D2;\n",
       "      height: 32px;\n",
       "      padding: 0 0 0 0;\n",
       "      width: 32px;\n",
       "    }\n",
       "\n",
       "    .colab-df-convert:hover {\n",
       "      background-color: #E2EBFA;\n",
       "      box-shadow: 0px 1px 2px rgba(60, 64, 67, 0.3), 0px 1px 3px 1px rgba(60, 64, 67, 0.15);\n",
       "      fill: #174EA6;\n",
       "    }\n",
       "\n",
       "    .colab-df-buttons div {\n",
       "      margin-bottom: 4px;\n",
       "    }\n",
       "\n",
       "    [theme=dark] .colab-df-convert {\n",
       "      background-color: #3B4455;\n",
       "      fill: #D2E3FC;\n",
       "    }\n",
       "\n",
       "    [theme=dark] .colab-df-convert:hover {\n",
       "      background-color: #434B5C;\n",
       "      box-shadow: 0px 1px 3px 1px rgba(0, 0, 0, 0.15);\n",
       "      filter: drop-shadow(0px 1px 2px rgba(0, 0, 0, 0.3));\n",
       "      fill: #FFFFFF;\n",
       "    }\n",
       "  </style>\n",
       "\n",
       "    <script>\n",
       "      const buttonEl =\n",
       "        document.querySelector('#df-1124ec2a-bf08-443c-8132-cb4cd00df729 button.colab-df-convert');\n",
       "      buttonEl.style.display =\n",
       "        google.colab.kernel.accessAllowed ? 'block' : 'none';\n",
       "\n",
       "      async function convertToInteractive(key) {\n",
       "        const element = document.querySelector('#df-1124ec2a-bf08-443c-8132-cb4cd00df729');\n",
       "        const dataTable =\n",
       "          await google.colab.kernel.invokeFunction('convertToInteractive',\n",
       "                                                    [key], {});\n",
       "        if (!dataTable) return;\n",
       "\n",
       "        const docLinkHtml = 'Like what you see? Visit the ' +\n",
       "          '<a target=\"_blank\" href=https://colab.research.google.com/notebooks/data_table.ipynb>data table notebook</a>'\n",
       "          + ' to learn more about interactive tables.';\n",
       "        element.innerHTML = '';\n",
       "        dataTable['output_type'] = 'display_data';\n",
       "        await google.colab.output.renderOutput(dataTable, element);\n",
       "        const docLink = document.createElement('div');\n",
       "        docLink.innerHTML = docLinkHtml;\n",
       "        element.appendChild(docLink);\n",
       "      }\n",
       "    </script>\n",
       "  </div>\n",
       "\n",
       "\n",
       "<div id=\"df-d255d4a6-f5b1-4805-aae5-3c84f5727e14\">\n",
       "  <button class=\"colab-df-quickchart\" onclick=\"quickchart('df-d255d4a6-f5b1-4805-aae5-3c84f5727e14')\"\n",
       "            title=\"Suggest charts\"\n",
       "            style=\"display:none;\">\n",
       "\n",
       "<svg xmlns=\"http://www.w3.org/2000/svg\" height=\"24px\"viewBox=\"0 0 24 24\"\n",
       "     width=\"24px\">\n",
       "    <g>\n",
       "        <path d=\"M19 3H5c-1.1 0-2 .9-2 2v14c0 1.1.9 2 2 2h14c1.1 0 2-.9 2-2V5c0-1.1-.9-2-2-2zM9 17H7v-7h2v7zm4 0h-2V7h2v10zm4 0h-2v-4h2v4z\"/>\n",
       "    </g>\n",
       "</svg>\n",
       "  </button>\n",
       "\n",
       "<style>\n",
       "  .colab-df-quickchart {\n",
       "      --bg-color: #E8F0FE;\n",
       "      --fill-color: #1967D2;\n",
       "      --hover-bg-color: #E2EBFA;\n",
       "      --hover-fill-color: #174EA6;\n",
       "      --disabled-fill-color: #AAA;\n",
       "      --disabled-bg-color: #DDD;\n",
       "  }\n",
       "\n",
       "  [theme=dark] .colab-df-quickchart {\n",
       "      --bg-color: #3B4455;\n",
       "      --fill-color: #D2E3FC;\n",
       "      --hover-bg-color: #434B5C;\n",
       "      --hover-fill-color: #FFFFFF;\n",
       "      --disabled-bg-color: #3B4455;\n",
       "      --disabled-fill-color: #666;\n",
       "  }\n",
       "\n",
       "  .colab-df-quickchart {\n",
       "    background-color: var(--bg-color);\n",
       "    border: none;\n",
       "    border-radius: 50%;\n",
       "    cursor: pointer;\n",
       "    display: none;\n",
       "    fill: var(--fill-color);\n",
       "    height: 32px;\n",
       "    padding: 0;\n",
       "    width: 32px;\n",
       "  }\n",
       "\n",
       "  .colab-df-quickchart:hover {\n",
       "    background-color: var(--hover-bg-color);\n",
       "    box-shadow: 0 1px 2px rgba(60, 64, 67, 0.3), 0 1px 3px 1px rgba(60, 64, 67, 0.15);\n",
       "    fill: var(--button-hover-fill-color);\n",
       "  }\n",
       "\n",
       "  .colab-df-quickchart-complete:disabled,\n",
       "  .colab-df-quickchart-complete:disabled:hover {\n",
       "    background-color: var(--disabled-bg-color);\n",
       "    fill: var(--disabled-fill-color);\n",
       "    box-shadow: none;\n",
       "  }\n",
       "\n",
       "  .colab-df-spinner {\n",
       "    border: 2px solid var(--fill-color);\n",
       "    border-color: transparent;\n",
       "    border-bottom-color: var(--fill-color);\n",
       "    animation:\n",
       "      spin 1s steps(1) infinite;\n",
       "  }\n",
       "\n",
       "  @keyframes spin {\n",
       "    0% {\n",
       "      border-color: transparent;\n",
       "      border-bottom-color: var(--fill-color);\n",
       "      border-left-color: var(--fill-color);\n",
       "    }\n",
       "    20% {\n",
       "      border-color: transparent;\n",
       "      border-left-color: var(--fill-color);\n",
       "      border-top-color: var(--fill-color);\n",
       "    }\n",
       "    30% {\n",
       "      border-color: transparent;\n",
       "      border-left-color: var(--fill-color);\n",
       "      border-top-color: var(--fill-color);\n",
       "      border-right-color: var(--fill-color);\n",
       "    }\n",
       "    40% {\n",
       "      border-color: transparent;\n",
       "      border-right-color: var(--fill-color);\n",
       "      border-top-color: var(--fill-color);\n",
       "    }\n",
       "    60% {\n",
       "      border-color: transparent;\n",
       "      border-right-color: var(--fill-color);\n",
       "    }\n",
       "    80% {\n",
       "      border-color: transparent;\n",
       "      border-right-color: var(--fill-color);\n",
       "      border-bottom-color: var(--fill-color);\n",
       "    }\n",
       "    90% {\n",
       "      border-color: transparent;\n",
       "      border-bottom-color: var(--fill-color);\n",
       "    }\n",
       "  }\n",
       "</style>\n",
       "\n",
       "  <script>\n",
       "    async function quickchart(key) {\n",
       "      const quickchartButtonEl =\n",
       "        document.querySelector('#' + key + ' button');\n",
       "      quickchartButtonEl.disabled = true;  // To prevent multiple clicks.\n",
       "      quickchartButtonEl.classList.add('colab-df-spinner');\n",
       "      try {\n",
       "        const charts = await google.colab.kernel.invokeFunction(\n",
       "            'suggestCharts', [key], {});\n",
       "      } catch (error) {\n",
       "        console.error('Error during call to suggestCharts:', error);\n",
       "      }\n",
       "      quickchartButtonEl.classList.remove('colab-df-spinner');\n",
       "      quickchartButtonEl.classList.add('colab-df-quickchart-complete');\n",
       "    }\n",
       "    (() => {\n",
       "      let quickchartButtonEl =\n",
       "        document.querySelector('#df-d255d4a6-f5b1-4805-aae5-3c84f5727e14 button');\n",
       "      quickchartButtonEl.style.display =\n",
       "        google.colab.kernel.accessAllowed ? 'block' : 'none';\n",
       "    })();\n",
       "  </script>\n",
       "</div>\n",
       "\n",
       "    </div>\n",
       "  </div>\n"
      ],
      "text/plain": [
       "        MinTemp  MaxTemp  Rainfall  Evaporation  Sunshine  WindGustSpeed  \\\n",
       "0          13.4     22.9       0.6          NaN       NaN           44.0   \n",
       "1           7.4     25.1       0.0          NaN       NaN           44.0   \n",
       "2          12.9     25.7       0.0          NaN       NaN           46.0   \n",
       "3           9.2     28.0       0.0          NaN       NaN           24.0   \n",
       "4          17.5     32.3       1.0          NaN       NaN           41.0   \n",
       "...         ...      ...       ...          ...       ...            ...   \n",
       "145454      3.5     21.8       0.0          NaN       NaN           31.0   \n",
       "145455      2.8     23.4       0.0          NaN       NaN           31.0   \n",
       "145456      3.6     25.3       0.0          NaN       NaN           22.0   \n",
       "145457      5.4     26.9       0.0          NaN       NaN           37.0   \n",
       "145458      7.8     27.0       0.0          NaN       NaN           28.0   \n",
       "\n",
       "        WindSpeed9am  WindSpeed3pm  Humidity9am  Humidity3pm  Pressure9am  \\\n",
       "0               20.0          24.0         71.0         22.0       1007.7   \n",
       "1                4.0          22.0         44.0         25.0       1010.6   \n",
       "2               19.0          26.0         38.0         30.0       1007.6   \n",
       "3               11.0           9.0         45.0         16.0       1017.6   \n",
       "4                7.0          20.0         82.0         33.0       1010.8   \n",
       "...              ...           ...          ...          ...          ...   \n",
       "145454          15.0          13.0         59.0         27.0       1024.7   \n",
       "145455          13.0          11.0         51.0         24.0       1024.6   \n",
       "145456          13.0           9.0         56.0         21.0       1023.5   \n",
       "145457           9.0           9.0         53.0         24.0       1021.0   \n",
       "145458          13.0           7.0         51.0         24.0       1019.4   \n",
       "\n",
       "        Pressure3pm  Cloud9am  Cloud3pm  Temp9am  Temp3pm  Day  Month  Year  \n",
       "0            1007.1       8.0       NaN     16.9     21.8    1     12  2008  \n",
       "1            1007.8       NaN       NaN     17.2     24.3    2     12  2008  \n",
       "2            1008.7       NaN       2.0     21.0     23.2    3     12  2008  \n",
       "3            1012.8       NaN       NaN     18.1     26.5    4     12  2008  \n",
       "4            1006.0       7.0       8.0     17.8     29.7    5     12  2008  \n",
       "...             ...       ...       ...      ...      ...  ...    ...   ...  \n",
       "145454       1021.2       NaN       NaN      9.4     20.9   20      6  2017  \n",
       "145455       1020.3       NaN       NaN     10.1     22.4   21      6  2017  \n",
       "145456       1019.1       NaN       NaN     10.9     24.5   22      6  2017  \n",
       "145457       1016.8       NaN       NaN     12.5     26.1   23      6  2017  \n",
       "145458       1016.5       3.0       2.0     15.1     26.0   24      6  2017  \n",
       "\n",
       "[140787 rows x 19 columns]"
      ]
     },
     "execution_count": 72,
     "metadata": {},
     "output_type": "execute_result"
    }
   ],
   "source": [
    "#df[numerics]"
   ]
  },
  {
   "cell_type": "code",
   "execution_count": 76,
   "metadata": {
    "colab": {
     "base_uri": "https://localhost:8080/"
    },
    "id": "MMLNs1pAxTf9",
    "outputId": "06cd647f-7bd0-46ee-da2b-b1edd3ffa36f"
   },
   "outputs": [
    {
     "data": {
      "text/plain": [
       "Index(['MinTemp', 'MaxTemp', 'Rainfall', 'Evaporation', 'Sunshine',\n",
       "       'WindGustSpeed', 'WindSpeed9am', 'WindSpeed3pm', 'Humidity9am',\n",
       "       'Humidity3pm', 'Pressure9am', 'Pressure3pm', 'Cloud9am', 'Cloud3pm',\n",
       "       'Temp9am', 'Temp3pm', 'Day', 'Month', 'Year'],\n",
       "      dtype='object')"
      ]
     },
     "execution_count": 76,
     "metadata": {},
     "output_type": "execute_result"
    }
   ],
   "source": [
    "df[numerics].columns"
   ]
  },
  {
   "cell_type": "code",
   "execution_count": 80,
   "metadata": {
    "colab": {
     "base_uri": "https://localhost:8080/"
    },
    "id": "IIriai6LxjFw",
    "outputId": "7c4f11fc-6857-4b47-9e38-0ee99b94db51"
   },
   "outputs": [
    {
     "data": {
      "text/plain": [
       "33.9"
      ]
     },
     "execution_count": 80,
     "metadata": {},
     "output_type": "execute_result"
    }
   ],
   "source": [
    "df.MinTemp.max()"
   ]
  },
  {
   "cell_type": "code",
   "execution_count": 94,
   "metadata": {
    "colab": {
     "base_uri": "https://localhost:8080/",
     "height": 540
    },
    "id": "DNPRY9AWyDjM",
    "outputId": "52760cb1-9c2f-4c8a-f647-331e9a603851"
   },
   "outputs": [
    {
     "data": {
      "text/plain": [
       "<Axes: >"
      ]
     },
     "execution_count": 94,
     "metadata": {},
     "output_type": "execute_result"
    },
    {
     "data": {
      "image/png": "[encoded data removed]",
      "text/plain": [
       "<Figure size 800x600 with 1 Axes>"
      ]
     },
     "metadata": {},
     "output_type": "display_data"
    }
   ],
   "source": [
    "plt.figure(figsize=(8,6))\n",
    "sns.boxplot(df[numerics])\n"
   ]
  },
  {
   "cell_type": "code",
   "execution_count": null,
   "metadata": {
    "id": "nXKkS-Z5yXPx"
   },
   "outputs": [],
   "source": []
  },
  {
   "cell_type": "code",
   "execution_count": 92,
   "metadata": {
    "id": "n87DXx10yKOd"
   },
   "outputs": [],
   "source": [
    "# for i in df[numerics].columns:\n",
    "#   print(sns.boxplot(df[i]))"
   ]
  },
  {
   "cell_type": "code",
   "execution_count": 85,
   "metadata": {
    "colab": {
     "base_uri": "https://localhost:8080/",
     "height": 411
    },
    "id": "RAL1P_77xudv",
    "outputId": "8be4344e-3383-4e2d-a9aa-3449912f5810"
   },
   "outputs": [
    {
     "data": {
      "image/png": "[encoded data removed]",
      "text/plain": [
       "<Figure size 640x480 with 1 Axes>"
      ]
     },
     "metadata": {},
     "output_type": "display_data"
    }
   ],
   "source": [
    "sns.boxplot(df['MinTemp']);"
   ]
  },
  {
   "cell_type": "code",
   "execution_count": 82,
   "metadata": {
    "colab": {
     "base_uri": "https://localhost:8080/"
    },
    "id": "StaoTS6hxzbK",
    "outputId": "9ffeeb24-ffa5-4cbe-8414-17d2189e1990"
   },
   "outputs": [
    {
     "data": {
      "text/plain": [
       "-8.5"
      ]
     },
     "execution_count": 82,
     "metadata": {},
     "output_type": "execute_result"
    }
   ],
   "source": [
    "df['MinTemp'].min()"
   ]
  },
  {
   "cell_type": "code",
   "execution_count": 83,
   "metadata": {
    "colab": {
     "base_uri": "https://localhost:8080/"
    },
    "id": "F81LdGE_x1jm",
    "outputId": "36c9aa73-4e0f-4d19-eb52-d06d4fcb43e3"
   },
   "outputs": [
    {
     "data": {
      "text/plain": [
       "33.9"
      ]
     },
     "execution_count": 83,
     "metadata": {},
     "output_type": "execute_result"
    }
   ],
   "source": [
    "df['MinTemp'].max()"
   ]
  },
  {
   "cell_type": "code",
   "execution_count": 84,
   "metadata": {
    "id": "nW0vpElTxCuO"
   },
   "outputs": [],
   "source": [
    "#plt.boxplot(df['MinTemp']);"
   ]
  },
  {
   "cell_type": "code",
   "execution_count": 19,
   "metadata": {
    "colab": {
     "base_uri": "https://localhost:8080/",
     "height": 701
    },
    "id": "JqkIWtj0ngfH",
    "outputId": "0d6eb773-56c4-47ed-cab3-5334c8520f45"
   },
   "outputs": [
    {
     "name": "stderr",
     "output_type": "stream",
     "text": [
      "<ipython-input-19-2f6f6606aa2c>:1: FutureWarning: The default value of numeric_only in DataFrame.corr is deprecated. In a future version, it will default to False. Select only valid columns or specify the value of numeric_only to silence this warning.\n",
      "  df.corr()\n"
     ]
    },
    {
     "data": {
      "application/vnd.google.colaboratory.intrinsic+json": {
       "summary": "{\n  \"name\": \"df\",\n  \"rows\": 19,\n  \"fields\": [\n    {\n      \"column\": \"MinTemp\",\n      \"properties\": {\n        \"dtype\": \"number\",\n        \"std\": 0.4170108708546609,\n        \"min\": -0.46209884205512214,\n        \"max\": 1.0,\n        \"num_unique_values\": 19,\n        \"samples\": [\n          1.0,\n          0.17792704550658336,\n          -0.46209884205512214\n        ],\n        \"semantic_type\": \"\",\n        \"description\": \"\"\n      }\n    },\n    {\n      \"column\": \"MaxTemp\",\n      \"properties\": {\n        \"dtype\": \"number\",\n        \"std\": 0.5059847647130449,\n        \"min\": -0.5099156334433067,\n        \"max\": 1.0,\n        \"num_unique_values\": 19,\n        \"samples\": [\n          0.7360146740729194,\n          0.06850999124478459,\n          -0.4270694949975677\n        ],\n        \"semantic_type\": \"\",\n        \"description\": \"\"\n      }\n    },\n    {\n      \"column\": \"Rainfall\",\n      \"properties\": {\n        \"dtype\": \"number\",\n        \"std\": 0.2607983424164993,\n        \"min\": -0.22752479637389825,\n        \"max\": 1.0,\n        \"num_unique_values\": 19,\n        \"samples\": [\n          0.10425481706100742,\n          0.1334969406636095,\n          -0.12672839162887417\n        ],\n        \"semantic_type\": \"\",\n        \"description\": \"\"\n      }\n    },\n    {\n      \"column\": \"Evaporation\",\n      \"properties\": {\n        \"dtype\": \"number\",\n        \"std\": 0.39529871471393907,\n        \"min\": -0.5060549314186245,\n        \"max\": 1.0,\n        \"num_unique_values\": 19,\n        \"samples\": [\n          0.46714681222020343,\n          0.2033955737037001,\n          -0.2930978013487401\n        ],\n        \"semantic_type\": \"\",\n        \"description\": \"\"\n      }\n    },\n    {\n      \"column\": \"Sunshine\",\n      \"properties\": {\n        \"dtype\": \"number\",\n        \"std\": 0.4306044619165309,\n        \"min\": -0.7046211303126346,\n        \"max\": 1.0,\n        \"num_unique_values\": 19,\n        \"samples\": [\n          0.07307847901888673,\n          -0.03219562874240413,\n          -0.02027645536082237\n        ],\n        \"semantic_type\": \"\",\n        \"description\": \"\"\n      }\n    },\n    {\n      \"column\": \"WindGustSpeed\",\n      \"properties\": {\n        \"dtype\": \"number\",\n        \"std\": 0.34732713022361333,\n        \"min\": -0.4577098626969276,\n        \"max\": 1.0,\n        \"num_unique_values\": 19,\n        \"samples\": [\n          0.17792704550658336,\n          1.0,\n          -0.41287934439418605\n        ],\n        \"semantic_type\": \"\",\n        \"description\": \"\"\n      }\n    },\n    {\n      \"column\": \"WindSpeed9am\",\n      \"properties\": {\n        \"dtype\": \"number\",\n        \"std\": 0.3030305563927317,\n        \"min\": -0.27056358653796564,\n        \"max\": 1.0,\n        \"num_unique_values\": 19,\n        \"samples\": [\n          0.17577508283347643,\n          0.6045126255994231,\n          -0.17449737013224925\n        ],\n        \"semantic_type\": \"\",\n        \"description\": \"\"\n      }\n    },\n    {\n      \"column\": \"WindSpeed3pm\",\n      \"properties\": {\n        \"dtype\": \"number\",\n        \"std\": 0.31037154604775163,\n        \"min\": -0.2952070174378567,\n        \"max\": 1.0,\n        \"num_unique_values\": 19,\n        \"samples\": [\n          0.17583513739266635,\n          0.686881124748529,\n          -0.25495055811531\n        ],\n        \"semantic_type\": \"\",\n        \"description\": \"\"\n      }\n    },\n    {\n      \"column\": \"Humidity9am\",\n      \"properties\": {\n        \"dtype\": \"number\",\n        \"std\": 0.42879756356069526,\n        \"min\": -0.5061085796074933,\n        \"max\": 1.0,\n        \"num_unique_values\": 19,\n        \"samples\": [\n          -0.23444132223549333,\n          -0.21511709732400047,\n          0.18651468712191221\n        ],\n        \"semantic_type\": \"\",\n        \"description\": \"\"\n      }\n    },\n    {\n      \"column\": \"Humidity3pm\",\n      \"properties\": {\n        \"dtype\": \"number\",\n        \"std\": 0.4223490026286311,\n        \"min\": -0.6296383705353594,\n        \"max\": 1.0,\n        \"num_unique_values\": 19,\n        \"samples\": [\n          0.005686429252069159,\n          -0.026631126098816543,\n          0.0512437760176723\n        ],\n        \"semantic_type\": \"\",\n        \"description\": \"\"\n      }\n    },\n    {\n      \"column\": \"Pressure9am\",\n      \"properties\": {\n        \"dtype\": \"number\",\n        \"std\": 0.40528635238481286,\n        \"min\": -0.4577098626969276,\n        \"max\": 1.0,\n        \"num_unique_values\": 19,\n        \"samples\": [\n          -0.4514135685272441,\n          -0.4577098626969276,\n          0.9613431393658276\n        ],\n        \"semantic_type\": \"\",\n        \"description\": \"\"\n      }\n    },\n    {\n      \"column\": \"Pressure3pm\",\n      \"properties\": {\n        \"dtype\": \"number\",\n        \"std\": 0.4126400268912179,\n        \"min\": -0.4703157237203296,\n        \"max\": 1.0,\n        \"num_unique_values\": 19,\n        \"samples\": [\n          -0.46209884205512214,\n          -0.41287934439418605,\n          1.0\n        ],\n        \"semantic_type\": \"\",\n        \"description\": \"\"\n      }\n    },\n    {\n      \"column\": \"Cloud9am\",\n      \"properties\": {\n        \"dtype\": \"number\",\n        \"std\": 0.3739583138177932,\n        \"min\": -0.6758463241165801,\n        \"max\": 1.0,\n        \"num_unique_values\": 19,\n        \"samples\": [\n          0.07736669162386682,\n          0.07118563355728802,\n          -0.06150394784086491\n        ],\n        \"semantic_type\": \"\",\n        \"description\": \"\"\n      }\n    },\n    {\n      \"column\": \"Cloud3pm\",\n      \"properties\": {\n        \"dtype\": \"number\",\n        \"std\": 0.3735832722599192,\n        \"min\": -0.7046211303126346,\n        \"max\": 1.0,\n        \"num_unique_values\": 19,\n        \"samples\": [\n          0.02026803947053023,\n          0.1093399893975841,\n          -0.08575273872572534\n        ],\n        \"semantic_type\": \"\",\n        \"description\": \"\"\n      }\n    },\n    {\n      \"column\": \"Temp9am\",\n      \"properties\": {\n        \"dtype\": \"number\",\n        \"std\": 0.47423718208845744,\n        \"min\": -0.47330520909179746,\n        \"max\": 1.0,\n        \"num_unique_values\": 19,\n        \"samples\": [\n          0.9018282220484986,\n          0.1505740339905426,\n          -0.4703157237203296\n        ],\n        \"semantic_type\": \"\",\n        \"description\": \"\"\n      }\n    },\n    {\n      \"column\": \"Temp3pm\",\n      \"properties\": {\n        \"dtype\": \"number\",\n        \"std\": 0.504282774506712,\n        \"min\": -0.558562184002399,\n        \"max\": 1.0,\n        \"num_unique_values\": 19,\n        \"samples\": [\n          0.7087156526143578,\n          0.03351096008006581,\n          -0.3896840606994393\n        ],\n        \"semantic_type\": \"\",\n        \"description\": \"\"\n      }\n    },\n    {\n      \"column\": \"Day\",\n      \"properties\": {\n        \"dtype\": \"number\",\n        \"std\": 0.23019412221970562,\n        \"min\": -0.021711226077122222,\n        \"max\": 1.0,\n        \"num_unique_values\": 19,\n        \"samples\": [\n          0.0010549362138250903,\n          -0.009455901556603714,\n          -0.021711226077122222\n        ],\n        \"semantic_type\": \"\",\n        \"description\": \"\"\n      }\n    },\n    {\n      \"column\": \"Month\",\n      \"properties\": {\n        \"dtype\": \"number\",\n        \"std\": 0.2527230021956711,\n        \"min\": -0.20405802453131833,\n        \"max\": 1.0,\n        \"num_unique_values\": 19,\n        \"samples\": [\n          -0.20405802453131833,\n          0.0605017362936678,\n          0.0276872658595236\n        ],\n        \"semantic_type\": \"\",\n        \"description\": \"\"\n      }\n    },\n    {\n      \"column\": \"Year\",\n      \"properties\": {\n        \"dtype\": \"number\",\n        \"std\": 0.23091679055662093,\n        \"min\": -0.11318243603523766,\n        \"max\": 1.0,\n        \"num_unique_values\": 19,\n        \"samples\": [\n          0.037466419984564694,\n          -0.03291087836621911,\n          0.0276658772202984\n        ],\n        \"semantic_type\": \"\",\n        \"description\": \"\"\n      }\n    }\n  ]\n}",
       "type": "dataframe"
      },
      "text/html": [
       "\n",
       "  <div id=\"df-30132d78-0118-4676-abf9-01e9e140b436\" class=\"colab-df-container\">\n",
       "    <div>\n",
       "<style scoped>\n",
       "    .dataframe tbody tr th:only-of-type {\n",
       "        vertical-align: middle;\n",
       "    }\n",
       "\n",
       "    .dataframe tbody tr th {\n",
       "        vertical-align: top;\n",
       "    }\n",
       "\n",
       "    .dataframe thead th {\n",
       "        text-align: right;\n",
       "    }\n",
       "</style>\n",
       "<table border=\"1\" class=\"dataframe\">\n",
       "  <thead>\n",
       "    <tr style=\"text-align: right;\">\n",
       "      <th></th>\n",
       "      <th>MinTemp</th>\n",
       "      <th>MaxTemp</th>\n",
       "      <th>Rainfall</th>\n",
       "      <th>Evaporation</th>\n",
       "      <th>Sunshine</th>\n",
       "      <th>WindGustSpeed</th>\n",
       "      <th>WindSpeed9am</th>\n",
       "      <th>WindSpeed3pm</th>\n",
       "      <th>Humidity9am</th>\n",
       "      <th>Humidity3pm</th>\n",
       "      <th>Pressure9am</th>\n",
       "      <th>Pressure3pm</th>\n",
       "      <th>Cloud9am</th>\n",
       "      <th>Cloud3pm</th>\n",
       "      <th>Temp9am</th>\n",
       "      <th>Temp3pm</th>\n",
       "      <th>Day</th>\n",
       "      <th>Month</th>\n",
       "      <th>Year</th>\n",
       "    </tr>\n",
       "  </thead>\n",
       "  <tbody>\n",
       "    <tr>\n",
       "      <th>MinTemp</th>\n",
       "      <td>1.000000</td>\n",
       "      <td>0.736015</td>\n",
       "      <td>0.104255</td>\n",
       "      <td>0.467147</td>\n",
       "      <td>0.073078</td>\n",
       "      <td>0.177927</td>\n",
       "      <td>0.175775</td>\n",
       "      <td>0.175835</td>\n",
       "      <td>-0.234441</td>\n",
       "      <td>0.005686</td>\n",
       "      <td>-0.451414</td>\n",
       "      <td>-0.462099</td>\n",
       "      <td>0.077367</td>\n",
       "      <td>0.020268</td>\n",
       "      <td>0.901828</td>\n",
       "      <td>0.708716</td>\n",
       "      <td>0.001055</td>\n",
       "      <td>-0.204058</td>\n",
       "      <td>0.037466</td>\n",
       "    </tr>\n",
       "    <tr>\n",
       "      <th>MaxTemp</th>\n",
       "      <td>0.736015</td>\n",
       "      <td>1.000000</td>\n",
       "      <td>-0.074839</td>\n",
       "      <td>0.588934</td>\n",
       "      <td>0.470221</td>\n",
       "      <td>0.068510</td>\n",
       "      <td>0.014468</td>\n",
       "      <td>0.051178</td>\n",
       "      <td>-0.506109</td>\n",
       "      <td>-0.509916</td>\n",
       "      <td>-0.331831</td>\n",
       "      <td>-0.427069</td>\n",
       "      <td>-0.290217</td>\n",
       "      <td>-0.279261</td>\n",
       "      <td>0.887038</td>\n",
       "      <td>0.984565</td>\n",
       "      <td>-0.000634</td>\n",
       "      <td>-0.164718</td>\n",
       "      <td>0.056025</td>\n",
       "    </tr>\n",
       "    <tr>\n",
       "      <th>Rainfall</th>\n",
       "      <td>0.104255</td>\n",
       "      <td>-0.074839</td>\n",
       "      <td>1.000000</td>\n",
       "      <td>-0.064549</td>\n",
       "      <td>-0.227525</td>\n",
       "      <td>0.133497</td>\n",
       "      <td>0.086816</td>\n",
       "      <td>0.057759</td>\n",
       "      <td>0.223725</td>\n",
       "      <td>0.255312</td>\n",
       "      <td>-0.168085</td>\n",
       "      <td>-0.126728</td>\n",
       "      <td>0.198195</td>\n",
       "      <td>0.171993</td>\n",
       "      <td>0.011477</td>\n",
       "      <td>-0.079178</td>\n",
       "      <td>0.001134</td>\n",
       "      <td>-0.030863</td>\n",
       "      <td>-0.009284</td>\n",
       "    </tr>\n",
       "    <tr>\n",
       "      <th>Evaporation</th>\n",
       "      <td>0.467147</td>\n",
       "      <td>0.588934</td>\n",
       "      <td>-0.064549</td>\n",
       "      <td>1.000000</td>\n",
       "      <td>0.366659</td>\n",
       "      <td>0.203396</td>\n",
       "      <td>0.194398</td>\n",
       "      <td>0.129166</td>\n",
       "      <td>-0.506055</td>\n",
       "      <td>-0.393149</td>\n",
       "      <td>-0.269850</td>\n",
       "      <td>-0.293098</td>\n",
       "      <td>-0.185211</td>\n",
       "      <td>-0.184395</td>\n",
       "      <td>0.545382</td>\n",
       "      <td>0.574311</td>\n",
       "      <td>-0.008158</td>\n",
       "      <td>-0.027765</td>\n",
       "      <td>0.084224</td>\n",
       "    </tr>\n",
       "    <tr>\n",
       "      <th>Sunshine</th>\n",
       "      <td>0.073078</td>\n",
       "      <td>0.470221</td>\n",
       "      <td>-0.227525</td>\n",
       "      <td>0.366659</td>\n",
       "      <td>1.000000</td>\n",
       "      <td>-0.032196</td>\n",
       "      <td>0.009188</td>\n",
       "      <td>0.056480</td>\n",
       "      <td>-0.492784</td>\n",
       "      <td>-0.629638</td>\n",
       "      <td>0.041071</td>\n",
       "      <td>-0.020276</td>\n",
       "      <td>-0.675846</td>\n",
       "      <td>-0.704621</td>\n",
       "      <td>0.291364</td>\n",
       "      <td>0.490386</td>\n",
       "      <td>-0.001388</td>\n",
       "      <td>0.024081</td>\n",
       "      <td>0.011846</td>\n",
       "    </tr>\n",
       "    <tr>\n",
       "      <th>WindGustSpeed</th>\n",
       "      <td>0.177927</td>\n",
       "      <td>0.068510</td>\n",
       "      <td>0.133497</td>\n",
       "      <td>0.203396</td>\n",
       "      <td>-0.032196</td>\n",
       "      <td>1.000000</td>\n",
       "      <td>0.604513</td>\n",
       "      <td>0.686881</td>\n",
       "      <td>-0.215117</td>\n",
       "      <td>-0.026631</td>\n",
       "      <td>-0.457710</td>\n",
       "      <td>-0.412879</td>\n",
       "      <td>0.071186</td>\n",
       "      <td>0.109340</td>\n",
       "      <td>0.150574</td>\n",
       "      <td>0.033511</td>\n",
       "      <td>-0.009456</td>\n",
       "      <td>0.060502</td>\n",
       "      <td>-0.032911</td>\n",
       "    </tr>\n",
       "    <tr>\n",
       "      <th>WindSpeed9am</th>\n",
       "      <td>0.175775</td>\n",
       "      <td>0.014468</td>\n",
       "      <td>0.086816</td>\n",
       "      <td>0.194398</td>\n",
       "      <td>0.009188</td>\n",
       "      <td>0.604513</td>\n",
       "      <td>1.000000</td>\n",
       "      <td>0.519980</td>\n",
       "      <td>-0.270564</td>\n",
       "      <td>-0.031638</td>\n",
       "      <td>-0.227540</td>\n",
       "      <td>-0.174497</td>\n",
       "      <td>0.024111</td>\n",
       "      <td>0.053369</td>\n",
       "      <td>0.129108</td>\n",
       "      <td>0.004878</td>\n",
       "      <td>-0.009174</td>\n",
       "      <td>0.051222</td>\n",
       "      <td>-0.022538</td>\n",
       "    </tr>\n",
       "    <tr>\n",
       "      <th>WindSpeed3pm</th>\n",
       "      <td>0.175835</td>\n",
       "      <td>0.051178</td>\n",
       "      <td>0.057759</td>\n",
       "      <td>0.129166</td>\n",
       "      <td>0.056480</td>\n",
       "      <td>0.686881</td>\n",
       "      <td>0.519980</td>\n",
       "      <td>1.000000</td>\n",
       "      <td>-0.145967</td>\n",
       "      <td>0.016011</td>\n",
       "      <td>-0.295207</td>\n",
       "      <td>-0.254951</td>\n",
       "      <td>0.052370</td>\n",
       "      <td>0.024769</td>\n",
       "      <td>0.163972</td>\n",
       "      <td>0.028845</td>\n",
       "      <td>-0.010162</td>\n",
       "      <td>0.060721</td>\n",
       "      <td>-0.033254</td>\n",
       "    </tr>\n",
       "    <tr>\n",
       "      <th>Humidity9am</th>\n",
       "      <td>-0.234441</td>\n",
       "      <td>-0.506109</td>\n",
       "      <td>0.223725</td>\n",
       "      <td>-0.506055</td>\n",
       "      <td>-0.492784</td>\n",
       "      <td>-0.215117</td>\n",
       "      <td>-0.270564</td>\n",
       "      <td>-0.145967</td>\n",
       "      <td>1.000000</td>\n",
       "      <td>0.668002</td>\n",
       "      <td>0.138916</td>\n",
       "      <td>0.186515</td>\n",
       "      <td>0.452298</td>\n",
       "      <td>0.358273</td>\n",
       "      <td>-0.473305</td>\n",
       "      <td>-0.500528</td>\n",
       "      <td>0.015408</td>\n",
       "      <td>-0.090686</td>\n",
       "      <td>0.011333</td>\n",
       "    </tr>\n",
       "    <tr>\n",
       "      <th>Humidity3pm</th>\n",
       "      <td>0.005686</td>\n",
       "      <td>-0.509916</td>\n",
       "      <td>0.255312</td>\n",
       "      <td>-0.393149</td>\n",
       "      <td>-0.629638</td>\n",
       "      <td>-0.026631</td>\n",
       "      <td>-0.031638</td>\n",
       "      <td>0.016011</td>\n",
       "      <td>0.668002</td>\n",
       "      <td>1.000000</td>\n",
       "      <td>-0.028127</td>\n",
       "      <td>0.051244</td>\n",
       "      <td>0.517394</td>\n",
       "      <td>0.523186</td>\n",
       "      <td>-0.222227</td>\n",
       "      <td>-0.558562</td>\n",
       "      <td>0.013206</td>\n",
       "      <td>-0.018231</td>\n",
       "      <td>-0.009024</td>\n",
       "    </tr>\n",
       "    <tr>\n",
       "      <th>Pressure9am</th>\n",
       "      <td>-0.451414</td>\n",
       "      <td>-0.331831</td>\n",
       "      <td>-0.168085</td>\n",
       "      <td>-0.269850</td>\n",
       "      <td>0.041071</td>\n",
       "      <td>-0.457710</td>\n",
       "      <td>-0.227540</td>\n",
       "      <td>-0.295207</td>\n",
       "      <td>0.138916</td>\n",
       "      <td>-0.028127</td>\n",
       "      <td>1.000000</td>\n",
       "      <td>0.961343</td>\n",
       "      <td>-0.130385</td>\n",
       "      <td>-0.148855</td>\n",
       "      <td>-0.422635</td>\n",
       "      <td>-0.286890</td>\n",
       "      <td>-0.021461</td>\n",
       "      <td>0.037167</td>\n",
       "      <td>0.032718</td>\n",
       "    </tr>\n",
       "    <tr>\n",
       "      <th>Pressure3pm</th>\n",
       "      <td>-0.462099</td>\n",
       "      <td>-0.427069</td>\n",
       "      <td>-0.126728</td>\n",
       "      <td>-0.293098</td>\n",
       "      <td>-0.020276</td>\n",
       "      <td>-0.412879</td>\n",
       "      <td>-0.174497</td>\n",
       "      <td>-0.254951</td>\n",
       "      <td>0.186515</td>\n",
       "      <td>0.051244</td>\n",
       "      <td>0.961343</td>\n",
       "      <td>1.000000</td>\n",
       "      <td>-0.061504</td>\n",
       "      <td>-0.085753</td>\n",
       "      <td>-0.470316</td>\n",
       "      <td>-0.389684</td>\n",
       "      <td>-0.021711</td>\n",
       "      <td>0.027687</td>\n",
       "      <td>0.027666</td>\n",
       "    </tr>\n",
       "    <tr>\n",
       "      <th>Cloud9am</th>\n",
       "      <td>0.077367</td>\n",
       "      <td>-0.290217</td>\n",
       "      <td>0.198195</td>\n",
       "      <td>-0.185211</td>\n",
       "      <td>-0.675846</td>\n",
       "      <td>0.071186</td>\n",
       "      <td>0.024111</td>\n",
       "      <td>0.052370</td>\n",
       "      <td>0.452298</td>\n",
       "      <td>0.517394</td>\n",
       "      <td>-0.130385</td>\n",
       "      <td>-0.061504</td>\n",
       "      <td>1.000000</td>\n",
       "      <td>0.604642</td>\n",
       "      <td>-0.138127</td>\n",
       "      <td>-0.302840</td>\n",
       "      <td>0.006853</td>\n",
       "      <td>-0.010176</td>\n",
       "      <td>0.062869</td>\n",
       "    </tr>\n",
       "    <tr>\n",
       "      <th>Cloud3pm</th>\n",
       "      <td>0.020268</td>\n",
       "      <td>-0.279261</td>\n",
       "      <td>0.171993</td>\n",
       "      <td>-0.184395</td>\n",
       "      <td>-0.704621</td>\n",
       "      <td>0.109340</td>\n",
       "      <td>0.053369</td>\n",
       "      <td>0.024769</td>\n",
       "      <td>0.358273</td>\n",
       "      <td>0.523186</td>\n",
       "      <td>-0.148855</td>\n",
       "      <td>-0.085753</td>\n",
       "      <td>0.604642</td>\n",
       "      <td>1.000000</td>\n",
       "      <td>-0.128150</td>\n",
       "      <td>-0.318336</td>\n",
       "      <td>-0.001019</td>\n",
       "      <td>-0.003392</td>\n",
       "      <td>0.041116</td>\n",
       "    </tr>\n",
       "    <tr>\n",
       "      <th>Temp9am</th>\n",
       "      <td>0.901828</td>\n",
       "      <td>0.887038</td>\n",
       "      <td>0.011477</td>\n",
       "      <td>0.545382</td>\n",
       "      <td>0.291364</td>\n",
       "      <td>0.150574</td>\n",
       "      <td>0.129108</td>\n",
       "      <td>0.163972</td>\n",
       "      <td>-0.473305</td>\n",
       "      <td>-0.222227</td>\n",
       "      <td>-0.422635</td>\n",
       "      <td>-0.470316</td>\n",
       "      <td>-0.138127</td>\n",
       "      <td>-0.128150</td>\n",
       "      <td>1.000000</td>\n",
       "      <td>0.860633</td>\n",
       "      <td>-0.001117</td>\n",
       "      <td>-0.136475</td>\n",
       "      <td>0.040091</td>\n",
       "    </tr>\n",
       "    <tr>\n",
       "      <th>Temp3pm</th>\n",
       "      <td>0.708716</td>\n",
       "      <td>0.984565</td>\n",
       "      <td>-0.079178</td>\n",
       "      <td>0.574311</td>\n",
       "      <td>0.490386</td>\n",
       "      <td>0.033511</td>\n",
       "      <td>0.004878</td>\n",
       "      <td>0.028845</td>\n",
       "      <td>-0.500528</td>\n",
       "      <td>-0.558562</td>\n",
       "      <td>-0.286890</td>\n",
       "      <td>-0.389684</td>\n",
       "      <td>-0.302840</td>\n",
       "      <td>-0.318336</td>\n",
       "      <td>0.860633</td>\n",
       "      <td>1.000000</td>\n",
       "      <td>-0.001717</td>\n",
       "      <td>-0.175655</td>\n",
       "      <td>0.045816</td>\n",
       "    </tr>\n",
       "    <tr>\n",
       "      <th>Day</th>\n",
       "      <td>0.001055</td>\n",
       "      <td>-0.000634</td>\n",
       "      <td>0.001134</td>\n",
       "      <td>-0.008158</td>\n",
       "      <td>-0.001388</td>\n",
       "      <td>-0.009456</td>\n",
       "      <td>-0.009174</td>\n",
       "      <td>-0.010162</td>\n",
       "      <td>0.015408</td>\n",
       "      <td>0.013206</td>\n",
       "      <td>-0.021461</td>\n",
       "      <td>-0.021711</td>\n",
       "      <td>0.006853</td>\n",
       "      <td>-0.001019</td>\n",
       "      <td>-0.001117</td>\n",
       "      <td>-0.001717</td>\n",
       "      <td>1.000000</td>\n",
       "      <td>0.009881</td>\n",
       "      <td>-0.005876</td>\n",
       "    </tr>\n",
       "    <tr>\n",
       "      <th>Month</th>\n",
       "      <td>-0.204058</td>\n",
       "      <td>-0.164718</td>\n",
       "      <td>-0.030863</td>\n",
       "      <td>-0.027765</td>\n",
       "      <td>0.024081</td>\n",
       "      <td>0.060502</td>\n",
       "      <td>0.051222</td>\n",
       "      <td>0.060721</td>\n",
       "      <td>-0.090686</td>\n",
       "      <td>-0.018231</td>\n",
       "      <td>0.037167</td>\n",
       "      <td>0.027687</td>\n",
       "      <td>-0.010176</td>\n",
       "      <td>-0.003392</td>\n",
       "      <td>-0.136475</td>\n",
       "      <td>-0.175655</td>\n",
       "      <td>0.009881</td>\n",
       "      <td>1.000000</td>\n",
       "      <td>-0.113182</td>\n",
       "    </tr>\n",
       "    <tr>\n",
       "      <th>Year</th>\n",
       "      <td>0.037466</td>\n",
       "      <td>0.056025</td>\n",
       "      <td>-0.009284</td>\n",
       "      <td>0.084224</td>\n",
       "      <td>0.011846</td>\n",
       "      <td>-0.032911</td>\n",
       "      <td>-0.022538</td>\n",
       "      <td>-0.033254</td>\n",
       "      <td>0.011333</td>\n",
       "      <td>-0.009024</td>\n",
       "      <td>0.032718</td>\n",
       "      <td>0.027666</td>\n",
       "      <td>0.062869</td>\n",
       "      <td>0.041116</td>\n",
       "      <td>0.040091</td>\n",
       "      <td>0.045816</td>\n",
       "      <td>-0.005876</td>\n",
       "      <td>-0.113182</td>\n",
       "      <td>1.000000</td>\n",
       "    </tr>\n",
       "  </tbody>\n",
       "</table>\n",
       "</div>\n",
       "    <div class=\"colab-df-buttons\">\n",
       "\n",
       "  <div class=\"colab-df-container\">\n",
       "    <button class=\"colab-df-convert\" onclick=\"convertToInteractive('df-30132d78-0118-4676-abf9-01e9e140b436')\"\n",
       "            title=\"Convert this dataframe to an interactive table.\"\n",
       "            style=\"display:none;\">\n",
       "\n",
       "  <svg xmlns=\"http://www.w3.org/2000/svg\" height=\"24px\" viewBox=\"0 -960 960 960\">\n",
       "    <path d=\"M120-120v-720h720v720H120Zm60-500h600v-160H180v160Zm220 220h160v-160H400v160Zm0 220h160v-160H400v160ZM180-400h160v-160H180v160Zm440 0h160v-160H620v160ZM180-180h160v-160H180v160Zm440 0h160v-160H620v160Z\"/>\n",
       "  </svg>\n",
       "    </button>\n",
       "\n",
       "  <style>\n",
       "    .colab-df-container {\n",
       "      display:flex;\n",
       "      gap: 12px;\n",
       "    }\n",
       "\n",
       "    .colab-df-convert {\n",
       "      background-color: #E8F0FE;\n",
       "      border: none;\n",
       "      border-radius: 50%;\n",
       "      cursor: pointer;\n",
       "      display: none;\n",
       "      fill: #1967D2;\n",
       "      height: 32px;\n",
       "      padding: 0 0 0 0;\n",
       "      width: 32px;\n",
       "    }\n",
       "\n",
       "    .colab-df-convert:hover {\n",
       "      background-color: #E2EBFA;\n",
       "      box-shadow: 0px 1px 2px rgba(60, 64, 67, 0.3), 0px 1px 3px 1px rgba(60, 64, 67, 0.15);\n",
       "      fill: #174EA6;\n",
       "    }\n",
       "\n",
       "    .colab-df-buttons div {\n",
       "      margin-bottom: 4px;\n",
       "    }\n",
       "\n",
       "    [theme=dark] .colab-df-convert {\n",
       "      background-color: #3B4455;\n",
       "      fill: #D2E3FC;\n",
       "    }\n",
       "\n",
       "    [theme=dark] .colab-df-convert:hover {\n",
       "      background-color: #434B5C;\n",
       "      box-shadow: 0px 1px 3px 1px rgba(0, 0, 0, 0.15);\n",
       "      filter: drop-shadow(0px 1px 2px rgba(0, 0, 0, 0.3));\n",
       "      fill: #FFFFFF;\n",
       "    }\n",
       "  </style>\n",
       "\n",
       "    <script>\n",
       "      const buttonEl =\n",
       "        document.querySelector('#df-30132d78-0118-4676-abf9-01e9e140b436 button.colab-df-convert');\n",
       "      buttonEl.style.display =\n",
       "        google.colab.kernel.accessAllowed ? 'block' : 'none';\n",
       "\n",
       "      async function convertToInteractive(key) {\n",
       "        const element = document.querySelector('#df-30132d78-0118-4676-abf9-01e9e140b436');\n",
       "        const dataTable =\n",
       "          await google.colab.kernel.invokeFunction('convertToInteractive',\n",
       "                                                    [key], {});\n",
       "        if (!dataTable) return;\n",
       "\n",
       "        const docLinkHtml = 'Like what you see? Visit the ' +\n",
       "          '<a target=\"_blank\" href=https://colab.research.google.com/notebooks/data_table.ipynb>data table notebook</a>'\n",
       "          + ' to learn more about interactive tables.';\n",
       "        element.innerHTML = '';\n",
       "        dataTable['output_type'] = 'display_data';\n",
       "        await google.colab.output.renderOutput(dataTable, element);\n",
       "        const docLink = document.createElement('div');\n",
       "        docLink.innerHTML = docLinkHtml;\n",
       "        element.appendChild(docLink);\n",
       "      }\n",
       "    </script>\n",
       "  </div>\n",
       "\n",
       "\n",
       "<div id=\"df-cd9c4fe3-7033-4286-aa4c-08ee0588eaa4\">\n",
       "  <button class=\"colab-df-quickchart\" onclick=\"quickchart('df-cd9c4fe3-7033-4286-aa4c-08ee0588eaa4')\"\n",
       "            title=\"Suggest charts\"\n",
       "            style=\"display:none;\">\n",
       "\n",
       "<svg xmlns=\"http://www.w3.org/2000/svg\" height=\"24px\"viewBox=\"0 0 24 24\"\n",
       "     width=\"24px\">\n",
       "    <g>\n",
       "        <path d=\"M19 3H5c-1.1 0-2 .9-2 2v14c0 1.1.9 2 2 2h14c1.1 0 2-.9 2-2V5c0-1.1-.9-2-2-2zM9 17H7v-7h2v7zm4 0h-2V7h2v10zm4 0h-2v-4h2v4z\"/>\n",
       "    </g>\n",
       "</svg>\n",
       "  </button>\n",
       "\n",
       "<style>\n",
       "  .colab-df-quickchart {\n",
       "      --bg-color: #E8F0FE;\n",
       "      --fill-color: #1967D2;\n",
       "      --hover-bg-color: #E2EBFA;\n",
       "      --hover-fill-color: #174EA6;\n",
       "      --disabled-fill-color: #AAA;\n",
       "      --disabled-bg-color: #DDD;\n",
       "  }\n",
       "\n",
       "  [theme=dark] .colab-df-quickchart {\n",
       "      --bg-color: #3B4455;\n",
       "      --fill-color: #D2E3FC;\n",
       "      --hover-bg-color: #434B5C;\n",
       "      --hover-fill-color: #FFFFFF;\n",
       "      --disabled-bg-color: #3B4455;\n",
       "      --disabled-fill-color: #666;\n",
       "  }\n",
       "\n",
       "  .colab-df-quickchart {\n",
       "    background-color: var(--bg-color);\n",
       "    border: none;\n",
       "    border-radius: 50%;\n",
       "    cursor: pointer;\n",
       "    display: none;\n",
       "    fill: var(--fill-color);\n",
       "    height: 32px;\n",
       "    padding: 0;\n",
       "    width: 32px;\n",
       "  }\n",
       "\n",
       "  .colab-df-quickchart:hover {\n",
       "    background-color: var(--hover-bg-color);\n",
       "    box-shadow: 0 1px 2px rgba(60, 64, 67, 0.3), 0 1px 3px 1px rgba(60, 64, 67, 0.15);\n",
       "    fill: var(--button-hover-fill-color);\n",
       "  }\n",
       "\n",
       "  .colab-df-quickchart-complete:disabled,\n",
       "  .colab-df-quickchart-complete:disabled:hover {\n",
       "    background-color: var(--disabled-bg-color);\n",
       "    fill: var(--disabled-fill-color);\n",
       "    box-shadow: none;\n",
       "  }\n",
       "\n",
       "  .colab-df-spinner {\n",
       "    border: 2px solid var(--fill-color);\n",
       "    border-color: transparent;\n",
       "    border-bottom-color: var(--fill-color);\n",
       "    animation:\n",
       "      spin 1s steps(1) infinite;\n",
       "  }\n",
       "\n",
       "  @keyframes spin {\n",
       "    0% {\n",
       "      border-color: transparent;\n",
       "      border-bottom-color: var(--fill-color);\n",
       "      border-left-color: var(--fill-color);\n",
       "    }\n",
       "    20% {\n",
       "      border-color: transparent;\n",
       "      border-left-color: var(--fill-color);\n",
       "      border-top-color: var(--fill-color);\n",
       "    }\n",
       "    30% {\n",
       "      border-color: transparent;\n",
       "      border-left-color: var(--fill-color);\n",
       "      border-top-color: var(--fill-color);\n",
       "      border-right-color: var(--fill-color);\n",
       "    }\n",
       "    40% {\n",
       "      border-color: transparent;\n",
       "      border-right-color: var(--fill-color);\n",
       "      border-top-color: var(--fill-color);\n",
       "    }\n",
       "    60% {\n",
       "      border-color: transparent;\n",
       "      border-right-color: var(--fill-color);\n",
       "    }\n",
       "    80% {\n",
       "      border-color: transparent;\n",
       "      border-right-color: var(--fill-color);\n",
       "      border-bottom-color: var(--fill-color);\n",
       "    }\n",
       "    90% {\n",
       "      border-color: transparent;\n",
       "      border-bottom-color: var(--fill-color);\n",
       "    }\n",
       "  }\n",
       "</style>\n",
       "\n",
       "  <script>\n",
       "    async function quickchart(key) {\n",
       "      const quickchartButtonEl =\n",
       "        document.querySelector('#' + key + ' button');\n",
       "      quickchartButtonEl.disabled = true;  // To prevent multiple clicks.\n",
       "      quickchartButtonEl.classList.add('colab-df-spinner');\n",
       "      try {\n",
       "        const charts = await google.colab.kernel.invokeFunction(\n",
       "            'suggestCharts', [key], {});\n",
       "      } catch (error) {\n",
       "        console.error('Error during call to suggestCharts:', error);\n",
       "      }\n",
       "      quickchartButtonEl.classList.remove('colab-df-spinner');\n",
       "      quickchartButtonEl.classList.add('colab-df-quickchart-complete');\n",
       "    }\n",
       "    (() => {\n",
       "      let quickchartButtonEl =\n",
       "        document.querySelector('#df-cd9c4fe3-7033-4286-aa4c-08ee0588eaa4 button');\n",
       "      quickchartButtonEl.style.display =\n",
       "        google.colab.kernel.accessAllowed ? 'block' : 'none';\n",
       "    })();\n",
       "  </script>\n",
       "</div>\n",
       "\n",
       "    </div>\n",
       "  </div>\n"
      ],
      "text/plain": [
       "                MinTemp   MaxTemp  Rainfall  Evaporation  Sunshine  \\\n",
       "MinTemp        1.000000  0.736015  0.104255     0.467147  0.073078   \n",
       "MaxTemp        0.736015  1.000000 -0.074839     0.588934  0.470221   \n",
       "Rainfall       0.104255 -0.074839  1.000000    -0.064549 -0.227525   \n",
       "Evaporation    0.467147  0.588934 -0.064549     1.000000  0.366659   \n",
       "Sunshine       0.073078  0.470221 -0.227525     0.366659  1.000000   \n",
       "WindGustSpeed  0.177927  0.068510  0.133497     0.203396 -0.032196   \n",
       "WindSpeed9am   0.175775  0.014468  0.086816     0.194398  0.009188   \n",
       "WindSpeed3pm   0.175835  0.051178  0.057759     0.129166  0.056480   \n",
       "Humidity9am   -0.234441 -0.506109  0.223725    -0.506055 -0.492784   \n",
       "Humidity3pm    0.005686 -0.509916  0.255312    -0.393149 -0.629638   \n",
       "Pressure9am   -0.451414 -0.331831 -0.168085    -0.269850  0.041071   \n",
       "Pressure3pm   -0.462099 -0.427069 -0.126728    -0.293098 -0.020276   \n",
       "Cloud9am       0.077367 -0.290217  0.198195    -0.185211 -0.675846   \n",
       "Cloud3pm       0.020268 -0.279261  0.171993    -0.184395 -0.704621   \n",
       "Temp9am        0.901828  0.887038  0.011477     0.545382  0.291364   \n",
       "Temp3pm        0.708716  0.984565 -0.079178     0.574311  0.490386   \n",
       "Day            0.001055 -0.000634  0.001134    -0.008158 -0.001388   \n",
       "Month         -0.204058 -0.164718 -0.030863    -0.027765  0.024081   \n",
       "Year           0.037466  0.056025 -0.009284     0.084224  0.011846   \n",
       "\n",
       "               WindGustSpeed  WindSpeed9am  WindSpeed3pm  Humidity9am  \\\n",
       "MinTemp             0.177927      0.175775      0.175835    -0.234441   \n",
       "MaxTemp             0.068510      0.014468      0.051178    -0.506109   \n",
       "Rainfall            0.133497      0.086816      0.057759     0.223725   \n",
       "Evaporation         0.203396      0.194398      0.129166    -0.506055   \n",
       "Sunshine           -0.032196      0.009188      0.056480    -0.492784   \n",
       "WindGustSpeed       1.000000      0.604513      0.686881    -0.215117   \n",
       "WindSpeed9am        0.604513      1.000000      0.519980    -0.270564   \n",
       "WindSpeed3pm        0.686881      0.519980      1.000000    -0.145967   \n",
       "Humidity9am        -0.215117     -0.270564     -0.145967     1.000000   \n",
       "Humidity3pm        -0.026631     -0.031638      0.016011     0.668002   \n",
       "Pressure9am        -0.457710     -0.227540     -0.295207     0.138916   \n",
       "Pressure3pm        -0.412879     -0.174497     -0.254951     0.186515   \n",
       "Cloud9am            0.071186      0.024111      0.052370     0.452298   \n",
       "Cloud3pm            0.109340      0.053369      0.024769     0.358273   \n",
       "Temp9am             0.150574      0.129108      0.163972    -0.473305   \n",
       "Temp3pm             0.033511      0.004878      0.028845    -0.500528   \n",
       "Day                -0.009456     -0.009174     -0.010162     0.015408   \n",
       "Month               0.060502      0.051222      0.060721    -0.090686   \n",
       "Year               -0.032911     -0.022538     -0.033254     0.011333   \n",
       "\n",
       "               Humidity3pm  Pressure9am  Pressure3pm  Cloud9am  Cloud3pm  \\\n",
       "MinTemp           0.005686    -0.451414    -0.462099  0.077367  0.020268   \n",
       "MaxTemp          -0.509916    -0.331831    -0.427069 -0.290217 -0.279261   \n",
       "Rainfall          0.255312    -0.168085    -0.126728  0.198195  0.171993   \n",
       "Evaporation      -0.393149    -0.269850    -0.293098 -0.185211 -0.184395   \n",
       "Sunshine         -0.629638     0.041071    -0.020276 -0.675846 -0.704621   \n",
       "WindGustSpeed    -0.026631    -0.457710    -0.412879  0.071186  0.109340   \n",
       "WindSpeed9am     -0.031638    -0.227540    -0.174497  0.024111  0.053369   \n",
       "WindSpeed3pm      0.016011    -0.295207    -0.254951  0.052370  0.024769   \n",
       "Humidity9am       0.668002     0.138916     0.186515  0.452298  0.358273   \n",
       "Humidity3pm       1.000000    -0.028127     0.051244  0.517394  0.523186   \n",
       "Pressure9am      -0.028127     1.000000     0.961343 -0.130385 -0.148855   \n",
       "Pressure3pm       0.051244     0.961343     1.000000 -0.061504 -0.085753   \n",
       "Cloud9am          0.517394    -0.130385    -0.061504  1.000000  0.604642   \n",
       "Cloud3pm          0.523186    -0.148855    -0.085753  0.604642  1.000000   \n",
       "Temp9am          -0.222227    -0.422635    -0.470316 -0.138127 -0.128150   \n",
       "Temp3pm          -0.558562    -0.286890    -0.389684 -0.302840 -0.318336   \n",
       "Day               0.013206    -0.021461    -0.021711  0.006853 -0.001019   \n",
       "Month            -0.018231     0.037167     0.027687 -0.010176 -0.003392   \n",
       "Year             -0.009024     0.032718     0.027666  0.062869  0.041116   \n",
       "\n",
       "                Temp9am   Temp3pm       Day     Month      Year  \n",
       "MinTemp        0.901828  0.708716  0.001055 -0.204058  0.037466  \n",
       "MaxTemp        0.887038  0.984565 -0.000634 -0.164718  0.056025  \n",
       "Rainfall       0.011477 -0.079178  0.001134 -0.030863 -0.009284  \n",
       "Evaporation    0.545382  0.574311 -0.008158 -0.027765  0.084224  \n",
       "Sunshine       0.291364  0.490386 -0.001388  0.024081  0.011846  \n",
       "WindGustSpeed  0.150574  0.033511 -0.009456  0.060502 -0.032911  \n",
       "WindSpeed9am   0.129108  0.004878 -0.009174  0.051222 -0.022538  \n",
       "WindSpeed3pm   0.163972  0.028845 -0.010162  0.060721 -0.033254  \n",
       "Humidity9am   -0.473305 -0.500528  0.015408 -0.090686  0.011333  \n",
       "Humidity3pm   -0.222227 -0.558562  0.013206 -0.018231 -0.009024  \n",
       "Pressure9am   -0.422635 -0.286890 -0.021461  0.037167  0.032718  \n",
       "Pressure3pm   -0.470316 -0.389684 -0.021711  0.027687  0.027666  \n",
       "Cloud9am      -0.138127 -0.302840  0.006853 -0.010176  0.062869  \n",
       "Cloud3pm      -0.128150 -0.318336 -0.001019 -0.003392  0.041116  \n",
       "Temp9am        1.000000  0.860633 -0.001117 -0.136475  0.040091  \n",
       "Temp3pm        0.860633  1.000000 -0.001717 -0.175655  0.045816  \n",
       "Day           -0.001117 -0.001717  1.000000  0.009881 -0.005876  \n",
       "Month         -0.136475 -0.175655  0.009881  1.000000 -0.113182  \n",
       "Year           0.040091  0.045816 -0.005876 -0.113182  1.000000  "
      ]
     },
     "execution_count": 19,
     "metadata": {},
     "output_type": "execute_result"
    }
   ],
   "source": [
    "df.corr()"
   ]
  },
  {
   "cell_type": "code",
   "execution_count": 10,
   "metadata": {
    "colab": {
     "base_uri": "https://localhost:8080/",
     "height": 588
    },
    "id": "cZ0Mvp9YdM6g",
    "outputId": "9047879a-80b5-4ca8-a8df-668eebacfb07"
   },
   "outputs": [
    {
     "name": "stderr",
     "output_type": "stream",
     "text": [
      "<ipython-input-10-f044f2f5ad42>:1: FutureWarning: The default value of numeric_only in DataFrame.corr is deprecated. In a future version, it will default to False. Select only valid columns or specify the value of numeric_only to silence this warning.\n",
      "  sns.heatmap(df.corr());\n"
     ]
    },
    {
     "data": {
      "image/png": "[encoded data removed]",
      "text/plain": [
       "<Figure size 640x480 with 2 Axes>"
      ]
     },
     "metadata": {},
     "output_type": "display_data"
    }
   ],
   "source": [
    "sns.heatmap(df.corr());"
   ]
  },
  {
   "cell_type": "markdown",
   "metadata": {
    "id": "KEGgSZq3rI-i"
   },
   "source": [
    "## Split the Data"
   ]
  },
  {
   "cell_type": "code",
   "execution_count": 127,
   "metadata": {
    "id": "rGktgybrcrqE"
   },
   "outputs": [],
   "source": [
    "from sklearn.model_selection import train_test_split"
   ]
  },
  {
   "cell_type": "code",
   "execution_count": 20,
   "metadata": {
    "colab": {
     "base_uri": "https://localhost:8080/"
    },
    "id": "r6vYuWpxrTUy",
    "outputId": "79a7cd89-32b6-497a-cddd-fb33f5de0da4"
   },
   "outputs": [
    {
     "name": "stdout",
     "output_type": "stream",
     "text": [
      "<class 'pandas.core.frame.DataFrame'>\n",
      "Int64Index: 140787 entries, 0 to 145458\n",
      "Data columns (total 25 columns):\n",
      " #   Column         Non-Null Count   Dtype  \n",
      "---  ------         --------------   -----  \n",
      " 0   Location       140787 non-null  object \n",
      " 1   MinTemp        140319 non-null  float64\n",
      " 2   MaxTemp        140480 non-null  float64\n",
      " 3   Rainfall       140787 non-null  float64\n",
      " 4   Evaporation    81093 non-null   float64\n",
      " 5   Sunshine       73982 non-null   float64\n",
      " 6   WindGustDir    131624 non-null  object \n",
      " 7   WindGustSpeed  131682 non-null  float64\n",
      " 8   WindDir9am     131127 non-null  object \n",
      " 9   WindDir3pm     137117 non-null  object \n",
      " 10  WindSpeed9am   139732 non-null  float64\n",
      " 11  WindSpeed3pm   138256 non-null  float64\n",
      " 12  Humidity9am    139270 non-null  float64\n",
      " 13  Humidity3pm    137286 non-null  float64\n",
      " 14  Pressure9am    127044 non-null  float64\n",
      " 15  Pressure3pm    127018 non-null  float64\n",
      " 16  Cloud9am       88162 non-null   float64\n",
      " 17  Cloud3pm       84693 non-null   float64\n",
      " 18  Temp9am        140131 non-null  float64\n",
      " 19  Temp3pm        138163 non-null  float64\n",
      " 20  RainToday      140787 non-null  object \n",
      " 21  RainTomorrow   140787 non-null  object \n",
      " 22  Day            140787 non-null  int64  \n",
      " 23  Month          140787 non-null  int64  \n",
      " 24  Year           140787 non-null  int64  \n",
      "dtypes: float64(16), int64(3), object(6)\n",
      "memory usage: 27.9+ MB\n"
     ]
    }
   ],
   "source": [
    "df.info()"
   ]
  },
  {
   "cell_type": "code",
   "execution_count": 21,
   "metadata": {
    "colab": {
     "base_uri": "https://localhost:8080/"
    },
    "id": "aEQe8_MQreyh",
    "outputId": "b5542d65-d76f-4307-826a-d37cdd2b00c5"
   },
   "outputs": [
    {
     "data": {
      "text/plain": [
       "2016    17341\n",
       "2014    17181\n",
       "2015    17089\n",
       "2009    16514\n",
       "2010    16191\n",
       "2013    15935\n",
       "2011    14983\n",
       "2012    14894\n",
       "2017     8369\n",
       "2008     2229\n",
       "2007       61\n",
       "Name: Year, dtype: int64"
      ]
     },
     "execution_count": 21,
     "metadata": {},
     "output_type": "execute_result"
    }
   ],
   "source": [
    "df.Year.value_counts()"
   ]
  },
  {
   "cell_type": "code",
   "execution_count": 22,
   "metadata": {
    "id": "FlNrOmA7cs89"
   },
   "outputs": [],
   "source": [
    "train_df = df[df.Year<2015]\n",
    "\n",
    "val_df = df[df.Year==2015]\n",
    "\n",
    "test_df = df[df.Year>2015]"
   ]
  },
  {
   "cell_type": "code",
   "execution_count": 24,
   "metadata": {
    "colab": {
     "base_uri": "https://localhost:8080/"
    },
    "id": "fpcjTAWsrsyG",
    "outputId": "e1a5116d-7800-459f-df2e-3c4c47485c7a"
   },
   "outputs": [
    {
     "data": {
      "text/plain": [
       "Index(['Location', 'MinTemp', 'MaxTemp', 'Rainfall', 'Evaporation', 'Sunshine',\n",
       "       'WindGustDir', 'WindGustSpeed', 'WindDir9am', 'WindDir3pm',\n",
       "       'WindSpeed9am', 'WindSpeed3pm', 'Humidity9am', 'Humidity3pm',\n",
       "       'Pressure9am', 'Pressure3pm', 'Cloud9am', 'Cloud3pm', 'Temp9am',\n",
       "       'Temp3pm', 'RainToday', 'RainTomorrow', 'Day', 'Month', 'Year'],\n",
       "      dtype='object')"
      ]
     },
     "execution_count": 24,
     "metadata": {},
     "output_type": "execute_result"
    }
   ],
   "source": [
    "df.columns"
   ]
  },
  {
   "cell_type": "code",
   "execution_count": 28,
   "metadata": {
    "id": "TGysRjjbr-8F"
   },
   "outputs": [],
   "source": [
    "list(df.columns).remove('RainTomorrow')"
   ]
  },
  {
   "cell_type": "code",
   "execution_count": null,
   "metadata": {
    "id": "jc7SmFwjrwnh"
   },
   "outputs": [],
   "source": [
    "#inputs = df.columns[0:-1]"
   ]
  },
  {
   "cell_type": "code",
   "execution_count": 23,
   "metadata": {
    "id": "0JJ60yYqcvVs"
   },
   "outputs": [],
   "source": [
    "inputs = ['Location', 'MinTemp', 'MaxTemp', 'Rainfall', 'Evaporation', 'Sunshine',\n",
    "       'WindGustDir', 'WindGustSpeed', 'WindDir9am', 'WindDir3pm',\n",
    "       'WindSpeed9am', 'WindSpeed3pm', 'Humidity9am', 'Humidity3pm',\n",
    "       'Pressure9am', 'Pressure3pm', 'Cloud9am', 'Cloud3pm', 'Temp9am',\n",
    "       'Temp3pm', 'RainToday', 'Day', 'Month', 'Year']\n",
    "target = 'RainTomorrow'"
   ]
  },
  {
   "cell_type": "code",
   "execution_count": 29,
   "metadata": {
    "id": "8LvxOb0Rcyqs"
   },
   "outputs": [],
   "source": [
    "train_inputs = train_df[inputs]\n",
    "train_target = train_df[target]\n",
    "val_inputs = val_df[inputs]\n",
    "val_target = val_df[target]\n",
    "test_inputs = test_df[inputs]\n",
    "test_target = test_df[target]"
   ]
  },
  {
   "cell_type": "markdown",
   "metadata": {
    "id": "fFplblrzsP1t"
   },
   "source": [
    "## Preprocessing the Data"
   ]
  },
  {
   "cell_type": "markdown",
   "metadata": {
    "id": "25FNIY0AscEa"
   },
   "source": [
    "### Imputation"
   ]
  },
  {
   "cell_type": "code",
   "execution_count": 30,
   "metadata": {
    "id": "inU5J9Hic4wq"
   },
   "outputs": [],
   "source": [
    "import numpy as np"
   ]
  },
  {
   "cell_type": "code",
   "execution_count": 31,
   "metadata": {
    "id": "26Wa1_cbc2id"
   },
   "outputs": [],
   "source": [
    "numerics = train_inputs.select_dtypes(include=np.number).columns.tolist()\n",
    "categoricals = train_inputs.select_dtypes('object').columns.tolist()"
   ]
  },
  {
   "cell_type": "code",
   "execution_count": 32,
   "metadata": {
    "id": "CwNZnSI4c748"
   },
   "outputs": [],
   "source": [
    "from sklearn.impute import SimpleImputer"
   ]
  },
  {
   "cell_type": "code",
   "execution_count": null,
   "metadata": {
    "id": "rI-5nTFMslkn"
   },
   "outputs": [],
   "source": [
    "df['WindDir3PM'].fillna(df['WindDir3PM'].mode()[0])"
   ]
  },
  {
   "cell_type": "code",
   "execution_count": 33,
   "metadata": {
    "id": "sZuVu77Dc9R-"
   },
   "outputs": [],
   "source": [
    "imputer = SimpleImputer(strategy = 'mean').fit(df[numerics])"
   ]
  },
  {
   "cell_type": "code",
   "execution_count": 34,
   "metadata": {
    "colab": {
     "base_uri": "https://localhost:8080/"
    },
    "id": "jXY7u2brc-s7",
    "outputId": "1ea8cd67-939f-4a75-a20e-ad4af23859fb"
   },
   "outputs": [
    {
     "name": "stderr",
     "output_type": "stream",
     "text": [
      "<ipython-input-34-500e67fd24ad>:1: SettingWithCopyWarning: \n",
      "A value is trying to be set on a copy of a slice from a DataFrame.\n",
      "Try using .loc[row_indexer,col_indexer] = value instead\n",
      "\n",
      "See the caveats in the documentation: https://pandas.pydata.org/pandas-docs/stable/user_guide/indexing.html#returning-a-view-versus-a-copy\n",
      "  train_inputs[numerics] = imputer.transform(train_inputs[numerics])\n",
      "<ipython-input-34-500e67fd24ad>:2: SettingWithCopyWarning: \n",
      "A value is trying to be set on a copy of a slice from a DataFrame.\n",
      "Try using .loc[row_indexer,col_indexer] = value instead\n",
      "\n",
      "See the caveats in the documentation: https://pandas.pydata.org/pandas-docs/stable/user_guide/indexing.html#returning-a-view-versus-a-copy\n",
      "  val_inputs[numerics] = imputer.transform(val_inputs[numerics])\n",
      "<ipython-input-34-500e67fd24ad>:3: SettingWithCopyWarning: \n",
      "A value is trying to be set on a copy of a slice from a DataFrame.\n",
      "Try using .loc[row_indexer,col_indexer] = value instead\n",
      "\n",
      "See the caveats in the documentation: https://pandas.pydata.org/pandas-docs/stable/user_guide/indexing.html#returning-a-view-versus-a-copy\n",
      "  test_inputs[numerics] = imputer.transform(test_inputs[numerics])\n"
     ]
    }
   ],
   "source": [
    "train_inputs[numerics] = imputer.transform(train_inputs[numerics])\n",
    "val_inputs[numerics] = imputer.transform(val_inputs[numerics])\n",
    "test_inputs[numerics] = imputer.transform(test_inputs[numerics])"
   ]
  },
  {
   "cell_type": "code",
   "execution_count": 35,
   "metadata": {
    "id": "cr2VQq_HdCBX"
   },
   "outputs": [],
   "source": [
    "cat_imputer = SimpleImputer(strategy = 'most_frequent').fit(df[categoricals])"
   ]
  },
  {
   "cell_type": "code",
   "execution_count": 36,
   "metadata": {
    "colab": {
     "base_uri": "https://localhost:8080/"
    },
    "id": "qZEbCOL7dDRK",
    "outputId": "baf9d712-caee-4064-f93d-2ab97f517d38"
   },
   "outputs": [
    {
     "name": "stderr",
     "output_type": "stream",
     "text": [
      "<ipython-input-36-91435db039cf>:1: SettingWithCopyWarning: \n",
      "A value is trying to be set on a copy of a slice from a DataFrame.\n",
      "Try using .loc[row_indexer,col_indexer] = value instead\n",
      "\n",
      "See the caveats in the documentation: https://pandas.pydata.org/pandas-docs/stable/user_guide/indexing.html#returning-a-view-versus-a-copy\n",
      "  train_inputs[categoricals] = cat_imputer.transform(train_inputs[categoricals])\n",
      "<ipython-input-36-91435db039cf>:2: SettingWithCopyWarning: \n",
      "A value is trying to be set on a copy of a slice from a DataFrame.\n",
      "Try using .loc[row_indexer,col_indexer] = value instead\n",
      "\n",
      "See the caveats in the documentation: https://pandas.pydata.org/pandas-docs/stable/user_guide/indexing.html#returning-a-view-versus-a-copy\n",
      "  val_inputs[categoricals] = cat_imputer.transform(val_inputs[categoricals])\n",
      "<ipython-input-36-91435db039cf>:3: SettingWithCopyWarning: \n",
      "A value is trying to be set on a copy of a slice from a DataFrame.\n",
      "Try using .loc[row_indexer,col_indexer] = value instead\n",
      "\n",
      "See the caveats in the documentation: https://pandas.pydata.org/pandas-docs/stable/user_guide/indexing.html#returning-a-view-versus-a-copy\n",
      "  test_inputs[categoricals] = cat_imputer.transform(test_inputs[categoricals])\n"
     ]
    }
   ],
   "source": [
    "train_inputs[categoricals] = cat_imputer.transform(train_inputs[categoricals])\n",
    "val_inputs[categoricals] = cat_imputer.transform(val_inputs[categoricals])\n",
    "test_inputs[categoricals] = cat_imputer.transform(test_inputs[categoricals])"
   ]
  },
  {
   "cell_type": "code",
   "execution_count": 37,
   "metadata": {
    "id": "uIibnzaodFv0"
   },
   "outputs": [],
   "source": [
    "# df['WindGustDir'] = df['WindGustDir'].fillna(df['WindGustDir'].mode()[0])\n",
    "# df['WindDir9am'] = df['WindDir9am'].fillna(df['WindDir9am'].mode()[0])\n",
    "# df['WindDir3pm'] = df['WindDir3pm'].fillna(df['WindDir3pm'].mode()[0])"
   ]
  },
  {
   "cell_type": "markdown",
   "metadata": {
    "id": "poFzqaBQshVI"
   },
   "source": [
    "### Scaling & Encoding"
   ]
  },
  {
   "cell_type": "code",
   "execution_count": 38,
   "metadata": {
    "id": "AdYiJrdjeA6y"
   },
   "outputs": [],
   "source": [
    "from sklearn.preprocessing import StandardScaler\n",
    "from sklearn.preprocessing import OneHotEncoder"
   ]
  },
  {
   "cell_type": "code",
   "execution_count": 39,
   "metadata": {
    "colab": {
     "base_uri": "https://localhost:8080/"
    },
    "id": "EibP_93beDfB",
    "outputId": "87879543-290b-455f-c5d6-d9645fcda8e6"
   },
   "outputs": [
    {
     "name": "stderr",
     "output_type": "stream",
     "text": [
      "<ipython-input-39-2b36ee385e11>:2: SettingWithCopyWarning: \n",
      "A value is trying to be set on a copy of a slice from a DataFrame.\n",
      "Try using .loc[row_indexer,col_indexer] = value instead\n",
      "\n",
      "See the caveats in the documentation: https://pandas.pydata.org/pandas-docs/stable/user_guide/indexing.html#returning-a-view-versus-a-copy\n",
      "  train_inputs[numerics] = scaler.transform(train_inputs[numerics])\n",
      "<ipython-input-39-2b36ee385e11>:3: SettingWithCopyWarning: \n",
      "A value is trying to be set on a copy of a slice from a DataFrame.\n",
      "Try using .loc[row_indexer,col_indexer] = value instead\n",
      "\n",
      "See the caveats in the documentation: https://pandas.pydata.org/pandas-docs/stable/user_guide/indexing.html#returning-a-view-versus-a-copy\n",
      "  val_inputs[numerics] = scaler.transform(val_inputs[numerics])\n",
      "<ipython-input-39-2b36ee385e11>:4: SettingWithCopyWarning: \n",
      "A value is trying to be set on a copy of a slice from a DataFrame.\n",
      "Try using .loc[row_indexer,col_indexer] = value instead\n",
      "\n",
      "See the caveats in the documentation: https://pandas.pydata.org/pandas-docs/stable/user_guide/indexing.html#returning-a-view-versus-a-copy\n",
      "  test_inputs[numerics] = scaler.transform(test_inputs[numerics])\n"
     ]
    }
   ],
   "source": [
    "scaler = StandardScaler().fit(df[numerics])\n",
    "train_inputs[numerics] = scaler.transform(train_inputs[numerics])\n",
    "val_inputs[numerics] = scaler.transform(val_inputs[numerics])\n",
    "test_inputs[numerics] = scaler.transform(test_inputs[numerics])"
   ]
  },
  {
   "cell_type": "code",
   "execution_count": 40,
   "metadata": {
    "colab": {
     "base_uri": "https://localhost:8080/"
    },
    "id": "oyJBYQVyeGPJ",
    "outputId": "4abdaefb-16c3-4858-91e7-366af6fec26f"
   },
   "outputs": [
    {
     "name": "stderr",
     "output_type": "stream",
     "text": [
      "/usr/local/lib/python3.10/dist-packages/sklearn/preprocessing/_encoders.py:868: FutureWarning: `sparse` was renamed to `sparse_output` in version 1.2 and will be removed in 1.4. `sparse_output` is ignored unless you leave `sparse` to its default value.\n",
      "  warnings.warn(\n",
      "<ipython-input-40-8ba51424cce9>:3: PerformanceWarning: DataFrame is highly fragmented.  This is usually the result of calling `frame.insert` many times, which has poor performance.  Consider joining all columns at once using pd.concat(axis=1) instead. To get a de-fragmented frame, use `newframe = frame.copy()`\n",
      "  train_inputs[encoded_cols] = encoder.transform(train_inputs[categoricals])\n",
      "<ipython-input-40-8ba51424cce9>:3: PerformanceWarning: DataFrame is highly fragmented.  This is usually the result of calling `frame.insert` many times, which has poor performance.  Consider joining all columns at once using pd.concat(axis=1) instead. To get a de-fragmented frame, use `newframe = frame.copy()`\n",
      "  train_inputs[encoded_cols] = encoder.transform(train_inputs[categoricals])\n",
      "<ipython-input-40-8ba51424cce9>:3: PerformanceWarning: DataFrame is highly fragmented.  This is usually the result of calling `frame.insert` many times, which has poor performance.  Consider joining all columns at once using pd.concat(axis=1) instead. To get a de-fragmented frame, use `newframe = frame.copy()`\n",
      "  train_inputs[encoded_cols] = encoder.transform(train_inputs[categoricals])\n",
      "<ipython-input-40-8ba51424cce9>:3: PerformanceWarning: DataFrame is highly fragmented.  This is usually the result of calling `frame.insert` many times, which has poor performance.  Consider joining all columns at once using pd.concat(axis=1) instead. To get a de-fragmented frame, use `newframe = frame.copy()`\n",
      "  train_inputs[encoded_cols] = encoder.transform(train_inputs[categoricals])\n",
      "<ipython-input-40-8ba51424cce9>:4: PerformanceWarning: DataFrame is highly fragmented.  This is usually the result of calling `frame.insert` many times, which has poor performance.  Consider joining all columns at once using pd.concat(axis=1) instead. To get a de-fragmented frame, use `newframe = frame.copy()`\n",
      "  val_inputs[encoded_cols] = encoder.transform(val_inputs[categoricals])\n",
      "<ipython-input-40-8ba51424cce9>:4: PerformanceWarning: DataFrame is highly fragmented.  This is usually the result of calling `frame.insert` many times, which has poor performance.  Consider joining all columns at once using pd.concat(axis=1) instead. To get a de-fragmented frame, use `newframe = frame.copy()`\n",
      "  val_inputs[encoded_cols] = encoder.transform(val_inputs[categoricals])\n",
      "<ipython-input-40-8ba51424cce9>:4: PerformanceWarning: DataFrame is highly fragmented.  This is usually the result of calling `frame.insert` many times, which has poor performance.  Consider joining all columns at once using pd.concat(axis=1) instead. To get a de-fragmented frame, use `newframe = frame.copy()`\n",
      "  val_inputs[encoded_cols] = encoder.transform(val_inputs[categoricals])\n",
      "<ipython-input-40-8ba51424cce9>:4: PerformanceWarning: DataFrame is highly fragmented.  This is usually the result of calling `frame.insert` many times, which has poor performance.  Consider joining all columns at once using pd.concat(axis=1) instead. To get a de-fragmented frame, use `newframe = frame.copy()`\n",
      "  val_inputs[encoded_cols] = encoder.transform(val_inputs[categoricals])\n",
      "<ipython-input-40-8ba51424cce9>:5: PerformanceWarning: DataFrame is highly fragmented.  This is usually the result of calling `frame.insert` many times, which has poor performance.  Consider joining all columns at once using pd.concat(axis=1) instead. To get a de-fragmented frame, use `newframe = frame.copy()`\n",
      "  test_inputs[encoded_cols] = encoder.transform(test_inputs[categoricals])\n",
      "<ipython-input-40-8ba51424cce9>:5: PerformanceWarning: DataFrame is highly fragmented.  This is usually the result of calling `frame.insert` many times, which has poor performance.  Consider joining all columns at once using pd.concat(axis=1) instead. To get a de-fragmented frame, use `newframe = frame.copy()`\n",
      "  test_inputs[encoded_cols] = encoder.transform(test_inputs[categoricals])\n",
      "<ipython-input-40-8ba51424cce9>:5: PerformanceWarning: DataFrame is highly fragmented.  This is usually the result of calling `frame.insert` many times, which has poor performance.  Consider joining all columns at once using pd.concat(axis=1) instead. To get a de-fragmented frame, use `newframe = frame.copy()`\n",
      "  test_inputs[encoded_cols] = encoder.transform(test_inputs[categoricals])\n",
      "<ipython-input-40-8ba51424cce9>:5: PerformanceWarning: DataFrame is highly fragmented.  This is usually the result of calling `frame.insert` many times, which has poor performance.  Consider joining all columns at once using pd.concat(axis=1) instead. To get a de-fragmented frame, use `newframe = frame.copy()`\n",
      "  test_inputs[encoded_cols] = encoder.transform(test_inputs[categoricals])\n"
     ]
    }
   ],
   "source": [
    "encoder = OneHotEncoder(sparse=False, handle_unknown='ignore').fit(df[categoricals])\n",
    "encoded_cols = list(encoder.get_feature_names_out(categoricals))\n",
    "train_inputs[encoded_cols] = encoder.transform(train_inputs[categoricals])\n",
    "val_inputs[encoded_cols] = encoder.transform(val_inputs[categoricals])\n",
    "test_inputs[encoded_cols] = encoder.transform(test_inputs[categoricals])"
   ]
  },
  {
   "cell_type": "code",
   "execution_count": 41,
   "metadata": {
    "id": "AjXUyrqbeMQI"
   },
   "outputs": [],
   "source": [
    "train_inputs = train_inputs[numerics + encoded_cols]\n",
    "val_inputs = val_inputs[numerics + encoded_cols]\n",
    "test_inputs = test_inputs[numerics + encoded_cols]"
   ]
  },
  {
   "cell_type": "markdown",
   "metadata": {
    "id": "JThwdgettT9z"
   },
   "source": [
    "## Fit the Model"
   ]
  },
  {
   "cell_type": "code",
   "execution_count": 42,
   "metadata": {
    "id": "_bzUPqcQYMAu"
   },
   "outputs": [],
   "source": [
    "from sklearn.linear_model import LogisticRegression"
   ]
  },
  {
   "cell_type": "code",
   "execution_count": 45,
   "metadata": {
    "id": "8SGMHJ1fYVuS"
   },
   "outputs": [],
   "source": [
    "model = LogisticRegression(max_iter=1000)"
   ]
  },
  {
   "cell_type": "code",
   "execution_count": 46,
   "metadata": {
    "colab": {
     "base_uri": "https://localhost:8080/",
     "height": 75
    },
    "id": "CKRIptqHYYXJ",
    "outputId": "fbaa2690-9c52-432b-8b0e-c19c02c61fbb"
   },
   "outputs": [
    {
     "data": {
      "text/html": [
       "<style>#sk-container-id-2 {color: black;background-color: white;}#sk-container-id-2 pre{padding: 0;}#sk-container-id-2 div.sk-toggleable {background-color: white;}#sk-container-id-2 label.sk-toggleable__label {cursor: pointer;display: block;width: 100%;margin-bottom: 0;padding: 0.3em;box-sizing: border-box;text-align: center;}#sk-container-id-2 label.sk-toggleable__label-arrow:before {content: \"▸\";float: left;margin-right: 0.25em;color: #696969;}#sk-container-id-2 label.sk-toggleable__label-arrow:hover:before {color: black;}#sk-container-id-2 div.sk-estimator:hover label.sk-toggleable__label-arrow:before {color: black;}#sk-container-id-2 div.sk-toggleable__content {max-height: 0;max-width: 0;overflow: hidden;text-align: left;background-color: #f0f8ff;}#sk-container-id-2 div.sk-toggleable__content pre {margin: 0.2em;color: black;border-radius: 0.25em;background-color: #f0f8ff;}#sk-container-id-2 input.sk-toggleable__control:checked~div.sk-toggleable__content {max-height: 200px;max-width: 100%;overflow: auto;}#sk-container-id-2 input.sk-toggleable__control:checked~label.sk-toggleable__label-arrow:before {content: \"▾\";}#sk-container-id-2 div.sk-estimator input.sk-toggleable__control:checked~label.sk-toggleable__label {background-color: #d4ebff;}#sk-container-id-2 div.sk-label input.sk-toggleable__control:checked~label.sk-toggleable__label {background-color: #d4ebff;}#sk-container-id-2 input.sk-hidden--visually {border: 0;clip: rect(1px 1px 1px 1px);clip: rect(1px, 1px, 1px, 1px);height: 1px;margin: -1px;overflow: hidden;padding: 0;position: absolute;width: 1px;}#sk-container-id-2 div.sk-estimator {font-family: monospace;background-color: #f0f8ff;border: 1px dotted black;border-radius: 0.25em;box-sizing: border-box;margin-bottom: 0.5em;}#sk-container-id-2 div.sk-estimator:hover {background-color: #d4ebff;}#sk-container-id-2 div.sk-parallel-item::after {content: \"\";width: 100%;border-bottom: 1px solid gray;flex-grow: 1;}#sk-container-id-2 div.sk-label:hover label.sk-toggleable__label {background-color: #d4ebff;}#sk-container-id-2 div.sk-serial::before {content: \"\";position: absolute;border-left: 1px solid gray;box-sizing: border-box;top: 0;bottom: 0;left: 50%;z-index: 0;}#sk-container-id-2 div.sk-serial {display: flex;flex-direction: column;align-items: center;background-color: white;padding-right: 0.2em;padding-left: 0.2em;position: relative;}#sk-container-id-2 div.sk-item {position: relative;z-index: 1;}#sk-container-id-2 div.sk-parallel {display: flex;align-items: stretch;justify-content: center;background-color: white;position: relative;}#sk-container-id-2 div.sk-item::before, #sk-container-id-2 div.sk-parallel-item::before {content: \"\";position: absolute;border-left: 1px solid gray;box-sizing: border-box;top: 0;bottom: 0;left: 50%;z-index: -1;}#sk-container-id-2 div.sk-parallel-item {display: flex;flex-direction: column;z-index: 1;position: relative;background-color: white;}#sk-container-id-2 div.sk-parallel-item:first-child::after {align-self: flex-end;width: 50%;}#sk-container-id-2 div.sk-parallel-item:last-child::after {align-self: flex-start;width: 50%;}#sk-container-id-2 div.sk-parallel-item:only-child::after {width: 0;}#sk-container-id-2 div.sk-dashed-wrapped {border: 1px dashed gray;margin: 0 0.4em 0.5em 0.4em;box-sizing: border-box;padding-bottom: 0.4em;background-color: white;}#sk-container-id-2 div.sk-label label {font-family: monospace;font-weight: bold;display: inline-block;line-height: 1.2em;}#sk-container-id-2 div.sk-label-container {text-align: center;}#sk-container-id-2 div.sk-container {/* jupyter's `normalize.less` sets `[hidden] { display: none; }` but bootstrap.min.css set `[hidden] { display: none !important; }` so we also need the `!important` here to be able to override the default hidden behavior on the sphinx rendered scikit-learn.org. See: https://github.com/scikit-learn/scikit-learn/issues/21755 */display: inline-block !important;position: relative;}#sk-container-id-2 div.sk-text-repr-fallback {display: none;}</style><div id=\"sk-container-id-2\" class=\"sk-top-container\"><div class=\"sk-text-repr-fallback\"><pre>LogisticRegression(max_iter=1000)</pre><b>In a Jupyter environment, please rerun this cell to show the HTML representation or trust the notebook. <br />On GitHub, the HTML representation is unable to render, please try loading this page with nbviewer.org.</b></div><div class=\"sk-container\" hidden><div class=\"sk-item\"><div class=\"sk-estimator sk-toggleable\"><input class=\"sk-toggleable__control sk-hidden--visually\" id=\"sk-estimator-id-2\" type=\"checkbox\" checked><label for=\"sk-estimator-id-2\" class=\"sk-toggleable__label sk-toggleable__label-arrow\">LogisticRegression</label><div class=\"sk-toggleable__content\"><pre>LogisticRegression(max_iter=1000)</pre></div></div></div></div></div>"
      ],
      "text/plain": [
       "LogisticRegression(max_iter=1000)"
      ]
     },
     "execution_count": 46,
     "metadata": {},
     "output_type": "execute_result"
    }
   ],
   "source": [
    "model.fit(train_inputs, train_target)"
   ]
  },
  {
   "cell_type": "code",
   "execution_count": 47,
   "metadata": {
    "id": "bcyRUQZdYblm"
   },
   "outputs": [],
   "source": [
    "train_preds = model.predict(train_inputs)\n",
    "val_preds = model.predict(val_inputs)"
   ]
  },
  {
   "cell_type": "code",
   "execution_count": 48,
   "metadata": {
    "id": "fQ7roLwBYcrN"
   },
   "outputs": [],
   "source": [
    "from sklearn.metrics import accuracy_score"
   ]
  },
  {
   "cell_type": "code",
   "execution_count": 49,
   "metadata": {
    "colab": {
     "base_uri": "https://localhost:8080/"
    },
    "id": "jeDql9woeYBB",
    "outputId": "6261b33a-2796-411b-b1bf-a685b70221bf"
   },
   "outputs": [
    {
     "data": {
      "text/plain": [
       "0.8525125525574561"
      ]
     },
     "execution_count": 49,
     "metadata": {},
     "output_type": "execute_result"
    }
   ],
   "source": [
    "accuracy_score(train_target, train_preds)"
   ]
  },
  {
   "cell_type": "code",
   "execution_count": 50,
   "metadata": {
    "colab": {
     "base_uri": "https://localhost:8080/"
    },
    "id": "kF9Oc48_uqms",
    "outputId": "26bba1ae-862c-4071-c1b4-8bdfb65862d6"
   },
   "outputs": [
    {
     "data": {
      "text/plain": [
       "No     76190\n",
       "Yes    21798\n",
       "Name: RainTomorrow, dtype: int64"
      ]
     },
     "execution_count": 50,
     "metadata": {},
     "output_type": "execute_result"
    }
   ],
   "source": [
    "train_target.value_counts()"
   ]
  },
  {
   "cell_type": "code",
   "execution_count": 51,
   "metadata": {
    "colab": {
     "base_uri": "https://localhost:8080/"
    },
    "id": "qN3IV_2nYnu5",
    "outputId": "068cd62e-2828-41bc-cd2a-6846e1e0b4cc"
   },
   "outputs": [
    {
     "data": {
      "text/plain": [
       "0.6135208857035889"
      ]
     },
     "execution_count": 51,
     "metadata": {},
     "output_type": "execute_result"
    }
   ],
   "source": [
    "f1_score(train_target, train_preds,pos_label='Yes')"
   ]
  },
  {
   "cell_type": "code",
   "execution_count": 52,
   "metadata": {
    "colab": {
     "base_uri": "https://localhost:8080/"
    },
    "id": "EBVb_Wkrelje",
    "outputId": "89ed9498-2f22-4ac3-8620-60dfdbf2bd01"
   },
   "outputs": [
    {
     "data": {
      "text/plain": [
       "0.5684539302446643"
      ]
     },
     "execution_count": 52,
     "metadata": {},
     "output_type": "execute_result"
    }
   ],
   "source": [
    "f1_score(val_target, val_preds,pos_label='Yes')"
   ]
  },
  {
   "cell_type": "code",
   "execution_count": 53,
   "metadata": {
    "id": "FIx__oQ3ef4_"
   },
   "outputs": [],
   "source": [
    "from sklearn.tree import DecisionTreeClassifier"
   ]
  },
  {
   "cell_type": "code",
   "execution_count": 54,
   "metadata": {
    "id": "7xSXzX3tehNz"
   },
   "outputs": [],
   "source": [
    "model = DecisionTreeClassifier(class_weight='balanced')"
   ]
  },
  {
   "cell_type": "code",
   "execution_count": 55,
   "metadata": {
    "colab": {
     "base_uri": "https://localhost:8080/",
     "height": 75
    },
    "id": "Fya0WT6TeiqA",
    "outputId": "76af5c56-0b09-4adf-b8d7-8a1417ac1d64"
   },
   "outputs": [
    {
     "data": {
      "text/html": [
       "<style>#sk-container-id-3 {color: black;background-color: white;}#sk-container-id-3 pre{padding: 0;}#sk-container-id-3 div.sk-toggleable {background-color: white;}#sk-container-id-3 label.sk-toggleable__label {cursor: pointer;display: block;width: 100%;margin-bottom: 0;padding: 0.3em;box-sizing: border-box;text-align: center;}#sk-container-id-3 label.sk-toggleable__label-arrow:before {content: \"▸\";float: left;margin-right: 0.25em;color: #696969;}#sk-container-id-3 label.sk-toggleable__label-arrow:hover:before {color: black;}#sk-container-id-3 div.sk-estimator:hover label.sk-toggleable__label-arrow:before {color: black;}#sk-container-id-3 div.sk-toggleable__content {max-height: 0;max-width: 0;overflow: hidden;text-align: left;background-color: #f0f8ff;}#sk-container-id-3 div.sk-toggleable__content pre {margin: 0.2em;color: black;border-radius: 0.25em;background-color: #f0f8ff;}#sk-container-id-3 input.sk-toggleable__control:checked~div.sk-toggleable__content {max-height: 200px;max-width: 100%;overflow: auto;}#sk-container-id-3 input.sk-toggleable__control:checked~label.sk-toggleable__label-arrow:before {content: \"▾\";}#sk-container-id-3 div.sk-estimator input.sk-toggleable__control:checked~label.sk-toggleable__label {background-color: #d4ebff;}#sk-container-id-3 div.sk-label input.sk-toggleable__control:checked~label.sk-toggleable__label {background-color: #d4ebff;}#sk-container-id-3 input.sk-hidden--visually {border: 0;clip: rect(1px 1px 1px 1px);clip: rect(1px, 1px, 1px, 1px);height: 1px;margin: -1px;overflow: hidden;padding: 0;position: absolute;width: 1px;}#sk-container-id-3 div.sk-estimator {font-family: monospace;background-color: #f0f8ff;border: 1px dotted black;border-radius: 0.25em;box-sizing: border-box;margin-bottom: 0.5em;}#sk-container-id-3 div.sk-estimator:hover {background-color: #d4ebff;}#sk-container-id-3 div.sk-parallel-item::after {content: \"\";width: 100%;border-bottom: 1px solid gray;flex-grow: 1;}#sk-container-id-3 div.sk-label:hover label.sk-toggleable__label {background-color: #d4ebff;}#sk-container-id-3 div.sk-serial::before {content: \"\";position: absolute;border-left: 1px solid gray;box-sizing: border-box;top: 0;bottom: 0;left: 50%;z-index: 0;}#sk-container-id-3 div.sk-serial {display: flex;flex-direction: column;align-items: center;background-color: white;padding-right: 0.2em;padding-left: 0.2em;position: relative;}#sk-container-id-3 div.sk-item {position: relative;z-index: 1;}#sk-container-id-3 div.sk-parallel {display: flex;align-items: stretch;justify-content: center;background-color: white;position: relative;}#sk-container-id-3 div.sk-item::before, #sk-container-id-3 div.sk-parallel-item::before {content: \"\";position: absolute;border-left: 1px solid gray;box-sizing: border-box;top: 0;bottom: 0;left: 50%;z-index: -1;}#sk-container-id-3 div.sk-parallel-item {display: flex;flex-direction: column;z-index: 1;position: relative;background-color: white;}#sk-container-id-3 div.sk-parallel-item:first-child::after {align-self: flex-end;width: 50%;}#sk-container-id-3 div.sk-parallel-item:last-child::after {align-self: flex-start;width: 50%;}#sk-container-id-3 div.sk-parallel-item:only-child::after {width: 0;}#sk-container-id-3 div.sk-dashed-wrapped {border: 1px dashed gray;margin: 0 0.4em 0.5em 0.4em;box-sizing: border-box;padding-bottom: 0.4em;background-color: white;}#sk-container-id-3 div.sk-label label {font-family: monospace;font-weight: bold;display: inline-block;line-height: 1.2em;}#sk-container-id-3 div.sk-label-container {text-align: center;}#sk-container-id-3 div.sk-container {/* jupyter's `normalize.less` sets `[hidden] { display: none; }` but bootstrap.min.css set `[hidden] { display: none !important; }` so we also need the `!important` here to be able to override the default hidden behavior on the sphinx rendered scikit-learn.org. See: https://github.com/scikit-learn/scikit-learn/issues/21755 */display: inline-block !important;position: relative;}#sk-container-id-3 div.sk-text-repr-fallback {display: none;}</style><div id=\"sk-container-id-3\" class=\"sk-top-container\"><div class=\"sk-text-repr-fallback\"><pre>DecisionTreeClassifier(class_weight=&#x27;balanced&#x27;)</pre><b>In a Jupyter environment, please rerun this cell to show the HTML representation or trust the notebook. <br />On GitHub, the HTML representation is unable to render, please try loading this page with nbviewer.org.</b></div><div class=\"sk-container\" hidden><div class=\"sk-item\"><div class=\"sk-estimator sk-toggleable\"><input class=\"sk-toggleable__control sk-hidden--visually\" id=\"sk-estimator-id-3\" type=\"checkbox\" checked><label for=\"sk-estimator-id-3\" class=\"sk-toggleable__label sk-toggleable__label-arrow\">DecisionTreeClassifier</label><div class=\"sk-toggleable__content\"><pre>DecisionTreeClassifier(class_weight=&#x27;balanced&#x27;)</pre></div></div></div></div></div>"
      ],
      "text/plain": [
       "DecisionTreeClassifier(class_weight='balanced')"
      ]
     },
     "execution_count": 55,
     "metadata": {},
     "output_type": "execute_result"
    }
   ],
   "source": [
    "model.fit(train_inputs, train_target)"
   ]
  },
  {
   "cell_type": "code",
   "execution_count": 56,
   "metadata": {
    "id": "Igt65o9mej6n"
   },
   "outputs": [],
   "source": [
    "train_preds = model.predict(train_inputs)\n",
    "val_preds = model.predict(val_inputs)"
   ]
  },
  {
   "cell_type": "code",
   "execution_count": 57,
   "metadata": {
    "colab": {
     "base_uri": "https://localhost:8080/"
    },
    "id": "4rG41yAYeppk",
    "outputId": "da4aaf77-a8fe-463c-f95f-ad0b7e974ebb"
   },
   "outputs": [
    {
     "data": {
      "text/plain": [
       "1.0"
      ]
     },
     "execution_count": 57,
     "metadata": {},
     "output_type": "execute_result"
    }
   ],
   "source": [
    "f1_score(train_target, train_preds,pos_label='Yes')"
   ]
  },
  {
   "cell_type": "code",
   "execution_count": 58,
   "metadata": {
    "colab": {
     "base_uri": "https://localhost:8080/"
    },
    "id": "YO6qevz6eqg1",
    "outputId": "c71f8891-a7c5-4af9-8690-ca66d980a357"
   },
   "outputs": [
    {
     "data": {
      "text/plain": [
       "0.4934352907228394"
      ]
     },
     "execution_count": 58,
     "metadata": {},
     "output_type": "execute_result"
    }
   ],
   "source": [
    "f1_score(val_target, val_preds,pos_label='Yes')"
   ]
  },
  {
   "cell_type": "code",
   "execution_count": 157,
   "metadata": {
    "colab": {
     "base_uri": "https://localhost:8080/"
    },
    "id": "q_aGnj-zfZj-",
    "outputId": "04872222-19c3-4664-816d-a602fbd15569"
   },
   "outputs": [
    {
     "data": {
      "text/plain": [
       "0         No\n",
       "1         No\n",
       "2         No\n",
       "3         No\n",
       "4         No\n",
       "          ..\n",
       "144548    No\n",
       "144549    No\n",
       "144550    No\n",
       "144551    No\n",
       "144552    No\n",
       "Name: RainTomorrow, Length: 97988, dtype: object"
      ]
     },
     "execution_count": 157,
     "metadata": {},
     "output_type": "execute_result"
    }
   ],
   "source": [
    "train_target"
   ]
  },
  {
   "cell_type": "code",
   "execution_count": 59,
   "metadata": {
    "id": "uftoHMHpu62D"
   },
   "outputs": [],
   "source": [
    "from sklearn.ensemble import RandomForestClassifier"
   ]
  },
  {
   "cell_type": "code",
   "execution_count": 61,
   "metadata": {
    "id": "-_Ti5SB4vK8v"
   },
   "outputs": [],
   "source": [
    "model = RandomForestClassifier(class_weight='balanced')"
   ]
  },
  {
   "cell_type": "code",
   "execution_count": 62,
   "metadata": {
    "colab": {
     "base_uri": "https://localhost:8080/",
     "height": 75
    },
    "id": "OyI8J5lBvPTd",
    "outputId": "4afed4da-0dbf-46ad-8ea0-20cf37e11678"
   },
   "outputs": [
    {
     "data": {
      "text/html": [
       "<style>#sk-container-id-4 {color: black;background-color: white;}#sk-container-id-4 pre{padding: 0;}#sk-container-id-4 div.sk-toggleable {background-color: white;}#sk-container-id-4 label.sk-toggleable__label {cursor: pointer;display: block;width: 100%;margin-bottom: 0;padding: 0.3em;box-sizing: border-box;text-align: center;}#sk-container-id-4 label.sk-toggleable__label-arrow:before {content: \"▸\";float: left;margin-right: 0.25em;color: #696969;}#sk-container-id-4 label.sk-toggleable__label-arrow:hover:before {color: black;}#sk-container-id-4 div.sk-estimator:hover label.sk-toggleable__label-arrow:before {color: black;}#sk-container-id-4 div.sk-toggleable__content {max-height: 0;max-width: 0;overflow: hidden;text-align: left;background-color: #f0f8ff;}#sk-container-id-4 div.sk-toggleable__content pre {margin: 0.2em;color: black;border-radius: 0.25em;background-color: #f0f8ff;}#sk-container-id-4 input.sk-toggleable__control:checked~div.sk-toggleable__content {max-height: 200px;max-width: 100%;overflow: auto;}#sk-container-id-4 input.sk-toggleable__control:checked~label.sk-toggleable__label-arrow:before {content: \"▾\";}#sk-container-id-4 div.sk-estimator input.sk-toggleable__control:checked~label.sk-toggleable__label {background-color: #d4ebff;}#sk-container-id-4 div.sk-label input.sk-toggleable__control:checked~label.sk-toggleable__label {background-color: #d4ebff;}#sk-container-id-4 input.sk-hidden--visually {border: 0;clip: rect(1px 1px 1px 1px);clip: rect(1px, 1px, 1px, 1px);height: 1px;margin: -1px;overflow: hidden;padding: 0;position: absolute;width: 1px;}#sk-container-id-4 div.sk-estimator {font-family: monospace;background-color: #f0f8ff;border: 1px dotted black;border-radius: 0.25em;box-sizing: border-box;margin-bottom: 0.5em;}#sk-container-id-4 div.sk-estimator:hover {background-color: #d4ebff;}#sk-container-id-4 div.sk-parallel-item::after {content: \"\";width: 100%;border-bottom: 1px solid gray;flex-grow: 1;}#sk-container-id-4 div.sk-label:hover label.sk-toggleable__label {background-color: #d4ebff;}#sk-container-id-4 div.sk-serial::before {content: \"\";position: absolute;border-left: 1px solid gray;box-sizing: border-box;top: 0;bottom: 0;left: 50%;z-index: 0;}#sk-container-id-4 div.sk-serial {display: flex;flex-direction: column;align-items: center;background-color: white;padding-right: 0.2em;padding-left: 0.2em;position: relative;}#sk-container-id-4 div.sk-item {position: relative;z-index: 1;}#sk-container-id-4 div.sk-parallel {display: flex;align-items: stretch;justify-content: center;background-color: white;position: relative;}#sk-container-id-4 div.sk-item::before, #sk-container-id-4 div.sk-parallel-item::before {content: \"\";position: absolute;border-left: 1px solid gray;box-sizing: border-box;top: 0;bottom: 0;left: 50%;z-index: -1;}#sk-container-id-4 div.sk-parallel-item {display: flex;flex-direction: column;z-index: 1;position: relative;background-color: white;}#sk-container-id-4 div.sk-parallel-item:first-child::after {align-self: flex-end;width: 50%;}#sk-container-id-4 div.sk-parallel-item:last-child::after {align-self: flex-start;width: 50%;}#sk-container-id-4 div.sk-parallel-item:only-child::after {width: 0;}#sk-container-id-4 div.sk-dashed-wrapped {border: 1px dashed gray;margin: 0 0.4em 0.5em 0.4em;box-sizing: border-box;padding-bottom: 0.4em;background-color: white;}#sk-container-id-4 div.sk-label label {font-family: monospace;font-weight: bold;display: inline-block;line-height: 1.2em;}#sk-container-id-4 div.sk-label-container {text-align: center;}#sk-container-id-4 div.sk-container {/* jupyter's `normalize.less` sets `[hidden] { display: none; }` but bootstrap.min.css set `[hidden] { display: none !important; }` so we also need the `!important` here to be able to override the default hidden behavior on the sphinx rendered scikit-learn.org. See: https://github.com/scikit-learn/scikit-learn/issues/21755 */display: inline-block !important;position: relative;}#sk-container-id-4 div.sk-text-repr-fallback {display: none;}</style><div id=\"sk-container-id-4\" class=\"sk-top-container\"><div class=\"sk-text-repr-fallback\"><pre>RandomForestClassifier(class_weight=&#x27;balanced&#x27;)</pre><b>In a Jupyter environment, please rerun this cell to show the HTML representation or trust the notebook. <br />On GitHub, the HTML representation is unable to render, please try loading this page with nbviewer.org.</b></div><div class=\"sk-container\" hidden><div class=\"sk-item\"><div class=\"sk-estimator sk-toggleable\"><input class=\"sk-toggleable__control sk-hidden--visually\" id=\"sk-estimator-id-4\" type=\"checkbox\" checked><label for=\"sk-estimator-id-4\" class=\"sk-toggleable__label sk-toggleable__label-arrow\">RandomForestClassifier</label><div class=\"sk-toggleable__content\"><pre>RandomForestClassifier(class_weight=&#x27;balanced&#x27;)</pre></div></div></div></div></div>"
      ],
      "text/plain": [
       "RandomForestClassifier(class_weight='balanced')"
      ]
     },
     "execution_count": 62,
     "metadata": {},
     "output_type": "execute_result"
    }
   ],
   "source": [
    "model.fit(train_inputs, train_target)"
   ]
  },
  {
   "cell_type": "code",
   "execution_count": 63,
   "metadata": {
    "id": "S8VlpsLovRp4"
   },
   "outputs": [],
   "source": [
    "train_preds = model.predict(train_inputs)\n",
    "val_preds = model.predict(val_inputs)"
   ]
  },
  {
   "cell_type": "code",
   "execution_count": 64,
   "metadata": {
    "colab": {
     "base_uri": "https://localhost:8080/"
    },
    "id": "XKxo7u06vTPR",
    "outputId": "d38ae4a6-d9e2-48fe-d86c-52aa8d9982de"
   },
   "outputs": [
    {
     "data": {
      "text/plain": [
       "0.9999541221268983"
      ]
     },
     "execution_count": 64,
     "metadata": {},
     "output_type": "execute_result"
    }
   ],
   "source": [
    "f1_score(train_target, train_preds,pos_label='Yes')"
   ]
  },
  {
   "cell_type": "code",
   "execution_count": 65,
   "metadata": {
    "colab": {
     "base_uri": "https://localhost:8080/"
    },
    "id": "lH6dIWryvUM3",
    "outputId": "46bce33a-618a-4085-ca04-684ae8502f4f"
   },
   "outputs": [
    {
     "data": {
      "text/plain": [
       "0.5393424455116366"
      ]
     },
     "execution_count": 65,
     "metadata": {},
     "output_type": "execute_result"
    }
   ],
   "source": [
    "f1_score(val_target, val_preds,pos_label='Yes')"
   ]
  },
  {
   "cell_type": "code",
   "execution_count": 66,
   "metadata": {
    "id": "h08jd29_v3pE"
   },
   "outputs": [],
   "source": [
    "import xgboost as xgb"
   ]
  },
  {
   "cell_type": "code",
   "execution_count": 67,
   "metadata": {
    "colab": {
     "base_uri": "https://localhost:8080/"
    },
    "id": "brGnrhW_YFaA",
    "outputId": "4a776402-210a-4a71-9085-fec01d6157e3"
   },
   "outputs": [
    {
     "data": {
      "text/plain": [
       "0.7384750400082598"
      ]
     },
     "execution_count": 67,
     "metadata": {},
     "output_type": "execute_result"
    }
   ],
   "source": [
    "# Initialize an XGBoost classifier\n",
    "model = xgb.XGBClassifier()\n",
    "train_target = train_target.map({'No': 0, 'Yes': 1})\n",
    "val_target = val_target.map({'No': 0, 'Yes': 1})\n",
    "\n",
    "# Train the model\n",
    "model.fit(train_inputs, train_target)\n",
    "\n",
    "# Make predictions\n",
    "train_preds = model.predict(train_inputs)\n",
    "val_preds = model.predict(val_inputs)\n",
    "\n",
    "# Evaluate the model\n",
    "f1_score(train_target, train_preds)"
   ]
  },
  {
   "cell_type": "code",
   "execution_count": 68,
   "metadata": {
    "colab": {
     "base_uri": "https://localhost:8080/"
    },
    "id": "YLazjBahYd1_",
    "outputId": "98b40053-46c5-41bc-ecff-c86f48b80292"
   },
   "outputs": [
    {
     "data": {
      "text/plain": [
       "0.6006066734074823"
      ]
     },
     "execution_count": 68,
     "metadata": {},
     "output_type": "execute_result"
    }
   ],
   "source": [
    "f1_score(val_target, val_preds)"
   ]
  },
  {
   "cell_type": "markdown",
   "metadata": {
    "id": "Nb7rrbDwf8xl"
   },
   "source": [
    "With hyperparameter tuning, GridSearchCV & Cross-validation, the score can be improved even more."
   ]
  }
 ],
 "metadata": {
  "colab": {
   "provenance": []
  },
  "kernelspec": {
   "display_name": "Python 3 (ipykernel)",
   "language": "python",
   "name": "python3"
  },
  "language_info": {
   "codemirror_mode": {
    "name": "ipython",
    "version": 3
   },
   "file_extension": ".py",
   "mimetype": "text/x-python",
   "name": "python",
   "nbconvert_exporter": "python",
   "pygments_lexer": "ipython3",
   "version": "3.12.0"
  }
 },
 "nbformat": 4,
 "nbformat_minor": 4
}
