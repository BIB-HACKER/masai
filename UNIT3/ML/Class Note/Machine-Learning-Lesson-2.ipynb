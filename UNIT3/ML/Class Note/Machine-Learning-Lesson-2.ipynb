{
 "cells": [
  {
   "cell_type": "markdown",
   "id": "c369ac4d",
   "metadata": {},
   "source": [
    "# Linear Regression in Machine Learning\n",
    "\n",
    "<img src=\"https://miro.medium.com/v2/resize:fit:866/1*mTtQAgn-lZJP_5ZBUWyLhQ.png\" height=500 width=500>"
   ]
  },
  {
   "cell_type": "code",
   "execution_count": null,
   "id": "0b3e91bd",
   "metadata": {},
   "outputs": [],
   "source": [
    "y = mx+c"
   ]
  },
  {
   "cell_type": "code",
   "execution_count": null,
   "id": "cca89449",
   "metadata": {},
   "outputs": [],
   "source": [
    "y = age + salary + other_factor"
   ]
  },
  {
   "cell_type": "code",
   "execution_count": null,
   "id": "fc36798b",
   "metadata": {},
   "outputs": [],
   "source": []
  },
  {
   "cell_type": "code",
   "execution_count": null,
   "id": "2d24609d",
   "metadata": {},
   "outputs": [],
   "source": [
    "9 = 3*3"
   ]
  },
  {
   "cell_type": "code",
   "execution_count": null,
   "id": "63d62de6",
   "metadata": {},
   "outputs": [],
   "source": []
  },
  {
   "cell_type": "code",
   "execution_count": null,
   "id": "3683b501",
   "metadata": {},
   "outputs": [],
   "source": [
    "house sales - 9000, 10000, 12000, 14000 \n",
    "\n",
    "house rooms - 2, 3, 4, 5 "
   ]
  },
  {
   "cell_type": "code",
   "execution_count": null,
   "id": "09c0c975",
   "metadata": {},
   "outputs": [],
   "source": [
    "predicted sales, actual sales - bias or error"
   ]
  },
  {
   "cell_type": "code",
   "execution_count": null,
   "id": "d04def90",
   "metadata": {},
   "outputs": [],
   "source": [
    "training data - testing data \n",
    "\n",
    "inputs, ouputs - inputs "
   ]
  },
  {
   "cell_type": "code",
   "execution_count": null,
   "id": "fb0fa4e8",
   "metadata": {},
   "outputs": [],
   "source": [
    "y = mx + c "
   ]
  },
  {
   "cell_type": "code",
   "execution_count": null,
   "id": "cdf25847",
   "metadata": {},
   "outputs": [],
   "source": [
    "house_rooms - 5"
   ]
  },
  {
   "cell_type": "code",
   "execution_count": null,
   "id": "0fd51195",
   "metadata": {},
   "outputs": [],
   "source": [
    "yi = Wxi + B"
   ]
  },
  {
   "cell_type": "code",
   "execution_count": 55,
   "id": "8b6529a2",
   "metadata": {},
   "outputs": [],
   "source": [
    "def linear_equation(x):\n",
    "    y = 10 * x + 5 \n",
    "    return y"
   ]
  },
  {
   "cell_type": "code",
   "execution_count": null,
   "id": "97afdfa7",
   "metadata": {},
   "outputs": [],
   "source": [
    "oridinary least squares"
   ]
  },
  {
   "cell_type": "code",
   "execution_count": 56,
   "id": "9c478616",
   "metadata": {
    "scrolled": true
   },
   "outputs": [
    {
     "data": {
      "text/plain": [
       "65"
      ]
     },
     "execution_count": 56,
     "metadata": {},
     "output_type": "execute_result"
    }
   ],
   "source": [
    "linear_equation(6)"
   ]
  },
  {
   "cell_type": "code",
   "execution_count": null,
   "id": "2a848e35",
   "metadata": {},
   "outputs": [],
   "source": [
    "#Linear equation\n",
    "\n",
    "\n",
    "Y = MX + C\n",
    "\n",
    "M - Slope\n",
    "\n",
    "C - Intercept\n",
    "\n",
    "X - indepedent\n",
    "\n",
    "Y - dependent"
   ]
  },
  {
   "cell_type": "markdown",
   "id": "068dd8cc",
   "metadata": {},
   "source": [
    "### Example\n",
    "\n",
    "| Hours Worked | Money Earned |\n",
    "| --- | --- |\n",
    "| 5   | \\$50 |\n",
    "| 10  | \\$100 |\n",
    "| 15  | \\$150 |\n",
    "| 20  | \\$200 |\n",
    "| 25  | \\$250 |\n",
    "\n",
    "If we plot the same in a graph, we’ll get a straight line."
   ]
  },
  {
   "cell_type": "code",
   "execution_count": 5,
   "id": "32ca74f2",
   "metadata": {},
   "outputs": [],
   "source": [
    "import matplotlib.pyplot as plt"
   ]
  },
  {
   "cell_type": "code",
   "execution_count": 4,
   "id": "087c3b43",
   "metadata": {},
   "outputs": [
    {
     "data": {
      "image/png": "[encoded data removed]",
      "text/plain": [
       "<Figure size 432x288 with 1 Axes>"
      ]
     },
     "metadata": {
      "needs_background": "light"
     },
     "output_type": "display_data"
    }
   ],
   "source": [
    "plt.plot([5,10,15,20,25],[50,100,150,200,250]);"
   ]
  },
  {
   "cell_type": "markdown",
   "id": "48ef1b83",
   "metadata": {},
   "source": [
    "On the x-axis, we have the number of hours worked, and on the y-axis, we have the amount of money earned. Each point on the graph represents one data point from the table we used to create the model. "
   ]
  },
  {
   "cell_type": "markdown",
   "id": "8990356c",
   "metadata": {},
   "source": [
    "> The line that goes through the points is the \"line of best fit\" or the \"regression line\". This line helps us predict how much money you might earn if you work more or fewer hours than we have data for.\n",
    "\n",
    "In this example, the line has a positive slope, which means that the more hours you work, the more money you will earn. We can use the equation for the line (y = mx + b) to calculate how much money you might earn for a given number of hours worked.\n",
    "\n",
    "For example, if you work 30 hours, we can estimate that you will earn:\n",
    "\n",
    "y = mx + b\n",
    "y = 10x + 0\n",
    "y = 10(30) + 0\n",
    "y = $300\n",
    "\n",
    "So, according to this linear regression model, if you work 30 hours, you can expect to earn around $300. Of course, this is just an estimate and actual earnings may vary depending on factors like pay rate and job performance."
   ]
  },
  {
   "cell_type": "markdown",
   "id": "b2ac81f3",
   "metadata": {},
   "source": [
    "> The line is characterized two numbers: $w$ (called \"slope\") and $b$ (called \"intercept\"). \n",
    "\n",
    "We'll try determine $w$ and $b$ for the line that best fits the data. \n",
    "\n",
    "* This technique is called _linear regression_, and we call the above equation a _linear regression model_, because it models the relationship between \"hours worked\" and \"money earned\" as a straight line. \n",
    "\n",
    "* The numbers \\$w$ and $b$ are called the _parameters_ or _weights_ of the model.\n",
    "\n",
    "* The values in the \"x\" column of the dataset are called the _inputs_ to the model and the values in the \"y\" column are called \"targets\". "
   ]
  },
  {
   "cell_type": "markdown",
   "id": "9fb0801b",
   "metadata": {},
   "source": [
    "#### Consider Another Example\n",
    "\n",
    "| x | y |\n",
    "| --- | --- |\n",
    "| No of Rooms | House Price |\n",
    "| 6 | 8000000 |\n",
    "| 5 | 7000000 |\n",
    "| 4 | 6000000 |\n",
    "| 3 | 5000000 |\n",
    "| 2 | 4000000 |\n",
    "| 1 | 3000000 |\n",
    "| 0 | 2000000 |"
   ]
  },
  {
   "cell_type": "code",
   "execution_count": 70,
   "id": "7e244f95",
   "metadata": {},
   "outputs": [],
   "source": [
    "inputs = [6,5,4,3,2,1,0]"
   ]
  },
  {
   "cell_type": "code",
   "execution_count": 71,
   "id": "2564fa97",
   "metadata": {},
   "outputs": [],
   "source": [
    "targets = [8000000,7000000,6000000,5000000,4000000,3000000,2000000]"
   ]
  },
  {
   "cell_type": "code",
   "execution_count": 72,
   "id": "281e1569",
   "metadata": {},
   "outputs": [],
   "source": [
    "w = 3500\n",
    "\n",
    "b = 41000"
   ]
  },
  {
   "cell_type": "code",
   "execution_count": null,
   "id": "6118b47e",
   "metadata": {},
   "outputs": [],
   "source": [
    "y = 3500 * x + 41000"
   ]
  },
  {
   "cell_type": "code",
   "execution_count": 73,
   "id": "dc91b3cb",
   "metadata": {},
   "outputs": [],
   "source": [
    "y1 = 3500 * 6 + 41000"
   ]
  },
  {
   "cell_type": "code",
   "execution_count": 75,
   "id": "0867ab24",
   "metadata": {},
   "outputs": [],
   "source": [
    "y2 = 3500 * 5+ 41000"
   ]
  },
  {
   "cell_type": "code",
   "execution_count": 76,
   "id": "cae43d21",
   "metadata": {},
   "outputs": [],
   "source": [
    "y3 = 3500 * 4+ 41000"
   ]
  },
  {
   "cell_type": "code",
   "execution_count": 77,
   "id": "c4f87b4b",
   "metadata": {},
   "outputs": [
    {
     "data": {
      "text/plain": [
       "62000"
      ]
     },
     "execution_count": 77,
     "metadata": {},
     "output_type": "execute_result"
    }
   ],
   "source": [
    "y1"
   ]
  },
  {
   "cell_type": "code",
   "execution_count": 78,
   "id": "31002a07",
   "metadata": {},
   "outputs": [
    {
     "data": {
      "text/plain": [
       "58500"
      ]
     },
     "execution_count": 78,
     "metadata": {},
     "output_type": "execute_result"
    }
   ],
   "source": [
    "y2"
   ]
  },
  {
   "cell_type": "code",
   "execution_count": 79,
   "id": "26d34024",
   "metadata": {},
   "outputs": [
    {
     "data": {
      "text/plain": [
       "55000"
      ]
     },
     "execution_count": 79,
     "metadata": {},
     "output_type": "execute_result"
    }
   ],
   "source": [
    "y3"
   ]
  },
  {
   "cell_type": "code",
   "execution_count": 67,
   "id": "f896f6bb",
   "metadata": {},
   "outputs": [
    {
     "data": {
      "image/png": "[encoded data removed]",
      "text/plain": [
       "<Figure size 432x288 with 1 Axes>"
      ]
     },
     "metadata": {
      "needs_background": "light"
     },
     "output_type": "display_data"
    }
   ],
   "source": [
    "plt.plot([6,5,4,3,2,1,0],[8000000,7000000,6000000,5000000,4000000,3000000,2000000]);"
   ]
  },
  {
   "cell_type": "code",
   "execution_count": null,
   "id": "2d22dd35",
   "metadata": {},
   "outputs": [],
   "source": [
    "y = 3500 x + 40000"
   ]
  },
  {
   "cell_type": "code",
   "execution_count": 68,
   "id": "fbaa8da9",
   "metadata": {},
   "outputs": [],
   "source": [
    "y1 = 3500 *6 + 40000"
   ]
  },
  {
   "cell_type": "code",
   "execution_count": 69,
   "id": "3a669b98",
   "metadata": {},
   "outputs": [
    {
     "data": {
      "text/plain": [
       "61000"
      ]
     },
     "execution_count": 69,
     "metadata": {},
     "output_type": "execute_result"
    }
   ],
   "source": [
    "y1"
   ]
  },
  {
   "cell_type": "code",
   "execution_count": 8,
   "id": "c010ead3",
   "metadata": {},
   "outputs": [],
   "source": [
    "#Add your explanation"
   ]
  },
  {
   "cell_type": "markdown",
   "id": "5276cd51",
   "metadata": {},
   "source": [
    "> The goal of linear regression is to draw the line that passes as close to these points as possible."
   ]
  },
  {
   "cell_type": "markdown",
   "id": "8a4cf304",
   "metadata": {},
   "source": [
    "<img src=\"https://masai-school.notion.site/image/https%3A%2F%2Fs3-us-west-2.amazonaws.com%2Fsecure.notion-static.com%2F87d8a9e6-687e-4819-914c-9e06db4d86d2%2FUntitled.png?table=block&id=fae8b706-f42f-4c6c-9bf3-a914fc33d5c7&spaceId=ff94b4dd-cb13-4ede-8019-d6a8215bf3d5&width=1340&userId=&cache=v2\" height=200 width=200>\n"
   ]
  },
  {
   "cell_type": "markdown",
   "id": "f676c124",
   "metadata": {},
   "source": [
    "But how can we make computer to draw a line which passes as close to all the points. 🤔\n",
    "\n",
    "We can use one thing a machine is good at, **iterations.**\n",
    "\n",
    "**Procedure:**"
   ]
  },
  {
   "cell_type": "markdown",
   "id": "3f82d072",
   "metadata": {},
   "source": [
    "- Pick a random line\n",
    "\n",
    "- Repeat many times:\n",
    "\n",
    "   – Pick a random data point.\n",
    "     \n",
    "   – Move the line a little closer to that point.\n",
    "   \n",
    "- Return the line you’ve obtained."
   ]
  },
  {
   "cell_type": "markdown",
   "id": "0870a2f7",
   "metadata": {},
   "source": [
    "<img src=\"https://masai-school.notion.site/image/https%3A%2F%2Fs3-us-west-2.amazonaws.com%2Fsecure.notion-static.com%2Fcacf8a98-9120-4dcf-b947-7b49c1aa5d59%2FUntitled.png?table=block&id=c628286a-3ec6-466f-9ec3-b886f43f7ac6&spaceId=ff94b4dd-cb13-4ede-8019-d6a8215bf3d5&width=1530&userId=&cache=v2\" height=500 width=500>"
   ]
  },
  {
   "cell_type": "markdown",
   "id": "47d7bd45",
   "metadata": {},
   "source": [
    "Let's say we have a linear regression model that predicts the salary of a data analyst based on their years of experience. We define the following variables:\n",
    "\n",
    "- s: The salary of a data analyst in the dataset\n",
    "- sˆ: The predicted salary of a data analyst\n",
    "- e: The number of years of experience\n",
    "- m: The salary increase per year of experience\n",
    "- b: The base salary for a data analyst with zero years of experience\n",
    "\n",
    "The equation for the linear regression model that predicts the salary based on years of experience is:"
   ]
  },
  {
   "cell_type": "markdown",
   "id": "91dd3c64",
   "metadata": {},
   "source": [
    "**sˆ = me + b**"
   ]
  },
  {
   "cell_type": "markdown",
   "id": "60e6c97b",
   "metadata": {},
   "source": [
    "*In other words:*\n",
    "\n",
    "Predicted salary = (Salary increase per year of experience) x (Number of years of experience) + (Base salary for a data analyst with zero years of experience)\n",
    "\n",
    "Let's say our model predicts that the base salary for a data analyst is \\\\$50,000 and the salary increase per year of experience is \\\\$3,000. We can use this model to predict the salary of a data analyst with two years of experience:"
   ]
  },
  {
   "cell_type": "code",
   "execution_count": 9,
   "id": "9081ba5a",
   "metadata": {},
   "outputs": [
    {
     "data": {
      "text/plain": [
       "56000"
      ]
     },
     "execution_count": 9,
     "metadata": {},
     "output_type": "execute_result"
    }
   ],
   "source": [
    "sˆ = 3000*2 + 50000\n",
    "sˆ"
   ]
  },
  {
   "cell_type": "markdown",
   "id": "aed4b954",
   "metadata": {},
   "source": [
    "Now let's say we have data on a data analyst with two years of experience and a salary of \\\\$60,000. Our model has made an error in predicting the salary for this data point. To improve the model, we can adjust the salary increase per year of experience and/or the base salary. Let's increase the salary increase per year of experience by \\\\$500 and the base salary by \\\\$1,000 (randomly chosen values). The new equation for our model is:"
   ]
  },
  {
   "cell_type": "markdown",
   "id": "e9746e29",
   "metadata": {},
   "source": [
    "**sˆ = 3500 x e + 51000**"
   ]
  },
  {
   "cell_type": "markdown",
   "id": "68566a44",
   "metadata": {},
   "source": [
    "Using this new equation, we can predict the salary of a data analyst with two years of experience:"
   ]
  },
  {
   "cell_type": "code",
   "execution_count": null,
   "id": "e45b42fc",
   "metadata": {},
   "outputs": [],
   "source": [
    "y = mx + c "
   ]
  },
  {
   "cell_type": "code",
   "execution_count": null,
   "id": "8552a27d",
   "metadata": {},
   "outputs": [],
   "source": []
  },
  {
   "cell_type": "code",
   "execution_count": null,
   "id": "6f60dd37",
   "metadata": {},
   "outputs": [],
   "source": [
    "y = 3500*X + 51000"
   ]
  },
  {
   "cell_type": "code",
   "execution_count": null,
   "id": "803c92e7",
   "metadata": {},
   "outputs": [],
   "source": [
    "y = Mx+C "
   ]
  },
  {
   "cell_type": "code",
   "execution_count": null,
   "id": "59f70784",
   "metadata": {},
   "outputs": [],
   "source": [
    "2,3,4,5,6"
   ]
  },
  {
   "cell_type": "code",
   "execution_count": 60,
   "id": "97ba63c2",
   "metadata": {},
   "outputs": [
    {
     "data": {
      "text/plain": [
       "4.0"
      ]
     },
     "execution_count": 60,
     "metadata": {},
     "output_type": "execute_result"
    }
   ],
   "source": [
    "np.mean([2,3,4,5,6])"
   ]
  },
  {
   "cell_type": "code",
   "execution_count": 61,
   "id": "e924c52d",
   "metadata": {},
   "outputs": [],
   "source": [
    "x_mean = 4"
   ]
  },
  {
   "cell_type": "code",
   "execution_count": 63,
   "id": "37b0b278",
   "metadata": {},
   "outputs": [],
   "source": [
    "y_mean = 46000"
   ]
  },
  {
   "cell_type": "code",
   "execution_count": null,
   "id": "27542ca2",
   "metadata": {},
   "outputs": [],
   "source": [
    "list of values has outliers - you cannot use mean - you use median "
   ]
  },
  {
   "cell_type": "code",
   "execution_count": 62,
   "id": "89677517",
   "metadata": {},
   "outputs": [
    {
     "data": {
      "text/plain": [
       "46000.0"
      ]
     },
     "execution_count": 62,
     "metadata": {},
     "output_type": "execute_result"
    }
   ],
   "source": [
    "np.mean([40000, 50000, 60000, 20000, 60000])"
   ]
  },
  {
   "cell_type": "code",
   "execution_count": 64,
   "id": "42a1a371",
   "metadata": {},
   "outputs": [],
   "source": [
    "weight = 1000\n",
    "\n",
    "bias = 6000"
   ]
  },
  {
   "cell_type": "code",
   "execution_count": 66,
   "id": "1111d118",
   "metadata": {},
   "outputs": [
    {
     "data": {
      "text/plain": [
       "46000"
      ]
     },
     "execution_count": 66,
     "metadata": {},
     "output_type": "execute_result"
    }
   ],
   "source": [
    "y_4 = 4 * 1000 + 42000\n",
    "\n",
    "y_4"
   ]
  },
  {
   "cell_type": "code",
   "execution_count": null,
   "id": "53ff5318",
   "metadata": {},
   "outputs": [],
   "source": [
    "y = 3500 * x + 51000"
   ]
  },
  {
   "cell_type": "code",
   "execution_count": 57,
   "id": "d907b10d",
   "metadata": {},
   "outputs": [],
   "source": [
    "year_of_experience = [2,3,4,5,6]\n",
    "\n",
    "salaries = [40000, 50000, 60000, 20000, 60000]"
   ]
  },
  {
   "cell_type": "code",
   "execution_count": 58,
   "id": "2a13fe10",
   "metadata": {},
   "outputs": [],
   "source": [
    "def salary_equation(yoe):\n",
    "    y =  * yoe + 15000"
   ]
  },
  {
   "cell_type": "code",
   "execution_count": null,
   "id": "153281fe",
   "metadata": {},
   "outputs": [],
   "source": [
    "ordinary least square method "
   ]
  },
  {
   "cell_type": "code",
   "execution_count": null,
   "id": "146ebfbd",
   "metadata": {},
   "outputs": [],
   "source": []
  },
  {
   "cell_type": "code",
   "execution_count": null,
   "id": "5abf219b",
   "metadata": {},
   "outputs": [],
   "source": []
  },
  {
   "cell_type": "code",
   "execution_count": null,
   "id": "f0ecedb3",
   "metadata": {},
   "outputs": [],
   "source": []
  },
  {
   "cell_type": "code",
   "execution_count": null,
   "id": "f3c7f270",
   "metadata": {},
   "outputs": [],
   "source": []
  },
  {
   "cell_type": "code",
   "execution_count": null,
   "id": "54c3794d",
   "metadata": {},
   "outputs": [],
   "source": []
  },
  {
   "cell_type": "code",
   "execution_count": 10,
   "id": "ddcc0f7e",
   "metadata": {},
   "outputs": [
    {
     "data": {
      "text/plain": [
       "58000"
      ]
     },
     "execution_count": 10,
     "metadata": {},
     "output_type": "execute_result"
    }
   ],
   "source": [
    "sˆ = 3500*2 + 51000\n",
    "sˆ"
   ]
  },
  {
   "cell_type": "markdown",
   "id": "db07d4ef",
   "metadata": {},
   "source": [
    "Now our model's prediction is closer to the actual salary of the data analyst in the dataset, so it's a better fit for that data point. We can continue to adjust the parameters of our model to improve its accuracy for other data points as well."
   ]
  },
  {
   "cell_type": "markdown",
   "id": "7664bd3d",
   "metadata": {},
   "source": [
    "Procedure:\n",
    "- Pick a model with random weights and a random bias.\n",
    "\n",
    "- Repeat many times:\n",
    "\n",
    "   – Pick a random data point.\n",
    "   \n",
    "   – Slightly adjust the weights and bias to improve the prediction for that particular data point.\n",
    "   \n",
    "- Return the model you’ve obtained.\n",
    "\n",
    "But few questions: \n",
    "\n",
    "- By how much should I adjust the weights?\n",
    "- How many times should I repeat the algorithm? In other words, how do I know when I’m done?\n",
    "- How do I know that this algorithm works?\n",
    "\n",
    "For this we need to understand a bit of linear algebra:\n",
    "\n",
    "The equation of a line has the following two components:\n",
    "- The slope\n",
    "- The y-intercept\n",
    "\n",
    "The slope tells us how steep the line is, and the y-intercept tells us where the line is located.\n",
    "\n",
    "Eg: s = 3,500 x e + 51,000\n",
    "\n",
    "In this case, slope - 3500\n",
    "\n",
    "intercept - 51000\n",
    "\n",
    "<img src =\"https://masai-school.notion.site/image/https%3A%2F%2Fs3-us-west-2.amazonaws.com%2Fsecure.notion-static.com%2Fb5a05be8-3a2e-4e59-b553-98fd2451fadb%2FUntitled.png?table=block&id=95f44c4c-3430-4caa-bbc0-07ab22159d54&spaceId=ff94b4dd-cb13-4ede-8019-d6a8215bf3d5&width=1360&userId=&cache=v2\" height=500 width=500>"
   ]
  },
  {
   "cell_type": "markdown",
   "id": "7f7fc689",
   "metadata": {},
   "source": [
    "In the above image, slope = 0.5, intercept = 2\n",
    "\n",
    "What does it mean by slope = 0.5?\n",
    "\n",
    "It means that when we walk along this line, for every unit that we move to the right, we are moving 0.5 units up\n",
    "\n",
    "In other words, the slope of the line tells us the direction in which the line is pointing, and the y-intercept tells us the location of the line. \n",
    "\n",
    "<img src =\"https://masai-school.notion.site/image/https%3A%2F%2Fs3-us-west-2.amazonaws.com%2Fsecure.notion-static.com%2F312fb409-28d8-467b-98a2-743abee33fe5%2FUntitled.png?table=block&id=6c73722c-d5a9-482a-9a9b-0c08cec992fc&spaceId=ff94b4dd-cb13-4ede-8019-d6a8215bf3d5&width=1420&userId=&cache=v2\" height=500 width=500>"
   ]
  },
  {
   "cell_type": "markdown",
   "id": "9f858d1b",
   "metadata": {},
   "source": [
    "**Question:**\n",
    "\n",
    "How will the line move if we increase the slope of the line?\n",
    "\n",
    "- If we increase the slope of a line, the line will rotate counterclockwise.\n",
    "- If we decrease the slope of a line, the line will rotate clockwise.\n",
    "\n",
    "Similarly,\n",
    "\n",
    "- If we increase the y-intercept of a line, the line is translated upward.\n",
    "- If we decrease the y-intercept of a line, the line is translated downward.\n",
    "\n",
    "<img src =\"https://masai-school.notion.site/image/https%3A%2F%2Fs3-us-west-2.amazonaws.com%2Fsecure.notion-static.com%2Fdc8109f7-1756-42fc-adeb-da5bf0e49ebd%2FUntitled.png?table=block&id=7a32c358-ddc5-4c5b-ada7-a9bb3a4446a0&spaceId=ff94b4dd-cb13-4ede-8019-d6a8215bf3d5&width=1440&userId=&cache=v2\" height=500 width=500>"
   ]
  },
  {
   "cell_type": "markdown",
   "id": "01d8ce47",
   "metadata": {},
   "source": [
    "Now, How to move line closed to a point?\n",
    "\n",
    "<img src =\"https://masai-school.notion.site/image/https%3A%2F%2Fs3-us-west-2.amazonaws.com%2Fsecure.notion-static.com%2F8615f40b-668f-4f73-9133-6016d9516de7%2FUntitled.png?table=block&id=942df953-1253-45b7-8fbe-ecca879209ad&spaceId=ff94b4dd-cb13-4ede-8019-d6a8215bf3d5&width=1420&userId=&cache=v2\" height=500 width=500>\n",
    "\n",
    "Question: Consider a point in four different quadrants of x and y axes. \n",
    "\n",
    "<img src =\"https://masai-school.notion.site/image/https%3A%2F%2Fs3-us-west-2.amazonaws.com%2Fsecure.notion-static.com%2Fcfd587ad-d57d-4cb1-9d00-9ae6df80e1de%2FUntitled.png?table=block&id=766ccbbd-5393-4d70-b745-b081d7d63513&spaceId=ff94b4dd-cb13-4ede-8019-d6a8215bf3d5&width=1410&userId=&cache=v2\" height=500 width=500>\n",
    "We need to adjust the intercept and slope of the line accordingly so that we get the final line which is close to most of the points\n",
    "\n",
    "<img src =\"https://masai-school.notion.site/image/https%3A%2F%2Fs3-us-west-2.amazonaws.com%2Fsecure.notion-static.com%2F476d5072-f216-4529-bba4-5136bc849f87%2FUntitled.png?table=block&id=8fa5af52-8334-4eec-b344-5b5d71683117&spaceId=ff94b4dd-cb13-4ede-8019-d6a8215bf3d5&width=1310&userId=&cache=v2\" height=500 width=500>"
   ]
  },
  {
   "cell_type": "markdown",
   "id": "38a16e5f",
   "metadata": {},
   "source": [
    "**Learning rate:** A very small number that we pick before training our model. This number helps us make sure our model changes in very small amounts by training. The learning rate will be denoted by **η**, the Greek letter eta.\n",
    "\n",
    "**Inputs:**\n",
    "- A model with equation y= w1x1+b\n",
    "- A point with coordinates (x, y)\n",
    "- A small positive value **η** (the learning rate)\n",
    "\n",
    "**Outputs:**\n",
    "- A model with equation yˆ = w1’x1+b’ that is closer to the point\n",
    "\n",
    "**Procedure:**\n",
    "- Add **η**(y – yˆ) to the y-intercept b. Obtain b’ = b + **η**(y – yˆ).\n",
    "- For i = 1, 2, …, n:\n",
    "- Add **η**x(y – yˆ) to the weight wi. Obtain wi’ = wi + **η**r(y – yˆ).\n",
    "\n",
    "**Return:** \n",
    "- The model with equation yˆ = w1’x1+b’\n",
    "\n",
    "Now, As you understood how linear regression works, Answer this:\n",
    "\n",
    "Which line fit is better?\n",
    "\n",
    "<img src =\"https://masai-school.notion.site/image/https%3A%2F%2Fs3-us-west-2.amazonaws.com%2Fsecure.notion-static.com%2Fe83b1f9a-32bf-4013-aa40-f6cef4b969bc%2FUntitled.png?table=block&id=d63357d1-f5b5-4792-882b-fd76cdd201d8&spaceId=ff94b4dd-cb13-4ede-8019-d6a8215bf3d5&width=1370&userId=&cache=v2\" height=500 width=500>\n",
    "\n",
    "<img src =\"https://masai-school.notion.site/image/https%3A%2F%2Fs3-us-west-2.amazonaws.com%2Fsecure.notion-static.com%2F4df31b55-c10c-46e3-bd62-15224f08f21a%2FUntitled.png?table=block&id=587f0796-9775-460c-adf7-59a58740ad98&spaceId=ff94b4dd-cb13-4ede-8019-d6a8215bf3d5&width=1370&userId=&cache=v2\" height=500 width=500>\n",
    "\n",
    "Case 2 seems better as distance between line and points is minimum. But both the lines make sense.\n",
    "\n",
    "How do we measure our results and figure our which is better?"
   ]
  },
  {
   "cell_type": "markdown",
   "id": "fd22eb11",
   "metadata": {},
   "source": [
    "**The Error Function:**\n",
    "\n",
    "There are two types of Error:\n",
    "\n",
    "- Absolute error\n",
    "- Square error\n",
    "\n",
    "**Absolute Error:**\n",
    "\n",
    "Absolute error is the sum of vertical distances from the line to the points in the dataset, and the square error is the sum of the squares of these distances.\n",
    "\n",
    "<img src =\"https://masai-school.notion.site/image/https%3A%2F%2Fs3-us-west-2.amazonaws.com%2Fsecure.notion-static.com%2F670759f1-fc68-4df9-9c5f-89e7a8d263d5%2FUntitled.png?table=block&id=03b6ce51-bf57-4495-884d-546b606966ba&spaceId=ff94b4dd-cb13-4ede-8019-d6a8215bf3d5&width=1400&userId=&cache=v2\" height=500 width=500>\n",
    "\n",
    "<img src =\"https://masai-school.notion.site/image/https%3A%2F%2Fs3-us-west-2.amazonaws.com%2Fsecure.notion-static.com%2Fbc603425-a074-4fda-81fd-a4cb973519ea%2FUntitled.png?table=block&id=c2844904-763c-43e1-9c6a-547fb4e29a7a&spaceId=ff94b4dd-cb13-4ede-8019-d6a8215bf3d5&width=1360&userId=&cache=v2\" height=500 width=500>\n",
    "\n",
    "Mean absolute and (root) mean square errors are more common in real life."
   ]
  },
  {
   "cell_type": "code",
   "execution_count": 12,
   "id": "f9652d4e",
   "metadata": {},
   "outputs": [],
   "source": [
    "import opendatasets as od\n",
    "import pandas as pd"
   ]
  },
  {
   "cell_type": "code",
   "execution_count": 80,
   "id": "0e68c7b2",
   "metadata": {},
   "outputs": [
    {
     "name": "stdout",
     "output_type": "stream",
     "text": [
      "Skipping, found downloaded files in \"./life-expectancy-who\" (use force=True to force download)\n"
     ]
    }
   ],
   "source": [
    "od.download('https://www.kaggle.com/datasets/kumarajarshi/life-expectancy-who')"
   ]
  },
  {
   "cell_type": "code",
   "execution_count": 83,
   "id": "ea5526fc",
   "metadata": {},
   "outputs": [],
   "source": [
    "df = pd.read_csv('life-expectancy-who/Life Expectancy Data.csv')"
   ]
  },
  {
   "cell_type": "code",
   "execution_count": 82,
   "id": "13e39a6b",
   "metadata": {},
   "outputs": [
    {
     "data": {
      "text/html": [
       "<div>\n",
       "<style scoped>\n",
       "    .dataframe tbody tr th:only-of-type {\n",
       "        vertical-align: middle;\n",
       "    }\n",
       "\n",
       "    .dataframe tbody tr th {\n",
       "        vertical-align: top;\n",
       "    }\n",
       "\n",
       "    .dataframe thead th {\n",
       "        text-align: right;\n",
       "    }\n",
       "</style>\n",
       "<table border=\"1\" class=\"dataframe\">\n",
       "  <thead>\n",
       "    <tr style=\"text-align: right;\">\n",
       "      <th></th>\n",
       "      <th>Country</th>\n",
       "      <th>Year</th>\n",
       "      <th>Status</th>\n",
       "      <th>Life expectancy</th>\n",
       "      <th>Adult Mortality</th>\n",
       "      <th>infant deaths</th>\n",
       "      <th>Alcohol</th>\n",
       "      <th>percentage expenditure</th>\n",
       "      <th>Hepatitis B</th>\n",
       "      <th>Measles</th>\n",
       "      <th>...</th>\n",
       "      <th>Polio</th>\n",
       "      <th>Total expenditure</th>\n",
       "      <th>Diphtheria</th>\n",
       "      <th>HIV/AIDS</th>\n",
       "      <th>GDP</th>\n",
       "      <th>Population</th>\n",
       "      <th>thinness  1-19 years</th>\n",
       "      <th>thinness 5-9 years</th>\n",
       "      <th>Income composition of resources</th>\n",
       "      <th>Schooling</th>\n",
       "    </tr>\n",
       "  </thead>\n",
       "  <tbody>\n",
       "    <tr>\n",
       "      <th>0</th>\n",
       "      <td>Afghanistan</td>\n",
       "      <td>2015</td>\n",
       "      <td>Developing</td>\n",
       "      <td>65.0</td>\n",
       "      <td>263.0</td>\n",
       "      <td>62</td>\n",
       "      <td>0.01</td>\n",
       "      <td>71.279624</td>\n",
       "      <td>65.0</td>\n",
       "      <td>1154</td>\n",
       "      <td>...</td>\n",
       "      <td>6.0</td>\n",
       "      <td>8.16</td>\n",
       "      <td>65.0</td>\n",
       "      <td>0.1</td>\n",
       "      <td>584.259210</td>\n",
       "      <td>33736494.0</td>\n",
       "      <td>17.2</td>\n",
       "      <td>17.3</td>\n",
       "      <td>0.479</td>\n",
       "      <td>10.1</td>\n",
       "    </tr>\n",
       "    <tr>\n",
       "      <th>1</th>\n",
       "      <td>Afghanistan</td>\n",
       "      <td>2014</td>\n",
       "      <td>Developing</td>\n",
       "      <td>59.9</td>\n",
       "      <td>271.0</td>\n",
       "      <td>64</td>\n",
       "      <td>0.01</td>\n",
       "      <td>73.523582</td>\n",
       "      <td>62.0</td>\n",
       "      <td>492</td>\n",
       "      <td>...</td>\n",
       "      <td>58.0</td>\n",
       "      <td>8.18</td>\n",
       "      <td>62.0</td>\n",
       "      <td>0.1</td>\n",
       "      <td>612.696514</td>\n",
       "      <td>327582.0</td>\n",
       "      <td>17.5</td>\n",
       "      <td>17.5</td>\n",
       "      <td>0.476</td>\n",
       "      <td>10.0</td>\n",
       "    </tr>\n",
       "    <tr>\n",
       "      <th>2</th>\n",
       "      <td>Afghanistan</td>\n",
       "      <td>2013</td>\n",
       "      <td>Developing</td>\n",
       "      <td>59.9</td>\n",
       "      <td>268.0</td>\n",
       "      <td>66</td>\n",
       "      <td>0.01</td>\n",
       "      <td>73.219243</td>\n",
       "      <td>64.0</td>\n",
       "      <td>430</td>\n",
       "      <td>...</td>\n",
       "      <td>62.0</td>\n",
       "      <td>8.13</td>\n",
       "      <td>64.0</td>\n",
       "      <td>0.1</td>\n",
       "      <td>631.744976</td>\n",
       "      <td>31731688.0</td>\n",
       "      <td>17.7</td>\n",
       "      <td>17.7</td>\n",
       "      <td>0.470</td>\n",
       "      <td>9.9</td>\n",
       "    </tr>\n",
       "    <tr>\n",
       "      <th>3</th>\n",
       "      <td>Afghanistan</td>\n",
       "      <td>2012</td>\n",
       "      <td>Developing</td>\n",
       "      <td>59.5</td>\n",
       "      <td>272.0</td>\n",
       "      <td>69</td>\n",
       "      <td>0.01</td>\n",
       "      <td>78.184215</td>\n",
       "      <td>67.0</td>\n",
       "      <td>2787</td>\n",
       "      <td>...</td>\n",
       "      <td>67.0</td>\n",
       "      <td>8.52</td>\n",
       "      <td>67.0</td>\n",
       "      <td>0.1</td>\n",
       "      <td>669.959000</td>\n",
       "      <td>3696958.0</td>\n",
       "      <td>17.9</td>\n",
       "      <td>18.0</td>\n",
       "      <td>0.463</td>\n",
       "      <td>9.8</td>\n",
       "    </tr>\n",
       "    <tr>\n",
       "      <th>4</th>\n",
       "      <td>Afghanistan</td>\n",
       "      <td>2011</td>\n",
       "      <td>Developing</td>\n",
       "      <td>59.2</td>\n",
       "      <td>275.0</td>\n",
       "      <td>71</td>\n",
       "      <td>0.01</td>\n",
       "      <td>7.097109</td>\n",
       "      <td>68.0</td>\n",
       "      <td>3013</td>\n",
       "      <td>...</td>\n",
       "      <td>68.0</td>\n",
       "      <td>7.87</td>\n",
       "      <td>68.0</td>\n",
       "      <td>0.1</td>\n",
       "      <td>63.537231</td>\n",
       "      <td>2978599.0</td>\n",
       "      <td>18.2</td>\n",
       "      <td>18.2</td>\n",
       "      <td>0.454</td>\n",
       "      <td>9.5</td>\n",
       "    </tr>\n",
       "    <tr>\n",
       "      <th>...</th>\n",
       "      <td>...</td>\n",
       "      <td>...</td>\n",
       "      <td>...</td>\n",
       "      <td>...</td>\n",
       "      <td>...</td>\n",
       "      <td>...</td>\n",
       "      <td>...</td>\n",
       "      <td>...</td>\n",
       "      <td>...</td>\n",
       "      <td>...</td>\n",
       "      <td>...</td>\n",
       "      <td>...</td>\n",
       "      <td>...</td>\n",
       "      <td>...</td>\n",
       "      <td>...</td>\n",
       "      <td>...</td>\n",
       "      <td>...</td>\n",
       "      <td>...</td>\n",
       "      <td>...</td>\n",
       "      <td>...</td>\n",
       "      <td>...</td>\n",
       "    </tr>\n",
       "    <tr>\n",
       "      <th>2933</th>\n",
       "      <td>Zimbabwe</td>\n",
       "      <td>2004</td>\n",
       "      <td>Developing</td>\n",
       "      <td>44.3</td>\n",
       "      <td>723.0</td>\n",
       "      <td>27</td>\n",
       "      <td>4.36</td>\n",
       "      <td>0.000000</td>\n",
       "      <td>68.0</td>\n",
       "      <td>31</td>\n",
       "      <td>...</td>\n",
       "      <td>67.0</td>\n",
       "      <td>7.13</td>\n",
       "      <td>65.0</td>\n",
       "      <td>33.6</td>\n",
       "      <td>454.366654</td>\n",
       "      <td>12777511.0</td>\n",
       "      <td>9.4</td>\n",
       "      <td>9.4</td>\n",
       "      <td>0.407</td>\n",
       "      <td>9.2</td>\n",
       "    </tr>\n",
       "    <tr>\n",
       "      <th>2934</th>\n",
       "      <td>Zimbabwe</td>\n",
       "      <td>2003</td>\n",
       "      <td>Developing</td>\n",
       "      <td>44.5</td>\n",
       "      <td>715.0</td>\n",
       "      <td>26</td>\n",
       "      <td>4.06</td>\n",
       "      <td>0.000000</td>\n",
       "      <td>7.0</td>\n",
       "      <td>998</td>\n",
       "      <td>...</td>\n",
       "      <td>7.0</td>\n",
       "      <td>6.52</td>\n",
       "      <td>68.0</td>\n",
       "      <td>36.7</td>\n",
       "      <td>453.351155</td>\n",
       "      <td>12633897.0</td>\n",
       "      <td>9.8</td>\n",
       "      <td>9.9</td>\n",
       "      <td>0.418</td>\n",
       "      <td>9.5</td>\n",
       "    </tr>\n",
       "    <tr>\n",
       "      <th>2935</th>\n",
       "      <td>Zimbabwe</td>\n",
       "      <td>2002</td>\n",
       "      <td>Developing</td>\n",
       "      <td>44.8</td>\n",
       "      <td>73.0</td>\n",
       "      <td>25</td>\n",
       "      <td>4.43</td>\n",
       "      <td>0.000000</td>\n",
       "      <td>73.0</td>\n",
       "      <td>304</td>\n",
       "      <td>...</td>\n",
       "      <td>73.0</td>\n",
       "      <td>6.53</td>\n",
       "      <td>71.0</td>\n",
       "      <td>39.8</td>\n",
       "      <td>57.348340</td>\n",
       "      <td>125525.0</td>\n",
       "      <td>1.2</td>\n",
       "      <td>1.3</td>\n",
       "      <td>0.427</td>\n",
       "      <td>10.0</td>\n",
       "    </tr>\n",
       "    <tr>\n",
       "      <th>2936</th>\n",
       "      <td>Zimbabwe</td>\n",
       "      <td>2001</td>\n",
       "      <td>Developing</td>\n",
       "      <td>45.3</td>\n",
       "      <td>686.0</td>\n",
       "      <td>25</td>\n",
       "      <td>1.72</td>\n",
       "      <td>0.000000</td>\n",
       "      <td>76.0</td>\n",
       "      <td>529</td>\n",
       "      <td>...</td>\n",
       "      <td>76.0</td>\n",
       "      <td>6.16</td>\n",
       "      <td>75.0</td>\n",
       "      <td>42.1</td>\n",
       "      <td>548.587312</td>\n",
       "      <td>12366165.0</td>\n",
       "      <td>1.6</td>\n",
       "      <td>1.7</td>\n",
       "      <td>0.427</td>\n",
       "      <td>9.8</td>\n",
       "    </tr>\n",
       "    <tr>\n",
       "      <th>2937</th>\n",
       "      <td>Zimbabwe</td>\n",
       "      <td>2000</td>\n",
       "      <td>Developing</td>\n",
       "      <td>46.0</td>\n",
       "      <td>665.0</td>\n",
       "      <td>24</td>\n",
       "      <td>1.68</td>\n",
       "      <td>0.000000</td>\n",
       "      <td>79.0</td>\n",
       "      <td>1483</td>\n",
       "      <td>...</td>\n",
       "      <td>78.0</td>\n",
       "      <td>7.10</td>\n",
       "      <td>78.0</td>\n",
       "      <td>43.5</td>\n",
       "      <td>547.358878</td>\n",
       "      <td>12222251.0</td>\n",
       "      <td>11.0</td>\n",
       "      <td>11.2</td>\n",
       "      <td>0.434</td>\n",
       "      <td>9.8</td>\n",
       "    </tr>\n",
       "  </tbody>\n",
       "</table>\n",
       "<p>2938 rows × 22 columns</p>\n",
       "</div>"
      ],
      "text/plain": [
       "          Country  Year      Status  Life expectancy   Adult Mortality  \\\n",
       "0     Afghanistan  2015  Developing              65.0            263.0   \n",
       "1     Afghanistan  2014  Developing              59.9            271.0   \n",
       "2     Afghanistan  2013  Developing              59.9            268.0   \n",
       "3     Afghanistan  2012  Developing              59.5            272.0   \n",
       "4     Afghanistan  2011  Developing              59.2            275.0   \n",
       "...           ...   ...         ...               ...              ...   \n",
       "2933     Zimbabwe  2004  Developing              44.3            723.0   \n",
       "2934     Zimbabwe  2003  Developing              44.5            715.0   \n",
       "2935     Zimbabwe  2002  Developing              44.8             73.0   \n",
       "2936     Zimbabwe  2001  Developing              45.3            686.0   \n",
       "2937     Zimbabwe  2000  Developing              46.0            665.0   \n",
       "\n",
       "      infant deaths  Alcohol  percentage expenditure  Hepatitis B  Measles   \\\n",
       "0                62     0.01               71.279624         65.0      1154   \n",
       "1                64     0.01               73.523582         62.0       492   \n",
       "2                66     0.01               73.219243         64.0       430   \n",
       "3                69     0.01               78.184215         67.0      2787   \n",
       "4                71     0.01                7.097109         68.0      3013   \n",
       "...             ...      ...                     ...          ...       ...   \n",
       "2933             27     4.36                0.000000         68.0        31   \n",
       "2934             26     4.06                0.000000          7.0       998   \n",
       "2935             25     4.43                0.000000         73.0       304   \n",
       "2936             25     1.72                0.000000         76.0       529   \n",
       "2937             24     1.68                0.000000         79.0      1483   \n",
       "\n",
       "      ...  Polio  Total expenditure  Diphtheria    HIV/AIDS         GDP  \\\n",
       "0     ...    6.0               8.16         65.0        0.1  584.259210   \n",
       "1     ...   58.0               8.18         62.0        0.1  612.696514   \n",
       "2     ...   62.0               8.13         64.0        0.1  631.744976   \n",
       "3     ...   67.0               8.52         67.0        0.1  669.959000   \n",
       "4     ...   68.0               7.87         68.0        0.1   63.537231   \n",
       "...   ...    ...                ...          ...        ...         ...   \n",
       "2933  ...   67.0               7.13         65.0       33.6  454.366654   \n",
       "2934  ...    7.0               6.52         68.0       36.7  453.351155   \n",
       "2935  ...   73.0               6.53         71.0       39.8   57.348340   \n",
       "2936  ...   76.0               6.16         75.0       42.1  548.587312   \n",
       "2937  ...   78.0               7.10         78.0       43.5  547.358878   \n",
       "\n",
       "      Population   thinness  1-19 years   thinness 5-9 years  \\\n",
       "0     33736494.0                   17.2                 17.3   \n",
       "1       327582.0                   17.5                 17.5   \n",
       "2     31731688.0                   17.7                 17.7   \n",
       "3      3696958.0                   17.9                 18.0   \n",
       "4      2978599.0                   18.2                 18.2   \n",
       "...          ...                    ...                  ...   \n",
       "2933  12777511.0                    9.4                  9.4   \n",
       "2934  12633897.0                    9.8                  9.9   \n",
       "2935    125525.0                    1.2                  1.3   \n",
       "2936  12366165.0                    1.6                  1.7   \n",
       "2937  12222251.0                   11.0                 11.2   \n",
       "\n",
       "      Income composition of resources  Schooling  \n",
       "0                               0.479       10.1  \n",
       "1                               0.476       10.0  \n",
       "2                               0.470        9.9  \n",
       "3                               0.463        9.8  \n",
       "4                               0.454        9.5  \n",
       "...                               ...        ...  \n",
       "2933                            0.407        9.2  \n",
       "2934                            0.418        9.5  \n",
       "2935                            0.427       10.0  \n",
       "2936                            0.427        9.8  \n",
       "2937                            0.434        9.8  \n",
       "\n",
       "[2938 rows x 22 columns]"
      ]
     },
     "execution_count": 82,
     "metadata": {},
     "output_type": "execute_result"
    }
   ],
   "source": [
    "df"
   ]
  },
  {
   "cell_type": "code",
   "execution_count": 24,
   "id": "71d11d8a",
   "metadata": {},
   "outputs": [
    {
     "data": {
      "text/plain": [
       "Index(['Country', 'Year', 'Status', 'Life expectancy ', 'Adult Mortality',\n",
       "       'infant deaths', 'Alcohol', 'percentage expenditure', 'Hepatitis B',\n",
       "       'Measles ', ' BMI ', 'under-five deaths ', 'Polio', 'Total expenditure',\n",
       "       'Diphtheria ', ' HIV/AIDS', 'GDP', 'Population',\n",
       "       ' thinness  1-19 years', ' thinness 5-9 years',\n",
       "       'Income composition of resources', 'Schooling'],\n",
       "      dtype='object')"
      ]
     },
     "execution_count": 24,
     "metadata": {},
     "output_type": "execute_result"
    }
   ],
   "source": [
    "df.columns"
   ]
  },
  {
   "cell_type": "code",
   "execution_count": 84,
   "id": "732c0165",
   "metadata": {},
   "outputs": [],
   "source": [
    "import seaborn as sns"
   ]
  },
  {
   "cell_type": "code",
   "execution_count": null,
   "id": "f557edea",
   "metadata": {},
   "outputs": [],
   "source": [
    "univariate linear regression \n",
    "\n",
    "y = mx + c"
   ]
  },
  {
   "cell_type": "code",
   "execution_count": 86,
   "id": "76a1b789",
   "metadata": {},
   "outputs": [
    {
     "name": "stderr",
     "output_type": "stream",
     "text": [
      "/var/folders/1q/461kwq6d42j7t8d6yytb5nyw0000gp/T/ipykernel_70621/1134722465.py:1: FutureWarning: The default value of numeric_only in DataFrame.corr is deprecated. In a future version, it will default to False. Select only valid columns or specify the value of numeric_only to silence this warning.\n",
      "  df.corr()\n"
     ]
    },
    {
     "data": {
      "text/html": [
       "<div>\n",
       "<style scoped>\n",
       "    .dataframe tbody tr th:only-of-type {\n",
       "        vertical-align: middle;\n",
       "    }\n",
       "\n",
       "    .dataframe tbody tr th {\n",
       "        vertical-align: top;\n",
       "    }\n",
       "\n",
       "    .dataframe thead th {\n",
       "        text-align: right;\n",
       "    }\n",
       "</style>\n",
       "<table border=\"1\" class=\"dataframe\">\n",
       "  <thead>\n",
       "    <tr style=\"text-align: right;\">\n",
       "      <th></th>\n",
       "      <th>Year</th>\n",
       "      <th>Life expectancy</th>\n",
       "      <th>Adult Mortality</th>\n",
       "      <th>infant deaths</th>\n",
       "      <th>Alcohol</th>\n",
       "      <th>percentage expenditure</th>\n",
       "      <th>Hepatitis B</th>\n",
       "      <th>Measles</th>\n",
       "      <th>BMI</th>\n",
       "      <th>under-five deaths</th>\n",
       "      <th>Polio</th>\n",
       "      <th>Total expenditure</th>\n",
       "      <th>Diphtheria</th>\n",
       "      <th>HIV/AIDS</th>\n",
       "      <th>GDP</th>\n",
       "      <th>Population</th>\n",
       "      <th>thinness  1-19 years</th>\n",
       "      <th>thinness 5-9 years</th>\n",
       "      <th>Income composition of resources</th>\n",
       "      <th>Schooling</th>\n",
       "    </tr>\n",
       "  </thead>\n",
       "  <tbody>\n",
       "    <tr>\n",
       "      <th>Year</th>\n",
       "      <td>1.000000</td>\n",
       "      <td>0.170033</td>\n",
       "      <td>-0.079052</td>\n",
       "      <td>-0.037415</td>\n",
       "      <td>-0.052990</td>\n",
       "      <td>0.031400</td>\n",
       "      <td>0.104333</td>\n",
       "      <td>-0.082493</td>\n",
       "      <td>0.108974</td>\n",
       "      <td>-0.042937</td>\n",
       "      <td>0.094158</td>\n",
       "      <td>0.090740</td>\n",
       "      <td>0.134337</td>\n",
       "      <td>-0.139741</td>\n",
       "      <td>0.101620</td>\n",
       "      <td>0.016969</td>\n",
       "      <td>-0.047876</td>\n",
       "      <td>-0.050929</td>\n",
       "      <td>0.243468</td>\n",
       "      <td>0.209400</td>\n",
       "    </tr>\n",
       "    <tr>\n",
       "      <th>Life expectancy</th>\n",
       "      <td>0.170033</td>\n",
       "      <td>1.000000</td>\n",
       "      <td>-0.696359</td>\n",
       "      <td>-0.196557</td>\n",
       "      <td>0.404877</td>\n",
       "      <td>0.381864</td>\n",
       "      <td>0.256762</td>\n",
       "      <td>-0.157586</td>\n",
       "      <td>0.567694</td>\n",
       "      <td>-0.222529</td>\n",
       "      <td>0.465556</td>\n",
       "      <td>0.218086</td>\n",
       "      <td>0.479495</td>\n",
       "      <td>-0.556556</td>\n",
       "      <td>0.461455</td>\n",
       "      <td>-0.021538</td>\n",
       "      <td>-0.477183</td>\n",
       "      <td>-0.471584</td>\n",
       "      <td>0.724776</td>\n",
       "      <td>0.751975</td>\n",
       "    </tr>\n",
       "    <tr>\n",
       "      <th>Adult Mortality</th>\n",
       "      <td>-0.079052</td>\n",
       "      <td>-0.696359</td>\n",
       "      <td>1.000000</td>\n",
       "      <td>0.078756</td>\n",
       "      <td>-0.195848</td>\n",
       "      <td>-0.242860</td>\n",
       "      <td>-0.162476</td>\n",
       "      <td>0.031176</td>\n",
       "      <td>-0.387017</td>\n",
       "      <td>0.094146</td>\n",
       "      <td>-0.274823</td>\n",
       "      <td>-0.115281</td>\n",
       "      <td>-0.275131</td>\n",
       "      <td>0.523821</td>\n",
       "      <td>-0.296049</td>\n",
       "      <td>-0.013647</td>\n",
       "      <td>0.302904</td>\n",
       "      <td>0.308457</td>\n",
       "      <td>-0.457626</td>\n",
       "      <td>-0.454612</td>\n",
       "    </tr>\n",
       "    <tr>\n",
       "      <th>infant deaths</th>\n",
       "      <td>-0.037415</td>\n",
       "      <td>-0.196557</td>\n",
       "      <td>0.078756</td>\n",
       "      <td>1.000000</td>\n",
       "      <td>-0.115638</td>\n",
       "      <td>-0.085612</td>\n",
       "      <td>-0.223566</td>\n",
       "      <td>0.501128</td>\n",
       "      <td>-0.227279</td>\n",
       "      <td>0.996629</td>\n",
       "      <td>-0.170689</td>\n",
       "      <td>-0.128616</td>\n",
       "      <td>-0.175171</td>\n",
       "      <td>0.025231</td>\n",
       "      <td>-0.108427</td>\n",
       "      <td>0.556801</td>\n",
       "      <td>0.465711</td>\n",
       "      <td>0.471350</td>\n",
       "      <td>-0.145139</td>\n",
       "      <td>-0.193720</td>\n",
       "    </tr>\n",
       "    <tr>\n",
       "      <th>Alcohol</th>\n",
       "      <td>-0.052990</td>\n",
       "      <td>0.404877</td>\n",
       "      <td>-0.195848</td>\n",
       "      <td>-0.115638</td>\n",
       "      <td>1.000000</td>\n",
       "      <td>0.341285</td>\n",
       "      <td>0.087549</td>\n",
       "      <td>-0.051827</td>\n",
       "      <td>0.330408</td>\n",
       "      <td>-0.112370</td>\n",
       "      <td>0.221734</td>\n",
       "      <td>0.296942</td>\n",
       "      <td>0.222020</td>\n",
       "      <td>-0.048845</td>\n",
       "      <td>0.354712</td>\n",
       "      <td>-0.035252</td>\n",
       "      <td>-0.428795</td>\n",
       "      <td>-0.417414</td>\n",
       "      <td>0.450040</td>\n",
       "      <td>0.547378</td>\n",
       "    </tr>\n",
       "    <tr>\n",
       "      <th>percentage expenditure</th>\n",
       "      <td>0.031400</td>\n",
       "      <td>0.381864</td>\n",
       "      <td>-0.242860</td>\n",
       "      <td>-0.085612</td>\n",
       "      <td>0.341285</td>\n",
       "      <td>1.000000</td>\n",
       "      <td>0.016274</td>\n",
       "      <td>-0.056596</td>\n",
       "      <td>0.228700</td>\n",
       "      <td>-0.087852</td>\n",
       "      <td>0.147259</td>\n",
       "      <td>0.174420</td>\n",
       "      <td>0.143624</td>\n",
       "      <td>-0.097857</td>\n",
       "      <td>0.899373</td>\n",
       "      <td>-0.025662</td>\n",
       "      <td>-0.251369</td>\n",
       "      <td>-0.252905</td>\n",
       "      <td>0.381952</td>\n",
       "      <td>0.389687</td>\n",
       "    </tr>\n",
       "    <tr>\n",
       "      <th>Hepatitis B</th>\n",
       "      <td>0.104333</td>\n",
       "      <td>0.256762</td>\n",
       "      <td>-0.162476</td>\n",
       "      <td>-0.223566</td>\n",
       "      <td>0.087549</td>\n",
       "      <td>0.016274</td>\n",
       "      <td>1.000000</td>\n",
       "      <td>-0.120529</td>\n",
       "      <td>0.150380</td>\n",
       "      <td>-0.233126</td>\n",
       "      <td>0.486171</td>\n",
       "      <td>0.058280</td>\n",
       "      <td>0.611495</td>\n",
       "      <td>-0.112675</td>\n",
       "      <td>0.083903</td>\n",
       "      <td>-0.123321</td>\n",
       "      <td>-0.120429</td>\n",
       "      <td>-0.124960</td>\n",
       "      <td>0.199549</td>\n",
       "      <td>0.231117</td>\n",
       "    </tr>\n",
       "    <tr>\n",
       "      <th>Measles</th>\n",
       "      <td>-0.082493</td>\n",
       "      <td>-0.157586</td>\n",
       "      <td>0.031176</td>\n",
       "      <td>0.501128</td>\n",
       "      <td>-0.051827</td>\n",
       "      <td>-0.056596</td>\n",
       "      <td>-0.120529</td>\n",
       "      <td>1.000000</td>\n",
       "      <td>-0.175977</td>\n",
       "      <td>0.507809</td>\n",
       "      <td>-0.136166</td>\n",
       "      <td>-0.106241</td>\n",
       "      <td>-0.141882</td>\n",
       "      <td>0.030899</td>\n",
       "      <td>-0.076466</td>\n",
       "      <td>0.265966</td>\n",
       "      <td>0.224808</td>\n",
       "      <td>0.221072</td>\n",
       "      <td>-0.129568</td>\n",
       "      <td>-0.137225</td>\n",
       "    </tr>\n",
       "    <tr>\n",
       "      <th>BMI</th>\n",
       "      <td>0.108974</td>\n",
       "      <td>0.567694</td>\n",
       "      <td>-0.387017</td>\n",
       "      <td>-0.227279</td>\n",
       "      <td>0.330408</td>\n",
       "      <td>0.228700</td>\n",
       "      <td>0.150380</td>\n",
       "      <td>-0.175977</td>\n",
       "      <td>1.000000</td>\n",
       "      <td>-0.237669</td>\n",
       "      <td>0.284569</td>\n",
       "      <td>0.242503</td>\n",
       "      <td>0.283147</td>\n",
       "      <td>-0.243717</td>\n",
       "      <td>0.301557</td>\n",
       "      <td>-0.072301</td>\n",
       "      <td>-0.532025</td>\n",
       "      <td>-0.538911</td>\n",
       "      <td>0.508774</td>\n",
       "      <td>0.546961</td>\n",
       "    </tr>\n",
       "    <tr>\n",
       "      <th>under-five deaths</th>\n",
       "      <td>-0.042937</td>\n",
       "      <td>-0.222529</td>\n",
       "      <td>0.094146</td>\n",
       "      <td>0.996629</td>\n",
       "      <td>-0.112370</td>\n",
       "      <td>-0.087852</td>\n",
       "      <td>-0.233126</td>\n",
       "      <td>0.507809</td>\n",
       "      <td>-0.237669</td>\n",
       "      <td>1.000000</td>\n",
       "      <td>-0.188720</td>\n",
       "      <td>-0.130148</td>\n",
       "      <td>-0.195668</td>\n",
       "      <td>0.038062</td>\n",
       "      <td>-0.112081</td>\n",
       "      <td>0.544423</td>\n",
       "      <td>0.467789</td>\n",
       "      <td>0.472263</td>\n",
       "      <td>-0.163305</td>\n",
       "      <td>-0.209373</td>\n",
       "    </tr>\n",
       "    <tr>\n",
       "      <th>Polio</th>\n",
       "      <td>0.094158</td>\n",
       "      <td>0.465556</td>\n",
       "      <td>-0.274823</td>\n",
       "      <td>-0.170689</td>\n",
       "      <td>0.221734</td>\n",
       "      <td>0.147259</td>\n",
       "      <td>0.486171</td>\n",
       "      <td>-0.136166</td>\n",
       "      <td>0.284569</td>\n",
       "      <td>-0.188720</td>\n",
       "      <td>1.000000</td>\n",
       "      <td>0.137330</td>\n",
       "      <td>0.673553</td>\n",
       "      <td>-0.159560</td>\n",
       "      <td>0.211976</td>\n",
       "      <td>-0.038540</td>\n",
       "      <td>-0.221823</td>\n",
       "      <td>-0.222592</td>\n",
       "      <td>0.381078</td>\n",
       "      <td>0.417866</td>\n",
       "    </tr>\n",
       "    <tr>\n",
       "      <th>Total expenditure</th>\n",
       "      <td>0.090740</td>\n",
       "      <td>0.218086</td>\n",
       "      <td>-0.115281</td>\n",
       "      <td>-0.128616</td>\n",
       "      <td>0.296942</td>\n",
       "      <td>0.174420</td>\n",
       "      <td>0.058280</td>\n",
       "      <td>-0.106241</td>\n",
       "      <td>0.242503</td>\n",
       "      <td>-0.130148</td>\n",
       "      <td>0.137330</td>\n",
       "      <td>1.000000</td>\n",
       "      <td>0.152754</td>\n",
       "      <td>-0.001389</td>\n",
       "      <td>0.138364</td>\n",
       "      <td>-0.079662</td>\n",
       "      <td>-0.277101</td>\n",
       "      <td>-0.283774</td>\n",
       "      <td>0.166682</td>\n",
       "      <td>0.246384</td>\n",
       "    </tr>\n",
       "    <tr>\n",
       "      <th>Diphtheria</th>\n",
       "      <td>0.134337</td>\n",
       "      <td>0.479495</td>\n",
       "      <td>-0.275131</td>\n",
       "      <td>-0.175171</td>\n",
       "      <td>0.222020</td>\n",
       "      <td>0.143624</td>\n",
       "      <td>0.611495</td>\n",
       "      <td>-0.141882</td>\n",
       "      <td>0.283147</td>\n",
       "      <td>-0.195668</td>\n",
       "      <td>0.673553</td>\n",
       "      <td>0.152754</td>\n",
       "      <td>1.000000</td>\n",
       "      <td>-0.164860</td>\n",
       "      <td>0.200666</td>\n",
       "      <td>-0.028444</td>\n",
       "      <td>-0.229518</td>\n",
       "      <td>-0.222743</td>\n",
       "      <td>0.401456</td>\n",
       "      <td>0.425332</td>\n",
       "    </tr>\n",
       "    <tr>\n",
       "      <th>HIV/AIDS</th>\n",
       "      <td>-0.139741</td>\n",
       "      <td>-0.556556</td>\n",
       "      <td>0.523821</td>\n",
       "      <td>0.025231</td>\n",
       "      <td>-0.048845</td>\n",
       "      <td>-0.097857</td>\n",
       "      <td>-0.112675</td>\n",
       "      <td>0.030899</td>\n",
       "      <td>-0.243717</td>\n",
       "      <td>0.038062</td>\n",
       "      <td>-0.159560</td>\n",
       "      <td>-0.001389</td>\n",
       "      <td>-0.164860</td>\n",
       "      <td>1.000000</td>\n",
       "      <td>-0.136491</td>\n",
       "      <td>-0.027854</td>\n",
       "      <td>0.204064</td>\n",
       "      <td>0.207283</td>\n",
       "      <td>-0.249519</td>\n",
       "      <td>-0.220429</td>\n",
       "    </tr>\n",
       "    <tr>\n",
       "      <th>GDP</th>\n",
       "      <td>0.101620</td>\n",
       "      <td>0.461455</td>\n",
       "      <td>-0.296049</td>\n",
       "      <td>-0.108427</td>\n",
       "      <td>0.354712</td>\n",
       "      <td>0.899373</td>\n",
       "      <td>0.083903</td>\n",
       "      <td>-0.076466</td>\n",
       "      <td>0.301557</td>\n",
       "      <td>-0.112081</td>\n",
       "      <td>0.211976</td>\n",
       "      <td>0.138364</td>\n",
       "      <td>0.200666</td>\n",
       "      <td>-0.136491</td>\n",
       "      <td>1.000000</td>\n",
       "      <td>-0.028270</td>\n",
       "      <td>-0.285697</td>\n",
       "      <td>-0.290539</td>\n",
       "      <td>0.460341</td>\n",
       "      <td>0.448273</td>\n",
       "    </tr>\n",
       "    <tr>\n",
       "      <th>Population</th>\n",
       "      <td>0.016969</td>\n",
       "      <td>-0.021538</td>\n",
       "      <td>-0.013647</td>\n",
       "      <td>0.556801</td>\n",
       "      <td>-0.035252</td>\n",
       "      <td>-0.025662</td>\n",
       "      <td>-0.123321</td>\n",
       "      <td>0.265966</td>\n",
       "      <td>-0.072301</td>\n",
       "      <td>0.544423</td>\n",
       "      <td>-0.038540</td>\n",
       "      <td>-0.079662</td>\n",
       "      <td>-0.028444</td>\n",
       "      <td>-0.027854</td>\n",
       "      <td>-0.028270</td>\n",
       "      <td>1.000000</td>\n",
       "      <td>0.253944</td>\n",
       "      <td>0.251403</td>\n",
       "      <td>-0.008735</td>\n",
       "      <td>-0.031668</td>\n",
       "    </tr>\n",
       "    <tr>\n",
       "      <th>thinness  1-19 years</th>\n",
       "      <td>-0.047876</td>\n",
       "      <td>-0.477183</td>\n",
       "      <td>0.302904</td>\n",
       "      <td>0.465711</td>\n",
       "      <td>-0.428795</td>\n",
       "      <td>-0.251369</td>\n",
       "      <td>-0.120429</td>\n",
       "      <td>0.224808</td>\n",
       "      <td>-0.532025</td>\n",
       "      <td>0.467789</td>\n",
       "      <td>-0.221823</td>\n",
       "      <td>-0.277101</td>\n",
       "      <td>-0.229518</td>\n",
       "      <td>0.204064</td>\n",
       "      <td>-0.285697</td>\n",
       "      <td>0.253944</td>\n",
       "      <td>1.000000</td>\n",
       "      <td>0.939102</td>\n",
       "      <td>-0.422429</td>\n",
       "      <td>-0.471652</td>\n",
       "    </tr>\n",
       "    <tr>\n",
       "      <th>thinness 5-9 years</th>\n",
       "      <td>-0.050929</td>\n",
       "      <td>-0.471584</td>\n",
       "      <td>0.308457</td>\n",
       "      <td>0.471350</td>\n",
       "      <td>-0.417414</td>\n",
       "      <td>-0.252905</td>\n",
       "      <td>-0.124960</td>\n",
       "      <td>0.221072</td>\n",
       "      <td>-0.538911</td>\n",
       "      <td>0.472263</td>\n",
       "      <td>-0.222592</td>\n",
       "      <td>-0.283774</td>\n",
       "      <td>-0.222743</td>\n",
       "      <td>0.207283</td>\n",
       "      <td>-0.290539</td>\n",
       "      <td>0.251403</td>\n",
       "      <td>0.939102</td>\n",
       "      <td>1.000000</td>\n",
       "      <td>-0.411053</td>\n",
       "      <td>-0.460632</td>\n",
       "    </tr>\n",
       "    <tr>\n",
       "      <th>Income composition of resources</th>\n",
       "      <td>0.243468</td>\n",
       "      <td>0.724776</td>\n",
       "      <td>-0.457626</td>\n",
       "      <td>-0.145139</td>\n",
       "      <td>0.450040</td>\n",
       "      <td>0.381952</td>\n",
       "      <td>0.199549</td>\n",
       "      <td>-0.129568</td>\n",
       "      <td>0.508774</td>\n",
       "      <td>-0.163305</td>\n",
       "      <td>0.381078</td>\n",
       "      <td>0.166682</td>\n",
       "      <td>0.401456</td>\n",
       "      <td>-0.249519</td>\n",
       "      <td>0.460341</td>\n",
       "      <td>-0.008735</td>\n",
       "      <td>-0.422429</td>\n",
       "      <td>-0.411053</td>\n",
       "      <td>1.000000</td>\n",
       "      <td>0.800092</td>\n",
       "    </tr>\n",
       "    <tr>\n",
       "      <th>Schooling</th>\n",
       "      <td>0.209400</td>\n",
       "      <td>0.751975</td>\n",
       "      <td>-0.454612</td>\n",
       "      <td>-0.193720</td>\n",
       "      <td>0.547378</td>\n",
       "      <td>0.389687</td>\n",
       "      <td>0.231117</td>\n",
       "      <td>-0.137225</td>\n",
       "      <td>0.546961</td>\n",
       "      <td>-0.209373</td>\n",
       "      <td>0.417866</td>\n",
       "      <td>0.246384</td>\n",
       "      <td>0.425332</td>\n",
       "      <td>-0.220429</td>\n",
       "      <td>0.448273</td>\n",
       "      <td>-0.031668</td>\n",
       "      <td>-0.471652</td>\n",
       "      <td>-0.460632</td>\n",
       "      <td>0.800092</td>\n",
       "      <td>1.000000</td>\n",
       "    </tr>\n",
       "  </tbody>\n",
       "</table>\n",
       "</div>"
      ],
      "text/plain": [
       "                                     Year  Life expectancy   Adult Mortality  \\\n",
       "Year                             1.000000          0.170033        -0.079052   \n",
       "Life expectancy                  0.170033          1.000000        -0.696359   \n",
       "Adult Mortality                 -0.079052         -0.696359         1.000000   \n",
       "infant deaths                   -0.037415         -0.196557         0.078756   \n",
       "Alcohol                         -0.052990          0.404877        -0.195848   \n",
       "percentage expenditure           0.031400          0.381864        -0.242860   \n",
       "Hepatitis B                      0.104333          0.256762        -0.162476   \n",
       "Measles                         -0.082493         -0.157586         0.031176   \n",
       " BMI                             0.108974          0.567694        -0.387017   \n",
       "under-five deaths               -0.042937         -0.222529         0.094146   \n",
       "Polio                            0.094158          0.465556        -0.274823   \n",
       "Total expenditure                0.090740          0.218086        -0.115281   \n",
       "Diphtheria                       0.134337          0.479495        -0.275131   \n",
       " HIV/AIDS                       -0.139741         -0.556556         0.523821   \n",
       "GDP                              0.101620          0.461455        -0.296049   \n",
       "Population                       0.016969         -0.021538        -0.013647   \n",
       " thinness  1-19 years           -0.047876         -0.477183         0.302904   \n",
       " thinness 5-9 years             -0.050929         -0.471584         0.308457   \n",
       "Income composition of resources  0.243468          0.724776        -0.457626   \n",
       "Schooling                        0.209400          0.751975        -0.454612   \n",
       "\n",
       "                                 infant deaths   Alcohol  \\\n",
       "Year                                 -0.037415 -0.052990   \n",
       "Life expectancy                      -0.196557  0.404877   \n",
       "Adult Mortality                       0.078756 -0.195848   \n",
       "infant deaths                         1.000000 -0.115638   \n",
       "Alcohol                              -0.115638  1.000000   \n",
       "percentage expenditure               -0.085612  0.341285   \n",
       "Hepatitis B                          -0.223566  0.087549   \n",
       "Measles                               0.501128 -0.051827   \n",
       " BMI                                 -0.227279  0.330408   \n",
       "under-five deaths                     0.996629 -0.112370   \n",
       "Polio                                -0.170689  0.221734   \n",
       "Total expenditure                    -0.128616  0.296942   \n",
       "Diphtheria                           -0.175171  0.222020   \n",
       " HIV/AIDS                             0.025231 -0.048845   \n",
       "GDP                                  -0.108427  0.354712   \n",
       "Population                            0.556801 -0.035252   \n",
       " thinness  1-19 years                 0.465711 -0.428795   \n",
       " thinness 5-9 years                   0.471350 -0.417414   \n",
       "Income composition of resources      -0.145139  0.450040   \n",
       "Schooling                            -0.193720  0.547378   \n",
       "\n",
       "                                 percentage expenditure  Hepatitis B  \\\n",
       "Year                                           0.031400     0.104333   \n",
       "Life expectancy                                0.381864     0.256762   \n",
       "Adult Mortality                               -0.242860    -0.162476   \n",
       "infant deaths                                 -0.085612    -0.223566   \n",
       "Alcohol                                        0.341285     0.087549   \n",
       "percentage expenditure                         1.000000     0.016274   \n",
       "Hepatitis B                                    0.016274     1.000000   \n",
       "Measles                                       -0.056596    -0.120529   \n",
       " BMI                                           0.228700     0.150380   \n",
       "under-five deaths                             -0.087852    -0.233126   \n",
       "Polio                                          0.147259     0.486171   \n",
       "Total expenditure                              0.174420     0.058280   \n",
       "Diphtheria                                     0.143624     0.611495   \n",
       " HIV/AIDS                                     -0.097857    -0.112675   \n",
       "GDP                                            0.899373     0.083903   \n",
       "Population                                    -0.025662    -0.123321   \n",
       " thinness  1-19 years                         -0.251369    -0.120429   \n",
       " thinness 5-9 years                           -0.252905    -0.124960   \n",
       "Income composition of resources                0.381952     0.199549   \n",
       "Schooling                                      0.389687     0.231117   \n",
       "\n",
       "                                 Measles       BMI   under-five deaths   \\\n",
       "Year                            -0.082493  0.108974           -0.042937   \n",
       "Life expectancy                 -0.157586  0.567694           -0.222529   \n",
       "Adult Mortality                  0.031176 -0.387017            0.094146   \n",
       "infant deaths                    0.501128 -0.227279            0.996629   \n",
       "Alcohol                         -0.051827  0.330408           -0.112370   \n",
       "percentage expenditure          -0.056596  0.228700           -0.087852   \n",
       "Hepatitis B                     -0.120529  0.150380           -0.233126   \n",
       "Measles                          1.000000 -0.175977            0.507809   \n",
       " BMI                            -0.175977  1.000000           -0.237669   \n",
       "under-five deaths                0.507809 -0.237669            1.000000   \n",
       "Polio                           -0.136166  0.284569           -0.188720   \n",
       "Total expenditure               -0.106241  0.242503           -0.130148   \n",
       "Diphtheria                      -0.141882  0.283147           -0.195668   \n",
       " HIV/AIDS                        0.030899 -0.243717            0.038062   \n",
       "GDP                             -0.076466  0.301557           -0.112081   \n",
       "Population                       0.265966 -0.072301            0.544423   \n",
       " thinness  1-19 years            0.224808 -0.532025            0.467789   \n",
       " thinness 5-9 years              0.221072 -0.538911            0.472263   \n",
       "Income composition of resources -0.129568  0.508774           -0.163305   \n",
       "Schooling                       -0.137225  0.546961           -0.209373   \n",
       "\n",
       "                                    Polio  Total expenditure  Diphtheria   \\\n",
       "Year                             0.094158           0.090740     0.134337   \n",
       "Life expectancy                  0.465556           0.218086     0.479495   \n",
       "Adult Mortality                 -0.274823          -0.115281    -0.275131   \n",
       "infant deaths                   -0.170689          -0.128616    -0.175171   \n",
       "Alcohol                          0.221734           0.296942     0.222020   \n",
       "percentage expenditure           0.147259           0.174420     0.143624   \n",
       "Hepatitis B                      0.486171           0.058280     0.611495   \n",
       "Measles                         -0.136166          -0.106241    -0.141882   \n",
       " BMI                             0.284569           0.242503     0.283147   \n",
       "under-five deaths               -0.188720          -0.130148    -0.195668   \n",
       "Polio                            1.000000           0.137330     0.673553   \n",
       "Total expenditure                0.137330           1.000000     0.152754   \n",
       "Diphtheria                       0.673553           0.152754     1.000000   \n",
       " HIV/AIDS                       -0.159560          -0.001389    -0.164860   \n",
       "GDP                              0.211976           0.138364     0.200666   \n",
       "Population                      -0.038540          -0.079662    -0.028444   \n",
       " thinness  1-19 years           -0.221823          -0.277101    -0.229518   \n",
       " thinness 5-9 years             -0.222592          -0.283774    -0.222743   \n",
       "Income composition of resources  0.381078           0.166682     0.401456   \n",
       "Schooling                        0.417866           0.246384     0.425332   \n",
       "\n",
       "                                  HIV/AIDS       GDP  Population  \\\n",
       "Year                             -0.139741  0.101620    0.016969   \n",
       "Life expectancy                  -0.556556  0.461455   -0.021538   \n",
       "Adult Mortality                   0.523821 -0.296049   -0.013647   \n",
       "infant deaths                     0.025231 -0.108427    0.556801   \n",
       "Alcohol                          -0.048845  0.354712   -0.035252   \n",
       "percentage expenditure           -0.097857  0.899373   -0.025662   \n",
       "Hepatitis B                      -0.112675  0.083903   -0.123321   \n",
       "Measles                           0.030899 -0.076466    0.265966   \n",
       " BMI                             -0.243717  0.301557   -0.072301   \n",
       "under-five deaths                 0.038062 -0.112081    0.544423   \n",
       "Polio                            -0.159560  0.211976   -0.038540   \n",
       "Total expenditure                -0.001389  0.138364   -0.079662   \n",
       "Diphtheria                       -0.164860  0.200666   -0.028444   \n",
       " HIV/AIDS                         1.000000 -0.136491   -0.027854   \n",
       "GDP                              -0.136491  1.000000   -0.028270   \n",
       "Population                       -0.027854 -0.028270    1.000000   \n",
       " thinness  1-19 years             0.204064 -0.285697    0.253944   \n",
       " thinness 5-9 years               0.207283 -0.290539    0.251403   \n",
       "Income composition of resources  -0.249519  0.460341   -0.008735   \n",
       "Schooling                        -0.220429  0.448273   -0.031668   \n",
       "\n",
       "                                  thinness  1-19 years   thinness 5-9 years  \\\n",
       "Year                                         -0.047876            -0.050929   \n",
       "Life expectancy                              -0.477183            -0.471584   \n",
       "Adult Mortality                               0.302904             0.308457   \n",
       "infant deaths                                 0.465711             0.471350   \n",
       "Alcohol                                      -0.428795            -0.417414   \n",
       "percentage expenditure                       -0.251369            -0.252905   \n",
       "Hepatitis B                                  -0.120429            -0.124960   \n",
       "Measles                                       0.224808             0.221072   \n",
       " BMI                                         -0.532025            -0.538911   \n",
       "under-five deaths                             0.467789             0.472263   \n",
       "Polio                                        -0.221823            -0.222592   \n",
       "Total expenditure                            -0.277101            -0.283774   \n",
       "Diphtheria                                   -0.229518            -0.222743   \n",
       " HIV/AIDS                                     0.204064             0.207283   \n",
       "GDP                                          -0.285697            -0.290539   \n",
       "Population                                    0.253944             0.251403   \n",
       " thinness  1-19 years                         1.000000             0.939102   \n",
       " thinness 5-9 years                           0.939102             1.000000   \n",
       "Income composition of resources              -0.422429            -0.411053   \n",
       "Schooling                                    -0.471652            -0.460632   \n",
       "\n",
       "                                 Income composition of resources  Schooling  \n",
       "Year                                                    0.243468   0.209400  \n",
       "Life expectancy                                         0.724776   0.751975  \n",
       "Adult Mortality                                        -0.457626  -0.454612  \n",
       "infant deaths                                          -0.145139  -0.193720  \n",
       "Alcohol                                                 0.450040   0.547378  \n",
       "percentage expenditure                                  0.381952   0.389687  \n",
       "Hepatitis B                                             0.199549   0.231117  \n",
       "Measles                                                -0.129568  -0.137225  \n",
       " BMI                                                    0.508774   0.546961  \n",
       "under-five deaths                                      -0.163305  -0.209373  \n",
       "Polio                                                   0.381078   0.417866  \n",
       "Total expenditure                                       0.166682   0.246384  \n",
       "Diphtheria                                              0.401456   0.425332  \n",
       " HIV/AIDS                                              -0.249519  -0.220429  \n",
       "GDP                                                     0.460341   0.448273  \n",
       "Population                                             -0.008735  -0.031668  \n",
       " thinness  1-19 years                                  -0.422429  -0.471652  \n",
       " thinness 5-9 years                                    -0.411053  -0.460632  \n",
       "Income composition of resources                         1.000000   0.800092  \n",
       "Schooling                                               0.800092   1.000000  "
      ]
     },
     "execution_count": 86,
     "metadata": {},
     "output_type": "execute_result"
    }
   ],
   "source": [
    "df.corr()"
   ]
  },
  {
   "cell_type": "code",
   "execution_count": null,
   "id": "810c6a34",
   "metadata": {},
   "outputs": [],
   "source": [
    "import seaborn as sns"
   ]
  },
  {
   "cell_type": "code",
   "execution_count": 85,
   "id": "5ffe13ae",
   "metadata": {},
   "outputs": [
    {
     "name": "stderr",
     "output_type": "stream",
     "text": [
      "/var/folders/1q/461kwq6d42j7t8d6yytb5nyw0000gp/T/ipykernel_70621/58359773.py:1: FutureWarning: The default value of numeric_only in DataFrame.corr is deprecated. In a future version, it will default to False. Select only valid columns or specify the value of numeric_only to silence this warning.\n",
      "  sns.heatmap(df.corr())\n"
     ]
    },
    {
     "data": {
      "text/plain": [
       "<AxesSubplot: >"
      ]
     },
     "execution_count": 85,
     "metadata": {},
     "output_type": "execute_result"
    },
    {
     "data": {
      "image/png": "[encoded data removed]",
      "text/plain": [
       "<Figure size 432x288 with 2 Axes>"
      ]
     },
     "metadata": {
      "needs_background": "light"
     },
     "output_type": "display_data"
    }
   ],
   "source": [
    "sns.heatmap(df.corr())"
   ]
  },
  {
   "cell_type": "code",
   "execution_count": 87,
   "id": "6395d1ca",
   "metadata": {},
   "outputs": [
    {
     "data": {
      "text/plain": [
       "0       10.1\n",
       "1       10.0\n",
       "2        9.9\n",
       "3        9.8\n",
       "4        9.5\n",
       "        ... \n",
       "2933     9.2\n",
       "2934     9.5\n",
       "2935    10.0\n",
       "2936     9.8\n",
       "2937     9.8\n",
       "Name: Schooling, Length: 2938, dtype: float64"
      ]
     },
     "execution_count": 87,
     "metadata": {},
     "output_type": "execute_result"
    }
   ],
   "source": [
    "df['Schooling']"
   ]
  },
  {
   "cell_type": "code",
   "execution_count": 89,
   "id": "a88aac25",
   "metadata": {},
   "outputs": [
    {
     "data": {
      "text/plain": [
       "Index(['Country', 'Year', 'Status', 'Life expectancy ', 'Adult Mortality',\n",
       "       'infant deaths', 'Alcohol', 'percentage expenditure', 'Hepatitis B',\n",
       "       'Measles ', ' BMI ', 'under-five deaths ', 'Polio', 'Total expenditure',\n",
       "       'Diphtheria ', ' HIV/AIDS', 'GDP', 'Population',\n",
       "       ' thinness  1-19 years', ' thinness 5-9 years',\n",
       "       'Income composition of resources', 'Schooling'],\n",
       "      dtype='object')"
      ]
     },
     "execution_count": 89,
     "metadata": {},
     "output_type": "execute_result"
    }
   ],
   "source": [
    "df.columns"
   ]
  },
  {
   "cell_type": "code",
   "execution_count": 90,
   "id": "6636a4c9",
   "metadata": {},
   "outputs": [
    {
     "data": {
      "text/plain": [
       "0       65.0\n",
       "1       59.9\n",
       "2       59.9\n",
       "3       59.5\n",
       "4       59.2\n",
       "        ... \n",
       "2933    44.3\n",
       "2934    44.5\n",
       "2935    44.8\n",
       "2936    45.3\n",
       "2937    46.0\n",
       "Name: Life expectancy , Length: 2938, dtype: float64"
      ]
     },
     "execution_count": 90,
     "metadata": {},
     "output_type": "execute_result"
    }
   ],
   "source": [
    "df['Life expectancy ']"
   ]
  },
  {
   "cell_type": "code",
   "execution_count": null,
   "id": "264d1ef2",
   "metadata": {},
   "outputs": [],
   "source": []
  },
  {
   "cell_type": "code",
   "execution_count": 91,
   "id": "e7d0b62c",
   "metadata": {},
   "outputs": [],
   "source": [
    "def estimate_model(x, w, b):\n",
    "    return w * x + b"
   ]
  },
  {
   "cell_type": "code",
   "execution_count": 96,
   "id": "203f449a",
   "metadata": {},
   "outputs": [],
   "source": [
    "w = 50\n",
    "b = 2"
   ]
  },
  {
   "cell_type": "code",
   "execution_count": 97,
   "id": "1939436c",
   "metadata": {},
   "outputs": [],
   "source": [
    "Schooling = df['Schooling']"
   ]
  },
  {
   "cell_type": "code",
   "execution_count": 98,
   "id": "2eb07b34",
   "metadata": {},
   "outputs": [],
   "source": [
    "Target = df['Life expectancy ']"
   ]
  },
  {
   "cell_type": "code",
   "execution_count": 101,
   "id": "e3176c6b",
   "metadata": {},
   "outputs": [
    {
     "data": {
      "text/plain": [
       "0       52.5\n",
       "1       52.0\n",
       "2       51.5\n",
       "3       51.0\n",
       "4       49.5\n",
       "        ... \n",
       "2933    48.0\n",
       "2934    49.5\n",
       "2935    52.0\n",
       "2936    51.0\n",
       "2937    51.0\n",
       "Name: Schooling, Length: 2938, dtype: float64"
      ]
     },
     "execution_count": 101,
     "metadata": {},
     "output_type": "execute_result"
    }
   ],
   "source": [
    "estimate_model(Schooling, 5, 2)"
   ]
  },
  {
   "cell_type": "code",
   "execution_count": null,
   "id": "8ba34d0c",
   "metadata": {},
   "outputs": [],
   "source": []
  },
  {
   "cell_type": "code",
   "execution_count": null,
   "id": "cd600406",
   "metadata": {},
   "outputs": [],
   "source": []
  },
  {
   "cell_type": "code",
   "execution_count": null,
   "id": "0e7f3ed7",
   "metadata": {},
   "outputs": [],
   "source": []
  },
  {
   "cell_type": "code",
   "execution_count": null,
   "id": "411b006c",
   "metadata": {},
   "outputs": [],
   "source": []
  },
  {
   "cell_type": "code",
   "execution_count": 25,
   "id": "ea1fd782",
   "metadata": {},
   "outputs": [],
   "source": [
    "BMIs = df[' BMI ']\n",
    "Estimated_Life_Expectancy = estimate_model(BMIs, w, b)"
   ]
  },
  {
   "cell_type": "code",
   "execution_count": 26,
   "id": "3f9a993f",
   "metadata": {},
   "outputs": [
    {
     "data": {
      "image/png": "[encoded data removed]",
      "text/plain": [
       "<Figure size 432x288 with 1 Axes>"
      ]
     },
     "metadata": {
      "needs_background": "light"
     },
     "output_type": "display_data"
    }
   ],
   "source": [
    "plt.plot(BMIs, Estimated_Life_Expectancy);\n",
    "plt.xlabel('BMIs');\n",
    "plt.ylabel('Estimated_Life_Expectancy');"
   ]
  },
  {
   "cell_type": "code",
   "execution_count": 27,
   "id": "74d7fb5a",
   "metadata": {},
   "outputs": [
    {
     "data": {
      "image/png": "[encoded data removed]",
      "text/plain": [
       "<Figure size 432x288 with 1 Axes>"
      ]
     },
     "metadata": {
      "needs_background": "light"
     },
     "output_type": "display_data"
    }
   ],
   "source": [
    "target = df['Life expectancy ']\n",
    "\n",
    "#plt.plot(Scores, Estimated_Performance_Indices)\n",
    "plt.scatter(BMIs, target);"
   ]
  },
  {
   "cell_type": "markdown",
   "id": "37652cad",
   "metadata": {},
   "source": [
    "### Model Building using Scikit-Learn"
   ]
  },
  {
   "cell_type": "code",
   "execution_count": 28,
   "id": "9c2378c2",
   "metadata": {},
   "outputs": [
    {
     "name": "stdout",
     "output_type": "stream",
     "text": [
      "Requirement already satisfied: scikit-learn in /opt/anaconda3/lib/python3.8/site-packages (1.2.1)\n",
      "Requirement already satisfied: scipy>=1.3.2 in /opt/anaconda3/lib/python3.8/site-packages (from scikit-learn) (1.10.1)\n",
      "Requirement already satisfied: numpy>=1.17.3 in /Users/samanvitha/.local/lib/python3.8/site-packages (from scikit-learn) (1.23.5)\n",
      "Requirement already satisfied: threadpoolctl>=2.0.0 in /opt/anaconda3/lib/python3.8/site-packages (from scikit-learn) (2.1.0)\n",
      "Requirement already satisfied: joblib>=1.1.1 in /opt/anaconda3/lib/python3.8/site-packages (from scikit-learn) (1.2.0)\n",
      "Note: you may need to restart the kernel to use updated packages.\n"
     ]
    }
   ],
   "source": [
    "pip install scikit-learn"
   ]
  },
  {
   "cell_type": "code",
   "execution_count": 102,
   "id": "d77bab9a",
   "metadata": {},
   "outputs": [],
   "source": [
    "from sklearn.linear_model import LinearRegression"
   ]
  },
  {
   "cell_type": "code",
   "execution_count": 103,
   "id": "05e34d6f",
   "metadata": {},
   "outputs": [],
   "source": [
    "model = LinearRegression()"
   ]
  },
  {
   "cell_type": "code",
   "execution_count": 104,
   "id": "35f755bb",
   "metadata": {},
   "outputs": [
    {
     "data": {
      "text/html": [
       "<style>#sk-container-id-2 {color: black;background-color: white;}#sk-container-id-2 pre{padding: 0;}#sk-container-id-2 div.sk-toggleable {background-color: white;}#sk-container-id-2 label.sk-toggleable__label {cursor: pointer;display: block;width: 100%;margin-bottom: 0;padding: 0.3em;box-sizing: border-box;text-align: center;}#sk-container-id-2 label.sk-toggleable__label-arrow:before {content: \"▸\";float: left;margin-right: 0.25em;color: #696969;}#sk-container-id-2 label.sk-toggleable__label-arrow:hover:before {color: black;}#sk-container-id-2 div.sk-estimator:hover label.sk-toggleable__label-arrow:before {color: black;}#sk-container-id-2 div.sk-toggleable__content {max-height: 0;max-width: 0;overflow: hidden;text-align: left;background-color: #f0f8ff;}#sk-container-id-2 div.sk-toggleable__content pre {margin: 0.2em;color: black;border-radius: 0.25em;background-color: #f0f8ff;}#sk-container-id-2 input.sk-toggleable__control:checked~div.sk-toggleable__content {max-height: 200px;max-width: 100%;overflow: auto;}#sk-container-id-2 input.sk-toggleable__control:checked~label.sk-toggleable__label-arrow:before {content: \"▾\";}#sk-container-id-2 div.sk-estimator input.sk-toggleable__control:checked~label.sk-toggleable__label {background-color: #d4ebff;}#sk-container-id-2 div.sk-label input.sk-toggleable__control:checked~label.sk-toggleable__label {background-color: #d4ebff;}#sk-container-id-2 input.sk-hidden--visually {border: 0;clip: rect(1px 1px 1px 1px);clip: rect(1px, 1px, 1px, 1px);height: 1px;margin: -1px;overflow: hidden;padding: 0;position: absolute;width: 1px;}#sk-container-id-2 div.sk-estimator {font-family: monospace;background-color: #f0f8ff;border: 1px dotted black;border-radius: 0.25em;box-sizing: border-box;margin-bottom: 0.5em;}#sk-container-id-2 div.sk-estimator:hover {background-color: #d4ebff;}#sk-container-id-2 div.sk-parallel-item::after {content: \"\";width: 100%;border-bottom: 1px solid gray;flex-grow: 1;}#sk-container-id-2 div.sk-label:hover label.sk-toggleable__label {background-color: #d4ebff;}#sk-container-id-2 div.sk-serial::before {content: \"\";position: absolute;border-left: 1px solid gray;box-sizing: border-box;top: 0;bottom: 0;left: 50%;z-index: 0;}#sk-container-id-2 div.sk-serial {display: flex;flex-direction: column;align-items: center;background-color: white;padding-right: 0.2em;padding-left: 0.2em;position: relative;}#sk-container-id-2 div.sk-item {position: relative;z-index: 1;}#sk-container-id-2 div.sk-parallel {display: flex;align-items: stretch;justify-content: center;background-color: white;position: relative;}#sk-container-id-2 div.sk-item::before, #sk-container-id-2 div.sk-parallel-item::before {content: \"\";position: absolute;border-left: 1px solid gray;box-sizing: border-box;top: 0;bottom: 0;left: 50%;z-index: -1;}#sk-container-id-2 div.sk-parallel-item {display: flex;flex-direction: column;z-index: 1;position: relative;background-color: white;}#sk-container-id-2 div.sk-parallel-item:first-child::after {align-self: flex-end;width: 50%;}#sk-container-id-2 div.sk-parallel-item:last-child::after {align-self: flex-start;width: 50%;}#sk-container-id-2 div.sk-parallel-item:only-child::after {width: 0;}#sk-container-id-2 div.sk-dashed-wrapped {border: 1px dashed gray;margin: 0 0.4em 0.5em 0.4em;box-sizing: border-box;padding-bottom: 0.4em;background-color: white;}#sk-container-id-2 div.sk-label label {font-family: monospace;font-weight: bold;display: inline-block;line-height: 1.2em;}#sk-container-id-2 div.sk-label-container {text-align: center;}#sk-container-id-2 div.sk-container {/* jupyter's `normalize.less` sets `[hidden] { display: none; }` but bootstrap.min.css set `[hidden] { display: none !important; }` so we also need the `!important` here to be able to override the default hidden behavior on the sphinx rendered scikit-learn.org. See: https://github.com/scikit-learn/scikit-learn/issues/21755 */display: inline-block !important;position: relative;}#sk-container-id-2 div.sk-text-repr-fallback {display: none;}</style><div id=\"sk-container-id-2\" class=\"sk-top-container\"><div class=\"sk-text-repr-fallback\"><pre>LinearRegression()</pre><b>In a Jupyter environment, please rerun this cell to show the HTML representation or trust the notebook. <br />On GitHub, the HTML representation is unable to render, please try loading this page with nbviewer.org.</b></div><div class=\"sk-container\" hidden><div class=\"sk-item\"><div class=\"sk-estimator sk-toggleable\"><input class=\"sk-toggleable__control sk-hidden--visually\" id=\"sk-estimator-id-2\" type=\"checkbox\" checked><label for=\"sk-estimator-id-2\" class=\"sk-toggleable__label sk-toggleable__label-arrow\">LinearRegression</label><div class=\"sk-toggleable__content\"><pre>LinearRegression()</pre></div></div></div></div></div>"
      ],
      "text/plain": [
       "LinearRegression()"
      ]
     },
     "execution_count": 104,
     "metadata": {},
     "output_type": "execute_result"
    }
   ],
   "source": [
    "model"
   ]
  },
  {
   "cell_type": "code",
   "execution_count": 108,
   "id": "28aae285",
   "metadata": {},
   "outputs": [],
   "source": [
    "#df.isna().sum()"
   ]
  },
  {
   "cell_type": "code",
   "execution_count": 109,
   "id": "2173577c",
   "metadata": {},
   "outputs": [],
   "source": [
    "df1 = df.dropna()"
   ]
  },
  {
   "cell_type": "code",
   "execution_count": 159,
   "id": "2ede8aee",
   "metadata": {},
   "outputs": [],
   "source": [
    "inputs = df1[['Schooling', 'Income composition of resources', ' BMI ']]\n",
    "targets = df1['Life expectancy ']"
   ]
  },
  {
   "cell_type": "code",
   "execution_count": 128,
   "id": "19b138c2",
   "metadata": {},
   "outputs": [],
   "source": [
    "#inputs"
   ]
  },
  {
   "cell_type": "code",
   "execution_count": null,
   "id": "74e694ec",
   "metadata": {},
   "outputs": [],
   "source": [
    "y = wx + b\n",
    "\n",
    "y = w1x1 + w2x2 + b"
   ]
  },
  {
   "cell_type": "code",
   "execution_count": 160,
   "id": "2f863c92",
   "metadata": {},
   "outputs": [
    {
     "data": {
      "text/html": [
       "<style>#sk-container-id-11 {color: black;background-color: white;}#sk-container-id-11 pre{padding: 0;}#sk-container-id-11 div.sk-toggleable {background-color: white;}#sk-container-id-11 label.sk-toggleable__label {cursor: pointer;display: block;width: 100%;margin-bottom: 0;padding: 0.3em;box-sizing: border-box;text-align: center;}#sk-container-id-11 label.sk-toggleable__label-arrow:before {content: \"▸\";float: left;margin-right: 0.25em;color: #696969;}#sk-container-id-11 label.sk-toggleable__label-arrow:hover:before {color: black;}#sk-container-id-11 div.sk-estimator:hover label.sk-toggleable__label-arrow:before {color: black;}#sk-container-id-11 div.sk-toggleable__content {max-height: 0;max-width: 0;overflow: hidden;text-align: left;background-color: #f0f8ff;}#sk-container-id-11 div.sk-toggleable__content pre {margin: 0.2em;color: black;border-radius: 0.25em;background-color: #f0f8ff;}#sk-container-id-11 input.sk-toggleable__control:checked~div.sk-toggleable__content {max-height: 200px;max-width: 100%;overflow: auto;}#sk-container-id-11 input.sk-toggleable__control:checked~label.sk-toggleable__label-arrow:before {content: \"▾\";}#sk-container-id-11 div.sk-estimator input.sk-toggleable__control:checked~label.sk-toggleable__label {background-color: #d4ebff;}#sk-container-id-11 div.sk-label input.sk-toggleable__control:checked~label.sk-toggleable__label {background-color: #d4ebff;}#sk-container-id-11 input.sk-hidden--visually {border: 0;clip: rect(1px 1px 1px 1px);clip: rect(1px, 1px, 1px, 1px);height: 1px;margin: -1px;overflow: hidden;padding: 0;position: absolute;width: 1px;}#sk-container-id-11 div.sk-estimator {font-family: monospace;background-color: #f0f8ff;border: 1px dotted black;border-radius: 0.25em;box-sizing: border-box;margin-bottom: 0.5em;}#sk-container-id-11 div.sk-estimator:hover {background-color: #d4ebff;}#sk-container-id-11 div.sk-parallel-item::after {content: \"\";width: 100%;border-bottom: 1px solid gray;flex-grow: 1;}#sk-container-id-11 div.sk-label:hover label.sk-toggleable__label {background-color: #d4ebff;}#sk-container-id-11 div.sk-serial::before {content: \"\";position: absolute;border-left: 1px solid gray;box-sizing: border-box;top: 0;bottom: 0;left: 50%;z-index: 0;}#sk-container-id-11 div.sk-serial {display: flex;flex-direction: column;align-items: center;background-color: white;padding-right: 0.2em;padding-left: 0.2em;position: relative;}#sk-container-id-11 div.sk-item {position: relative;z-index: 1;}#sk-container-id-11 div.sk-parallel {display: flex;align-items: stretch;justify-content: center;background-color: white;position: relative;}#sk-container-id-11 div.sk-item::before, #sk-container-id-11 div.sk-parallel-item::before {content: \"\";position: absolute;border-left: 1px solid gray;box-sizing: border-box;top: 0;bottom: 0;left: 50%;z-index: -1;}#sk-container-id-11 div.sk-parallel-item {display: flex;flex-direction: column;z-index: 1;position: relative;background-color: white;}#sk-container-id-11 div.sk-parallel-item:first-child::after {align-self: flex-end;width: 50%;}#sk-container-id-11 div.sk-parallel-item:last-child::after {align-self: flex-start;width: 50%;}#sk-container-id-11 div.sk-parallel-item:only-child::after {width: 0;}#sk-container-id-11 div.sk-dashed-wrapped {border: 1px dashed gray;margin: 0 0.4em 0.5em 0.4em;box-sizing: border-box;padding-bottom: 0.4em;background-color: white;}#sk-container-id-11 div.sk-label label {font-family: monospace;font-weight: bold;display: inline-block;line-height: 1.2em;}#sk-container-id-11 div.sk-label-container {text-align: center;}#sk-container-id-11 div.sk-container {/* jupyter's `normalize.less` sets `[hidden] { display: none; }` but bootstrap.min.css set `[hidden] { display: none !important; }` so we also need the `!important` here to be able to override the default hidden behavior on the sphinx rendered scikit-learn.org. See: https://github.com/scikit-learn/scikit-learn/issues/21755 */display: inline-block !important;position: relative;}#sk-container-id-11 div.sk-text-repr-fallback {display: none;}</style><div id=\"sk-container-id-11\" class=\"sk-top-container\"><div class=\"sk-text-repr-fallback\"><pre>LinearRegression()</pre><b>In a Jupyter environment, please rerun this cell to show the HTML representation or trust the notebook. <br />On GitHub, the HTML representation is unable to render, please try loading this page with nbviewer.org.</b></div><div class=\"sk-container\" hidden><div class=\"sk-item\"><div class=\"sk-estimator sk-toggleable\"><input class=\"sk-toggleable__control sk-hidden--visually\" id=\"sk-estimator-id-11\" type=\"checkbox\" checked><label for=\"sk-estimator-id-11\" class=\"sk-toggleable__label sk-toggleable__label-arrow\">LinearRegression</label><div class=\"sk-toggleable__content\"><pre>LinearRegression()</pre></div></div></div></div></div>"
      ],
      "text/plain": [
       "LinearRegression()"
      ]
     },
     "execution_count": 160,
     "metadata": {},
     "output_type": "execute_result"
    }
   ],
   "source": [
    "model.fit(inputs, targets)"
   ]
  },
  {
   "cell_type": "code",
   "execution_count": 140,
   "id": "dc3fc342",
   "metadata": {},
   "outputs": [],
   "source": [
    "#inputs"
   ]
  },
  {
   "cell_type": "code",
   "execution_count": 113,
   "id": "1bd24b04",
   "metadata": {},
   "outputs": [
    {
     "data": {
      "text/plain": [
       "0       65.0\n",
       "1       59.9\n",
       "2       59.9\n",
       "3       59.5\n",
       "4       59.2\n",
       "        ... \n",
       "2933    44.3\n",
       "2934    44.5\n",
       "2935    44.8\n",
       "2936    45.3\n",
       "2937    46.0\n",
       "Name: Life expectancy , Length: 1649, dtype: float64"
      ]
     },
     "execution_count": 113,
     "metadata": {},
     "output_type": "execute_result"
    }
   ],
   "source": [
    "targets"
   ]
  },
  {
   "cell_type": "code",
   "execution_count": 161,
   "id": "566bb086",
   "metadata": {},
   "outputs": [
    {
     "data": {
      "text/plain": [
       "array([63.04031166, 62.84053309, 62.58897818, ..., 62.54645967,\n",
       "       62.29343755, 62.38559411])"
      ]
     },
     "execution_count": 161,
     "metadata": {},
     "output_type": "execute_result"
    }
   ],
   "source": [
    "model.predict(inputs)"
   ]
  },
  {
   "cell_type": "code",
   "execution_count": 42,
   "id": "23cef47f",
   "metadata": {},
   "outputs": [],
   "source": [
    "import numpy as np"
   ]
  },
  {
   "cell_type": "code",
   "execution_count": 114,
   "id": "ab93fca9",
   "metadata": {},
   "outputs": [
    {
     "name": "stderr",
     "output_type": "stream",
     "text": [
      "/opt/anaconda3/lib/python3.8/site-packages/sklearn/base.py:420: UserWarning: X does not have valid feature names, but LinearRegression was fitted with feature names\n",
      "  warnings.warn(\n"
     ]
    },
    {
     "data": {
      "text/plain": [
       "array([65.59310021, 62.15842043, 61.01352717])"
      ]
     },
     "execution_count": 114,
     "metadata": {},
     "output_type": "execute_result"
    }
   ],
   "source": [
    "model.predict(np.array([[10.5], \n",
    "                        [9], \n",
    "                        [8.5]]))"
   ]
  },
  {
   "cell_type": "code",
   "execution_count": 134,
   "id": "7798f74d",
   "metadata": {},
   "outputs": [
    {
     "data": {
      "text/plain": [
       "0       65.0\n",
       "1       59.9\n",
       "2       59.9\n",
       "3       59.5\n",
       "4       59.2\n",
       "        ... \n",
       "2933    44.3\n",
       "2934    44.5\n",
       "2935    44.8\n",
       "2936    45.3\n",
       "2937    46.0\n",
       "Name: Life expectancy , Length: 1649, dtype: float64"
      ]
     },
     "execution_count": 134,
     "metadata": {},
     "output_type": "execute_result"
    }
   ],
   "source": [
    "targets"
   ]
  },
  {
   "cell_type": "code",
   "execution_count": 135,
   "id": "22435e77",
   "metadata": {},
   "outputs": [
    {
     "data": {
      "text/plain": [
       "array([63.68858876, 63.45000722, 63.21142567, ..., 64.1352493 ,\n",
       "       63.7114817 , 63.67588471])"
      ]
     },
     "execution_count": 135,
     "metadata": {},
     "output_type": "execute_result"
    }
   ],
   "source": [
    "predictions"
   ]
  },
  {
   "cell_type": "code",
   "execution_count": 132,
   "id": "cd5af379",
   "metadata": {},
   "outputs": [],
   "source": [
    "#plt.scatter(inputs, targets)"
   ]
  },
  {
   "cell_type": "code",
   "execution_count": 133,
   "id": "25f7c760",
   "metadata": {},
   "outputs": [],
   "source": [
    "#plt.plot(inputs, predictions)"
   ]
  },
  {
   "cell_type": "code",
   "execution_count": 163,
   "id": "b8fa4ff7",
   "metadata": {},
   "outputs": [
    {
     "data": {
      "text/plain": [
       "42.0745404042388"
      ]
     },
     "execution_count": 163,
     "metadata": {},
     "output_type": "execute_result"
    }
   ],
   "source": [
    "model.intercept_"
   ]
  },
  {
   "cell_type": "code",
   "execution_count": 162,
   "id": "a80601f6",
   "metadata": {},
   "outputs": [
    {
     "data": {
      "text/plain": [
       "array([ 1.12183612, 17.25877898,  0.07163724])"
      ]
     },
     "execution_count": 162,
     "metadata": {},
     "output_type": "execute_result"
    }
   ],
   "source": [
    "model.coef_"
   ]
  },
  {
   "cell_type": "code",
   "execution_count": null,
   "id": "f52462fd",
   "metadata": {},
   "outputs": [],
   "source": []
  },
  {
   "cell_type": "code",
   "execution_count": 48,
   "id": "833e12ef",
   "metadata": {},
   "outputs": [],
   "source": [
    "def rmse(targets, predictaions):\n",
    "    return np.sqrt(np.mean(np.square(targets - predictions)))"
   ]
  },
  {
   "cell_type": "code",
   "execution_count": 50,
   "id": "6a3797c4",
   "metadata": {},
   "outputs": [
    {
     "data": {
      "text/plain": [
       "7.390192363162514"
      ]
     },
     "execution_count": 50,
     "metadata": {},
     "output_type": "execute_result"
    }
   ],
   "source": [
    "rmse(targets, predictions)"
   ]
  },
  {
   "cell_type": "code",
   "execution_count": 51,
   "id": "83a2ab88",
   "metadata": {},
   "outputs": [
    {
     "data": {
      "text/plain": [
       "array([0.24137844])"
      ]
     },
     "execution_count": 51,
     "metadata": {},
     "output_type": "execute_result"
    }
   ],
   "source": [
    "# w\n",
    "model.coef_"
   ]
  },
  {
   "cell_type": "code",
   "execution_count": 52,
   "id": "397a771c",
   "metadata": {},
   "outputs": [
    {
     "data": {
      "text/plain": [
       "60.098876718362646"
      ]
     },
     "execution_count": 52,
     "metadata": {},
     "output_type": "execute_result"
    }
   ],
   "source": [
    "# b\n",
    "model.intercept_"
   ]
  }
 ],
 "metadata": {
  "kernelspec": {
   "display_name": "Python 3 (ipykernel)",
   "language": "python",
   "name": "python3"
  },
  "language_info": {
   "codemirror_mode": {
    "name": "ipython",
    "version": 3
   },
   "file_extension": ".py",
   "mimetype": "text/x-python",
   "name": "python",
   "nbconvert_exporter": "python",
   "pygments_lexer": "ipython3",
   "version": "3.12.0"
  }
 },
 "nbformat": 4,
 "nbformat_minor": 5
}
