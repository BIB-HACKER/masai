{
 "cells": [
  {
   "cell_type": "markdown",
   "id": "329aceeb-4d90-4512-9984-53d8d583bc7c",
   "metadata": {},
   "source": [
    "# Ensemble Learning Techniques on the California Housing Dataset"
   ]
  },
  {
   "cell_type": "code",
   "execution_count": 1,
   "id": "785d0eec-b240-4de8-9d71-1e127d066714",
   "metadata": {},
   "outputs": [],
   "source": [
    "import numpy as np\n",
    "import pandas as pd\n",
    "from sklearn.datasets import fetch_california_housing\n",
    "from sklearn.model_selection import train_test_split\n",
    "from sklearn.ensemble import RandomForestRegressor, AdaBoostRegressor\n",
    "from sklearn.metrics import mean_squared_error, r2_score"
   ]
  },
  {
   "cell_type": "markdown",
   "id": "817b6fdd-683e-4626-85fd-28ec82fe8365",
   "metadata": {},
   "source": [
    "## Data Preparation"
   ]
  },
  {
   "cell_type": "code",
   "execution_count": 2,
   "id": "d1606436-1c30-4967-9b24-7cbde0967c18",
   "metadata": {},
   "outputs": [
    {
     "data": {
      "text/plain": [
       "{'data': array([[   8.3252    ,   41.        ,    6.98412698, ...,    2.55555556,\n",
       "           37.88      , -122.23      ],\n",
       "        [   8.3014    ,   21.        ,    6.23813708, ...,    2.10984183,\n",
       "           37.86      , -122.22      ],\n",
       "        [   7.2574    ,   52.        ,    8.28813559, ...,    2.80225989,\n",
       "           37.85      , -122.24      ],\n",
       "        ...,\n",
       "        [   1.7       ,   17.        ,    5.20554273, ...,    2.3256351 ,\n",
       "           39.43      , -121.22      ],\n",
       "        [   1.8672    ,   18.        ,    5.32951289, ...,    2.12320917,\n",
       "           39.43      , -121.32      ],\n",
       "        [   2.3886    ,   16.        ,    5.25471698, ...,    2.61698113,\n",
       "           39.37      , -121.24      ]]),\n",
       " 'target': array([4.526, 3.585, 3.521, ..., 0.923, 0.847, 0.894]),\n",
       " 'frame': None,\n",
       " 'target_names': ['MedHouseVal'],\n",
       " 'feature_names': ['MedInc',\n",
       "  'HouseAge',\n",
       "  'AveRooms',\n",
       "  'AveBedrms',\n",
       "  'Population',\n",
       "  'AveOccup',\n",
       "  'Latitude',\n",
       "  'Longitude'],\n",
       " 'DESCR': '.. _california_housing_dataset:\\n\\nCalifornia Housing dataset\\n--------------------------\\n\\n**Data Set Characteristics:**\\n\\n:Number of Instances: 20640\\n\\n:Number of Attributes: 8 numeric, predictive attributes and the target\\n\\n:Attribute Information:\\n    - MedInc        median income in block group\\n    - HouseAge      median house age in block group\\n    - AveRooms      average number of rooms per household\\n    - AveBedrms     average number of bedrooms per household\\n    - Population    block group population\\n    - AveOccup      average number of household members\\n    - Latitude      block group latitude\\n    - Longitude     block group longitude\\n\\n:Missing Attribute Values: None\\n\\nThis dataset was obtained from the StatLib repository.\\nhttps://www.dcc.fc.up.pt/~ltorgo/Regression/cal_housing.html\\n\\nThe target variable is the median house value for California districts,\\nexpressed in hundreds of thousands of dollars ($100,000).\\n\\nThis dataset was derived from the 1990 U.S. census, using one row per census\\nblock group. A block group is the smallest geographical unit for which the U.S.\\nCensus Bureau publishes sample data (a block group typically has a population\\nof 600 to 3,000 people).\\n\\nA household is a group of people residing within a home. Since the average\\nnumber of rooms and bedrooms in this dataset are provided per household, these\\ncolumns may take surprisingly large values for block groups with few households\\nand many empty houses, such as vacation resorts.\\n\\nIt can be downloaded/loaded using the\\n:func:`sklearn.datasets.fetch_california_housing` function.\\n\\n.. topic:: References\\n\\n    - Pace, R. Kelley and Ronald Barry, Sparse Spatial Autoregressions,\\n      Statistics and Probability Letters, 33 (1997) 291-297\\n'}"
      ]
     },
     "execution_count": 2,
     "metadata": {},
     "output_type": "execute_result"
    }
   ],
   "source": [
    "data = fetch_california_housing()\n",
    "data"
   ]
  },
  {
   "cell_type": "code",
   "execution_count": 3,
   "id": "aa9d71c8-9447-4b37-99e4-aae7f6968162",
   "metadata": {},
   "outputs": [],
   "source": [
    "x = pd.DataFrame(data.data, columns=data.feature_names)\n",
    "y = pd.Series(data.target)"
   ]
  },
  {
   "cell_type": "code",
   "execution_count": 4,
   "id": "51908fa7-03bc-4d67-89da-14cdfeb211d0",
   "metadata": {},
   "outputs": [
    {
     "data": {
      "text/html": [
       "<div>\n",
       "<style scoped>\n",
       "    .dataframe tbody tr th:only-of-type {\n",
       "        vertical-align: middle;\n",
       "    }\n",
       "\n",
       "    .dataframe tbody tr th {\n",
       "        vertical-align: top;\n",
       "    }\n",
       "\n",
       "    .dataframe thead th {\n",
       "        text-align: right;\n",
       "    }\n",
       "</style>\n",
       "<table border=\"1\" class=\"dataframe\">\n",
       "  <thead>\n",
       "    <tr style=\"text-align: right;\">\n",
       "      <th></th>\n",
       "      <th>MedInc</th>\n",
       "      <th>HouseAge</th>\n",
       "      <th>AveRooms</th>\n",
       "      <th>AveBedrms</th>\n",
       "      <th>Population</th>\n",
       "      <th>AveOccup</th>\n",
       "      <th>Latitude</th>\n",
       "      <th>Longitude</th>\n",
       "    </tr>\n",
       "  </thead>\n",
       "  <tbody>\n",
       "    <tr>\n",
       "      <th>0</th>\n",
       "      <td>8.3252</td>\n",
       "      <td>41.0</td>\n",
       "      <td>6.984127</td>\n",
       "      <td>1.023810</td>\n",
       "      <td>322.0</td>\n",
       "      <td>2.555556</td>\n",
       "      <td>37.88</td>\n",
       "      <td>-122.23</td>\n",
       "    </tr>\n",
       "    <tr>\n",
       "      <th>1</th>\n",
       "      <td>8.3014</td>\n",
       "      <td>21.0</td>\n",
       "      <td>6.238137</td>\n",
       "      <td>0.971880</td>\n",
       "      <td>2401.0</td>\n",
       "      <td>2.109842</td>\n",
       "      <td>37.86</td>\n",
       "      <td>-122.22</td>\n",
       "    </tr>\n",
       "    <tr>\n",
       "      <th>2</th>\n",
       "      <td>7.2574</td>\n",
       "      <td>52.0</td>\n",
       "      <td>8.288136</td>\n",
       "      <td>1.073446</td>\n",
       "      <td>496.0</td>\n",
       "      <td>2.802260</td>\n",
       "      <td>37.85</td>\n",
       "      <td>-122.24</td>\n",
       "    </tr>\n",
       "    <tr>\n",
       "      <th>3</th>\n",
       "      <td>5.6431</td>\n",
       "      <td>52.0</td>\n",
       "      <td>5.817352</td>\n",
       "      <td>1.073059</td>\n",
       "      <td>558.0</td>\n",
       "      <td>2.547945</td>\n",
       "      <td>37.85</td>\n",
       "      <td>-122.25</td>\n",
       "    </tr>\n",
       "    <tr>\n",
       "      <th>4</th>\n",
       "      <td>3.8462</td>\n",
       "      <td>52.0</td>\n",
       "      <td>6.281853</td>\n",
       "      <td>1.081081</td>\n",
       "      <td>565.0</td>\n",
       "      <td>2.181467</td>\n",
       "      <td>37.85</td>\n",
       "      <td>-122.25</td>\n",
       "    </tr>\n",
       "    <tr>\n",
       "      <th>...</th>\n",
       "      <td>...</td>\n",
       "      <td>...</td>\n",
       "      <td>...</td>\n",
       "      <td>...</td>\n",
       "      <td>...</td>\n",
       "      <td>...</td>\n",
       "      <td>...</td>\n",
       "      <td>...</td>\n",
       "    </tr>\n",
       "    <tr>\n",
       "      <th>20635</th>\n",
       "      <td>1.5603</td>\n",
       "      <td>25.0</td>\n",
       "      <td>5.045455</td>\n",
       "      <td>1.133333</td>\n",
       "      <td>845.0</td>\n",
       "      <td>2.560606</td>\n",
       "      <td>39.48</td>\n",
       "      <td>-121.09</td>\n",
       "    </tr>\n",
       "    <tr>\n",
       "      <th>20636</th>\n",
       "      <td>2.5568</td>\n",
       "      <td>18.0</td>\n",
       "      <td>6.114035</td>\n",
       "      <td>1.315789</td>\n",
       "      <td>356.0</td>\n",
       "      <td>3.122807</td>\n",
       "      <td>39.49</td>\n",
       "      <td>-121.21</td>\n",
       "    </tr>\n",
       "    <tr>\n",
       "      <th>20637</th>\n",
       "      <td>1.7000</td>\n",
       "      <td>17.0</td>\n",
       "      <td>5.205543</td>\n",
       "      <td>1.120092</td>\n",
       "      <td>1007.0</td>\n",
       "      <td>2.325635</td>\n",
       "      <td>39.43</td>\n",
       "      <td>-121.22</td>\n",
       "    </tr>\n",
       "    <tr>\n",
       "      <th>20638</th>\n",
       "      <td>1.8672</td>\n",
       "      <td>18.0</td>\n",
       "      <td>5.329513</td>\n",
       "      <td>1.171920</td>\n",
       "      <td>741.0</td>\n",
       "      <td>2.123209</td>\n",
       "      <td>39.43</td>\n",
       "      <td>-121.32</td>\n",
       "    </tr>\n",
       "    <tr>\n",
       "      <th>20639</th>\n",
       "      <td>2.3886</td>\n",
       "      <td>16.0</td>\n",
       "      <td>5.254717</td>\n",
       "      <td>1.162264</td>\n",
       "      <td>1387.0</td>\n",
       "      <td>2.616981</td>\n",
       "      <td>39.37</td>\n",
       "      <td>-121.24</td>\n",
       "    </tr>\n",
       "  </tbody>\n",
       "</table>\n",
       "<p>20640 rows × 8 columns</p>\n",
       "</div>"
      ],
      "text/plain": [
       "       MedInc  HouseAge  AveRooms  AveBedrms  Population  AveOccup  Latitude  \\\n",
       "0      8.3252      41.0  6.984127   1.023810       322.0  2.555556     37.88   \n",
       "1      8.3014      21.0  6.238137   0.971880      2401.0  2.109842     37.86   \n",
       "2      7.2574      52.0  8.288136   1.073446       496.0  2.802260     37.85   \n",
       "3      5.6431      52.0  5.817352   1.073059       558.0  2.547945     37.85   \n",
       "4      3.8462      52.0  6.281853   1.081081       565.0  2.181467     37.85   \n",
       "...       ...       ...       ...        ...         ...       ...       ...   \n",
       "20635  1.5603      25.0  5.045455   1.133333       845.0  2.560606     39.48   \n",
       "20636  2.5568      18.0  6.114035   1.315789       356.0  3.122807     39.49   \n",
       "20637  1.7000      17.0  5.205543   1.120092      1007.0  2.325635     39.43   \n",
       "20638  1.8672      18.0  5.329513   1.171920       741.0  2.123209     39.43   \n",
       "20639  2.3886      16.0  5.254717   1.162264      1387.0  2.616981     39.37   \n",
       "\n",
       "       Longitude  \n",
       "0        -122.23  \n",
       "1        -122.22  \n",
       "2        -122.24  \n",
       "3        -122.25  \n",
       "4        -122.25  \n",
       "...          ...  \n",
       "20635    -121.09  \n",
       "20636    -121.21  \n",
       "20637    -121.22  \n",
       "20638    -121.32  \n",
       "20639    -121.24  \n",
       "\n",
       "[20640 rows x 8 columns]"
      ]
     },
     "execution_count": 4,
     "metadata": {},
     "output_type": "execute_result"
    }
   ],
   "source": [
    "x"
   ]
  },
  {
   "cell_type": "code",
   "execution_count": 5,
   "id": "fd4d96ff-0177-47ae-9400-f3cd042bb504",
   "metadata": {},
   "outputs": [
    {
     "name": "stdout",
     "output_type": "stream",
     "text": [
      "<class 'pandas.core.frame.DataFrame'>\n",
      "RangeIndex: 20640 entries, 0 to 20639\n",
      "Data columns (total 8 columns):\n",
      " #   Column      Non-Null Count  Dtype  \n",
      "---  ------      --------------  -----  \n",
      " 0   MedInc      20640 non-null  float64\n",
      " 1   HouseAge    20640 non-null  float64\n",
      " 2   AveRooms    20640 non-null  float64\n",
      " 3   AveBedrms   20640 non-null  float64\n",
      " 4   Population  20640 non-null  float64\n",
      " 5   AveOccup    20640 non-null  float64\n",
      " 6   Latitude    20640 non-null  float64\n",
      " 7   Longitude   20640 non-null  float64\n",
      "dtypes: float64(8)\n",
      "memory usage: 1.3 MB\n"
     ]
    }
   ],
   "source": [
    "x.info()"
   ]
  },
  {
   "cell_type": "code",
   "execution_count": 6,
   "id": "98934ddf-5258-42b3-bc81-3b0fc646df6b",
   "metadata": {},
   "outputs": [
    {
     "data": {
      "text/plain": [
       "0        4.526\n",
       "1        3.585\n",
       "2        3.521\n",
       "3        3.413\n",
       "4        3.422\n",
       "         ...  \n",
       "20635    0.781\n",
       "20636    0.771\n",
       "20637    0.923\n",
       "20638    0.847\n",
       "20639    0.894\n",
       "Length: 20640, dtype: float64"
      ]
     },
     "execution_count": 6,
     "metadata": {},
     "output_type": "execute_result"
    }
   ],
   "source": [
    "y"
   ]
  },
  {
   "cell_type": "code",
   "execution_count": 7,
   "id": "1470228a-4385-4786-b40c-8f0bf903e8f0",
   "metadata": {},
   "outputs": [
    {
     "name": "stdout",
     "output_type": "stream",
     "text": [
      "<class 'pandas.core.series.Series'>\n",
      "RangeIndex: 20640 entries, 0 to 20639\n",
      "Series name: None\n",
      "Non-Null Count  Dtype  \n",
      "--------------  -----  \n",
      "20640 non-null  float64\n",
      "dtypes: float64(1)\n",
      "memory usage: 161.4 KB\n"
     ]
    }
   ],
   "source": [
    "y.info()"
   ]
  },
  {
   "cell_type": "markdown",
   "id": "8e67f107-b02c-42a0-90a3-6403bdaa968e",
   "metadata": {},
   "source": [
    "## Model Implementation and Evaluation:"
   ]
  },
  {
   "cell_type": "code",
   "execution_count": 8,
   "id": "b6a3b6a2-b834-4158-939b-325d363c1bd6",
   "metadata": {},
   "outputs": [],
   "source": [
    "x_train, x_test, y_train, y_test = train_test_split(x,y, test_size=0.25, random_state=42)"
   ]
  },
  {
   "cell_type": "code",
   "execution_count": 9,
   "id": "0cea996c-7b7e-4f4c-b03a-57fad9c9ee00",
   "metadata": {},
   "outputs": [],
   "source": [
    "# Bagging: Random Forest"
   ]
  },
  {
   "cell_type": "code",
   "execution_count": 10,
   "id": "8727718e-f79b-4726-80e9-7269c5283a8a",
   "metadata": {},
   "outputs": [],
   "source": [
    "estimators = [50, 100, 200]\n",
    "results = []"
   ]
  },
  {
   "cell_type": "code",
   "execution_count": 11,
   "id": "57e52ff7-cbd5-444e-b237-d9dfb004885b",
   "metadata": {},
   "outputs": [],
   "source": [
    "for n_estimators in estimators:\n",
    "    model = RandomForestRegressor(n_estimators=n_estimators, random_state=42)\n",
    "    model.fit(x_train, y_train)\n",
    "    y_pred = model.predict(x_test)\n",
    "    mse = mean_squared_error(y_test, y_pred)\n",
    "    r2 = r2_score(y_test, y_pred)\n",
    "    results.append((n_estimators, mse, r2))"
   ]
  },
  {
   "cell_type": "code",
   "execution_count": 12,
   "id": "f9b29138-967f-4eaa-8c7e-31322399ba93",
   "metadata": {},
   "outputs": [],
   "source": [
    "# Boosting: AdaBoost"
   ]
  },
  {
   "cell_type": "code",
   "execution_count": 13,
   "id": "377ed7b3-3ac6-4d63-85b1-42620dc017b4",
   "metadata": {},
   "outputs": [],
   "source": [
    "adaboost = [(50, 0.1), (100, 0.5), (200, 1.0)]\n",
    "adaboost_results = []"
   ]
  },
  {
   "cell_type": "code",
   "execution_count": 14,
   "id": "e2f02eca-0fca-4abf-aeca-d7550316404d",
   "metadata": {},
   "outputs": [],
   "source": [
    "for n_estimators, learning_rate in adaboost:\n",
    "    adaboost_model = AdaBoostRegressor(n_estimators=n_estimators, learning_rate=learning_rate, random_state=42)\n",
    "    adaboost_model.fit(x_train, y_train)\n",
    "    y_pred = adaboost_model.predict(x_test)\n",
    "    mse = mean_squared_error(y_test, y_pred)\n",
    "    r2 = r2_score(y_test, y_pred)\n",
    "    adaboost_results.append((n_estimators, learning_rate, mse, r2))"
   ]
  },
  {
   "cell_type": "markdown",
   "id": "5e7df27e-b496-4d4d-990d-e593dd567316",
   "metadata": {},
   "source": [
    "## Model Comparison:"
   ]
  },
  {
   "cell_type": "code",
   "execution_count": 15,
   "id": "e9f02dc7-74da-4728-9629-472dca53f394",
   "metadata": {},
   "outputs": [
    {
     "name": "stdout",
     "output_type": "stream",
     "text": [
      "Bagging (Random Forest) Results:\n",
      "  Random Forest with 50 estimators - MSE: 0.25768544732489185, R²: 0.8052585236189679\n",
      "  Random Forest with 100 estimators - MSE: 0.25424371393528344, R²: 0.8078595561901133\n",
      "  Random Forest with 200 estimators - MSE: 0.25213278407503437, R²: 0.8094548562033245\n"
     ]
    }
   ],
   "source": [
    "print(\"Bagging (Random Forest) Results:\")\n",
    "for n_estimators, mse, r2 in results:\n",
    "    print(f\"  Random Forest with {n_estimators} estimators - MSE: {mse}, R²: {r2}\")"
   ]
  },
  {
   "cell_type": "code",
   "execution_count": 16,
   "id": "c0e48dd2-55cb-4281-8f74-f8198ea438c5",
   "metadata": {},
   "outputs": [
    {
     "name": "stdout",
     "output_type": "stream",
     "text": [
      "\n",
      "Boosting (AdaBoost) Results:\n",
      "  AdaBoost with 50 estimators and learning rate 0.1 - MSE: 0.5638864061517886, R²: 0.5738522590810426\n",
      "  AdaBoost with 100 estimators and learning rate 0.5 - MSE: 0.7321111149234822, R²: 0.446719242878291\n",
      "  AdaBoost with 200 estimators and learning rate 1.0 - MSE: 0.819367370085345, R²: 0.3807767842330535\n"
     ]
    }
   ],
   "source": [
    "print(\"\\nBoosting (AdaBoost) Results:\")\n",
    "for n_estimators, learning_rate, mse, r2 in adaboost_results:\n",
    "    print(f\"  AdaBoost with {n_estimators} estimators and learning rate {learning_rate} - MSE: {mse}, R²: {r2}\")"
   ]
  },
  {
   "cell_type": "code",
   "execution_count": 17,
   "id": "c28b728b-ea75-40f1-ac28-e6610703ed92",
   "metadata": {},
   "outputs": [
    {
     "name": "stdout",
     "output_type": "stream",
     "text": [
      "\n",
      "Strengths and Weaknesses:\n",
      "\n",
      "Bagging (Random Forest):\n",
      "  Strengths: Handles high-dimensional data well, less prone to overfitting, good for complex data with interactions.\n",
      "  Weaknesses: May not perform well on noisy data, can be computationally expensive.\n",
      "\n",
      "Boosting (AdaBoost):\n",
      "  Strengths: Can improve performance of weak learners, less susceptible to overfitting, effective for reducing bias.\n",
      "  Weaknesses: Sensitive to noisy data and outliers, can be slow to train, may be prone to overfitting if not tuned properly.\n",
      "\n",
      "Stacking:\n",
      "  Stacking combines the predictions of multiple models, which can lead to improved performance.\n",
      "  Strengths: Can capture diverse patterns in the data, potentially more robust and accurate than individual models.\n",
      "  Weaknesses: Requires careful tuning of meta-learner, computationally expensive, prone to overfitting if not properly validated.\n"
     ]
    }
   ],
   "source": [
    "# Strengths and Weaknesses\n",
    "print(\"\\nStrengths and Weaknesses:\")\n",
    "print(\"\\nBagging (Random Forest):\")\n",
    "print(\"  Strengths: Handles high-dimensional data well, less prone to overfitting, good for complex data with interactions.\")\n",
    "print(\"  Weaknesses: May not perform well on noisy data, can be computationally expensive.\")\n",
    "\n",
    "print(\"\\nBoosting (AdaBoost):\")\n",
    "print(\"  Strengths: Can improve performance of weak learners, less susceptible to overfitting, effective for reducing bias.\")\n",
    "print(\"  Weaknesses: Sensitive to noisy data and outliers, can be slow to train, may be prone to overfitting if not tuned properly.\")\n",
    "\n",
    "print(\"\\nStacking:\")\n",
    "print(\"  Stacking combines the predictions of multiple models, which can lead to improved performance.\")\n",
    "print(\"  Strengths: Can capture diverse patterns in the data, potentially more robust and accurate than individual models.\")\n",
    "print(\"  Weaknesses: Requires careful tuning of meta-learner, computationally expensive, prone to overfitting if not properly validated.\")"
   ]
  },
  {
   "cell_type": "markdown",
   "id": "3e2a9f8f-16af-4c3d-9669-5a1b8a9d73f9",
   "metadata": {},
   "source": [
    "## Feature Importance Analysis:"
   ]
  },
  {
   "cell_type": "code",
   "execution_count": 18,
   "id": "37c20b8d-2ad4-4eab-8b29-1003ac2c184c",
   "metadata": {},
   "outputs": [
    {
     "data": {
      "text/plain": [
       "array([0.52240556, 0.05401704, 0.04505635, 0.03004046, 0.03162406,\n",
       "       0.1390589 , 0.08886118, 0.08893645])"
      ]
     },
     "execution_count": 18,
     "metadata": {},
     "output_type": "execute_result"
    }
   ],
   "source": [
    "model.feature_importances_"
   ]
  },
  {
   "cell_type": "code",
   "execution_count": 19,
   "id": "1cdb2369-dd54-42c9-b7ff-afc225144cc2",
   "metadata": {},
   "outputs": [],
   "source": [
    "imp_df = pd.DataFrame({'feature': x.columns,\n",
    "                               'Importance': model.feature_importances_}).sort_values(by='Importance', ascending=False)\n"
   ]
  },
  {
   "cell_type": "code",
   "execution_count": 20,
   "id": "358dc957-086e-425c-9049-f5e40c8896b3",
   "metadata": {},
   "outputs": [
    {
     "name": "stdout",
     "output_type": "stream",
     "text": [
      "Feature Importances:\n",
      "      feature  Importance\n",
      "0      MedInc    0.522406\n",
      "5    AveOccup    0.139059\n",
      "7   Longitude    0.088936\n",
      "6    Latitude    0.088861\n",
      "1    HouseAge    0.054017\n",
      "2    AveRooms    0.045056\n",
      "4  Population    0.031624\n",
      "3   AveBedrms    0.030040\n"
     ]
    }
   ],
   "source": [
    "print(\"Feature Importances:\")\n",
    "print(imp_df)"
   ]
  },
  {
   "cell_type": "code",
   "execution_count": 21,
   "id": "8211eda9-dcec-46cc-9082-27f629af8faf",
   "metadata": {},
   "outputs": [
    {
     "data": {
      "image/png": "[encoded data removed]",
      "text/plain": [
       "<Figure size 640x480 with 1 Axes>"
      ]
     },
     "metadata": {},
     "output_type": "display_data"
    }
   ],
   "source": [
    "import matplotlib.pyplot as plt\n",
    "plt.barh(imp_df['feature'], imp_df['Importance'])\n",
    "plt.xlabel('Importance')\n",
    "plt.ylabel('Feature')\n",
    "plt.title('Feature Importances')\n",
    "plt.show()"
   ]
  },
  {
   "cell_type": "markdown",
   "id": "47b803b9-a901-489c-9ca5-9e77a3ec3677",
   "metadata": {},
   "source": [
    "## Conclusion and Reflection:"
   ]
  },
  {
   "cell_type": "code",
   "execution_count": 22,
   "id": "88de7519-f76f-4053-a1c5-e8864f183734",
   "metadata": {},
   "outputs": [
    {
     "name": "stdout",
     "output_type": "stream",
     "text": [
      "Conclusion:\n",
      "\n",
      "In this study, we explored the effectiveness of different ensemble learning techniques, including bagging \n",
      "(Random Forest) and boosting (AdaBoost), on predicting housing prices using the California Housing dataset.\n",
      "\n",
      "Our analysis revealed that both Random Forest and AdaBoost models demonstrated promising performance in \n",
      "predicting housing prices, with varying degrees of effectiveness depending on the hyperparameters used. \n",
      "Random Forest models, with their ability to handle high-dimensional data and capture complex interactions \n",
      "among features, showcased robust performance across different numbers of estimators. On the other hand, \n",
      "AdaBoost models demonstrated the capability to improve the performance of weak learners and effectively \n",
      "reduce bias in predictions. \n"
     ]
    }
   ],
   "source": [
    "print('''Conclusion:\n",
    "\n",
    "In this study, we explored the effectiveness of different ensemble learning techniques, including bagging \n",
    "(Random Forest) and boosting (AdaBoost), on predicting housing prices using the California Housing dataset.\n",
    "\n",
    "Our analysis revealed that both Random Forest and AdaBoost models demonstrated promising performance in \n",
    "predicting housing prices, with varying degrees of effectiveness depending on the hyperparameters used. \n",
    "Random Forest models, with their ability to handle high-dimensional data and capture complex interactions \n",
    "among features, showcased robust performance across different numbers of estimators. On the other hand, \n",
    "AdaBoost models demonstrated the capability to improve the performance of weak learners and effectively \n",
    "reduce bias in predictions. ''')"
   ]
  },
  {
   "cell_type": "code",
   "execution_count": 23,
   "id": "2f1c83c7-4dc3-4ac2-bf21-72208ad0a59a",
   "metadata": {},
   "outputs": [
    {
     "name": "stdout",
     "output_type": "stream",
     "text": [
      "Reflection:\n",
      "\n",
      "The choice of ensemble method depends on the characteristics of the dataset and the specific goals of the \n",
      "prediction task. In situations where the dataset is high-dimensional or contains complex interactions between \n",
      "features, Random Forest might be preferred due to its ability to handle such scenarios effectively. Additionally, \n",
      "Random Forest tends to be less prone to overfitting, making it a suitable choice for datasets with noisy or less \n",
      "structured data.\n",
      "\n",
      "On the other hand, AdaBoost might be preferred when the dataset contains weak learners or suffers from high bias. \n",
      "AdaBoost excels in iteratively improving the performance of weak learners by focusing on instances that are \n",
      "difficult to classify correctly, which can lead to significant performance improvements. However, it's important \n",
      "to note that AdaBoost may be sensitive to noisy data and outliers, and careful parameter tuning is required to \n",
      "achieve optimal results.\n",
      "\n",
      "In summary, the choice between ensemble methods should be guided by a thorough understanding of the dataset \n",
      "characteristics, the desired trade-offs between bias and variance, and computational considerations. \n",
      "Experimentation and validation with different ensemble techniques are crucial to identify the most effective \n",
      "approach for a given prediction task. \n"
     ]
    }
   ],
   "source": [
    "print('''Reflection:\n",
    "\n",
    "The choice of ensemble method depends on the characteristics of the dataset and the specific goals of the \n",
    "prediction task. In situations where the dataset is high-dimensional or contains complex interactions between \n",
    "features, Random Forest might be preferred due to its ability to handle such scenarios effectively. Additionally, \n",
    "Random Forest tends to be less prone to overfitting, making it a suitable choice for datasets with noisy or less \n",
    "structured data.\n",
    "\n",
    "On the other hand, AdaBoost might be preferred when the dataset contains weak learners or suffers from high bias. \n",
    "AdaBoost excels in iteratively improving the performance of weak learners by focusing on instances that are \n",
    "difficult to classify correctly, which can lead to significant performance improvements. However, it's important \n",
    "to note that AdaBoost may be sensitive to noisy data and outliers, and careful parameter tuning is required to \n",
    "achieve optimal results.\n",
    "\n",
    "In summary, the choice between ensemble methods should be guided by a thorough understanding of the dataset \n",
    "characteristics, the desired trade-offs between bias and variance, and computational considerations. \n",
    "Experimentation and validation with different ensemble techniques are crucial to identify the most effective \n",
    "approach for a given prediction task. ''')"
   ]
  }
 ],
 "metadata": {
  "kernelspec": {
   "display_name": "Python 3 (ipykernel)",
   "language": "python",
   "name": "python3"
  },
  "language_info": {
   "codemirror_mode": {
    "name": "ipython",
    "version": 3
   },
   "file_extension": ".py",
   "mimetype": "text/x-python",
   "name": "python",
   "nbconvert_exporter": "python",
   "pygments_lexer": "ipython3",
   "version": "3.12.0"
  }
 },
 "nbformat": 4,
 "nbformat_minor": 5
}
