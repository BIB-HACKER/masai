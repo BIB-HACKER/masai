{
 "cells": [
  {
   "cell_type": "markdown",
   "id": "a45adbf3",
   "metadata": {},
   "source": [
    "# Linear Regression - PSC\n",
    "\n",
    "<img src=\"https://drek4537l1klr.cloudfront.net/serrano/v-4/Figures/image027.png\" height=500 width=500>"
   ]
  },
  {
   "cell_type": "markdown",
   "id": "0708c21c",
   "metadata": {},
   "source": [
    "> **Problem Statement**: Predict & Evaluate the Delhi Houses Prices in a certain locality using this [dataset](https://www.kaggle.com/datasets/neelkamal692/delhi-house-price-prediction)."
   ]
  },
  {
   "cell_type": "code",
   "execution_count": 202,
   "id": "a6e45804",
   "metadata": {},
   "outputs": [],
   "source": [
    "import opendatasets as od\n",
    "import pandas as pd\n",
    "import numpy as np"
   ]
  },
  {
   "cell_type": "code",
   "execution_count": 203,
   "id": "73957545",
   "metadata": {},
   "outputs": [
    {
     "name": "stdout",
     "output_type": "stream",
     "text": [
      "Skipping, found downloaded files in \"./delhi-house-price-prediction\" (use force=True to force download)\n"
     ]
    }
   ],
   "source": [
    "od.download(\"https://www.kaggle.com/datasets/neelkamal692/delhi-house-price-prediction\")"
   ]
  },
  {
   "cell_type": "code",
   "execution_count": null,
   "id": "b43d2df5",
   "metadata": {},
   "outputs": [],
   "source": []
  },
  {
   "cell_type": "code",
   "execution_count": 2,
   "id": "ce8cd34d",
   "metadata": {},
   "outputs": [
    {
     "name": "stdout",
     "output_type": "stream",
     "text": [
      "Downloading delhi-house-price-prediction.zip to ./delhi-house-price-prediction\n"
     ]
    },
    {
     "name": "stderr",
     "output_type": "stream",
     "text": [
      "100%|███████████████████████████████████████| 25.0k/25.0k [00:00<00:00, 197kB/s]"
     ]
    },
    {
     "name": "stdout",
     "output_type": "stream",
     "text": [
      "\n"
     ]
    },
    {
     "name": "stderr",
     "output_type": "stream",
     "text": [
      "\n"
     ]
    }
   ],
   "source": [
    "od.download('https://www.kaggle.com/datasets/neelkamal692/delhi-house-price-prediction')"
   ]
  },
  {
   "cell_type": "code",
   "execution_count": 186,
   "id": "4a8cc505",
   "metadata": {},
   "outputs": [],
   "source": [
    "df = pd.read_csv('delhi-house-price-prediction/MagicBricks.csv')"
   ]
  },
  {
   "cell_type": "code",
   "execution_count": 187,
   "id": "64c3caa3",
   "metadata": {},
   "outputs": [
    {
     "data": {
      "text/html": [
       "<div>\n",
       "<style scoped>\n",
       "    .dataframe tbody tr th:only-of-type {\n",
       "        vertical-align: middle;\n",
       "    }\n",
       "\n",
       "    .dataframe tbody tr th {\n",
       "        vertical-align: top;\n",
       "    }\n",
       "\n",
       "    .dataframe thead th {\n",
       "        text-align: right;\n",
       "    }\n",
       "</style>\n",
       "<table border=\"1\" class=\"dataframe\">\n",
       "  <thead>\n",
       "    <tr style=\"text-align: right;\">\n",
       "      <th></th>\n",
       "      <th>Area</th>\n",
       "      <th>BHK</th>\n",
       "      <th>Bathroom</th>\n",
       "      <th>Furnishing</th>\n",
       "      <th>Locality</th>\n",
       "      <th>Parking</th>\n",
       "      <th>Price</th>\n",
       "      <th>Status</th>\n",
       "      <th>Transaction</th>\n",
       "      <th>Type</th>\n",
       "      <th>Per_Sqft</th>\n",
       "    </tr>\n",
       "  </thead>\n",
       "  <tbody>\n",
       "    <tr>\n",
       "      <th>0</th>\n",
       "      <td>800.0</td>\n",
       "      <td>3</td>\n",
       "      <td>2.0</td>\n",
       "      <td>Semi-Furnished</td>\n",
       "      <td>Rohini Sector 25</td>\n",
       "      <td>1.0</td>\n",
       "      <td>6500000</td>\n",
       "      <td>Ready_to_move</td>\n",
       "      <td>New_Property</td>\n",
       "      <td>Builder_Floor</td>\n",
       "      <td>NaN</td>\n",
       "    </tr>\n",
       "    <tr>\n",
       "      <th>1</th>\n",
       "      <td>750.0</td>\n",
       "      <td>2</td>\n",
       "      <td>2.0</td>\n",
       "      <td>Semi-Furnished</td>\n",
       "      <td>J R Designers Floors, Rohini Sector 24</td>\n",
       "      <td>1.0</td>\n",
       "      <td>5000000</td>\n",
       "      <td>Ready_to_move</td>\n",
       "      <td>New_Property</td>\n",
       "      <td>Apartment</td>\n",
       "      <td>6667.0</td>\n",
       "    </tr>\n",
       "    <tr>\n",
       "      <th>2</th>\n",
       "      <td>950.0</td>\n",
       "      <td>2</td>\n",
       "      <td>2.0</td>\n",
       "      <td>Furnished</td>\n",
       "      <td>Citizen Apartment, Rohini Sector 13</td>\n",
       "      <td>1.0</td>\n",
       "      <td>15500000</td>\n",
       "      <td>Ready_to_move</td>\n",
       "      <td>Resale</td>\n",
       "      <td>Apartment</td>\n",
       "      <td>6667.0</td>\n",
       "    </tr>\n",
       "    <tr>\n",
       "      <th>3</th>\n",
       "      <td>600.0</td>\n",
       "      <td>2</td>\n",
       "      <td>2.0</td>\n",
       "      <td>Semi-Furnished</td>\n",
       "      <td>Rohini Sector 24</td>\n",
       "      <td>1.0</td>\n",
       "      <td>4200000</td>\n",
       "      <td>Ready_to_move</td>\n",
       "      <td>Resale</td>\n",
       "      <td>Builder_Floor</td>\n",
       "      <td>6667.0</td>\n",
       "    </tr>\n",
       "    <tr>\n",
       "      <th>4</th>\n",
       "      <td>650.0</td>\n",
       "      <td>2</td>\n",
       "      <td>2.0</td>\n",
       "      <td>Semi-Furnished</td>\n",
       "      <td>Rohini Sector 24 carpet area 650 sqft status R...</td>\n",
       "      <td>1.0</td>\n",
       "      <td>6200000</td>\n",
       "      <td>Ready_to_move</td>\n",
       "      <td>New_Property</td>\n",
       "      <td>Builder_Floor</td>\n",
       "      <td>6667.0</td>\n",
       "    </tr>\n",
       "    <tr>\n",
       "      <th>...</th>\n",
       "      <td>...</td>\n",
       "      <td>...</td>\n",
       "      <td>...</td>\n",
       "      <td>...</td>\n",
       "      <td>...</td>\n",
       "      <td>...</td>\n",
       "      <td>...</td>\n",
       "      <td>...</td>\n",
       "      <td>...</td>\n",
       "      <td>...</td>\n",
       "      <td>...</td>\n",
       "    </tr>\n",
       "    <tr>\n",
       "      <th>1254</th>\n",
       "      <td>4118.0</td>\n",
       "      <td>4</td>\n",
       "      <td>5.0</td>\n",
       "      <td>Unfurnished</td>\n",
       "      <td>Chittaranjan Park</td>\n",
       "      <td>3.0</td>\n",
       "      <td>55000000</td>\n",
       "      <td>Ready_to_move</td>\n",
       "      <td>New_Property</td>\n",
       "      <td>Builder_Floor</td>\n",
       "      <td>12916.0</td>\n",
       "    </tr>\n",
       "    <tr>\n",
       "      <th>1255</th>\n",
       "      <td>1050.0</td>\n",
       "      <td>3</td>\n",
       "      <td>2.0</td>\n",
       "      <td>Semi-Furnished</td>\n",
       "      <td>Chittaranjan Park</td>\n",
       "      <td>3.0</td>\n",
       "      <td>12500000</td>\n",
       "      <td>Ready_to_move</td>\n",
       "      <td>Resale</td>\n",
       "      <td>Builder_Floor</td>\n",
       "      <td>12916.0</td>\n",
       "    </tr>\n",
       "    <tr>\n",
       "      <th>1256</th>\n",
       "      <td>875.0</td>\n",
       "      <td>3</td>\n",
       "      <td>3.0</td>\n",
       "      <td>Semi-Furnished</td>\n",
       "      <td>Chittaranjan Park</td>\n",
       "      <td>3.0</td>\n",
       "      <td>17500000</td>\n",
       "      <td>Ready_to_move</td>\n",
       "      <td>New_Property</td>\n",
       "      <td>Builder_Floor</td>\n",
       "      <td>12916.0</td>\n",
       "    </tr>\n",
       "    <tr>\n",
       "      <th>1257</th>\n",
       "      <td>990.0</td>\n",
       "      <td>2</td>\n",
       "      <td>2.0</td>\n",
       "      <td>Unfurnished</td>\n",
       "      <td>Chittaranjan Park Block A</td>\n",
       "      <td>1.0</td>\n",
       "      <td>11500000</td>\n",
       "      <td>Ready_to_move</td>\n",
       "      <td>Resale</td>\n",
       "      <td>Builder_Floor</td>\n",
       "      <td>12916.0</td>\n",
       "    </tr>\n",
       "    <tr>\n",
       "      <th>1258</th>\n",
       "      <td>11050.0</td>\n",
       "      <td>3</td>\n",
       "      <td>3.0</td>\n",
       "      <td>Unfurnished</td>\n",
       "      <td>Chittaranjan Park</td>\n",
       "      <td>1.0</td>\n",
       "      <td>18500000</td>\n",
       "      <td>Ready_to_move</td>\n",
       "      <td>New_Property</td>\n",
       "      <td>Builder_Floor</td>\n",
       "      <td>12916.0</td>\n",
       "    </tr>\n",
       "  </tbody>\n",
       "</table>\n",
       "<p>1259 rows × 11 columns</p>\n",
       "</div>"
      ],
      "text/plain": [
       "         Area  BHK  Bathroom      Furnishing  \\\n",
       "0       800.0    3       2.0  Semi-Furnished   \n",
       "1       750.0    2       2.0  Semi-Furnished   \n",
       "2       950.0    2       2.0       Furnished   \n",
       "3       600.0    2       2.0  Semi-Furnished   \n",
       "4       650.0    2       2.0  Semi-Furnished   \n",
       "...       ...  ...       ...             ...   \n",
       "1254   4118.0    4       5.0     Unfurnished   \n",
       "1255   1050.0    3       2.0  Semi-Furnished   \n",
       "1256    875.0    3       3.0  Semi-Furnished   \n",
       "1257    990.0    2       2.0     Unfurnished   \n",
       "1258  11050.0    3       3.0     Unfurnished   \n",
       "\n",
       "                                               Locality  Parking     Price  \\\n",
       "0                                      Rohini Sector 25      1.0   6500000   \n",
       "1                J R Designers Floors, Rohini Sector 24      1.0   5000000   \n",
       "2                   Citizen Apartment, Rohini Sector 13      1.0  15500000   \n",
       "3                                      Rohini Sector 24      1.0   4200000   \n",
       "4     Rohini Sector 24 carpet area 650 sqft status R...      1.0   6200000   \n",
       "...                                                 ...      ...       ...   \n",
       "1254                                  Chittaranjan Park      3.0  55000000   \n",
       "1255                                  Chittaranjan Park      3.0  12500000   \n",
       "1256                                  Chittaranjan Park      3.0  17500000   \n",
       "1257                          Chittaranjan Park Block A      1.0  11500000   \n",
       "1258                                  Chittaranjan Park      1.0  18500000   \n",
       "\n",
       "             Status   Transaction           Type  Per_Sqft  \n",
       "0     Ready_to_move  New_Property  Builder_Floor       NaN  \n",
       "1     Ready_to_move  New_Property      Apartment    6667.0  \n",
       "2     Ready_to_move        Resale      Apartment    6667.0  \n",
       "3     Ready_to_move        Resale  Builder_Floor    6667.0  \n",
       "4     Ready_to_move  New_Property  Builder_Floor    6667.0  \n",
       "...             ...           ...            ...       ...  \n",
       "1254  Ready_to_move  New_Property  Builder_Floor   12916.0  \n",
       "1255  Ready_to_move        Resale  Builder_Floor   12916.0  \n",
       "1256  Ready_to_move  New_Property  Builder_Floor   12916.0  \n",
       "1257  Ready_to_move        Resale  Builder_Floor   12916.0  \n",
       "1258  Ready_to_move  New_Property  Builder_Floor   12916.0  \n",
       "\n",
       "[1259 rows x 11 columns]"
      ]
     },
     "execution_count": 187,
     "metadata": {},
     "output_type": "execute_result"
    }
   ],
   "source": [
    "df"
   ]
  },
  {
   "cell_type": "code",
   "execution_count": 188,
   "id": "8a50379a",
   "metadata": {},
   "outputs": [
    {
     "name": "stdout",
     "output_type": "stream",
     "text": [
      "<class 'pandas.core.frame.DataFrame'>\n",
      "RangeIndex: 1259 entries, 0 to 1258\n",
      "Data columns (total 11 columns):\n",
      " #   Column       Non-Null Count  Dtype  \n",
      "---  ------       --------------  -----  \n",
      " 0   Area         1259 non-null   float64\n",
      " 1   BHK          1259 non-null   int64  \n",
      " 2   Bathroom     1257 non-null   float64\n",
      " 3   Furnishing   1254 non-null   object \n",
      " 4   Locality     1259 non-null   object \n",
      " 5   Parking      1226 non-null   float64\n",
      " 6   Price        1259 non-null   int64  \n",
      " 7   Status       1259 non-null   object \n",
      " 8   Transaction  1259 non-null   object \n",
      " 9   Type         1254 non-null   object \n",
      " 10  Per_Sqft     1018 non-null   float64\n",
      "dtypes: float64(4), int64(2), object(5)\n",
      "memory usage: 108.3+ KB\n"
     ]
    }
   ],
   "source": [
    "df.info()"
   ]
  },
  {
   "cell_type": "code",
   "execution_count": 204,
   "id": "7127d157",
   "metadata": {},
   "outputs": [
    {
     "data": {
      "text/plain": [
       "Area           0\n",
       "BHK            0\n",
       "Bathroom       0\n",
       "Furnishing     0\n",
       "Locality       0\n",
       "Parking        0\n",
       "Price          0\n",
       "Status         0\n",
       "Transaction    0\n",
       "Type           0\n",
       "Per_Sqft       0\n",
       "dtype: int64"
      ]
     },
     "execution_count": 204,
     "metadata": {},
     "output_type": "execute_result"
    }
   ],
   "source": [
    "df.isna().sum()"
   ]
  },
  {
   "cell_type": "markdown",
   "id": "4f4b9b0b",
   "metadata": {},
   "source": [
    "A summary of a dataset with various columns and the count of missing values in each column. Each number represents the count of missing values for the corresponding column."
   ]
  },
  {
   "cell_type": "markdown",
   "id": "e1ca5248",
   "metadata": {},
   "source": [
    "### Cleaning the dataset"
   ]
  },
  {
   "cell_type": "code",
   "execution_count": 190,
   "id": "f1806273",
   "metadata": {},
   "outputs": [],
   "source": [
    "df['Furnishing'].fillna(df['Furnishing'].mode().iloc[0], inplace=True)"
   ]
  },
  {
   "cell_type": "code",
   "execution_count": 191,
   "id": "768226bb",
   "metadata": {},
   "outputs": [],
   "source": [
    "df['Bathroom'].fillna(df['Bathroom'].mode().iloc[0], inplace=True)"
   ]
  },
  {
   "cell_type": "markdown",
   "id": "f65ff351",
   "metadata": {},
   "source": [
    "Mode imputation is suitable for categorical variables like \"Furnishing\" and \"Bathroom\" when dealing with a relatively small number of unique values. Filling missing values with the mode helps maintain the distribution of existing values and is a common approach for categorical data."
   ]
  },
  {
   "cell_type": "code",
   "execution_count": 192,
   "id": "5daf157b",
   "metadata": {},
   "outputs": [],
   "source": [
    "df['Parking'].fillna(0, inplace=True)"
   ]
  },
  {
   "cell_type": "markdown",
   "id": "721f9993",
   "metadata": {},
   "source": [
    "Assuming that missing values might indicate no parking space, filling with the minimum value (likely 0) is a reasonable choice."
   ]
  },
  {
   "cell_type": "code",
   "execution_count": 193,
   "id": "2b25a565",
   "metadata": {},
   "outputs": [],
   "source": [
    "df['Type'].fillna('NA', inplace=True)"
   ]
  },
  {
   "cell_type": "markdown",
   "id": "03b03c98",
   "metadata": {},
   "source": [
    "Assuming that missing values in the \"Type\" column may not be available or are not applicable, filling with 'NA' (Not Available) is a straightforward way to handle them."
   ]
  },
  {
   "cell_type": "code",
   "execution_count": 194,
   "id": "5ae5096b",
   "metadata": {},
   "outputs": [],
   "source": [
    "df['Per_Sqft'] = df.groupby(['Locality'])['Per_Sqft'].transform(lambda x: x.fillna(x.min()))"
   ]
  },
  {
   "cell_type": "code",
   "execution_count": 195,
   "id": "a3b44756",
   "metadata": {},
   "outputs": [],
   "source": [
    "df['Per_Sqft'] = df.groupby(['Area'])['Per_Sqft'].transform(lambda x: x.fillna(x.min()))"
   ]
  },
  {
   "cell_type": "code",
   "execution_count": 196,
   "id": "cccc4f19",
   "metadata": {},
   "outputs": [],
   "source": [
    "df['Per_Sqft'] = df.groupby(['Transaction'])['Per_Sqft'].transform(lambda x: x.fillna(x.min()))"
   ]
  },
  {
   "cell_type": "markdown",
   "id": "dae24310",
   "metadata": {},
   "source": [
    "Grouping by relevant columns and filling missing values with the minimum value within those groups is a more targeted approach. It assumes that the \"Per_Sqft\" values within the same locality, area, or transaction type may have similar characteristics, making the imputation more context-specific and less arbitrary."
   ]
  },
  {
   "cell_type": "code",
   "execution_count": 197,
   "id": "7b750f5d",
   "metadata": {},
   "outputs": [
    {
     "data": {
      "text/plain": [
       "Area           0\n",
       "BHK            0\n",
       "Bathroom       0\n",
       "Furnishing     0\n",
       "Locality       0\n",
       "Parking        0\n",
       "Price          0\n",
       "Status         0\n",
       "Transaction    0\n",
       "Type           0\n",
       "Per_Sqft       0\n",
       "dtype: int64"
      ]
     },
     "execution_count": 197,
     "metadata": {},
     "output_type": "execute_result"
    }
   ],
   "source": [
    "df.isna().sum()"
   ]
  },
  {
   "cell_type": "markdown",
   "id": "a9c6f692",
   "metadata": {},
   "source": [
    "No more missing values in the dataset!"
   ]
  },
  {
   "cell_type": "markdown",
   "id": "0c46c9ae",
   "metadata": {},
   "source": [
    "### Splitting the dataset"
   ]
  },
  {
   "cell_type": "code",
   "execution_count": 198,
   "id": "3ac6f21a",
   "metadata": {},
   "outputs": [],
   "source": [
    "from sklearn.model_selection import train_test_split"
   ]
  },
  {
   "cell_type": "markdown",
   "id": "c220b019",
   "metadata": {},
   "source": [
    "Importing the `train_test_split` function from the `sklearn.model_selection` module. This function is commonly used in machine learning to split a dataset into training and testing sets. "
   ]
  },
  {
   "cell_type": "code",
   "execution_count": 199,
   "id": "e10b86da",
   "metadata": {},
   "outputs": [],
   "source": [
    "train_df, test_df = train_test_split(df, test_size=0.2, random_state=42)"
   ]
  },
  {
   "cell_type": "markdown",
   "id": "83a86943",
   "metadata": {},
   "source": [
    "- `df`: Your original DataFrame containing the dataset you want to split.\n",
    "- `test_size=0.2`: This parameter specifies the proportion of the dataset that should be included in the test split. In this case, it's set to 20%, meaning 80% of the data will be used for training (`train_df`), and 20% will be used for testing (`test_df`).\n",
    "- `random_state=42`: This parameter sets a seed for the random number generator, ensuring reproducibility. If you use the same random state (42 in this case) in the future, you'll get the same split.\n",
    "\n",
    "After running this code, we'll have two DataFrames:\n",
    "\n",
    "- `train_df`: This DataFrame contains 80% of the data and is typically used for training machine learning models.\n",
    "- `test_df`: This DataFrame contains 20% of the data and is reserved for evaluating the performance of your trained models.\n",
    "\n",
    "These subsets are helpful for training a model on one portion of the data and assessing its performance on another unseen portion, helping to ensure the generalization of your model to new, unseen data."
   ]
  },
  {
   "cell_type": "code",
   "execution_count": 76,
   "id": "56941115",
   "metadata": {},
   "outputs": [
    {
     "data": {
      "text/plain": [
       "Index(['Area', 'BHK', 'Bathroom', 'Furnishing', 'Locality', 'Parking', 'Price',\n",
       "       'Status', 'Transaction', 'Type', 'Per_Sqft'],\n",
       "      dtype='object')"
      ]
     },
     "execution_count": 76,
     "metadata": {},
     "output_type": "execute_result"
    }
   ],
   "source": [
    "train_df.columns"
   ]
  },
  {
   "cell_type": "markdown",
   "id": "044c29f1",
   "metadata": {},
   "source": [
    "We're selecting only numerical independent columns for training the model. We'll handle categorical independent columns in the future."
   ]
  },
  {
   "cell_type": "code",
   "execution_count": 200,
   "id": "b90d418d",
   "metadata": {},
   "outputs": [],
   "source": [
    "train_inputs = train_df[['Area', 'BHK', 'Bathroom', 'Parking', 'Per_Sqft']]"
   ]
  },
  {
   "cell_type": "code",
   "execution_count": 86,
   "id": "55794f5b",
   "metadata": {},
   "outputs": [],
   "source": [
    "train_targets = train_df[['Price']]"
   ]
  },
  {
   "cell_type": "code",
   "execution_count": 87,
   "id": "a00db012",
   "metadata": {},
   "outputs": [],
   "source": [
    "test_inputs = test_df[['Area', 'BHK', 'Bathroom', 'Parking', 'Per_Sqft']]"
   ]
  },
  {
   "cell_type": "code",
   "execution_count": 88,
   "id": "13320a0b",
   "metadata": {},
   "outputs": [],
   "source": [
    "test_targets = test_df[['Price']]"
   ]
  },
  {
   "cell_type": "markdown",
   "id": "46885fac",
   "metadata": {},
   "source": [
    "### Fitting the model"
   ]
  },
  {
   "cell_type": "markdown",
   "id": "02ad9be7",
   "metadata": {},
   "source": [
    "1. **Importing LinearRegression:**\n",
    "   - `from sklearn.linear_model import LinearRegression`: This line imports the `LinearRegression` class from scikit-learn's linear_model module. `LinearRegression` is a simple linear regression model, a commonly used algorithm for predicting a target variable based on one or more predictor variables."
   ]
  },
  {
   "cell_type": "code",
   "execution_count": 183,
   "id": "ea4fdd55",
   "metadata": {},
   "outputs": [],
   "source": [
    "from sklearn.linear_model import LinearRegression"
   ]
  },
  {
   "cell_type": "markdown",
   "id": "5a81e608",
   "metadata": {},
   "source": [
    "2. **Creating a Linear Regression Model:**\n",
    "   - `linear = LinearRegression()`: This line creates an instance of the `LinearRegression` model and assigns it to the variable `linear`. This instance will be used to store the trained model.\n"
   ]
  },
  {
   "cell_type": "code",
   "execution_count": 184,
   "id": "cf38d843",
   "metadata": {},
   "outputs": [],
   "source": [
    "linear = LinearRegression()"
   ]
  },
  {
   "cell_type": "markdown",
   "id": "f1c365fb",
   "metadata": {},
   "source": [
    "3. **Fitting the Model:**\n",
    "   - `linear.fit(train_inputs, train_targets)`: This line fits (trains) the linear regression model using the training inputs (`train_inputs`) and the corresponding target values (`train_targets`). The model learns the coefficients and intercept that best describe the relationship between the inputs and the targets."
   ]
  },
  {
   "cell_type": "code",
   "execution_count": 92,
   "id": "cc11c1d3",
   "metadata": {},
   "outputs": [
    {
     "data": {
      "text/html": [
       "<style>#sk-container-id-4 {color: black;background-color: white;}#sk-container-id-4 pre{padding: 0;}#sk-container-id-4 div.sk-toggleable {background-color: white;}#sk-container-id-4 label.sk-toggleable__label {cursor: pointer;display: block;width: 100%;margin-bottom: 0;padding: 0.3em;box-sizing: border-box;text-align: center;}#sk-container-id-4 label.sk-toggleable__label-arrow:before {content: \"▸\";float: left;margin-right: 0.25em;color: #696969;}#sk-container-id-4 label.sk-toggleable__label-arrow:hover:before {color: black;}#sk-container-id-4 div.sk-estimator:hover label.sk-toggleable__label-arrow:before {color: black;}#sk-container-id-4 div.sk-toggleable__content {max-height: 0;max-width: 0;overflow: hidden;text-align: left;background-color: #f0f8ff;}#sk-container-id-4 div.sk-toggleable__content pre {margin: 0.2em;color: black;border-radius: 0.25em;background-color: #f0f8ff;}#sk-container-id-4 input.sk-toggleable__control:checked~div.sk-toggleable__content {max-height: 200px;max-width: 100%;overflow: auto;}#sk-container-id-4 input.sk-toggleable__control:checked~label.sk-toggleable__label-arrow:before {content: \"▾\";}#sk-container-id-4 div.sk-estimator input.sk-toggleable__control:checked~label.sk-toggleable__label {background-color: #d4ebff;}#sk-container-id-4 div.sk-label input.sk-toggleable__control:checked~label.sk-toggleable__label {background-color: #d4ebff;}#sk-container-id-4 input.sk-hidden--visually {border: 0;clip: rect(1px 1px 1px 1px);clip: rect(1px, 1px, 1px, 1px);height: 1px;margin: -1px;overflow: hidden;padding: 0;position: absolute;width: 1px;}#sk-container-id-4 div.sk-estimator {font-family: monospace;background-color: #f0f8ff;border: 1px dotted black;border-radius: 0.25em;box-sizing: border-box;margin-bottom: 0.5em;}#sk-container-id-4 div.sk-estimator:hover {background-color: #d4ebff;}#sk-container-id-4 div.sk-parallel-item::after {content: \"\";width: 100%;border-bottom: 1px solid gray;flex-grow: 1;}#sk-container-id-4 div.sk-label:hover label.sk-toggleable__label {background-color: #d4ebff;}#sk-container-id-4 div.sk-serial::before {content: \"\";position: absolute;border-left: 1px solid gray;box-sizing: border-box;top: 0;bottom: 0;left: 50%;z-index: 0;}#sk-container-id-4 div.sk-serial {display: flex;flex-direction: column;align-items: center;background-color: white;padding-right: 0.2em;padding-left: 0.2em;position: relative;}#sk-container-id-4 div.sk-item {position: relative;z-index: 1;}#sk-container-id-4 div.sk-parallel {display: flex;align-items: stretch;justify-content: center;background-color: white;position: relative;}#sk-container-id-4 div.sk-item::before, #sk-container-id-4 div.sk-parallel-item::before {content: \"\";position: absolute;border-left: 1px solid gray;box-sizing: border-box;top: 0;bottom: 0;left: 50%;z-index: -1;}#sk-container-id-4 div.sk-parallel-item {display: flex;flex-direction: column;z-index: 1;position: relative;background-color: white;}#sk-container-id-4 div.sk-parallel-item:first-child::after {align-self: flex-end;width: 50%;}#sk-container-id-4 div.sk-parallel-item:last-child::after {align-self: flex-start;width: 50%;}#sk-container-id-4 div.sk-parallel-item:only-child::after {width: 0;}#sk-container-id-4 div.sk-dashed-wrapped {border: 1px dashed gray;margin: 0 0.4em 0.5em 0.4em;box-sizing: border-box;padding-bottom: 0.4em;background-color: white;}#sk-container-id-4 div.sk-label label {font-family: monospace;font-weight: bold;display: inline-block;line-height: 1.2em;}#sk-container-id-4 div.sk-label-container {text-align: center;}#sk-container-id-4 div.sk-container {/* jupyter's `normalize.less` sets `[hidden] { display: none; }` but bootstrap.min.css set `[hidden] { display: none !important; }` so we also need the `!important` here to be able to override the default hidden behavior on the sphinx rendered scikit-learn.org. See: https://github.com/scikit-learn/scikit-learn/issues/21755 */display: inline-block !important;position: relative;}#sk-container-id-4 div.sk-text-repr-fallback {display: none;}</style><div id=\"sk-container-id-4\" class=\"sk-top-container\"><div class=\"sk-text-repr-fallback\"><pre>LinearRegression()</pre><b>In a Jupyter environment, please rerun this cell to show the HTML representation or trust the notebook. <br />On GitHub, the HTML representation is unable to render, please try loading this page with nbviewer.org.</b></div><div class=\"sk-container\" hidden><div class=\"sk-item\"><div class=\"sk-estimator sk-toggleable\"><input class=\"sk-toggleable__control sk-hidden--visually\" id=\"sk-estimator-id-4\" type=\"checkbox\" checked><label for=\"sk-estimator-id-4\" class=\"sk-toggleable__label sk-toggleable__label-arrow\">LinearRegression</label><div class=\"sk-toggleable__content\"><pre>LinearRegression()</pre></div></div></div></div></div>"
      ],
      "text/plain": [
       "LinearRegression()"
      ]
     },
     "execution_count": 92,
     "metadata": {},
     "output_type": "execute_result"
    }
   ],
   "source": [
    "linear.fit(train_inputs,train_targets)"
   ]
  },
  {
   "cell_type": "markdown",
   "id": "48156f2b",
   "metadata": {},
   "source": [
    "### Making Predictions"
   ]
  },
  {
   "cell_type": "code",
   "execution_count": 96,
   "id": "378493f0",
   "metadata": {},
   "outputs": [],
   "source": [
    "train_predictions = linear.predict(train_inputs)"
   ]
  },
  {
   "cell_type": "code",
   "execution_count": 95,
   "id": "80489592",
   "metadata": {},
   "outputs": [],
   "source": [
    "test_predictions = linear.predict(test_inputs)"
   ]
  },
  {
   "cell_type": "markdown",
   "id": "1e3275e9",
   "metadata": {},
   "source": [
    "`linear.predict()` uses the trained linear regression model (`linear`) to make predictions on the inputs. The resulting predictions are stored in the respectice variable."
   ]
  },
  {
   "cell_type": "markdown",
   "id": "885c161a",
   "metadata": {},
   "source": [
    "### Evaluating the Model"
   ]
  },
  {
   "cell_type": "code",
   "execution_count": 97,
   "id": "1f2e540b",
   "metadata": {},
   "outputs": [],
   "source": [
    "from sklearn.metrics import mean_squared_error"
   ]
  },
  {
   "cell_type": "markdown",
   "id": "ded4d1bf",
   "metadata": {},
   "source": [
    "`from sklearn.metrics import mean_squared_error`: This line imports the `mean_squared_error` function from scikit-learn's metrics module. The function is used to compute the mean squared error between actual and predicted values."
   ]
  },
  {
   "cell_type": "code",
   "execution_count": 100,
   "id": "4377c45f",
   "metadata": {},
   "outputs": [
    {
     "data": {
      "text/plain": [
       "15633062.56043585"
      ]
     },
     "execution_count": 100,
     "metadata": {},
     "output_type": "execute_result"
    }
   ],
   "source": [
    "mean_squared_error(train_targets, train_predictions,squared=False)"
   ]
  },
  {
   "cell_type": "code",
   "execution_count": 101,
   "id": "7d2304b0",
   "metadata": {},
   "outputs": [
    {
     "data": {
      "text/plain": [
       "17752287.814827345"
      ]
     },
     "execution_count": 101,
     "metadata": {},
     "output_type": "execute_result"
    }
   ],
   "source": [
    "mean_squared_error(test_targets, test_predictions, squared=False)"
   ]
  },
  {
   "cell_type": "markdown",
   "id": "bfb30bf6",
   "metadata": {},
   "source": [
    "`mean_squared_error(targets, predictions, squared=False)` calculates the root mean squared error (RMSE) by comparing the actual target values (`targets`) with the predicted values (`predictions`). The `squared=False` parameter ensures that the function returns the RMSE rather than the MSE.\n",
    "\n",
    "\n",
    "The RMSE is a commonly used metric to evaluate the performance of regression models. It represents the square root of the average squared differences between predicted and actual values. Lower RMSE values indicate better model performance."
   ]
  },
  {
   "cell_type": "code",
   "execution_count": 102,
   "id": "3416f003",
   "metadata": {},
   "outputs": [
    {
     "data": {
      "text/html": [
       "<div>\n",
       "<style scoped>\n",
       "    .dataframe tbody tr th:only-of-type {\n",
       "        vertical-align: middle;\n",
       "    }\n",
       "\n",
       "    .dataframe tbody tr th {\n",
       "        vertical-align: top;\n",
       "    }\n",
       "\n",
       "    .dataframe thead th {\n",
       "        text-align: right;\n",
       "    }\n",
       "</style>\n",
       "<table border=\"1\" class=\"dataframe\">\n",
       "  <thead>\n",
       "    <tr style=\"text-align: right;\">\n",
       "      <th></th>\n",
       "      <th>Area</th>\n",
       "      <th>BHK</th>\n",
       "      <th>Bathroom</th>\n",
       "      <th>Parking</th>\n",
       "      <th>Price</th>\n",
       "      <th>Per_Sqft</th>\n",
       "    </tr>\n",
       "  </thead>\n",
       "  <tbody>\n",
       "    <tr>\n",
       "      <th>count</th>\n",
       "      <td>1259.000000</td>\n",
       "      <td>1259.000000</td>\n",
       "      <td>1259.000000</td>\n",
       "      <td>1259.000000</td>\n",
       "      <td>1.259000e+03</td>\n",
       "      <td>1259.000000</td>\n",
       "    </tr>\n",
       "    <tr>\n",
       "      <th>mean</th>\n",
       "      <td>1466.452724</td>\n",
       "      <td>2.796664</td>\n",
       "      <td>2.555203</td>\n",
       "      <td>1.911041</td>\n",
       "      <td>2.130670e+07</td>\n",
       "      <td>14193.106434</td>\n",
       "    </tr>\n",
       "    <tr>\n",
       "      <th>std</th>\n",
       "      <td>1568.055040</td>\n",
       "      <td>0.954425</td>\n",
       "      <td>1.041627</td>\n",
       "      <td>6.198110</td>\n",
       "      <td>2.560115e+07</td>\n",
       "      <td>19635.233678</td>\n",
       "    </tr>\n",
       "    <tr>\n",
       "      <th>min</th>\n",
       "      <td>28.000000</td>\n",
       "      <td>1.000000</td>\n",
       "      <td>1.000000</td>\n",
       "      <td>1.000000</td>\n",
       "      <td>1.000000e+06</td>\n",
       "      <td>1259.000000</td>\n",
       "    </tr>\n",
       "    <tr>\n",
       "      <th>25%</th>\n",
       "      <td>800.000000</td>\n",
       "      <td>2.000000</td>\n",
       "      <td>2.000000</td>\n",
       "      <td>1.000000</td>\n",
       "      <td>5.700000e+06</td>\n",
       "      <td>5345.000000</td>\n",
       "    </tr>\n",
       "    <tr>\n",
       "      <th>50%</th>\n",
       "      <td>1200.000000</td>\n",
       "      <td>3.000000</td>\n",
       "      <td>2.000000</td>\n",
       "      <td>1.000000</td>\n",
       "      <td>1.420000e+07</td>\n",
       "      <td>10000.000000</td>\n",
       "    </tr>\n",
       "    <tr>\n",
       "      <th>75%</th>\n",
       "      <td>1700.000000</td>\n",
       "      <td>3.000000</td>\n",
       "      <td>3.000000</td>\n",
       "      <td>2.000000</td>\n",
       "      <td>2.550000e+07</td>\n",
       "      <td>15556.000000</td>\n",
       "    </tr>\n",
       "    <tr>\n",
       "      <th>max</th>\n",
       "      <td>24300.000000</td>\n",
       "      <td>10.000000</td>\n",
       "      <td>7.000000</td>\n",
       "      <td>114.000000</td>\n",
       "      <td>2.400000e+08</td>\n",
       "      <td>183333.000000</td>\n",
       "    </tr>\n",
       "  </tbody>\n",
       "</table>\n",
       "</div>"
      ],
      "text/plain": [
       "               Area          BHK     Bathroom      Parking         Price  \\\n",
       "count   1259.000000  1259.000000  1259.000000  1259.000000  1.259000e+03   \n",
       "mean    1466.452724     2.796664     2.555203     1.911041  2.130670e+07   \n",
       "std     1568.055040     0.954425     1.041627     6.198110  2.560115e+07   \n",
       "min       28.000000     1.000000     1.000000     1.000000  1.000000e+06   \n",
       "25%      800.000000     2.000000     2.000000     1.000000  5.700000e+06   \n",
       "50%     1200.000000     3.000000     2.000000     1.000000  1.420000e+07   \n",
       "75%     1700.000000     3.000000     3.000000     2.000000  2.550000e+07   \n",
       "max    24300.000000    10.000000     7.000000   114.000000  2.400000e+08   \n",
       "\n",
       "            Per_Sqft  \n",
       "count    1259.000000  \n",
       "mean    14193.106434  \n",
       "std     19635.233678  \n",
       "min      1259.000000  \n",
       "25%      5345.000000  \n",
       "50%     10000.000000  \n",
       "75%     15556.000000  \n",
       "max    183333.000000  "
      ]
     },
     "execution_count": 102,
     "metadata": {},
     "output_type": "execute_result"
    }
   ],
   "source": [
    "df.describe()"
   ]
  },
  {
   "cell_type": "markdown",
   "id": "91fbf5cd",
   "metadata": {},
   "source": [
    "> Comparing the RMSE values to the mean of the target variable (21,306,700), it appears that the RMSE is relatively high, indicating that the model's predictions have a considerable spread around the mean."
   ]
  },
  {
   "cell_type": "code",
   "execution_count": 103,
   "id": "5ec7bbf1",
   "metadata": {},
   "outputs": [],
   "source": [
    "from sklearn.metrics import r2_score"
   ]
  },
  {
   "cell_type": "markdown",
   "id": "8386b933",
   "metadata": {},
   "source": [
    "`from sklearn.metrics import r2_score`: This line imports the `r2_score` function from scikit-learn's metrics module. R-squared is a metric that measures the proportion of the variance in the dependent variable (target) that is predictable from the independent variable(s) (predictions)."
   ]
  },
  {
   "cell_type": "markdown",
   "id": "1f669353",
   "metadata": {},
   "source": [
    "`r2_score(targets, predictions)` calculates the R-squared for the training set by comparing the actual target values (`targets`) with the predicted values (`predictions`).\n",
    "\n",
    "The R-squared value ranges from 0 to 1, where 1 indicates a perfect fit. A higher R-squared value suggests that a larger proportion of the variance in the target variable is explained by the model."
   ]
  },
  {
   "cell_type": "code",
   "execution_count": 106,
   "id": "f5a947c5",
   "metadata": {},
   "outputs": [
    {
     "data": {
      "text/plain": [
       "0.6110304057736029"
      ]
     },
     "execution_count": 106,
     "metadata": {},
     "output_type": "execute_result"
    }
   ],
   "source": [
    "r2_score(train_targets, train_predictions)"
   ]
  },
  {
   "cell_type": "code",
   "execution_count": 107,
   "id": "2b8271ae",
   "metadata": {},
   "outputs": [
    {
     "data": {
      "text/plain": [
       "0.5832756892300516"
      ]
     },
     "execution_count": 107,
     "metadata": {},
     "output_type": "execute_result"
    }
   ],
   "source": [
    "r2_score(test_targets, test_predictions)"
   ]
  },
  {
   "cell_type": "markdown",
   "id": "47406f17",
   "metadata": {},
   "source": [
    "> A value of 0.611 for the training set and 0.583 for the testing set suggests that your model explains a substantial portion of the variance in the target variable."
   ]
  }
 ],
 "metadata": {
  "kernelspec": {
   "display_name": "Python 3 (ipykernel)",
   "language": "python",
   "name": "python3"
  },
  "language_info": {
   "codemirror_mode": {
    "name": "ipython",
    "version": 3
   },
   "file_extension": ".py",
   "mimetype": "text/x-python",
   "name": "python",
   "nbconvert_exporter": "python",
   "pygments_lexer": "ipython3",
   "version": "3.12.0"
  }
 },
 "nbformat": 4,
 "nbformat_minor": 5
}
