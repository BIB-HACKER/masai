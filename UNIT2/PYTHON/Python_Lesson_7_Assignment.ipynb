{
  "cells": [
    {
      "cell_type": "markdown",
      "id": "7223f1ea",
      "metadata": {
        "id": "7223f1ea"
      },
      "source": [
        "# OOPs Concepts - Assignment 2"
      ]
    },
    {
      "cell_type": "markdown",
      "id": "9e4fc6e9",
      "metadata": {
        "id": "9e4fc6e9"
      },
      "source": [
        "1. Create a Python class named `Vehicle` with the following attributes:"
      ]
    },
    {
      "cell_type": "markdown",
      "id": "db44f108",
      "metadata": {
        "id": "db44f108"
      },
      "source": [
        "1. `name`: representing the name of the vehicle.\n",
        "2. `max_speed`: representing the maximum speed of the vehicle.\n",
        "3. `mileage`: representing the mileage of the vehicle.\n",
        "\n",
        "Additionally, include a method named `seating_capacity` that takes a parameter `n` and sets the seating capacity of the vehicle."
      ]
    },
    {
      "cell_type": "code",
      "execution_count": 2,
      "id": "d2f4c5da",
      "metadata": {
        "id": "d2f4c5da",
        "colab": {
          "base_uri": "https://localhost:8080/"
        },
        "outputId": "b2662cbe-a376-4981-f38f-04052d1177cf"
      },
      "outputs": [
        {
          "output_type": "stream",
          "name": "stdout",
          "text": [
            "Vehicle name: Tata\n",
            "Max speed: 300\n",
            "Mileage: 40\n",
            "Seating capacity: 6\n"
          ]
        }
      ],
      "source": [
        "class Vehicle:\n",
        "  def __init__(self,name,max_speed,mileage):\n",
        "    self.name=name\n",
        "    self.max_speed=max_speed\n",
        "    self.mileage=mileage\n",
        "    self.seating_capacity=None\n",
        "\n",
        "  def set_seating_capacity(self,n):\n",
        "    self.seating_capacity=n\n",
        "\n",
        "\n",
        "car=Vehicle(\"Tata\",300,40)\n",
        "car.set_seating_capacity(6)\n",
        "\n",
        "print(\"Vehicle name:\",car.name)\n",
        "print(\"Max speed:\",car.max_speed)\n",
        "print(\"Mileage:\",car.mileage)\n",
        "print(\"Seating capacity:\",car.seating_capacity)"
      ]
    },
    {
      "cell_type": "markdown",
      "id": "6183a126",
      "metadata": {
        "id": "6183a126"
      },
      "source": [
        "2. Create a child class called `Car` that inherits from the `Vehicle` class. Add a new attribute `fuel_type` to the `Car` class and initialize it in the constructor. Create an object of this class and print the details."
      ]
    },
    {
      "cell_type": "code",
      "execution_count": 3,
      "id": "431c44da",
      "metadata": {
        "id": "431c44da",
        "colab": {
          "base_uri": "https://localhost:8080/"
        },
        "outputId": "1ba54655-7aa1-4a03-9215-df38ec701c1f"
      },
      "outputs": [
        {
          "output_type": "stream",
          "name": "stdout",
          "text": [
            "Vehicle name: Tata\n",
            "Max speed: 200\n",
            "Mileage: 20\n",
            "Seating capacity: 5\n",
            "Fuel type: Petrol\n"
          ]
        }
      ],
      "source": [
        "class Car(Vehicle):\n",
        "  def __init__(self,name,max_speed,mileage,fuel_type):\n",
        "    self.fuel_type=fuel_type\n",
        "    super().__init__(name,max_speed,mileage)\n",
        "\n",
        "car=Car(\"Tata\",200,20,\"Petrol\")\n",
        "car.set_seating_capacity(5)\n",
        "\n",
        "print(\"Vehicle name:\",car.name)\n",
        "print(\"Max speed:\",car.max_speed)\n",
        "print(\"Mileage:\",car.mileage)\n",
        "print(\"Seating capacity:\",car.seating_capacity)\n",
        "print(\"Fuel type:\",car.fuel_type)"
      ]
    },
    {
      "cell_type": "markdown",
      "id": "fd8aa5c5",
      "metadata": {
        "id": "fd8aa5c5"
      },
      "source": [
        "   \n",
        "3. Create a `Truck` class that inherits from the `Vehicle` class. Override the `seating_capacity` method to have a default capacity of 3 if no capacity is provided. Create an object of this class and print the details."
      ]
    },
    {
      "cell_type": "code",
      "execution_count": 5,
      "id": "7d1bf9c9",
      "metadata": {
        "id": "7d1bf9c9",
        "colab": {
          "base_uri": "https://localhost:8080/"
        },
        "outputId": "e1db0022-f8e4-4687-e2aa-e847278cd4d0"
      },
      "outputs": [
        {
          "output_type": "stream",
          "name": "stdout",
          "text": [
            "Vehicle name: Tata\n",
            "Max speed: 270\n",
            "Mileage: 25\n",
            "Seating capacity: 3\n"
          ]
        }
      ],
      "source": [
        "class Truck(Vehicle):\n",
        "  def __init__(self,name,max_speed,mileage):\n",
        "    super().__init__(name,max_speed,mileage)\n",
        "\n",
        "  def set_seating_capacity(self,capacity=3):\n",
        "    self.seating_capacity=capacity\n",
        "\n",
        "truck=Truck(\"Tata\",270,25)\n",
        "truck.set_seating_capacity()\n",
        "\n",
        "print(\"Vehicle name:\",truck.name)\n",
        "print(\"Max speed:\",truck.max_speed)\n",
        "print(\"Mileage:\",truck.mileage)\n",
        "print(\"Seating capacity:\",truck.seating_capacity)"
      ]
    },
    {
      "cell_type": "markdown",
      "id": "2b8f4ecd",
      "metadata": {
        "id": "2b8f4ecd"
      },
      "source": [
        "4. Create a class called `Person` with private attributes `__name` and `__age`. Provide methods to get and set these attributes. Create an object of this class and print the details."
      ]
    },
    {
      "cell_type": "code",
      "execution_count": 10,
      "id": "30a911dc",
      "metadata": {
        "id": "30a911dc",
        "colab": {
          "base_uri": "https://localhost:8080/"
        },
        "outputId": "9df3e046-420a-43f7-c8eb-de402531fc84"
      },
      "outputs": [
        {
          "output_type": "stream",
          "name": "stdout",
          "text": [
            "Person name: Bibhakar\n",
            "Person age: 24\n",
            "Update name: paul\n",
            "Update age: 29\n"
          ]
        }
      ],
      "source": [
        "class Person:\n",
        "  def __init__(self,name,age):\n",
        "    self.__name=name\n",
        "    self.__age=age\n",
        "\n",
        "  def get_name(self):\n",
        "    return self.__name\n",
        "\n",
        "  def set_name(self,name):\n",
        "    self.__name=name\n",
        "\n",
        "  def get_age(self):\n",
        "    return self.__age\n",
        "\n",
        "  def set_age(self,age):\n",
        "    self.__age=age\n",
        "\n",
        "person=Person(\"Bibhakar\",24)\n",
        "print(\"Person name:\", person.get_name())\n",
        "print(\"Person age:\", person.get_age())\n",
        "\n",
        "person.set_name(\"paul\")\n",
        "person.set_age(29)\n",
        "\n",
        "print(\"Update name:\",person.get_name())\n",
        "print(\"Update age:\",person.get_age())"
      ]
    },
    {
      "cell_type": "markdown",
      "id": "2dd7d1d4",
      "metadata": {
        "id": "2dd7d1d4"
      },
      "source": [
        "5. **Polymorphism with Method Overloading:**\n",
        "   Extend the `Vehicle` class with a method `display_info` that can take either a single string argument or three separate arguments (name, max_speed, mileage) and display the vehicle information accordingly.\n",
        "\n",
        "> Hint: Set default parameters if no value is given."
      ]
    },
    {
      "cell_type": "code",
      "execution_count": 16,
      "id": "9a30a8e7",
      "metadata": {
        "id": "9a30a8e7",
        "colab": {
          "base_uri": "https://localhost:8080/"
        },
        "outputId": "3b82875f-c7b2-4167-a0fb-8c4dfbc738fe"
      },
      "outputs": [
        {
          "output_type": "stream",
          "name": "stdout",
          "text": [
            "Name: \n",
            "Max speed: 0\n",
            "Mileage: 0\n",
            "Name: Range Rover\n",
            "Max speed: 400\n",
            "Mileage: 50\n",
            "Name: Honda\n",
            "Max speed: 400\n",
            "Mileage: 30\n"
          ]
        }
      ],
      "source": [
        "class Vehicle:\n",
        "  def __init__(self,name=\"\",max_speed=0,mileage=0):\n",
        "    self.name=name\n",
        "    self.max_speed=max_speed\n",
        "    self.mileage=mileage\n",
        "    self.seating_capacity=None\n",
        "\n",
        "  def set_seating_capacity(self,n):\n",
        "    self.seating_capacity=n\n",
        "\n",
        "  def display_info(self,name=None,max_speed=None,mileage=None):\n",
        "    if name is not None:\n",
        "      self.name=name\n",
        "    if max_speed is not None:\n",
        "      self.max_speed=max_speed\n",
        "    if mileage is not None:\n",
        "      self.mileage=mileage\n",
        "\n",
        "    print(\"Name:\",self.name)\n",
        "    print(\"Max speed:\",self.max_speed)\n",
        "    print(\"Mileage:\",self.mileage)\n",
        "    if self.seating_capacity is not None:\n",
        "      print(\"Seating capacity:\",self.seating_capacity)\n",
        "\n",
        "car=Vehicle()\n",
        "\n",
        "car.display_info()\n",
        "car.display_info(\"Range Rover\", 400, 50)\n",
        "car.display_info(name=\"Honda\",mileage=30)"
      ]
    },
    {
      "cell_type": "markdown",
      "id": "e75fe056",
      "metadata": {
        "id": "e75fe056"
      },
      "source": [
        "6. **Inheritance with Method Overriding:**\n",
        "   Create a class `ElectricCar` that inherits from `Car`. Override the `display_info` method to include information about the fuel type. Create an object of this class and print the details."
      ]
    },
    {
      "cell_type": "code",
      "execution_count": 18,
      "id": "6849d559",
      "metadata": {
        "id": "6849d559",
        "colab": {
          "base_uri": "https://localhost:8080/"
        },
        "outputId": "aaf5d5b2-2e80-4a6a-fe80-4374b5bc4a24"
      },
      "outputs": [
        {
          "output_type": "stream",
          "name": "stdout",
          "text": [
            "Name: Tesla\n",
            "Max speed: 300\n",
            "Mileage: 40\n",
            "fuel_type: Electric\n"
          ]
        }
      ],
      "source": [
        "class ElectricCar(Car):\n",
        "  def __init__(self,name=\"\",max_speed=0,mileage=0,fuel_type=\"Electric\"):\n",
        "    super().__init__(name,max_speed,mileage,fuel_type)\n",
        "\n",
        "  def display_info(self):\n",
        "        print(\"Name:\",self.name)\n",
        "        print(\"Max speed:\",self.max_speed)\n",
        "        print(\"Mileage:\",self.mileage)\n",
        "        print(\"fuel_type:\",self.fuel_type)\n",
        "\n",
        "car=ElectricCar(\"Tesla\",300,40)\n",
        "\n",
        "car.display_info()"
      ]
    },
    {
      "cell_type": "markdown",
      "id": "ca58b7d0",
      "metadata": {
        "id": "ca58b7d0"
      },
      "source": [
        " 7. Create a class `Motorcycle` that inherits from `Vehicle` but has a default maximum speed of 120 if not provided. Create an object of this class and print the details."
      ]
    },
    {
      "cell_type": "code",
      "execution_count": 19,
      "id": "43ab9b0d",
      "metadata": {
        "id": "43ab9b0d",
        "colab": {
          "base_uri": "https://localhost:8080/"
        },
        "outputId": "35b2a8d6-65a3-402c-e7fb-efdb8aa85a30"
      },
      "outputs": [
        {
          "output_type": "stream",
          "name": "stdout",
          "text": [
            "Name: Royal Enfield\n",
            "Max speed: 150\n",
            "Mileage: 0\n"
          ]
        }
      ],
      "source": [
        "class Motorcycle(Vehicle):\n",
        "  def __init__(self,name=\"\",max_speed=150,mileage=0):\n",
        "    super().__init__(name,max_speed,mileage)\n",
        "\n",
        "cycle=Motorcycle(\"Royal Enfield\")\n",
        "\n",
        "cycle.display_info()"
      ]
    },
    {
      "cell_type": "markdown",
      "id": "7a031a0d",
      "metadata": {
        "id": "7a031a0d"
      },
      "source": [
        "8.  Modify the `Person` class to use property decorators for `name` and `age` attributes. Create an object of this class and print the details."
      ]
    },
    {
      "cell_type": "code",
      "execution_count": 22,
      "id": "46dcc17a",
      "metadata": {
        "id": "46dcc17a",
        "colab": {
          "base_uri": "https://localhost:8080/"
        },
        "outputId": "c9858e1d-b8df-48a2-b110-7e5381d2d893"
      },
      "outputs": [
        {
          "output_type": "stream",
          "name": "stdout",
          "text": [
            "Person name: Bibhakar\n",
            "Person age: 30\n",
            "Update name: paul\n",
            "Update age: 19\n"
          ]
        }
      ],
      "source": [
        "class Person:\n",
        "  def __init__(self,name,age):\n",
        "    self.name=name\n",
        "    self.age=age\n",
        "\n",
        "  @property\n",
        "  def name(self):\n",
        "    return self._name\n",
        "\n",
        "  @name.setter\n",
        "  def name(self,name):\n",
        "    self._name=name\n",
        "\n",
        "  @property\n",
        "  def age(self):\n",
        "    return self._age\n",
        "\n",
        "  @age.setter\n",
        "  def age(self,age):\n",
        "    self._age=age\n",
        "\n",
        "person=Person(\"Bibhakar\",30)\n",
        "\n",
        "print(\"Person name:\", person.name)\n",
        "print(\"Person age:\", person.age)\n",
        "\n",
        "person.name=\"paul\"\n",
        "person.age=19\n",
        "\n",
        "print(\"Update name:\",person.name)\n",
        "print(\"Update age:\",person.age)"
      ]
    },
    {
      "cell_type": "markdown",
      "id": "7e9ab51c",
      "metadata": {
        "id": "7e9ab51c"
      },
      "source": [
        "   \n",
        "9. **Method Overriding:**\n",
        "    Create a base class `Animal` with a method `make_sound()`. Then, create two derived classes, `Dog` and `Cat`, both inheriting from `Animal`. Override the `make_sound()` method in each derived class to make a specific sound (e.g., \"Woof\" for `Dog` and \"Meow\" for `Cat`). Create an object of this class and print the details."
      ]
    },
    {
      "cell_type": "code",
      "execution_count": 23,
      "id": "774a850f",
      "metadata": {
        "id": "774a850f",
        "colab": {
          "base_uri": "https://localhost:8080/"
        },
        "outputId": "fcd4a3a7-de93-43ef-cf2f-b201301cb7e3"
      },
      "outputs": [
        {
          "output_type": "stream",
          "name": "stdout",
          "text": [
            "Woof\n",
            "Woof\n"
          ]
        }
      ],
      "source": [
        "class Animal:\n",
        "  def make_sound(self):\n",
        "    print(\"Genetic animal sound\")\n",
        "\n",
        "class Dog(Animal):\n",
        "    def make_sound(self):\n",
        "      print(\"Woof\")\n",
        "\n",
        "class Cat(Animal):\n",
        "    def make_sound(self):\n",
        "      print(\"Meow\")\n",
        "\n",
        "\n",
        "dog=Dog()\n",
        "cat=Cat()\n",
        "\n",
        "dog.make_sound()\n",
        "dog.make_sound()"
      ]
    },
    {
      "cell_type": "markdown",
      "id": "c12d3c07",
      "metadata": {
        "id": "c12d3c07"
      },
      "source": [
        "10. Create a class `HybridCar` that inherits from both `ElectricCar` and `Car`. It should have an additional attribute `battery_capacity`. Create an object of this class and print the details."
      ]
    },
    {
      "cell_type": "code",
      "execution_count": 25,
      "id": "0f026ce4",
      "metadata": {
        "id": "0f026ce4",
        "colab": {
          "base_uri": "https://localhost:8080/"
        },
        "outputId": "16624291-6454-4c1f-e659-2c9c34d245e9"
      },
      "outputs": [
        {
          "output_type": "stream",
          "name": "stdout",
          "text": [
            "Vehicle name: Toyta\n",
            "Max speed: 100\n",
            "Mileage: 50\n",
            "Fuel type: Hybrid\n",
            "Battery Capacity: 2000\n"
          ]
        }
      ],
      "source": [
        "class HybridCar(ElectricCar):\n",
        "  def __init__(self,name=\"\",max_speed=0,mileage=0,fuel_type=\"Hybrid\",battery_capacity=0):\n",
        "    super().__init__(name,max_speed,mileage,fuel_type)\n",
        "    self.battery_capacity=battery_capacity\n",
        "\n",
        "hybrid_car=HybridCar(\"Toyta\",100,50,battery_capacity=2000)\n",
        "\n",
        "print(\"Vehicle name:\",hybrid_car.name)\n",
        "print(\"Max speed:\",hybrid_car.max_speed)\n",
        "print(\"Mileage:\",hybrid_car.mileage)\n",
        "print(\"Fuel type:\",hybrid_car.fuel_type)\n",
        "print(\"Battery Capacity:\", hybrid_car.battery_capacity)"
      ]
    }
  ],
  "metadata": {
    "kernelspec": {
      "display_name": "Python 3 (ipykernel)",
      "language": "python",
      "name": "python3"
    },
    "language_info": {
      "codemirror_mode": {
        "name": "ipython",
        "version": 3
      },
      "file_extension": ".py",
      "mimetype": "text/x-python",
      "name": "python",
      "nbconvert_exporter": "python",
      "pygments_lexer": "ipython3",
      "version": "3.8.8"
    },
    "colab": {
      "provenance": []
    }
  },
  "nbformat": 4,
  "nbformat_minor": 5
}