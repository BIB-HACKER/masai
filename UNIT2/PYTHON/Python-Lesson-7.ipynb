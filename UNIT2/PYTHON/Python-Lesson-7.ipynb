{
 "cells": [
  {
   "cell_type": "markdown",
   "id": "14ce3d84",
   "metadata": {},
   "source": [
    "# Introduction to Classes & Objects\n",
    "\n",
    "![](https://media.licdn.com/dms/image/D5610AQFWOFsPeQmqdA/image-shrink_800/0/1696431640756?e=2147483647&v=beta&t=27O46W3iwoxp2dyMr-uc1T1ZPulN5nMJgxtHGrnIYuc)"
   ]
  },
  {
   "cell_type": "markdown",
   "id": "1ca9349c",
   "metadata": {},
   "source": [
    "> In Python, classes and objects form the foundation of object-oriented programming (OOP). "
   ]
  },
  {
   "cell_type": "markdown",
   "id": "7dfd101a",
   "metadata": {},
   "source": [
    "![](https://i0.wp.com/thecleverprogrammer.com/wp-content/uploads/2020/12/classes.png?resize=635%2C366&ssl=1)"
   ]
  },
  {
   "cell_type": "markdown",
   "id": "ddd48c37",
   "metadata": {},
   "source": [
    "### Classes:\n",
    "\n",
    "- **Definition:** A class is a blueprint or template for creating objects. It defines a set of attributes (data) and methods (functions) that the objects created from the class will have.\n",
    "- Classes serve as blueprints or skeletons that define the structure and behavior of objects.\n",
    "- They encapsulate data (attributes) and behavior (methods) into a single unit.\n",
    "- **Property/Attributes of a class:**\n",
    "   - Properties or attributes are variables that store data within a class.\n",
    "-  **Declaring properties of a class:**\n",
    "   - Properties are declared within the `__init__` method using the `self` keyword.\n",
    "\n",
    "- **Syntax:**\n",
    "  ```python\n",
    "  class ClassName:\n",
    "      # class attributes (shared by all instances)\n",
    "      class_variable = value\n",
    "  \n",
    "      def __init__(self, param1, param2):\n",
    "          # instance attributes (unique to each instance)\n",
    "          self.param1 = param1\n",
    "          self.param2 = param2\n",
    "  \n",
    "      def method(self):\n",
    "          # method code\n",
    "  ```\n",
    "\n",
    "- **Example:**\n"
   ]
  },
  {
   "cell_type": "code",
   "execution_count": 1,
   "id": "a984a033",
   "metadata": {},
   "outputs": [],
   "source": [
    "class Dog:\n",
    "      # class attribute\n",
    "    species = \"Canis familiaris\"\n",
    "  \n",
    "    def __init__(self, name, age):\n",
    "          # instance attributes\n",
    "        self.name = name\n",
    "        self.age = age\n",
    "  \n",
    "    def bark(self):\n",
    "        print(\"Woof!\")"
   ]
  },
  {
   "cell_type": "markdown",
   "id": "909137bb",
   "metadata": {},
   "source": [
    "**Why classes?**\n",
    "   - Classes provide a structured way to model real-world entities with complex data and behavior.\n",
    "   - While basic data types (int, float, set) are useful, classes offer a more organized and customizable approach.\n",
    "   - Using classes, you can create objects that represent real-world entities, allowing for better organization, encapsulation, and reusability of code."
   ]
  },
  {
   "cell_type": "markdown",
   "id": "c9da3edf",
   "metadata": {},
   "source": [
    "### Objects:\n",
    "\n",
    "- **Definition:** An object is an instance of a class. It is a concrete realization of the attributes and methods defined in the class.\n",
    "\n",
    "- **Creating Objects:**\n",
    " "
   ]
  },
  {
   "cell_type": "code",
   "execution_count": 2,
   "id": "600ecb1e",
   "metadata": {},
   "outputs": [],
   "source": [
    "# Creating objects (instances) of the Dog class\n",
    "my_dog = Dog(\"Buddy\", 3)\n",
    "another_dog = Dog(\"Max\", 5)"
   ]
  },
  {
   "cell_type": "markdown",
   "id": "e471e94f",
   "metadata": {},
   "source": [
    "- **Accessing Attributes and Methods:**\n"
   ]
  },
  {
   "cell_type": "code",
   "execution_count": 3,
   "id": "5c1a60e3",
   "metadata": {},
   "outputs": [
    {
     "name": "stdout",
     "output_type": "stream",
     "text": [
      "Buddy\n",
      "Woof!\n"
     ]
    }
   ],
   "source": [
    "print(my_dog.name)  # Accessing instance attribute\n",
    "my_dog.bark() "
   ]
  },
  {
   "cell_type": "markdown",
   "id": "ac0f0c6b",
   "metadata": {},
   "source": [
    "- **Analogy:**\n",
    "     - **Class (Human):** Defines the blueprint with attributes (name, age) and behavior (greet method).\n",
    "     - **Object (You):** An instance created from the class, with specific values for attributes."
   ]
  }
 ],
 "metadata": {
  "kernelspec": {
   "display_name": "Python 3 (ipykernel)",
   "language": "python",
   "name": "python3"
  },
  "language_info": {
   "codemirror_mode": {
    "name": "ipython",
    "version": 3
   },
   "file_extension": ".py",
   "mimetype": "text/x-python",
   "name": "python",
   "nbconvert_exporter": "python",
   "pygments_lexer": "ipython3",
   "version": "3.12.0"
  }
 },
 "nbformat": 4,
 "nbformat_minor": 5
}
