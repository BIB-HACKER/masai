{
 "cells": [
  {
   "cell_type": "markdown",
   "id": "829f7deb",
   "metadata": {
    "id": "829f7deb"
   },
   "source": [
    "# Python Fundamentals PSC on OJ & Jupyter Notebook"
   ]
  },
  {
   "cell_type": "markdown",
   "id": "9102b67d",
   "metadata": {
    "id": "9102b67d"
   },
   "source": [
    "1. [Simple Calculator](https://oj.masaischool.com/contest/11218/problem/8) - Student Query"
   ]
  },
  {
   "cell_type": "code",
   "execution_count": null,
   "id": "2c9249be",
   "metadata": {
    "id": "2c9249be",
    "outputId": "f5d85fb2-17b7-4d8e-8fde-d766035a5c3b"
   },
   "outputs": [
    {
     "name": "stdout",
     "output_type": "stream",
     "text": [
      "2 * 3\n",
      "6\n"
     ]
    }
   ],
   "source": [
    "a,c,b = input().split()\n",
    "a = int(a)\n",
    "b = int(b)\n",
    "if c == '+':\n",
    "    print(a + b)\n",
    "elif c == '-':\n",
    "    print(a - b)\n",
    "elif c == '*':\n",
    "    print(a * b)\n",
    "elif c == '/':\n",
    "    print(a // b)\n",
    "#print(eval(li))"
   ]
  },
  {
   "cell_type": "markdown",
   "id": "0afba596",
   "metadata": {
    "id": "0afba596"
   },
   "source": [
    "2. [Difference of Modulus](https://oj.masaischool.com/contest/11218/problem/7) - Student Query"
   ]
  },
  {
   "cell_type": "code",
   "execution_count": null,
   "id": "d313c344",
   "metadata": {
    "id": "d313c344",
    "outputId": "c86b3c10-65ee-4b11-e758-c5715c9f253a"
   },
   "outputs": [
    {
     "name": "stdout",
     "output_type": "stream",
     "text": [
      "1\n",
      "2 3 4\n",
      "3\n"
     ]
    }
   ],
   "source": [
    "n = int(input())\n",
    "for i in range(n):\n",
    "    A, B, C = map(int, input().split())\n",
    "    result = (A - B) % C\n",
    "    print(result)"
   ]
  },
  {
   "cell_type": "markdown",
   "id": "bcc909b6",
   "metadata": {
    "id": "bcc909b6"
   },
   "source": [
    "3. [Appear Once](https://oj.masaischool.com/contest/11218/problem/10)"
   ]
  },
  {
   "cell_type": "code",
   "execution_count": null,
   "id": "8dc388f5",
   "metadata": {
    "id": "8dc388f5",
    "outputId": "bef06bfd-5649-4e45-8997-21065c98b649"
   },
   "outputs": [
    {
     "name": "stdout",
     "output_type": "stream",
     "text": [
      "5\n",
      "2 3 4 5 5\n",
      "9\n"
     ]
    }
   ],
   "source": [
    "n = int(input())\n",
    "array = list(map(int,input().split()))\n",
    "final = []\n",
    "for i in set(array):\n",
    "    count = array.count(i)\n",
    "    if count == 1:\n",
    "        final.append(i)\n",
    "print(sum(final))"
   ]
  },
  {
   "cell_type": "markdown",
   "id": "fc1b342e",
   "metadata": {
    "id": "fc1b342e"
   },
   "source": [
    "4. [V Pattern](https://oj.masaischool.com/contest/11218/problem/5) - Student Query"
   ]
  },
  {
   "cell_type": "code",
   "execution_count": null,
   "id": "c527fdad",
   "metadata": {
    "id": "c527fdad",
    "outputId": "e47dfc01-5cb4-46de-9ab7-16655c1dd580"
   },
   "outputs": [
    {
     "name": "stdout",
     "output_type": "stream",
     "text": [
      "4\n",
      "\\      /\n",
      " \\    /\n",
      "  \\  /\n",
      "   \\/\n"
     ]
    }
   ],
   "source": [
    "N = int(input().strip())\n",
    "for i in range(N):\n",
    "    print(\" \" * i, end=\"\")\n",
    "    print(\"\\\\\", end=\"\")\n",
    "    print(\" \" * (2 * (N - i) - 2), end=\"\")\n",
    "    print(\"/\", end=\"\")\n",
    "    print()"
   ]
  },
  {
   "cell_type": "markdown",
   "id": "5131cee6",
   "metadata": {
    "id": "5131cee6"
   },
   "source": [
    "5. [Three Max, Three Min Please](https://oj.masaischool.com/problem/6) - Medium"
   ]
  },
  {
   "cell_type": "code",
   "execution_count": null,
   "id": "22261280",
   "metadata": {
    "id": "22261280",
    "outputId": "6fed1f59-060b-4b3d-e925-e358ad571e95"
   },
   "outputs": [
    {
     "name": "stdout",
     "output_type": "stream",
     "text": [
      "8\n",
      "1 2 3 4 2 1 6 5\n",
      "1 2 3\n",
      "4 5 6\n"
     ]
    }
   ],
   "source": [
    "n = int(input())\n",
    "arr = sorted(set(map(int, input().split())))\n",
    "min_vals = arr[:3]\n",
    "max_vals = arr[-3:]\n",
    "if len(min_vals) < 3:\n",
    "    print(\"Not Possible\")\n",
    "else:\n",
    "    print(*min_vals)\n",
    "if len(max_vals) < 3:\n",
    "    print(\"Not Possible\")\n",
    "else:\n",
    "    print(*max_vals)"
   ]
  },
  {
   "cell_type": "markdown",
   "id": "629bd117",
   "metadata": {
    "id": "629bd117"
   },
   "source": [
    "6. [Max points on a line](https://oj.masaischool.com/problem/99089) - Hard"
   ]
  },
  {
   "cell_type": "code",
   "execution_count": null,
   "id": "11b45bf5",
   "metadata": {
    "id": "11b45bf5",
    "outputId": "bd2f0795-8f9c-4dd1-d32f-bd7a1170ec6b"
   },
   "outputs": [
    {
     "name": "stdout",
     "output_type": "stream",
     "text": [
      "2\n",
      "1 1\n",
      "2 2\n",
      "2\n"
     ]
    }
   ],
   "source": [
    "def max_points_on_line(n, points):\n",
    "    if n <= 2:\n",
    "        return n\n",
    "\n",
    "    max_points = 2\n",
    "\n",
    "    for i in range(n):\n",
    "        slope_count = {float('inf'): 0}  # For vertical lines\n",
    "        duplicate = 0\n",
    "\n",
    "        for j in range(n):\n",
    "            if i != j:\n",
    "                x1, y1 = points[i]\n",
    "                x2, y2 = points[j]\n",
    "\n",
    "                if x1 == x2 and y1 == y2:\n",
    "                    duplicate += 1\n",
    "                else:\n",
    "                    # Calculate slope and update the count\n",
    "                    slope = float('inf') if x1 == x2 else (y2 - y1) / (x2 - x1)\n",
    "                    slope_count[slope] = slope_count.get(slope, 0) + 1\n",
    "\n",
    "        # Update max_points considering duplicates\n",
    "        max_points = max(max_points, duplicate + max(slope_count.values(), default=0) + 1)\n",
    "\n",
    "    return max_points\n",
    "\n",
    "# Input\n",
    "n = int(input().strip())\n",
    "points = [list(map(int, input().strip().split())) for _ in range(n)]\n",
    "\n",
    "# Output\n",
    "result = max_points_on_line(n, points)\n",
    "print(result)"
   ]
  },
  {
   "cell_type": "markdown",
   "id": "4550679e",
   "metadata": {
    "id": "4550679e"
   },
   "source": [
    "7. [Generate Permutations](https://oj.masaischool.com/problem/247) - Medium"
   ]
  },
  {
   "cell_type": "code",
   "execution_count": null,
   "id": "f67ca25c",
   "metadata": {
    "id": "f67ca25c",
    "outputId": "ced9ddc1-50dd-43e8-a7a9-8d04ce9bc9f0"
   },
   "outputs": [
    {
     "name": "stdout",
     "output_type": "stream",
     "text": [
      "3\n",
      "1 2 3\n",
      "1 2 3\n",
      "1 3 2\n",
      "2 1 3\n",
      "2 3 1\n",
      "3 1 2\n",
      "3 2 1\n"
     ]
    }
   ],
   "source": [
    "def generate_permutations(arr):\n",
    "    result = [[]]\n",
    "\n",
    "    for num in arr:\n",
    "        new_permutations = []\n",
    "        for perm in result:\n",
    "            for i in range(len(perm) + 1):\n",
    "                new_permutations.append(perm[:i] + [num] + perm[i:])\n",
    "        result = new_permutations\n",
    "\n",
    "    return result\n",
    "\n",
    "# Input\n",
    "n = int(input().strip())\n",
    "arr = list(map(int, input().strip().split()))\n",
    "\n",
    "# Output\n",
    "permutations = generate_permutations(arr)\n",
    "for permutation in sorted(permutations):\n",
    "    print(*permutation)"
   ]
  },
  {
   "cell_type": "markdown",
   "id": "73d7675d",
   "metadata": {
    "id": "73d7675d"
   },
   "source": [
    "8. Calculate the total cost of a shopping cart, including tax and discounts. - Hard"
   ]
  },
  {
   "cell_type": "code",
   "execution_count": null,
   "id": "353bc214",
   "metadata": {
    "id": "353bc214",
    "outputId": "7ac926f3-ab86-49b7-ce11-1add450cdaa5"
   },
   "outputs": [
    {
     "name": "stdout",
     "output_type": "stream",
     "text": [
      "Subtotal: $51.44\n",
      "Discount (10%): -$-5.14\n",
      "Tax (8%): $3.70\n",
      "Total: $50.00\n"
     ]
    }
   ],
   "source": [
    "def calculate_subtotal(items):\n",
    "    subtotal = sum(items.values())\n",
    "    return subtotal\n",
    "\n",
    "def apply_discount(subtotal, discount_percent):\n",
    "    discount_amount = (discount_percent / 100) * subtotal\n",
    "    discounted_total = subtotal - discount_amount\n",
    "    return discounted_total\n",
    "\n",
    "def calculate_tax(subtotal, tax_rate):\n",
    "    tax_amount = (tax_rate / 100) * subtotal\n",
    "    return tax_amount\n",
    "\n",
    "def calculate_total(discounted_total, tax_amount):\n",
    "    total = discounted_total + tax_amount\n",
    "    return total\n",
    "\n",
    "def main(items, discount_percent, tax_rate):\n",
    "\n",
    "    # Calculate subtotal\n",
    "    subtotal = calculate_subtotal(items)\n",
    "\n",
    "    # Apply discount\n",
    "    discounted_total = apply_discount(subtotal, discount_percent)\n",
    "\n",
    "    # Calculate tax\n",
    "    tax_amount = calculate_tax(discounted_total, tax_rate)\n",
    "\n",
    "    # Calculate total cost\n",
    "    total = calculate_total(discounted_total, tax_amount)\n",
    "\n",
    "    # Display results\n",
    "    print(f\"Subtotal: ${subtotal:.2f}\")\n",
    "    print(f\"Discount ({discount_percent}%): -${discounted_total - subtotal:.2f}\")\n",
    "    print(f\"Tax ({tax_rate}%): ${tax_amount:.2f}\")\n",
    "    print(f\"Total: ${total:.2f}\")\n",
    "\n",
    "\n",
    "main({\n",
    "        'item1': 25.99,\n",
    "        'item2': 14.95,\n",
    "        'item3': 10.50,\n",
    "    }\n",
    ", 10, 8)"
   ]
  },
  {
   "cell_type": "markdown",
   "id": "9fc70c01",
   "metadata": {
    "id": "9fc70c01"
   },
   "source": [
    "9. Write a program to find the common elements between two lists."
   ]
  },
  {
   "cell_type": "code",
   "execution_count": null,
   "id": "d84e925a",
   "metadata": {
    "id": "d84e925a"
   },
   "outputs": [],
   "source": [
    "list1 = [1,2,3,4,5]\n",
    "list2 = [3,4,5,5,6]"
   ]
  },
  {
   "cell_type": "code",
   "execution_count": null,
   "id": "5c1bea34",
   "metadata": {
    "id": "5c1bea34",
    "outputId": "adfdd05b-072d-43c6-eb77-637d00421f8d"
   },
   "outputs": [
    {
     "name": "stdout",
     "output_type": "stream",
     "text": [
      "[4, 5]\n"
     ]
    }
   ],
   "source": [
    "def find_common_elements(list1, list2):\n",
    "    common_elements = []\n",
    "    for item in list1:\n",
    "        if item in list2:\n",
    "            common_elements.append(item)\n",
    "    return common_elements\n",
    "\n",
    "# Test the function\n",
    "list_a = [1, 2, 3, 4, 5]\n",
    "list_b = [4, 5, 6, 7, 8]\n",
    "common = find_common_elements(list_a, list_b)\n",
    "print(common)"
   ]
  },
  {
   "cell_type": "markdown",
   "id": "7209d370",
   "metadata": {
    "id": "7209d370"
   },
   "source": [
    "10. Write a Python program to remove duplicates from a list."
   ]
  },
  {
   "cell_type": "code",
   "execution_count": null,
   "id": "d73b8ff3",
   "metadata": {
    "id": "d73b8ff3"
   },
   "outputs": [],
   "source": [
    "numbers = [1,2,3,4,4,5,5]"
   ]
  },
  {
   "cell_type": "code",
   "execution_count": null,
   "id": "a94da9e6",
   "metadata": {
    "id": "a94da9e6",
    "outputId": "063e3d59-278b-4076-cd36-88d1cbfa7d72"
   },
   "outputs": [
    {
     "name": "stdout",
     "output_type": "stream",
     "text": [
      "[1, 2, 3, 4, 5]\n"
     ]
    }
   ],
   "source": [
    "def remove_duplicates(numbers):\n",
    "    unique_numbers = []\n",
    "    for num in numbers:\n",
    "        if num not in unique_numbers:\n",
    "            unique_numbers.append(num)\n",
    "    return unique_numbers\n",
    "\n",
    "# Test the function\n",
    "nums = [1, 2, 3, 2, 1, 3, 2, 4, 5, 4]\n",
    "unique_nums = remove_duplicates(nums)\n",
    "print(unique_nums)"
   ]
  },
  {
   "cell_type": "markdown",
   "id": "d8e65c30",
   "metadata": {
    "id": "d8e65c30"
   },
   "source": [
    "11. Given an array of integers, return indices of the two numbers such that they add up to a specific target."
   ]
  },
  {
   "cell_type": "code",
   "execution_count": null,
   "id": "43b37e70",
   "metadata": {
    "id": "43b37e70",
    "outputId": "74af0c37-640c-479d-c2f3-ab90631e9531"
   },
   "outputs": [
    {
     "name": "stdout",
     "output_type": "stream",
     "text": [
      "[0, 1]\n"
     ]
    }
   ],
   "source": [
    "def two_sum(nums, target):\n",
    "    num_dict = {}\n",
    "    for i, num in enumerate(nums):\n",
    "        complement = target - num\n",
    "        if complement in num_dict:\n",
    "            return [num_dict[complement], i]\n",
    "        num_dict[num] = i\n",
    "    return None\n",
    "\n",
    "# Example\n",
    "nums = [2, 7, 11, 15]\n",
    "target = 9\n",
    "result = two_sum(nums, target)\n",
    "print(result)"
   ]
  }
 ],
 "metadata": {
  "colab": {
   "provenance": []
  },
  "kernelspec": {
   "display_name": "Python 3 (ipykernel)",
   "language": "python",
   "name": "python3"
  },
  "language_info": {
   "codemirror_mode": {
    "name": "ipython",
    "version": 3
   },
   "file_extension": ".py",
   "mimetype": "text/x-python",
   "name": "python",
   "nbconvert_exporter": "python",
   "pygments_lexer": "ipython3",
   "version": "3.12.0"
  }
 },
 "nbformat": 4,
 "nbformat_minor": 5
}
