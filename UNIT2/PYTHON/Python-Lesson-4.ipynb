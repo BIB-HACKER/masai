{
 "cells": [
  {
   "cell_type": "markdown",
   "id": "fa1786ce",
   "metadata": {},
   "source": [
    "# Functions in Python\n",
    "\n",
    "![](https://media.geeksforgeeks.org/wp-content/uploads/20220721172423/51.png)"
   ]
  },
  {
   "cell_type": "markdown",
   "id": "c93d5a42",
   "metadata": {},
   "source": [
    "In Amazon, there are different functionalities like showing products, adding to cart or deleting from cart, Orders, perform payments, etc. Every functionality is written separately.\n",
    "\n",
    "In Instagram, there are different functionalities like posting the image, commenting, chatting, etc. For each functionality, their individual code is written. Those codes execution depends upon the button you are hitting.\n",
    "\n",
    "How do we control our code effectively for the button to do it's job? To achieve that we have something known as functions."
   ]
  },
  {
   "cell_type": "markdown",
   "id": "c5d9cb86",
   "metadata": {},
   "source": [
    "### Definition:\n",
    "A function in Python is a reusable block of code that performs a specific task. Functions help in organizing code, making it more modular and easier to maintain.\n",
    "\n",
    "### Syntax:\n",
    "```python\n",
    "def function_name(parameters):\n",
    "    \"\"\"\n",
    "    Docstring: Optional description of the function.\n",
    "    \"\"\"\n",
    "    # Function body - code to perform a specific task\n",
    "    # ...\n",
    "    return result  # Optional: If the function returns a value\n",
    "```\n",
    "\n",
    "- `def`: Keyword used to define a function.\n",
    "- `function_name`: The name of the function, which should follow the naming conventions.\n",
    "- `(parameters)`: Input parameters that the function takes. These are optional.\n",
    "- `Docstring`: Optional documentation string providing information about the function's purpose.\n",
    "- `return result`: Optional return statement. If present, the function will return a value."
   ]
  },
  {
   "cell_type": "markdown",
   "id": "f491b38d",
   "metadata": {},
   "source": [
    "### Example:"
   ]
  },
  {
   "cell_type": "code",
   "execution_count": 1,
   "id": "924cbb58",
   "metadata": {},
   "outputs": [],
   "source": [
    "def check_even_odd(number):\n",
    "    \"\"\"\n",
    "    This function checks if a given number is even or odd.\n",
    "    \"\"\"\n",
    "    if number % 2 == 0:\n",
    "        return f\"{number} is even.\"\n",
    "    else:\n",
    "        return f\"{number} is odd.\""
   ]
  },
  {
   "cell_type": "markdown",
   "id": "338ae0a0",
   "metadata": {},
   "source": [
    "### Calling the function"
   ]
  },
  {
   "cell_type": "code",
   "execution_count": 65,
   "id": "b7d680b7",
   "metadata": {},
   "outputs": [
    {
     "name": "stdout",
     "output_type": "stream",
     "text": [
      "6 is even.\n",
      "7 is odd.\n"
     ]
    }
   ],
   "source": [
    "result1 = check_even_odd(6)\n",
    "result2 = check_even_odd(7)\n",
    "\n",
    "print(result1)\n",
    "print(result2)"
   ]
  },
  {
   "cell_type": "code",
   "execution_count": 69,
   "id": "ee0e4902",
   "metadata": {},
   "outputs": [
    {
     "data": {
      "text/plain": [
       "'1 is odd.'"
      ]
     },
     "execution_count": 69,
     "metadata": {},
     "output_type": "execute_result"
    }
   ],
   "source": [
    "check_even_odd(1)"
   ]
  },
  {
   "cell_type": "markdown",
   "id": "dce6cabd",
   "metadata": {},
   "source": [
    "### Example Explanation:\n",
    "\n",
    "1. **Function Signature and Documentation:**\n",
    "   - `def check_even_odd(number):`: This line defines a function named `check_even_odd` that takes one parameter `number`.\n",
    "   - `\"\"\" This function checks if a given number is even or odd. \"\"\"`: This is a docstring, providing a brief description of what the function does. It serves as documentation for users of the function.\n",
    "\n",
    "2. **Logic to Check Even or Odd:**\n",
    "   - `if number % 2 == 0:`: This line checks if the remainder of the division of `number` by 2 is equal to 0. If it is, the number is even.\n",
    "   - `return f\"{number} is even.\"`: If the condition is true, the function returns a formatted string indicating that the given number is even.\n",
    "\n",
    "3. **Handling Odd Numbers:**\n",
    "   - `else:`: If the remainder of the division is not equal to 0, then the number is odd.\n",
    "   - `return f\"{number} is odd.\"`: In this case, the function returns a formatted string indicating that the given number is odd.\n",
    "\n",
    "4. **Usage:**\n",
    "   - You can use this function by calling it with a numeric argument, like `check_even_odd(7)`. The function will then return a string indicating whether the provided number is even or odd."
   ]
  },
  {
   "cell_type": "markdown",
   "id": "2b0fdb60",
   "metadata": {},
   "source": [
    "Let’s take an example, tell me different functionalities of an Instagram App.\n",
    "\n",
    "- Feed - scroll\n",
    "- Search - click on search bar\n",
    "- Like a post - double click\n",
    "- Comment - click on comment icon\n",
    "\n",
    "You can see when we double click on a post, only the portion of code which is for liking post will run."
   ]
  },
  {
   "cell_type": "markdown",
   "id": "179c3fd9",
   "metadata": {},
   "source": [
    "### Exercises\n",
    "\n",
    "1. Write a function that calculates the square of a given number."
   ]
  },
  {
   "cell_type": "code",
   "execution_count": null,
   "id": "4f6804c6",
   "metadata": {},
   "outputs": [],
   "source": []
  },
  {
   "cell_type": "markdown",
   "id": "630c2225",
   "metadata": {},
   "source": [
    "2. Define a function that takes a list of numbers and returns the sum of those numbers."
   ]
  },
  {
   "cell_type": "code",
   "execution_count": null,
   "id": "8cdac285",
   "metadata": {},
   "outputs": [],
   "source": []
  },
  {
   "cell_type": "markdown",
   "id": "6206bcbc",
   "metadata": {},
   "source": [
    "3. Write a function that reverses a string."
   ]
  },
  {
   "cell_type": "code",
   "execution_count": null,
   "id": "199cbb4a",
   "metadata": {},
   "outputs": [],
   "source": []
  },
  {
   "cell_type": "markdown",
   "id": "e3c959bc",
   "metadata": {},
   "source": [
    "4. Create a function that finds the maximum value in a list of numbers."
   ]
  },
  {
   "cell_type": "code",
   "execution_count": null,
   "id": "a100dc98",
   "metadata": {},
   "outputs": [],
   "source": []
  },
  {
   "cell_type": "markdown",
   "id": "5d9bb927",
   "metadata": {},
   "source": [
    "## Types of Function Arguments\n",
    "\n",
    "> In Python, functions can take different types of arguments, providing flexibility and versatility. Here are the common types of arguments in functions:\n",
    "\n",
    "1. **Positional Arguments:**\n",
    "   - These are the most basic type of arguments.\n",
    "   - The values are passed to the function based on their position in the function call.\n",
    "   - Example:\n"
   ]
  },
  {
   "cell_type": "code",
   "execution_count": 80,
   "id": "f080bb7b",
   "metadata": {},
   "outputs": [
    {
     "name": "stdout",
     "output_type": "stream",
     "text": [
      "Hello, Alice! You are 25 years old.\n"
     ]
    }
   ],
   "source": [
    "def greet(name, age):\n",
    "         print(f\"Hello, {name}! You are {age} years old.\")\n",
    "greet(\"Alice\", 25)"
   ]
  },
  {
   "cell_type": "markdown",
   "id": "237a920f",
   "metadata": {},
   "source": [
    "2. **Keyword Arguments:**\n",
    "   - Arguments passed by explicitly naming the parameter in the function call.\n",
    "   - Order doesn't matter when using keyword arguments.\n",
    "   - Example:"
   ]
  },
  {
   "cell_type": "code",
   "execution_count": 106,
   "id": "e83bc832",
   "metadata": {},
   "outputs": [
    {
     "name": "stdout",
     "output_type": "stream",
     "text": [
      "Hello, Alice! You are 25 years old.\n"
     ]
    }
   ],
   "source": [
    "def greet(name, age):\n",
    "         print(f\"Hello, {name}! You are {age} years old.\")\n",
    "\n",
    "greet(age=25, name=\"Alice\")"
   ]
  },
  {
   "cell_type": "markdown",
   "id": "55c0e9b2",
   "metadata": {},
   "source": [
    "3. **Default Arguments:**\n",
    "   - Parameters in a function can have default values.\n",
    "   - If a value is not provided during the function call, the default value is used.\n",
    "   - Example:"
   ]
  },
  {
   "cell_type": "code",
   "execution_count": 104,
   "id": "a79173f5",
   "metadata": {},
   "outputs": [
    {
     "name": "stdout",
     "output_type": "stream",
     "text": [
      "Hello, Bob! You are 30 years old.\n"
     ]
    }
   ],
   "source": [
    "def greet(name, age=30):\n",
    "         print(f\"Hello, {name}! You are {age} years old.\")\n",
    "\n",
    "greet(\"Bob\")  # Uses default age (30)"
   ]
  },
  {
   "cell_type": "markdown",
   "id": "805faf48",
   "metadata": {},
   "source": [
    "4. **Variable-Length Arguments:**\n",
    "   - Functions can accept a variable number of arguments.\n",
    "   - Two types: \n",
    "     - *args: Represents a tuple of positional arguments.\n",
    "     - **kwargs: Represents a dictionary of keyword arguments.\n",
    "   - Example:"
   ]
  },
  {
   "cell_type": "code",
   "execution_count": 97,
   "id": "8b360604",
   "metadata": {},
   "outputs": [
    {
     "data": {
      "text/plain": [
       "105"
      ]
     },
     "execution_count": 97,
     "metadata": {},
     "output_type": "execute_result"
    }
   ],
   "source": [
    "def add(*numbers):\n",
    "    result = 0\n",
    "    for num in numbers:\n",
    "        result += num\n",
    "    return result\n",
    "\n",
    "add(1, 2, 3, 4,6,7,8,9,10,20,35)"
   ]
  },
  {
   "cell_type": "markdown",
   "id": "521c62b8",
   "metadata": {},
   "source": [
    "5. **Arbitrary Keyword Arguments:**\n",
    "   - Allows a function to accept any number of keyword arguments.\n",
    "   - Represented by **kwargs.\n",
    "   - Example:"
   ]
  },
  {
   "cell_type": "code",
   "execution_count": 109,
   "id": "26ed7119",
   "metadata": {},
   "outputs": [
    {
     "name": "stdout",
     "output_type": "stream",
     "text": [
      "name: Alice\n",
      "age: 25\n",
      "country: USA\n",
      "Nationality: American\n"
     ]
    }
   ],
   "source": [
    "def print_info(**details):\n",
    "         for key, value in details.items():\n",
    "             print(f\"{key}: {value}\")\n",
    "\n",
    "print_info(name=\"Alice\", age=25, country=\"USA\", Nationality = \"American\")"
   ]
  },
  {
   "cell_type": "code",
   "execution_count": 96,
   "id": "c106df97",
   "metadata": {},
   "outputs": [
    {
     "name": "stdout",
     "output_type": "stream",
     "text": [
      "age: 25\n",
      "name: Alice\n",
      "country: USA\n"
     ]
    }
   ],
   "source": [
    "def print_info(**details):\n",
    "         for key, value in details.items():\n",
    "             print(f\"{key}: {value}\")\n",
    "\n",
    "print_info(age=25, name=\"Alice\", country=\"USA\")"
   ]
  },
  {
   "cell_type": "markdown",
   "id": "94f23113",
   "metadata": {},
   "source": [
    "These different types of arguments provide flexibility in function design and allow developers to create functions that can handle various input scenarios."
   ]
  },
  {
   "cell_type": "markdown",
   "id": "bd89ef0c",
   "metadata": {},
   "source": [
    "### Lambda Function:\n",
    "\n",
    "#### Definition:\n",
    "A lambda function is an anonymous, small, and inline function in Python. It is defined using the `lambda` keyword and is primarily used for short, simple operations.\n",
    "\n",
    "#### Syntax:\n",
    "```python\n",
    "lambda arguments: expression\n",
    "```\n",
    "\n",
    "#### Syntax Explanation:\n",
    "- `lambda`: Keyword indicating the creation of a lambda function.\n",
    "- `arguments`: Input parameters the lambda function takes (similar to regular functions).\n",
    "- `expression`: Single expression or operation that the lambda function performs.\n",
    "\n",
    "#### Example:"
   ]
  },
  {
   "cell_type": "code",
   "execution_count": 9,
   "id": "6b694274",
   "metadata": {},
   "outputs": [
    {
     "name": "stdout",
     "output_type": "stream",
     "text": [
      "25\n"
     ]
    }
   ],
   "source": [
    "square = lambda x: x**2\n",
    "print(square(5))"
   ]
  },
  {
   "cell_type": "markdown",
   "id": "41884924",
   "metadata": {},
   "source": [
    "#### Example Explanation:\n",
    "- Defines a lambda function `square` that takes one argument `x` and returns the square of `x`.\n",
    "- Calls the lambda function with `5` as an argument and prints the result.\n",
    "\n"
   ]
  },
  {
   "cell_type": "markdown",
   "id": "04cfcc2c",
   "metadata": {},
   "source": [
    "### Map Function:\n",
    "\n",
    "#### Definition:\n",
    "The `map()` function in Python applies a specified function to all items in an input iterable (e.g., a list) and returns an iterator of the results.\n",
    "\n",
    "#### Syntax:\n",
    "```python\n",
    "map(function, iterable)\n",
    "```\n",
    "\n",
    "#### Syntax Explanation:\n",
    "- `function`: The function to apply to each item in the iterable.\n",
    "- `iterable`: The iterable (e.g., list) whose elements will be processed by the function.\n",
    "\n",
    "#### Example:\n"
   ]
  },
  {
   "cell_type": "code",
   "execution_count": 132,
   "id": "6a00a205",
   "metadata": {},
   "outputs": [
    {
     "name": "stdout",
     "output_type": "stream",
     "text": [
      "[1, 4, 9, 16, 25]\n"
     ]
    }
   ],
   "source": [
    "numbers = (1, 2, 3, 4, 5)\n",
    "squared_numbers = map(lambda x: x**2, numbers)\n",
    "print(list(squared_numbers))"
   ]
  },
  {
   "cell_type": "markdown",
   "id": "a6e9819d",
   "metadata": {},
   "source": [
    "#### Example Explanation:\n",
    "- Uses a lambda function to square each element in the list `numbers`.\n",
    "- Applies the lambda function to each element using `map()`.\n",
    "- Converts the result to a list and prints it."
   ]
  },
  {
   "cell_type": "markdown",
   "id": "3100e43f",
   "metadata": {},
   "source": [
    "### Exercises:\n",
    "\n",
    "1. Write a lambda function to calculate the cube of a given number."
   ]
  },
  {
   "cell_type": "code",
   "execution_count": null,
   "id": "2a9bc2ef",
   "metadata": {},
   "outputs": [],
   "source": []
  },
  {
   "cell_type": "markdown",
   "id": "a5bd119a",
   "metadata": {},
   "source": [
    "2. Use the `map()` function to double each element in a list."
   ]
  },
  {
   "cell_type": "code",
   "execution_count": null,
   "id": "177ebff5",
   "metadata": {},
   "outputs": [],
   "source": []
  },
  {
   "cell_type": "markdown",
   "id": "3ac8de33",
   "metadata": {},
   "source": [
    "3. Create a lambda function to check if a given number is even."
   ]
  },
  {
   "cell_type": "code",
   "execution_count": null,
   "id": "99afdd24",
   "metadata": {},
   "outputs": [],
   "source": []
  },
  {
   "cell_type": "markdown",
   "id": "d7b813e8",
   "metadata": {},
   "source": [
    "4. Apply a lambda function to convert each temperature in Celsius to Fahrenheit in a list."
   ]
  },
  {
   "cell_type": "code",
   "execution_count": null,
   "id": "003de1a7",
   "metadata": {},
   "outputs": [],
   "source": []
  },
  {
   "cell_type": "markdown",
   "id": "62541092",
   "metadata": {},
   "source": [
    "5. Use the `map()` function to capitalize the first letter of each word in a list of names."
   ]
  },
  {
   "cell_type": "code",
   "execution_count": null,
   "id": "b271453c",
   "metadata": {},
   "outputs": [],
   "source": []
  },
  {
   "cell_type": "markdown",
   "id": "c903d256",
   "metadata": {},
   "source": [
    "## Solving a Problem"
   ]
  },
  {
   "cell_type": "markdown",
   "id": "54c67bd9",
   "metadata": {},
   "source": [
    "> Calculate the total cost of a shopping cart, including tax and discounts."
   ]
  },
  {
   "cell_type": "code",
   "execution_count": null,
   "id": "4cebe6f2",
   "metadata": {},
   "outputs": [],
   "source": [
    "def calculate_subtotal(items):\n",
    "    subtotal = sum(items.values())\n",
    "    return subtotal\n",
    "\n",
    "def apply_discount(subtotal, discount_percent):\n",
    "    discount_amount = (discount_percent / 100) * subtotal\n",
    "    discounted_total = subtotal - discount_amount\n",
    "    return discounted_total\n",
    "\n",
    "def calculate_tax(subtotal, tax_rate):\n",
    "    tax_amount = (tax_rate / 100) * subtotal\n",
    "    return tax_amount\n",
    "\n",
    "def calculate_total(discounted_total, tax_amount):\n",
    "    total = discounted_total + tax_amount\n",
    "    return total\n",
    "\n",
    "def main(items, discount_percent, tax_rate):\n",
    "\n",
    "    # Calculate subtotal\n",
    "    subtotal = calculate_subtotal(items)\n",
    "\n",
    "    # Apply discount\n",
    "    discounted_total = apply_discount(subtotal, discount_percent)\n",
    "\n",
    "    # Calculate tax\n",
    "    tax_amount = calculate_tax(discounted_total, tax_rate)\n",
    "\n",
    "    # Calculate total cost\n",
    "    total = calculate_total(discounted_total, tax_amount)\n",
    "\n",
    "    # Display results\n",
    "    print(f\"Subtotal: ${subtotal:.2f}\")\n",
    "    print(f\"Discount ({discount_percent}%): -${discounted_total - subtotal:.2f}\")\n",
    "    print(f\"Tax ({tax_rate}%): ${tax_amount:.2f}\")\n",
    "    print(f\"Total: ${total:.2f}\")\n",
    "\n",
    "    \n",
    "main({\n",
    "        'item1': 25.99,\n",
    "        'item2': 14.95,\n",
    "        'item3': 10.50,\n",
    "    }\n",
    ", 10, 8)"
   ]
  }
 ],
 "metadata": {
  "kernelspec": {
   "display_name": "Python 3 (ipykernel)",
   "language": "python",
   "name": "python3"
  },
  "language_info": {
   "codemirror_mode": {
    "name": "ipython",
    "version": 3
   },
   "file_extension": ".py",
   "mimetype": "text/x-python",
   "name": "python",
   "nbconvert_exporter": "python",
   "pygments_lexer": "ipython3",
   "version": "3.8.8"
  }
 },
 "nbformat": 4,
 "nbformat_minor": 5
}
