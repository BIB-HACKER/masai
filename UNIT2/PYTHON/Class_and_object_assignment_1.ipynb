{
 "cells": [
  {
   "cell_type": "markdown",
   "metadata": {
    "id": "Gku-b9rB8IJY"
   },
   "source": [
    "1.Create a Python class named Person with attributes name and age. Provide a constructor to initialize these attributes. Also, create an object of this class and print the details."
   ]
  },
  {
   "cell_type": "code",
   "execution_count": 1,
   "metadata": {
    "colab": {
     "base_uri": "https://localhost:8080/"
    },
    "id": "ZfzkIDlz7tkQ",
    "outputId": "2f783c77-9ebc-4927-c8bf-cae3dd9c0530"
   },
   "outputs": [
    {
     "name": "stdout",
     "output_type": "stream",
     "text": [
      "Bibhakar   24\n"
     ]
    }
   ],
   "source": [
    "class Person:\n",
    "  def __init__(self,name,age):\n",
    "    self.name=name\n",
    "    self.age=age\n",
    "\n",
    "obj=Person(\"Bibhakar\",24)\n",
    "print(obj.name,\" \",obj.age)"
   ]
  },
  {
   "cell_type": "code",
   "execution_count": 2,
   "metadata": {
    "colab": {
     "base_uri": "https://localhost:8080/"
    },
    "id": "jMyWPeXt8Lmh",
    "outputId": "b9618181-2d41-4667-ba8c-e1d882ace116"
   },
   "outputs": [
    {
     "name": "stdout",
     "output_type": "stream",
     "text": [
      "Ram   100\n"
     ]
    }
   ],
   "source": [
    "obj2 = Person(\"Ram\",100)\n",
    "print(obj2.name,\" \",obj2.age)"
   ]
  },
  {
   "cell_type": "markdown",
   "metadata": {
    "id": "RVESNfnT8MOR"
   },
   "source": [
    "2.Add a method to the Person class called display_info that prints the name and age of the person."
   ]
  },
  {
   "cell_type": "code",
   "execution_count": 3,
   "metadata": {
    "id": "T0nPEO7R8Ubk"
   },
   "outputs": [],
   "source": [
    "class Person:\n",
    "  def __init__(self,name,age):\n",
    "    self.name=name\n",
    "    self.age=age\n",
    "\n",
    "  def display_info(self):\n",
    "    print(self.name,\" \",self.age)"
   ]
  },
  {
   "cell_type": "code",
   "execution_count": 4,
   "metadata": {
    "colab": {
     "base_uri": "https://localhost:8080/"
    },
    "id": "hP4a_aR-8VKT",
    "outputId": "4a38e604-cb8f-4f90-f036-a8c5d94528bc"
   },
   "outputs": [
    {
     "name": "stdout",
     "output_type": "stream",
     "text": [
      "Paul   26\n"
     ]
    }
   ],
   "source": [
    "obj3=Person(\"Paul\",26)\n",
    "obj3.display_info()"
   ]
  },
  {
   "cell_type": "markdown",
   "metadata": {
    "id": "_-L0qKKx8Vys"
   },
   "source": [
    "3.Create a class named Car with an attribute model and a method display_model that prints the model of the car. Create an object of this class and call the method."
   ]
  },
  {
   "cell_type": "code",
   "execution_count": 5,
   "metadata": {
    "id": "kQTe4W6m9jJJ"
   },
   "outputs": [],
   "source": [
    "class Car:\n",
    "  def __init__(self,model):\n",
    "    self.model=model\n",
    "\n",
    "  def display_model(self):\n",
    "    print(self.model)"
   ]
  },
  {
   "cell_type": "code",
   "execution_count": 6,
   "metadata": {
    "colab": {
     "base_uri": "https://localhost:8080/"
    },
    "id": "rIGDQtUN9kFE",
    "outputId": "8d81f101-f1e7-4aa3-f3c8-675b0ef8063b"
   },
   "outputs": [
    {
     "name": "stdout",
     "output_type": "stream",
     "text": [
      "Range Rover Difender\n"
     ]
    }
   ],
   "source": [
    "obj4=Car(\"Range Rover Difender\")\n",
    "obj4.display_model()"
   ]
  },
  {
   "cell_type": "markdown",
   "metadata": {
    "id": "aYkw1SHH9kdd"
   },
   "source": [
    "4.Create a class named Rectangle with attributes length and width. Add a method calculate_area that returns the area of the rectangle. Create an object and call the method."
   ]
  },
  {
   "cell_type": "code",
   "execution_count": 2,
   "metadata": {
    "id": "hb-M-tNA9pQ3"
   },
   "outputs": [],
   "source": [
    "class Rectangle:\n",
    "  def __init__(self,length,width):\n",
    "    self.length=length\n",
    "    self.width=width    \n",
    "\n",
    "  def calculte_area(self):\n",
    "    return self.length*self.width"
   ]
  },
  {
   "cell_type": "code",
   "execution_count": 3,
   "metadata": {
    "colab": {
     "base_uri": "https://localhost:8080/"
    },
    "id": "duaDmedJ9qeG",
    "outputId": "4ce65881-c9c2-4714-f1a0-e39bcd833856"
   },
   "outputs": [
    {
     "data": {
      "text/plain": [
       "48"
      ]
     },
     "execution_count": 3,
     "metadata": {},
     "output_type": "execute_result"
    }
   ],
   "source": [
    "obj5=Rectangle(6,8)\n",
    "obj5.calculte_area()"
   ]
  },
  {
   "cell_type": "markdown",
   "metadata": {
    "id": "hPQLEaA29rCT"
   },
   "source": [
    "5.Create a class named Person with a private attribute age. Add a method set_age that sets the age, and a method get_age that returns the age. Create an object and demonstrate the use of these methods."
   ]
  },
  {
   "cell_type": "code",
   "execution_count": 12,
   "metadata": {
    "id": "S4lqakTh91QV"
   },
   "outputs": [],
   "source": [
    "class Person:\n",
    "  def __init__(self):\n",
    "    self.__age = 0\n",
    "\n",
    "  def set_age(self,value):\n",
    "    self.__age=value\n",
    "\n",
    "  def get_age(self):\n",
    "    return self.__age"
   ]
  },
  {
   "cell_type": "code",
   "execution_count": 13,
   "metadata": {
    "colab": {
     "base_uri": "https://localhost:8080/"
    },
    "id": "W44J_zj491yi",
    "outputId": "a41bb49e-e2b5-4bfe-e944-74d153ee965c"
   },
   "outputs": [
    {
     "data": {
      "text/plain": [
       "24"
      ]
     },
     "execution_count": 13,
     "metadata": {},
     "output_type": "execute_result"
    }
   ],
   "source": [
    "obj6=Person()\n",
    "obj6.set_age(24)\n",
    "obj6.get_age()"
   ]
  },
  {
   "cell_type": "markdown",
   "metadata": {
    "id": "gR9_V0XH92Xj"
   },
   "source": [
    "6.Create a class named Book with a class variable total_books to keep track of the total number of books. Add a method add_book that increments the total count. Create objects and call the method to demonstrate."
   ]
  },
  {
   "cell_type": "code",
   "execution_count": 4,
   "metadata": {
    "id": "nS9fI-dU9_et"
   },
   "outputs": [],
   "source": [
    "class Book:\n",
    "  total_book=0\n",
    "\n",
    "  def add_books(self):\n",
    "    Book.total_book+=1\n",
    "\n"
   ]
  },
  {
   "cell_type": "code",
   "execution_count": 5,
   "metadata": {
    "id": "TBTI88mK9_9c"
   },
   "outputs": [],
   "source": [
    "book1=Book()"
   ]
  },
  {
   "cell_type": "code",
   "execution_count": 6,
   "metadata": {
    "id": "g0gSjZdL7qVz"
   },
   "outputs": [],
   "source": [
    "book2=Book()"
   ]
  },
  {
   "cell_type": "code",
   "execution_count": 7,
   "metadata": {
    "id": "0OVtOvZW7_O6"
   },
   "outputs": [],
   "source": [
    "book3=Book()"
   ]
  },
  {
   "cell_type": "code",
   "execution_count": 8,
   "metadata": {
    "id": "HLdxiMvX6JUE"
   },
   "outputs": [],
   "source": [
    "book1.add_books()\n",
    "book2.add_books()\n",
    "book3.add_books()"
   ]
  },
  {
   "cell_type": "code",
   "execution_count": 9,
   "metadata": {
    "colab": {
     "base_uri": "https://localhost:8080/"
    },
    "id": "MWemoLsW7GaP",
    "outputId": "10c7752e-79af-4bd0-867f-7c61423a38ec"
   },
   "outputs": [
    {
     "data": {
      "text/plain": [
       "3"
      ]
     },
     "execution_count": 9,
     "metadata": {},
     "output_type": "execute_result"
    }
   ],
   "source": [
    "Book.total_book"
   ]
  },
  {
   "cell_type": "markdown",
   "metadata": {
    "id": "3Eem3cCw-Akh"
   },
   "source": [
    "7.Create a class named Student with attributes name and age, and provide default values for these attributes in the constructor. Create an object without passing any values and print the details."
   ]
  },
  {
   "cell_type": "code",
   "execution_count": 31,
   "metadata": {
    "id": "ywRuym2_-FF0"
   },
   "outputs": [],
   "source": [
    "class Student:\n",
    "  def __init__(self,name=\"Nothing\",age=\"00\"):\n",
    "    self.name=name\n",
    "    self.age=age"
   ]
  },
  {
   "cell_type": "code",
   "execution_count": 32,
   "metadata": {
    "id": "uNYbVvt2-FmG"
   },
   "outputs": [],
   "source": [
    "std1=Student()"
   ]
  },
  {
   "cell_type": "code",
   "execution_count": 33,
   "metadata": {
    "colab": {
     "base_uri": "https://localhost:8080/",
     "height": 36
    },
    "id": "wyGe0gPT8Vai",
    "outputId": "23e453fe-4682-45f6-be45-e040a8e8b796"
   },
   "outputs": [
    {
     "data": {
      "application/vnd.google.colaboratory.intrinsic+json": {
       "type": "string"
      },
      "text/plain": [
       "'Nothing'"
      ]
     },
     "execution_count": 33,
     "metadata": {},
     "output_type": "execute_result"
    }
   ],
   "source": [
    "std1.name"
   ]
  },
  {
   "cell_type": "code",
   "execution_count": 34,
   "metadata": {
    "colab": {
     "base_uri": "https://localhost:8080/",
     "height": 36
    },
    "id": "fAy78Aof8Zxa",
    "outputId": "d7014a7b-47c6-4ac0-ed87-f21e0fa37365"
   },
   "outputs": [
    {
     "data": {
      "application/vnd.google.colaboratory.intrinsic+json": {
       "type": "string"
      },
      "text/plain": [
       "'00'"
      ]
     },
     "execution_count": 34,
     "metadata": {},
     "output_type": "execute_result"
    }
   ],
   "source": [
    "std1.age"
   ]
  },
  {
   "cell_type": "markdown",
   "metadata": {
    "id": "79zlcYVO-F6X"
   },
   "source": [
    "8.Create a class named Calculator with a method add_numbers that takes two parameters and returns their sum. Create an object and call the method."
   ]
  },
  {
   "cell_type": "code",
   "execution_count": 43,
   "metadata": {
    "id": "P-3O7oTY-MX7"
   },
   "outputs": [],
   "source": [
    "class Calculator:\n",
    "  def add_numbers(self,x,y):\n",
    "    # self.x=x\n",
    "    # self.y=y\n",
    "    # return self.x+self.y\n",
    "    return x+y"
   ]
  },
  {
   "cell_type": "code",
   "execution_count": 44,
   "metadata": {
    "colab": {
     "base_uri": "https://localhost:8080/"
    },
    "id": "1YupWKFz-MyJ",
    "outputId": "45027ccd-0387-4186-a63d-ea29600dabf5"
   },
   "outputs": [
    {
     "data": {
      "text/plain": [
       "15"
      ]
     },
     "execution_count": 44,
     "metadata": {},
     "output_type": "execute_result"
    }
   ],
   "source": [
    "cal1=Calculator()\n",
    "cal1.add_numbers(6,9)"
   ]
  },
  {
   "cell_type": "markdown",
   "metadata": {
    "id": "ZDE-p0ZM-NaB"
   },
   "source": [
    "9.Create a class named Person with attributes name and age. Add a method compare_age that takes another person as a parameter and compares their ages. Create two objects and demonstrate the method."
   ]
  },
  {
   "cell_type": "code",
   "execution_count": 28,
   "metadata": {
    "id": "jYjsHOHn-TzA"
   },
   "outputs": [],
   "source": [
    "class Person:\n",
    "  def __init__(self,name,age):\n",
    "    self.name=name \n",
    "    self.age=age \n",
    "      \n",
    "  def compare_age(self,val): # val=45\n",
    "    if val.age > self.age:  # 45>34\n",
    "      return \"person1 is elder\"\n",
    "    elif val.age==self.age:\n",
    "      return \"same age\"\n",
    "    else:\n",
    "      return \"person2 is elder\""
   ]
  },
  {
   "cell_type": "code",
   "execution_count": 29,
   "metadata": {
    "colab": {
     "base_uri": "https://localhost:8080/",
     "height": 36
    },
    "id": "sZVuXXEN-UNd",
    "outputId": "d0afb1b5-fb96-4638-82b5-62ecc0f3b853"
   },
   "outputs": [
    {
     "data": {
      "text/plain": [
       "'person1 is elder'"
      ]
     },
     "execution_count": 29,
     "metadata": {},
     "output_type": "execute_result"
    }
   ],
   "source": [
    "obj1=Person(\"Alice\",45)\n",
    "obj2=Person(\"kholi\",34)\n",
    "\n",
    "# obj1.compare_age(obj1)\n",
    "obj2.compare_age(obj1)"
   ]
  },
  {
   "cell_type": "markdown",
   "metadata": {
    "id": "YsDJtCo1-U51"
   },
   "source": [
    "10.Create a class named Country with attributes name and population. Add a docstring to the class explaining its purpose and attributes."
   ]
  },
  {
   "cell_type": "code",
   "execution_count": 30,
   "metadata": {
    "id": "5DOUObnn-Y-T"
   },
   "outputs": [],
   "source": [
    "class Country:\n",
    "\n",
    "  \"\"\"\n",
    "  This is a class named as country that represent country with name and population.\n",
    "\n",
    "  Attributes :\n",
    "    -name = Name of the country\n",
    "    -population = Population of that country\n",
    "\n",
    "  \"\"\"\n",
    "  def __init__(self,name,population):\n",
    "    self.name=name\n",
    "    self.population=population"
   ]
  }
 ],
 "metadata": {
  "colab": {
   "provenance": []
  },
  "kernelspec": {
   "display_name": "Python 3 (ipykernel)",
   "language": "python",
   "name": "python3"
  },
  "language_info": {
   "codemirror_mode": {
    "name": "ipython",
    "version": 3
   },
   "file_extension": ".py",
   "mimetype": "text/x-python",
   "name": "python",
   "nbconvert_exporter": "python",
   "pygments_lexer": "ipython3",
   "version": "3.12.0"
  }
 },
 "nbformat": 4,
 "nbformat_minor": 4
}
