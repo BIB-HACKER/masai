{
 "cells": [
  {
   "cell_type": "markdown",
   "id": "efb13357",
   "metadata": {},
   "source": [
    "# Modules and File Handling\n",
    "\n",
    "![](https://media.licdn.com/dms/image/D4D12AQFnq7fuYYTqHQ/article-cover_image-shrink_720_1280/0/1692356726159?e=2147483647&v=beta&t=l5B2GlWTm2KJmotSPaSK72g9TmlLT63-BvfGzV_mglQ)"
   ]
  },
  {
   "cell_type": "markdown",
   "id": "82fb07e5",
   "metadata": {},
   "source": [
    "## Modules\n",
    "\n",
    "> In Python, a [module](https://docs.python.org/3/py-modindex.html) is a file containing Python statements and definitions. It allows you to organize your Python code into reusable units. Modules help in better organization, code reuse, and maintenance. You can create your own modules or use built-in modules provided by Python or third-party modules.\n",
    "\n",
    "- List of modules available in Python: https://docs.python.org/3/py-modindex.html"
   ]
  },
  {
   "cell_type": "markdown",
   "id": "5c4aaf06",
   "metadata": {},
   "source": [
    "\n",
    "\n",
    "\n",
    "### Creating a Module:\n",
    "\n",
    "To create a module, you simply write your Python code in a separate file with a `.py` extension. For example, if you have a file named `my_module.py` with the following content:\n",
    "\n",
    "\n"
   ]
  },
  {
   "cell_type": "code",
   "execution_count": 1,
   "id": "c35e2fe1",
   "metadata": {},
   "outputs": [],
   "source": [
    "# masaitest.py\n",
    "\n",
    "def greet(name):\n",
    "    print(f\"Hello, {name}!\")\n",
    "\n",
    "def add_numbers(a, b):\n",
    "    return a + b"
   ]
  },
  {
   "cell_type": "markdown",
   "id": "70c54e0c",
   "metadata": {},
   "source": [
    "### Using a Module:\n",
    "\n",
    "You can use the functions and variables defined in a module by importing it in another Python script or module. Here's an example of how to use the `masaitest`:\n",
    "\n"
   ]
  },
  {
   "cell_type": "code",
   "execution_count": 4,
   "id": "b4390914",
   "metadata": {},
   "outputs": [
    {
     "name": "stdout",
     "output_type": "stream",
     "text": [
      "Hello, Alice!\n",
      "12\n"
     ]
    }
   ],
   "source": [
    "# main_script.py\n",
    "\n",
    "import masaitest\n",
    "\n",
    "masaitest.greet(\"Alice\")  # Output: Hello, Alice!\n",
    "result = masaitest.add_numbers(5, 7)\n",
    "print(result)  # Output: 12"
   ]
  },
  {
   "cell_type": "markdown",
   "id": "382653f7",
   "metadata": {},
   "source": [
    "### Module Namespace:\n",
    "\n",
    "When you import a module, you create a namespace for it. This allows you to access the functions and variables defined in the module using the module's name. In the example above, `masaitest.greet()` and `masaitest.add_numbers()`.\n",
    "\n",
    "### Importing Specific Functions or Variables:\n",
    "\n",
    "You can import specific functions or variables from a module using the `from ... import ...` syntax:\n"
   ]
  },
  {
   "cell_type": "code",
   "execution_count": 7,
   "id": "dcef0425",
   "metadata": {},
   "outputs": [
    {
     "name": "stdout",
     "output_type": "stream",
     "text": [
      "Hello, Bob!\n"
     ]
    }
   ],
   "source": [
    "# main_script.py\n",
    "\n",
    "from masaitest import greet\n",
    "\n",
    "greet(\"Bob\")  # Output: Hello, Bob!"
   ]
  },
  {
   "cell_type": "code",
   "execution_count": 8,
   "id": "80ee7b22",
   "metadata": {},
   "outputs": [
    {
     "data": {
      "text/plain": [
       "5"
      ]
     },
     "execution_count": 8,
     "metadata": {},
     "output_type": "execute_result"
    }
   ],
   "source": [
    "masaitest.add_numbers(2,3)"
   ]
  },
  {
   "cell_type": "code",
   "execution_count": 9,
   "id": "1daf0d55",
   "metadata": {},
   "outputs": [
    {
     "data": {
      "text/plain": [
       "['__builtins__',\n",
       " '__cached__',\n",
       " '__doc__',\n",
       " '__file__',\n",
       " '__loader__',\n",
       " '__name__',\n",
       " '__package__',\n",
       " '__spec__',\n",
       " 'add_numbers',\n",
       " 'greet']"
      ]
     },
     "execution_count": 9,
     "metadata": {},
     "output_type": "execute_result"
    }
   ],
   "source": [
    "dir(masaitest)"
   ]
  },
  {
   "cell_type": "markdown",
   "id": "9e3ff9ec",
   "metadata": {},
   "source": [
    "### Exercise:\n",
    "#### Simple Calculator Module:\n",
    "\n",
    "Create a Python module that contains functions for basic arithmetic operations (addition, subtraction, multiplication, division). Import this module in a separate script and use the functions to perform calculations."
   ]
  },
  {
   "cell_type": "markdown",
   "id": "c92c49ca",
   "metadata": {},
   "source": [
    "### Standard Library Modules:\n",
    "\n",
    "Python comes with a rich set of built-in modules that provide additional functionality. For example, the `math` module provides mathematical functions, and the `random` module provides functions for generating random numbers.\n",
    "\n"
   ]
  },
  {
   "cell_type": "code",
   "execution_count": 10,
   "id": "5112819b",
   "metadata": {},
   "outputs": [],
   "source": [
    "import datetime"
   ]
  },
  {
   "cell_type": "code",
   "execution_count": 11,
   "id": "d6c5ecf5",
   "metadata": {},
   "outputs": [
    {
     "data": {
      "text/plain": [
       "['MAXYEAR',\n",
       " 'MINYEAR',\n",
       " '__builtins__',\n",
       " '__cached__',\n",
       " '__doc__',\n",
       " '__file__',\n",
       " '__loader__',\n",
       " '__name__',\n",
       " '__package__',\n",
       " '__spec__',\n",
       " 'date',\n",
       " 'datetime',\n",
       " 'datetime_CAPI',\n",
       " 'sys',\n",
       " 'time',\n",
       " 'timedelta',\n",
       " 'timezone',\n",
       " 'tzinfo']"
      ]
     },
     "execution_count": 11,
     "metadata": {},
     "output_type": "execute_result"
    }
   ],
   "source": [
    "dir(datetime)"
   ]
  },
  {
   "cell_type": "code",
   "execution_count": 6,
   "id": "33453665",
   "metadata": {},
   "outputs": [],
   "source": [
    "import math"
   ]
  },
  {
   "cell_type": "code",
   "execution_count": 7,
   "id": "4ada34b8",
   "metadata": {},
   "outputs": [
    {
     "data": {
      "text/plain": [
       "['__doc__',\n",
       " '__file__',\n",
       " '__loader__',\n",
       " '__name__',\n",
       " '__package__',\n",
       " '__spec__',\n",
       " 'acos',\n",
       " 'acosh',\n",
       " 'asin',\n",
       " 'asinh',\n",
       " 'atan',\n",
       " 'atan2',\n",
       " 'atanh',\n",
       " 'ceil',\n",
       " 'comb',\n",
       " 'copysign',\n",
       " 'cos',\n",
       " 'cosh',\n",
       " 'degrees',\n",
       " 'dist',\n",
       " 'e',\n",
       " 'erf',\n",
       " 'erfc',\n",
       " 'exp',\n",
       " 'expm1',\n",
       " 'fabs',\n",
       " 'factorial',\n",
       " 'floor',\n",
       " 'fmod',\n",
       " 'frexp',\n",
       " 'fsum',\n",
       " 'gamma',\n",
       " 'gcd',\n",
       " 'hypot',\n",
       " 'inf',\n",
       " 'isclose',\n",
       " 'isfinite',\n",
       " 'isinf',\n",
       " 'isnan',\n",
       " 'isqrt',\n",
       " 'ldexp',\n",
       " 'lgamma',\n",
       " 'log',\n",
       " 'log10',\n",
       " 'log1p',\n",
       " 'log2',\n",
       " 'modf',\n",
       " 'nan',\n",
       " 'perm',\n",
       " 'pi',\n",
       " 'pow',\n",
       " 'prod',\n",
       " 'radians',\n",
       " 'remainder',\n",
       " 'sin',\n",
       " 'sinh',\n",
       " 'sqrt',\n",
       " 'tan',\n",
       " 'tanh',\n",
       " 'tau',\n",
       " 'trunc']"
      ]
     },
     "execution_count": 7,
     "metadata": {},
     "output_type": "execute_result"
    }
   ],
   "source": [
    "dir(math)"
   ]
  },
  {
   "cell_type": "code",
   "execution_count": 92,
   "id": "1ea1282d",
   "metadata": {},
   "outputs": [
    {
     "name": "stdout",
     "output_type": "stream",
     "text": [
      "6.0\n"
     ]
    }
   ],
   "source": [
    "import math\n",
    "\n",
    "print(math.sqrt(36))  # Output: 5.0"
   ]
  },
  {
   "cell_type": "code",
   "execution_count": 8,
   "id": "a613b896",
   "metadata": {},
   "outputs": [
    {
     "data": {
      "text/plain": [
       "9.0"
      ]
     },
     "execution_count": 8,
     "metadata": {},
     "output_type": "execute_result"
    }
   ],
   "source": [
    "math.sqrt(81)"
   ]
  },
  {
   "cell_type": "code",
   "execution_count": 9,
   "id": "a45d04f7",
   "metadata": {},
   "outputs": [
    {
     "data": {
      "text/plain": [
       "8.18535277187245"
      ]
     },
     "execution_count": 9,
     "metadata": {},
     "output_type": "execute_result"
    }
   ],
   "source": [
    "math.sqrt(67)"
   ]
  },
  {
   "cell_type": "code",
   "execution_count": 93,
   "id": "f4b9e671",
   "metadata": {},
   "outputs": [
    {
     "data": {
      "text/plain": [
       "['__doc__', '__file__', '__loader__', '__name__', '__package__']"
      ]
     },
     "execution_count": 93,
     "metadata": {},
     "output_type": "execute_result"
    }
   ],
   "source": [
    "dir(math)[:5]"
   ]
  },
  {
   "cell_type": "markdown",
   "id": "c893bb4d",
   "metadata": {},
   "source": [
    "### Exercise:\n",
    "\n",
    "Import datetime module and print current time in \"H:M:S\" format.\n"
   ]
  },
  {
   "cell_type": "code",
   "execution_count": null,
   "id": "f0a03484",
   "metadata": {},
   "outputs": [],
   "source": []
  },
  {
   "cell_type": "markdown",
   "id": "242be1ce",
   "metadata": {},
   "source": [
    "### Third-Party Modules:\n",
    "\n",
    "You can also use third-party modules that are not included in the standard library. These can be installed using package managers like `pip`. Examples of popular third-party modules include `requests` for making HTTP requests, `numpy` for numerical computing, and `pandas` for data manipulation."
   ]
  },
  {
   "cell_type": "code",
   "execution_count": 19,
   "id": "e90ff6e2",
   "metadata": {},
   "outputs": [
    {
     "name": "stdout",
     "output_type": "stream",
     "text": [
      "Requirement already satisfied: requests in /opt/anaconda3/lib/python3.8/site-packages (2.31.0)\n",
      "Requirement already satisfied: urllib3<3,>=1.21.1 in /opt/anaconda3/lib/python3.8/site-packages (from requests) (1.26.4)\n",
      "Requirement already satisfied: idna<4,>=2.5 in /opt/anaconda3/lib/python3.8/site-packages (from requests) (2.10)\n",
      "Requirement already satisfied: charset-normalizer<4,>=2 in /opt/anaconda3/lib/python3.8/site-packages (from requests) (2.0.10)\n",
      "Requirement already satisfied: certifi>=2017.4.17 in /opt/anaconda3/lib/python3.8/site-packages (from requests) (2020.12.5)\n",
      "Note: you may need to restart the kernel to use updated packages.\n"
     ]
    }
   ],
   "source": [
    "pip install requests"
   ]
  },
  {
   "cell_type": "code",
   "execution_count": 20,
   "id": "023c4b05",
   "metadata": {},
   "outputs": [
    {
     "name": "stdout",
     "output_type": "stream",
     "text": [
      "200\n"
     ]
    }
   ],
   "source": [
    "import requests\n",
    "\n",
    "response = requests.get(\"https://www.example.com\")\n",
    "print(response.status_code)"
   ]
  },
  {
   "cell_type": "markdown",
   "id": "0613c147",
   "metadata": {},
   "source": [
    "Remember to install third-party modules before trying to import them into your scripts.\n",
    "\n",
    "In summary, modules in Python are a way to organize code into separate files, providing better structure, reusability, and maintainability."
   ]
  },
  {
   "cell_type": "markdown",
   "id": "1830a75d",
   "metadata": {},
   "source": [
    "## Handling Files in Python"
   ]
  },
  {
   "cell_type": "markdown",
   "id": "59f6a595",
   "metadata": {},
   "source": [
    "In Python, file handling is an essential aspect of programming that allows you to read from and write to files. \n",
    "\n",
    "### Opening a File:\n",
    "\n",
    "You can open a file using the `open()` function. It takes two parameters: the file name and the mode in which you want to open the file (read, write, or append).\n",
    "\n",
    "**Note:** You need to specify path to file."
   ]
  },
  {
   "cell_type": "code",
   "execution_count": 140,
   "id": "18e113c7",
   "metadata": {},
   "outputs": [],
   "source": [
    "# Opening a file for reading\n",
    "file = open(\"/Users/samanvitha/Documents/htmllesson.html\", \"r\")"
   ]
  },
  {
   "cell_type": "code",
   "execution_count": 30,
   "id": "98470e52",
   "metadata": {},
   "outputs": [],
   "source": [
    "file2 = open(\"/Users/samanvitha/Documents/htmllesson.html\",\"r\")"
   ]
  },
  {
   "cell_type": "markdown",
   "id": "fb6d3bb5",
   "metadata": {},
   "source": [
    "### Reading from a File:\n",
    "\n",
    "There are various methods for reading from a file:\n",
    "\n",
    "- **`read()`**: Reads the entire file as a single string.\n"
   ]
  },
  {
   "cell_type": "code",
   "execution_count": 21,
   "id": "305fd964",
   "metadata": {},
   "outputs": [
    {
     "data": {
      "text/plain": [
       "'My name is Samanvitha.\\nI work at Masai.\\nI teach Data Science.\\nA passionate cinephile. \\nTheobrama has one of the best dense cakes!'"
      ]
     },
     "execution_count": 21,
     "metadata": {},
     "output_type": "execute_result"
    }
   ],
   "source": [
    "file = open(\"example.txt\",\"r\")\n",
    "file.read()"
   ]
  },
  {
   "cell_type": "code",
   "execution_count": 69,
   "id": "8ed366a4",
   "metadata": {},
   "outputs": [],
   "source": [
    "#file2.read()"
   ]
  },
  {
   "cell_type": "markdown",
   "id": "4587d0c1",
   "metadata": {},
   "source": [
    "- **`readline()`**: Reads a single line from the file.\n",
    "\n"
   ]
  },
  {
   "cell_type": "code",
   "execution_count": 17,
   "id": "e99c195e",
   "metadata": {},
   "outputs": [
    {
     "name": "stdout",
     "output_type": "stream",
     "text": [
      "My name is Samanvitha.\n",
      "\n"
     ]
    }
   ],
   "source": [
    "file = open(\"example.txt\", \"r\")\n",
    "line = file.readline()\n",
    "print(line)"
   ]
  },
  {
   "cell_type": "markdown",
   "id": "46cf2744",
   "metadata": {},
   "source": [
    "- **`readlines()`**: Reads all lines of the file into a list.\n"
   ]
  },
  {
   "cell_type": "code",
   "execution_count": 125,
   "id": "aee96062",
   "metadata": {},
   "outputs": [
    {
     "name": "stdout",
     "output_type": "stream",
     "text": [
      "My name is Samanvitha.\n",
      "\n",
      "I work at Masai.\n",
      "\n",
      "I teach Data Science.\n"
     ]
    }
   ],
   "source": [
    "file = open(\"example.txt\", \"r\")\n",
    "lines = file.readlines()\n",
    "for line in lines:\n",
    "    print(line)"
   ]
  },
  {
   "cell_type": "markdown",
   "id": "0044ff02",
   "metadata": {},
   "source": [
    "**Exercises**: \n",
    "- Count and display the total number of words in the text file.\n",
    "- Find and display the occurrence of the word \"I\".\n",
    "- Display the words which are having less than 4 characters.\n",
    "- Write a function in Python to count lowercase character in a text file."
   ]
  },
  {
   "cell_type": "markdown",
   "id": "e24dd019",
   "metadata": {},
   "source": [
    "### Writing to a File:\n",
    "\n",
    "You can open a file in write mode using the \"w\" parameter. If the file doesn't exist, it will be created. If it does exist, its content will be overwritten.\n",
    "\n"
   ]
  },
  {
   "cell_type": "code",
   "execution_count": 87,
   "id": "46396316",
   "metadata": {},
   "outputs": [
    {
     "data": {
      "text/plain": [
       "19"
      ]
     },
     "execution_count": 87,
     "metadata": {},
     "output_type": "execute_result"
    }
   ],
   "source": [
    "# Opening a file for writing\n",
    "file = open(\"example.txt\", \"w\")\n",
    "\n",
    "# Writing to the file\n",
    "file.write(\"Hello, World!\\n\")\n",
    "file.write(\"This is a new line.\")"
   ]
  },
  {
   "cell_type": "markdown",
   "id": "120cf803",
   "metadata": {},
   "source": [
    "### Appending to a File:\n",
    "\n",
    "You can open a file in append mode using the \"a\" parameter. If the file doesn't exist, it will be created. If it does exist, new content will be added to the end.\n"
   ]
  },
  {
   "cell_type": "code",
   "execution_count": 91,
   "id": "b99572ca",
   "metadata": {},
   "outputs": [],
   "source": [
    "file = open(\"example-new-class.txt\",\"a\")"
   ]
  },
  {
   "cell_type": "code",
   "execution_count": 92,
   "id": "349b5666",
   "metadata": {},
   "outputs": [
    {
     "data": {
      "text/plain": [
       "22"
      ]
     },
     "execution_count": 92,
     "metadata": {},
     "output_type": "execute_result"
    }
   ],
   "source": [
    "# Opening a file for appending\n",
    "file = open(\"example.txt\", \"a\")\n",
    "\n",
    "# Appending to the file\n",
    "file.write(\"\\nAppending a new line.\")"
   ]
  },
  {
   "cell_type": "code",
   "execution_count": 93,
   "id": "b5b373a7",
   "metadata": {},
   "outputs": [
    {
     "data": {
      "text/plain": [
       "'Hello, World!\\nThis is a new line.\\nAppending a new line.'"
      ]
     },
     "execution_count": 93,
     "metadata": {},
     "output_type": "execute_result"
    }
   ],
   "source": [
    "file = open(\"example.txt\",\"r\")\n",
    "file.read()"
   ]
  },
  {
   "cell_type": "markdown",
   "id": "e9e6b9bb",
   "metadata": {},
   "source": [
    "### Closing a File:\n",
    "\n",
    "It's good practice to close the file after you're done with it using the `close()` method. If it is not closed it will be running in thread and take up some ram memory."
   ]
  },
  {
   "cell_type": "code",
   "execution_count": 94,
   "id": "cfab2a63",
   "metadata": {},
   "outputs": [],
   "source": [
    "file.close()"
   ]
  },
  {
   "cell_type": "markdown",
   "id": "33240e08",
   "metadata": {},
   "source": [
    "### Using the `with` Statement:\n",
    "\n",
    "The `with` statement is a more elegant way to work with files. It automatically takes care of closing the file when the code block is exited, even if an exception occurs.\n",
    "\n"
   ]
  },
  {
   "cell_type": "code",
   "execution_count": 82,
   "id": "7d1324df",
   "metadata": {},
   "outputs": [
    {
     "name": "stdout",
     "output_type": "stream",
     "text": [
      "Hello, World!\n",
      "This is a new line.\n",
      "Appending a new line.\n"
     ]
    }
   ],
   "source": [
    "with open(\"example.txt\", \"r\") as file:\n",
    "    content = file.read()\n",
    "    print(content)\n",
    "# File is automatically closed when the 'with' block is exited"
   ]
  },
  {
   "cell_type": "markdown",
   "id": "865efc24",
   "metadata": {},
   "source": [
    "### File Modes:\n",
    "\n",
    "- **\"r\"**: Read mode (default). Opens the file for reading.\n",
    "- **\"w\"**: Write mode. Opens the file for writing. If the file already exists, it will be truncated.\n",
    "- **\"a\"**: Append mode. Opens the file for writing. If the file already exists, new data will be written at the end.\n",
    "- **\"b\"**: Binary mode. Used in combination with other modes (e.g., \"rb\" or \"wb\") to indicate binary file operations.\n"
   ]
  },
  {
   "cell_type": "markdown",
   "id": "6fb7fcbc",
   "metadata": {},
   "source": [
    "### Exception Handling:\n",
    "\n",
    "When working with files, it's a good practice to handle exceptions, such as `FileNotFoundError` or `PermissionError`, to ensure your program behaves correctly even when things go wrong.\n"
   ]
  },
  {
   "cell_type": "code",
   "execution_count": 106,
   "id": "31e0b064",
   "metadata": {},
   "outputs": [
    {
     "name": "stdout",
     "output_type": "stream",
     "text": [
      "File not found!\n"
     ]
    }
   ],
   "source": [
    "try:\n",
    "    with open(\"htmllesson.txt\", \"r\") as file:\n",
    "        content = file.read()\n",
    "        print(content)\n",
    "except FileNotFoundError:\n",
    "    print(\"File not found!\")\n",
    "except PermissionError:\n",
    "    print(\"Permission denied!\")"
   ]
  },
  {
   "cell_type": "markdown",
   "id": "434f117e",
   "metadata": {},
   "source": [
    "In summary, file handling in Python involves opening, reading, writing, and closing files. The `with` statement is recommended for file operations as it ensures proper file closure. It's important to handle exceptions to account for potential errors during file operations."
   ]
  },
  {
   "cell_type": "markdown",
   "id": "e7d668b3",
   "metadata": {},
   "source": [
    "#### Exercises:\n",
    "\n",
    "1. **Desired Format:**\n",
    "   - Write a function definition in Python that would display \"@\" after every character in the file.\n",
    "\n",
    "2. **File Copy:**\n",
    "   - Create a script that copies the content of one text file into another.\n",
    "   - Allow the user to specify the filenames as command-line arguments."
   ]
  }
 ],
 "metadata": {
  "kernelspec": {
   "display_name": "Python 3 (ipykernel)",
   "language": "python",
   "name": "python3"
  },
  "language_info": {
   "codemirror_mode": {
    "name": "ipython",
    "version": 3
   },
   "file_extension": ".py",
   "mimetype": "text/x-python",
   "name": "python",
   "nbconvert_exporter": "python",
   "pygments_lexer": "ipython3",
   "version": "3.12.0"
  }
 },
 "nbformat": 4,
 "nbformat_minor": 5
}
