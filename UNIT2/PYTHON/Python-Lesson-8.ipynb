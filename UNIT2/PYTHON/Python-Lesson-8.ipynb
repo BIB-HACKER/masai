{
 "cells": [
  {
   "cell_type": "code",
   "execution_count": 280,
   "id": "7f2966ad",
   "metadata": {},
   "outputs": [
    {
     "data": {
      "text/plain": [
       "['__add__',\n",
       " '__class__',\n",
       " '__contains__',\n",
       " '__delattr__',\n",
       " '__delitem__',\n",
       " '__dir__',\n",
       " '__doc__',\n",
       " '__eq__',\n",
       " '__format__',\n",
       " '__ge__',\n",
       " '__getattribute__',\n",
       " '__getitem__',\n",
       " '__gt__',\n",
       " '__hash__',\n",
       " '__iadd__',\n",
       " '__imul__',\n",
       " '__init__',\n",
       " '__init_subclass__',\n",
       " '__iter__',\n",
       " '__le__',\n",
       " '__len__',\n",
       " '__lt__',\n",
       " '__mul__',\n",
       " '__ne__',\n",
       " '__new__',\n",
       " '__reduce__',\n",
       " '__reduce_ex__',\n",
       " '__repr__',\n",
       " '__reversed__',\n",
       " '__rmul__',\n",
       " '__setattr__',\n",
       " '__setitem__',\n",
       " '__sizeof__',\n",
       " '__str__',\n",
       " '__subclasshook__',\n",
       " 'append',\n",
       " 'clear',\n",
       " 'copy',\n",
       " 'count',\n",
       " 'extend',\n",
       " 'index',\n",
       " 'insert',\n",
       " 'pop',\n",
       " 'remove',\n",
       " 'reverse',\n",
       " 'sort']"
      ]
     },
     "execution_count": 280,
     "metadata": {},
     "output_type": "execute_result"
    }
   ],
   "source": [
    "dir(list)"
   ]
  },
  {
   "cell_type": "code",
   "execution_count": null,
   "id": "26bf195f",
   "metadata": {},
   "outputs": [],
   "source": []
  },
  {
   "cell_type": "markdown",
   "id": "3754b5e2",
   "metadata": {},
   "source": [
    "# Numpy - Python Library for Numerical Computing\n",
    "\n",
    "![](https://www.freecodecamp.org/news/content/images/2020/09/numpy-1.png)"
   ]
  },
  {
   "cell_type": "markdown",
   "id": "26f1e222",
   "metadata": {},
   "source": [
    "> NumPy, which stands for Numerical Python, is a powerful library in Python for numerical and mathematical operations. It is a fundamental package for scientific computing in Python and is widely used in various fields such as data science, machine learning, signal processing, and more."
   ]
  },
  {
   "cell_type": "markdown",
   "id": "ea734667",
   "metadata": {},
   "source": [
    "## Why NumPy?\n",
    "\n",
    "1. **Efficient Array Operations:** NumPy provides a high-performance, multidimensional array object that allows for efficient storage and manipulation of large datasets, enabling fast mathematical operations.\n",
    "\n",
    "2. **Broadcasting:** NumPy supports broadcasting, facilitating operations between arrays of different shapes without explicit loops, enhancing code readability and conciseness.\n",
    "\n",
    "3. **Mathematical and Linear Algebra Functions:** NumPy offers a wide range of mathematical functions and comprehensive linear algebra operations, crucial for scientific computing, data analysis, and machine learning.\n",
    "\n",
    "4. **Memory Efficiency and Integration:** NumPy arrays are memory-efficient, and the library seamlessly integrates with other Python libraries, forming a powerful ecosystem for scientific computing and facilitating code compatibility and reuse."
   ]
  },
  {
   "cell_type": "markdown",
   "id": "6bbb5d78",
   "metadata": {},
   "source": [
    "### How to Use NumPy:\n",
    "\n",
    "1. **Installation:**\n",
    "   - You can install NumPy using a package manager like `pip`. For example:"
   ]
  },
  {
   "cell_type": "code",
   "execution_count": 281,
   "id": "0337890e",
   "metadata": {},
   "outputs": [
    {
     "name": "stdout",
     "output_type": "stream",
     "text": [
      "Requirement already satisfied: numpy in /Users/samanvitha/.local/lib/python3.8/site-packages (1.23.5)\n",
      "Note: you may need to restart the kernel to use updated packages.\n"
     ]
    }
   ],
   "source": [
    "pip install numpy"
   ]
  },
  {
   "cell_type": "markdown",
   "id": "4f2e01b4",
   "metadata": {},
   "source": [
    "2. **Importing:**\n",
    "   - Import NumPy in your Python script or Jupyter notebook using:"
   ]
  },
  {
   "cell_type": "code",
   "execution_count": 283,
   "id": "69b69310",
   "metadata": {},
   "outputs": [],
   "source": [
    "import numpy as np"
   ]
  },
  {
   "cell_type": "markdown",
   "id": "28d7fe06",
   "metadata": {},
   "source": [
    "3. **Creating Arrays:**\n",
    "   - You can create NumPy arrays using various functions like `np.array()`, `np.zeros()`, `np.ones()`, `np.arange()`, and more.\n",
    " "
   ]
  },
  {
   "cell_type": "markdown",
   "id": "974aab87",
   "metadata": {},
   "source": [
    "<img src=\"https://i.stack.imgur.com/NWTQH.png\" height=500 width=500>"
   ]
  },
  {
   "cell_type": "code",
   "execution_count": 314,
   "id": "d710ff30",
   "metadata": {},
   "outputs": [],
   "source": [
    "f = np.array([[1]])"
   ]
  },
  {
   "cell_type": "code",
   "execution_count": 315,
   "id": "01e8c88a",
   "metadata": {},
   "outputs": [
    {
     "data": {
      "text/plain": [
       "(1, 1)"
      ]
     },
     "execution_count": 315,
     "metadata": {},
     "output_type": "execute_result"
    }
   ],
   "source": [
    "f.shape"
   ]
  },
  {
   "cell_type": "code",
   "execution_count": 321,
   "id": "57d9f80a",
   "metadata": {},
   "outputs": [],
   "source": [
    "g = np.array([[1]])"
   ]
  },
  {
   "cell_type": "code",
   "execution_count": 322,
   "id": "9be9681f",
   "metadata": {},
   "outputs": [
    {
     "data": {
      "text/plain": [
       "(1, 1)"
      ]
     },
     "execution_count": 322,
     "metadata": {},
     "output_type": "execute_result"
    }
   ],
   "source": [
    "g.shape"
   ]
  },
  {
   "cell_type": "code",
   "execution_count": null,
   "id": "bd6f539f",
   "metadata": {},
   "outputs": [],
   "source": []
  },
  {
   "cell_type": "code",
   "execution_count": 287,
   "id": "7f71aded",
   "metadata": {},
   "outputs": [],
   "source": [
    "a = np.array([1,\n",
    "              2,\n",
    "              3,\n",
    "              4,\n",
    "              5,\n",
    "              6,\n",
    "              7])"
   ]
  },
  {
   "cell_type": "code",
   "execution_count": null,
   "id": "83106610",
   "metadata": {},
   "outputs": [],
   "source": []
  },
  {
   "cell_type": "code",
   "execution_count": 290,
   "id": "e10afb76",
   "metadata": {},
   "outputs": [
    {
     "data": {
      "text/plain": [
       "(7,)"
      ]
     },
     "execution_count": 290,
     "metadata": {},
     "output_type": "execute_result"
    }
   ],
   "source": [
    "a.shape"
   ]
  },
  {
   "cell_type": "code",
   "execution_count": 296,
   "id": "e41dce16",
   "metadata": {},
   "outputs": [
    {
     "data": {
      "text/plain": [
       "1"
      ]
     },
     "execution_count": 296,
     "metadata": {},
     "output_type": "execute_result"
    }
   ],
   "source": [
    "a.ndim"
   ]
  },
  {
   "cell_type": "code",
   "execution_count": 297,
   "id": "cbee046d",
   "metadata": {},
   "outputs": [
    {
     "data": {
      "text/plain": [
       "2"
      ]
     },
     "execution_count": 297,
     "metadata": {},
     "output_type": "execute_result"
    }
   ],
   "source": [
    "b.ndim"
   ]
  },
  {
   "cell_type": "code",
   "execution_count": 298,
   "id": "709ad75b",
   "metadata": {},
   "outputs": [
    {
     "data": {
      "text/plain": [
       "3"
      ]
     },
     "execution_count": 298,
     "metadata": {},
     "output_type": "execute_result"
    }
   ],
   "source": [
    "c.ndim"
   ]
  },
  {
   "cell_type": "code",
   "execution_count": 288,
   "id": "6cdb85b1",
   "metadata": {},
   "outputs": [
    {
     "data": {
      "text/plain": [
       "array([1, 2, 3, 4, 5, 6, 7])"
      ]
     },
     "execution_count": 288,
     "metadata": {},
     "output_type": "execute_result"
    }
   ],
   "source": [
    "a"
   ]
  },
  {
   "cell_type": "code",
   "execution_count": 291,
   "id": "86b357e2",
   "metadata": {},
   "outputs": [],
   "source": [
    "b = np.array([[1,2,3,4,5],\n",
    "              [1,3,4,5,5]])"
   ]
  },
  {
   "cell_type": "code",
   "execution_count": 292,
   "id": "80dc97fb",
   "metadata": {},
   "outputs": [
    {
     "data": {
      "text/plain": [
       "(2, 5)"
      ]
     },
     "execution_count": 292,
     "metadata": {},
     "output_type": "execute_result"
    }
   ],
   "source": [
    "b.shape"
   ]
  },
  {
   "cell_type": "code",
   "execution_count": 303,
   "id": "c665c3f4",
   "metadata": {},
   "outputs": [],
   "source": [
    "c = np.array([[\n",
    "               [1,2,4],\n",
    "               [3,4,5],\n",
    "               [5,6,7]],[\n",
    "               [1,2,5],\n",
    "               [3,4,2],\n",
    "               [5,6,5]]])"
   ]
  },
  {
   "cell_type": "code",
   "execution_count": 304,
   "id": "cae55176",
   "metadata": {},
   "outputs": [
    {
     "data": {
      "text/plain": [
       "(2, 3, 3)"
      ]
     },
     "execution_count": 304,
     "metadata": {},
     "output_type": "execute_result"
    }
   ],
   "source": [
    "c.shape"
   ]
  },
  {
   "cell_type": "code",
   "execution_count": null,
   "id": "3d77bfe0",
   "metadata": {},
   "outputs": [],
   "source": [
    "[1,2,3,4,5]"
   ]
  },
  {
   "cell_type": "code",
   "execution_count": null,
   "id": "6d7c1f64",
   "metadata": {},
   "outputs": [],
   "source": []
  },
  {
   "cell_type": "code",
   "execution_count": null,
   "id": "af4cb735",
   "metadata": {},
   "outputs": [],
   "source": []
  },
  {
   "cell_type": "code",
   "execution_count": null,
   "id": "c6bd894d",
   "metadata": {},
   "outputs": [],
   "source": []
  },
  {
   "cell_type": "code",
   "execution_count": null,
   "id": "f573365f",
   "metadata": {},
   "outputs": [],
   "source": []
  },
  {
   "cell_type": "code",
   "execution_count": null,
   "id": "645307d2",
   "metadata": {},
   "outputs": [],
   "source": [
    "[ [ ], [ ], [ ], [ ]  ]"
   ]
  },
  {
   "cell_type": "code",
   "execution_count": 306,
   "id": "d865f001",
   "metadata": {},
   "outputs": [],
   "source": [
    "e = np.array([ [ [2,3,4], [4,5,6] ], [ [5,6,7], [7,8,9] ] ])"
   ]
  },
  {
   "cell_type": "code",
   "execution_count": 307,
   "id": "aa39db3a",
   "metadata": {},
   "outputs": [
    {
     "data": {
      "text/plain": [
       "(2, 2, 3)"
      ]
     },
     "execution_count": 307,
     "metadata": {},
     "output_type": "execute_result"
    }
   ],
   "source": [
    "e.shape"
   ]
  },
  {
   "cell_type": "code",
   "execution_count": 305,
   "id": "69bf18d6",
   "metadata": {},
   "outputs": [
    {
     "ename": "TypeError",
     "evalue": "Field elements must be 2- or 3-tuples, got '[3, 4]'",
     "output_type": "error",
     "traceback": [
      "\u001b[0;31m---------------------------------------------------------------------------\u001b[0m",
      "\u001b[0;31mTypeError\u001b[0m                                 Traceback (most recent call last)",
      "Input \u001b[0;32mIn [305]\u001b[0m, in \u001b[0;36m<module>\u001b[0;34m\u001b[0m\n\u001b[0;32m----> 1\u001b[0m d \u001b[38;5;241m=\u001b[39m \u001b[43mnp\u001b[49m\u001b[38;5;241;43m.\u001b[39;49m\u001b[43marray\u001b[49m\u001b[43m(\u001b[49m\u001b[43m[\u001b[49m\u001b[43m[\u001b[49m\u001b[38;5;241;43m2\u001b[39;49m\u001b[43m,\u001b[49m\u001b[38;5;241;43m3\u001b[39;49m\u001b[43m]\u001b[49m\u001b[43m]\u001b[49m\u001b[43m,\u001b[49m\u001b[43m[\u001b[49m\u001b[43m[\u001b[49m\u001b[38;5;241;43m3\u001b[39;49m\u001b[43m,\u001b[49m\u001b[38;5;241;43m4\u001b[39;49m\u001b[43m]\u001b[49m\u001b[43m]\u001b[49m\u001b[43m)\u001b[49m\n\u001b[1;32m      3\u001b[0m d\u001b[38;5;241m.\u001b[39mshape\n",
      "\u001b[0;31mTypeError\u001b[0m: Field elements must be 2- or 3-tuples, got '[3, 4]'"
     ]
    }
   ],
   "source": [
    "d = np.array([[2,3]],[[3,4]])\n",
    "\n",
    "d.shape"
   ]
  },
  {
   "cell_type": "code",
   "execution_count": 146,
   "id": "9fe7c750",
   "metadata": {},
   "outputs": [
    {
     "data": {
      "text/plain": [
       "array([1, 2, 3, 4, 5])"
      ]
     },
     "execution_count": 146,
     "metadata": {},
     "output_type": "execute_result"
    }
   ],
   "source": [
    "# Creating an array from a list\n",
    "arr = np.array([1, 2, 3, 4, 5])\n",
    "arr"
   ]
  },
  {
   "cell_type": "code",
   "execution_count": 147,
   "id": "19d6ec76",
   "metadata": {},
   "outputs": [
    {
     "data": {
      "text/plain": [
       "(5,)"
      ]
     },
     "execution_count": 147,
     "metadata": {},
     "output_type": "execute_result"
    }
   ],
   "source": [
    "arr.shape"
   ]
  },
  {
   "cell_type": "code",
   "execution_count": 323,
   "id": "267c97bd",
   "metadata": {},
   "outputs": [],
   "source": [
    "a = np.array([1,3,5])"
   ]
  },
  {
   "cell_type": "code",
   "execution_count": 327,
   "id": "8ba1ac47",
   "metadata": {},
   "outputs": [],
   "source": [
    "h = np.array([[0,0,0,0,0],[0,0,0,0,0],[0,0,0,0,0]])"
   ]
  },
  {
   "cell_type": "code",
   "execution_count": 328,
   "id": "44e04fde",
   "metadata": {},
   "outputs": [
    {
     "data": {
      "text/plain": [
       "(3, 5)"
      ]
     },
     "execution_count": 328,
     "metadata": {},
     "output_type": "execute_result"
    }
   ],
   "source": [
    "h.shape"
   ]
  },
  {
   "cell_type": "code",
   "execution_count": 329,
   "id": "e8f0f065",
   "metadata": {},
   "outputs": [
    {
     "data": {
      "text/plain": [
       "array([[0., 0., 0., 0., 0., 0., 0.],\n",
       "       [0., 0., 0., 0., 0., 0., 0.],\n",
       "       [0., 0., 0., 0., 0., 0., 0.],\n",
       "       [0., 0., 0., 0., 0., 0., 0.],\n",
       "       [0., 0., 0., 0., 0., 0., 0.],\n",
       "       [0., 0., 0., 0., 0., 0., 0.]])"
      ]
     },
     "execution_count": 329,
     "metadata": {},
     "output_type": "execute_result"
    }
   ],
   "source": [
    "np.zeros((6,7))"
   ]
  },
  {
   "cell_type": "code",
   "execution_count": 148,
   "id": "921b5065",
   "metadata": {},
   "outputs": [
    {
     "data": {
      "text/plain": [
       "array([[0., 0., 0., 0.],\n",
       "       [0., 0., 0., 0.],\n",
       "       [0., 0., 0., 0.]])"
      ]
     },
     "execution_count": 148,
     "metadata": {},
     "output_type": "execute_result"
    }
   ],
   "source": [
    "# Creating a 2D array with zeros\n",
    "zeros_array = np.zeros((3, 4))\n",
    "zeros_array"
   ]
  },
  {
   "cell_type": "code",
   "execution_count": 149,
   "id": "0046aeb2",
   "metadata": {},
   "outputs": [
    {
     "data": {
      "text/plain": [
       "(3, 4)"
      ]
     },
     "execution_count": 149,
     "metadata": {},
     "output_type": "execute_result"
    }
   ],
   "source": [
    "zeros_array.shape"
   ]
  },
  {
   "cell_type": "code",
   "execution_count": 152,
   "id": "1c1449e8",
   "metadata": {},
   "outputs": [],
   "source": [
    "three_d_array = np.array([[[1, 2, 3, 4],\n",
    "                           [5, 6, 7, 8],\n",
    "                           [9, 10, 11, 12]],\n",
    "                          \n",
    "                          [[13, 14, 15, 16],\n",
    "                           [17, 18, 19, 20],\n",
    "                           [21, 22, 23, 24]]])"
   ]
  },
  {
   "cell_type": "code",
   "execution_count": 151,
   "id": "da33c54f",
   "metadata": {},
   "outputs": [
    {
     "data": {
      "text/plain": [
       "(2, 3, 4)"
      ]
     },
     "execution_count": 151,
     "metadata": {},
     "output_type": "execute_result"
    }
   ],
   "source": [
    "three_d_array.shape"
   ]
  },
  {
   "cell_type": "code",
   "execution_count": 330,
   "id": "92ee7612",
   "metadata": {},
   "outputs": [
    {
     "data": {
      "text/plain": [
       "array([[[1., 1., 1., 1., 1.],\n",
       "        [1., 1., 1., 1., 1.],\n",
       "        [1., 1., 1., 1., 1.],\n",
       "        [1., 1., 1., 1., 1.]],\n",
       "\n",
       "       [[1., 1., 1., 1., 1.],\n",
       "        [1., 1., 1., 1., 1.],\n",
       "        [1., 1., 1., 1., 1.],\n",
       "        [1., 1., 1., 1., 1.]],\n",
       "\n",
       "       [[1., 1., 1., 1., 1.],\n",
       "        [1., 1., 1., 1., 1.],\n",
       "        [1., 1., 1., 1., 1.],\n",
       "        [1., 1., 1., 1., 1.]]])"
      ]
     },
     "execution_count": 330,
     "metadata": {},
     "output_type": "execute_result"
    }
   ],
   "source": [
    "np.ones((3,4,5))"
   ]
  },
  {
   "cell_type": "code",
   "execution_count": 45,
   "id": "21ee7813",
   "metadata": {},
   "outputs": [
    {
     "data": {
      "text/plain": [
       "array([[1., 1., 1., 1.],\n",
       "       [1., 1., 1., 1.]])"
      ]
     },
     "execution_count": 45,
     "metadata": {},
     "output_type": "execute_result"
    }
   ],
   "source": [
    "ones_array = np.ones((2,4))\n",
    "ones_array"
   ]
  },
  {
   "cell_type": "code",
   "execution_count": 269,
   "id": "0f6d8541",
   "metadata": {},
   "outputs": [
    {
     "data": {
      "text/plain": [
       "array([0, 1, 2, 3, 4, 5, 6, 7, 8, 9])"
      ]
     },
     "execution_count": 269,
     "metadata": {},
     "output_type": "execute_result"
    }
   ],
   "source": [
    "range_array = np.arange(0, 10)\n",
    "range_array"
   ]
  },
  {
   "cell_type": "code",
   "execution_count": 50,
   "id": "e3ca7e92",
   "metadata": {},
   "outputs": [
    {
     "data": {
      "text/plain": [
       "array([[1., 0., 0., 0., 0.],\n",
       "       [0., 1., 0., 0., 0.],\n",
       "       [0., 0., 1., 0., 0.],\n",
       "       [0., 0., 0., 1., 0.],\n",
       "       [0., 0., 0., 0., 1.]])"
      ]
     },
     "execution_count": 50,
     "metadata": {},
     "output_type": "execute_result"
    }
   ],
   "source": [
    "eye_array = np.eye(5)\n",
    "eye_array"
   ]
  },
  {
   "cell_type": "code",
   "execution_count": 270,
   "id": "9aa742d6",
   "metadata": {},
   "outputs": [
    {
     "name": "stdout",
     "output_type": "stream",
     "text": [
      "[10 10 10 10 10]\n"
     ]
    }
   ],
   "source": [
    "array_of_fives = np.full(5, 10)\n",
    "\n",
    "print(array_of_fives)"
   ]
  },
  {
   "cell_type": "code",
   "execution_count": 331,
   "id": "5d57b4a2",
   "metadata": {},
   "outputs": [
    {
     "name": "stdout",
     "output_type": "stream",
     "text": [
      "0\n",
      "1\n",
      "2\n",
      "3\n",
      "4\n"
     ]
    }
   ],
   "source": [
    "for i in range(5):\n",
    "    print(i)"
   ]
  },
  {
   "cell_type": "code",
   "execution_count": 336,
   "id": "9540d4e3",
   "metadata": {},
   "outputs": [
    {
     "data": {
      "text/plain": [
       "array([0, 2, 4])"
      ]
     },
     "execution_count": 336,
     "metadata": {},
     "output_type": "execute_result"
    }
   ],
   "source": [
    "np.arange(0,5,2)"
   ]
  },
  {
   "cell_type": "code",
   "execution_count": null,
   "id": "49d71d7d",
   "metadata": {},
   "outputs": [],
   "source": []
  },
  {
   "cell_type": "code",
   "execution_count": null,
   "id": "987aac7a",
   "metadata": {},
   "outputs": [],
   "source": []
  },
  {
   "cell_type": "code",
   "execution_count": null,
   "id": "94311375",
   "metadata": {},
   "outputs": [],
   "source": []
  },
  {
   "cell_type": "code",
   "execution_count": null,
   "id": "64a8575f",
   "metadata": {},
   "outputs": [],
   "source": []
  },
  {
   "cell_type": "markdown",
   "id": "67b5b8a3",
   "metadata": {},
   "source": [
    "NumPy provides a variety of functions for generating random numbers and random arrays. Here's some commonly used random methods in NumPy:\n",
    "\n",
    "### 1. `numpy.random.rand`:\n",
    "\n",
    "- **Description:** Generates random values in the half-open interval [0.0, 1.0].\n",
    "- **Syntax:**\n",
    "  ```python\n",
    "  numpy.random.rand(d0, d1, ..., dn)\n",
    "  ```\n",
    "- **Example:**\n"
   ]
  },
  {
   "cell_type": "code",
   "execution_count": 341,
   "id": "04f71a25",
   "metadata": {},
   "outputs": [
    {
     "data": {
      "text/plain": [
       "array([[0.5085393 , 0.66513201, 0.53299505],\n",
       "       [0.89126244, 0.46328502, 0.76524381]])"
      ]
     },
     "execution_count": 341,
     "metadata": {},
     "output_type": "execute_result"
    }
   ],
   "source": [
    "np.random.rand(2,3)"
   ]
  },
  {
   "cell_type": "code",
   "execution_count": null,
   "id": "0a08d5e3",
   "metadata": {},
   "outputs": [],
   "source": []
  },
  {
   "cell_type": "code",
   "execution_count": null,
   "id": "4a31d038",
   "metadata": {},
   "outputs": [],
   "source": []
  },
  {
   "cell_type": "code",
   "execution_count": 340,
   "id": "79f88e8e",
   "metadata": {},
   "outputs": [
    {
     "data": {
      "text/plain": [
       "array([[0.66571111, 0.12110197, 0.36275795]])"
      ]
     },
     "execution_count": 340,
     "metadata": {},
     "output_type": "execute_result"
    }
   ],
   "source": [
    "np.random.rand(1,3)"
   ]
  },
  {
   "cell_type": "code",
   "execution_count": null,
   "id": "cc89af9b",
   "metadata": {},
   "outputs": [],
   "source": []
  },
  {
   "cell_type": "code",
   "execution_count": null,
   "id": "3ee80aab",
   "metadata": {},
   "outputs": [],
   "source": []
  },
  {
   "cell_type": "code",
   "execution_count": null,
   "id": "1683d3d3",
   "metadata": {},
   "outputs": [],
   "source": []
  },
  {
   "cell_type": "code",
   "execution_count": null,
   "id": "9a24693c",
   "metadata": {},
   "outputs": [],
   "source": []
  },
  {
   "cell_type": "code",
   "execution_count": 144,
   "id": "1de378fb",
   "metadata": {},
   "outputs": [
    {
     "data": {
      "text/plain": [
       "array([[0.57106777, 0.33280189, 0.14550753, 0.53114553],\n",
       "       [0.39275005, 0.80923401, 0.22796018, 0.96164119],\n",
       "       [0.76245935, 0.65724421, 0.30929067, 0.17314106]])"
      ]
     },
     "execution_count": 144,
     "metadata": {},
     "output_type": "execute_result"
    }
   ],
   "source": [
    "random_values = np.random.rand(3, 4)  # 3x4 array with random values\n",
    "random_values"
   ]
  },
  {
   "cell_type": "markdown",
   "id": "9c2598ce",
   "metadata": {},
   "source": [
    "### 2. `numpy.random.randn`:\n",
    "\n",
    "- **Description:** Generates samples from a standard normal distribution (mean=0, standard deviation=1).\n",
    "- **Syntax:**\n",
    "  ```python\n",
    "  numpy.random.randn(d0, d1, ..., dn)\n",
    "  ```\n",
    "- **Example:**\n",
    "  "
   ]
  },
  {
   "cell_type": "code",
   "execution_count": 342,
   "id": "d80ee7c1",
   "metadata": {},
   "outputs": [
    {
     "data": {
      "text/plain": [
       "array([[[-2.17792881e+00, -1.15948298e+00, -7.92766411e-01,\n",
       "          6.81604363e-01, -6.13214044e-01],\n",
       "        [-8.57131140e-01, -4.54788023e-01,  7.42659678e-01,\n",
       "          1.61777523e+00,  8.47314045e-02],\n",
       "        [ 6.56688064e-01, -1.58133372e+00, -1.79473812e-01,\n",
       "          1.39389352e+00, -2.50066437e-01],\n",
       "        [ 1.37430988e-01, -2.62762615e-01,  6.96907831e-01,\n",
       "         -1.38403923e-01, -8.47941954e-01]],\n",
       "\n",
       "       [[-9.81193013e-01, -1.39213124e+00, -3.11601503e-01,\n",
       "          1.39568623e+00, -6.92136611e-01],\n",
       "        [-2.12019437e-01,  2.86945612e-01,  2.75967136e-01,\n",
       "          4.59885680e-01, -1.33747683e+00],\n",
       "        [ 3.17142180e-01, -1.00594924e-03, -1.24831221e-01,\n",
       "          1.00545916e+00,  1.01846892e-02],\n",
       "        [ 2.47041695e+00, -7.91213445e-01, -9.69686950e-01,\n",
       "          3.91036508e-01, -1.35088919e+00]],\n",
       "\n",
       "       [[-4.86161014e-01, -5.31582534e-01, -1.50050664e+00,\n",
       "         -8.10326802e-01,  2.59868121e-01],\n",
       "        [ 1.80099040e-01,  6.84308059e-01, -5.15179481e-01,\n",
       "          6.63828877e-02,  1.32691148e+00],\n",
       "        [ 4.23951197e-01, -3.42496412e-01, -7.31248221e-01,\n",
       "         -9.34517484e-01, -5.59030481e-02],\n",
       "        [-1.46630400e-01,  4.21013744e-02,  2.96381964e-02,\n",
       "         -3.29511801e-01, -9.61491841e-01]]])"
      ]
     },
     "execution_count": 342,
     "metadata": {},
     "output_type": "execute_result"
    }
   ],
   "source": [
    "np.random.randn(3,4,5)"
   ]
  },
  {
   "cell_type": "code",
   "execution_count": null,
   "id": "d0cd7bba",
   "metadata": {},
   "outputs": [],
   "source": []
  },
  {
   "cell_type": "code",
   "execution_count": null,
   "id": "9775f61c",
   "metadata": {},
   "outputs": [],
   "source": []
  },
  {
   "cell_type": "code",
   "execution_count": 54,
   "id": "a40681f8",
   "metadata": {},
   "outputs": [
    {
     "data": {
      "text/plain": [
       "array([[ 0.94984493, -1.1468955 , -0.07794204],\n",
       "       [ 1.06270331,  1.75626044, -0.85654216]])"
      ]
     },
     "execution_count": 54,
     "metadata": {},
     "output_type": "execute_result"
    }
   ],
   "source": [
    "normal_distribution = np.random.randn(2, 3)  # 2x3 array from a standard normal distribution\n",
    "normal_distribution"
   ]
  },
  {
   "cell_type": "markdown",
   "id": "a55d229e",
   "metadata": {},
   "source": [
    "### 3. `numpy.random.randint`:\n",
    "\n",
    "- **Description:** Generates random integers from a specified low (inclusive) to high (exclusive) range.\n",
    "- **Syntax:**\n",
    "  ```python\n",
    "  numpy.random.randint(low, high, size=None)\n",
    "  ```\n",
    "- **Example:**\n",
    "  "
   ]
  },
  {
   "cell_type": "code",
   "execution_count": 343,
   "id": "7e537cac",
   "metadata": {},
   "outputs": [
    {
     "data": {
      "text/plain": [
       "array([[264, 439, 126, 205, 485],\n",
       "       [400, 406, 281, 440, 253],\n",
       "       [427, 150, 457, 221, 268],\n",
       "       [473, 330, 121, 336, 163]])"
      ]
     },
     "execution_count": 343,
     "metadata": {},
     "output_type": "execute_result"
    }
   ],
   "source": [
    "np.random.randint(100, 500, (4,5))"
   ]
  },
  {
   "cell_type": "code",
   "execution_count": null,
   "id": "39336129",
   "metadata": {},
   "outputs": [],
   "source": [
    "np.random.rand(3,4) - 0.0 to 0.1 "
   ]
  },
  {
   "cell_type": "code",
   "execution_count": null,
   "id": "6695525e",
   "metadata": {},
   "outputs": [],
   "source": [
    "np.random.randn(3,4) - "
   ]
  },
  {
   "cell_type": "code",
   "execution_count": 344,
   "id": "e599e817",
   "metadata": {},
   "outputs": [
    {
     "data": {
      "text/plain": [
       "array([[2, 8, 3, 9, 1],\n",
       "       [7, 9, 6, 8, 6],\n",
       "       [6, 9, 2, 6, 8],\n",
       "       [2, 2, 6, 1, 8]])"
      ]
     },
     "execution_count": 344,
     "metadata": {},
     "output_type": "execute_result"
    }
   ],
   "source": [
    "np.random.randint(1,10,(4,5))"
   ]
  },
  {
   "cell_type": "code",
   "execution_count": 53,
   "id": "5f189827",
   "metadata": {},
   "outputs": [
    {
     "data": {
      "text/plain": [
       "array([[5, 2, 9],\n",
       "       [7, 7, 8]])"
      ]
     },
     "execution_count": 53,
     "metadata": {},
     "output_type": "execute_result"
    }
   ],
   "source": [
    "random_integers = np.random.randint(1, 10, size=(2, 3))  # 2x3 array of random integers between 1 and 9\n",
    "random_integers"
   ]
  },
  {
   "attachments": {
    "image.png": {
     "image/png": "[encoded data removed]"
    }
   },
   "cell_type": "markdown",
   "id": "b8630e7f",
   "metadata": {},
   "source": [
    "### 4. `numpy.random.uniform`:\n",
    "\n",
    "- **Description:** Generates random samples from a uniform distribution over the specified range.\n",
    "- **Syntax:**\n",
    "  ```python\n",
    "  numpy.random.uniform(low=0.0, high=1.0, size=None)\n",
    "  ```\n",
    "  \n",
    "![image.png](attachment:image.png)\n",
    "- **Example:**\n",
    " "
   ]
  },
  {
   "cell_type": "code",
   "execution_count": 347,
   "id": "fc4dfaba",
   "metadata": {},
   "outputs": [
    {
     "data": {
      "text/plain": [
       "array([[108.87925658, 101.11856434, 117.89288238, 118.04606801],\n",
       "       [103.10002371, 115.80142594, 107.07124693, 114.2207177 ],\n",
       "       [107.13683656, 118.32997579, 116.50973216, 118.66226352]])"
      ]
     },
     "execution_count": 347,
     "metadata": {},
     "output_type": "execute_result"
    }
   ],
   "source": [
    "np.random.uniform(100,120,(3,4))"
   ]
  },
  {
   "cell_type": "code",
   "execution_count": null,
   "id": "260f4298",
   "metadata": {},
   "outputs": [],
   "source": []
  },
  {
   "cell_type": "code",
   "execution_count": null,
   "id": "b51974ee",
   "metadata": {},
   "outputs": [],
   "source": []
  },
  {
   "cell_type": "code",
   "execution_count": 52,
   "id": "584977b8",
   "metadata": {},
   "outputs": [
    {
     "data": {
      "text/plain": [
       "array([[0.92935351, 0.3379969 ],\n",
       "       [0.32570348, 0.42330006]])"
      ]
     },
     "execution_count": 52,
     "metadata": {},
     "output_type": "execute_result"
    }
   ],
   "source": [
    "uniform_distribution = np.random.uniform(0, 1, size=(2, 2))  # 2x2 array of random values between 0 and 1\n",
    "uniform_distribution"
   ]
  },
  {
   "attachments": {
    "image.png": {
     "image/png": "[encoded data removed]"
    }
   },
   "cell_type": "markdown",
   "id": "b9234cb0",
   "metadata": {},
   "source": [
    "### 5. `numpy.random.normal`:\n",
    "\n",
    "- **Description:** Generates random samples from a normal (Gaussian) distribution.\n",
    "- **Syntax:**\n",
    "  ```python\n",
    "  numpy.random.normal(loc=0.0, scale=1.0, size=None)\n",
    "   \n",
    "  ```\n",
    "![image.png](attachment:image.png)\n",
    "- **Example:**\n"
   ]
  },
  {
   "cell_type": "code",
   "execution_count": 368,
   "id": "887e8e91",
   "metadata": {},
   "outputs": [
    {
     "name": "stdout",
     "output_type": "stream",
     "text": [
      "Chessboard:\n",
      "[[0 1 0 1 0 1 0 1]\n",
      " [1 0 1 0 1 0 1 0]\n",
      " [0 1 0 1 0 1 0 1]\n",
      " [1 0 1 0 1 0 1 0]\n",
      " [0 1 0 1 0 1 0 1]\n",
      " [1 0 1 0 1 0 1 0]\n",
      " [0 1 0 1 0 1 0 1]\n",
      " [1 0 1 0 1 0 1 0]]\n",
      "\n",
      "Positions of chess pieces:\n",
      "[[0 1]\n",
      " [0 3]\n",
      " [0 5]\n",
      " [0 7]\n",
      " [1 0]\n",
      " [1 2]\n",
      " [1 4]\n",
      " [1 6]\n",
      " [2 1]\n",
      " [2 3]\n",
      " [2 5]\n",
      " [2 7]\n",
      " [3 0]\n",
      " [3 2]\n",
      " [3 4]\n",
      " [3 6]\n",
      " [4 1]\n",
      " [4 3]\n",
      " [4 5]\n",
      " [4 7]\n",
      " [5 0]\n",
      " [5 2]\n",
      " [5 4]\n",
      " [5 6]\n",
      " [6 1]\n",
      " [6 3]\n",
      " [6 5]\n",
      " [6 7]\n",
      " [7 0]\n",
      " [7 2]\n",
      " [7 4]\n",
      " [7 6]]\n"
     ]
    }
   ],
   "source": [
    "import numpy as np\n",
    "\n",
    "# Create a 2D chessboard array with 0s and 1s\n",
    "chessboard = np.zeros((8, 8), dtype=int)\n",
    "\n",
    "# Place some chess pieces (1s) on the board\n",
    "chessboard[1::2, ::2] = 1  # Black squares in odd rows\n",
    "chessboard[::2, 1::2] = 1  # Black squares in even rows\n",
    "\n",
    "# Print the chessboard\n",
    "print(\"Chessboard:\")\n",
    "print(chessboard)\n",
    "\n",
    "# Use advanced indexing to extract positions of all 1s\n",
    "piece_positions = np.argwhere(chessboard == 1)\n",
    "\n",
    "print(\"\\nPositions of chess pieces:\")\n",
    "print(piece_positions)\n"
   ]
  },
  {
   "cell_type": "code",
   "execution_count": 51,
   "id": "c08e8501",
   "metadata": {},
   "outputs": [
    {
     "data": {
      "text/plain": [
       "array([[-1.02061566,  0.97205209,  0.42776472],\n",
       "       [-0.65372461, -0.25423737,  1.21714719],\n",
       "       [ 1.7477462 ,  0.8531994 ,  1.4583174 ]])"
      ]
     },
     "execution_count": 51,
     "metadata": {},
     "output_type": "execute_result"
    }
   ],
   "source": [
    "mean = 0\n",
    "std_dev = 1\n",
    "normal_distribution = np.random.normal(mean, std_dev, size=(3, 3))\n",
    "normal_distribution"
   ]
  },
  {
   "cell_type": "markdown",
   "id": "8f166e61",
   "metadata": {},
   "source": [
    "### 6. `numpy.random.choice`:\n",
    "\n",
    "- **Description:** Generates a random sample from a given 1-D array.\n",
    "- **Syntax:**\n",
    "  ```python\n",
    "  numpy.random.choice(a, size=None, replace=True, p=None)\n",
    "  ```\n",
    "- **Example:**\n",
    " "
   ]
  },
  {
   "cell_type": "code",
   "execution_count": 349,
   "id": "35e7752f",
   "metadata": {},
   "outputs": [
    {
     "data": {
      "text/plain": [
       "(200,)"
      ]
     },
     "execution_count": 349,
     "metadata": {},
     "output_type": "execute_result"
    }
   ],
   "source": [
    "li = np.arange(200)\n",
    "li.shape"
   ]
  },
  {
   "cell_type": "code",
   "execution_count": null,
   "id": "ecbb9323",
   "metadata": {},
   "outputs": [],
   "source": [
    "(8,3,2)"
   ]
  },
  {
   "cell_type": "code",
   "execution_count": null,
   "id": "595dbc22",
   "metadata": {},
   "outputs": [],
   "source": []
  },
  {
   "cell_type": "code",
   "execution_count": null,
   "id": "a60cdd25",
   "metadata": {},
   "outputs": [],
   "source": []
  },
  {
   "cell_type": "code",
   "execution_count": 350,
   "id": "38e21722",
   "metadata": {},
   "outputs": [
    {
     "data": {
      "text/plain": [
       "array([[ 71,  46,  81, 133],\n",
       "       [173,  41, 119,  21],\n",
       "       [ 51,  43,  98,   6]])"
      ]
     },
     "execution_count": 350,
     "metadata": {},
     "output_type": "execute_result"
    }
   ],
   "source": [
    "np.random.choice(li, (3,4))"
   ]
  },
  {
   "cell_type": "code",
   "execution_count": null,
   "id": "87a6a724",
   "metadata": {},
   "outputs": [],
   "source": []
  },
  {
   "cell_type": "code",
   "execution_count": null,
   "id": "55edde16",
   "metadata": {},
   "outputs": [],
   "source": []
  },
  {
   "cell_type": "code",
   "execution_count": 56,
   "id": "f87d16d0",
   "metadata": {},
   "outputs": [
    {
     "data": {
      "text/plain": [
       "array([[1, 2],\n",
       "       [3, 1]])"
      ]
     },
     "execution_count": 56,
     "metadata": {},
     "output_type": "execute_result"
    }
   ],
   "source": [
    "choices = np.array([1, 2, 3, 4, 5])\n",
    "random_choice = np.random.choice(choices, size=(2, 2))  # 2x2 array with random elements from choices\n",
    "random_choice"
   ]
  },
  {
   "cell_type": "code",
   "execution_count": null,
   "id": "70f99d72",
   "metadata": {},
   "outputs": [],
   "source": []
  },
  {
   "cell_type": "markdown",
   "id": "9c404537",
   "metadata": {},
   "source": [
    "> **Exercise:** Make an array containing 5 elements between 1 and 9 (both inclusive) such that all elements are equidistant with each other. \n",
    "\n",
    "- 1,2,3,4,5,6,7,8,9 - 5 numbers \n",
    "\n",
    "- O/p required - 1,3,5,7,9"
   ]
  },
  {
   "cell_type": "code",
   "execution_count": 355,
   "id": "14056588",
   "metadata": {},
   "outputs": [
    {
     "data": {
      "text/plain": [
       "array([1, 3, 5, 7, 9])"
      ]
     },
     "execution_count": 355,
     "metadata": {},
     "output_type": "execute_result"
    }
   ],
   "source": [
    "np.arange(1,10,2)"
   ]
  },
  {
   "cell_type": "code",
   "execution_count": 354,
   "id": "cfe9d469",
   "metadata": {},
   "outputs": [
    {
     "data": {
      "text/plain": [
       "array([[1., 0., 0., 0., 0.],\n",
       "       [0., 1., 0., 0., 0.],\n",
       "       [0., 0., 1., 0., 0.],\n",
       "       [0., 0., 0., 1., 0.],\n",
       "       [0., 0., 0., 0., 1.]])"
      ]
     },
     "execution_count": 354,
     "metadata": {},
     "output_type": "execute_result"
    }
   ],
   "source": [
    "np.eye(5)"
   ]
  },
  {
   "cell_type": "markdown",
   "id": "73cb157f",
   "metadata": {},
   "source": [
    "`numpy.linspace` is a function in the NumPy library that generates evenly spaced numbers over a specified range. The syntax for `numpy.linspace` is as follows:\n",
    "\n",
    "```python\n",
    "numpy.linspace(start, stop, num=50, endpoint=True, retstep=False, dtype=None, axis=0)\n",
    "```\n",
    "\n",
    "- `start`: The starting value of the sequence.\n",
    "- `stop`: The end value of the sequence.\n",
    "- `num`: The number of evenly spaced samples to generate. Default is 50.\n",
    "- `endpoint`: If `True`, `stop` is the last value in the range. If `False`, `stop` is not included. Default is `True`.\n",
    "- `retstep`: If `True`, return the step size between the numbers. Default is `False`.\n",
    "- `dtype`: The data type of the output array. If not specified, the data type is inferred from the input values.\n",
    "- `axis`: The axis in the result along which the `linspace` samples are stored. The default is 0."
   ]
  },
  {
   "cell_type": "code",
   "execution_count": 360,
   "id": "293e4ba3",
   "metadata": {},
   "outputs": [
    {
     "data": {
      "text/plain": [
       "array([2.        , 2.77777778, 3.55555556, 4.33333333, 5.11111111,\n",
       "       5.88888889, 6.66666667, 7.44444444, 8.22222222, 9.        ])"
      ]
     },
     "execution_count": 360,
     "metadata": {},
     "output_type": "execute_result"
    }
   ],
   "source": [
    "np.linspace(2,9,10,dtype=float)"
   ]
  },
  {
   "cell_type": "code",
   "execution_count": null,
   "id": "612a4cde",
   "metadata": {},
   "outputs": [],
   "source": []
  },
  {
   "cell_type": "code",
   "execution_count": null,
   "id": "649086bb",
   "metadata": {},
   "outputs": [],
   "source": []
  },
  {
   "cell_type": "code",
   "execution_count": null,
   "id": "6a3b145c",
   "metadata": {},
   "outputs": [],
   "source": []
  },
  {
   "cell_type": "code",
   "execution_count": 46,
   "id": "a5038b73",
   "metadata": {},
   "outputs": [
    {
     "data": {
      "text/plain": [
       "array([1., 3., 5., 7., 9.])"
      ]
     },
     "execution_count": 46,
     "metadata": {},
     "output_type": "execute_result"
    }
   ],
   "source": [
    "equidistant_array = np.linspace(1, 9, num=5)\n",
    "\n",
    "equidistant_array"
   ]
  },
  {
   "cell_type": "code",
   "execution_count": 29,
   "id": "0692060f",
   "metadata": {},
   "outputs": [
    {
     "data": {
      "text/plain": [
       "numpy.ndarray"
      ]
     },
     "execution_count": 29,
     "metadata": {},
     "output_type": "execute_result"
    }
   ],
   "source": [
    "type(arr)"
   ]
  },
  {
   "cell_type": "markdown",
   "id": "e41d2d20",
   "metadata": {},
   "source": [
    "> `numpy.ndarray` is the fundamental data structure in NumPy, representing a multidimensional, homogeneous array. It is short for \"NumPy n-dimensional array.\""
   ]
  },
  {
   "cell_type": "code",
   "execution_count": null,
   "id": "872c30a3",
   "metadata": {},
   "outputs": [],
   "source": [
    "Generate a 4x4 array of random values from a standard normal distribution."
   ]
  },
  {
   "cell_type": "code",
   "execution_count": 361,
   "id": "f9fa4513",
   "metadata": {},
   "outputs": [],
   "source": [
    "array = np.random.randn(4,4)"
   ]
  },
  {
   "cell_type": "code",
   "execution_count": 362,
   "id": "eee212eb",
   "metadata": {},
   "outputs": [
    {
     "data": {
      "text/plain": [
       "array([[-0.11891483,  0.50426516, -1.29979687, -0.43925292],\n",
       "       [-0.33276677, -1.38800347,  1.56160916, -0.61051722],\n",
       "       [-0.23460218,  0.92316408,  1.55815428,  0.45457666],\n",
       "       [ 0.21518329, -0.96969428,  0.98011132,  0.6034562 ]])"
      ]
     },
     "execution_count": 362,
     "metadata": {},
     "output_type": "execute_result"
    }
   ],
   "source": [
    "array"
   ]
  },
  {
   "cell_type": "markdown",
   "id": "ed762d12",
   "metadata": {},
   "source": [
    "**EXERCISES:**\n",
    "\n",
    "1. Generate a 3x3 array of random values from a uniform distribution between 0 and 1.\n",
    "2. Create a 1D array of 10 random integers between 1 and 100.\n",
    "3. Generate a 4x4 array of random values from a standard normal distribution.\n",
    "4. Create a 2x3 array of random values from a uniform distribution between -1 and 1.\n",
    "5. Generate a random sample of 5 elements from the array [1, 2, 3, 4, 5] with replacement.\n",
    "6. Create a 3x3 array where each element is randomly chosen from the set {0, 1, 2, 3, 4}.\n",
    "7. Generate a 1D array of 20 random values from a normal distribution with mean 10 and standard deviation 2.\n",
    "8. Create a 2x2 array of random integers between 0 and 10, inclusive.\n",
    "9. Generate a random sample of 10 elements from the array [1, 2, 3, 4, 5] without replacement.\n",
    "10. Create a 5x5 array of random values from a uniform distribution between -10 and 10.\n"
   ]
  },
  {
   "cell_type": "code",
   "execution_count": 157,
   "id": "42ac1b0f",
   "metadata": {},
   "outputs": [
    {
     "data": {
      "text/plain": [
       "array([10.11028195, 10.55996863, 10.29521861,  8.73381582, 10.41697359,\n",
       "       10.70503613, 10.02809634, 12.13051963, 12.54702463, 10.08395918,\n",
       "        9.02090658, 10.18872437,  8.01254225, 12.44717462,  9.94793278,\n",
       "        9.90316311,  9.08144751,  8.53268494, 12.08695492,  9.45375615])"
      ]
     },
     "execution_count": 157,
     "metadata": {},
     "output_type": "execute_result"
    }
   ],
   "source": [
    "np.random.normal(10, 2, size=(20,))"
   ]
  },
  {
   "cell_type": "markdown",
   "id": "3b837bd5",
   "metadata": {},
   "source": [
    "4. **Array Shape and Dimensions:**\n",
    "   - NumPy arrays can have multiple dimensions, and you can check the shape and dimensions using the `shape` and `ndim` attributes.\n",
    "     "
   ]
  },
  {
   "cell_type": "code",
   "execution_count": null,
   "id": "95e83bc0",
   "metadata": {},
   "outputs": [],
   "source": [
    "a = [] -> list"
   ]
  },
  {
   "cell_type": "code",
   "execution_count": 377,
   "id": "36ea887e",
   "metadata": {},
   "outputs": [],
   "source": [
    "a = np.array([1,\n",
    "              2,\n",
    "              3,\n",
    "              4])"
   ]
  },
  {
   "cell_type": "code",
   "execution_count": 378,
   "id": "37efbce1",
   "metadata": {},
   "outputs": [
    {
     "data": {
      "text/plain": [
       "(4,)"
      ]
     },
     "execution_count": 378,
     "metadata": {},
     "output_type": "execute_result"
    }
   ],
   "source": [
    "a.shape"
   ]
  },
  {
   "cell_type": "code",
   "execution_count": 379,
   "id": "1cd6e016",
   "metadata": {},
   "outputs": [
    {
     "data": {
      "text/plain": [
       "1"
      ]
     },
     "execution_count": 379,
     "metadata": {},
     "output_type": "execute_result"
    }
   ],
   "source": [
    "a.ndim"
   ]
  },
  {
   "cell_type": "code",
   "execution_count": 383,
   "id": "7dc3c3b7",
   "metadata": {},
   "outputs": [
    {
     "data": {
      "text/plain": [
       "(1, 3, 2)"
      ]
     },
     "execution_count": 383,
     "metadata": {},
     "output_type": "execute_result"
    }
   ],
   "source": [
    "np.array([[[3,2],[3,4],[5,4]]]).shape"
   ]
  },
  {
   "cell_type": "code",
   "execution_count": null,
   "id": "40d18c44",
   "metadata": {},
   "outputs": [],
   "source": []
  },
  {
   "cell_type": "code",
   "execution_count": null,
   "id": "7981b9c8",
   "metadata": {},
   "outputs": [],
   "source": []
  },
  {
   "cell_type": "code",
   "execution_count": 384,
   "id": "742d1597",
   "metadata": {},
   "outputs": [],
   "source": [
    "four_d_array = np.array([[[[1,2],\n",
    "                           [2,3],\n",
    "                           [4,4]]]])"
   ]
  },
  {
   "cell_type": "code",
   "execution_count": 385,
   "id": "de7f82f5",
   "metadata": {},
   "outputs": [
    {
     "data": {
      "text/plain": [
       "(1, 1, 3, 2)"
      ]
     },
     "execution_count": 385,
     "metadata": {},
     "output_type": "execute_result"
    }
   ],
   "source": [
    "four_d_array.shape"
   ]
  },
  {
   "cell_type": "code",
   "execution_count": 388,
   "id": "cae92b13",
   "metadata": {},
   "outputs": [
    {
     "data": {
      "text/plain": [
       "(1, 1, 1, 4)"
      ]
     },
     "execution_count": 388,
     "metadata": {},
     "output_type": "execute_result"
    }
   ],
   "source": [
    "np.array([1,2,3,4],ndmin=4).shape"
   ]
  },
  {
   "cell_type": "code",
   "execution_count": null,
   "id": "ef315109",
   "metadata": {},
   "outputs": [],
   "source": []
  },
  {
   "cell_type": "code",
   "execution_count": 16,
   "id": "1a707ae2",
   "metadata": {},
   "outputs": [
    {
     "name": "stdout",
     "output_type": "stream",
     "text": [
      "(5,)\n",
      "1\n"
     ]
    }
   ],
   "source": [
    "# Checking the shape and dimensions\n",
    "print(arr.shape)    # (5,)\n",
    "print(arr.ndim)     # 1"
   ]
  },
  {
   "cell_type": "code",
   "execution_count": 158,
   "id": "6e67c1da",
   "metadata": {},
   "outputs": [
    {
     "data": {
      "text/plain": [
       "(2, 3, 4)"
      ]
     },
     "execution_count": 158,
     "metadata": {},
     "output_type": "execute_result"
    }
   ],
   "source": [
    "three_d_array.shape"
   ]
  },
  {
   "cell_type": "code",
   "execution_count": 160,
   "id": "cd58c5d7",
   "metadata": {},
   "outputs": [
    {
     "data": {
      "text/plain": [
       "3"
      ]
     },
     "execution_count": 160,
     "metadata": {},
     "output_type": "execute_result"
    }
   ],
   "source": [
    "three_d_array.ndim"
   ]
  },
  {
   "cell_type": "code",
   "execution_count": 364,
   "id": "04e386d2",
   "metadata": {},
   "outputs": [
    {
     "name": "stderr",
     "output_type": "stream",
     "text": [
      "/var/folders/1q/461kwq6d42j7t8d6yytb5nyw0000gp/T/ipykernel_63581/43088498.py:1: VisibleDeprecationWarning: Creating an ndarray from ragged nested sequences (which is a list-or-tuple of lists-or-tuples-or ndarrays with different lengths or shapes) is deprecated. If you meant to do this, you must specify 'dtype=object' when creating the ndarray.\n",
      "  p = np.array([\n"
     ]
    }
   ],
   "source": [
    "p = np.array([\n",
    "\n",
    "[[1,2], [2,3]], \n",
    "[[4,5],[6,7],[6,7],[8,9]]\n",
    "\n",
    "])"
   ]
  },
  {
   "cell_type": "code",
   "execution_count": 365,
   "id": "1bc75994",
   "metadata": {},
   "outputs": [
    {
     "data": {
      "text/plain": [
       "(2,)"
      ]
     },
     "execution_count": 365,
     "metadata": {},
     "output_type": "execute_result"
    }
   ],
   "source": [
    "p.shape"
   ]
  },
  {
   "cell_type": "code",
   "execution_count": 366,
   "id": "a50fbee2",
   "metadata": {},
   "outputs": [],
   "source": [
    "q = np.array([ [[2,3,4],[4,5,6],[6,7,8]], [[12,46,23], [45,75,76],[53,43,23]],\n",
    "  [[12,4,53], [32,45,34], [244,532,453]] ] )"
   ]
  },
  {
   "cell_type": "code",
   "execution_count": 367,
   "id": "21b9e88d",
   "metadata": {},
   "outputs": [
    {
     "data": {
      "text/plain": [
       "(3, 3, 3)"
      ]
     },
     "execution_count": 367,
     "metadata": {},
     "output_type": "execute_result"
    }
   ],
   "source": [
    "q.shape"
   ]
  },
  {
   "cell_type": "markdown",
   "id": "b4bcf17d",
   "metadata": {},
   "source": [
    "5. **Reshaping in NumPy:**\n",
    "\n",
    "**Definition:**\n",
    "**Reshaping** refers to changing the shape (dimensions) of an array without changing its data. The total number of elements in the array must remain the same after reshaping.\n",
    "\n",
    "**Examples:**\n",
    "1. **Reshape to a Different Shape:**\n"
   ]
  },
  {
   "cell_type": "code",
   "execution_count": 389,
   "id": "588e007b",
   "metadata": {},
   "outputs": [
    {
     "name": "stderr",
     "output_type": "stream",
     "text": [
      "/var/folders/1q/461kwq6d42j7t8d6yytb5nyw0000gp/T/ipykernel_63581/2712701406.py:1: VisibleDeprecationWarning: Creating an ndarray from ragged nested sequences (which is a list-or-tuple of lists-or-tuples-or ndarrays with different lengths or shapes) is deprecated. If you meant to do this, you must specify 'dtype=object' when creating the ndarray.\n",
      "  np.array([[1,2,3],[4]])\n"
     ]
    },
    {
     "data": {
      "text/plain": [
       "array([list([1, 2, 3]), list([4])], dtype=object)"
      ]
     },
     "execution_count": 389,
     "metadata": {},
     "output_type": "execute_result"
    }
   ],
   "source": [
    "np.array([[1,2,3],[4]])"
   ]
  },
  {
   "cell_type": "code",
   "execution_count": 390,
   "id": "3c0dcb60",
   "metadata": {},
   "outputs": [
    {
     "name": "stderr",
     "output_type": "stream",
     "text": [
      "/var/folders/1q/461kwq6d42j7t8d6yytb5nyw0000gp/T/ipykernel_63581/2515139123.py:1: VisibleDeprecationWarning: Creating an ndarray from ragged nested sequences (which is a list-or-tuple of lists-or-tuples-or ndarrays with different lengths or shapes) is deprecated. If you meant to do this, you must specify 'dtype=object' when creating the ndarray.\n",
      "  np.array([[1,2,3],[4]]).shape\n"
     ]
    },
    {
     "data": {
      "text/plain": [
       "(2,)"
      ]
     },
     "execution_count": 390,
     "metadata": {},
     "output_type": "execute_result"
    }
   ],
   "source": [
    "np.array([[1,2,3],[4]]).shape"
   ]
  },
  {
   "cell_type": "code",
   "execution_count": 391,
   "id": "25c6d437",
   "metadata": {},
   "outputs": [
    {
     "data": {
      "text/plain": [
       "array([ 1,  2,  3,  4,  5,  6,  7,  8,  9, 10, 11, 12])"
      ]
     },
     "execution_count": 391,
     "metadata": {},
     "output_type": "execute_result"
    }
   ],
   "source": [
    "np.arange(1, 13).shape"
   ]
  },
  {
   "cell_type": "code",
   "execution_count": 398,
   "id": "28f84479",
   "metadata": {},
   "outputs": [
    {
     "data": {
      "text/plain": [
       "array([ 1,  2,  3,  4,  5,  6,  7,  8,  9, 10, 11, 12])"
      ]
     },
     "execution_count": 398,
     "metadata": {},
     "output_type": "execute_result"
    }
   ],
   "source": [
    "a = np.arange(1,13)\n",
    "a"
   ]
  },
  {
   "cell_type": "code",
   "execution_count": 401,
   "id": "02290486",
   "metadata": {},
   "outputs": [
    {
     "data": {
      "text/plain": [
       "array([[[ 1,  2],\n",
       "        [ 3,  4],\n",
       "        [ 5,  6]],\n",
       "\n",
       "       [[ 7,  8],\n",
       "        [ 9, 10],\n",
       "        [11, 12]]])"
      ]
     },
     "execution_count": 401,
     "metadata": {},
     "output_type": "execute_result"
    }
   ],
   "source": [
    "a.reshape(2,3,2)"
   ]
  },
  {
   "cell_type": "code",
   "execution_count": 396,
   "id": "eefedf9a",
   "metadata": {},
   "outputs": [
    {
     "ename": "ValueError",
     "evalue": "cannot reshape array of size 12 into shape (4,2)",
     "output_type": "error",
     "traceback": [
      "\u001b[0;31m---------------------------------------------------------------------------\u001b[0m",
      "\u001b[0;31mValueError\u001b[0m                                Traceback (most recent call last)",
      "Input \u001b[0;32mIn [396]\u001b[0m, in \u001b[0;36m<module>\u001b[0;34m\u001b[0m\n\u001b[0;32m----> 1\u001b[0m \u001b[43ma\u001b[49m\u001b[38;5;241;43m.\u001b[39;49m\u001b[43mreshape\u001b[49m\u001b[43m(\u001b[49m\u001b[38;5;241;43m4\u001b[39;49m\u001b[43m,\u001b[49m\u001b[38;5;241;43m2\u001b[39;49m\u001b[43m)\u001b[49m\n",
      "\u001b[0;31mValueError\u001b[0m: cannot reshape array of size 12 into shape (4,2)"
     ]
    }
   ],
   "source": [
    "a.reshape(4,2)"
   ]
  },
  {
   "cell_type": "code",
   "execution_count": null,
   "id": "05b5adf0",
   "metadata": {},
   "outputs": [],
   "source": []
  },
  {
   "cell_type": "code",
   "execution_count": 400,
   "id": "2ac2b3e0",
   "metadata": {},
   "outputs": [
    {
     "data": {
      "text/plain": [
       "array([[1, 2],\n",
       "       [3, 4],\n",
       "       [5, 6],\n",
       "       [7, 8]])"
      ]
     },
     "execution_count": 400,
     "metadata": {},
     "output_type": "execute_result"
    }
   ],
   "source": [
    "np.resize(a,(4,2))"
   ]
  },
  {
   "cell_type": "code",
   "execution_count": null,
   "id": "ab75397e",
   "metadata": {},
   "outputs": [],
   "source": []
  },
  {
   "cell_type": "code",
   "execution_count": null,
   "id": "cfc24b67",
   "metadata": {},
   "outputs": [],
   "source": []
  },
  {
   "cell_type": "code",
   "execution_count": null,
   "id": "947b3421",
   "metadata": {},
   "outputs": [],
   "source": []
  },
  {
   "cell_type": "code",
   "execution_count": 161,
   "id": "5dda3ba1",
   "metadata": {},
   "outputs": [
    {
     "name": "stdout",
     "output_type": "stream",
     "text": [
      "[ 1  2  3  4  5  6  7  8  9 10 11 12]\n",
      "[[ 1  2  3  4]\n",
      " [ 5  6  7  8]\n",
      " [ 9 10 11 12]]\n"
     ]
    }
   ],
   "source": [
    "original_array = np.arange(1, 13)\n",
    "print(original_array)\n",
    "reshaped_array = original_array.reshape((3, 4))\n",
    "print(reshaped_array)"
   ]
  },
  {
   "cell_type": "markdown",
   "id": "f2201bb8",
   "metadata": {},
   "source": [
    "2. **Reshape to a Different Dimension:**\n",
    " "
   ]
  },
  {
   "cell_type": "code",
   "execution_count": null,
   "id": "4acf2819",
   "metadata": {},
   "outputs": [],
   "source": []
  },
  {
   "cell_type": "code",
   "execution_count": 162,
   "id": "1bbe2ca7",
   "metadata": {},
   "outputs": [
    {
     "name": "stdout",
     "output_type": "stream",
     "text": [
      "[ 1  2  3  4  5  6  7  8  9 10 11 12]\n",
      "[[[ 1  2]\n",
      "  [ 3  4]]\n",
      "\n",
      " [[ 5  6]\n",
      "  [ 7  8]]\n",
      "\n",
      " [[ 9 10]\n",
      "  [11 12]]]\n"
     ]
    }
   ],
   "source": [
    "original_array = np.arange(1, 13)\n",
    "print(original_array)\n",
    "reshaped_array = original_array.reshape((3, 2, 2))\n",
    "print(reshaped_array)"
   ]
  },
  {
   "cell_type": "code",
   "execution_count": 165,
   "id": "dd634379",
   "metadata": {},
   "outputs": [
    {
     "data": {
      "text/plain": [
       "array([[[0.34436248, 0.54022747],\n",
       "        [0.65030922, 0.30279522],\n",
       "        [0.42405637, 0.53076377],\n",
       "        [0.9543226 , 0.19432724]],\n",
       "\n",
       "       [[0.31348266, 0.72232527],\n",
       "        [0.78512396, 0.20751156],\n",
       "        [0.62015446, 0.35717741],\n",
       "        [0.50827239, 0.40049559]],\n",
       "\n",
       "       [[0.94440882, 0.17027084],\n",
       "        [0.72077954, 0.72148934],\n",
       "        [0.82738079, 0.89062214],\n",
       "        [0.70852106, 0.89096225]]])"
      ]
     },
     "execution_count": 165,
     "metadata": {},
     "output_type": "execute_result"
    }
   ],
   "source": [
    "np.random.rand(3,4,2)"
   ]
  },
  {
   "cell_type": "markdown",
   "id": "f2901df7",
   "metadata": {},
   "source": [
    "6. **Resizing in NumPy:**\n",
    "\n",
    "**Definition:** **Resizing** involves changing the shape and size of an array. It can either increase or decrease the number of elements in the array.\n",
    "\n",
    "#### Examples:\n",
    "1. **Increase Size by Repetition:**\n",
    " "
   ]
  },
  {
   "cell_type": "code",
   "execution_count": null,
   "id": "fba34dc3",
   "metadata": {},
   "outputs": [],
   "source": []
  },
  {
   "cell_type": "code",
   "execution_count": null,
   "id": "588d3bac",
   "metadata": {},
   "outputs": [],
   "source": []
  },
  {
   "cell_type": "code",
   "execution_count": null,
   "id": "144acfa2",
   "metadata": {},
   "outputs": [],
   "source": [
    "np.resize(original_array, your_required_size)"
   ]
  },
  {
   "cell_type": "code",
   "execution_count": null,
   "id": "3dd99d9f",
   "metadata": {},
   "outputs": [],
   "source": []
  },
  {
   "cell_type": "code",
   "execution_count": null,
   "id": "6ab0ff6e",
   "metadata": {},
   "outputs": [],
   "source": []
  },
  {
   "cell_type": "code",
   "execution_count": null,
   "id": "3fc8c0cd",
   "metadata": {},
   "outputs": [],
   "source": []
  },
  {
   "cell_type": "code",
   "execution_count": 406,
   "id": "4d7b7665",
   "metadata": {},
   "outputs": [
    {
     "data": {
      "text/plain": [
       "array([ 0,  1,  2,  3,  4,  5,  6,  7,  8,  9, 10, 11, 12, 13, 14, 15, 16,\n",
       "       17, 18, 19])"
      ]
     },
     "execution_count": 406,
     "metadata": {},
     "output_type": "execute_result"
    }
   ],
   "source": [
    "a = np.arange(20)\n",
    "a"
   ]
  },
  {
   "cell_type": "code",
   "execution_count": 408,
   "id": "acdb62eb",
   "metadata": {},
   "outputs": [
    {
     "data": {
      "text/plain": [
       "array([[ 0,  1,  2,  3],\n",
       "       [ 4,  5,  6,  7],\n",
       "       [ 8,  9, 10, 11],\n",
       "       [12, 13, 14, 15],\n",
       "       [16, 17, 18, 19]])"
      ]
     },
     "execution_count": 408,
     "metadata": {},
     "output_type": "execute_result"
    }
   ],
   "source": [
    "a.reshape(5,4)"
   ]
  },
  {
   "cell_type": "code",
   "execution_count": 411,
   "id": "eb5a24e9",
   "metadata": {},
   "outputs": [],
   "source": [
    "a = np.random.rand(8,3)"
   ]
  },
  {
   "cell_type": "code",
   "execution_count": null,
   "id": "e162a45e",
   "metadata": {},
   "outputs": [],
   "source": [
    "8,3\n",
    "\n",
    "3,8\n",
    "\n",
    "6,2,2\n",
    "\n",
    "6,4\n",
    "\n",
    "4,6"
   ]
  },
  {
   "cell_type": "code",
   "execution_count": null,
   "id": "069417d6",
   "metadata": {},
   "outputs": [],
   "source": []
  },
  {
   "cell_type": "code",
   "execution_count": 412,
   "id": "f2311c79",
   "metadata": {},
   "outputs": [
    {
     "data": {
      "text/plain": [
       "array([[0.15689163, 0.8539321 , 0.01439671],\n",
       "       [0.58860383, 0.43077633, 0.73224187],\n",
       "       [0.47431165, 0.49946968, 0.12487255],\n",
       "       [0.11949597, 0.40044967, 0.20249702],\n",
       "       [0.57183253, 0.55640741, 0.83781194],\n",
       "       [0.94398884, 0.4256466 , 0.993795  ],\n",
       "       [0.56825217, 0.33753692, 0.77612572],\n",
       "       [0.1726247 , 0.91802387, 0.91084858]])"
      ]
     },
     "execution_count": 412,
     "metadata": {},
     "output_type": "execute_result"
    }
   ],
   "source": [
    "a"
   ]
  },
  {
   "cell_type": "code",
   "execution_count": 413,
   "id": "9aaa715f",
   "metadata": {},
   "outputs": [
    {
     "ename": "ValueError",
     "evalue": "cannot reshape array of size 24 into shape (4,3)",
     "output_type": "error",
     "traceback": [
      "\u001b[0;31m---------------------------------------------------------------------------\u001b[0m",
      "\u001b[0;31mValueError\u001b[0m                                Traceback (most recent call last)",
      "Input \u001b[0;32mIn [413]\u001b[0m, in \u001b[0;36m<module>\u001b[0;34m\u001b[0m\n\u001b[0;32m----> 1\u001b[0m \u001b[43ma\u001b[49m\u001b[38;5;241;43m.\u001b[39;49m\u001b[43mreshape\u001b[49m\u001b[43m(\u001b[49m\u001b[38;5;241;43m4\u001b[39;49m\u001b[43m,\u001b[49m\u001b[38;5;241;43m3\u001b[39;49m\u001b[43m)\u001b[49m\n",
      "\u001b[0;31mValueError\u001b[0m: cannot reshape array of size 24 into shape (4,3)"
     ]
    }
   ],
   "source": [
    "a.reshape(4,3)"
   ]
  },
  {
   "cell_type": "code",
   "execution_count": 414,
   "id": "a21e6065",
   "metadata": {},
   "outputs": [
    {
     "data": {
      "text/plain": [
       "array([[0.15689163, 0.8539321 , 0.01439671],\n",
       "       [0.58860383, 0.43077633, 0.73224187],\n",
       "       [0.47431165, 0.49946968, 0.12487255],\n",
       "       [0.11949597, 0.40044967, 0.20249702]])"
      ]
     },
     "execution_count": 414,
     "metadata": {},
     "output_type": "execute_result"
    }
   ],
   "source": [
    "np.resize(a, (4,3))"
   ]
  },
  {
   "cell_type": "code",
   "execution_count": 415,
   "id": "8d7fcf5e",
   "metadata": {},
   "outputs": [
    {
     "data": {
      "text/plain": [
       "array([[5, 8],\n",
       "       [9, 8],\n",
       "       [8, 4]])"
      ]
     },
     "execution_count": 415,
     "metadata": {},
     "output_type": "execute_result"
    }
   ],
   "source": [
    "np.random.randint(1,10,(3,2))"
   ]
  },
  {
   "cell_type": "code",
   "execution_count": null,
   "id": "e8c62a1b",
   "metadata": {},
   "outputs": [],
   "source": []
  },
  {
   "cell_type": "code",
   "execution_count": null,
   "id": "9ac707a8",
   "metadata": {},
   "outputs": [],
   "source": []
  },
  {
   "cell_type": "code",
   "execution_count": 410,
   "id": "14d667e7",
   "metadata": {},
   "outputs": [
    {
     "data": {
      "text/plain": [
       "array([[[ 0,  1],\n",
       "        [ 2,  3]],\n",
       "\n",
       "       [[ 4,  5],\n",
       "        [ 6,  7]],\n",
       "\n",
       "       [[ 8,  9],\n",
       "        [10, 11]]])"
      ]
     },
     "execution_count": 410,
     "metadata": {},
     "output_type": "execute_result"
    }
   ],
   "source": [
    "np.resize(a,(3,2,2))"
   ]
  },
  {
   "cell_type": "code",
   "execution_count": 407,
   "id": "9e47b3fb",
   "metadata": {},
   "outputs": [
    {
     "ename": "ValueError",
     "evalue": "cannot resize an array that references or is referenced\nby another array in this way.\nUse the np.resize function or refcheck=False",
     "output_type": "error",
     "traceback": [
      "\u001b[0;31m---------------------------------------------------------------------------\u001b[0m",
      "\u001b[0;31mValueError\u001b[0m                                Traceback (most recent call last)",
      "Input \u001b[0;32mIn [407]\u001b[0m, in \u001b[0;36m<module>\u001b[0;34m\u001b[0m\n\u001b[0;32m----> 1\u001b[0m \u001b[43ma\u001b[49m\u001b[38;5;241;43m.\u001b[39;49m\u001b[43mresize\u001b[49m\u001b[43m(\u001b[49m\u001b[38;5;241;43m5\u001b[39;49m\u001b[43m,\u001b[49m\u001b[38;5;241;43m3\u001b[39;49m\u001b[43m)\u001b[49m\n\u001b[1;32m      2\u001b[0m a\n",
      "\u001b[0;31mValueError\u001b[0m: cannot resize an array that references or is referenced\nby another array in this way.\nUse the np.resize function or refcheck=False"
     ]
    }
   ],
   "source": [
    "a.resize(5,3)\n",
    "a"
   ]
  },
  {
   "cell_type": "code",
   "execution_count": null,
   "id": "0e6ba8c6",
   "metadata": {},
   "outputs": [],
   "source": []
  },
  {
   "cell_type": "code",
   "execution_count": 416,
   "id": "37c8f75d",
   "metadata": {},
   "outputs": [
    {
     "data": {
      "text/plain": [
       "(8, 3)"
      ]
     },
     "execution_count": 416,
     "metadata": {},
     "output_type": "execute_result"
    }
   ],
   "source": [
    "a.shape"
   ]
  },
  {
   "cell_type": "code",
   "execution_count": null,
   "id": "3c6ac430",
   "metadata": {},
   "outputs": [],
   "source": [
    "9*3"
   ]
  },
  {
   "cell_type": "code",
   "execution_count": 417,
   "id": "66473ce3",
   "metadata": {},
   "outputs": [
    {
     "data": {
      "text/plain": [
       "array([[0.15689163, 0.8539321 , 0.01439671],\n",
       "       [0.58860383, 0.43077633, 0.73224187],\n",
       "       [0.47431165, 0.49946968, 0.12487255],\n",
       "       [0.11949597, 0.40044967, 0.20249702],\n",
       "       [0.57183253, 0.55640741, 0.83781194],\n",
       "       [0.94398884, 0.4256466 , 0.993795  ],\n",
       "       [0.56825217, 0.33753692, 0.77612572],\n",
       "       [0.1726247 , 0.91802387, 0.91084858],\n",
       "       [0.15689163, 0.8539321 , 0.01439671]])"
      ]
     },
     "execution_count": 417,
     "metadata": {},
     "output_type": "execute_result"
    }
   ],
   "source": [
    "np.resize(a,(9,3))"
   ]
  },
  {
   "cell_type": "code",
   "execution_count": null,
   "id": "602daa7e",
   "metadata": {},
   "outputs": [],
   "source": []
  },
  {
   "cell_type": "code",
   "execution_count": null,
   "id": "df2addab",
   "metadata": {},
   "outputs": [],
   "source": []
  },
  {
   "cell_type": "code",
   "execution_count": null,
   "id": "06583941",
   "metadata": {},
   "outputs": [],
   "source": []
  },
  {
   "cell_type": "code",
   "execution_count": 58,
   "id": "c9018c4a",
   "metadata": {},
   "outputs": [
    {
     "name": "stdout",
     "output_type": "stream",
     "text": [
      "[[1 2 3 1]\n",
      " [2 3 1 2]]\n"
     ]
    }
   ],
   "source": [
    "original_array = np.array([1, 2, 3])\n",
    "resized_array = np.resize(original_array, (2, 4))\n",
    "print(resized_array)"
   ]
  },
  {
   "cell_type": "markdown",
   "id": "d7f35be1",
   "metadata": {},
   "source": [
    "2. **Decrease Size by Truncation:**\n",
    "   "
   ]
  },
  {
   "cell_type": "code",
   "execution_count": 167,
   "id": "420c0f9b",
   "metadata": {},
   "outputs": [
    {
     "name": "stdout",
     "output_type": "stream",
     "text": [
      "[[1 2]\n",
      " [3 4]]\n"
     ]
    }
   ],
   "source": [
    "original_array = np.array([1, 2, 3, 4, 5, 6])\n",
    "resized_array = np.resize(original_array, (2, 2))\n",
    "print(resized_array)"
   ]
  },
  {
   "cell_type": "markdown",
   "id": "b99ac1ec",
   "metadata": {},
   "source": [
    "#### EXERCISES\n",
    "\n",
    "1. Create a 1D array with 20 elements and reshape it into a 4x5 array.\n",
    "2. Generate a 2x3 array of random integers between 1 and 10, then reshape it into a 1D array.\n",
    "3. Generate a 6x2 array of random values from a standard normal distribution, then reshape it into a 3D array.\n",
    "4. Generate a 3x2 array of random values between 0 and 1, then resize it to a 2x3 array by truncation.\n",
    "5. Create a 1D array with 15 elements and resize it to a 4x4 array by repetition."
   ]
  },
  {
   "cell_type": "code",
   "execution_count": 423,
   "id": "a9b52536",
   "metadata": {},
   "outputs": [],
   "source": [
    "a = np.random.randint(1,20,(20,))"
   ]
  },
  {
   "cell_type": "code",
   "execution_count": 427,
   "id": "b13befcb",
   "metadata": {},
   "outputs": [],
   "source": [
    "a = np.array([20])"
   ]
  },
  {
   "cell_type": "code",
   "execution_count": 428,
   "id": "c819cd0f",
   "metadata": {},
   "outputs": [
    {
     "data": {
      "text/plain": [
       "(1,)"
      ]
     },
     "execution_count": 428,
     "metadata": {},
     "output_type": "execute_result"
    }
   ],
   "source": [
    "a.shape"
   ]
  },
  {
   "cell_type": "code",
   "execution_count": 424,
   "id": "447e8fce",
   "metadata": {},
   "outputs": [
    {
     "data": {
      "text/plain": [
       "array([ 3,  1, 12,  2,  1, 19,  8, 15,  2,  8,  6, 18,  1, 16,  9,  1,  7,\n",
       "       18, 14, 16])"
      ]
     },
     "execution_count": 424,
     "metadata": {},
     "output_type": "execute_result"
    }
   ],
   "source": [
    "a"
   ]
  },
  {
   "cell_type": "code",
   "execution_count": 421,
   "id": "505db61d",
   "metadata": {},
   "outputs": [
    {
     "data": {
      "text/plain": [
       "(20,)"
      ]
     },
     "execution_count": 421,
     "metadata": {},
     "output_type": "execute_result"
    }
   ],
   "source": [
    "a.shape"
   ]
  },
  {
   "cell_type": "code",
   "execution_count": 422,
   "id": "e49bd570",
   "metadata": {},
   "outputs": [
    {
     "data": {
      "text/plain": [
       "array([[14, 13, 19,  1, 10],\n",
       "       [16,  2, 15, 13, 15],\n",
       "       [17,  3,  4, 19, 17],\n",
       "       [ 8, 16,  9,  4, 19]])"
      ]
     },
     "execution_count": 422,
     "metadata": {},
     "output_type": "execute_result"
    }
   ],
   "source": [
    "a.reshape(4,5)"
   ]
  },
  {
   "cell_type": "code",
   "execution_count": null,
   "id": "b2bce004",
   "metadata": {},
   "outputs": [],
   "source": [
    "np.resize(ori_arr, requi_shape)"
   ]
  },
  {
   "cell_type": "code",
   "execution_count": 418,
   "id": "e89a7f41",
   "metadata": {},
   "outputs": [
    {
     "data": {
      "text/plain": [
       "10"
      ]
     },
     "execution_count": 418,
     "metadata": {},
     "output_type": "execute_result"
    }
   ],
   "source": [
    "#np.random.randint()"
   ]
  },
  {
   "cell_type": "code",
   "execution_count": null,
   "id": "b738e249",
   "metadata": {},
   "outputs": [],
   "source": []
  },
  {
   "cell_type": "markdown",
   "id": "ee953b93",
   "metadata": {},
   "source": [
    "Generate a 6x2 array of random values from a standard normal distribution, then reshape it into a 3D array."
   ]
  },
  {
   "cell_type": "code",
   "execution_count": null,
   "id": "85a9e13a",
   "metadata": {},
   "outputs": [],
   "source": [
    "12 = 2,2,3 - 1,3,4 - 4,3,1\n",
    "\n",
    "12 = "
   ]
  },
  {
   "cell_type": "code",
   "execution_count": null,
   "id": "b841a6a5",
   "metadata": {},
   "outputs": [],
   "source": []
  },
  {
   "cell_type": "code",
   "execution_count": null,
   "id": "fa14ed85",
   "metadata": {},
   "outputs": [],
   "source": []
  },
  {
   "cell_type": "code",
   "execution_count": 429,
   "id": "8ac120ca",
   "metadata": {},
   "outputs": [],
   "source": [
    "a = np.random.randn(6,2)"
   ]
  },
  {
   "cell_type": "code",
   "execution_count": 430,
   "id": "0c9784f4",
   "metadata": {},
   "outputs": [
    {
     "data": {
      "text/plain": [
       "array([[ 0.1782592 ,  0.06018877],\n",
       "       [ 0.33282404, -0.30160802],\n",
       "       [ 1.64246402, -1.72102565],\n",
       "       [ 0.91841624, -0.72042686],\n",
       "       [ 0.38165986, -0.2235429 ],\n",
       "       [ 0.363444  , -1.92029186]])"
      ]
     },
     "execution_count": 430,
     "metadata": {},
     "output_type": "execute_result"
    }
   ],
   "source": [
    "a"
   ]
  },
  {
   "cell_type": "code",
   "execution_count": 435,
   "id": "3f745398",
   "metadata": {},
   "outputs": [
    {
     "data": {
      "text/plain": [
       "(6, 2)"
      ]
     },
     "execution_count": 435,
     "metadata": {},
     "output_type": "execute_result"
    }
   ],
   "source": [
    "a.shape -> 12 elements"
   ]
  },
  {
   "cell_type": "code",
   "execution_count": null,
   "id": "9a248c7b",
   "metadata": {},
   "outputs": [],
   "source": [
    "8,3 -> 24"
   ]
  },
  {
   "cell_type": "code",
   "execution_count": null,
   "id": "61096e65",
   "metadata": {},
   "outputs": [],
   "source": []
  },
  {
   "cell_type": "code",
   "execution_count": 437,
   "id": "b5e000f8",
   "metadata": {},
   "outputs": [
    {
     "data": {
      "text/plain": [
       "array([[ 0.1782592 ,  0.06018877,  0.33282404, -0.30160802,  1.64246402,\n",
       "        -1.72102565],\n",
       "       [ 0.91841624, -0.72042686,  0.38165986, -0.2235429 ,  0.363444  ,\n",
       "        -1.92029186],\n",
       "       [ 0.1782592 ,  0.06018877,  0.33282404, -0.30160802,  1.64246402,\n",
       "        -1.72102565],\n",
       "       [ 0.91841624, -0.72042686,  0.38165986, -0.2235429 ,  0.363444  ,\n",
       "        -1.92029186],\n",
       "       [ 0.1782592 ,  0.06018877,  0.33282404, -0.30160802,  1.64246402,\n",
       "        -1.72102565]])"
      ]
     },
     "execution_count": 437,
     "metadata": {},
     "output_type": "execute_result"
    }
   ],
   "source": [
    "np.resize(a, (5,6))"
   ]
  },
  {
   "cell_type": "code",
   "execution_count": null,
   "id": "833169a3",
   "metadata": {},
   "outputs": [],
   "source": []
  },
  {
   "cell_type": "code",
   "execution_count": null,
   "id": "37d38766",
   "metadata": {},
   "outputs": [],
   "source": []
  },
  {
   "cell_type": "code",
   "execution_count": 434,
   "id": "744d0c84",
   "metadata": {},
   "outputs": [
    {
     "data": {
      "text/plain": [
       "array([[[[ 0.1782592 ,  0.06018877],\n",
       "         [ 0.33282404, -0.30160802],\n",
       "         [ 1.64246402, -1.72102565]],\n",
       "\n",
       "        [[ 0.91841624, -0.72042686],\n",
       "         [ 0.38165986, -0.2235429 ],\n",
       "         [ 0.363444  , -1.92029186]]]])"
      ]
     },
     "execution_count": 434,
     "metadata": {},
     "output_type": "execute_result"
    }
   ],
   "source": [
    "a.reshape(1,2,3,2)"
   ]
  },
  {
   "cell_type": "code",
   "execution_count": null,
   "id": "5ffb3261",
   "metadata": {},
   "outputs": [],
   "source": []
  },
  {
   "cell_type": "code",
   "execution_count": null,
   "id": "9894a5a1",
   "metadata": {},
   "outputs": [],
   "source": []
  },
  {
   "cell_type": "code",
   "execution_count": 198,
   "id": "14c7ad88",
   "metadata": {},
   "outputs": [
    {
     "data": {
      "text/plain": [
       "array([[ 0,  1,  2,  3],\n",
       "       [ 4,  5,  6,  7],\n",
       "       [ 8,  9, 10, 11],\n",
       "       [12, 13, 14,  0]])"
      ]
     },
     "execution_count": 198,
     "metadata": {},
     "output_type": "execute_result"
    }
   ],
   "source": [
    "a = np.arange(15)\n",
    "np.resize(a,(4,4))"
   ]
  },
  {
   "cell_type": "code",
   "execution_count": 200,
   "id": "2390e117",
   "metadata": {},
   "outputs": [
    {
     "data": {
      "text/plain": [
       "array([[0.1993382 , 0.38463923, 0.2916021 ],\n",
       "       [0.70538018, 0.08759472, 0.14174   ]])"
      ]
     },
     "execution_count": 200,
     "metadata": {},
     "output_type": "execute_result"
    }
   ],
   "source": [
    "b= np.random.rand(3,2)\n",
    "np.resize(b,(2,3))"
   ]
  },
  {
   "cell_type": "code",
   "execution_count": 169,
   "id": "d3dac07b",
   "metadata": {},
   "outputs": [
    {
     "data": {
      "text/plain": [
       "array([[ 0,  1,  2,  3,  4],\n",
       "       [ 5,  6,  7,  8,  9],\n",
       "       [10, 11, 12, 13, 14],\n",
       "       [15, 16, 17, 18, 19]])"
      ]
     },
     "execution_count": 169,
     "metadata": {},
     "output_type": "execute_result"
    }
   ],
   "source": [
    "np.arange(20).reshape(4,5)"
   ]
  },
  {
   "cell_type": "code",
   "execution_count": 180,
   "id": "20bdac96",
   "metadata": {},
   "outputs": [
    {
     "data": {
      "text/plain": [
       "array([[7, 9, 7],\n",
       "       [4, 9, 9]])"
      ]
     },
     "execution_count": 180,
     "metadata": {},
     "output_type": "execute_result"
    }
   ],
   "source": [
    "np.random.randint(1,10,(2,3))"
   ]
  },
  {
   "cell_type": "code",
   "execution_count": 191,
   "id": "1278c04a",
   "metadata": {},
   "outputs": [
    {
     "data": {
      "text/plain": [
       "array([8, 5, 6, 9, 5, 9])"
      ]
     },
     "execution_count": 191,
     "metadata": {},
     "output_type": "execute_result"
    }
   ],
   "source": [
    "np.random.randint(1,10,(2,3)).reshape(6,)"
   ]
  },
  {
   "cell_type": "code",
   "execution_count": 194,
   "id": "b75d8e78",
   "metadata": {},
   "outputs": [
    {
     "data": {
      "text/plain": [
       "array([1., 0., 0., 0., 1., 0., 0., 0., 1.])"
      ]
     },
     "execution_count": 194,
     "metadata": {},
     "output_type": "execute_result"
    }
   ],
   "source": [
    "np.eye(3,3).flatten()"
   ]
  },
  {
   "cell_type": "markdown",
   "id": "f141e0c5",
   "metadata": {},
   "source": [
    "6. **Indexing and Slicing:**\n",
    "   - Access elements of an array using indexing, and perform slicing for subarrays.\n",
    "   "
   ]
  },
  {
   "cell_type": "code",
   "execution_count": 439,
   "id": "d125bec5",
   "metadata": {},
   "outputs": [
    {
     "data": {
      "text/plain": [
       "array([[[ 1,  2,  3,  4],\n",
       "        [ 5,  6,  7,  8],\n",
       "        [ 9, 10, 11, 12]],\n",
       "\n",
       "       [[13, 14, 15, 16],\n",
       "        [17, 18, 19, 20],\n",
       "        [21, 22, 23, 24]]])"
      ]
     },
     "execution_count": 439,
     "metadata": {},
     "output_type": "execute_result"
    }
   ],
   "source": [
    "three_d_array"
   ]
  },
  {
   "cell_type": "code",
   "execution_count": 453,
   "id": "da2c3b58",
   "metadata": {},
   "outputs": [
    {
     "data": {
      "text/plain": [
       "array([17, 18, 19])"
      ]
     },
     "execution_count": 453,
     "metadata": {},
     "output_type": "execute_result"
    }
   ],
   "source": [
    "three_d_array[1][1][0:3]"
   ]
  },
  {
   "cell_type": "code",
   "execution_count": 456,
   "id": "faadaffc",
   "metadata": {},
   "outputs": [
    {
     "data": {
      "text/plain": [
       "array([ 9, 10, 11, 12])"
      ]
     },
     "execution_count": 456,
     "metadata": {},
     "output_type": "execute_result"
    }
   ],
   "source": [
    "three_d_array[0][0:][2]"
   ]
  },
  {
   "cell_type": "code",
   "execution_count": 457,
   "id": "8566e705",
   "metadata": {},
   "outputs": [
    {
     "data": {
      "text/plain": [
       "array([], shape=(0, 4), dtype=int64)"
      ]
     },
     "execution_count": 457,
     "metadata": {},
     "output_type": "execute_result"
    }
   ],
   "source": [
    "three_d_array[0][2:3][2:3][2:3]"
   ]
  },
  {
   "cell_type": "code",
   "execution_count": 440,
   "id": "95169e7a",
   "metadata": {},
   "outputs": [],
   "source": [
    "li = [[1,2,3],[2,3,4]]"
   ]
  },
  {
   "cell_type": "code",
   "execution_count": null,
   "id": "a7eba25e",
   "metadata": {},
   "outputs": [],
   "source": [
    "li"
   ]
  },
  {
   "cell_type": "code",
   "execution_count": null,
   "id": "db201987",
   "metadata": {},
   "outputs": [],
   "source": []
  },
  {
   "cell_type": "code",
   "execution_count": 444,
   "id": "a94cae67",
   "metadata": {},
   "outputs": [
    {
     "data": {
      "text/plain": [
       "4"
      ]
     },
     "execution_count": 444,
     "metadata": {},
     "output_type": "execute_result"
    }
   ],
   "source": [
    "li[1][2]"
   ]
  },
  {
   "cell_type": "code",
   "execution_count": 443,
   "id": "cf6ca223",
   "metadata": {},
   "outputs": [
    {
     "data": {
      "text/plain": [
       "[[2, 3, 4]]"
      ]
     },
     "execution_count": 443,
     "metadata": {},
     "output_type": "execute_result"
    }
   ],
   "source": [
    "li[1:2]"
   ]
  },
  {
   "cell_type": "code",
   "execution_count": null,
   "id": "a52f84c2",
   "metadata": {},
   "outputs": [],
   "source": []
  },
  {
   "cell_type": "code",
   "execution_count": 442,
   "id": "9a820040",
   "metadata": {},
   "outputs": [],
   "source": [
    "#three_d_array.index(4)"
   ]
  },
  {
   "cell_type": "code",
   "execution_count": 438,
   "id": "107dcd35",
   "metadata": {},
   "outputs": [
    {
     "data": {
      "text/plain": [
       "(2, 3, 4)"
      ]
     },
     "execution_count": 438,
     "metadata": {},
     "output_type": "execute_result"
    }
   ],
   "source": [
    "three_d_array.shape"
   ]
  },
  {
   "cell_type": "code",
   "execution_count": 210,
   "id": "eb3d55c4",
   "metadata": {},
   "outputs": [
    {
     "data": {
      "text/plain": [
       "array([[[ 1,  2,  3,  4],\n",
       "        [ 5,  6,  7,  8],\n",
       "        [ 9, 10, 11, 12]],\n",
       "\n",
       "       [[13, 14, 15, 16],\n",
       "        [17, 18, 19, 20],\n",
       "        [21, 22, 23, 24]]])"
      ]
     },
     "execution_count": 210,
     "metadata": {},
     "output_type": "execute_result"
    }
   ],
   "source": [
    "three_d_array"
   ]
  },
  {
   "cell_type": "code",
   "execution_count": 208,
   "id": "9eff00b7",
   "metadata": {},
   "outputs": [
    {
     "data": {
      "text/plain": [
       "array([13, 14, 15])"
      ]
     },
     "execution_count": 208,
     "metadata": {},
     "output_type": "execute_result"
    }
   ],
   "source": [
    "three_d_array[1][0][0:3]"
   ]
  },
  {
   "cell_type": "code",
   "execution_count": 23,
   "id": "d6aa4d8d",
   "metadata": {},
   "outputs": [
    {
     "name": "stdout",
     "output_type": "stream",
     "text": [
      "3\n",
      "[2 3 4]\n"
     ]
    }
   ],
   "source": [
    "print(arr[2])       # Accessing the third element\n",
    "print(arr[1:4])     # Slicing from index 1 to 3"
   ]
  },
  {
   "cell_type": "markdown",
   "id": "4f67158f",
   "metadata": {},
   "source": [
    "**Memory Sharing in NumPy Arrays:**\n",
    "\n"
   ]
  },
  {
   "cell_type": "code",
   "execution_count": 458,
   "id": "1a457da2",
   "metadata": {},
   "outputs": [],
   "source": [
    "a = np.arange(15)"
   ]
  },
  {
   "cell_type": "code",
   "execution_count": 459,
   "id": "34f61fd1",
   "metadata": {},
   "outputs": [
    {
     "data": {
      "text/plain": [
       "array([ 0,  1,  2,  3,  4,  5,  6,  7,  8,  9, 10, 11, 12, 13, 14])"
      ]
     },
     "execution_count": 459,
     "metadata": {},
     "output_type": "execute_result"
    }
   ],
   "source": [
    "a"
   ]
  },
  {
   "cell_type": "code",
   "execution_count": 461,
   "id": "57336ea4",
   "metadata": {},
   "outputs": [],
   "source": [
    "b = a[1:8:2]"
   ]
  },
  {
   "cell_type": "code",
   "execution_count": 462,
   "id": "1c8f709c",
   "metadata": {},
   "outputs": [
    {
     "data": {
      "text/plain": [
       "array([1, 3, 5, 7])"
      ]
     },
     "execution_count": 462,
     "metadata": {},
     "output_type": "execute_result"
    }
   ],
   "source": [
    "b"
   ]
  },
  {
   "cell_type": "code",
   "execution_count": 464,
   "id": "447430c1",
   "metadata": {},
   "outputs": [],
   "source": [
    "b[2] = 12"
   ]
  },
  {
   "cell_type": "code",
   "execution_count": 465,
   "id": "95d735cb",
   "metadata": {},
   "outputs": [
    {
     "data": {
      "text/plain": [
       "array([ 1,  3, 12,  7])"
      ]
     },
     "execution_count": 465,
     "metadata": {},
     "output_type": "execute_result"
    }
   ],
   "source": [
    "b"
   ]
  },
  {
   "cell_type": "code",
   "execution_count": 466,
   "id": "73247711",
   "metadata": {},
   "outputs": [
    {
     "data": {
      "text/plain": [
       "array([ 0,  1,  2,  3,  4, 12,  6,  7,  8,  9, 10, 11, 12, 13, 14])"
      ]
     },
     "execution_count": 466,
     "metadata": {},
     "output_type": "execute_result"
    }
   ],
   "source": [
    "a"
   ]
  },
  {
   "cell_type": "code",
   "execution_count": null,
   "id": "bbb14f67",
   "metadata": {},
   "outputs": [],
   "source": []
  },
  {
   "cell_type": "code",
   "execution_count": null,
   "id": "bfaf2a1c",
   "metadata": {},
   "outputs": [],
   "source": []
  },
  {
   "cell_type": "code",
   "execution_count": 69,
   "id": "300bf2a6",
   "metadata": {},
   "outputs": [
    {
     "data": {
      "text/plain": [
       "array([1, 3, 5, 7])"
      ]
     },
     "execution_count": 69,
     "metadata": {},
     "output_type": "execute_result"
    }
   ],
   "source": [
    "a=np.arange(10)\n",
    "a[1:8:2]"
   ]
  },
  {
   "cell_type": "markdown",
   "id": "c894a2fb",
   "metadata": {},
   "source": [
    "Let’s Make another array b from array a\n"
   ]
  },
  {
   "cell_type": "code",
   "execution_count": 467,
   "id": "f96c6600",
   "metadata": {},
   "outputs": [
    {
     "data": {
      "text/plain": [
       "array([ 1,  3, 12,  7])"
      ]
     },
     "execution_count": 467,
     "metadata": {},
     "output_type": "execute_result"
    }
   ],
   "source": [
    "b=a[1:9:2].copy()\n",
    "b"
   ]
  },
  {
   "cell_type": "code",
   "execution_count": 468,
   "id": "67b39fcc",
   "metadata": {},
   "outputs": [
    {
     "data": {
      "text/plain": [
       "array([ 1,  9, 12,  7])"
      ]
     },
     "execution_count": 468,
     "metadata": {},
     "output_type": "execute_result"
    }
   ],
   "source": [
    "# Making changes in b\n",
    "b[1]=9\n",
    "b"
   ]
  },
  {
   "cell_type": "markdown",
   "id": "75f4ca43",
   "metadata": {},
   "source": [
    "Now Let's check a"
   ]
  },
  {
   "cell_type": "code",
   "execution_count": 469,
   "id": "cea2d9fa",
   "metadata": {},
   "outputs": [
    {
     "data": {
      "text/plain": [
       "array([ 0,  1,  2,  3,  4, 12,  6,  7,  8,  9, 10, 11, 12, 13, 14])"
      ]
     },
     "execution_count": 469,
     "metadata": {},
     "output_type": "execute_result"
    }
   ],
   "source": [
    "a"
   ]
  },
  {
   "cell_type": "markdown",
   "id": "5e507f91",
   "metadata": {},
   "source": [
    "But how did 4th element of a got changed!?😲\n",
    "The thing is numpy arrays share same memory to optimise the space. That is one reason why arrays are very fast in operations."
   ]
  },
  {
   "cell_type": "code",
   "execution_count": 73,
   "id": "b039080f",
   "metadata": {},
   "outputs": [
    {
     "data": {
      "text/plain": [
       "True"
      ]
     },
     "execution_count": 73,
     "metadata": {},
     "output_type": "execute_result"
    }
   ],
   "source": [
    "np.shares_memory(a,b)"
   ]
  },
  {
   "cell_type": "code",
   "execution_count": 76,
   "id": "3aae26c7",
   "metadata": {},
   "outputs": [
    {
     "data": {
      "text/plain": [
       "array([ 5,  6,  7,  8,  9, 10, 11, 12, 13, 14])"
      ]
     },
     "execution_count": 76,
     "metadata": {},
     "output_type": "execute_result"
    }
   ],
   "source": [
    "c = np.arange(5,15)\n",
    "c"
   ]
  },
  {
   "cell_type": "code",
   "execution_count": 77,
   "id": "309e6464",
   "metadata": {},
   "outputs": [
    {
     "data": {
      "text/plain": [
       "False"
      ]
     },
     "execution_count": 77,
     "metadata": {},
     "output_type": "execute_result"
    }
   ],
   "source": [
    "np.shares_memory(a,c)"
   ]
  },
  {
   "cell_type": "markdown",
   "id": "9f352155",
   "metadata": {},
   "source": [
    "What if I don’t want 2 arrays sharing same memory. Is there any other way? The answer is Yes!\n",
    "**Force copy**.\n"
   ]
  },
  {
   "cell_type": "code",
   "execution_count": 78,
   "id": "3e93bc45",
   "metadata": {},
   "outputs": [
    {
     "data": {
      "text/plain": [
       "array([9, 4])"
      ]
     },
     "execution_count": 78,
     "metadata": {},
     "output_type": "execute_result"
    }
   ],
   "source": [
    "b=a[3:5].copy()\n",
    "\n",
    "b"
   ]
  },
  {
   "cell_type": "code",
   "execution_count": 80,
   "id": "f92b2580",
   "metadata": {},
   "outputs": [
    {
     "data": {
      "text/plain": [
       "False"
      ]
     },
     "execution_count": 80,
     "metadata": {},
     "output_type": "execute_result"
    }
   ],
   "source": [
    "np.shares_memory(a,b)"
   ]
  },
  {
   "cell_type": "markdown",
   "id": "3f9ccca3",
   "metadata": {},
   "source": [
    "7. **Array Operations:**\n",
    "   - NumPy supports element-wise operations and provides functions for linear algebra, statistical operations, and more.\n",
    "   "
   ]
  },
  {
   "cell_type": "code",
   "execution_count": 470,
   "id": "22618eb6",
   "metadata": {},
   "outputs": [],
   "source": [
    "a = np.array([0, 1, 2, 9, 4, 5, 6, 7, 8, 9])"
   ]
  },
  {
   "cell_type": "code",
   "execution_count": 473,
   "id": "6b8be500",
   "metadata": {},
   "outputs": [
    {
     "data": {
      "text/plain": [
       "array([ 1,  2,  3, 10,  5,  6,  7,  8,  9, 10])"
      ]
     },
     "execution_count": 473,
     "metadata": {},
     "output_type": "execute_result"
    }
   ],
   "source": [
    "a + 1"
   ]
  },
  {
   "cell_type": "code",
   "execution_count": 475,
   "id": "c3a8ba1c",
   "metadata": {},
   "outputs": [],
   "source": [
    "li = [1,2,3,4] + [1]"
   ]
  },
  {
   "cell_type": "code",
   "execution_count": 476,
   "id": "e6c65969",
   "metadata": {},
   "outputs": [
    {
     "data": {
      "text/plain": [
       "[1, 2, 3, 4, 1]"
      ]
     },
     "execution_count": 476,
     "metadata": {},
     "output_type": "execute_result"
    }
   ],
   "source": [
    "li"
   ]
  },
  {
   "cell_type": "markdown",
   "id": "5d75e633",
   "metadata": {},
   "source": [
    "- **Element-Wise Operations:**"
   ]
  },
  {
   "cell_type": "code",
   "execution_count": 212,
   "id": "a4c43455",
   "metadata": {},
   "outputs": [
    {
     "name": "stdout",
     "output_type": "stream",
     "text": [
      "[ 1  2  3  4  5  6  7  8  9 10 11 12 13 14 15]\n",
      "[  0   1   4   9  16  25  36  49  64  81 100 121 144 169 196]\n",
      "[0 0 1 1 2 2 3 3 4 4 5 5 6 6 7]\n",
      "[0 1 2 0 1 2 0 1 2 0 1 2 0 1 2]\n"
     ]
    }
   ],
   "source": [
    "print(a + 1)\n",
    "print(a ** 2)\n",
    "print(a // 2)\n",
    "print(a % 3 )"
   ]
  },
  {
   "cell_type": "markdown",
   "id": "4b9f07a1",
   "metadata": {},
   "source": [
    "- **Array-to-Array Multiplication:**\n"
   ]
  },
  {
   "cell_type": "code",
   "execution_count": 489,
   "id": "ca32d166",
   "metadata": {},
   "outputs": [
    {
     "data": {
      "text/plain": [
       "array([[ 5, 12, 21],\n",
       "       [12, 20, 48]])"
      ]
     },
     "execution_count": 489,
     "metadata": {},
     "output_type": "execute_result"
    }
   ],
   "source": [
    "# Create two arrays\n",
    "array1 = np.array([[1, 2, 3], [4, 5, 6]])\n",
    "array2 = np.array([[5, 6, 7], [3, 4, 8]])\n",
    "\n",
    "# Perform element-wise multiplication\n",
    "result_array_mul = array1 * array2\n",
    "\n",
    "# Print the result\n",
    "result_array_mul"
   ]
  },
  {
   "cell_type": "code",
   "execution_count": 483,
   "id": "34f891f2",
   "metadata": {},
   "outputs": [
    {
     "data": {
      "text/plain": [
       "array([[1, 2, 3],\n",
       "       [4, 5, 6]])"
      ]
     },
     "execution_count": 483,
     "metadata": {},
     "output_type": "execute_result"
    }
   ],
   "source": [
    "array1"
   ]
  },
  {
   "cell_type": "code",
   "execution_count": 484,
   "id": "e80f18fa",
   "metadata": {},
   "outputs": [
    {
     "data": {
      "text/plain": [
       "array([[5, 6, 7],\n",
       "       [3, 4, 8]])"
      ]
     },
     "execution_count": 484,
     "metadata": {},
     "output_type": "execute_result"
    }
   ],
   "source": [
    "array2"
   ]
  },
  {
   "cell_type": "code",
   "execution_count": null,
   "id": "45d06696",
   "metadata": {},
   "outputs": [],
   "source": []
  },
  {
   "cell_type": "markdown",
   "id": "d264e1e8",
   "metadata": {},
   "source": [
    "8. **Filtering and Selecting Elements:**\n"
   ]
  },
  {
   "cell_type": "code",
   "execution_count": 369,
   "id": "c0563df6",
   "metadata": {},
   "outputs": [
    {
     "data": {
      "text/plain": [
       "array([1, 3, 5])"
      ]
     },
     "execution_count": 369,
     "metadata": {},
     "output_type": "execute_result"
    }
   ],
   "source": [
    "a"
   ]
  },
  {
   "cell_type": "code",
   "execution_count": 490,
   "id": "a0b44867",
   "metadata": {},
   "outputs": [],
   "source": [
    "b = np.array([[[1,2,3],[4,5,6]]])"
   ]
  },
  {
   "cell_type": "code",
   "execution_count": 491,
   "id": "f63e0f53",
   "metadata": {},
   "outputs": [
    {
     "data": {
      "text/plain": [
       "array([[[1, 2, 3],\n",
       "        [4, 5, 6]]])"
      ]
     },
     "execution_count": 491,
     "metadata": {},
     "output_type": "execute_result"
    }
   ],
   "source": [
    "b"
   ]
  },
  {
   "cell_type": "code",
   "execution_count": 494,
   "id": "55ea78f1",
   "metadata": {},
   "outputs": [
    {
     "data": {
      "text/plain": [
       "array([[[False,  True, False],\n",
       "        [ True, False,  True]]])"
      ]
     },
     "execution_count": 494,
     "metadata": {},
     "output_type": "execute_result"
    }
   ],
   "source": [
    "b[b%2==0]"
   ]
  },
  {
   "cell_type": "code",
   "execution_count": 496,
   "id": "58e6144d",
   "metadata": {},
   "outputs": [
    {
     "data": {
      "text/plain": [
       "array([6])"
      ]
     },
     "execution_count": 496,
     "metadata": {},
     "output_type": "execute_result"
    }
   ],
   "source": [
    "b[(b%2==0) & (b>4)]"
   ]
  },
  {
   "cell_type": "code",
   "execution_count": null,
   "id": "1fcf73e2",
   "metadata": {},
   "outputs": [],
   "source": [
    "given array \"a\", fetch me the value that are divisible by 2 and greater than 4"
   ]
  },
  {
   "cell_type": "code",
   "execution_count": null,
   "id": "9f39f6e6",
   "metadata": {},
   "outputs": [],
   "source": []
  },
  {
   "cell_type": "code",
   "execution_count": null,
   "id": "a58f747f",
   "metadata": {},
   "outputs": [],
   "source": []
  },
  {
   "cell_type": "code",
   "execution_count": 376,
   "id": "f569328b",
   "metadata": {},
   "outputs": [
    {
     "data": {
      "text/plain": [
       "(1, 2, 3)"
      ]
     },
     "execution_count": 376,
     "metadata": {},
     "output_type": "execute_result"
    }
   ],
   "source": [
    "b.shape"
   ]
  },
  {
   "cell_type": "code",
   "execution_count": 375,
   "id": "95c4f0a6",
   "metadata": {},
   "outputs": [
    {
     "data": {
      "text/plain": [
       "array([2, 4, 6])"
      ]
     },
     "execution_count": 375,
     "metadata": {},
     "output_type": "execute_result"
    }
   ],
   "source": [
    "b[(b%2) == 0]"
   ]
  },
  {
   "cell_type": "code",
   "execution_count": 87,
   "id": "4448a166",
   "metadata": {},
   "outputs": [
    {
     "data": {
      "text/plain": [
       "array([6, 7, 8, 9, 9])"
      ]
     },
     "execution_count": 87,
     "metadata": {},
     "output_type": "execute_result"
    }
   ],
   "source": [
    "a[(a % 2 == 0)]\n",
    "a[a > 5]"
   ]
  },
  {
   "cell_type": "markdown",
   "id": "d0cb1515",
   "metadata": {},
   "source": [
    "9. **Logical Operations:**"
   ]
  },
  {
   "cell_type": "markdown",
   "id": "be5121ab",
   "metadata": {},
   "source": [
    "In NumPy, you can perform logical operations element-wise on arrays using various functions provided by the library. Some of the commonly used logical operations in NumPy include:\n",
    "\n",
    "1. **Equality Comparison (`==`)**\n",
    "   - This operation compares corresponding elements of two arrays and returns a new array with boolean values indicating whether the elements are equal or not.\n",
    "\n",
    " "
   ]
  },
  {
   "cell_type": "code",
   "execution_count": 236,
   "id": "49b9abad",
   "metadata": {},
   "outputs": [
    {
     "name": "stdout",
     "output_type": "stream",
     "text": [
      "[False  True  True]\n"
     ]
    }
   ],
   "source": [
    "array1 = np.array([1, 2, 3])\n",
    "array2 = np.array([2, 2, 3])\n",
    "result = array1 == array2\n",
    "print(result)  # Output: [False  True  True]"
   ]
  },
  {
   "cell_type": "code",
   "execution_count": 228,
   "id": "a16b3165",
   "metadata": {},
   "outputs": [
    {
     "data": {
      "text/plain": [
       "False"
      ]
     },
     "execution_count": 228,
     "metadata": {},
     "output_type": "execute_result"
    }
   ],
   "source": [
    "np.array_equal(array1, array2)"
   ]
  },
  {
   "cell_type": "markdown",
   "id": "3b1d11a6",
   "metadata": {},
   "source": [
    "2. **Element-wise Logical AND (`np.logical_and`)**\n",
    "   - This function performs element-wise logical AND operation between corresponding elements of two arrays and returns a new array with boolean values.\n"
   ]
  },
  {
   "cell_type": "code",
   "execution_count": 229,
   "id": "dabb7fe3",
   "metadata": {},
   "outputs": [
    {
     "name": "stdout",
     "output_type": "stream",
     "text": [
      "[ True False False]\n"
     ]
    }
   ],
   "source": [
    "array1 = np.array([True, False, True])\n",
    "array2 = np.array([True, True, False])\n",
    "result = np.logical_and(array1, array2)\n",
    "print(result)  # Output: [ True False False]"
   ]
  },
  {
   "cell_type": "markdown",
   "id": "457d4f8a",
   "metadata": {},
   "source": [
    "3. **Element-wise Logical OR (`np.logical_or`)**\n",
    "   - This function performs element-wise logical OR operation between corresponding elements of two arrays and returns a new array with boolean values.\n"
   ]
  },
  {
   "cell_type": "code",
   "execution_count": 230,
   "id": "5aaa2b21",
   "metadata": {},
   "outputs": [
    {
     "name": "stdout",
     "output_type": "stream",
     "text": [
      "[ True  True  True]\n"
     ]
    }
   ],
   "source": [
    "array1 = np.array([True, False, True])\n",
    "array2 = np.array([True, True, False])\n",
    "result = np.logical_or(array1, array2)\n",
    "print(result)  # Output: [ True  True  True]"
   ]
  },
  {
   "cell_type": "markdown",
   "id": "ec945418",
   "metadata": {},
   "source": [
    "4. **Element-wise Logical NOT (`np.logical_not`)**\n",
    "   - This function performs element-wise logical NOT operation on an array and returns a new array with boolean values.\n"
   ]
  },
  {
   "cell_type": "code",
   "execution_count": 231,
   "id": "a263909e",
   "metadata": {},
   "outputs": [
    {
     "name": "stdout",
     "output_type": "stream",
     "text": [
      "[False  True False]\n"
     ]
    }
   ],
   "source": [
    "array = np.array([True, False, True])\n",
    "result = np.logical_not(array)\n",
    "print(result)  # Output: [False  True False]"
   ]
  },
  {
   "cell_type": "markdown",
   "id": "cb048eb1",
   "metadata": {},
   "source": [
    "10. **Random Arrays and Indexing:**\n",
    "   \n",
    "  "
   ]
  },
  {
   "cell_type": "code",
   "execution_count": 97,
   "id": "33ba7a48",
   "metadata": {},
   "outputs": [
    {
     "data": {
      "text/plain": [
       "array([[51, 62, 49],\n",
       "       [97,  2, 53]])"
      ]
     },
     "execution_count": 97,
     "metadata": {},
     "output_type": "execute_result"
    }
   ],
   "source": [
    "c = np.random.randint(1, 100, (3, 4))\n",
    "d = np.random.randint(1, 100, (3, 4))\n",
    "d[1:, 1:]"
   ]
  },
  {
   "cell_type": "markdown",
   "id": "2cfccaf3",
   "metadata": {},
   "source": [
    "11. **Array Reshaping and Operations:**\n"
   ]
  },
  {
   "cell_type": "code",
   "execution_count": 497,
   "id": "2f983466",
   "metadata": {},
   "outputs": [],
   "source": [
    "a = np.array([0, 1, 2, 9, 4, 5, 6, 7, 8, 9])\n",
    "a_reshaped = a_reshaped = a.reshape((5, 2))"
   ]
  },
  {
   "cell_type": "code",
   "execution_count": 498,
   "id": "b56708d1",
   "metadata": {},
   "outputs": [
    {
     "data": {
      "text/plain": [
       "array([[0, 1],\n",
       "       [2, 9],\n",
       "       [4, 5],\n",
       "       [6, 7],\n",
       "       [8, 9]])"
      ]
     },
     "execution_count": 498,
     "metadata": {},
     "output_type": "execute_result"
    }
   ],
   "source": [
    "a_reshaped"
   ]
  },
  {
   "cell_type": "code",
   "execution_count": 499,
   "id": "e8245afe",
   "metadata": {},
   "outputs": [
    {
     "data": {
      "text/plain": [
       "array([[ 0.,  1.],\n",
       "       [ 1., 81.],\n",
       "       [ 2., 25.],\n",
       "       [ 3., 49.],\n",
       "       [ 4., 81.]])"
      ]
     },
     "execution_count": 499,
     "metadata": {},
     "output_type": "execute_result"
    }
   ],
   "source": [
    "np.where(a_reshaped % 2 == 0, a_reshaped / 2, a_reshaped ** 2)"
   ]
  },
  {
   "cell_type": "code",
   "execution_count": null,
   "id": "a4cb2910",
   "metadata": {},
   "outputs": [],
   "source": []
  },
  {
   "cell_type": "code",
   "execution_count": null,
   "id": "b57d7dee",
   "metadata": {},
   "outputs": [],
   "source": []
  },
  {
   "cell_type": "code",
   "execution_count": null,
   "id": "68cb04f1",
   "metadata": {},
   "outputs": [],
   "source": []
  },
  {
   "cell_type": "code",
   "execution_count": null,
   "id": "8cc0d6b5",
   "metadata": {},
   "outputs": [],
   "source": []
  },
  {
   "cell_type": "code",
   "execution_count": null,
   "id": "20ed10d5",
   "metadata": {},
   "outputs": [],
   "source": []
  },
  {
   "cell_type": "code",
   "execution_count": null,
   "id": "bc2c9055",
   "metadata": {},
   "outputs": [],
   "source": []
  },
  {
   "cell_type": "code",
   "execution_count": 246,
   "id": "de3bf4a9",
   "metadata": {},
   "outputs": [
    {
     "data": {
      "text/plain": [
       "array([[ 0.,  1.],\n",
       "       [ 1., 81.],\n",
       "       [ 2., 25.],\n",
       "       [ 3., 49.],\n",
       "       [ 4., 81.]])"
      ]
     },
     "execution_count": 246,
     "metadata": {},
     "output_type": "execute_result"
    }
   ],
   "source": [
    "np.where(a_reshaped % 2 == 0, a_reshaped / 2, a_reshaped ** 2)"
   ]
  },
  {
   "cell_type": "markdown",
   "id": "e47177c0",
   "metadata": {},
   "source": [
    "12. **Statistical Operations:**\n"
   ]
  },
  {
   "cell_type": "code",
   "execution_count": 271,
   "id": "f44088fc",
   "metadata": {},
   "outputs": [],
   "source": [
    "a= np.array([[2, 2, 0],\n",
    "       [0, 2, 4],\n",
    "       [1, 2, 1]])"
   ]
  },
  {
   "cell_type": "code",
   "execution_count": 500,
   "id": "f670c0d2",
   "metadata": {},
   "outputs": [],
   "source": [
    "li = [1,2,3,4]"
   ]
  },
  {
   "cell_type": "code",
   "execution_count": 505,
   "id": "b25fbab7",
   "metadata": {},
   "outputs": [],
   "source": [
    "#sum(li)"
   ]
  },
  {
   "cell_type": "code",
   "execution_count": 506,
   "id": "7c23f027",
   "metadata": {},
   "outputs": [],
   "source": [
    "#mean(li)"
   ]
  },
  {
   "cell_type": "code",
   "execution_count": 507,
   "id": "4cb69528",
   "metadata": {},
   "outputs": [
    {
     "data": {
      "text/plain": [
       "array([0, 1, 2, 9, 4, 5, 6, 7, 8, 9])"
      ]
     },
     "execution_count": 507,
     "metadata": {},
     "output_type": "execute_result"
    }
   ],
   "source": [
    "a"
   ]
  },
  {
   "cell_type": "code",
   "execution_count": 509,
   "id": "45b5b938",
   "metadata": {},
   "outputs": [
    {
     "data": {
      "text/plain": [
       "[1, 2, 3, 7, 8, 12, 24]"
      ]
     },
     "execution_count": 509,
     "metadata": {},
     "output_type": "execute_result"
    }
   ],
   "source": [
    "sorted([1,2,3,12,7,8,24])"
   ]
  },
  {
   "cell_type": "code",
   "execution_count": null,
   "id": "c0d4f9a8",
   "metadata": {},
   "outputs": [],
   "source": []
  },
  {
   "cell_type": "code",
   "execution_count": 513,
   "id": "c86959a3",
   "metadata": {},
   "outputs": [],
   "source": [
    "a = np.array([3,4,65,6,0,1,2,3])"
   ]
  },
  {
   "cell_type": "code",
   "execution_count": 515,
   "id": "e0f3f177",
   "metadata": {},
   "outputs": [
    {
     "name": "stdout",
     "output_type": "stream",
     "text": [
      "4\n"
     ]
    }
   ],
   "source": [
    "print(a.argmin())"
   ]
  },
  {
   "cell_type": "code",
   "execution_count": 511,
   "id": "69754549",
   "metadata": {},
   "outputs": [
    {
     "name": "stdout",
     "output_type": "stream",
     "text": [
      "51\n",
      "5.5\n",
      "9\n"
     ]
    }
   ],
   "source": [
    "print(np.sum(a))\n",
    "print(np.median(a))\n",
    "print(np.max(a))\n",
    "#print(a.argmin(axis=1))"
   ]
  },
  {
   "cell_type": "markdown",
   "id": "7596e994",
   "metadata": {},
   "source": [
    "The `argmin` function in NumPy is used to find the indices of the minimum values along a specified axis. It returns the indices of the first occurrence of the minimum value along the specified axis."
   ]
  },
  {
   "cell_type": "markdown",
   "id": "8f85b069",
   "metadata": {},
   "source": [
    "13. **Sorting Operations:**   "
   ]
  },
  {
   "cell_type": "code",
   "execution_count": 519,
   "id": "94cc6828",
   "metadata": {},
   "outputs": [],
   "source": [
    "a = np.array([[3,2,1],[2,3,4]])"
   ]
  },
  {
   "cell_type": "code",
   "execution_count": 522,
   "id": "2141c6d3",
   "metadata": {},
   "outputs": [],
   "source": [
    "a.sort()"
   ]
  },
  {
   "cell_type": "code",
   "execution_count": 523,
   "id": "20cd59b7",
   "metadata": {},
   "outputs": [
    {
     "data": {
      "text/plain": [
       "array([[1, 2, 3],\n",
       "       [2, 3, 4]])"
      ]
     },
     "execution_count": 523,
     "metadata": {},
     "output_type": "execute_result"
    }
   ],
   "source": [
    "a"
   ]
  },
  {
   "cell_type": "code",
   "execution_count": null,
   "id": "947dd3c4",
   "metadata": {},
   "outputs": [],
   "source": []
  },
  {
   "cell_type": "code",
   "execution_count": 264,
   "id": "db5c308c",
   "metadata": {},
   "outputs": [
    {
     "name": "stdout",
     "output_type": "stream",
     "text": [
      "[[0 2 2]\n",
      " [0 2 4]\n",
      " [1 1 2]]\n",
      "[[0 2 2]\n",
      " [0 2 4]\n",
      " [1 1 2]]\n"
     ]
    }
   ],
   "source": [
    "a.sort()\n",
    "print(a)\n",
    "a.sort(axis=1)\n",
    "print(a)"
   ]
  },
  {
   "cell_type": "markdown",
   "id": "25e212b6",
   "metadata": {},
   "source": [
    "14. **Conditional Operations:**\n"
   ]
  },
  {
   "cell_type": "code",
   "execution_count": 265,
   "id": "9246f68b",
   "metadata": {},
   "outputs": [
    {
     "name": "stdout",
     "output_type": "stream",
     "text": [
      "[0 2 2 0 2 4 2]\n",
      "[]\n",
      "[1 1]\n"
     ]
    }
   ],
   "source": [
    "print(a[a % 2 == 0])\n",
    "print(a[(a % 2 == 0) & (a > 5)])\n",
    "print(a[(a % 2 != 0) | (a > 5)])"
   ]
  },
  {
   "cell_type": "markdown",
   "id": "53a5171e",
   "metadata": {},
   "source": [
    "15. **Advanced Operations with 3D Arrays:**"
   ]
  },
  {
   "cell_type": "code",
   "execution_count": 266,
   "id": "67d73252",
   "metadata": {},
   "outputs": [
    {
     "data": {
      "text/plain": [
       "array([[0, 2, 2],\n",
       "       [0, 2, 4],\n",
       "       [1, 1, 2]])"
      ]
     },
     "execution_count": 266,
     "metadata": {},
     "output_type": "execute_result"
    }
   ],
   "source": [
    "a"
   ]
  },
  {
   "cell_type": "code",
   "execution_count": 267,
   "id": "f2be0dc7",
   "metadata": {},
   "outputs": [
    {
     "name": "stdout",
     "output_type": "stream",
     "text": [
      "[[2 2]\n",
      " [1 2]]\n",
      "[2 2 1]\n"
     ]
    }
   ],
   "source": [
    "print(a[::2, 1:])\n",
    "print(a[:, 1])"
   ]
  },
  {
   "cell_type": "markdown",
   "id": "7bfefac2",
   "metadata": {},
   "source": [
    "`a[::2, 1:]` slices the array a by selecting every second row (starting from the first row) and including all columns from the second column onwards."
   ]
  },
  {
   "cell_type": "markdown",
   "id": "371540d5",
   "metadata": {},
   "source": [
    "`a[:, 1]` selects all elements from the second column of the array a. "
   ]
  },
  {
   "cell_type": "markdown",
   "id": "746cf636",
   "metadata": {},
   "source": [
    "16. **Creating and Modifying 2D Arrays:**\n"
   ]
  },
  {
   "cell_type": "code",
   "execution_count": 129,
   "id": "5a12d330",
   "metadata": {},
   "outputs": [],
   "source": [
    "arr = np.ones((5, 5), dtype=int)\n",
    "arr[1:4, 1:4] = 0"
   ]
  },
  {
   "cell_type": "code",
   "execution_count": 130,
   "id": "0cd2d11c",
   "metadata": {},
   "outputs": [
    {
     "data": {
      "text/plain": [
       "array([[1, 1, 1, 1, 1],\n",
       "       [1, 0, 0, 0, 1],\n",
       "       [1, 0, 0, 0, 1],\n",
       "       [1, 0, 0, 0, 1],\n",
       "       [1, 1, 1, 1, 1]])"
      ]
     },
     "execution_count": 130,
     "metadata": {},
     "output_type": "execute_result"
    }
   ],
   "source": [
    "arr"
   ]
  },
  {
   "cell_type": "markdown",
   "id": "5d7e7f18",
   "metadata": {},
   "source": [
    "17. **Copying Arrays:**"
   ]
  },
  {
   "cell_type": "code",
   "execution_count": 131,
   "id": "b2bb84c7",
   "metadata": {},
   "outputs": [],
   "source": [
    "brr = arr.copy()\n",
    "brr[1:4, 1:4] = 0"
   ]
  },
  {
   "cell_type": "code",
   "execution_count": 132,
   "id": "7e46c5cb",
   "metadata": {},
   "outputs": [
    {
     "data": {
      "text/plain": [
       "array([[1, 1, 1, 1, 1],\n",
       "       [1, 0, 0, 0, 1],\n",
       "       [1, 0, 0, 0, 1],\n",
       "       [1, 0, 0, 0, 1],\n",
       "       [1, 1, 1, 1, 1]])"
      ]
     },
     "execution_count": 132,
     "metadata": {},
     "output_type": "execute_result"
    }
   ],
   "source": [
    "brr"
   ]
  },
  {
   "cell_type": "markdown",
   "id": "bfae71e4",
   "metadata": {},
   "source": [
    "18. **Flattening:**\n",
    "\n",
    "- Flatten a multidimensional array using the flatten() method."
   ]
  },
  {
   "cell_type": "code",
   "execution_count": 528,
   "id": "ff444420",
   "metadata": {},
   "outputs": [],
   "source": [
    "arr_2d = np.array([[1, 2, 3], [4, 5, 6]])"
   ]
  },
  {
   "cell_type": "code",
   "execution_count": 529,
   "id": "550d6d88",
   "metadata": {},
   "outputs": [
    {
     "data": {
      "text/plain": [
       "(2, 3)"
      ]
     },
     "execution_count": 529,
     "metadata": {},
     "output_type": "execute_result"
    }
   ],
   "source": [
    "arr_2d.shape"
   ]
  },
  {
   "cell_type": "code",
   "execution_count": 530,
   "id": "ec6878dc",
   "metadata": {},
   "outputs": [
    {
     "data": {
      "text/plain": [
       "array([1, 2, 3, 4, 5, 6])"
      ]
     },
     "execution_count": 530,
     "metadata": {},
     "output_type": "execute_result"
    }
   ],
   "source": [
    "arr_2d.flatten()"
   ]
  },
  {
   "cell_type": "code",
   "execution_count": 527,
   "id": "6d4b67ca",
   "metadata": {},
   "outputs": [
    {
     "data": {
      "text/plain": [
       "array([1, 2, 3, 4, 5, 6])"
      ]
     },
     "execution_count": 527,
     "metadata": {},
     "output_type": "execute_result"
    }
   ],
   "source": [
    "arr_2d.reshape(6,)"
   ]
  },
  {
   "cell_type": "code",
   "execution_count": null,
   "id": "994c513e",
   "metadata": {},
   "outputs": [],
   "source": []
  },
  {
   "cell_type": "code",
   "execution_count": null,
   "id": "40881961",
   "metadata": {},
   "outputs": [],
   "source": []
  },
  {
   "cell_type": "code",
   "execution_count": 133,
   "id": "856aedcc",
   "metadata": {},
   "outputs": [],
   "source": [
    "arr_2d = np.array([[1, 2, 3], [4, 5, 6]])\n",
    "\n",
    "flat_arr = arr_2d.flatten()"
   ]
  },
  {
   "cell_type": "code",
   "execution_count": 134,
   "id": "97df3f3a",
   "metadata": {},
   "outputs": [
    {
     "data": {
      "text/plain": [
       "array([1, 2, 3, 4, 5, 6])"
      ]
     },
     "execution_count": 134,
     "metadata": {},
     "output_type": "execute_result"
    }
   ],
   "source": [
    "flat_arr"
   ]
  },
  {
   "cell_type": "markdown",
   "id": "3adad807",
   "metadata": {},
   "source": [
    "- Create a 3x3 identity matrix and flatten it into a 1D array."
   ]
  },
  {
   "cell_type": "markdown",
   "id": "c5aa27dd",
   "metadata": {},
   "source": [
    "### Data Types in NumPy:\n",
    "\n",
    "1. **dtype Attribute:**\n",
    "   - NumPy arrays have a `dtype` attribute specifying the data type of elements.\n",
    "   "
   ]
  },
  {
   "cell_type": "code",
   "execution_count": 25,
   "id": "98482354",
   "metadata": {},
   "outputs": [
    {
     "name": "stdout",
     "output_type": "stream",
     "text": [
      "int64\n"
     ]
    }
   ],
   "source": [
    "print(arr.dtype)    # int64"
   ]
  },
  {
   "cell_type": "markdown",
   "id": "6036aa80",
   "metadata": {},
   "source": [
    "2. **Common Data Types:**\n",
    "   - NumPy supports various data types such as integers (`int`), floating-point numbers (`float`), complex numbers (`complex`), and more.\n",
    "    "
   ]
  },
  {
   "cell_type": "code",
   "execution_count": 26,
   "id": "b3923286",
   "metadata": {},
   "outputs": [
    {
     "data": {
      "text/plain": [
       "array([1.5, 2.7, 3.2])"
      ]
     },
     "execution_count": 26,
     "metadata": {},
     "output_type": "execute_result"
    }
   ],
   "source": [
    "float_arr = np.array([1.5, 2.7, 3.2], dtype=np.float64)\n",
    "float_arr"
   ]
  },
  {
   "cell_type": "code",
   "execution_count": 27,
   "id": "98699ddd",
   "metadata": {},
   "outputs": [
    {
     "data": {
      "text/plain": [
       "dtype('float64')"
      ]
     },
     "execution_count": 27,
     "metadata": {},
     "output_type": "execute_result"
    }
   ],
   "source": [
    "float_arr.dtype"
   ]
  },
  {
   "cell_type": "markdown",
   "id": "024e281f",
   "metadata": {},
   "source": [
    "3. **Type Conversion:**\n",
    "   - You can explicitly convert the data type of an array using the `astype()` method.\n",
    "   "
   ]
  },
  {
   "cell_type": "code",
   "execution_count": 28,
   "id": "2195398c",
   "metadata": {},
   "outputs": [
    {
     "data": {
      "text/plain": [
       "dtype('int32')"
      ]
     },
     "execution_count": 28,
     "metadata": {},
     "output_type": "execute_result"
    }
   ],
   "source": [
    "int_arr = float_arr.astype(np.int32)\n",
    "int_arr.dtype"
   ]
  },
  {
   "cell_type": "markdown",
   "id": "f30768bb",
   "metadata": {},
   "source": [
    "> **Exercise**: How much time would it take to square all the numbers from 1 to 1000?"
   ]
  },
  {
   "attachments": {
    "image.png": {
     "image/png": "[encoded data removed]"
    }
   },
   "cell_type": "markdown",
   "id": "e2e7e928",
   "metadata": {},
   "source": [
    "![image.png](attachment:image.png)"
   ]
  },
  {
   "cell_type": "markdown",
   "id": "f57a7937",
   "metadata": {},
   "source": [
    "- Consider a list containing numbers from 1 to 1000.\n",
    "\n",
    "How much time does python take to square all the elements in that list?"
   ]
  },
  {
   "cell_type": "code",
   "execution_count": 39,
   "id": "d748b648",
   "metadata": {},
   "outputs": [
    {
     "name": "stdout",
     "output_type": "stream",
     "text": [
      "CPU times: user 970 µs, sys: 33 µs, total: 1 ms\n",
      "Wall time: 1.01 ms\n"
     ]
    },
    {
     "data": {
      "text/plain": [
       "[1,\n",
       " 4,\n",
       " 9,\n",
       " 16,\n",
       " 25,\n",
       " 36,\n",
       " 49,\n",
       " 64,\n",
       " 81,\n",
       " 100,\n",
       " 121,\n",
       " 144,\n",
       " 169,\n",
       " 196,\n",
       " 225,\n",
       " 256,\n",
       " 289,\n",
       " 324,\n",
       " 361,\n",
       " 400,\n",
       " 441,\n",
       " 484,\n",
       " 529,\n",
       " 576,\n",
       " 625,\n",
       " 676,\n",
       " 729,\n",
       " 784,\n",
       " 841,\n",
       " 900,\n",
       " 961,\n",
       " 1024,\n",
       " 1089,\n",
       " 1156,\n",
       " 1225,\n",
       " 1296,\n",
       " 1369,\n",
       " 1444,\n",
       " 1521,\n",
       " 1600,\n",
       " 1681,\n",
       " 1764,\n",
       " 1849,\n",
       " 1936,\n",
       " 2025,\n",
       " 2116,\n",
       " 2209,\n",
       " 2304,\n",
       " 2401,\n",
       " 2500,\n",
       " 2601,\n",
       " 2704,\n",
       " 2809,\n",
       " 2916,\n",
       " 3025,\n",
       " 3136,\n",
       " 3249,\n",
       " 3364,\n",
       " 3481,\n",
       " 3600,\n",
       " 3721,\n",
       " 3844,\n",
       " 3969,\n",
       " 4096,\n",
       " 4225,\n",
       " 4356,\n",
       " 4489,\n",
       " 4624,\n",
       " 4761,\n",
       " 4900,\n",
       " 5041,\n",
       " 5184,\n",
       " 5329,\n",
       " 5476,\n",
       " 5625,\n",
       " 5776,\n",
       " 5929,\n",
       " 6084,\n",
       " 6241,\n",
       " 6400,\n",
       " 6561,\n",
       " 6724,\n",
       " 6889,\n",
       " 7056,\n",
       " 7225,\n",
       " 7396,\n",
       " 7569,\n",
       " 7744,\n",
       " 7921,\n",
       " 8100,\n",
       " 8281,\n",
       " 8464,\n",
       " 8649,\n",
       " 8836,\n",
       " 9025,\n",
       " 9216,\n",
       " 9409,\n",
       " 9604,\n",
       " 9801,\n",
       " 10000,\n",
       " 10201,\n",
       " 10404,\n",
       " 10609,\n",
       " 10816,\n",
       " 11025,\n",
       " 11236,\n",
       " 11449,\n",
       " 11664,\n",
       " 11881,\n",
       " 12100,\n",
       " 12321,\n",
       " 12544,\n",
       " 12769,\n",
       " 12996,\n",
       " 13225,\n",
       " 13456,\n",
       " 13689,\n",
       " 13924,\n",
       " 14161,\n",
       " 14400,\n",
       " 14641,\n",
       " 14884,\n",
       " 15129,\n",
       " 15376,\n",
       " 15625,\n",
       " 15876,\n",
       " 16129,\n",
       " 16384,\n",
       " 16641,\n",
       " 16900,\n",
       " 17161,\n",
       " 17424,\n",
       " 17689,\n",
       " 17956,\n",
       " 18225,\n",
       " 18496,\n",
       " 18769,\n",
       " 19044,\n",
       " 19321,\n",
       " 19600,\n",
       " 19881,\n",
       " 20164,\n",
       " 20449,\n",
       " 20736,\n",
       " 21025,\n",
       " 21316,\n",
       " 21609,\n",
       " 21904,\n",
       " 22201,\n",
       " 22500,\n",
       " 22801,\n",
       " 23104,\n",
       " 23409,\n",
       " 23716,\n",
       " 24025,\n",
       " 24336,\n",
       " 24649,\n",
       " 24964,\n",
       " 25281,\n",
       " 25600,\n",
       " 25921,\n",
       " 26244,\n",
       " 26569,\n",
       " 26896,\n",
       " 27225,\n",
       " 27556,\n",
       " 27889,\n",
       " 28224,\n",
       " 28561,\n",
       " 28900,\n",
       " 29241,\n",
       " 29584,\n",
       " 29929,\n",
       " 30276,\n",
       " 30625,\n",
       " 30976,\n",
       " 31329,\n",
       " 31684,\n",
       " 32041,\n",
       " 32400,\n",
       " 32761,\n",
       " 33124,\n",
       " 33489,\n",
       " 33856,\n",
       " 34225,\n",
       " 34596,\n",
       " 34969,\n",
       " 35344,\n",
       " 35721,\n",
       " 36100,\n",
       " 36481,\n",
       " 36864,\n",
       " 37249,\n",
       " 37636,\n",
       " 38025,\n",
       " 38416,\n",
       " 38809,\n",
       " 39204,\n",
       " 39601,\n",
       " 40000,\n",
       " 40401,\n",
       " 40804,\n",
       " 41209,\n",
       " 41616,\n",
       " 42025,\n",
       " 42436,\n",
       " 42849,\n",
       " 43264,\n",
       " 43681,\n",
       " 44100,\n",
       " 44521,\n",
       " 44944,\n",
       " 45369,\n",
       " 45796,\n",
       " 46225,\n",
       " 46656,\n",
       " 47089,\n",
       " 47524,\n",
       " 47961,\n",
       " 48400,\n",
       " 48841,\n",
       " 49284,\n",
       " 49729,\n",
       " 50176,\n",
       " 50625,\n",
       " 51076,\n",
       " 51529,\n",
       " 51984,\n",
       " 52441,\n",
       " 52900,\n",
       " 53361,\n",
       " 53824,\n",
       " 54289,\n",
       " 54756,\n",
       " 55225,\n",
       " 55696,\n",
       " 56169,\n",
       " 56644,\n",
       " 57121,\n",
       " 57600,\n",
       " 58081,\n",
       " 58564,\n",
       " 59049,\n",
       " 59536,\n",
       " 60025,\n",
       " 60516,\n",
       " 61009,\n",
       " 61504,\n",
       " 62001,\n",
       " 62500,\n",
       " 63001,\n",
       " 63504,\n",
       " 64009,\n",
       " 64516,\n",
       " 65025,\n",
       " 65536,\n",
       " 66049,\n",
       " 66564,\n",
       " 67081,\n",
       " 67600,\n",
       " 68121,\n",
       " 68644,\n",
       " 69169,\n",
       " 69696,\n",
       " 70225,\n",
       " 70756,\n",
       " 71289,\n",
       " 71824,\n",
       " 72361,\n",
       " 72900,\n",
       " 73441,\n",
       " 73984,\n",
       " 74529,\n",
       " 75076,\n",
       " 75625,\n",
       " 76176,\n",
       " 76729,\n",
       " 77284,\n",
       " 77841,\n",
       " 78400,\n",
       " 78961,\n",
       " 79524,\n",
       " 80089,\n",
       " 80656,\n",
       " 81225,\n",
       " 81796,\n",
       " 82369,\n",
       " 82944,\n",
       " 83521,\n",
       " 84100,\n",
       " 84681,\n",
       " 85264,\n",
       " 85849,\n",
       " 86436,\n",
       " 87025,\n",
       " 87616,\n",
       " 88209,\n",
       " 88804,\n",
       " 89401,\n",
       " 90000,\n",
       " 90601,\n",
       " 91204,\n",
       " 91809,\n",
       " 92416,\n",
       " 93025,\n",
       " 93636,\n",
       " 94249,\n",
       " 94864,\n",
       " 95481,\n",
       " 96100,\n",
       " 96721,\n",
       " 97344,\n",
       " 97969,\n",
       " 98596,\n",
       " 99225,\n",
       " 99856,\n",
       " 100489,\n",
       " 101124,\n",
       " 101761,\n",
       " 102400,\n",
       " 103041,\n",
       " 103684,\n",
       " 104329,\n",
       " 104976,\n",
       " 105625,\n",
       " 106276,\n",
       " 106929,\n",
       " 107584,\n",
       " 108241,\n",
       " 108900,\n",
       " 109561,\n",
       " 110224,\n",
       " 110889,\n",
       " 111556,\n",
       " 112225,\n",
       " 112896,\n",
       " 113569,\n",
       " 114244,\n",
       " 114921,\n",
       " 115600,\n",
       " 116281,\n",
       " 116964,\n",
       " 117649,\n",
       " 118336,\n",
       " 119025,\n",
       " 119716,\n",
       " 120409,\n",
       " 121104,\n",
       " 121801,\n",
       " 122500,\n",
       " 123201,\n",
       " 123904,\n",
       " 124609,\n",
       " 125316,\n",
       " 126025,\n",
       " 126736,\n",
       " 127449,\n",
       " 128164,\n",
       " 128881,\n",
       " 129600,\n",
       " 130321,\n",
       " 131044,\n",
       " 131769,\n",
       " 132496,\n",
       " 133225,\n",
       " 133956,\n",
       " 134689,\n",
       " 135424,\n",
       " 136161,\n",
       " 136900,\n",
       " 137641,\n",
       " 138384,\n",
       " 139129,\n",
       " 139876,\n",
       " 140625,\n",
       " 141376,\n",
       " 142129,\n",
       " 142884,\n",
       " 143641,\n",
       " 144400,\n",
       " 145161,\n",
       " 145924,\n",
       " 146689,\n",
       " 147456,\n",
       " 148225,\n",
       " 148996,\n",
       " 149769,\n",
       " 150544,\n",
       " 151321,\n",
       " 152100,\n",
       " 152881,\n",
       " 153664,\n",
       " 154449,\n",
       " 155236,\n",
       " 156025,\n",
       " 156816,\n",
       " 157609,\n",
       " 158404,\n",
       " 159201,\n",
       " 160000,\n",
       " 160801,\n",
       " 161604,\n",
       " 162409,\n",
       " 163216,\n",
       " 164025,\n",
       " 164836,\n",
       " 165649,\n",
       " 166464,\n",
       " 167281,\n",
       " 168100,\n",
       " 168921,\n",
       " 169744,\n",
       " 170569,\n",
       " 171396,\n",
       " 172225,\n",
       " 173056,\n",
       " 173889,\n",
       " 174724,\n",
       " 175561,\n",
       " 176400,\n",
       " 177241,\n",
       " 178084,\n",
       " 178929,\n",
       " 179776,\n",
       " 180625,\n",
       " 181476,\n",
       " 182329,\n",
       " 183184,\n",
       " 184041,\n",
       " 184900,\n",
       " 185761,\n",
       " 186624,\n",
       " 187489,\n",
       " 188356,\n",
       " 189225,\n",
       " 190096,\n",
       " 190969,\n",
       " 191844,\n",
       " 192721,\n",
       " 193600,\n",
       " 194481,\n",
       " 195364,\n",
       " 196249,\n",
       " 197136,\n",
       " 198025,\n",
       " 198916,\n",
       " 199809,\n",
       " 200704,\n",
       " 201601,\n",
       " 202500,\n",
       " 203401,\n",
       " 204304,\n",
       " 205209,\n",
       " 206116,\n",
       " 207025,\n",
       " 207936,\n",
       " 208849,\n",
       " 209764,\n",
       " 210681,\n",
       " 211600,\n",
       " 212521,\n",
       " 213444,\n",
       " 214369,\n",
       " 215296,\n",
       " 216225,\n",
       " 217156,\n",
       " 218089,\n",
       " 219024,\n",
       " 219961,\n",
       " 220900,\n",
       " 221841,\n",
       " 222784,\n",
       " 223729,\n",
       " 224676,\n",
       " 225625,\n",
       " 226576,\n",
       " 227529,\n",
       " 228484,\n",
       " 229441,\n",
       " 230400,\n",
       " 231361,\n",
       " 232324,\n",
       " 233289,\n",
       " 234256,\n",
       " 235225,\n",
       " 236196,\n",
       " 237169,\n",
       " 238144,\n",
       " 239121,\n",
       " 240100,\n",
       " 241081,\n",
       " 242064,\n",
       " 243049,\n",
       " 244036,\n",
       " 245025,\n",
       " 246016,\n",
       " 247009,\n",
       " 248004,\n",
       " 249001,\n",
       " 250000,\n",
       " 251001,\n",
       " 252004,\n",
       " 253009,\n",
       " 254016,\n",
       " 255025,\n",
       " 256036,\n",
       " 257049,\n",
       " 258064,\n",
       " 259081,\n",
       " 260100,\n",
       " 261121,\n",
       " 262144,\n",
       " 263169,\n",
       " 264196,\n",
       " 265225,\n",
       " 266256,\n",
       " 267289,\n",
       " 268324,\n",
       " 269361,\n",
       " 270400,\n",
       " 271441,\n",
       " 272484,\n",
       " 273529,\n",
       " 274576,\n",
       " 275625,\n",
       " 276676,\n",
       " 277729,\n",
       " 278784,\n",
       " 279841,\n",
       " 280900,\n",
       " 281961,\n",
       " 283024,\n",
       " 284089,\n",
       " 285156,\n",
       " 286225,\n",
       " 287296,\n",
       " 288369,\n",
       " 289444,\n",
       " 290521,\n",
       " 291600,\n",
       " 292681,\n",
       " 293764,\n",
       " 294849,\n",
       " 295936,\n",
       " 297025,\n",
       " 298116,\n",
       " 299209,\n",
       " 300304,\n",
       " 301401,\n",
       " 302500,\n",
       " 303601,\n",
       " 304704,\n",
       " 305809,\n",
       " 306916,\n",
       " 308025,\n",
       " 309136,\n",
       " 310249,\n",
       " 311364,\n",
       " 312481,\n",
       " 313600,\n",
       " 314721,\n",
       " 315844,\n",
       " 316969,\n",
       " 318096,\n",
       " 319225,\n",
       " 320356,\n",
       " 321489,\n",
       " 322624,\n",
       " 323761,\n",
       " 324900,\n",
       " 326041,\n",
       " 327184,\n",
       " 328329,\n",
       " 329476,\n",
       " 330625,\n",
       " 331776,\n",
       " 332929,\n",
       " 334084,\n",
       " 335241,\n",
       " 336400,\n",
       " 337561,\n",
       " 338724,\n",
       " 339889,\n",
       " 341056,\n",
       " 342225,\n",
       " 343396,\n",
       " 344569,\n",
       " 345744,\n",
       " 346921,\n",
       " 348100,\n",
       " 349281,\n",
       " 350464,\n",
       " 351649,\n",
       " 352836,\n",
       " 354025,\n",
       " 355216,\n",
       " 356409,\n",
       " 357604,\n",
       " 358801,\n",
       " 360000,\n",
       " 361201,\n",
       " 362404,\n",
       " 363609,\n",
       " 364816,\n",
       " 366025,\n",
       " 367236,\n",
       " 368449,\n",
       " 369664,\n",
       " 370881,\n",
       " 372100,\n",
       " 373321,\n",
       " 374544,\n",
       " 375769,\n",
       " 376996,\n",
       " 378225,\n",
       " 379456,\n",
       " 380689,\n",
       " 381924,\n",
       " 383161,\n",
       " 384400,\n",
       " 385641,\n",
       " 386884,\n",
       " 388129,\n",
       " 389376,\n",
       " 390625,\n",
       " 391876,\n",
       " 393129,\n",
       " 394384,\n",
       " 395641,\n",
       " 396900,\n",
       " 398161,\n",
       " 399424,\n",
       " 400689,\n",
       " 401956,\n",
       " 403225,\n",
       " 404496,\n",
       " 405769,\n",
       " 407044,\n",
       " 408321,\n",
       " 409600,\n",
       " 410881,\n",
       " 412164,\n",
       " 413449,\n",
       " 414736,\n",
       " 416025,\n",
       " 417316,\n",
       " 418609,\n",
       " 419904,\n",
       " 421201,\n",
       " 422500,\n",
       " 423801,\n",
       " 425104,\n",
       " 426409,\n",
       " 427716,\n",
       " 429025,\n",
       " 430336,\n",
       " 431649,\n",
       " 432964,\n",
       " 434281,\n",
       " 435600,\n",
       " 436921,\n",
       " 438244,\n",
       " 439569,\n",
       " 440896,\n",
       " 442225,\n",
       " 443556,\n",
       " 444889,\n",
       " 446224,\n",
       " 447561,\n",
       " 448900,\n",
       " 450241,\n",
       " 451584,\n",
       " 452929,\n",
       " 454276,\n",
       " 455625,\n",
       " 456976,\n",
       " 458329,\n",
       " 459684,\n",
       " 461041,\n",
       " 462400,\n",
       " 463761,\n",
       " 465124,\n",
       " 466489,\n",
       " 467856,\n",
       " 469225,\n",
       " 470596,\n",
       " 471969,\n",
       " 473344,\n",
       " 474721,\n",
       " 476100,\n",
       " 477481,\n",
       " 478864,\n",
       " 480249,\n",
       " 481636,\n",
       " 483025,\n",
       " 484416,\n",
       " 485809,\n",
       " 487204,\n",
       " 488601,\n",
       " 490000,\n",
       " 491401,\n",
       " 492804,\n",
       " 494209,\n",
       " 495616,\n",
       " 497025,\n",
       " 498436,\n",
       " 499849,\n",
       " 501264,\n",
       " 502681,\n",
       " 504100,\n",
       " 505521,\n",
       " 506944,\n",
       " 508369,\n",
       " 509796,\n",
       " 511225,\n",
       " 512656,\n",
       " 514089,\n",
       " 515524,\n",
       " 516961,\n",
       " 518400,\n",
       " 519841,\n",
       " 521284,\n",
       " 522729,\n",
       " 524176,\n",
       " 525625,\n",
       " 527076,\n",
       " 528529,\n",
       " 529984,\n",
       " 531441,\n",
       " 532900,\n",
       " 534361,\n",
       " 535824,\n",
       " 537289,\n",
       " 538756,\n",
       " 540225,\n",
       " 541696,\n",
       " 543169,\n",
       " 544644,\n",
       " 546121,\n",
       " 547600,\n",
       " 549081,\n",
       " 550564,\n",
       " 552049,\n",
       " 553536,\n",
       " 555025,\n",
       " 556516,\n",
       " 558009,\n",
       " 559504,\n",
       " 561001,\n",
       " 562500,\n",
       " 564001,\n",
       " 565504,\n",
       " 567009,\n",
       " 568516,\n",
       " 570025,\n",
       " 571536,\n",
       " 573049,\n",
       " 574564,\n",
       " 576081,\n",
       " 577600,\n",
       " 579121,\n",
       " 580644,\n",
       " 582169,\n",
       " 583696,\n",
       " 585225,\n",
       " 586756,\n",
       " 588289,\n",
       " 589824,\n",
       " 591361,\n",
       " 592900,\n",
       " 594441,\n",
       " 595984,\n",
       " 597529,\n",
       " 599076,\n",
       " 600625,\n",
       " 602176,\n",
       " 603729,\n",
       " 605284,\n",
       " 606841,\n",
       " 608400,\n",
       " 609961,\n",
       " 611524,\n",
       " 613089,\n",
       " 614656,\n",
       " 616225,\n",
       " 617796,\n",
       " 619369,\n",
       " 620944,\n",
       " 622521,\n",
       " 624100,\n",
       " 625681,\n",
       " 627264,\n",
       " 628849,\n",
       " 630436,\n",
       " 632025,\n",
       " 633616,\n",
       " 635209,\n",
       " 636804,\n",
       " 638401,\n",
       " 640000,\n",
       " 641601,\n",
       " 643204,\n",
       " 644809,\n",
       " 646416,\n",
       " 648025,\n",
       " 649636,\n",
       " 651249,\n",
       " 652864,\n",
       " 654481,\n",
       " 656100,\n",
       " 657721,\n",
       " 659344,\n",
       " 660969,\n",
       " 662596,\n",
       " 664225,\n",
       " 665856,\n",
       " 667489,\n",
       " 669124,\n",
       " 670761,\n",
       " 672400,\n",
       " 674041,\n",
       " 675684,\n",
       " 677329,\n",
       " 678976,\n",
       " 680625,\n",
       " 682276,\n",
       " 683929,\n",
       " 685584,\n",
       " 687241,\n",
       " 688900,\n",
       " 690561,\n",
       " 692224,\n",
       " 693889,\n",
       " 695556,\n",
       " 697225,\n",
       " 698896,\n",
       " 700569,\n",
       " 702244,\n",
       " 703921,\n",
       " 705600,\n",
       " 707281,\n",
       " 708964,\n",
       " 710649,\n",
       " 712336,\n",
       " 714025,\n",
       " 715716,\n",
       " 717409,\n",
       " 719104,\n",
       " 720801,\n",
       " 722500,\n",
       " 724201,\n",
       " 725904,\n",
       " 727609,\n",
       " 729316,\n",
       " 731025,\n",
       " 732736,\n",
       " 734449,\n",
       " 736164,\n",
       " 737881,\n",
       " 739600,\n",
       " 741321,\n",
       " 743044,\n",
       " 744769,\n",
       " 746496,\n",
       " 748225,\n",
       " 749956,\n",
       " 751689,\n",
       " 753424,\n",
       " 755161,\n",
       " 756900,\n",
       " 758641,\n",
       " 760384,\n",
       " 762129,\n",
       " 763876,\n",
       " 765625,\n",
       " 767376,\n",
       " 769129,\n",
       " 770884,\n",
       " 772641,\n",
       " 774400,\n",
       " 776161,\n",
       " 777924,\n",
       " 779689,\n",
       " 781456,\n",
       " 783225,\n",
       " 784996,\n",
       " 786769,\n",
       " 788544,\n",
       " 790321,\n",
       " 792100,\n",
       " 793881,\n",
       " 795664,\n",
       " 797449,\n",
       " 799236,\n",
       " 801025,\n",
       " 802816,\n",
       " 804609,\n",
       " 806404,\n",
       " 808201,\n",
       " 810000,\n",
       " 811801,\n",
       " 813604,\n",
       " 815409,\n",
       " 817216,\n",
       " 819025,\n",
       " 820836,\n",
       " 822649,\n",
       " 824464,\n",
       " 826281,\n",
       " 828100,\n",
       " 829921,\n",
       " 831744,\n",
       " 833569,\n",
       " 835396,\n",
       " 837225,\n",
       " 839056,\n",
       " 840889,\n",
       " 842724,\n",
       " 844561,\n",
       " 846400,\n",
       " 848241,\n",
       " 850084,\n",
       " 851929,\n",
       " 853776,\n",
       " 855625,\n",
       " 857476,\n",
       " 859329,\n",
       " 861184,\n",
       " 863041,\n",
       " 864900,\n",
       " 866761,\n",
       " 868624,\n",
       " 870489,\n",
       " 872356,\n",
       " 874225,\n",
       " 876096,\n",
       " 877969,\n",
       " 879844,\n",
       " 881721,\n",
       " 883600,\n",
       " 885481,\n",
       " 887364,\n",
       " 889249,\n",
       " 891136,\n",
       " 893025,\n",
       " 894916,\n",
       " 896809,\n",
       " 898704,\n",
       " 900601,\n",
       " 902500,\n",
       " 904401,\n",
       " 906304,\n",
       " 908209,\n",
       " 910116,\n",
       " 912025,\n",
       " 913936,\n",
       " 915849,\n",
       " 917764,\n",
       " 919681,\n",
       " 921600,\n",
       " 923521,\n",
       " 925444,\n",
       " 927369,\n",
       " 929296,\n",
       " 931225,\n",
       " 933156,\n",
       " 935089,\n",
       " 937024,\n",
       " 938961,\n",
       " 940900,\n",
       " 942841,\n",
       " 944784,\n",
       " 946729,\n",
       " 948676,\n",
       " 950625,\n",
       " 952576,\n",
       " 954529,\n",
       " 956484,\n",
       " 958441,\n",
       " 960400,\n",
       " 962361,\n",
       " 964324,\n",
       " 966289,\n",
       " 968256,\n",
       " 970225,\n",
       " 972196,\n",
       " 974169,\n",
       " 976144,\n",
       " 978121,\n",
       " 980100,\n",
       " 982081,\n",
       " 984064,\n",
       " 986049,\n",
       " 988036,\n",
       " 990025,\n",
       " 992016,\n",
       " 994009,\n",
       " 996004,\n",
       " 998001,\n",
       " 1000000]"
      ]
     },
     "execution_count": 39,
     "metadata": {},
     "output_type": "execute_result"
    }
   ],
   "source": [
    "%%time\n",
    "\n",
    "[i**2 for i in range(1,1001)]"
   ]
  },
  {
   "cell_type": "markdown",
   "id": "e415ecca",
   "metadata": {},
   "source": [
    "How much time does python take to square all the elements in a numpy array?"
   ]
  },
  {
   "cell_type": "code",
   "execution_count": 43,
   "id": "240190bd",
   "metadata": {},
   "outputs": [
    {
     "name": "stdout",
     "output_type": "stream",
     "text": [
      "CPU times: user 509 µs, sys: 159 µs, total: 668 µs\n",
      "Wall time: 606 µs\n"
     ]
    },
    {
     "data": {
      "text/plain": [
       "array([      1,       4,       9,      16,      25,      36,      49,\n",
       "            64,      81,     100,     121,     144,     169,     196,\n",
       "           225,     256,     289,     324,     361,     400,     441,\n",
       "           484,     529,     576,     625,     676,     729,     784,\n",
       "           841,     900,     961,    1024,    1089,    1156,    1225,\n",
       "          1296,    1369,    1444,    1521,    1600,    1681,    1764,\n",
       "          1849,    1936,    2025,    2116,    2209,    2304,    2401,\n",
       "          2500,    2601,    2704,    2809,    2916,    3025,    3136,\n",
       "          3249,    3364,    3481,    3600,    3721,    3844,    3969,\n",
       "          4096,    4225,    4356,    4489,    4624,    4761,    4900,\n",
       "          5041,    5184,    5329,    5476,    5625,    5776,    5929,\n",
       "          6084,    6241,    6400,    6561,    6724,    6889,    7056,\n",
       "          7225,    7396,    7569,    7744,    7921,    8100,    8281,\n",
       "          8464,    8649,    8836,    9025,    9216,    9409,    9604,\n",
       "          9801,   10000,   10201,   10404,   10609,   10816,   11025,\n",
       "         11236,   11449,   11664,   11881,   12100,   12321,   12544,\n",
       "         12769,   12996,   13225,   13456,   13689,   13924,   14161,\n",
       "         14400,   14641,   14884,   15129,   15376,   15625,   15876,\n",
       "         16129,   16384,   16641,   16900,   17161,   17424,   17689,\n",
       "         17956,   18225,   18496,   18769,   19044,   19321,   19600,\n",
       "         19881,   20164,   20449,   20736,   21025,   21316,   21609,\n",
       "         21904,   22201,   22500,   22801,   23104,   23409,   23716,\n",
       "         24025,   24336,   24649,   24964,   25281,   25600,   25921,\n",
       "         26244,   26569,   26896,   27225,   27556,   27889,   28224,\n",
       "         28561,   28900,   29241,   29584,   29929,   30276,   30625,\n",
       "         30976,   31329,   31684,   32041,   32400,   32761,   33124,\n",
       "         33489,   33856,   34225,   34596,   34969,   35344,   35721,\n",
       "         36100,   36481,   36864,   37249,   37636,   38025,   38416,\n",
       "         38809,   39204,   39601,   40000,   40401,   40804,   41209,\n",
       "         41616,   42025,   42436,   42849,   43264,   43681,   44100,\n",
       "         44521,   44944,   45369,   45796,   46225,   46656,   47089,\n",
       "         47524,   47961,   48400,   48841,   49284,   49729,   50176,\n",
       "         50625,   51076,   51529,   51984,   52441,   52900,   53361,\n",
       "         53824,   54289,   54756,   55225,   55696,   56169,   56644,\n",
       "         57121,   57600,   58081,   58564,   59049,   59536,   60025,\n",
       "         60516,   61009,   61504,   62001,   62500,   63001,   63504,\n",
       "         64009,   64516,   65025,   65536,   66049,   66564,   67081,\n",
       "         67600,   68121,   68644,   69169,   69696,   70225,   70756,\n",
       "         71289,   71824,   72361,   72900,   73441,   73984,   74529,\n",
       "         75076,   75625,   76176,   76729,   77284,   77841,   78400,\n",
       "         78961,   79524,   80089,   80656,   81225,   81796,   82369,\n",
       "         82944,   83521,   84100,   84681,   85264,   85849,   86436,\n",
       "         87025,   87616,   88209,   88804,   89401,   90000,   90601,\n",
       "         91204,   91809,   92416,   93025,   93636,   94249,   94864,\n",
       "         95481,   96100,   96721,   97344,   97969,   98596,   99225,\n",
       "         99856,  100489,  101124,  101761,  102400,  103041,  103684,\n",
       "        104329,  104976,  105625,  106276,  106929,  107584,  108241,\n",
       "        108900,  109561,  110224,  110889,  111556,  112225,  112896,\n",
       "        113569,  114244,  114921,  115600,  116281,  116964,  117649,\n",
       "        118336,  119025,  119716,  120409,  121104,  121801,  122500,\n",
       "        123201,  123904,  124609,  125316,  126025,  126736,  127449,\n",
       "        128164,  128881,  129600,  130321,  131044,  131769,  132496,\n",
       "        133225,  133956,  134689,  135424,  136161,  136900,  137641,\n",
       "        138384,  139129,  139876,  140625,  141376,  142129,  142884,\n",
       "        143641,  144400,  145161,  145924,  146689,  147456,  148225,\n",
       "        148996,  149769,  150544,  151321,  152100,  152881,  153664,\n",
       "        154449,  155236,  156025,  156816,  157609,  158404,  159201,\n",
       "        160000,  160801,  161604,  162409,  163216,  164025,  164836,\n",
       "        165649,  166464,  167281,  168100,  168921,  169744,  170569,\n",
       "        171396,  172225,  173056,  173889,  174724,  175561,  176400,\n",
       "        177241,  178084,  178929,  179776,  180625,  181476,  182329,\n",
       "        183184,  184041,  184900,  185761,  186624,  187489,  188356,\n",
       "        189225,  190096,  190969,  191844,  192721,  193600,  194481,\n",
       "        195364,  196249,  197136,  198025,  198916,  199809,  200704,\n",
       "        201601,  202500,  203401,  204304,  205209,  206116,  207025,\n",
       "        207936,  208849,  209764,  210681,  211600,  212521,  213444,\n",
       "        214369,  215296,  216225,  217156,  218089,  219024,  219961,\n",
       "        220900,  221841,  222784,  223729,  224676,  225625,  226576,\n",
       "        227529,  228484,  229441,  230400,  231361,  232324,  233289,\n",
       "        234256,  235225,  236196,  237169,  238144,  239121,  240100,\n",
       "        241081,  242064,  243049,  244036,  245025,  246016,  247009,\n",
       "        248004,  249001,  250000,  251001,  252004,  253009,  254016,\n",
       "        255025,  256036,  257049,  258064,  259081,  260100,  261121,\n",
       "        262144,  263169,  264196,  265225,  266256,  267289,  268324,\n",
       "        269361,  270400,  271441,  272484,  273529,  274576,  275625,\n",
       "        276676,  277729,  278784,  279841,  280900,  281961,  283024,\n",
       "        284089,  285156,  286225,  287296,  288369,  289444,  290521,\n",
       "        291600,  292681,  293764,  294849,  295936,  297025,  298116,\n",
       "        299209,  300304,  301401,  302500,  303601,  304704,  305809,\n",
       "        306916,  308025,  309136,  310249,  311364,  312481,  313600,\n",
       "        314721,  315844,  316969,  318096,  319225,  320356,  321489,\n",
       "        322624,  323761,  324900,  326041,  327184,  328329,  329476,\n",
       "        330625,  331776,  332929,  334084,  335241,  336400,  337561,\n",
       "        338724,  339889,  341056,  342225,  343396,  344569,  345744,\n",
       "        346921,  348100,  349281,  350464,  351649,  352836,  354025,\n",
       "        355216,  356409,  357604,  358801,  360000,  361201,  362404,\n",
       "        363609,  364816,  366025,  367236,  368449,  369664,  370881,\n",
       "        372100,  373321,  374544,  375769,  376996,  378225,  379456,\n",
       "        380689,  381924,  383161,  384400,  385641,  386884,  388129,\n",
       "        389376,  390625,  391876,  393129,  394384,  395641,  396900,\n",
       "        398161,  399424,  400689,  401956,  403225,  404496,  405769,\n",
       "        407044,  408321,  409600,  410881,  412164,  413449,  414736,\n",
       "        416025,  417316,  418609,  419904,  421201,  422500,  423801,\n",
       "        425104,  426409,  427716,  429025,  430336,  431649,  432964,\n",
       "        434281,  435600,  436921,  438244,  439569,  440896,  442225,\n",
       "        443556,  444889,  446224,  447561,  448900,  450241,  451584,\n",
       "        452929,  454276,  455625,  456976,  458329,  459684,  461041,\n",
       "        462400,  463761,  465124,  466489,  467856,  469225,  470596,\n",
       "        471969,  473344,  474721,  476100,  477481,  478864,  480249,\n",
       "        481636,  483025,  484416,  485809,  487204,  488601,  490000,\n",
       "        491401,  492804,  494209,  495616,  497025,  498436,  499849,\n",
       "        501264,  502681,  504100,  505521,  506944,  508369,  509796,\n",
       "        511225,  512656,  514089,  515524,  516961,  518400,  519841,\n",
       "        521284,  522729,  524176,  525625,  527076,  528529,  529984,\n",
       "        531441,  532900,  534361,  535824,  537289,  538756,  540225,\n",
       "        541696,  543169,  544644,  546121,  547600,  549081,  550564,\n",
       "        552049,  553536,  555025,  556516,  558009,  559504,  561001,\n",
       "        562500,  564001,  565504,  567009,  568516,  570025,  571536,\n",
       "        573049,  574564,  576081,  577600,  579121,  580644,  582169,\n",
       "        583696,  585225,  586756,  588289,  589824,  591361,  592900,\n",
       "        594441,  595984,  597529,  599076,  600625,  602176,  603729,\n",
       "        605284,  606841,  608400,  609961,  611524,  613089,  614656,\n",
       "        616225,  617796,  619369,  620944,  622521,  624100,  625681,\n",
       "        627264,  628849,  630436,  632025,  633616,  635209,  636804,\n",
       "        638401,  640000,  641601,  643204,  644809,  646416,  648025,\n",
       "        649636,  651249,  652864,  654481,  656100,  657721,  659344,\n",
       "        660969,  662596,  664225,  665856,  667489,  669124,  670761,\n",
       "        672400,  674041,  675684,  677329,  678976,  680625,  682276,\n",
       "        683929,  685584,  687241,  688900,  690561,  692224,  693889,\n",
       "        695556,  697225,  698896,  700569,  702244,  703921,  705600,\n",
       "        707281,  708964,  710649,  712336,  714025,  715716,  717409,\n",
       "        719104,  720801,  722500,  724201,  725904,  727609,  729316,\n",
       "        731025,  732736,  734449,  736164,  737881,  739600,  741321,\n",
       "        743044,  744769,  746496,  748225,  749956,  751689,  753424,\n",
       "        755161,  756900,  758641,  760384,  762129,  763876,  765625,\n",
       "        767376,  769129,  770884,  772641,  774400,  776161,  777924,\n",
       "        779689,  781456,  783225,  784996,  786769,  788544,  790321,\n",
       "        792100,  793881,  795664,  797449,  799236,  801025,  802816,\n",
       "        804609,  806404,  808201,  810000,  811801,  813604,  815409,\n",
       "        817216,  819025,  820836,  822649,  824464,  826281,  828100,\n",
       "        829921,  831744,  833569,  835396,  837225,  839056,  840889,\n",
       "        842724,  844561,  846400,  848241,  850084,  851929,  853776,\n",
       "        855625,  857476,  859329,  861184,  863041,  864900,  866761,\n",
       "        868624,  870489,  872356,  874225,  876096,  877969,  879844,\n",
       "        881721,  883600,  885481,  887364,  889249,  891136,  893025,\n",
       "        894916,  896809,  898704,  900601,  902500,  904401,  906304,\n",
       "        908209,  910116,  912025,  913936,  915849,  917764,  919681,\n",
       "        921600,  923521,  925444,  927369,  929296,  931225,  933156,\n",
       "        935089,  937024,  938961,  940900,  942841,  944784,  946729,\n",
       "        948676,  950625,  952576,  954529,  956484,  958441,  960400,\n",
       "        962361,  964324,  966289,  968256,  970225,  972196,  974169,\n",
       "        976144,  978121,  980100,  982081,  984064,  986049,  988036,\n",
       "        990025,  992016,  994009,  996004,  998001, 1000000])"
      ]
     },
     "execution_count": 43,
     "metadata": {},
     "output_type": "execute_result"
    }
   ],
   "source": [
    "%%time\n",
    "arr=np.arange(1,1001)\n",
    "arr**2"
   ]
  },
  {
   "cell_type": "markdown",
   "id": "73656a21",
   "metadata": {},
   "source": [
    "We can see numpy array is more than 200 times faster than normal lists!"
   ]
  },
  {
   "cell_type": "markdown",
   "id": "f9428461",
   "metadata": {},
   "source": [
    "### Advanced Features:\n",
    "\n",
    "7. **Broadcasting:**\n",
    "   - NumPy arrays support broadcasting, allowing operations on arrays of different shapes.\n",
    "    "
   ]
  },
  {
   "cell_type": "code",
   "execution_count": 33,
   "id": "773f940b",
   "metadata": {},
   "outputs": [
    {
     "data": {
      "text/plain": [
       "array([[11, 22, 33],\n",
       "       [14, 25, 36]])"
      ]
     },
     "execution_count": 33,
     "metadata": {},
     "output_type": "execute_result"
    }
   ],
   "source": [
    "a = np.array([[1, 2, 3], [4, 5, 6]])\n",
    "b = np.array([10, 20, 30])\n",
    "result = a + b\n",
    "result"
   ]
  },
  {
   "cell_type": "markdown",
   "id": "169712a4",
   "metadata": {},
   "source": [
    "### Linear Algebra Operations:\n",
    "\n",
    "8. **Dot Product:**\n",
    "   - Perform the dot product of two arrays using `np.dot()` or the `@` operator.\n",
    "    "
   ]
  },
  {
   "cell_type": "code",
   "execution_count": 268,
   "id": "7e3c12d2",
   "metadata": {},
   "outputs": [
    {
     "data": {
      "text/plain": [
       "array([[19, 22],\n",
       "       [43, 50]])"
      ]
     },
     "execution_count": 268,
     "metadata": {},
     "output_type": "execute_result"
    }
   ],
   "source": [
    "matrix_a = np.array([[1, 2], [3, 4]])\n",
    "matrix_b = np.array([[5, 6], [7, 8]])\n",
    "result = np.dot(matrix_a, matrix_b)\n",
    "result"
   ]
  },
  {
   "cell_type": "markdown",
   "id": "31557295",
   "metadata": {},
   "source": [
    " 10. **Matrix Inversion:**\n",
    "   - Invert a square matrix using `np.linalg.inv()`.\n",
    "   "
   ]
  },
  {
   "cell_type": "code",
   "execution_count": 36,
   "id": "4c82e532",
   "metadata": {},
   "outputs": [
    {
     "data": {
      "text/plain": [
       "array([[-2. ,  1. ],\n",
       "       [ 1.5, -0.5]])"
      ]
     },
     "execution_count": 36,
     "metadata": {},
     "output_type": "execute_result"
    }
   ],
   "source": [
    "inverted_matrix = np.linalg.inv(matrix_a)\n",
    "inverted_matrix"
   ]
  },
  {
   "cell_type": "code",
   "execution_count": 273,
   "id": "8d92d3a4",
   "metadata": {},
   "outputs": [],
   "source": [
    "class Python:\n",
    "    students = 20\n",
    "\n",
    "class Masai(Python):\n",
    "    weekend = True"
   ]
  },
  {
   "cell_type": "code",
   "execution_count": 274,
   "id": "be326da4",
   "metadata": {},
   "outputs": [],
   "source": [
    "obj = Masai()"
   ]
  },
  {
   "cell_type": "code",
   "execution_count": 275,
   "id": "653658f6",
   "metadata": {},
   "outputs": [
    {
     "data": {
      "text/plain": [
       "True"
      ]
     },
     "execution_count": 275,
     "metadata": {},
     "output_type": "execute_result"
    }
   ],
   "source": [
    "isinstance(obj, Masai)"
   ]
  },
  {
   "cell_type": "code",
   "execution_count": 276,
   "id": "9b0f2d5b",
   "metadata": {},
   "outputs": [
    {
     "data": {
      "text/plain": [
       "True"
      ]
     },
     "execution_count": 276,
     "metadata": {},
     "output_type": "execute_result"
    }
   ],
   "source": [
    "isinstance(obj,Python)"
   ]
  },
  {
   "cell_type": "code",
   "execution_count": null,
   "id": "2ec21ba0",
   "metadata": {},
   "outputs": [],
   "source": []
  },
  {
   "cell_type": "code",
   "execution_count": 277,
   "id": "c60239a1",
   "metadata": {},
   "outputs": [],
   "source": [
    "obj2 = Python()"
   ]
  },
  {
   "cell_type": "code",
   "execution_count": 278,
   "id": "7192c390",
   "metadata": {},
   "outputs": [
    {
     "data": {
      "text/plain": [
       "True"
      ]
     },
     "execution_count": 278,
     "metadata": {},
     "output_type": "execute_result"
    }
   ],
   "source": [
    "isinstance(obj2,Python)"
   ]
  },
  {
   "cell_type": "code",
   "execution_count": 279,
   "id": "4c481b17",
   "metadata": {},
   "outputs": [
    {
     "data": {
      "text/plain": [
       "False"
      ]
     },
     "execution_count": 279,
     "metadata": {},
     "output_type": "execute_result"
    }
   ],
   "source": [
    "isinstance(obj2,Masai)"
   ]
  },
  {
   "cell_type": "code",
   "execution_count": null,
   "id": "98c341f3",
   "metadata": {},
   "outputs": [],
   "source": []
  },
  {
   "cell_type": "code",
   "execution_count": null,
   "id": "d3fcde42",
   "metadata": {},
   "outputs": [],
   "source": []
  },
  {
   "cell_type": "markdown",
   "id": "3004a44d",
   "metadata": {},
   "source": [
    "These are just a few examples of the many random number generation functions provided by NumPy. Understanding these functions allows you to generate random values for various applications, such as statistical analysis, and machine learning. Additionally, many of these functions support various parameters for customization, so it's recommended to refer to the [NumPy documentation](https://numpy.org/doc/stable/reference/random/index.html) for more details and options."
   ]
  }
 ],
 "metadata": {
  "kernelspec": {
   "display_name": "Python 3 (ipykernel)",
   "language": "python",
   "name": "python3"
  },
  "language_info": {
   "codemirror_mode": {
    "name": "ipython",
    "version": 3
   },
   "file_extension": ".py",
   "mimetype": "text/x-python",
   "name": "python",
   "nbconvert_exporter": "python",
   "pygments_lexer": "ipython3",
   "version": "3.12.0"
  }
 },
 "nbformat": 4,
 "nbformat_minor": 5
}
