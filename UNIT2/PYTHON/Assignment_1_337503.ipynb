{
 "cells": [
  {
   "cell_type": "markdown",
   "id": "iMRQbvL9TyGb",
   "metadata": {
    "id": "iMRQbvL9TyGb"
   },
   "source": [
    "# Assignment on Lec 1"
   ]
  },
  {
   "cell_type": "markdown",
   "id": "YS-MMNFfTyGm",
   "metadata": {
    "id": "YS-MMNFfTyGm"
   },
   "source": [
    "### 1. Print the Data type of 25, Masai, 34 in three different lines?"
   ]
  },
  {
   "cell_type": "code",
   "execution_count": 1,
   "id": "e8rls56OTyGo",
   "metadata": {
    "ExecuteTime": {
     "end_time": "2022-01-14T03:05:56.325047Z",
     "start_time": "2022-01-14T03:05:56.317061Z"
    },
    "id": "e8rls56OTyGo"
   },
   "outputs": [
    {
     "name": "stdout",
     "output_type": "stream",
     "text": [
      "<class 'int'>\n",
      "<class 'str'>\n",
      "<class 'int'>\n"
     ]
    }
   ],
   "source": [
    "print(type(25))\n",
    "print(type(\"Masai\"))\n",
    "print(type(34))"
   ]
  },
  {
   "cell_type": "markdown",
   "id": "VHdZ3PESTyGq",
   "metadata": {
    "id": "VHdZ3PESTyGq"
   },
   "source": [
    "### 2. Take input from the user and print it\n"
   ]
  },
  {
   "cell_type": "code",
   "execution_count": 2,
   "id": "SleXFWU9TyGr",
   "metadata": {
    "ExecuteTime": {
     "end_time": "2022-01-14T03:11:57.176375Z",
     "start_time": "2022-01-14T03:11:57.168374Z"
    },
    "id": "SleXFWU9TyGr"
   },
   "outputs": [],
   "source": [
    "#here goes the code\n",
    "user = input(\"Input your name :\")\n",
    "print(user)"
   ]
  },
  {
   "cell_type": "markdown",
   "id": "OYo7T1zCTyG0",
   "metadata": {
    "id": "OYo7T1zCTyG0"
   },
   "source": [
    "# Great Job !"
   ]
  }
 ],
 "metadata": {
  "colab": {
   "name": "Assignment 1.ipynb",
   "provenance": []
  },
  "hide_input": false,
  "kernelspec": {
   "display_name": "Python 3 (ipykernel)",
   "language": "python",
   "name": "python3"
  },
  "language_info": {
   "codemirror_mode": {
    "name": "ipython",
    "version": 3
   },
   "file_extension": ".py",
   "mimetype": "text/x-python",
   "name": "python",
   "nbconvert_exporter": "python",
   "pygments_lexer": "ipython3",
   "version": "3.12.0"
  },
  "toc": {
   "base_numbering": 1,
   "nav_menu": {},
   "number_sections": true,
   "sideBar": true,
   "skip_h1_title": false,
   "title_cell": "Table of Contents",
   "title_sidebar": "Contents",
   "toc_cell": false,
   "toc_position": {
    "height": "calc(100% - 180px)",
    "left": "10px",
    "top": "150px",
    "width": "260.952px"
   },
   "toc_section_display": true,
   "toc_window_display": true
  },
  "vscode": {
   "interpreter": {
    "hash": "afc0e2615fe40efa9d967741fe6f03f81b8aedd3aac1c657c278886e5e05a3bd"
   }
  }
 },
 "nbformat": 4,
 "nbformat_minor": 5
}
