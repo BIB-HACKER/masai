{
 "cells": [
  {
   "cell_type": "markdown",
   "id": "83c477b6",
   "metadata": {
    "id": "83c477b6"
   },
   "source": [
    "# Python Fundamentals PSC"
   ]
  },
  {
   "cell_type": "markdown",
   "id": "be33f8d2",
   "metadata": {
    "id": "be33f8d2"
   },
   "source": [
    "![](https://surrey.codekids.org/wp-content/uploads/2019/11/python-code-kids-700x450.jpg)"
   ]
  },
  {
   "cell_type": "markdown",
   "id": "24deec2e",
   "metadata": {
    "id": "24deec2e"
   },
   "source": [
    "1. Write a Python function to count the number of vowels in a given string.\n",
    "\n",
    "Inputs:\n",
    "- Masai School\n",
    "- Data Science\n",
    "- Data Analysis"
   ]
  },
  {
   "cell_type": "code",
   "execution_count": 1,
   "id": "f4d67880",
   "metadata": {
    "colab": {
     "base_uri": "https://localhost:8080/"
    },
    "id": "f4d67880",
    "outputId": "3e89aefa-9be2-4b74-a90d-ddf936922baa"
   },
   "outputs": [
    {
     "name": "stdout",
     "output_type": "stream",
     "text": [
      "Masai School\n",
      "5\n"
     ]
    }
   ],
   "source": [
    "def vowels(string):\n",
    "  vow = \"aeiouAEIOU\"\n",
    "  count=0\n",
    "  for i in string:\n",
    "    if i in vow:\n",
    "      count+=1\n",
    "  return count\n",
    "\n",
    "string = input()\n",
    "print(vowels(string))"
   ]
  },
  {
   "cell_type": "markdown",
   "id": "653abced",
   "metadata": {
    "id": "653abced"
   },
   "source": [
    "2. Write a function to check if two strings are anagrams.\n",
    "\n",
    "> An anagram is a word or phrase that is formed by rearranging the letters of another word or phrase, using all the original letters exactly once. In other words, two words or phrases are considered anagrams if they have the same characters with the same frequency, but in a different order.\n",
    "\n",
    "Inputs:\n",
    "\n",
    "- \"listen\" and \"silent\"\n",
    "- \"act\" and \"cat\"\n",
    "- \"debit card\" and \"bad credit\""
   ]
  },
  {
   "cell_type": "code",
   "execution_count": 2,
   "id": "15ac3d9e",
   "metadata": {
    "colab": {
     "base_uri": "https://localhost:8080/"
    },
    "id": "15ac3d9e",
    "outputId": "1a8055a3-1a8c-4169-ecce-294932ffedfd"
   },
   "outputs": [
    {
     "name": "stdout",
     "output_type": "stream",
     "text": [
      "listen\n",
      "silent\n",
      "This is Anagrams string\n"
     ]
    }
   ],
   "source": [
    "def anagrams(str1,str2):\n",
    "    a=[]\n",
    "    b=[]\n",
    "    for i in str1:\n",
    "        a.append(i)\n",
    "    for j in str2:\n",
    "      b.append(j)\n",
    "\n",
    "    a.sort()\n",
    "    b.sort()\n",
    "    if a==b:\n",
    "      return(\"This is Anagrams string\")\n",
    "    else:\n",
    "      return(\"This is not Anagrams string\")\n",
    "\n",
    "str1 = input()\n",
    "str2 = input()\n",
    "print(anagrams(str1,str2))\n",
    "\n"
   ]
  },
  {
   "cell_type": "markdown",
   "id": "16983394",
   "metadata": {
    "id": "16983394"
   },
   "source": [
    "3. Write a function to check if a given number is an Armstrong number\n",
    "\n",
    "> An armstrong number is a number that is the sum of its own digits each raised to the power of the number of digits.\n",
    "\n",
    "Inputs:\n",
    "- 153\n",
    "- 1634\n",
    "- 53"
   ]
  },
  {
   "cell_type": "code",
   "execution_count": 3,
   "id": "5fda8c72",
   "metadata": {
    "colab": {
     "base_uri": "https://localhost:8080/"
    },
    "id": "5fda8c72",
    "outputId": "72c47de6-bd26-4f2d-b161-e591696a0cd0"
   },
   "outputs": [
    {
     "name": "stdout",
     "output_type": "stream",
     "text": [
      "153\n",
      "Number is a Armstrong\n"
     ]
    }
   ],
   "source": [
    "def Armstrong(number,length):\n",
    "  num=number\n",
    "  a=0\n",
    "  sum=0\n",
    "  for i in range(length):\n",
    "     a = num%10\n",
    "     num//=10\n",
    "     sum+=pow(a,length)\n",
    "\n",
    "  if sum==number:\n",
    "     return (\"Number is a Armstrong\")\n",
    "  else:\n",
    "     return (\"Number is not a Armstrong\")\n",
    "\n",
    "number = int(input())\n",
    "length=len(str(number))\n",
    "print(Armstrong(number,length))"
   ]
  },
  {
   "cell_type": "markdown",
   "id": "89c18840",
   "metadata": {
    "id": "89c18840"
   },
   "source": [
    "4. Write a function to print second largest number in a list.\n",
    "\n",
    "Inputs:\n",
    "- [12,34,1,23,54,3]\n",
    "- [0.688, 0.970, 0.632, 0.765, 0.412]\n",
    "- [47, 4, 87, 78, 67]\n"
   ]
  },
  {
   "cell_type": "code",
   "execution_count": 4,
   "id": "0114b3a7",
   "metadata": {
    "colab": {
     "base_uri": "https://localhost:8080/"
    },
    "id": "0114b3a7",
    "outputId": "ed037932-4bab-4f2d-f5e5-400b777527ed"
   },
   "outputs": [
    {
     "name": "stdout",
     "output_type": "stream",
     "text": [
      "12 34 1 23 54 3\n",
      "34\n"
     ]
    }
   ],
   "source": [
    "def largenum(l):\n",
    "  lar = max(l)\n",
    "  seclar = 0\n",
    "\n",
    "  for x in l:\n",
    "    if x != lar:\n",
    "      if seclar == None:\n",
    "        seclar=x\n",
    "      else:\n",
    "        seclar = max(seclar,x)\n",
    "\n",
    "\n",
    "  return seclar\n",
    "\n",
    "l = list(map(int,input().split()))\n",
    "print(largenum(l))"
   ]
  },
  {
   "cell_type": "markdown",
   "id": "e10ca7d1",
   "metadata": {
    "id": "e10ca7d1"
   },
   "source": [
    "5. Print a diamond pattern using asterisks.\n",
    "\n",
    "            \n",
    "                   *\n",
    "                  * *\n",
    "                 * * *\n",
    "                * * * *\n",
    "                 * * *\n",
    "                  * *\n",
    "                   *\n",
    "            "
   ]
  },
  {
   "cell_type": "code",
   "execution_count": 7,
   "id": "b6183337",
   "metadata": {
    "colab": {
     "base_uri": "https://localhost:8080/"
    },
    "id": "b6183337",
    "outputId": "9b615380-2407-49d1-be41-5bd80bacde0a"
   },
   "outputs": [
    {
     "name": "stdout",
     "output_type": "stream",
     "text": [
      "4\n",
      "   * \n",
      "  * * \n",
      " * * * \n",
      "* * * * \n",
      " * * * \n",
      "  * * \n",
      "   * \n"
     ]
    }
   ],
   "source": [
    "n=int(input())\n",
    "\n",
    "for i in range(1,n+1):\n",
    "  print(\" \"*(n-i)+\"* \"*i)\n",
    "for i in range(n-1,0,-1):\n",
    "  print(\" \"*(n-i)+\"* \"*i)"
   ]
  },
  {
   "cell_type": "markdown",
   "id": "2864b5b3",
   "metadata": {
    "id": "2864b5b3"
   },
   "source": [
    "6. Write a Python function to implement the sort function for sorting a list of integers in ascending order. Avoid using built-in sorting functions such as `sorted` or `sort`. The function should take a list of integers as input and return the sorted list.\n",
    "\n",
    "Inputs\n",
    "- [3, 1, 4, 1, 5, 9, 2, 6, 5, 3, 5]\n",
    "- [-1,5,3,4,0]\n",
    "- [4,2,1,3]"
   ]
  },
  {
   "cell_type": "code",
   "execution_count": 8,
   "id": "d77743c0",
   "metadata": {
    "colab": {
     "base_uri": "https://localhost:8080/"
    },
    "id": "d77743c0",
    "outputId": "af287090-f569-48ac-de6d-a981ae2825b3"
   },
   "outputs": [
    {
     "name": "stdout",
     "output_type": "stream",
     "text": [
      "3 1 4 1 5 9 2 6 5 3 5\n",
      "[1, 1, 2, 3, 3, 4, 5, 5, 5, 6, 9]\n"
     ]
    }
   ],
   "source": [
    "def custom_sort(lst):\n",
    "    n = len(lst)\n",
    "    for i in range(n):\n",
    "        for j in range(0, n-i-1):\n",
    "            if lst[j] > lst[j+1]:\n",
    "                lst[j], lst[j+1] = lst[j+1], lst[j]\n",
    "\n",
    "list1 = list(map(int,input().split()))\n",
    "custom_sort(list1)\n",
    "print(list1)"
   ]
  },
  {
   "cell_type": "markdown",
   "id": "bb6da8c2",
   "metadata": {
    "id": "bb6da8c2"
   },
   "source": [
    "7. Given a string, find the length of the longest substring without repeating characters.\n",
    "\n",
    "Inputs:\n",
    "- abcabcbb\n",
    "- abadadbc\n",
    "- pqrq"
   ]
  },
  {
   "cell_type": "code",
   "execution_count": 13,
   "id": "aecc48bb",
   "metadata": {
    "colab": {
     "base_uri": "https://localhost:8080/"
    },
    "id": "aecc48bb",
    "outputId": "2d91a78f-e05a-46ad-e1e0-896b772fe69e"
   },
   "outputs": [
    {
     "name": "stdout",
     "output_type": "stream",
     "text": [
      "abadadbc\n",
      "3\n"
     ]
    }
   ],
   "source": [
    "str1=input()\n",
    "max=0\n",
    "for i in str1:\n",
    "    s=str1.count(i)\n",
    "    if max<s:\n",
    "        max=s\n",
    "\n",
    "print(max)"
   ]
  }
 ],
 "metadata": {
  "colab": {
   "provenance": []
  },
  "kernelspec": {
   "display_name": "Python 3 (ipykernel)",
   "language": "python",
   "name": "python3"
  },
  "language_info": {
   "codemirror_mode": {
    "name": "ipython",
    "version": 3
   },
   "file_extension": ".py",
   "mimetype": "text/x-python",
   "name": "python",
   "nbconvert_exporter": "python",
   "pygments_lexer": "ipython3",
   "version": "3.12.0"
  }
 },
 "nbformat": 4,
 "nbformat_minor": 5
}
