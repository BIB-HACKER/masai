{
 "cells": [
  {
   "cell_type": "markdown",
   "id": "485f0b4d",
   "metadata": {},
   "source": [
    "# Introduction to Loops & Nested Loops \n",
    "\n",
    "> Loops are essential programming constructs that allow you to repeatedly execute a block of code. There are two main types of loops in Python: `for` and `while`.\n",
    "\n",
    "\n",
    "![](https://ioflood.com/blog/wp-content/uploads/2023/09/Python-loop-structures-for-and-while-loops-code-snippets-looping-arrows.jpg)"
   ]
  },
  {
   "cell_type": "markdown",
   "id": "949318ca",
   "metadata": {},
   "source": [
    "## `for` Loops:\n",
    "A `for` loop is used for iterating over a sequence (that is either a list, a tuple, a dictionary, a set, or a string).\n",
    "\n",
    "### Syntax:\n",
    "```\n",
    "for variable in sequence:\n",
    "    # code to be executed\n",
    "```"
   ]
  },
  {
   "cell_type": "code",
   "execution_count": null,
   "id": "40f47485",
   "metadata": {},
   "outputs": [],
   "source": [
    "# Example:\n",
    "fruits = [\"apple\", \"banana\", \"cherry\"]\n",
    "for fruit in fruits:\n",
    "    print(fruit)"
   ]
  },
  {
   "cell_type": "markdown",
   "id": "4a472dcf",
   "metadata": {},
   "source": [
    "#### Exercise:\n",
    "Print the square of each number in the list `[1, 2, 3, 4, 5]` using a `for` loop."
   ]
  },
  {
   "cell_type": "code",
   "execution_count": null,
   "id": "203195ef",
   "metadata": {},
   "outputs": [],
   "source": []
  },
  {
   "cell_type": "markdown",
   "id": "3bc935e7",
   "metadata": {},
   "source": [
    "### `while` Loops:\n",
    "A `while` loop is used to repeatedly execute a block of code as long as the given condition is true.\n",
    "\n",
    "#### Syntax:\n",
    "```\n",
    "while condition:\n",
    "    # code to be executed\n",
    "```"
   ]
  },
  {
   "cell_type": "code",
   "execution_count": null,
   "id": "7e51fe36",
   "metadata": {},
   "outputs": [],
   "source": [
    "# Example:\n",
    "count = 0\n",
    "while count < 5:\n",
    "    print(count)\n",
    "    count += 1"
   ]
  },
  {
   "cell_type": "markdown",
   "id": "90c6b4e8",
   "metadata": {},
   "source": [
    "#### Exercise:\n",
    "Create a `while` loop that prints the Fibonacci sequence up to the 10th term.\n",
    "\n",
    "*Hint:* Use tuple unpacking."
   ]
  },
  {
   "cell_type": "markdown",
   "id": "cbb902a5",
   "metadata": {},
   "source": [
    "### `range()` Function:\n",
    "The `range()` function is often used with `for` loops to generate a sequence of numbers.\n"
   ]
  },
  {
   "cell_type": "code",
   "execution_count": null,
   "id": "f25ddc2d",
   "metadata": {},
   "outputs": [],
   "source": [
    "#### Example:\n",
    "for i in range(1,11):\n",
    "    print(i)"
   ]
  },
  {
   "cell_type": "markdown",
   "id": "3e8f5e13",
   "metadata": {},
   "source": [
    "#### Exercise:\n",
    "Print the odd numbers from 1 to 10 using a `for` loop and the `range()` function."
   ]
  },
  {
   "cell_type": "code",
   "execution_count": null,
   "id": "46196a73",
   "metadata": {},
   "outputs": [],
   "source": []
  },
  {
   "cell_type": "markdown",
   "id": "92b35270",
   "metadata": {},
   "source": [
    "### Control Statements:\n",
    "You can use `break` and `continue` statements to control the flow of loops. \n"
   ]
  },
  {
   "cell_type": "code",
   "execution_count": null,
   "id": "2bd34d0c",
   "metadata": {},
   "outputs": [],
   "source": [
    "#### Example:\n",
    "for i in range(10):\n",
    "    if i == 3:\n",
    "        continue  # Skip the rest of the code in this iteration\n",
    "    if i == 8:\n",
    "        break  # Exit the loop when i reaches 8\n",
    "    print(i)"
   ]
  },
  {
   "cell_type": "markdown",
   "id": "cb21501d",
   "metadata": {},
   "source": [
    "#### Exercise:\n",
    "\n",
    "Modify the Fibonacci sequence `while` loop to break when the terms exceed 50.\n",
    "\n"
   ]
  },
  {
   "cell_type": "code",
   "execution_count": null,
   "id": "eed30605",
   "metadata": {},
   "outputs": [],
   "source": []
  },
  {
   "cell_type": "markdown",
   "id": "f7874f08",
   "metadata": {},
   "source": [
    "### Let's expand on the loop examples and include various parameters and concepts:\n",
    "\n",
    "#### `for` Loops:\n",
    "\n",
    "1. **Using `range()` with Start, Stop, and Step:**\n",
    "   \n",
    "   "
   ]
  },
  {
   "cell_type": "markdown",
   "id": "081aaf6d",
   "metadata": {},
   "source": [
    "Print the odd numbers from 1 to 10 using a for loop and the range() function."
   ]
  },
  {
   "cell_type": "code",
   "execution_count": null,
   "id": "6b5cff1b",
   "metadata": {},
   "outputs": [],
   "source": [
    "for i in range(1, 10, 2):\n",
    "       print(i)"
   ]
  },
  {
   "cell_type": "markdown",
   "id": "84a34056",
   "metadata": {},
   "source": [
    "2. **Looping Over a String:**"
   ]
  },
  {
   "cell_type": "code",
   "execution_count": null,
   "id": "985708b3",
   "metadata": {},
   "outputs": [],
   "source": [
    "word = \"Python\"\n",
    "for char in word:\n",
    "    print(char, end = \"\")"
   ]
  },
  {
   "cell_type": "markdown",
   "id": "db72ced7",
   "metadata": {},
   "source": [
    "3. **Looping Over a Dictionary:**\n",
    "  "
   ]
  },
  {
   "cell_type": "code",
   "execution_count": null,
   "id": "e8345ebf",
   "metadata": {},
   "outputs": [],
   "source": [
    "student_grades = {\"John\": 85, \"Alice\": 92, \"Bob\": 78}\n",
    "for name, grade in student_grades.items():\n",
    "    print(f\"{name}'s grade: {grade}\")"
   ]
  },
  {
   "cell_type": "markdown",
   "id": "84dc86c9",
   "metadata": {},
   "source": [
    "#### Exercise:\n",
    "Print the multiples of 3 from 1 to 20 using a `for` loop.\n"
   ]
  },
  {
   "cell_type": "code",
   "execution_count": null,
   "id": "b2be13f6",
   "metadata": {},
   "outputs": [],
   "source": []
  },
  {
   "cell_type": "markdown",
   "id": "0e725df7",
   "metadata": {},
   "source": [
    "#### `while` Loops:\n",
    "\n",
    "1. **Using `else` with `while` Loop:**"
   ]
  },
  {
   "cell_type": "code",
   "execution_count": null,
   "id": "508b2ff9",
   "metadata": {},
   "outputs": [],
   "source": [
    "count = 0\n",
    "while count < 5:\n",
    "    print(count)\n",
    "    count += 1\n",
    "else:\n",
    "    print(\"Loop finished\")"
   ]
  },
  {
   "cell_type": "markdown",
   "id": "34433aaa",
   "metadata": {},
   "source": [
    "2. **Infinite Loop with `while` and `break`:**"
   ]
  },
  {
   "cell_type": "code",
   "execution_count": null,
   "id": "03ebf745",
   "metadata": {},
   "outputs": [],
   "source": [
    "num = 1\n",
    "while True:\n",
    "    print(num)\n",
    "    num += 1\n",
    "    if num > 5:\n",
    "        break"
   ]
  },
  {
   "cell_type": "markdown",
   "id": "0994a559",
   "metadata": {},
   "source": [
    "#### Exercise:\n",
    "Write a `while` loop that prints the powers of 2 (starting from 2^0) until the result exceeds 100.\n"
   ]
  },
  {
   "cell_type": "code",
   "execution_count": null,
   "id": "3a332f86",
   "metadata": {},
   "outputs": [],
   "source": []
  },
  {
   "cell_type": "markdown",
   "id": "45c1b83d",
   "metadata": {},
   "source": [
    "#### Nested Loops:"
   ]
  },
  {
   "cell_type": "code",
   "execution_count": null,
   "id": "b43c8083",
   "metadata": {},
   "outputs": [],
   "source": [
    "for i in range(3):\n",
    "    print(i)\n",
    "    for j in range(2):\n",
    "        print(f\"({i}, {j})\")"
   ]
  },
  {
   "cell_type": "markdown",
   "id": "a47f7145",
   "metadata": {},
   "source": [
    "#### Exercise:\n",
    "Print a multiplication table (up to 10x10) using nested `for` loops.\n"
   ]
  },
  {
   "cell_type": "code",
   "execution_count": null,
   "id": "76e1374c",
   "metadata": {},
   "outputs": [],
   "source": []
  },
  {
   "cell_type": "markdown",
   "id": "a74901f5",
   "metadata": {},
   "source": [
    "### `enumerate()` \n",
    "The `enumerate()` function is used to iterate over a sequence (such as a list) along with keeping track of the index of the current item. It returns tuples containing the index and the corresponding element from the iterable.\n",
    "\n",
    "**Syntax:**\n",
    "```\n",
    "for index, value in enumerate(iterable):\n",
    "    # code to be executed\n",
    "```\n",
    "\n"
   ]
  },
  {
   "cell_type": "markdown",
   "id": "8509dac4",
   "metadata": {},
   "source": [
    "**Example:**\n",
    "\n",
    "\n"
   ]
  },
  {
   "cell_type": "code",
   "execution_count": null,
   "id": "6b359c27",
   "metadata": {},
   "outputs": [],
   "source": [
    "fruits = [\"apple\", \"banana\", \"cherry\"]\n",
    "for index, fruit in enumerate(fruits):\n",
    "    print(f\"Index {index}: {fruit}\")"
   ]
  },
  {
   "cell_type": "code",
   "execution_count": null,
   "id": "05ad2a7d",
   "metadata": {},
   "outputs": [],
   "source": [
    "fruits = [\"apple\", \"banana\", \"cherry\"]\n",
    "for index, fruit in enumerate(fruits):\n",
    "    print(index,fruit)"
   ]
  },
  {
   "cell_type": "markdown",
   "id": "a51b24cd",
   "metadata": {},
   "source": [
    "### Use Cases:\n",
    "- Useful when you need both the index and the value while iterating over a sequence.\n",
    "- Commonly used in loops where you want to track the position of elements.\n"
   ]
  },
  {
   "cell_type": "markdown",
   "id": "a3198f17",
   "metadata": {},
   "source": [
    "### `zip()`\n",
    "The `zip()` function is used to combine two or more iterables (lists, tuples, etc.) element-wise. It returns an iterator of tuples, where the i-th tuple contains the i-th element from each of the input iterables.\n",
    "\n",
    "**Syntax:**\n",
    "```\n",
    "for item1, item2, ... in zip(iterable1, iterable2, ...):\n",
    "    # code to be executed\n",
    "```\n"
   ]
  },
  {
   "cell_type": "markdown",
   "id": "f99c61d2",
   "metadata": {},
   "source": [
    "**Example:**"
   ]
  },
  {
   "cell_type": "code",
   "execution_count": null,
   "id": "5a389290",
   "metadata": {},
   "outputs": [],
   "source": [
    "names = [\"Alice\", \"Bob\", \"Charlie\"]\n",
    "ages = [25, 30, 22]\n",
    "scores = [30,40,50]\n",
    "\n",
    "for name, age,score in zip(names, ages,scores):\n",
    "    print(f\"{name} is {age} years old. Her score is {score}!\")"
   ]
  },
  {
   "cell_type": "code",
   "execution_count": null,
   "id": "48de0292",
   "metadata": {},
   "outputs": [],
   "source": []
  },
  {
   "cell_type": "markdown",
   "id": "81a655f4",
   "metadata": {},
   "source": [
    "### Use Cases:\n",
    "- Useful when you need to iterate over multiple iterables simultaneously.\n",
    "- Can be handy when you want to combine related data from different lists"
   ]
  },
  {
   "cell_type": "markdown",
   "id": "7b7d7569",
   "metadata": {},
   "source": [
    "### Exercise 1: Using `enumerate()`\n",
    "\n",
    "Given a list of cities, print each city along with its index.\n"
   ]
  },
  {
   "cell_type": "code",
   "execution_count": null,
   "id": "cb81c538",
   "metadata": {},
   "outputs": [],
   "source": [
    "cities = [\"New York\", \"Tokyo\", \"London\", \"Paris\", \"Berlin\"]\n",
    "# Your code here"
   ]
  },
  {
   "cell_type": "markdown",
   "id": "b258f490",
   "metadata": {},
   "source": [
    "### Exercise 2: Using `enumerate()` with Conditions\n",
    "\n",
    "Given a list of numbers, print the index and the value of all even numbers."
   ]
  },
  {
   "cell_type": "code",
   "execution_count": null,
   "id": "a57eb0c0",
   "metadata": {},
   "outputs": [],
   "source": [
    "numbers = [3, 8, 12, 7, 6, 10]\n",
    "# Your code here"
   ]
  },
  {
   "cell_type": "markdown",
   "id": "c5dece37",
   "metadata": {},
   "source": [
    "### Exercise 3: Using `zip()`\n",
    "\n",
    "Create two lists, one with names and another with corresponding ages. Print each name along with its age.\n",
    "\n",
    "\n",
    "\n",
    "\n",
    "\n"
   ]
  },
  {
   "cell_type": "code",
   "execution_count": null,
   "id": "5c30fca8",
   "metadata": {},
   "outputs": [],
   "source": [
    "li = ['Sam','Shivam','Sonam', 'Abhishek']\n",
    "lo = [29, 39, 49, 59]\n",
    "for i,j in zip(li,lo):\n",
    "    print(i,j)"
   ]
  },
  {
   "cell_type": "code",
   "execution_count": null,
   "id": "eb3e1b17",
   "metadata": {},
   "outputs": [],
   "source": [
    "names = [\"Alice\", \"Bob\", \"Charlie\"]\n",
    "ages = [25, 30, 22]\n",
    "# Your code here"
   ]
  },
  {
   "cell_type": "markdown",
   "id": "8a88b0c4",
   "metadata": {},
   "source": [
    "### Exercise 4: Using `zip()` with Conditions\n",
    "\n",
    "Given two lists, one with student names and another with their exam scores, print the names of students who scored above 90.\n"
   ]
  },
  {
   "cell_type": "code",
   "execution_count": null,
   "id": "831fb266",
   "metadata": {},
   "outputs": [],
   "source": [
    "students = [\"Alice\", \"Bob\", \"Charlie\", \"David\"]\n",
    "scores = [85, 92, 88, 95]\n",
    "# Your code here"
   ]
  },
  {
   "cell_type": "markdown",
   "id": "1d05acfb",
   "metadata": {},
   "source": [
    "### Exercise 5: Combine `enumerate()` and `zip()`\n",
    "\n",
    "Given a list of subjects and a list of corresponding grades, print each subject along with its grade and position in the list.\n"
   ]
  },
  {
   "cell_type": "code",
   "execution_count": null,
   "id": "5d2d613b",
   "metadata": {},
   "outputs": [],
   "source": [
    "subjects = [\"Math\", \"English\", \"Science\", \"History\"]\n",
    "grades = [95, 88, 92, 75]\n",
    "# Your code here"
   ]
  },
  {
   "cell_type": "markdown",
   "id": "439504ce",
   "metadata": {},
   "source": [
    "### Interview Based Questions"
   ]
  },
  {
   "cell_type": "markdown",
   "id": "40b38b3a",
   "metadata": {},
   "source": [
    "#### Reverse Elements in a List "
   ]
  },
  {
   "cell_type": "code",
   "execution_count": null,
   "id": "37a98dbd",
   "metadata": {},
   "outputs": [],
   "source": [
    "original_list = [1, 2, 3, 4, 5]\n",
    "reversed_list = []\n",
    "\n",
    "# Iterate over the original list in reverse order and append to the new list\n",
    "for i in range(len(original_list) - 1, -1, -1):\n",
    "    reversed_list.append(original_list[i])\n",
    "\n",
    "print(\"Original List:\", original_list)\n",
    "print(\"Reversed List:\", reversed_list)"
   ]
  },
  {
   "cell_type": "markdown",
   "id": "92ae6f09",
   "metadata": {},
   "source": [
    "#### Sort Elements in a List"
   ]
  },
  {
   "cell_type": "code",
   "execution_count": null,
   "id": "084e9093",
   "metadata": {},
   "outputs": [],
   "source": [
    "input_list = [64, 25, 12, 22, 11]\n",
    "n = len(input_list)\n",
    "# Traverse through all array elements\n",
    "for i in range(n):\n",
    "    # Find the minimum element in the unsorted part\n",
    "    min_index = i\n",
    "    for j in range(i + 1, n):\n",
    "        if input_list[j] < input_list[min_index]:\n",
    "            min_index = j\n",
    "\n",
    "    # Swap the found minimum element with the first unsorted element\n",
    "    input_list[i], input_list[min_index] = input_list[min_index], input_list[i]\n",
    "\n",
    "input_list"
   ]
  },
  {
   "cell_type": "markdown",
   "id": "dceb6847",
   "metadata": {},
   "source": [
    "#### Diamond Pattern using Loop"
   ]
  },
  {
   "cell_type": "code",
   "execution_count": null,
   "id": "af671b70",
   "metadata": {},
   "outputs": [],
   "source": [
    "n = 5\n",
    "\n",
    "# Upper part of the diamond\n",
    "for i in range(1, n + 1):\n",
    "    print(\" \" * (n - i) + \"*\" * (2 * i - 1))\n",
    "\n",
    "# Lower part of the diamond\n",
    "for i in range(n - 1, 0, -1):\n",
    "    print(\" \" * (n - i) + \"*\" * (2 * i - 1))"
   ]
  },
  {
   "cell_type": "markdown",
   "id": "c549cc4a",
   "metadata": {},
   "source": [
    "#### Replace Second 'a' in a String"
   ]
  },
  {
   "cell_type": "code",
   "execution_count": null,
   "id": "3603cc1e",
   "metadata": {},
   "outputs": [],
   "source": [
    "input_string = \"banana\"\n",
    "replacement_char = 'x'\n",
    "count = 0\n",
    "result = \"\"\n",
    "\n",
    "for char in input_string:\n",
    "    if char == 'a':\n",
    "        count += 1\n",
    "        if count == 2:\n",
    "            result += replacement_char\n",
    "            continue  # Skip the original 'a'\n",
    "    result += char\n",
    "\n",
    "print(\"Original String:\", input_string)\n",
    "print(\"Modified String:\", result)"
   ]
  },
  {
   "cell_type": "markdown",
   "id": "3d722928",
   "metadata": {},
   "source": [
    "### Exercises\n",
    "\n",
    "1. Print Multiples: Use a for loop to print the multiples of 5 up to 50.\n",
    "\n",
    "2. Factorial Calculation: Write a program to calculate the factorial of a given number using a for loop.\n",
    "\n",
    "3. Print Patterns: Use nested for loops to print the pattern: \n",
    "   ```\n",
    "   *\n",
    "   **\n",
    "   ***\n",
    "   ****\n",
    "   ***** \n",
    "   ```\n",
    "\n",
    "4. Guess the Number: Create a program that generates a random number between 1 and 10. Allow the user to guess the number, providing hints (higher or lower) until they guess correctly.\n",
    "\n",
    "5. Sum of Digits: Write a program to calculate the sum of the digits of a given number using a while loop.\n",
    "\n",
    "6. Password Validation: Implement a simple password validation program using a while loop. Ask the user to enter a password until they enter a valid one (e.g., at least 8 characters long).\n",
    "\n",
    "7. Print Odd Numbers: Use a for loop and the `range()` function to print all odd numbers between 1 and 20.\n",
    "\n",
    "8. Break and Continue: Write a program to print numbers from 1 to 10 but skip the number 7 using the `continue` statement and exit the loop if the number is 9 using the `break` statement.\n",
    "\n",
    "9. Countdown: Use a while loop to create a countdown from 10 to 1, printing each number."
   ]
  }
 ],
 "metadata": {
  "kernelspec": {
   "display_name": "Python 3 (ipykernel)",
   "language": "python",
   "name": "python3"
  },
  "language_info": {
   "codemirror_mode": {
    "name": "ipython",
    "version": 3
   },
   "file_extension": ".py",
   "mimetype": "text/x-python",
   "name": "python",
   "nbconvert_exporter": "python",
   "pygments_lexer": "ipython3",
   "version": "3.8.8"
  }
 },
 "nbformat": 4,
 "nbformat_minor": 5
}
