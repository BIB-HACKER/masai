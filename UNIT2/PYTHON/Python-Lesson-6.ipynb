{
 "cells": [
  {
   "attachments": {},
   "cell_type": "markdown",
   "id": "2eec0140",
   "metadata": {},
   "source": [
    "# Classes & Objects in Python\n",
    "\n",
    "<img src=\"https://media.licdn.com/dms/image/D5610AQFWOFsPeQmqdA/image-shrink_800/0/1696431640756?e=2147483647&v=beta&t=27O46W3iwoxp2dyMr-uc1T1ZPulN5nMJgxtHGrnIYuc\">"
   ]
  },
  {
   "cell_type": "markdown",
   "id": "6f343bee",
   "metadata": {},
   "source": [
    "### 1. **Class:**\n",
    "   - A class serves as a blueprint for creating objects. It encapsulates data (properties) and behavior (methods) that define the characteristics and actions of objects.\n",
    "   - Example:"
   ]
  },
  {
   "cell_type": "code",
   "execution_count": 1,
   "id": "3ecb90de",
   "metadata": {},
   "outputs": [],
   "source": [
    "a = 5 "
   ]
  },
  {
   "cell_type": "code",
   "execution_count": 2,
   "id": "c8674c10",
   "metadata": {},
   "outputs": [
    {
     "ename": "NameError",
     "evalue": "name 'A' is not defined",
     "output_type": "error",
     "traceback": [
      "\u001b[0;31m---------------------------------------------------------------------------\u001b[0m",
      "\u001b[0;31mNameError\u001b[0m                                 Traceback (most recent call last)",
      "Input \u001b[0;32mIn [2]\u001b[0m, in \u001b[0;36m<module>\u001b[0;34m\u001b[0m\n\u001b[0;32m----> 1\u001b[0m \u001b[43mA\u001b[49m\n",
      "\u001b[0;31mNameError\u001b[0m: name 'A' is not defined"
     ]
    }
   ],
   "source": [
    "A"
   ]
  },
  {
   "cell_type": "code",
   "execution_count": null,
   "id": "ecf63385",
   "metadata": {},
   "outputs": [],
   "source": []
  },
  {
   "cell_type": "code",
   "execution_count": 116,
   "id": "e044137a",
   "metadata": {},
   "outputs": [],
   "source": [
    "a = 5"
   ]
  },
  {
   "cell_type": "code",
   "execution_count": 118,
   "id": "12feb3b0",
   "metadata": {},
   "outputs": [],
   "source": [
    "sam = 500"
   ]
  },
  {
   "cell_type": "code",
   "execution_count": 119,
   "id": "ab62692f",
   "metadata": {},
   "outputs": [
    {
     "data": {
      "text/plain": [
       "<__main__.MobilePhone at 0x7fcf802e09d0>"
      ]
     },
     "execution_count": 119,
     "metadata": {},
     "output_type": "execute_result"
    }
   ],
   "source": [
    "Sam"
   ]
  },
  {
   "cell_type": "code",
   "execution_count": 117,
   "id": "279667c2",
   "metadata": {},
   "outputs": [
    {
     "data": {
      "text/plain": [
       "5"
      ]
     },
     "execution_count": 117,
     "metadata": {},
     "output_type": "execute_result"
    }
   ],
   "source": [
    "A"
   ]
  },
  {
   "cell_type": "code",
   "execution_count": null,
   "id": "e7aab063",
   "metadata": {},
   "outputs": [],
   "source": []
  },
  {
   "cell_type": "code",
   "execution_count": null,
   "id": "27870a93",
   "metadata": {},
   "outputs": [],
   "source": []
  },
  {
   "cell_type": "code",
   "execution_count": 6,
   "id": "49f57ffd",
   "metadata": {},
   "outputs": [],
   "source": [
    "nAme = \"Same\""
   ]
  },
  {
   "cell_type": "code",
   "execution_count": 7,
   "id": "0add846c",
   "metadata": {},
   "outputs": [
    {
     "ename": "NameError",
     "evalue": "name 'name' is not defined",
     "output_type": "error",
     "traceback": [
      "\u001b[0;31m---------------------------------------------------------------------------\u001b[0m",
      "\u001b[0;31mNameError\u001b[0m                                 Traceback (most recent call last)",
      "Input \u001b[0;32mIn [7]\u001b[0m, in \u001b[0;36m<module>\u001b[0;34m\u001b[0m\n\u001b[0;32m----> 1\u001b[0m \u001b[43mname\u001b[49m\n",
      "\u001b[0;31mNameError\u001b[0m: name 'name' is not defined"
     ]
    }
   ],
   "source": [
    "name"
   ]
  },
  {
   "cell_type": "code",
   "execution_count": null,
   "id": "e725224a",
   "metadata": {},
   "outputs": [],
   "source": []
  },
  {
   "cell_type": "code",
   "execution_count": 9,
   "id": "b6259247",
   "metadata": {},
   "outputs": [],
   "source": [
    "li = [1,1,3]"
   ]
  },
  {
   "cell_type": "code",
   "execution_count": 10,
   "id": "0c8a62b7",
   "metadata": {},
   "outputs": [
    {
     "ename": "AttributeError",
     "evalue": "'list' object has no attribute 'Count'",
     "output_type": "error",
     "traceback": [
      "\u001b[0;31m---------------------------------------------------------------------------\u001b[0m",
      "\u001b[0;31mAttributeError\u001b[0m                            Traceback (most recent call last)",
      "Input \u001b[0;32mIn [10]\u001b[0m, in \u001b[0;36m<module>\u001b[0;34m\u001b[0m\n\u001b[0;32m----> 1\u001b[0m \u001b[43mli\u001b[49m\u001b[38;5;241;43m.\u001b[39;49m\u001b[43mCount\u001b[49m()\n",
      "\u001b[0;31mAttributeError\u001b[0m: 'list' object has no attribute 'Count'"
     ]
    }
   ],
   "source": [
    "li.Count()"
   ]
  },
  {
   "cell_type": "code",
   "execution_count": null,
   "id": "3721fe82",
   "metadata": {},
   "outputs": [],
   "source": []
  },
  {
   "cell_type": "code",
   "execution_count": 14,
   "id": "d48cb87f",
   "metadata": {},
   "outputs": [],
   "source": [
    "class electronics:\n",
    "    electricity = True"
   ]
  },
  {
   "cell_type": "code",
   "execution_count": 15,
   "id": "48fcf0c4",
   "metadata": {},
   "outputs": [],
   "source": [
    "mobile = electronics()"
   ]
  },
  {
   "cell_type": "code",
   "execution_count": 16,
   "id": "0d0af42d",
   "metadata": {},
   "outputs": [
    {
     "data": {
      "text/plain": [
       "True"
      ]
     },
     "execution_count": 16,
     "metadata": {},
     "output_type": "execute_result"
    }
   ],
   "source": [
    "mobile.electricity"
   ]
  },
  {
   "cell_type": "code",
   "execution_count": 17,
   "id": "366c92b6",
   "metadata": {},
   "outputs": [
    {
     "data": {
      "text/plain": [
       "['__class__',\n",
       " '__delattr__',\n",
       " '__dict__',\n",
       " '__dir__',\n",
       " '__doc__',\n",
       " '__eq__',\n",
       " '__format__',\n",
       " '__ge__',\n",
       " '__getattribute__',\n",
       " '__gt__',\n",
       " '__hash__',\n",
       " '__init__',\n",
       " '__init_subclass__',\n",
       " '__le__',\n",
       " '__lt__',\n",
       " '__module__',\n",
       " '__ne__',\n",
       " '__new__',\n",
       " '__reduce__',\n",
       " '__reduce_ex__',\n",
       " '__repr__',\n",
       " '__setattr__',\n",
       " '__sizeof__',\n",
       " '__str__',\n",
       " '__subclasshook__',\n",
       " '__weakref__',\n",
       " 'electricity']"
      ]
     },
     "execution_count": 17,
     "metadata": {},
     "output_type": "execute_result"
    }
   ],
   "source": [
    "dir(electronics)"
   ]
  },
  {
   "cell_type": "code",
   "execution_count": null,
   "id": "96e18563",
   "metadata": {},
   "outputs": [],
   "source": []
  },
  {
   "cell_type": "code",
   "execution_count": null,
   "id": "4ee11e43",
   "metadata": {},
   "outputs": [],
   "source": []
  },
  {
   "cell_type": "code",
   "execution_count": null,
   "id": "aa317718",
   "metadata": {},
   "outputs": [],
   "source": []
  },
  {
   "cell_type": "code",
   "execution_count": null,
   "id": "94558da2",
   "metadata": {},
   "outputs": [],
   "source": []
  },
  {
   "cell_type": "code",
   "execution_count": 100,
   "id": "d3e255a5",
   "metadata": {},
   "outputs": [],
   "source": [
    "class Empty:\n",
    "    pass"
   ]
  },
  {
   "cell_type": "code",
   "execution_count": 102,
   "id": "3453726f",
   "metadata": {},
   "outputs": [],
   "source": [
    "random_variable = Empty()"
   ]
  },
  {
   "cell_type": "code",
   "execution_count": 103,
   "id": "5bc7b924",
   "metadata": {},
   "outputs": [
    {
     "data": {
      "text/plain": [
       "<__main__.Empty at 0x7fcf6002bb80>"
      ]
     },
     "execution_count": 103,
     "metadata": {},
     "output_type": "execute_result"
    }
   ],
   "source": [
    "random_variable.property_name()"
   ]
  },
  {
   "cell_type": "code",
   "execution_count": null,
   "id": "3d427c2b",
   "metadata": {},
   "outputs": [],
   "source": []
  },
  {
   "cell_type": "code",
   "execution_count": 111,
   "id": "5d19e522",
   "metadata": {},
   "outputs": [
    {
     "data": {
      "text/plain": [
       "4"
      ]
     },
     "execution_count": 111,
     "metadata": {},
     "output_type": "execute_result"
    }
   ],
   "source": [
    "Cars().Wheels(6)"
   ]
  },
  {
   "cell_type": "code",
   "execution_count": null,
   "id": "9cbf9456",
   "metadata": {},
   "outputs": [],
   "source": []
  },
  {
   "cell_type": "code",
   "execution_count": 112,
   "id": "283aa5b1",
   "metadata": {},
   "outputs": [],
   "source": [
    "a = 5"
   ]
  },
  {
   "cell_type": "code",
   "execution_count": 113,
   "id": "50de25b2",
   "metadata": {},
   "outputs": [
    {
     "data": {
      "text/plain": [
       "5"
      ]
     },
     "execution_count": 113,
     "metadata": {},
     "output_type": "execute_result"
    }
   ],
   "source": [
    "a"
   ]
  },
  {
   "cell_type": "code",
   "execution_count": 114,
   "id": "e3313f5f",
   "metadata": {},
   "outputs": [],
   "source": [
    "a = 10"
   ]
  },
  {
   "cell_type": "code",
   "execution_count": 115,
   "id": "c73e4c6e",
   "metadata": {},
   "outputs": [
    {
     "data": {
      "text/plain": [
       "10"
      ]
     },
     "execution_count": 115,
     "metadata": {},
     "output_type": "execute_result"
    }
   ],
   "source": [
    "a"
   ]
  },
  {
   "cell_type": "code",
   "execution_count": 19,
   "id": "80be4596",
   "metadata": {},
   "outputs": [],
   "source": [
    "class Cars:\n",
    "    Engine = True\n",
    "    Wheels = 4\n",
    "    Engine_HP = 200"
   ]
  },
  {
   "cell_type": "code",
   "execution_count": 108,
   "id": "8494d4ba",
   "metadata": {},
   "outputs": [],
   "source": [
    "sonam_car = Cars()"
   ]
  },
  {
   "cell_type": "code",
   "execution_count": 110,
   "id": "4c9864eb",
   "metadata": {
    "scrolled": true
   },
   "outputs": [
    {
     "data": {
      "text/plain": [
       "True"
      ]
     },
     "execution_count": 110,
     "metadata": {},
     "output_type": "execute_result"
    }
   ],
   "source": [
    "sonam_car.Engine"
   ]
  },
  {
   "cell_type": "code",
   "execution_count": 109,
   "id": "e2257c78",
   "metadata": {},
   "outputs": [
    {
     "data": {
      "text/plain": [
       "200"
      ]
     },
     "execution_count": 109,
     "metadata": {},
     "output_type": "execute_result"
    }
   ],
   "source": [
    "sonam_car.Engine_HP"
   ]
  },
  {
   "cell_type": "code",
   "execution_count": 98,
   "id": "b0574c8f",
   "metadata": {},
   "outputs": [
    {
     "data": {
      "text/plain": [
       "4"
      ]
     },
     "execution_count": 98,
     "metadata": {},
     "output_type": "execute_result"
    }
   ],
   "source": [
    "sonam_car.Wheels"
   ]
  },
  {
   "cell_type": "code",
   "execution_count": null,
   "id": "582e4fc5",
   "metadata": {},
   "outputs": [],
   "source": []
  },
  {
   "cell_type": "code",
   "execution_count": 20,
   "id": "1a18f750",
   "metadata": {},
   "outputs": [
    {
     "data": {
      "text/plain": [
       "['Engine',\n",
       " 'Engine_HP',\n",
       " 'Wheels',\n",
       " '__class__',\n",
       " '__delattr__',\n",
       " '__dict__',\n",
       " '__dir__',\n",
       " '__doc__',\n",
       " '__eq__',\n",
       " '__format__',\n",
       " '__ge__',\n",
       " '__getattribute__',\n",
       " '__gt__',\n",
       " '__hash__',\n",
       " '__init__',\n",
       " '__init_subclass__',\n",
       " '__le__',\n",
       " '__lt__',\n",
       " '__module__',\n",
       " '__ne__',\n",
       " '__new__',\n",
       " '__reduce__',\n",
       " '__reduce_ex__',\n",
       " '__repr__',\n",
       " '__setattr__',\n",
       " '__sizeof__',\n",
       " '__str__',\n",
       " '__subclasshook__',\n",
       " '__weakref__']"
      ]
     },
     "execution_count": 20,
     "metadata": {},
     "output_type": "execute_result"
    }
   ],
   "source": [
    "dir(Cars)"
   ]
  },
  {
   "cell_type": "code",
   "execution_count": null,
   "id": "a1d0efaf",
   "metadata": {},
   "outputs": [],
   "source": []
  },
  {
   "cell_type": "code",
   "execution_count": null,
   "id": "2ef6359e",
   "metadata": {},
   "outputs": [],
   "source": [
    "sonam_car.increase_hp()"
   ]
  },
  {
   "cell_type": "code",
   "execution_count": null,
   "id": "819afdda",
   "metadata": {},
   "outputs": [],
   "source": []
  },
  {
   "cell_type": "code",
   "execution_count": null,
   "id": "3036fccf",
   "metadata": {},
   "outputs": [],
   "source": []
  },
  {
   "cell_type": "code",
   "execution_count": 41,
   "id": "899f34bd",
   "metadata": {},
   "outputs": [],
   "source": [
    "class MobilePhone:\n",
    "         pass"
   ]
  },
  {
   "attachments": {},
   "cell_type": "markdown",
   "id": "b5a009ec",
   "metadata": {},
   "source": [
    "### 2. **Object:**\n",
    "- An object is an instance of a class\n",
    "- Example:"
   ]
  },
  {
   "cell_type": "code",
   "execution_count": 12,
   "id": "0a8ae132",
   "metadata": {},
   "outputs": [
    {
     "data": {
      "text/plain": [
       "['__add__',\n",
       " '__class__',\n",
       " '__contains__',\n",
       " '__delattr__',\n",
       " '__delitem__',\n",
       " '__dir__',\n",
       " '__doc__',\n",
       " '__eq__',\n",
       " '__format__',\n",
       " '__ge__',\n",
       " '__getattribute__',\n",
       " '__getitem__',\n",
       " '__gt__',\n",
       " '__hash__',\n",
       " '__iadd__',\n",
       " '__imul__',\n",
       " '__init__',\n",
       " '__init_subclass__',\n",
       " '__iter__',\n",
       " '__le__',\n",
       " '__len__',\n",
       " '__lt__',\n",
       " '__mul__',\n",
       " '__ne__',\n",
       " '__new__',\n",
       " '__reduce__',\n",
       " '__reduce_ex__',\n",
       " '__repr__',\n",
       " '__reversed__',\n",
       " '__rmul__',\n",
       " '__setattr__',\n",
       " '__setitem__',\n",
       " '__sizeof__',\n",
       " '__str__',\n",
       " '__subclasshook__',\n",
       " 'append',\n",
       " 'clear',\n",
       " 'copy',\n",
       " 'count',\n",
       " 'extend',\n",
       " 'index',\n",
       " 'insert',\n",
       " 'pop',\n",
       " 'remove',\n",
       " 'reverse',\n",
       " 'sort']"
      ]
     },
     "execution_count": 12,
     "metadata": {},
     "output_type": "execute_result"
    }
   ],
   "source": [
    "dir(list)"
   ]
  },
  {
   "cell_type": "code",
   "execution_count": null,
   "id": "606ddb4e",
   "metadata": {},
   "outputs": [],
   "source": []
  },
  {
   "cell_type": "code",
   "execution_count": null,
   "id": "f37c2eba",
   "metadata": {},
   "outputs": [],
   "source": []
  },
  {
   "cell_type": "code",
   "execution_count": null,
   "id": "73266528",
   "metadata": {},
   "outputs": [],
   "source": []
  },
  {
   "cell_type": "code",
   "execution_count": 42,
   "id": "e3c63169",
   "metadata": {},
   "outputs": [],
   "source": [
    "sam_mobile = MobilePhone()"
   ]
  },
  {
   "cell_type": "code",
   "execution_count": 43,
   "id": "3519ee73",
   "metadata": {},
   "outputs": [
    {
     "data": {
      "text/plain": [
       "<__main__.MobilePhone at 0x7fcf80bf6820>"
      ]
     },
     "execution_count": 43,
     "metadata": {},
     "output_type": "execute_result"
    }
   ],
   "source": [
    "sam_mobile"
   ]
  },
  {
   "cell_type": "markdown",
   "id": "50f9d4a0",
   "metadata": {},
   "source": [
    "### 3. **Properties:**\n",
    "   - Properties are the attributes of an object that store data. They define the state of an object.\n",
    "   - Example:"
   ]
  },
  {
   "cell_type": "code",
   "execution_count": 61,
   "id": "32c50ed3",
   "metadata": {},
   "outputs": [],
   "source": [
    "class MobilePhone:\n",
    "        camera = 7.2\n",
    "        sim = True\n",
    "        battery = \"3.6V\""
   ]
  },
  {
   "cell_type": "code",
   "execution_count": 62,
   "id": "a77c4b50",
   "metadata": {},
   "outputs": [],
   "source": [
    "sam_mobile = MobilePhone()"
   ]
  },
  {
   "cell_type": "code",
   "execution_count": 63,
   "id": "89fd3140",
   "metadata": {},
   "outputs": [
    {
     "data": {
      "text/plain": [
       "7.2"
      ]
     },
     "execution_count": 63,
     "metadata": {},
     "output_type": "execute_result"
    }
   ],
   "source": [
    "sam_mobile.camera"
   ]
  },
  {
   "cell_type": "markdown",
   "id": "718c2058",
   "metadata": {},
   "source": [
    "### 4. **Methods:**\n",
    "   - Methods are functions defined within a class. They perform actions or operations related to the class.\n",
    "   - Example:\n",
    " "
   ]
  },
  {
   "cell_type": "code",
   "execution_count": 21,
   "id": "44f7fa1f",
   "metadata": {},
   "outputs": [],
   "source": [
    "class Cars:\n",
    "    Engine = True\n",
    "    Wheels = 4\n",
    "    Engine_HP = 200\n",
    "    def increase_HP(self, new_HP):\n",
    "        self.Engine_HP += new_HP"
   ]
  },
  {
   "cell_type": "code",
   "execution_count": 22,
   "id": "c5463579",
   "metadata": {},
   "outputs": [],
   "source": [
    "sonam_car = Cars()"
   ]
  },
  {
   "cell_type": "code",
   "execution_count": 23,
   "id": "0de45380",
   "metadata": {},
   "outputs": [
    {
     "data": {
      "text/plain": [
       "200"
      ]
     },
     "execution_count": 23,
     "metadata": {},
     "output_type": "execute_result"
    }
   ],
   "source": [
    "sonam_car.Engine_HP"
   ]
  },
  {
   "cell_type": "code",
   "execution_count": 27,
   "id": "aebc7107",
   "metadata": {},
   "outputs": [],
   "source": [
    "sonam_car.increase_HP(300)"
   ]
  },
  {
   "cell_type": "code",
   "execution_count": 28,
   "id": "887771e2",
   "metadata": {},
   "outputs": [
    {
     "data": {
      "text/plain": [
       "800"
      ]
     },
     "execution_count": 28,
     "metadata": {},
     "output_type": "execute_result"
    }
   ],
   "source": [
    "sonam_car.Engine_HP"
   ]
  },
  {
   "cell_type": "code",
   "execution_count": 45,
   "id": "bd7758dd",
   "metadata": {},
   "outputs": [],
   "source": [
    "class electronics:\n",
    "    Electricity = True\n",
    "    Volts = 2\n",
    "    def increase_volt(self,new_volts):\n",
    "        self.Volts = new_volts"
   ]
  },
  {
   "cell_type": "code",
   "execution_count": 52,
   "id": "4c5251a9",
   "metadata": {},
   "outputs": [],
   "source": [
    "fan = electronics()"
   ]
  },
  {
   "cell_type": "code",
   "execution_count": 53,
   "id": "baf6cc0d",
   "metadata": {},
   "outputs": [
    {
     "data": {
      "text/plain": [
       "2"
      ]
     },
     "execution_count": 53,
     "metadata": {},
     "output_type": "execute_result"
    }
   ],
   "source": [
    "fan.Volts"
   ]
  },
  {
   "cell_type": "code",
   "execution_count": 54,
   "id": "1c100909",
   "metadata": {},
   "outputs": [],
   "source": [
    "fan.increase_volt(4)"
   ]
  },
  {
   "cell_type": "code",
   "execution_count": 55,
   "id": "6beae283",
   "metadata": {},
   "outputs": [
    {
     "data": {
      "text/plain": [
       "4"
      ]
     },
     "execution_count": 55,
     "metadata": {},
     "output_type": "execute_result"
    }
   ],
   "source": [
    "fan.Volts"
   ]
  },
  {
   "cell_type": "code",
   "execution_count": null,
   "id": "9d1090c7",
   "metadata": {},
   "outputs": [],
   "source": []
  },
  {
   "cell_type": "code",
   "execution_count": 46,
   "id": "fd91e107",
   "metadata": {},
   "outputs": [],
   "source": [
    "tv = electronics()"
   ]
  },
  {
   "cell_type": "code",
   "execution_count": 47,
   "id": "684f2aea",
   "metadata": {},
   "outputs": [
    {
     "data": {
      "text/plain": [
       "2"
      ]
     },
     "execution_count": 47,
     "metadata": {},
     "output_type": "execute_result"
    }
   ],
   "source": [
    "tv.Volts"
   ]
  },
  {
   "cell_type": "code",
   "execution_count": 48,
   "id": "52b2e902",
   "metadata": {},
   "outputs": [],
   "source": [
    "tv.increase_volt(6)"
   ]
  },
  {
   "cell_type": "code",
   "execution_count": 51,
   "id": "7f2ddc39",
   "metadata": {},
   "outputs": [
    {
     "data": {
      "text/plain": [
       "2"
      ]
     },
     "execution_count": 51,
     "metadata": {},
     "output_type": "execute_result"
    }
   ],
   "source": [
    "tv.Volts"
   ]
  },
  {
   "cell_type": "code",
   "execution_count": 50,
   "id": "03a87f78",
   "metadata": {},
   "outputs": [],
   "source": [
    "tv.increase_volt(2)"
   ]
  },
  {
   "cell_type": "code",
   "execution_count": null,
   "id": "8062898d",
   "metadata": {},
   "outputs": [],
   "source": []
  },
  {
   "cell_type": "code",
   "execution_count": 64,
   "id": "e98f944a",
   "metadata": {},
   "outputs": [],
   "source": [
    "class MobilePhone:\n",
    "        camera = 7.2\n",
    "        sim = True\n",
    "        battery = \"3.6V\"\n",
    "        def add_pixels(self, new_pixel):\n",
    "             self.camera += new_pixel"
   ]
  },
  {
   "cell_type": "code",
   "execution_count": 65,
   "id": "22a6506e",
   "metadata": {},
   "outputs": [],
   "source": [
    "sam_mobile = MobilePhone()"
   ]
  },
  {
   "cell_type": "code",
   "execution_count": 66,
   "id": "bb126978",
   "metadata": {},
   "outputs": [
    {
     "data": {
      "text/plain": [
       "7.2"
      ]
     },
     "execution_count": 66,
     "metadata": {},
     "output_type": "execute_result"
    }
   ],
   "source": [
    "sam_mobile.camera"
   ]
  },
  {
   "cell_type": "code",
   "execution_count": 67,
   "id": "a29cd7a4",
   "metadata": {},
   "outputs": [],
   "source": [
    "sam_mobile.add_pixels(3.4)"
   ]
  },
  {
   "cell_type": "code",
   "execution_count": 68,
   "id": "492b3f01",
   "metadata": {},
   "outputs": [
    {
     "data": {
      "text/plain": [
       "10.6"
      ]
     },
     "execution_count": 68,
     "metadata": {},
     "output_type": "execute_result"
    }
   ],
   "source": [
    "sam_mobile.camera"
   ]
  },
  {
   "cell_type": "markdown",
   "id": "7d51f479",
   "metadata": {},
   "source": [
    "### 5. `__init__ `(Constructor):\n",
    "   - `__init__` is a special method called when an object is created. It initializes the object's attributes.\n",
    "   - Example:\n",
    "     "
   ]
  },
  {
   "cell_type": "code",
   "execution_count": null,
   "id": "ce455829",
   "metadata": {},
   "outputs": [],
   "source": [
    "()"
   ]
  },
  {
   "cell_type": "code",
   "execution_count": null,
   "id": "2e5b8fc8",
   "metadata": {},
   "outputs": [],
   "source": []
  },
  {
   "cell_type": "code",
   "execution_count": 70,
   "id": "f7d5eced",
   "metadata": {},
   "outputs": [],
   "source": [
    "class Cars:\n",
    "    Engine = True\n",
    "    Wheels = 4\n",
    "    Engine_HP = 200\n",
    "    def increase_HP(self, new_HP):\n",
    "        self.Engine_HP += new_HP\n",
    "    def __init__(self, c, b, ft):\n",
    "        self.color = c\n",
    "        self.brand = b\n",
    "        self.fuel_type = ft"
   ]
  },
  {
   "cell_type": "code",
   "execution_count": 72,
   "id": "d6e01c6d",
   "metadata": {},
   "outputs": [],
   "source": [
    "sonam_car = Cars(\"Red\", \"Tata\",\"Petrol\")"
   ]
  },
  {
   "cell_type": "code",
   "execution_count": 73,
   "id": "eb9d2927",
   "metadata": {},
   "outputs": [
    {
     "data": {
      "text/plain": [
       "200"
      ]
     },
     "execution_count": 73,
     "metadata": {},
     "output_type": "execute_result"
    }
   ],
   "source": [
    "sonam_car.Engine_HP"
   ]
  },
  {
   "cell_type": "code",
   "execution_count": null,
   "id": "c12b7571",
   "metadata": {},
   "outputs": [],
   "source": []
  },
  {
   "cell_type": "code",
   "execution_count": null,
   "id": "67c69d84",
   "metadata": {},
   "outputs": [],
   "source": []
  },
  {
   "cell_type": "code",
   "execution_count": 67,
   "id": "3b550762",
   "metadata": {},
   "outputs": [
    {
     "data": {
      "text/plain": [
       "200"
      ]
     },
     "execution_count": 67,
     "metadata": {},
     "output_type": "execute_result"
    }
   ],
   "source": [
    "sonam_car.Engine_HP"
   ]
  },
  {
   "cell_type": "code",
   "execution_count": 68,
   "id": "ea8df06c",
   "metadata": {},
   "outputs": [],
   "source": [
    "sonam_car.increase_HP(400)"
   ]
  },
  {
   "cell_type": "code",
   "execution_count": 69,
   "id": "ae803033",
   "metadata": {},
   "outputs": [
    {
     "data": {
      "text/plain": [
       "600"
      ]
     },
     "execution_count": 69,
     "metadata": {},
     "output_type": "execute_result"
    }
   ],
   "source": [
    "sonam_car.Engine_HP"
   ]
  },
  {
   "cell_type": "code",
   "execution_count": null,
   "id": "aac72c82",
   "metadata": {},
   "outputs": [],
   "source": []
  },
  {
   "cell_type": "code",
   "execution_count": null,
   "id": "874007fd",
   "metadata": {},
   "outputs": [],
   "source": []
  },
  {
   "cell_type": "code",
   "execution_count": null,
   "id": "3e4e8517",
   "metadata": {},
   "outputs": [],
   "source": []
  },
  {
   "cell_type": "code",
   "execution_count": 58,
   "id": "c7e9e1bb",
   "metadata": {},
   "outputs": [],
   "source": [
    "sonam_car = Cars(\"Red\",\"Mini Cooper\",\"Petrol\")"
   ]
  },
  {
   "cell_type": "code",
   "execution_count": 59,
   "id": "5d39a5e5",
   "metadata": {},
   "outputs": [
    {
     "data": {
      "text/plain": [
       "'Mini Cooper'"
      ]
     },
     "execution_count": 59,
     "metadata": {},
     "output_type": "execute_result"
    }
   ],
   "source": [
    "sonam_car.brand"
   ]
  },
  {
   "cell_type": "code",
   "execution_count": 60,
   "id": "ee28026f",
   "metadata": {},
   "outputs": [],
   "source": [
    "abhishek_car = Cars(\"Black\",\"Maserati\",\"Diesel\")"
   ]
  },
  {
   "cell_type": "code",
   "execution_count": 62,
   "id": "b48658dd",
   "metadata": {},
   "outputs": [
    {
     "data": {
      "text/plain": [
       "'Black'"
      ]
     },
     "execution_count": 62,
     "metadata": {},
     "output_type": "execute_result"
    }
   ],
   "source": [
    "abhishek_car.color"
   ]
  },
  {
   "cell_type": "code",
   "execution_count": 64,
   "id": "9206bed7",
   "metadata": {},
   "outputs": [
    {
     "data": {
      "text/plain": [
       "200"
      ]
     },
     "execution_count": 64,
     "metadata": {},
     "output_type": "execute_result"
    }
   ],
   "source": [
    "abhishek_car.Engine_HP"
   ]
  },
  {
   "cell_type": "code",
   "execution_count": null,
   "id": "ff69c50f",
   "metadata": {},
   "outputs": [],
   "source": []
  },
  {
   "cell_type": "code",
   "execution_count": null,
   "id": "31bd07b3",
   "metadata": {},
   "outputs": [],
   "source": []
  },
  {
   "cell_type": "code",
   "execution_count": null,
   "id": "6f2b142a",
   "metadata": {},
   "outputs": [],
   "source": []
  },
  {
   "cell_type": "code",
   "execution_count": null,
   "id": "c26c2802",
   "metadata": {},
   "outputs": [],
   "source": [
    "def add(a,b):\n",
    "    return a+b"
   ]
  },
  {
   "cell_type": "code",
   "execution_count": null,
   "id": "3bf58d3d",
   "metadata": {},
   "outputs": [],
   "source": []
  },
  {
   "cell_type": "code",
   "execution_count": null,
   "id": "c2d9b018",
   "metadata": {},
   "outputs": [],
   "source": []
  },
  {
   "cell_type": "code",
   "execution_count": null,
   "id": "b869d172",
   "metadata": {},
   "outputs": [],
   "source": []
  },
  {
   "cell_type": "code",
   "execution_count": null,
   "id": "275e0c30",
   "metadata": {},
   "outputs": [],
   "source": []
  },
  {
   "cell_type": "code",
   "execution_count": 93,
   "id": "682698b5",
   "metadata": {},
   "outputs": [],
   "source": [
    "class electronics:\n",
    "    Electricity = True\n",
    "    Volts = 2\n",
    "    def increase_volt(self,new_volts):\n",
    "        self.Volts = new_volts\n",
    "    def __init__(self, pr, br, p):\n",
    "        self.product = pr\n",
    "        self.brand = br\n",
    "        self.price = p"
   ]
  },
  {
   "cell_type": "code",
   "execution_count": 98,
   "id": "7c01afb3",
   "metadata": {},
   "outputs": [],
   "source": [
    "abhishek_electronic = electronics(\"Washing Machine\", \"Whirlpool\",\"20000\")"
   ]
  },
  {
   "cell_type": "code",
   "execution_count": 99,
   "id": "538c3d9e",
   "metadata": {},
   "outputs": [
    {
     "data": {
      "text/plain": [
       "'Washing Machine'"
      ]
     },
     "execution_count": 99,
     "metadata": {},
     "output_type": "execute_result"
    }
   ],
   "source": [
    "abhishek_electronic.product"
   ]
  },
  {
   "cell_type": "code",
   "execution_count": 100,
   "id": "17970b95",
   "metadata": {},
   "outputs": [
    {
     "data": {
      "text/plain": [
       "2"
      ]
     },
     "execution_count": 100,
     "metadata": {},
     "output_type": "execute_result"
    }
   ],
   "source": [
    "abhishek_electronic.Volts"
   ]
  },
  {
   "cell_type": "code",
   "execution_count": 101,
   "id": "26ad8d6c",
   "metadata": {},
   "outputs": [
    {
     "ename": "NameError",
     "evalue": "name 'new_volts' is not defined",
     "output_type": "error",
     "traceback": [
      "\u001b[0;31m---------------------------------------------------------------------------\u001b[0m",
      "\u001b[0;31mNameError\u001b[0m                                 Traceback (most recent call last)",
      "Input \u001b[0;32mIn [101]\u001b[0m, in \u001b[0;36m<module>\u001b[0;34m\u001b[0m\n\u001b[0;32m----> 1\u001b[0m \u001b[38;5;28mself\u001b[39m\u001b[38;5;241m.\u001b[39mVolts \u001b[38;5;241m=\u001b[39m \u001b[43mnew_volts\u001b[49m\n",
      "\u001b[0;31mNameError\u001b[0m: name 'new_volts' is not defined"
     ]
    }
   ],
   "source": [
    "self.Volts = new_volts"
   ]
  },
  {
   "cell_type": "code",
   "execution_count": 102,
   "id": "c08e7ac6",
   "metadata": {},
   "outputs": [],
   "source": [
    "abhishek_electronic.increase_volt(40)"
   ]
  },
  {
   "cell_type": "code",
   "execution_count": 103,
   "id": "829f8e42",
   "metadata": {},
   "outputs": [
    {
     "data": {
      "text/plain": [
       "40"
      ]
     },
     "execution_count": 103,
     "metadata": {},
     "output_type": "execute_result"
    }
   ],
   "source": [
    "abhishek_electronic.Volts"
   ]
  },
  {
   "cell_type": "code",
   "execution_count": null,
   "id": "0d3dc24d",
   "metadata": {},
   "outputs": [],
   "source": []
  },
  {
   "cell_type": "code",
   "execution_count": 89,
   "id": "55c750ad",
   "metadata": {},
   "outputs": [],
   "source": [
    "mobile = electronics(2000)"
   ]
  },
  {
   "cell_type": "code",
   "execution_count": 90,
   "id": "64eca240",
   "metadata": {},
   "outputs": [],
   "source": [
    "mobile.remote"
   ]
  },
  {
   "cell_type": "code",
   "execution_count": 91,
   "id": "93ac015c",
   "metadata": {},
   "outputs": [],
   "source": [
    "mobile.remote_existence(True)"
   ]
  },
  {
   "cell_type": "code",
   "execution_count": 92,
   "id": "e6c0a289",
   "metadata": {},
   "outputs": [
    {
     "data": {
      "text/plain": [
       "True"
      ]
     },
     "execution_count": 92,
     "metadata": {},
     "output_type": "execute_result"
    }
   ],
   "source": [
    "mobile.remote"
   ]
  },
  {
   "cell_type": "code",
   "execution_count": null,
   "id": "aa38332c",
   "metadata": {},
   "outputs": [],
   "source": []
  },
  {
   "cell_type": "code",
   "execution_count": 78,
   "id": "a25e1e5f",
   "metadata": {},
   "outputs": [
    {
     "data": {
      "text/plain": [
       "2000"
      ]
     },
     "execution_count": 78,
     "metadata": {},
     "output_type": "execute_result"
    }
   ],
   "source": [
    "mobile.price"
   ]
  },
  {
   "cell_type": "code",
   "execution_count": null,
   "id": "552178cb",
   "metadata": {},
   "outputs": [],
   "source": []
  },
  {
   "cell_type": "code",
   "execution_count": null,
   "id": "c221c80d",
   "metadata": {},
   "outputs": [],
   "source": []
  },
  {
   "cell_type": "code",
   "execution_count": null,
   "id": "6de27eea",
   "metadata": {},
   "outputs": [],
   "source": []
  },
  {
   "cell_type": "code",
   "execution_count": 104,
   "id": "0d9d7f9c",
   "metadata": {},
   "outputs": [],
   "source": [
    "li = [1,2,2,3,4,5,5,5,6]"
   ]
  },
  {
   "cell_type": "code",
   "execution_count": 105,
   "id": "9b2624d6",
   "metadata": {},
   "outputs": [
    {
     "data": {
      "text/plain": [
       "3"
      ]
     },
     "execution_count": 105,
     "metadata": {},
     "output_type": "execute_result"
    }
   ],
   "source": [
    "li.count(5)"
   ]
  },
  {
   "cell_type": "code",
   "execution_count": 106,
   "id": "4efa10be",
   "metadata": {},
   "outputs": [
    {
     "data": {
      "text/plain": [
       "2"
      ]
     },
     "execution_count": 106,
     "metadata": {},
     "output_type": "execute_result"
    }
   ],
   "source": [
    "li = [1,2,3,4,5,5]\n",
    "\n",
    "li.count(5)"
   ]
  },
  {
   "cell_type": "code",
   "execution_count": 114,
   "id": "bd902888",
   "metadata": {},
   "outputs": [],
   "source": [
    "class lists:\n",
    "    def count(self,n):\n",
    "        count = 0\n",
    "        for i in self.li:\n",
    "            if i == n:\n",
    "                count += 1\n",
    "        print(count)\n",
    "    def __init__(self, l):\n",
    "        self.li = l"
   ]
  },
  {
   "cell_type": "code",
   "execution_count": 115,
   "id": "a57dd5f7",
   "metadata": {},
   "outputs": [],
   "source": [
    "sam_list = lists([1,2,3,4,4,4,5,5])"
   ]
  },
  {
   "cell_type": "code",
   "execution_count": 116,
   "id": "31a2a336",
   "metadata": {},
   "outputs": [
    {
     "name": "stdout",
     "output_type": "stream",
     "text": [
      "3\n"
     ]
    }
   ],
   "source": [
    "sam_list.count(4)"
   ]
  },
  {
   "cell_type": "code",
   "execution_count": null,
   "id": "449a8f7b",
   "metadata": {},
   "outputs": [],
   "source": []
  },
  {
   "cell_type": "code",
   "execution_count": null,
   "id": "0ec88f41",
   "metadata": {},
   "outputs": [],
   "source": []
  },
  {
   "cell_type": "code",
   "execution_count": null,
   "id": "a1d20003",
   "metadata": {},
   "outputs": [],
   "source": []
  },
  {
   "cell_type": "code",
   "execution_count": null,
   "id": "9f2d9a88",
   "metadata": {},
   "outputs": [],
   "source": []
  },
  {
   "cell_type": "code",
   "execution_count": null,
   "id": "0293535c",
   "metadata": {},
   "outputs": [],
   "source": []
  },
  {
   "cell_type": "code",
   "execution_count": null,
   "id": "7a3fdf2b",
   "metadata": {},
   "outputs": [],
   "source": []
  },
  {
   "cell_type": "code",
   "execution_count": null,
   "id": "dd1622a3",
   "metadata": {},
   "outputs": [],
   "source": []
  },
  {
   "cell_type": "code",
   "execution_count": 70,
   "id": "c670f210",
   "metadata": {},
   "outputs": [],
   "source": [
    "class MobilePhone:\n",
    "        camera = 7.2\n",
    "        sim = True\n",
    "        battery = \"3.6V\"\n",
    "        def add_pixels(self, new_pixel):\n",
    "         `   self.camera += new_pixel\n",
    "        def __init__(self, model, brand):\n",
    "            self.model = model\n",
    "            self.brand = brand"
   ]
  },
  {
   "cell_type": "code",
   "execution_count": 71,
   "id": "49f48afa",
   "metadata": {},
   "outputs": [],
   "source": [
    "sam_mobile = MobilePhone(model=\"Android\",brand=\"Samsung\")"
   ]
  },
  {
   "cell_type": "code",
   "execution_count": 72,
   "id": "2637c746",
   "metadata": {},
   "outputs": [
    {
     "data": {
      "text/plain": [
       "'Android'"
      ]
     },
     "execution_count": 72,
     "metadata": {},
     "output_type": "execute_result"
    }
   ],
   "source": [
    "sam_mobile.model"
   ]
  },
  {
   "cell_type": "markdown",
   "id": "4f5d62ad",
   "metadata": {},
   "source": [
    "### 6. **Inheritance:**\n",
    "   - Inheritance facilitates the creation of a new class (subclass) that inherits attributes and methods from an existing class (superclass). It promotes code reuse.\n",
    "   - Example:\n"
   ]
  },
  {
   "cell_type": "code",
   "execution_count": 73,
   "id": "15b6dda9",
   "metadata": {},
   "outputs": [],
   "source": [
    "class Electronics:\n",
    "    charging = True\n",
    "\n",
    "class MobilePhone(Electronics):\n",
    "    camera = \"7.2mp\"\n",
    "    sim = True\n",
    "    battery = \"3.6V\"\n",
    "    def add_pixels(self, new_pixel):\n",
    "        self.camera += new_pixel\n",
    "    def __init__(self, model, brand):\n",
    "        self.model = model\n",
    "        self.brand = brand"
   ]
  },
  {
   "cell_type": "code",
   "execution_count": 75,
   "id": "405f3de6",
   "metadata": {},
   "outputs": [],
   "source": [
    "sam_mobile = MobilePhone(model=\"Android\",brand=\"Realmi\")"
   ]
  },
  {
   "cell_type": "code",
   "execution_count": 76,
   "id": "927129dc",
   "metadata": {},
   "outputs": [
    {
     "data": {
      "text/plain": [
       "True"
      ]
     },
     "execution_count": 76,
     "metadata": {},
     "output_type": "execute_result"
    }
   ],
   "source": [
    "sam_mobile.charging"
   ]
  },
  {
   "cell_type": "markdown",
   "id": "67137bed",
   "metadata": {},
   "source": [
    "These concepts collectively contribute to the principles of object-oriented programming, promoting code organization, modularity, and reusability. They enable the creation of well-structured and maintainable software."
   ]
  },
  {
   "cell_type": "markdown",
   "id": "5bd5d21b",
   "metadata": {},
   "source": [
    "## Exercises:"
   ]
  },
  {
   "cell_type": "markdown",
   "id": "f058f475",
   "metadata": {},
   "source": [
    "1. **Bank Account:**\n",
    "   Create a `BankAccount` class with properties `account_number`, `account_holder`, and `balance`. Include methods for deposit, withdrawal, and displaying the account details.\n",
    "\n",
    "2. **Shapes:**\n",
    "   Define a base class `Shape` with an abstract method `area`. Create subclasses `Rectangle` and `Circle` that inherit from `Shape`. Implement the `area` method for each subclass.\n",
    "\n",
    "3. **Student and Courses:**\n",
    "   Create classes for `Student` and `Course`. The `Student` class should have properties like `name` and `age`, and the `Course` class should have properties like `course_name` and a list of enrolled students.\n",
    "\n",
    "4. **Library Catalog:**\n",
    "   Implement a simple library catalog system. Create classes for `Book`, `Author`, and `Library`. Each book should have an author, and the library should be able to display the available books.\n",
    "\n",
    "5. **Vehicle Rental System:**\n",
    "   Design classes for a vehicle rental system. Include classes for `Vehicle`, `Car`, `Bike`, and a rental management system that allows renting and returning vehicles.\n",
    "\n",
    "6. **Employee Hierarchy:**\n",
    "   Create classes for `Employee`, `Manager`, and `Director`. Implement a hierarchy where a `Director` manages multiple `Managers`, and each `Manager` oversees a team of `Employees`.\n",
    "\n",
    "7. **Online Shopping Cart:**\n",
    "   Implement classes for an online shopping cart system. Include classes for `Product`, `Cart`, and `Customer`. The `Cart` should be able to add and remove products, and the `Customer` should be able to check out.\n",
    "\n",
    "8. **Geometric Shapes:**\n",
    "   Extend the Shapes exercise by adding more shapes such as `Triangle` and `Square`. Each shape should have its own unique properties and methods.\n",
    "\n",
    "9. **Social Media System:**\n",
    "   Design classes for a simple social media system. Include classes for `User`, `Post`, and `Comment`. Users can create posts and comment on them.\n",
    "\n",
    "10. **Game Characters:**\n",
    "    Create classes for different game characters such as `Player`, `Enemy`, and `NPC` (non-player character). Implement methods for actions like attacking and moving."
   ]
  }
 ],
 "metadata": {
  "kernelspec": {
   "display_name": "Python 3 (ipykernel)",
   "language": "python",
   "name": "python3"
  },
  "language_info": {
   "codemirror_mode": {
    "name": "ipython",
    "version": 3
   },
   "file_extension": ".py",
   "mimetype": "text/x-python",
   "name": "python",
   "nbconvert_exporter": "python",
   "pygments_lexer": "ipython3",
   "version": "3.12.0"
  }
 },
 "nbformat": 4,
 "nbformat_minor": 5
}
