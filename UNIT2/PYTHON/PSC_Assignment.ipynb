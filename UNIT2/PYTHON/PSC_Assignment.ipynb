{
  "nbformat": 4,
  "nbformat_minor": 0,
  "metadata": {
    "colab": {
      "provenance": []
    },
    "kernelspec": {
      "name": "python3",
      "display_name": "Python 3"
    },
    "language_info": {
      "name": "python"
    }
  },
  "cells": [
    {
      "cell_type": "markdown",
      "source": [
        "1. Create a 2D array representing a chessboard with 0s and 1s. Use advanced indexing to extract the positions of all 1s (representing chess pieces) on the board."
      ],
      "metadata": {
        "id": "KqAtWOANdokD"
      }
    },
    {
      "cell_type": "code",
      "execution_count": 5,
      "metadata": {
        "id": "3kvnpwR-cXDI",
        "colab": {
          "base_uri": "https://localhost:8080/"
        },
        "outputId": "ca35b2ef-2f4d-4846-a2a8-fb904d8d104e"
      },
      "outputs": [
        {
          "output_type": "stream",
          "name": "stdout",
          "text": [
            "Chessboard:\n",
            "[[0 1 0 1 0 1 0 1]\n",
            " [1 0 1 0 1 0 1 0]\n",
            " [0 1 0 1 0 1 0 1]\n",
            " [1 0 1 0 1 0 1 0]\n",
            " [0 1 0 1 0 1 0 1]\n",
            " [1 0 1 0 1 0 1 0]\n",
            " [0 1 0 1 0 1 0 1]\n",
            " [1 0 1 0 1 0 1 0]]\n"
          ]
        }
      ],
      "source": [
        "import numpy as np\n",
        "\n",
        "chessboard = np.zeros((8, 8), dtype=int)\n",
        "\n",
        "chessboard[1::2, ::2] = 1\n",
        "chessboard[::2, 1::2] = 1\n",
        "\n",
        "print(\"Chessboard:\")\n",
        "print(chessboard)"
      ]
    },
    {
      "cell_type": "code",
      "source": [
        "positions_of_ones = np.argwhere(chessboard == 1)\n",
        "\n",
        "print(\"Positions of all 1s:\")\n",
        "print(positions_of_ones)"
      ],
      "metadata": {
        "id": "JpTzPCHFdq02",
        "colab": {
          "base_uri": "https://localhost:8080/"
        },
        "outputId": "87a2bd62-1a57-4a15-88d7-ab7ec00c9aee"
      },
      "execution_count": 6,
      "outputs": [
        {
          "output_type": "stream",
          "name": "stdout",
          "text": [
            "Positions of all 1s:\n",
            "[[0 1]\n",
            " [0 3]\n",
            " [0 5]\n",
            " [0 7]\n",
            " [1 0]\n",
            " [1 2]\n",
            " [1 4]\n",
            " [1 6]\n",
            " [2 1]\n",
            " [2 3]\n",
            " [2 5]\n",
            " [2 7]\n",
            " [3 0]\n",
            " [3 2]\n",
            " [3 4]\n",
            " [3 6]\n",
            " [4 1]\n",
            " [4 3]\n",
            " [4 5]\n",
            " [4 7]\n",
            " [5 0]\n",
            " [5 2]\n",
            " [5 4]\n",
            " [5 6]\n",
            " [6 1]\n",
            " [6 3]\n",
            " [6 5]\n",
            " [6 7]\n",
            " [7 0]\n",
            " [7 2]\n",
            " [7 4]\n",
            " [7 6]]\n"
          ]
        }
      ]
    },
    {
      "cell_type": "markdown",
      "source": [
        "2.i. **arr1:** Create a 1D array with values from 1 to 12.\n",
        "\n",
        "2.ii. **arr2:** Create a 2D array with shape (3, 4) containing random integers.\n",
        "\n",
        "Reshape **arr1** into a 3x4 matrix. Print the reshaped array.\n",
        "Resize **arr2** to have 5 columns. Print the resized array.\n"
      ],
      "metadata": {
        "id": "js_LxPHkdrz2"
      }
    },
    {
      "cell_type": "code",
      "source": [
        "import numpy as np\n",
        "\n",
        "arr1 = np.arange(1, 13)\n",
        "\n",
        "arr2 = np.random.randint(1, 100, size=(3, 4))\n",
        "\n",
        "reshaped_arr1 = np.reshape(arr1, (3, 4))\n",
        "\n",
        "print(\"Reshaped arr1:\")\n",
        "print(reshaped_arr1)"
      ],
      "metadata": {
        "id": "k-6raa-qd7JD",
        "colab": {
          "base_uri": "https://localhost:8080/"
        },
        "outputId": "cc4b0910-af79-4c14-d056-a719c71a8ffb"
      },
      "execution_count": 24,
      "outputs": [
        {
          "output_type": "stream",
          "name": "stdout",
          "text": [
            "Reshaped arr1:\n",
            "[[ 1  2  3  4]\n",
            " [ 5  6  7  8]\n",
            " [ 9 10 11 12]]\n"
          ]
        }
      ]
    },
    {
      "cell_type": "code",
      "source": [
        "resized_arr2 = np.resize(arr2, (3, 5))\n",
        "\n",
        "print(\"\\nResized arr2:\")\n",
        "print(resized_arr2)"
      ],
      "metadata": {
        "id": "EZUroJJrd7y2",
        "colab": {
          "base_uri": "https://localhost:8080/"
        },
        "outputId": "1ed64570-ab0c-4621-b744-7cbd56c5bdb5"
      },
      "execution_count": 25,
      "outputs": [
        {
          "output_type": "stream",
          "name": "stdout",
          "text": [
            "\n",
            "Resized arr2:\n",
            "[[ 6 75  7 78 26]\n",
            " [69 92 92 40 16]\n",
            " [73 80  6 75  7]]\n"
          ]
        }
      ]
    },
    {
      "cell_type": "markdown",
      "source": [
        "3.Design a class **BankAccount** with a constructor that initializes the **account_number** and **balance**. Include methods **deposit** and **withdraw** to modify the balance.      \n",
        "Create an instance of the BankAccount class named account1 with an account number \"123456\" and an initial balance of $1000.     \n",
        "\n",
        "Use the deposit method to add $500 to the balance of account1.\n",
        "\n",
        "Use the withdraw method to deduct $200 from the balance of account1."
      ],
      "metadata": {
        "id": "V7RJkRsxd8FE"
      }
    },
    {
      "cell_type": "code",
      "source": [
        "class BankAccount:\n",
        "    def __init__(self, account_number, balance):\n",
        "        self.account_number = account_number\n",
        "        self.balance = balance\n",
        "\n",
        "    def deposit(self, amount):\n",
        "        self.balance += amount\n",
        "\n",
        "    def withdraw(self, amount):\n",
        "        if self.balance >= amount:\n",
        "            self.balance -= amount\n",
        "        else:\n",
        "            print(\"Insufficient funds\")"
      ],
      "metadata": {
        "id": "qrbuP9GkeSJS"
      },
      "execution_count": 9,
      "outputs": []
    },
    {
      "cell_type": "code",
      "source": [
        "account1 = BankAccount(\"123456\", 1000)\n",
        "account1.deposit(500)\n",
        "account1.withdraw(200)\n",
        "\n",
        "print(\"Account balance after deposit and withdrawal:\", account1.balance)"
      ],
      "metadata": {
        "id": "F6Af8wkNeR62",
        "colab": {
          "base_uri": "https://localhost:8080/"
        },
        "outputId": "967e500f-6a4d-406c-f4ee-c8a8e0885510"
      },
      "execution_count": 10,
      "outputs": [
        {
          "output_type": "stream",
          "name": "stdout",
          "text": [
            "Account balance after deposit and withdrawal: 1300\n"
          ]
        }
      ]
    },
    {
      "cell_type": "markdown",
      "source": [
        "4.Design a class Building with properties name and floors. Create a derived class OfficeBuilding that includes an additional property occupancy_rate.\n",
        "\n",
        "Create an instance of the Building class named building1 with the name\n",
        "\"Residential Tower\" and 20 floors.\n",
        "\n",
        "Create an instance of the OfficeBuilding class named building2 with the name \"Corporate Plaza,\" 15 floors, and an occupancy rate of 85%.\n",
        "\n",
        "\n"
      ],
      "metadata": {
        "id": "K4Y_tRiuePoI"
      }
    },
    {
      "cell_type": "code",
      "source": [
        "class Building:\n",
        "    def __init__(self, name, floors):\n",
        "        self.name = name\n",
        "        self.floors = floors\n",
        "\n",
        "class OfficeBuilding(Building):\n",
        "    def __init__(self, name, floors, occupancy_rate):\n",
        "        super().__init__(name, floors)\n",
        "        self.occupancy_rate = occupancy_rate"
      ],
      "metadata": {
        "id": "B4cKGA_Vek_h"
      },
      "execution_count": 11,
      "outputs": []
    },
    {
      "cell_type": "code",
      "source": [
        "building1 = Building(\"Residential Tower\", 20)\n",
        "\n",
        "building2 = OfficeBuilding(\"Corporate Plaza\", 15, 0.85)\n",
        "\n",
        "print(\"Details of building1:\")\n",
        "print(\"Name:\", building1.name)\n",
        "print(\"Floors:\", building1.floors)\n",
        "\n",
        "print(\"\\nDetails of building2:\")\n",
        "print(\"Name:\", building2.name)\n",
        "print(\"Floors:\", building2.floors)\n",
        "print(\"Occupancy Rate:\", building2.occupancy_rate)"
      ],
      "metadata": {
        "id": "Kjv5GWjPeljR",
        "colab": {
          "base_uri": "https://localhost:8080/"
        },
        "outputId": "07b9e9da-e97e-459d-8585-0daa27d0e983"
      },
      "execution_count": 14,
      "outputs": [
        {
          "output_type": "stream",
          "name": "stdout",
          "text": [
            "Details of building1:\n",
            "Name: Residential Tower\n",
            "Floors: 20\n",
            "\n",
            "Details of building2:\n",
            "Name: Corporate Plaza\n",
            "Floors: 15\n",
            "Occupancy Rate: 0.85\n"
          ]
        }
      ]
    },
    {
      "cell_type": "markdown",
      "source": [
        "5.You're developing a game. Design a class Character with a method attack. Create derived classes Player and Enemy that override the attack method to define player and enemy attacks.\n",
        "\n",
        "Create an instance of the Player class named player1 and an instance of the Enemy class named enemy1.\n",
        "\n",
        "Call the attack method for both player1 and enemy1 to see their respective attacks."
      ],
      "metadata": {
        "id": "2M-ySENIemFo"
      }
    },
    {
      "cell_type": "code",
      "source": [
        "class Character:\n",
        "    def attack(self):\n",
        "        pass\n",
        "\n",
        "class Player(Character):\n",
        "    def attack(self):\n",
        "        return \"Player attacks with a sword!\"\n",
        "\n",
        "class Enemy(Character):\n",
        "    def attack(self):\n",
        "        return \"Enemy attacks with claws!\""
      ],
      "metadata": {
        "id": "7XYOqOFLeqD3"
      },
      "execution_count": 17,
      "outputs": []
    },
    {
      "cell_type": "code",
      "source": [
        "player1 = Player()\n",
        "\n",
        "enemy1 = Enemy()\n",
        "\n",
        "print(\"Player1 attack:\", player1.attack())\n",
        "print(\"Enemy1 attack:\", enemy1.attack())"
      ],
      "metadata": {
        "id": "iWiBvT6Qex5d",
        "colab": {
          "base_uri": "https://localhost:8080/"
        },
        "outputId": "b7a9de5b-1dc6-4c48-a7f8-b621ae6db2ae"
      },
      "execution_count": 18,
      "outputs": [
        {
          "output_type": "stream",
          "name": "stdout",
          "text": [
            "Player1 attack: Player attacks with a sword!\n",
            "Enemy1 attack: Enemy attacks with claws!\n"
          ]
        }
      ]
    },
    {
      "cell_type": "markdown",
      "source": [
        "6.You are tasked with designing a class hierarchy for managing a fleet of vehicles. Create a base class Vehicle with public properties make and model, and a private property year. Implement a method get_year in the Vehicle class to retrieve the private year property. Now, extend the Vehicle class to create a derived class ElectricVehicle. The ElectricVehicle class should include properties battery_capacity and charging_time.\n",
        "\n",
        "*   Create an instance of the Vehicle class named vehicle1 with make \"Toyota,\"model \"Camry,\" and year 2022.\n",
        "*   Use the get_year method to retrieve and display the year of vehicle1.\n",
        "Create an instance of the ElectricVehicle class named ev1 with make \"Tesla,\" model \"Model S,\" year 2023, battery capacity of 75 kWh, and charging time of 4 hours.\n",
        "* Use the get_year method to retrieve and display the year of ev1.\n",
        "Display the battery capacity and charging time of ev1.\n"
      ],
      "metadata": {
        "id": "rxSyj4fkeyfe"
      }
    },
    {
      "cell_type": "code",
      "source": [
        "class Vehicle:\n",
        "    def __init__(self, make, model, year):\n",
        "        self.make = make\n",
        "        self.model = model\n",
        "        self.__year = year\n",
        "\n",
        "    def get_year(self):\n",
        "        return self.__year\n",
        "\n",
        "class ElectricVehicle(Vehicle):\n",
        "    def __init__(self, make, model, year, battery_capacity, charging_time):\n",
        "        super().__init__(make, model, year)\n",
        "        self.battery_capacity = battery_capacity\n",
        "        self.charging_time = charging_time"
      ],
      "metadata": {
        "id": "u9lHsvTafQY7"
      },
      "execution_count": 19,
      "outputs": []
    },
    {
      "cell_type": "code",
      "source": [
        "vehicle1 = Vehicle(\"Toyota\", \"Camry\", 2022)\n",
        "\n",
        "print(\"Year of vehicle1:\", vehicle1.get_year())\n",
        "\n",
        "ev1 = ElectricVehicle(\"Tesla\", \"Model S\", 2023, 75, \"4 hours\")\n",
        "\n",
        "print(\"Year of ev1:\", ev1.get_year())\n",
        "\n",
        "print(\"Battery Capacity of ev1:\", ev1.battery_capacity, \"kWh\")\n",
        "print(\"Charging Time of ev1:\", ev1.charging_time)"
      ],
      "metadata": {
        "id": "S_F8mZZhfQ4r",
        "colab": {
          "base_uri": "https://localhost:8080/"
        },
        "outputId": "36fcd26d-0bec-4f0d-f2ec-0205bd0bfcc3"
      },
      "execution_count": 20,
      "outputs": [
        {
          "output_type": "stream",
          "name": "stdout",
          "text": [
            "Year of vehicle1: 2022\n",
            "Year of ev1: 2023\n",
            "Battery Capacity of ev1: 75 kWh\n",
            "Charging Time of ev1: 4 hours\n"
          ]
        }
      ]
    }
  ]
}