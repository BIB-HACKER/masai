{
 "cells": [
  {
   "cell_type": "markdown",
   "metadata": {
    "id": "C8ny1rX62QlC"
   },
   "source": [
    "Q1. Define a Function to calculate the geometric sum of n numbers Note: In mathematics, a geometric series is a series with a constant ratio between successive terms.\n",
    "\n",
    "Function should take 3 arguments a,r,n where a is constant, r is common ratio, n is number of terms\n",
    "\n",
    "To Know More about Geometric Series: https://en.wikipedia.org/wiki/Geometric_series"
   ]
  },
  {
   "cell_type": "code",
   "execution_count": 2,
   "metadata": {
    "colab": {
     "base_uri": "https://localhost:8080/"
    },
    "id": "ZtWY3_GF2LCV",
    "outputId": "77156b88-e842-49b1-aa96-715c687b886e"
   },
   "outputs": [
    {
     "name": "stdout",
     "output_type": "stream",
     "text": [
      "The geometric sum of 4 terms with a common ratio of 3 is: 80.0\n"
     ]
    }
   ],
   "source": [
    "def geometric_sum(a, r, n):\n",
    "    if r == 1:\n",
    "        return a * n\n",
    "\n",
    "    sum_result = a * (pow(r, n) - 1) / (r - 1)\n",
    "    return sum_result\n",
    "\n",
    "a = 2\n",
    "r = 3\n",
    "n = 4\n",
    "\n",
    "result = geometric_sum(a, r, n)\n",
    "print(f\"The geometric sum of {n} terms with a common ratio of {r} is: {result}\")\n"
   ]
  },
  {
   "cell_type": "markdown",
   "metadata": {
    "id": "omagxthm2njP"
   },
   "source": [
    "Q2. Write a Python function to multiply all the numbers of 2 lists and store in the new list. Calculate the sum of the new list. Function should take input as 2 lists and return the sum of the new list. List input should be takenfrom the user.\n",
    "\n",
    "Sample List1 : [8, 2, 3, 1, 7] List2 : [2, 3, 4, 5, 6]\n",
    "\n",
    "New List will have elements as\n",
    "\n",
    "List1[0] * List2[0]\n",
    "\n",
    "List1[1] * List2[1]\n",
    "\n",
    "and so on.\n",
    "\n",
    "newList : [16, 6, 12, 5, 42]\n",
    "\n",
    "Expected Output : 81"
   ]
  },
  {
   "cell_type": "code",
   "execution_count": 6,
   "metadata": {
    "colab": {
     "base_uri": "https://localhost:8080/"
    },
    "id": "ixEgbuWC2qlm",
    "outputId": "b2387e87-cf96-4ade-e464-3252851969d2"
   },
   "outputs": [
    {
     "name": "stdout",
     "output_type": "stream",
     "text": [
      "Enter the element of list1 -8 2 3 1 7\n",
      "Enter the element of list2 -2 3 4 5 6\n",
      "81\n"
     ]
    }
   ],
   "source": [
    "def multiply_list(list1, list2):\n",
    "  new_list = [x*y for x,y in zip(list1,list2)]\n",
    "\n",
    "  sum_list = sum(new_list)\n",
    "\n",
    "  return sum_list\n",
    "\n",
    "list1 = list(map(int,input(\"Enter the element of list1 -\").split()))\n",
    "list2 = list(map(int,input(\"Enter the element of list2 -\").split()))\n",
    "\n",
    "result = multiply_list(list1, list2)\n",
    "print(result)"
   ]
  },
  {
   "cell_type": "markdown",
   "metadata": {
    "id": "XrZKjPm72rls"
   },
   "source": [
    "Q3 Write a Function which takes list of numbers as input and returns their squares as a list\n",
    "\n",
    "input - [1,2,3,4] output - [1,4,9,16]"
   ]
  },
  {
   "cell_type": "code",
   "execution_count": 12,
   "metadata": {
    "colab": {
     "base_uri": "https://localhost:8080/"
    },
    "id": "Sca-4ZFE2vcf",
    "outputId": "bbcff310-6e04-419e-e102-35f2cf277694"
   },
   "outputs": [
    {
     "name": "stdout",
     "output_type": "stream",
     "text": [
      "The squres of the input list [1, 2, 3, 4] are: [1, 4, 9, 16]\n"
     ]
    }
   ],
   "source": [
    "def calculate_squres(list_input):\n",
    "  squres_list=[x**2 for x in list_input]\n",
    "  return squres_list\n",
    "\n",
    "input_list=[1,2,3,4]\n",
    "result = calculate_squres(input_list)\n",
    "print(f\"The squres of the input list {input_list} are: {result}\")"
   ]
  },
  {
   "cell_type": "markdown",
   "metadata": {
    "id": "w3NvWfgs2wdL"
   },
   "source": [
    "Q4. With a given integral number n, write a program to generate a dictionary that contains (i, i*i) such that is an integral number between 1 and n (both included) and then the program should print the dictionary.\n",
    "\n",
    "Suppose the input is supplied to the program: 8\n",
    "Then, the output should be: {1: 1, 2: 4, 3: 9, 4: 16, 5: 25, 6: 36, 7: 49, 8: 64}"
   ]
  },
  {
   "cell_type": "code",
   "execution_count": 13,
   "metadata": {
    "colab": {
     "base_uri": "https://localhost:8080/"
    },
    "id": "BCahgiC92z3w",
    "outputId": "acd3a868-b3e8-476b-c2f5-0d46211e13ce"
   },
   "outputs": [
    {
     "name": "stdout",
     "output_type": "stream",
     "text": [
      "Enter a positive integer n: 8\n",
      "The generated dictionary is: {1: 1, 2: 4, 3: 9, 4: 16, 5: 25, 6: 36, 7: 49, 8: 64}\n"
     ]
    }
   ],
   "source": [
    "def dictio(n):\n",
    "  dict={i: i*i for i in range(1,n+1)}\n",
    "  return dict\n",
    "\n",
    "n=int(input(\"Enter a positive integer n: \"))\n",
    "result = dictio(n)\n",
    "print(f\"The generated dictionary is: {result}\")"
   ]
  },
  {
   "cell_type": "markdown",
   "metadata": {
    "id": "Wrv9_IgE21aS"
   },
   "source": [
    "Q5.Define a function that calculates the factorial of a given number. Factorial is the product of all positive integers less than or equal to a given positive integer.\n",
    "Function will take exactly one argument. Find the factorial for (N=5)"
   ]
  },
  {
   "cell_type": "code",
   "execution_count": 14,
   "metadata": {
    "colab": {
     "base_uri": "https://localhost:8080/"
    },
    "id": "w6Kdkt3K25PJ",
    "outputId": "22ed562f-e588-44bd-844e-df694ca65019"
   },
   "outputs": [
    {
     "name": "stdout",
     "output_type": "stream",
     "text": [
      "The factorial of 5 is: 120\n"
     ]
    }
   ],
   "source": [
    "def factorial(n):\n",
    "    if n == 0 or n == 1:\n",
    "        return 1\n",
    "    else:\n",
    "        return n * factorial(n - 1)\n",
    "\n",
    "N = 5\n",
    "result = factorial(N)\n",
    "print(f\"The factorial of {N} is: {result}\")"
   ]
  },
  {
   "cell_type": "markdown",
   "metadata": {
    "id": "6E0cwpSP26WC"
   },
   "source": [
    "Q6. Write a function to find the maximum element in a given list.\n",
    "sample list : [2,5,4,8,1]\n",
    "Expected output : 8"
   ]
  },
  {
   "cell_type": "code",
   "execution_count": 15,
   "metadata": {
    "colab": {
     "base_uri": "https://localhost:8080/"
    },
    "id": "8JFlMfRw2960",
    "outputId": "d9841f0a-7b95-494c-a022-abff07cbeda5"
   },
   "outputs": [
    {
     "name": "stdout",
     "output_type": "stream",
     "text": [
      "The maximum element in the list [2, 5, 4, 8, 1] is: 8\n"
     ]
    }
   ],
   "source": [
    "def find_max_element(input_list):\n",
    "    if not input_list:\n",
    "        return None\n",
    "\n",
    "    max_element = max(input_list)\n",
    "    return max_element\n",
    "\n",
    "sample_list = [2, 5, 4, 8, 1]\n",
    "result = find_max_element(sample_list)\n",
    "\n",
    "if result is not None:\n",
    "    print(f\"The maximum element in the list {sample_list} is: {result}\")\n",
    "else:\n",
    "    print(\"The list is empty.\")"
   ]
  },
  {
   "cell_type": "markdown",
   "metadata": {
    "id": "cn-dcweg2_Nb"
   },
   "source": [
    "Q7. Design a function that accepts a list of strings, converts each string to uppercase, and returns the modified list. Note - You can not use any built-in function"
   ]
  },
  {
   "cell_type": "code",
   "execution_count": 20,
   "metadata": {
    "colab": {
     "base_uri": "https://localhost:8080/"
    },
    "id": "NUdxNyic3FH4",
    "outputId": "5e5574c3-d2c1-4f1e-c342-c8ebdb7ed205"
   },
   "outputs": [
    {
     "name": "stdout",
     "output_type": "stream",
     "text": [
      "The modified list is: ['HELLO', 'WORLD', 'PYTHON']\n"
     ]
    }
   ],
   "source": [
    "def convert_to_uppercase(input_list):\n",
    "\n",
    "    def to_upper(char):\n",
    "        if 'a' <= char <= 'z':\n",
    "            return chr(ord(char) - ord('a') + ord('A'))\n",
    "        else:\n",
    "            return char\n",
    "\n",
    "    modified_list = [''.join(to_upper(char) for char in string) for string in input_list]\n",
    "    return modified_list\n",
    "\n",
    "strings = ['hello', 'world', 'python']\n",
    "result = convert_to_uppercase(strings)\n",
    "print(f\"The modified list is: {result}\")"
   ]
  },
  {
   "cell_type": "markdown",
   "metadata": {
    "id": "v4OHIiPa3GBT"
   },
   "source": [
    "Q8. Create a function that reverses the order of words in a string without using any built-in reverse or split functions."
   ]
  },
  {
   "cell_type": "code",
   "execution_count": 24,
   "metadata": {
    "colab": {
     "base_uri": "https://localhost:8080/"
    },
    "id": "EnDErclj3Nc4",
    "outputId": "ed79083b-b865-4772-d7c4-558c6b940bc9"
   },
   "outputs": [
    {
     "name": "stdout",
     "output_type": "stream",
     "text": [
      "The reversed order of words is: Python World Hello\n"
     ]
    }
   ],
   "source": [
    "def reverse_words(input_string):\n",
    "    def reverse_substring(string, start, end):\n",
    "        while start < end:\n",
    "            string[start], string[end] = string[end], string[start]\n",
    "            start += 1\n",
    "            end -= 1\n",
    "\n",
    "    string_list = list(input_string)\n",
    "\n",
    "    start = 0\n",
    "    for end in range(len(string_list)):\n",
    "        if string_list[end] == ' ' or end == len(string_list) - 1:\n",
    "            reverse_substring(string_list, start, end if end == len(string_list) - 1 else end - 1)\n",
    "            start = end + 1\n",
    "\n",
    "    reverse_substring(string_list, 0, len(string_list) - 1)\n",
    "\n",
    "    reversed_string = ''.join(string_list)\n",
    "\n",
    "    return reversed_string\n",
    "\n",
    "input_string = \"Hello World Python\"\n",
    "result = reverse_words(input_string)\n",
    "print(f\"The reversed order of words is: {result}\")\n"
   ]
  },
  {
   "cell_type": "markdown",
   "metadata": {
    "id": "334zLUu-3OyX"
   },
   "source": [
    "Q9. Create a function that takes a string input and counts the number of vowels in it without using count() or any built-in library functions."
   ]
  },
  {
   "cell_type": "code",
   "execution_count": 27,
   "metadata": {
    "colab": {
     "base_uri": "https://localhost:8080/"
    },
    "id": "Y9Z_TzI03SmC",
    "outputId": "c9063f5b-e399-4ca6-b2db-ad17f4ea8bb6"
   },
   "outputs": [
    {
     "name": "stdout",
     "output_type": "stream",
     "text": [
      "The number of vowels in the string 'Hello World' is: 3\n"
     ]
    }
   ],
   "source": [
    "def count_vowels(string):\n",
    "    vowel_count = 0\n",
    "    vowels = \"aeiouAEIOU\"\n",
    "    for char in string:\n",
    "      if char in vowels:\n",
    "            vowel_count += 1\n",
    "\n",
    "    return vowel_count\n",
    "\n",
    "string = \"Hello World\"\n",
    "result = count_vowels(string)\n",
    "print(f\"The number of vowels in the string '{string}' is: {result}\")\n"
   ]
  },
  {
   "cell_type": "markdown",
   "metadata": {
    "id": "FnwnGfFa3We_"
   },
   "source": [
    "Q10. Design a function that removes duplicates from a list without using set() or other built-in functions."
   ]
  },
  {
   "cell_type": "code",
   "execution_count": 28,
   "metadata": {
    "colab": {
     "base_uri": "https://localhost:8080/"
    },
    "id": "rn7wIDXN4lhw",
    "outputId": "f1959ea6-48a0-4513-9375-71081f70f984"
   },
   "outputs": [
    {
     "name": "stdout",
     "output_type": "stream",
     "text": [
      "The list after removing duplicates is: [1, 2, 3, 4, 5]\n"
     ]
    }
   ],
   "source": [
    "def remove_duplicates(input_list):\n",
    "    unique_list = []\n",
    "\n",
    "    for element in input_list:\n",
    "        if element not in unique_list:\n",
    "            unique_list.append(element)\n",
    "\n",
    "    return unique_list\n",
    "\n",
    "input_list = [1, 2, 2, 3, 4, 4, 5]\n",
    "result = remove_duplicates(input_list)\n",
    "print(f\"The list after removing duplicates is: {result}\")\n"
   ]
  }
 ],
 "metadata": {
  "colab": {
   "provenance": []
  },
  "kernelspec": {
   "display_name": "Python 3 (ipykernel)",
   "language": "python",
   "name": "python3"
  },
  "language_info": {
   "codemirror_mode": {
    "name": "ipython",
    "version": 3
   },
   "file_extension": ".py",
   "mimetype": "text/x-python",
   "name": "python",
   "nbconvert_exporter": "python",
   "pygments_lexer": "ipython3",
   "version": "3.12.0"
  }
 },
 "nbformat": 4,
 "nbformat_minor": 4
}
