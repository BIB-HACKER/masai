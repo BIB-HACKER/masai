{
 "cells": [
  {
   "cell_type": "markdown",
   "id": "0221d1d9",
   "metadata": {
    "id": "0221d1d9"
   },
   "source": [
    "# Lists, Tuples, Strings, Sets & Dictionaries\n",
    "\n",
    "![](https://files.realpython.com/media/The-Python-defaultdict-Type_Watermarked.f6e14d903857.jpg)"
   ]
  },
  {
   "cell_type": "markdown",
   "id": "bace3288",
   "metadata": {
    "id": "bace3288"
   },
   "source": [
    "## Lists\n",
    "\n",
    "![](https://av-eks-blogoptimized.s3.amazonaws.com/lists-indexing-and-splitting.png)\n",
    "\n",
    "### Definition:\n",
    "\n",
    "A list is a fundamental data structure in programming that allows you to store and organize a collection of items. These items can be of any data type, such as numbers, strings, or even other lists. Lists are versatile and commonly used in various programming languages to manage and manipulate data efficiently.\n",
    "\n",
    "### Why we need lists:\n",
    "\n",
    "1. **Organizing Data:** Lists help in organizing and managing data in a structured manner.\n",
    "2. **Sequential Access:** Items in a list are ordered and can be accessed sequentially using their index.\n",
    "3. **Flexibility:** Lists can contain elements of different data types, making them versatile for various applications.\n",
    "4. **Mutable:** Lists are mutable, meaning you can modify, add, or remove elements.\n",
    "\n",
    "### Different Methods Used on Lists:"
   ]
  },
  {
   "cell_type": "markdown",
   "id": "6c44cc7b",
   "metadata": {
    "id": "6c44cc7b"
   },
   "source": [
    "#### 1. **Creating a List:**\n",
    "   - Definition: Creating a list with a sequence of elements.\n",
    "   - Example:"
   ]
  },
  {
   "cell_type": "code",
   "execution_count": 3,
   "id": "7fd6a3b1",
   "metadata": {
    "id": "7fd6a3b1"
   },
   "outputs": [],
   "source": [
    "my_list = [1, 2, 3, 4, 5]"
   ]
  },
  {
   "cell_type": "markdown",
   "id": "09efcdc5",
   "metadata": {
    "id": "09efcdc5"
   },
   "source": [
    "#### 2. **Accessing Elements:**\n",
    "   - Definition: Retrieving elements from a list using index.\n",
    "   - Example:"
   ]
  },
  {
   "cell_type": "code",
   "execution_count": null,
   "id": "e7cdee75",
   "metadata": {
    "id": "e7cdee75"
   },
   "outputs": [],
   "source": [
    "first_element = my_list[0]  # Accessing the first element"
   ]
  },
  {
   "cell_type": "code",
   "execution_count": null,
   "id": "072630a7",
   "metadata": {
    "id": "072630a7"
   },
   "outputs": [],
   "source": [
    "first_element"
   ]
  },
  {
   "cell_type": "markdown",
   "id": "38a0f34f",
   "metadata": {
    "id": "38a0f34f"
   },
   "source": [
    "#### 3. **Slicing:**\n",
    "   - Definition: Extracting a portion of a list.\n",
    "   - Example:"
   ]
  },
  {
   "cell_type": "code",
   "execution_count": null,
   "id": "221734b8",
   "metadata": {
    "id": "221734b8"
   },
   "outputs": [],
   "source": [
    "sublist = my_list[1:4]  # Extract elements from index 1 to 3"
   ]
  },
  {
   "cell_type": "code",
   "execution_count": null,
   "id": "57eeea48",
   "metadata": {
    "id": "57eeea48"
   },
   "outputs": [],
   "source": [
    "sublist"
   ]
  },
  {
   "cell_type": "markdown",
   "id": "7775565b",
   "metadata": {
    "id": "7775565b"
   },
   "source": [
    "#### 4. **Appending and Extending:**\n",
    "   - Definition: Adding elements to the end of a list.\n",
    "   - Example:"
   ]
  },
  {
   "cell_type": "code",
   "execution_count": null,
   "id": "1ea05aad",
   "metadata": {
    "id": "1ea05aad"
   },
   "outputs": [],
   "source": [
    "my_list.append([6])       # Appending a single element\n",
    "my_list"
   ]
  },
  {
   "cell_type": "code",
   "execution_count": null,
   "id": "f79f32a3",
   "metadata": {
    "id": "f79f32a3"
   },
   "outputs": [],
   "source": [
    "my_list.extend([7, 8])  # Extending with multiple elements\n",
    "my_list"
   ]
  },
  {
   "cell_type": "markdown",
   "id": "de8b3173",
   "metadata": {
    "id": "de8b3173"
   },
   "source": [
    "#### 5. **Inserting:**\n",
    "   - Definition: Inserting an element at a specific index.\n",
    "   - Example:"
   ]
  },
  {
   "cell_type": "code",
   "execution_count": null,
   "id": "4fd5bd2f",
   "metadata": {
    "id": "4fd5bd2f"
   },
   "outputs": [],
   "source": [
    "my_list.insert(2, 10)  # Inserting 10 at index 2"
   ]
  },
  {
   "cell_type": "code",
   "execution_count": null,
   "id": "3ab2f111",
   "metadata": {
    "id": "3ab2f111"
   },
   "outputs": [],
   "source": [
    "my_list"
   ]
  },
  {
   "cell_type": "markdown",
   "id": "2e5f13fc",
   "metadata": {
    "id": "2e5f13fc"
   },
   "source": [
    "#### 6. **Removing Elements:**\n",
    "   - Definition: Removing elements by value or index.\n",
    "   - Example:"
   ]
  },
  {
   "cell_type": "code",
   "execution_count": null,
   "id": "99170e5c",
   "metadata": {
    "id": "99170e5c",
    "outputId": "69702e97-4f85-402e-9516-c410d708d5d2"
   },
   "outputs": [
    {
     "data": {
      "text/plain": [
       "[1, 2, 3, 5]"
      ]
     },
     "execution_count": 47,
     "metadata": {},
     "output_type": "execute_result"
    }
   ],
   "source": [
    "my_list.remove(4)     # Removing element with value 4\n",
    "my_list"
   ]
  },
  {
   "cell_type": "code",
   "execution_count": null,
   "id": "25ae730c",
   "metadata": {
    "id": "25ae730c",
    "outputId": "90bdaee7-ac06-4732-8d8f-7465ac037434"
   },
   "outputs": [
    {
     "data": {
      "text/plain": [
       "2"
      ]
     },
     "execution_count": 52,
     "metadata": {},
     "output_type": "execute_result"
    }
   ],
   "source": [
    "popped_element = my_list.pop(1)  # Removing and returning element at index 1\n",
    "popped_element"
   ]
  },
  {
   "cell_type": "markdown",
   "id": "b269b6f4",
   "metadata": {
    "id": "b269b6f4"
   },
   "source": [
    "#### 7. **List Comprehension:**\n",
    "   - Definition: A concise way to create lists.\n",
    "   - Example:"
   ]
  },
  {
   "cell_type": "code",
   "execution_count": null,
   "id": "eb3a5697",
   "metadata": {
    "id": "eb3a5697"
   },
   "outputs": [],
   "source": [
    "squared_numbers = [x**2 for x in my_list]\n",
    "squared_numbers"
   ]
  },
  {
   "cell_type": "markdown",
   "id": "6bae051f",
   "metadata": {
    "id": "6bae051f"
   },
   "source": [
    "#### 8. **`reverse()`:**\n",
    "   - **Definition:** Reverses the order of the elements in the list.\n",
    "   - **Example:**\n",
    "     "
   ]
  },
  {
   "cell_type": "code",
   "execution_count": null,
   "id": "cb273f14",
   "metadata": {
    "id": "cb273f14"
   },
   "outputs": [],
   "source": [
    "my_list = [1, 2, 3, 4, 5]\n",
    "my_list.reverse()\n",
    "print(my_list)  # Output: [5, 4, 3, 2, 1]"
   ]
  },
  {
   "cell_type": "markdown",
   "id": "3decb3f4",
   "metadata": {
    "id": "3decb3f4"
   },
   "source": [
    "#### 9. **`sort()`:**\n",
    "   - **Definition:** Sorts the elements of the list in ascending order.\n",
    "   - **Example:**"
   ]
  },
  {
   "cell_type": "code",
   "execution_count": null,
   "id": "a71a488c",
   "metadata": {
    "id": "a71a488c"
   },
   "outputs": [],
   "source": [
    "numbers = [5, 2, 8, 1, 3]\n",
    "numbers.sort()\n",
    "print(numbers)  # Output: [1, 2, 3, 5, 8]"
   ]
  },
  {
   "cell_type": "markdown",
   "id": "16d1b35b",
   "metadata": {
    "id": "16d1b35b"
   },
   "source": [
    "- **Custom Sorting:**"
   ]
  },
  {
   "cell_type": "code",
   "execution_count": null,
   "id": "e562617e",
   "metadata": {
    "id": "e562617e"
   },
   "outputs": [],
   "source": [
    "words = [\"banana\", \"apple\", \"orange\", \"grape\"]\n",
    "words.sort(key=len)  # Sort by length\n",
    "print(words)  # Output: ['apple', 'grape', 'banana', 'orange']"
   ]
  },
  {
   "cell_type": "markdown",
   "id": "4fd6d96e",
   "metadata": {
    "id": "4fd6d96e"
   },
   "source": [
    "### Exercises:\n",
    "\n",
    "1. Create a list of your favorite fruits."
   ]
  },
  {
   "cell_type": "code",
   "execution_count": null,
   "id": "74a48519",
   "metadata": {
    "id": "74a48519"
   },
   "outputs": [],
   "source": []
  },
  {
   "cell_type": "markdown",
   "id": "6218cc6c",
   "metadata": {
    "id": "6218cc6c"
   },
   "source": [
    "2. Access and print the third element of the list.\n"
   ]
  },
  {
   "cell_type": "code",
   "execution_count": null,
   "id": "ad0b2a54",
   "metadata": {
    "id": "ad0b2a54"
   },
   "outputs": [],
   "source": []
  },
  {
   "cell_type": "markdown",
   "id": "d32b1313",
   "metadata": {
    "id": "d32b1313"
   },
   "source": [
    "3. Slice the list to get only the first three fruits.\n"
   ]
  },
  {
   "cell_type": "code",
   "execution_count": null,
   "id": "b34dc03e",
   "metadata": {
    "id": "b34dc03e"
   },
   "outputs": [],
   "source": []
  },
  {
   "cell_type": "markdown",
   "id": "8aa2dd80",
   "metadata": {
    "id": "8aa2dd80"
   },
   "source": [
    "4. Append a new fruit to the list.\n"
   ]
  },
  {
   "cell_type": "code",
   "execution_count": null,
   "id": "117abd17",
   "metadata": {
    "id": "117abd17"
   },
   "outputs": [],
   "source": []
  },
  {
   "cell_type": "markdown",
   "id": "4c387051",
   "metadata": {
    "id": "4c387051"
   },
   "source": [
    "5. Insert a fruit at the second position.\n"
   ]
  },
  {
   "cell_type": "code",
   "execution_count": null,
   "id": "1da5bdaa",
   "metadata": {
    "id": "1da5bdaa"
   },
   "outputs": [],
   "source": []
  },
  {
   "cell_type": "markdown",
   "id": "2405d0ff",
   "metadata": {
    "id": "2405d0ff"
   },
   "source": [
    "6. Remove your least favorite fruit from the list.\n"
   ]
  },
  {
   "cell_type": "code",
   "execution_count": null,
   "id": "0885e43b",
   "metadata": {
    "id": "0885e43b"
   },
   "outputs": [],
   "source": []
  },
  {
   "cell_type": "markdown",
   "id": "fa5b5359",
   "metadata": {
    "id": "fa5b5359"
   },
   "source": [
    "7. Create a new list with the lengths of each fruit name."
   ]
  },
  {
   "cell_type": "code",
   "execution_count": null,
   "id": "5597262c",
   "metadata": {
    "id": "5597262c"
   },
   "outputs": [],
   "source": []
  },
  {
   "cell_type": "markdown",
   "id": "b8dd3e41",
   "metadata": {
    "id": "b8dd3e41"
   },
   "source": [
    "8. Use list comprehension to create a new list with only the fruits containing the letter 'a'."
   ]
  },
  {
   "cell_type": "code",
   "execution_count": null,
   "id": "8acb9608",
   "metadata": {
    "id": "8acb9608"
   },
   "outputs": [],
   "source": []
  },
  {
   "cell_type": "markdown",
   "id": "0cf5adeb",
   "metadata": {
    "id": "0cf5adeb"
   },
   "source": [
    "9. Reverse the order of your favorite fruits list using the `reverse()` method.\n"
   ]
  },
  {
   "cell_type": "code",
   "execution_count": null,
   "id": "16d5710d",
   "metadata": {
    "id": "16d5710d"
   },
   "outputs": [],
   "source": []
  },
  {
   "cell_type": "markdown",
   "id": "34477bfc",
   "metadata": {
    "id": "34477bfc"
   },
   "source": [
    "10. Sort the list alphabetically using the `sort()` method.\n"
   ]
  },
  {
   "cell_type": "code",
   "execution_count": null,
   "id": "d45c05fb",
   "metadata": {
    "id": "d45c05fb"
   },
   "outputs": [],
   "source": []
  },
  {
   "cell_type": "markdown",
   "id": "c3eefa38",
   "metadata": {
    "id": "c3eefa38"
   },
   "source": [
    "11. Create a list of numbers in random order and sort them in descending order.\n"
   ]
  },
  {
   "cell_type": "code",
   "execution_count": null,
   "id": "0454aa10",
   "metadata": {
    "id": "0454aa10"
   },
   "outputs": [],
   "source": []
  },
  {
   "cell_type": "markdown",
   "id": "1f74fe78",
   "metadata": {
    "id": "1f74fe78"
   },
   "source": [
    "12. Sort a list of words based on their length in ascending order."
   ]
  },
  {
   "cell_type": "code",
   "execution_count": null,
   "id": "76c0c400",
   "metadata": {
    "id": "76c0c400"
   },
   "outputs": [],
   "source": []
  },
  {
   "cell_type": "markdown",
   "id": "f9100f33",
   "metadata": {
    "id": "f9100f33"
   },
   "source": [
    "These exercises will help you practice different operations on lists in Python."
   ]
  },
  {
   "cell_type": "markdown",
   "id": "f89209b7",
   "metadata": {
    "id": "f89209b7"
   },
   "source": [
    "## Tuples\n",
    "\n",
    "![](https://i.pinimg.com/564x/95/a3/e5/95a3e56b3e35b689ffdbef272b95855d.jpg)\n",
    "\n",
    "### Definition:\n",
    "\n",
    "A tuple is a collection of ordered and immutable elements. Unlike lists, once a tuple is created, its elements cannot be modified, added, or removed. Tuples are defined using parentheses `()`.\n",
    "\n",
    "### Why we need tuples:\n",
    "\n",
    "1. **Immutability:** Tuples are useful when you want to ensure that the data remains constant throughout the program.\n",
    "2. **Performance:** Tuples are generally more memory-efficient than lists.\n",
    "3. **Sequence Unpacking:** Tuples can be used for efficient assignment and swapping of values.\n",
    "4. **Dictionary Keys:** Tuples can be used as keys in dictionaries, unlike lists.\n",
    "\n",
    "### Different Methods Used on Tuples:"
   ]
  },
  {
   "cell_type": "markdown",
   "id": "f0c446fd",
   "metadata": {
    "id": "f0c446fd"
   },
   "source": [
    "#### 1. **Creating a Tuple:**\n",
    "   - **Definition:** Creating a tuple with a sequence of elements.\n",
    "   - **Example:**\n"
   ]
  },
  {
   "cell_type": "code",
   "execution_count": null,
   "id": "99e3b370",
   "metadata": {
    "id": "99e3b370"
   },
   "outputs": [],
   "source": [
    "my_tuple = (1, 2, 3, 4, 5)\n",
    "my_tuple"
   ]
  },
  {
   "cell_type": "markdown",
   "id": "901db8d3",
   "metadata": {
    "id": "901db8d3"
   },
   "source": [
    "#### 2. **Accessing Elements:**\n",
    "   - **Definition:** Retrieving elements from a tuple using index.\n",
    "   - **Example:**\n",
    "    "
   ]
  },
  {
   "cell_type": "code",
   "execution_count": null,
   "id": "7d2a863b",
   "metadata": {
    "id": "7d2a863b"
   },
   "outputs": [],
   "source": [
    "first_element = my_tuple[0]  # Accessing the first element\n",
    "first_element"
   ]
  },
  {
   "cell_type": "markdown",
   "id": "5e02509d",
   "metadata": {
    "id": "5e02509d"
   },
   "source": [
    "#### 3. **Tuple Unpacking:**\n",
    "   - **Definition:** Assigning values from a tuple to variables.\n",
    "   - **Example:**\n",
    "     \n",
    "     \n"
   ]
  },
  {
   "cell_type": "code",
   "execution_count": null,
   "id": "ca463877",
   "metadata": {
    "id": "ca463877"
   },
   "outputs": [],
   "source": [
    "a, b, c = my_tuple[:3]  # Unpack the first three elements\n",
    "print(a)\n",
    "print(b)\n",
    "print(c)"
   ]
  },
  {
   "cell_type": "markdown",
   "id": "43ff7791",
   "metadata": {
    "id": "43ff7791"
   },
   "source": [
    "#### 4. **Concatenation:**\n",
    "   - **Definition:** Combining two or more tuples.\n",
    "   - **Example:**"
   ]
  },
  {
   "cell_type": "code",
   "execution_count": null,
   "id": "c65e182f",
   "metadata": {
    "id": "c65e182f",
    "outputId": "561de1d1-cee6-422c-8abe-552c8105e323"
   },
   "outputs": [
    {
     "data": {
      "text/plain": [
       "(1, 2, 3, 4, 5, 6)"
      ]
     },
     "execution_count": 59,
     "metadata": {},
     "output_type": "execute_result"
    }
   ],
   "source": [
    "tuple1 = (1, 2, 3)\n",
    "tuple2 = (4, 5, 6)\n",
    "result_tuple = tuple1 + tuple2\n",
    "result_tuple"
   ]
  },
  {
   "cell_type": "markdown",
   "id": "a892ffea",
   "metadata": {
    "id": "a892ffea"
   },
   "source": [
    "#### 5. **`count()`:**\n",
    "   - **Definition:** Returns the number of occurrences of a specified value in the tuple.\n",
    "   - **Example:**"
   ]
  },
  {
   "cell_type": "code",
   "execution_count": null,
   "id": "0c71777d",
   "metadata": {
    "id": "0c71777d",
    "outputId": "5e98f1b1-a8c8-4002-fa49-d12df7a373f7"
   },
   "outputs": [
    {
     "name": "stdout",
     "output_type": "stream",
     "text": [
      "3\n"
     ]
    }
   ],
   "source": [
    "my_tuple = (1, 2, 2, 3, 4, 2)\n",
    "count_of_2 = my_tuple.count(2)\n",
    "print(count_of_2)  # Output: 3"
   ]
  },
  {
   "cell_type": "markdown",
   "id": "73ef0e72",
   "metadata": {
    "id": "73ef0e72"
   },
   "source": [
    "#### 6. **`index()`:**\n",
    "   - **Definition:** Returns the index of the first occurrence of a specified value.\n",
    "   - **Example:**\n",
    "     \n",
    "     "
   ]
  },
  {
   "cell_type": "code",
   "execution_count": null,
   "id": "3afe5f62",
   "metadata": {
    "id": "3afe5f62",
    "outputId": "e9d010f8-49b3-42a2-d2d1-acd39363fb1c"
   },
   "outputs": [
    {
     "name": "stdout",
     "output_type": "stream",
     "text": [
      "2\n"
     ]
    }
   ],
   "source": [
    "my_tuple = (1, 2, 3, 4, 5)\n",
    "index_of_3 = my_tuple.index(3)\n",
    "print(index_of_3)  # Output: 2"
   ]
  },
  {
   "cell_type": "code",
   "execution_count": null,
   "id": "07ddaa26",
   "metadata": {
    "id": "07ddaa26",
    "outputId": "34a0c9a8-125e-4d52-e751-be2b44188724"
   },
   "outputs": [
    {
     "data": {
      "text/plain": [
       "3"
      ]
     },
     "execution_count": 63,
     "metadata": {},
     "output_type": "execute_result"
    }
   ],
   "source": [
    "my_tuple[2]"
   ]
  },
  {
   "cell_type": "markdown",
   "id": "3efd95ed",
   "metadata": {
    "id": "3efd95ed"
   },
   "source": [
    "#### 7. **`len()`:**\n",
    "   - **Definition:** Returns the number of elements in the tuple.\n",
    "   - **Example:**\n",
    "    "
   ]
  },
  {
   "cell_type": "code",
   "execution_count": null,
   "id": "6f546e50",
   "metadata": {
    "id": "6f546e50",
    "outputId": "ee911152-8e93-4c51-a36f-f0907bc276a3"
   },
   "outputs": [
    {
     "name": "stdout",
     "output_type": "stream",
     "text": [
      "5\n"
     ]
    }
   ],
   "source": [
    "my_tuple = (1, 2, 3, 4, 5)\n",
    "length = len(my_tuple)\n",
    "print(length)  # Output: 5"
   ]
  },
  {
   "cell_type": "markdown",
   "id": "1cfd171d",
   "metadata": {
    "id": "1cfd171d"
   },
   "source": [
    "#### 8. **`min()`, `max()`, `sum()`:**\n",
    "   - **Definition:**\n",
    "     - `min()`: Returns the smallest element in the tuple.\n",
    "     - `max()`: Returns the largest element in the tuple.\n",
    "     - `sum()`: Returns the sum of all elements in the tuple (works for numeric elements).\n",
    "   - **Example:**\n",
    "     \n",
    "     \n",
    "     "
   ]
  },
  {
   "cell_type": "code",
   "execution_count": null,
   "id": "b2873fea",
   "metadata": {
    "id": "b2873fea",
    "outputId": "fc430bea-da29-4cf8-ed27-461858ee4a02"
   },
   "outputs": [
    {
     "name": "stdout",
     "output_type": "stream",
     "text": [
      "3\n"
     ]
    }
   ],
   "source": [
    "numbers = (10, 5, 8, 3, 12)\n",
    "min_value = min(numbers)\n",
    "print(min_value)"
   ]
  },
  {
   "cell_type": "code",
   "execution_count": null,
   "id": "799e88bc",
   "metadata": {
    "id": "799e88bc",
    "outputId": "63b546f7-0b43-4967-e41f-6f3971e902ac"
   },
   "outputs": [
    {
     "name": "stdout",
     "output_type": "stream",
     "text": [
      "12\n"
     ]
    }
   ],
   "source": [
    "max_value = max(numbers)\n",
    "print(max_value)"
   ]
  },
  {
   "cell_type": "code",
   "execution_count": null,
   "id": "07bd6e16",
   "metadata": {
    "id": "07bd6e16",
    "outputId": "139f0a0e-a4b7-40f8-c412-2da60d9edfa8"
   },
   "outputs": [
    {
     "name": "stdout",
     "output_type": "stream",
     "text": [
      "38\n"
     ]
    }
   ],
   "source": [
    "sum_value = sum(numbers)\n",
    "print(sum_value)"
   ]
  },
  {
   "cell_type": "code",
   "execution_count": null,
   "id": "33ba54dc",
   "metadata": {
    "id": "33ba54dc",
    "outputId": "56bc2448-c275-4416-8b52-bc171f42d9f0"
   },
   "outputs": [
    {
     "data": {
      "text/plain": [
       "7"
      ]
     },
     "execution_count": 68,
     "metadata": {},
     "output_type": "execute_result"
    }
   ],
   "source": [
    "sum(list9)"
   ]
  },
  {
   "cell_type": "code",
   "execution_count": null,
   "id": "0241dc7f",
   "metadata": {
    "id": "0241dc7f",
    "outputId": "342284c8-8419-4e3a-aeda-2ffd5e592932"
   },
   "outputs": [
    {
     "data": {
      "text/plain": [
       "1"
      ]
     },
     "execution_count": 69,
     "metadata": {},
     "output_type": "execute_result"
    }
   ],
   "source": [
    "min(list9)"
   ]
  },
  {
   "cell_type": "code",
   "execution_count": null,
   "id": "6e93edf5",
   "metadata": {
    "id": "6e93edf5",
    "outputId": "ddbf908b-218c-491f-cf2c-c46aaaebcb41"
   },
   "outputs": [
    {
     "data": {
      "text/plain": [
       "4"
      ]
     },
     "execution_count": 70,
     "metadata": {},
     "output_type": "execute_result"
    }
   ],
   "source": [
    "max(list9)"
   ]
  },
  {
   "cell_type": "markdown",
   "id": "0dbff071",
   "metadata": {
    "id": "0dbff071"
   },
   "source": [
    "#### 9. **`sort()`:**\n",
    "   - **Note:** Tuples are immutable, so they don't have a `sort()` method. However, you can use the `sorted()` function to create a new sorted tuple.\n",
    "   - **Example:**\n",
    "     "
   ]
  },
  {
   "cell_type": "code",
   "execution_count": null,
   "id": "f8b1173b",
   "metadata": {
    "id": "f8b1173b"
   },
   "outputs": [],
   "source": [
    "unsorted_tuple = (5, 2, 8, 1, 3)\n",
    "sorted_tuple = tuple(sorted(unsorted_tuple))\n",
    "sorted_tuple"
   ]
  },
  {
   "cell_type": "markdown",
   "id": "8a5134b9",
   "metadata": {
    "id": "8a5134b9"
   },
   "source": [
    "### Exercises:\n",
    "\n",
    "1. Create a tuple with the names of your favorite colors.\n"
   ]
  },
  {
   "cell_type": "code",
   "execution_count": null,
   "id": "d5f4e0eb",
   "metadata": {
    "id": "d5f4e0eb"
   },
   "outputs": [],
   "source": []
  },
  {
   "cell_type": "markdown",
   "id": "3627a4d2",
   "metadata": {
    "id": "3627a4d2"
   },
   "source": [
    "2. Access and print the second element of the tuple.\n"
   ]
  },
  {
   "cell_type": "code",
   "execution_count": null,
   "id": "354fd67d",
   "metadata": {
    "id": "354fd67d"
   },
   "outputs": [],
   "source": []
  },
  {
   "cell_type": "markdown",
   "id": "545fe523",
   "metadata": {
    "id": "545fe523"
   },
   "source": [
    "3. Use tuple unpacking to assign the values of the first three colors to three variables.\n"
   ]
  },
  {
   "cell_type": "code",
   "execution_count": null,
   "id": "544d2cc4",
   "metadata": {
    "id": "544d2cc4"
   },
   "outputs": [],
   "source": []
  },
  {
   "cell_type": "markdown",
   "id": "d195703a",
   "metadata": {
    "id": "d195703a"
   },
   "source": [
    "4. Create another tuple with the names of additional colors and concatenate it with the first tuple.\n"
   ]
  },
  {
   "cell_type": "code",
   "execution_count": null,
   "id": "34943262",
   "metadata": {
    "id": "34943262"
   },
   "outputs": [],
   "source": []
  },
  {
   "cell_type": "markdown",
   "id": "74cea3a2",
   "metadata": {
    "id": "74cea3a2"
   },
   "source": [
    "5. Try to modify an element in the tuple (you should get an error since tuples are immutable).\n"
   ]
  },
  {
   "cell_type": "code",
   "execution_count": null,
   "id": "4c9ba84b",
   "metadata": {
    "id": "4c9ba84b"
   },
   "outputs": [],
   "source": []
  },
  {
   "cell_type": "markdown",
   "id": "39627ba2",
   "metadata": {
    "id": "39627ba2"
   },
   "source": [
    "6. Create a tuple with the ages of your family members and find the maximum age.\n"
   ]
  },
  {
   "cell_type": "code",
   "execution_count": null,
   "id": "26413b52",
   "metadata": {
    "id": "26413b52"
   },
   "outputs": [],
   "source": []
  },
  {
   "cell_type": "markdown",
   "id": "19f51610",
   "metadata": {
    "id": "19f51610"
   },
   "source": [
    "7. Swap the values of two variables using tuple unpacking.\n",
    "\n"
   ]
  },
  {
   "cell_type": "code",
   "execution_count": null,
   "id": "a214f888",
   "metadata": {
    "id": "a214f888"
   },
   "outputs": [],
   "source": []
  },
  {
   "cell_type": "markdown",
   "id": "a47b8679",
   "metadata": {
    "id": "a47b8679"
   },
   "source": [
    "8. Count the number of occurrences of a specific color in your favorite colors tuple.\n"
   ]
  },
  {
   "cell_type": "code",
   "execution_count": null,
   "id": "92d245fa",
   "metadata": {
    "id": "92d245fa"
   },
   "outputs": [],
   "source": []
  },
  {
   "cell_type": "markdown",
   "id": "9355720e",
   "metadata": {
    "id": "9355720e"
   },
   "source": [
    "9. Find the index of the first occurrence of a color in your favorite colors tuple.\n"
   ]
  },
  {
   "cell_type": "code",
   "execution_count": null,
   "id": "842df930",
   "metadata": {
    "id": "842df930"
   },
   "outputs": [],
   "source": []
  },
  {
   "cell_type": "markdown",
   "id": "acc89d70",
   "metadata": {
    "id": "acc89d70"
   },
   "source": [
    "10. Calculate the sum of the ages in the family members tuple.\n"
   ]
  },
  {
   "cell_type": "code",
   "execution_count": null,
   "id": "7a6f88e4",
   "metadata": {
    "id": "7a6f88e4"
   },
   "outputs": [],
   "source": []
  },
  {
   "cell_type": "markdown",
   "id": "b704d383",
   "metadata": {
    "id": "b704d383"
   },
   "source": [
    "11. Find the minimum and maximum ages in the family members tuple.\n"
   ]
  },
  {
   "cell_type": "code",
   "execution_count": null,
   "id": "e3981d8e",
   "metadata": {
    "id": "e3981d8e"
   },
   "outputs": [],
   "source": []
  },
  {
   "cell_type": "markdown",
   "id": "2768cec8",
   "metadata": {
    "id": "2768cec8"
   },
   "source": [
    "These exercises will help you practice different operations on tuples in Python and understand the immutability concept associated with them."
   ]
  },
  {
   "cell_type": "markdown",
   "id": "fb23a214",
   "metadata": {
    "id": "fb23a214"
   },
   "source": [
    "## Strings\n",
    "\n",
    "![](https://prepbytes-misc-images.s3.ap-south-1.amazonaws.com/assets/1675141303864-Python%20String%20Methods%20and%20Functions2.png)\n",
    "\n",
    "### Definition:\n",
    "\n",
    "A string is a sequence of characters enclosed within single (' '), double (\" \"), or triple (''' ''' or \"\"\" \"\"\") quotes. Strings are a fundamental data type in programming and are used to represent text.\n",
    "\n",
    "### Why we need strings:\n",
    "\n",
    "1. **Text Representation:** Strings are used to store and manipulate textual data.\n",
    "2. **Data Processing:** Many algorithms involve processing and analyzing strings.\n",
    "3. **Input/Output:** Interaction with users often involves handling strings.\n",
    "4. **Text Formatting:** Strings are used for formatting and presenting information.\n",
    "\n",
    "### Different Methods Used on Strings:"
   ]
  },
  {
   "cell_type": "markdown",
   "id": "dd0d396c",
   "metadata": {
    "id": "dd0d396c"
   },
   "source": [
    "#### 1. **Creating a String:**\n",
    "   - **Definition:** Creating a string by enclosing characters in quotes.\n",
    "   - **Example:**"
   ]
  },
  {
   "cell_type": "code",
   "execution_count": null,
   "id": "f11dae1b",
   "metadata": {
    "id": "f11dae1b"
   },
   "outputs": [],
   "source": [
    "my_string = \"Hello, World!\""
   ]
  },
  {
   "cell_type": "markdown",
   "id": "beda846b",
   "metadata": {
    "id": "beda846b"
   },
   "source": [
    "#### 2. **Accessing Characters:**\n",
    "   - **Definition:** Accessing individual characters in a string using indexing.\n",
    "   - **Example:**"
   ]
  },
  {
   "cell_type": "code",
   "execution_count": null,
   "id": "20c57473",
   "metadata": {
    "id": "20c57473"
   },
   "outputs": [],
   "source": [
    "first_char = my_string[0]  # Accessing the first character\n",
    "first_char"
   ]
  },
  {
   "cell_type": "markdown",
   "id": "56cbf652",
   "metadata": {
    "id": "56cbf652"
   },
   "source": [
    "#### 3. **Slicing:**\n",
    "   - **Definition:** Extracting a portion of a string.\n",
    "   - **Example:**\n",
    "     \n",
    "\n"
   ]
  },
  {
   "cell_type": "code",
   "execution_count": null,
   "id": "b021463b",
   "metadata": {
    "id": "b021463b"
   },
   "outputs": [],
   "source": [
    "substring = my_string[7:12]  # Extracting characters from index 7 to 11\n",
    "substring"
   ]
  },
  {
   "cell_type": "markdown",
   "id": "20072436",
   "metadata": {
    "id": "20072436"
   },
   "source": [
    "#### 4. **Concatenation:**\n",
    "   - **Definition:** Combining two or more strings.\n",
    "   - **Example:**\n",
    "    \n",
    "\n"
   ]
  },
  {
   "cell_type": "code",
   "execution_count": null,
   "id": "130d14b5",
   "metadata": {
    "id": "130d14b5"
   },
   "outputs": [],
   "source": [
    "greeting = \"Hello\"\n",
    "name = \"Alice\"\n",
    "full_greeting = greeting + \" \" + name  # Concatenating strings\n",
    "full_greeting"
   ]
  },
  {
   "cell_type": "markdown",
   "id": "69479fb9",
   "metadata": {
    "id": "69479fb9"
   },
   "source": [
    "#### 5. **Length:**\n",
    "   - **Definition:** Finding the length of a string.\n",
    "   - **Example:**\n",
    "     \n"
   ]
  },
  {
   "cell_type": "code",
   "execution_count": null,
   "id": "594a3540",
   "metadata": {
    "id": "594a3540",
    "outputId": "2343593f-b743-45da-ec54-7265f8972cad"
   },
   "outputs": [
    {
     "data": {
      "text/plain": [
       "13"
      ]
     },
     "execution_count": 94,
     "metadata": {},
     "output_type": "execute_result"
    }
   ],
   "source": [
    "length = len(my_string)\n",
    "length"
   ]
  },
  {
   "cell_type": "markdown",
   "id": "7fa8b107",
   "metadata": {
    "id": "7fa8b107"
   },
   "source": [
    "#### 6. **Lowercase and Uppercase:**\n",
    "   - **Definition:**\n",
    "     - `lower()`: Converts all characters in a string to lowercase.\n",
    "     - `upper()`: Converts all characters in a string to uppercase.\n",
    "   - **Example:**\n",
    "     \n"
   ]
  },
  {
   "cell_type": "code",
   "execution_count": null,
   "id": "cc5fef9f",
   "metadata": {
    "id": "cc5fef9f",
    "outputId": "66d2fcb4-b1f9-45e0-a1c9-9377e9febc85"
   },
   "outputs": [
    {
     "name": "stdout",
     "output_type": "stream",
     "text": [
      "hello, world!\n",
      "HELLO, WORLD!\n"
     ]
    }
   ],
   "source": [
    "lowercase_str = my_string.lower()\n",
    "print(lowercase_str)\n",
    "uppercase_str = my_string.upper()\n",
    "print(uppercase_str)"
   ]
  },
  {
   "cell_type": "markdown",
   "id": "ebd9629a",
   "metadata": {
    "id": "ebd9629a"
   },
   "source": [
    "#### 7. **Find and Replace:**\n",
    "   - **Definition:**\n",
    "     - `find()`: Returns the index of the first occurrence of a substring.\n",
    "     - `replace()`: Replaces occurrences of a substring with another substring.\n",
    "   - **Example:**\n",
    "     \n",
    "\n"
   ]
  },
  {
   "cell_type": "code",
   "execution_count": null,
   "id": "6b8d3fd0",
   "metadata": {
    "id": "6b8d3fd0",
    "outputId": "ae86a89f-72af-4e73-c4f4-069fb79014ff"
   },
   "outputs": [
    {
     "name": "stdout",
     "output_type": "stream",
     "text": [
      "7\n",
      "Hi, World!\n"
     ]
    }
   ],
   "source": [
    "index_of_world = my_string.find(\"World\")\n",
    "print(index_of_world)\n",
    "replaced_str = my_string.replace(\"Hello\", \"Hi\")\n",
    "print(replaced_str)"
   ]
  },
  {
   "cell_type": "markdown",
   "id": "6099ddeb",
   "metadata": {
    "id": "6099ddeb"
   },
   "source": [
    "#### 8. **`count()`:**\n",
    "   - **Definition:** Returns the number of occurrences of a specified substring in the string.\n",
    "   - **Example:**"
   ]
  },
  {
   "cell_type": "code",
   "execution_count": null,
   "id": "7bd2d056",
   "metadata": {
    "id": "7bd2d056",
    "outputId": "a7199f9f-3086-4760-9cc6-d3dcb7ac12de"
   },
   "outputs": [
    {
     "data": {
      "text/plain": [
       "2"
      ]
     },
     "execution_count": 100,
     "metadata": {},
     "output_type": "execute_result"
    }
   ],
   "source": [
    "sentence = \"Python is fun, and Python is powerful.\"\n",
    "count_python = sentence.count(\"Python\")\n",
    "count_python"
   ]
  },
  {
   "cell_type": "markdown",
   "id": "b18eeb7d",
   "metadata": {
    "id": "b18eeb7d"
   },
   "source": [
    "#### 9. **`index()`:**\n",
    "   - **Definition:** Returns the index of the first occurrence of a specified substring.\n",
    "   - **Example:**\n",
    "     "
   ]
  },
  {
   "cell_type": "code",
   "execution_count": null,
   "id": "8dde5e23",
   "metadata": {
    "id": "8dde5e23",
    "outputId": "953554fc-9d03-42f4-e43a-09b36f4e1c51"
   },
   "outputs": [
    {
     "data": {
      "text/plain": [
       "0"
      ]
     },
     "execution_count": 101,
     "metadata": {},
     "output_type": "execute_result"
    }
   ],
   "source": [
    "sentence = \"Python is fun, and Python is powerful.\"\n",
    "index_python = sentence.index(\"Python\")\n",
    "index_python"
   ]
  },
  {
   "cell_type": "markdown",
   "id": "897f31bd",
   "metadata": {
    "id": "897f31bd"
   },
   "source": [
    "#### 10. **`islower()`, `isupper()`:**\n",
    "   - **Definition:**\n",
    "     - `islower()`: Returns True if all characters in the string are lowercase.\n",
    "     - `isupper()`: Returns True if all characters in the string are uppercase.\n",
    "   - **Example:**\n",
    "     "
   ]
  },
  {
   "cell_type": "code",
   "execution_count": null,
   "id": "b37d01e4",
   "metadata": {
    "id": "b37d01e4",
    "outputId": "8f859f3f-4cf2-4092-f69c-826ad0a8eab6"
   },
   "outputs": [
    {
     "name": "stdout",
     "output_type": "stream",
     "text": [
      "True\n",
      "True\n"
     ]
    }
   ],
   "source": [
    "word_lower = \"hello\"\n",
    "word_upper = \"WORLD\"\n",
    "is_lower = word_lower.islower()\n",
    "print(is_lower)\n",
    "is_upper = word_upper.isupper()\n",
    "print(is_upper)"
   ]
  },
  {
   "cell_type": "markdown",
   "id": "ddcd030f",
   "metadata": {
    "id": "ddcd030f"
   },
   "source": [
    "#### 11. **`isalpha()`, `isdigit()`, `isnumeric()`:**\n",
    "   - **Definition:**\n",
    "     - `isalpha()`: Returns True if all characters in the string are alphabetic.\n",
    "     - `isdigit()`: Returns True if all characters in the string are digits.\n",
    "     - `isnumeric()`: Returns True if all characters in the string are numeric.\n",
    "   - **Example:**\n",
    "     "
   ]
  },
  {
   "cell_type": "code",
   "execution_count": null,
   "id": "e6b11d73",
   "metadata": {
    "id": "e6b11d73"
   },
   "outputs": [],
   "source": [
    "alpha_str = \"abc\"\n",
    "digit_str = \"123\"\n",
    "numeric_str = \"12.34\"\n",
    "alpha_str.isalpha()"
   ]
  },
  {
   "cell_type": "code",
   "execution_count": null,
   "id": "da708a04",
   "metadata": {
    "id": "da708a04"
   },
   "outputs": [],
   "source": [
    "digit_str.isdigit()"
   ]
  },
  {
   "cell_type": "code",
   "execution_count": null,
   "id": "503e3e6b",
   "metadata": {
    "id": "503e3e6b"
   },
   "outputs": [],
   "source": [
    "numeric_str.isnumeric()"
   ]
  },
  {
   "cell_type": "markdown",
   "id": "09b4be3a",
   "metadata": {
    "id": "09b4be3a"
   },
   "source": [
    "\n",
    "\n",
    "\n",
    "\n",
    "\n",
    "\n",
    "\n",
    "#### 12. **`title()`, `capitalize()`:**\n",
    "   - **Definition:**\n",
    "     - `title()`: Returns a titlecased version of the string.\n",
    "     - `capitalize()`: Returns a copy of the string with its first character capitalized.\n",
    "   - **Example:**\n",
    "    \n"
   ]
  },
  {
   "cell_type": "code",
   "execution_count": null,
   "id": "400df46e",
   "metadata": {
    "id": "400df46e",
    "outputId": "0b832ed8-db29-4df6-bb78-3042a7110ac2"
   },
   "outputs": [
    {
     "name": "stdout",
     "output_type": "stream",
     "text": [
      "Python Programming Is Fun\n",
      "Python programming is fun\n"
     ]
    }
   ],
   "source": [
    "sentence = \"python programming is fun\"\n",
    "title_case = sentence.title()\n",
    "print(title_case)\n",
    "capitalized = sentence.capitalize()\n",
    "print(capitalized)"
   ]
  },
  {
   "cell_type": "markdown",
   "id": "6e82af89",
   "metadata": {
    "id": "6e82af89"
   },
   "source": [
    "#### 13. **`replace()`:**\n",
    "   - **Definition:** Replaces occurrences of a specified substring with another substring.\n",
    "   - **Example:**\n",
    "     \n"
   ]
  },
  {
   "cell_type": "code",
   "execution_count": null,
   "id": "765fe4be",
   "metadata": {
    "id": "765fe4be"
   },
   "outputs": [],
   "source": [
    "sentence = \"Python is fun, and Python is powerful.\"\n",
    "replaced_str = sentence.replace(\"Python\", \"Java\")\n",
    "replaced_str"
   ]
  },
  {
   "cell_type": "markdown",
   "id": "a7d6632b",
   "metadata": {
    "id": "a7d6632b"
   },
   "source": [
    "#### 14. **`sorted()`:**\n",
    "   - **Definition:** Returns a sorted list of the characters in the string.\n",
    "   - **Example:**\n",
    "     \n",
    "\n"
   ]
  },
  {
   "cell_type": "code",
   "execution_count": null,
   "id": "eedca67e",
   "metadata": {
    "id": "eedca67e"
   },
   "outputs": [],
   "source": [
    "word = \"python\"\n",
    "sorted_chars = ''.join(sorted(word))\n",
    "sorted_chars"
   ]
  },
  {
   "cell_type": "markdown",
   "id": "2c19f0da",
   "metadata": {
    "id": "2c19f0da"
   },
   "source": [
    "#### 15. **`join()`:**\n",
    "   - **Definition:** Joins the elements of an iterable (e.g., a list) into a string using the specified delimiter.\n",
    "   - **Example:**\n",
    "     "
   ]
  },
  {
   "cell_type": "code",
   "execution_count": null,
   "id": "d5a39836",
   "metadata": {
    "id": "d5a39836",
    "outputId": "a905365f-b220-43f0-8099-2fb5f07f5660"
   },
   "outputs": [
    {
     "data": {
      "text/plain": [
       "'Python is awesome'"
      ]
     },
     "execution_count": 109,
     "metadata": {},
     "output_type": "execute_result"
    }
   ],
   "source": [
    "words[0] + \" \" + words[1] +\" \" + words[2]"
   ]
  },
  {
   "cell_type": "code",
   "execution_count": null,
   "id": "278e2344",
   "metadata": {
    "id": "278e2344"
   },
   "outputs": [],
   "source": [
    "words = [\"Python\", \"is\", \"awesome\"]"
   ]
  },
  {
   "cell_type": "code",
   "execution_count": null,
   "id": "606a7a48",
   "metadata": {
    "id": "606a7a48",
    "outputId": "3797188d-fd79-4cae-a2a4-16a6bde38ab1"
   },
   "outputs": [
    {
     "data": {
      "text/plain": [
       "'Python is awesome'"
      ]
     },
     "execution_count": 114,
     "metadata": {},
     "output_type": "execute_result"
    }
   ],
   "source": [
    "words = [\"Python\", \"is\", \"awesome\"]\n",
    "sentence = ' '.join(words)\n",
    "sentence"
   ]
  },
  {
   "cell_type": "markdown",
   "id": "831bdb26",
   "metadata": {
    "id": "831bdb26"
   },
   "source": [
    "#### 16. **`strip()`, `lstrip()`, `rstrip()`:**\n",
    "   - **Definition:**\n",
    "     - `strip()`: Removes leading and trailing whitespaces.\n",
    "     - `lstrip()`: Removes leading whitespaces.\n",
    "     - `rstrip()`: Removes trailing whitespaces.\n",
    "   - **Example:**\n",
    "     "
   ]
  },
  {
   "cell_type": "code",
   "execution_count": null,
   "id": "52c3aa46",
   "metadata": {
    "id": "52c3aa46",
    "outputId": "43407ce6-c720-4ea1-ac9e-f924c66a9761"
   },
   "outputs": [
    {
     "data": {
      "text/plain": [
       "'   Hello, World!'"
      ]
     },
     "execution_count": 117,
     "metadata": {},
     "output_type": "execute_result"
    }
   ],
   "source": [
    "raw_string = \"   Hello, World!   \"\n",
    "stripped_str = raw_string.rstrip()\n",
    "stripped_str"
   ]
  },
  {
   "cell_type": "markdown",
   "id": "efb1488b",
   "metadata": {
    "id": "efb1488b"
   },
   "source": [
    "#### 17. **`split()`:**\n",
    "   - **Definition:** Splits the string into a list of substrings based on a specified delimiter.\n",
    "   - **Example:**"
   ]
  },
  {
   "cell_type": "code",
   "execution_count": null,
   "id": "21703092",
   "metadata": {
    "id": "21703092",
    "outputId": "2ec8bd65-70a1-4661-b034-5b936c2e9d58"
   },
   "outputs": [
    {
     "data": {
      "text/plain": [
       "['Python', 'is', 'fun,', 'and', 'Python', 'is', 'powerful.']"
      ]
     },
     "execution_count": 118,
     "metadata": {},
     "output_type": "execute_result"
    }
   ],
   "source": [
    "sentence = \"Python is fun, and Python is powerful.\"\n",
    "words = sentence.split()  # Splits by whitespace\n",
    "words"
   ]
  },
  {
   "cell_type": "markdown",
   "id": "05cd62c8",
   "metadata": {
    "id": "05cd62c8"
   },
   "source": [
    "### Exercises:\n",
    "\n",
    "1. Create a string with your full name.\n",
    "2. Access and print the second character of the string.\n",
    "3. Slice the string to get only your first name.\n",
    "4. Concatenate your first name with a greeting string.\n",
    "5. Find the length of your full name.\n",
    "6. Convert your full name to uppercase.\n",
    "7. Find the index of the first occurrence of a specific character in your name.\n",
    "8. Replace a part of your name with another string.\n",
    "9. Count the number of occurrences of the word \"Python\" in a given sentence.\n",
    "10. Find the index of the first occurrence of the word \"is\" in the same sentence.\n",
    "11. Check if a given string is in lowercase and another in uppercase.\n",
    "12. Check if a string contains only alphabetic characters or digits.\n",
    "13. Convert a string to title case and capitalize the first character.\n",
    "14. Replace all occurrences of a specific word in a sentence.\n",
    "15. Sort the characters of a string alphabetically.\n",
    "16. Join a list of words into a sentence using a space as the delimiter.\n",
    "17. Remove leading and trailing whitespaces from a string.\n",
    "18. Split a sentence into a list of words.\n",
    "\n",
    "These exercises will help you practice different operations on strings in Python."
   ]
  },
  {
   "cell_type": "markdown",
   "id": "a76a8c4d",
   "metadata": {
    "id": "a76a8c4d"
   },
   "source": [
    "## Sets\n",
    "\n",
    "### Definition:\n",
    "\n",
    "A set is an unordered collection of unique elements. In Python, sets are defined using curly braces `{}` or the `set()` constructor. Sets do not allow duplicate elements, and they are useful for tasks involving membership tests and eliminating duplicate entries.\n",
    "\n",
    "### Why we need sets:\n",
    "\n",
    "1. **Uniqueness:** Sets automatically eliminate duplicate elements.\n",
    "2. **Membership Testing:** Checking whether an element is present in a set is faster than in a list.\n",
    "3. **Mathematical Operations:** Sets support various mathematical operations like union, intersection, and difference.\n",
    "\n",
    "### Different Methods Used on Sets:\n",
    "\n"
   ]
  },
  {
   "cell_type": "markdown",
   "id": "1d343779",
   "metadata": {
    "id": "1d343779"
   },
   "source": [
    "#### 1. **Creating a Set:**\n",
    "   - **Definition:** Creating a set with unique elements.\n",
    "   - **Example:**\n",
    "    "
   ]
  },
  {
   "cell_type": "code",
   "execution_count": null,
   "id": "b299508f",
   "metadata": {
    "id": "b299508f"
   },
   "outputs": [],
   "source": [
    "my_set = {1, 2, 3, 4, 5}"
   ]
  },
  {
   "cell_type": "code",
   "execution_count": null,
   "id": "bb221214",
   "metadata": {
    "id": "bb221214",
    "outputId": "e37ab597-0ef3-4111-e260-cde631b23535"
   },
   "outputs": [
    {
     "data": {
      "text/plain": [
       "{1, 2, 3, 4, 5}"
      ]
     },
     "execution_count": 122,
     "metadata": {},
     "output_type": "execute_result"
    }
   ],
   "source": [
    "my_set"
   ]
  },
  {
   "cell_type": "markdown",
   "id": "6c63408e",
   "metadata": {
    "id": "6c63408e"
   },
   "source": [
    "#### 2. **Adding Elements:**\n",
    "   - **Definition:** Adding a single element or multiple elements to a set.\n",
    "   - **Example:**\n",
    "     \n"
   ]
  },
  {
   "cell_type": "code",
   "execution_count": null,
   "id": "4a2af505",
   "metadata": {
    "id": "4a2af505"
   },
   "outputs": [],
   "source": [
    "my_set.add(6) # Adding a single element\n",
    "print(my_set)\n",
    "my_set.update({7, 8})  # Adding multiple elements\n",
    "print(my_set)"
   ]
  },
  {
   "cell_type": "markdown",
   "id": "9db6a5aa",
   "metadata": {
    "id": "9db6a5aa"
   },
   "source": [
    "#### 3. **Removing Elements:**\n",
    "   - **Definition:** Removing an element from a set.\n",
    "   - **Example:**"
   ]
  },
  {
   "cell_type": "code",
   "execution_count": null,
   "id": "a312aabe",
   "metadata": {
    "id": "a312aabe"
   },
   "outputs": [],
   "source": [
    "my_set.remove(3)    # Removing element 3\n",
    "print(my_set)\n",
    "my_set.discard(10)  # Discarding element 10 (if present)\n",
    "print(my_set)"
   ]
  },
  {
   "cell_type": "markdown",
   "id": "1879c10a",
   "metadata": {
    "id": "1879c10a"
   },
   "source": [
    "#### 4. **Union, Intersection, and Difference:**\n",
    "\n",
    "![](https://i.stack.imgur.com/uH6cL.png)\n",
    "   - **Definition:**\n",
    "     - `union()`: Returns a new set containing all unique elements from both sets.\n",
    "     - `intersection()`: Returns a new set containing common elements of both sets.\n",
    "     - `difference()`: Returns a new set containing elements in the first set but not in the second.\n",
    "   - **Example:**\n",
    "     "
   ]
  },
  {
   "cell_type": "code",
   "execution_count": null,
   "id": "64b6ef73",
   "metadata": {
    "id": "64b6ef73",
    "outputId": "60424b01-7566-4ee5-f3bb-6b0933a2bc9e"
   },
   "outputs": [
    {
     "data": {
      "text/plain": [
       "{1, 2, 3, 4, 5, 6, 7}"
      ]
     },
     "execution_count": 138,
     "metadata": {},
     "output_type": "execute_result"
    }
   ],
   "source": [
    "set1 = {1, 2, 3, 4, 5}\n",
    "set2 = {3, 4, 5, 6, 7}\n",
    "set1.union(set2)"
   ]
  },
  {
   "cell_type": "code",
   "execution_count": null,
   "id": "cf993438",
   "metadata": {
    "id": "cf993438",
    "outputId": "3ba73206-b6bc-486d-bc81-f5973235ab27"
   },
   "outputs": [
    {
     "data": {
      "text/plain": [
       "{3, 4, 5}"
      ]
     },
     "execution_count": 139,
     "metadata": {},
     "output_type": "execute_result"
    }
   ],
   "source": [
    "set1.intersection(set2)"
   ]
  },
  {
   "cell_type": "code",
   "execution_count": null,
   "id": "632045de",
   "metadata": {
    "id": "632045de",
    "outputId": "702c921c-7df0-4f6f-c0f1-0221c8a2bc90"
   },
   "outputs": [
    {
     "data": {
      "text/plain": [
       "{1, 2}"
      ]
     },
     "execution_count": 140,
     "metadata": {},
     "output_type": "execute_result"
    }
   ],
   "source": [
    "set1.difference(set2)"
   ]
  },
  {
   "cell_type": "code",
   "execution_count": null,
   "id": "99ea300b",
   "metadata": {
    "id": "99ea300b",
    "outputId": "d3a8f2d7-09ca-4acd-a248-cd86657f6308"
   },
   "outputs": [
    {
     "data": {
      "text/plain": [
       "{6, 7}"
      ]
     },
     "execution_count": 142,
     "metadata": {},
     "output_type": "execute_result"
    }
   ],
   "source": [
    "set2.difference(set1)"
   ]
  },
  {
   "cell_type": "code",
   "execution_count": null,
   "id": "d3cd850f",
   "metadata": {
    "id": "d3cd850f",
    "outputId": "c381d2c8-b5c7-4ccb-9f1d-522299a2dd2a"
   },
   "outputs": [
    {
     "data": {
      "text/plain": [
       "{1, 2, 6, 7}"
      ]
     },
     "execution_count": 143,
     "metadata": {},
     "output_type": "execute_result"
    }
   ],
   "source": [
    "set1.difference(set2).union(set2.difference(set1))"
   ]
  },
  {
   "cell_type": "markdown",
   "id": "19af0c0e",
   "metadata": {
    "id": "19af0c0e"
   },
   "source": [
    "#### 5. **Subset and Superset:**\n",
    "\n",
    "![](https://academy.vertabelo.com/static/python-basics-part-3-sets-subset-superset.png)\n",
    "\n",
    "   - **Definition:**\n",
    "     - `issubset()`: Returns True if all elements of one set are present in another.\n",
    "     - `issuperset()`: Returns True if a set contains all elements of another.\n",
    "   - **Example:**\n",
    "    \n"
   ]
  },
  {
   "cell_type": "code",
   "execution_count": null,
   "id": "ae8d8c93",
   "metadata": {
    "id": "ae8d8c93",
    "outputId": "ff162701-e8ea-49a8-bc52-77dcac152584"
   },
   "outputs": [
    {
     "data": {
      "text/plain": [
       "False"
      ]
     },
     "execution_count": 146,
     "metadata": {},
     "output_type": "execute_result"
    }
   ],
   "source": [
    "set1.issubset(set2)"
   ]
  },
  {
   "cell_type": "code",
   "execution_count": null,
   "id": "cafc4d98",
   "metadata": {
    "id": "cafc4d98",
    "outputId": "a62081fb-8629-4d29-9ba0-61c67a3643e9"
   },
   "outputs": [
    {
     "data": {
      "text/plain": [
       "False"
      ]
     },
     "execution_count": 149,
     "metadata": {},
     "output_type": "execute_result"
    }
   ],
   "source": [
    "set1.issuperset(set2)"
   ]
  },
  {
   "cell_type": "markdown",
   "id": "fb6be6cd",
   "metadata": {
    "id": "fb6be6cd"
   },
   "source": [
    "#### 6. **Removing and Clearing:**\n",
    "   - **Definition:**\n",
    "     - `pop()`: Removes and returns an arbitrary element from the set.\n",
    "     - `clear()`: Removes all elements from the set.\n",
    "   - **Example:**\n",
    "    \n"
   ]
  },
  {
   "cell_type": "code",
   "execution_count": null,
   "id": "9e31f0c5",
   "metadata": {
    "id": "9e31f0c5",
    "outputId": "e785e012-912f-49e9-da18-70760232ab90"
   },
   "outputs": [
    {
     "name": "stdout",
     "output_type": "stream",
     "text": [
      "1\n",
      "set()\n"
     ]
    }
   ],
   "source": [
    "popped_element = my_set.pop()  # Removes and returns an element\n",
    "print(popped_element)\n",
    "my_set.clear()                 # Clears all elements from the set\n",
    "print(my_set)"
   ]
  },
  {
   "cell_type": "markdown",
   "id": "158ab2db",
   "metadata": {
    "id": "158ab2db"
   },
   "source": [
    "### Exercises:\n",
    "\n",
    "1. Create two sets with some common elements.\n",
    "2. Add a new element to one of the sets.\n",
    "3. Remove an element from the other set.\n",
    "4. Find the union, intersection, and difference of the two sets.\n",
    "5. Check if one set is a subset of the other.\n",
    "6. Check if one set is a superset of the other.\n",
    "7. Remove and print an arbitrary element from one of the sets.\n",
    "8. Clear all elements from one of the sets.\n",
    "\n",
    "These exercises will help you practice different operations on sets in Python."
   ]
  },
  {
   "cell_type": "markdown",
   "id": "2f43a45b",
   "metadata": {
    "id": "2f43a45b"
   },
   "source": [
    "## Dictionaries\n",
    "\n",
    "\n",
    "### Definition:\n",
    "\n",
    "A dictionary is an unordered collection of key-value pairs. Each key in a dictionary must be unique, and it maps to a specific value. Dictionaries in Python are defined using curly braces `{}` and have a flexible structure, allowing storage of various data types as values.\n",
    "\n",
    "### Why we need dictionaries:\n",
    "\n",
    "1. **Key-Value Mapping:** Dictionaries allow mapping of keys to corresponding values, providing a way to organize and retrieve data.\n",
    "2. **Fast Lookup:** Retrieving a value based on a key is faster in a dictionary compared to searching in a list.\n",
    "3. **Flexible Structure:** Dictionaries can store a variety of data types as both keys and values, making them versatile.\n",
    "4. **Data Manipulation:** Dictionaries are useful for tasks like counting occurrences, grouping data, and more.\n",
    "\n",
    "### Different Methods Used on Dictionaries:"
   ]
  },
  {
   "cell_type": "markdown",
   "id": "bbd36507",
   "metadata": {
    "id": "bbd36507"
   },
   "source": [
    "#### 1. **Creating a Dictionary:**\n",
    "   - **Definition:** Creating a dictionary with key-value pairs.\n",
    "   - **Example:**"
   ]
  },
  {
   "cell_type": "code",
   "execution_count": 2,
   "id": "db7991e0",
   "metadata": {
    "id": "db7991e0"
   },
   "outputs": [],
   "source": [
    "my_dict = {'name': 'John', 'age': 25, 'city': 'New York'}"
   ]
  },
  {
   "cell_type": "markdown",
   "id": "4fcf8cb3",
   "metadata": {
    "id": "4fcf8cb3"
   },
   "source": [
    "#### 2. **Accessing Values:**\n",
    "   - **Definition:** Accessing the value associated with a specific key.\n",
    "   - **Example:**\n",
    "     "
   ]
  },
  {
   "cell_type": "code",
   "execution_count": 4,
   "id": "69d940ac-028e-4da5-ac10-7bee88c828a2",
   "metadata": {},
   "outputs": [],
   "source": [
    "my_dict['pincode'] = [32453,34564]"
   ]
  },
  {
   "cell_type": "code",
   "execution_count": 5,
   "id": "79a94e8d",
   "metadata": {
    "id": "79a94e8d"
   },
   "outputs": [
    {
     "data": {
      "text/plain": [
       "'John'"
      ]
     },
     "execution_count": 5,
     "metadata": {},
     "output_type": "execute_result"
    }
   ],
   "source": [
    "name_value = my_dict['name']\n",
    "name_value"
   ]
  },
  {
   "cell_type": "code",
   "execution_count": 6,
   "id": "5a3a6924-ea8b-4ea8-a751-8acc0478caa1",
   "metadata": {},
   "outputs": [
    {
     "data": {
      "text/plain": [
       "{'name': 'John', 'age': 25, 'city': 'New York', 'pincode': [32453, 34564]}"
      ]
     },
     "execution_count": 6,
     "metadata": {},
     "output_type": "execute_result"
    }
   ],
   "source": [
    "my_dict"
   ]
  },
  {
   "cell_type": "markdown",
   "id": "bd8efd2f",
   "metadata": {
    "id": "bd8efd2f"
   },
   "source": [
    "#### 3. **Adding and Updating Entries:**\n",
    "   - **Definition:**\n",
    "     - `my_dict[new_key] = new_value`: Adding a new key-value pair.\n",
    "     - `my_dict[key] = updated_value`: Updating the value of an existing key.\n",
    "   - **Example:**"
   ]
  },
  {
   "cell_type": "code",
   "execution_count": 8,
   "id": "6f5d09de",
   "metadata": {
    "id": "6f5d09de"
   },
   "outputs": [
    {
     "name": "stdout",
     "output_type": "stream",
     "text": [
      "{'name': 'John', 'pincode': [32453, 34564], 'occupation': 'Engineer'}\n",
      "{'name': 'John', 'pincode': [32453, 34564], 'occupation': 'Engineer', 'age': 26}\n"
     ]
    }
   ],
   "source": [
    "my_dict['occupation'] = 'Engineer'  # Adding a new entry\n",
    "print(my_dict)\n",
    "my_dict['age'] = 26                 # Updating the age value\n",
    "print(my_dict)"
   ]
  },
  {
   "cell_type": "markdown",
   "id": "f6705c2d",
   "metadata": {
    "id": "f6705c2d"
   },
   "source": [
    "#### 4. **Removing Entries:**\n",
    "   - **Definition:** Removing a key-value pair from the dictionary.\n",
    "   - **Example:**\n",
    "    "
   ]
  },
  {
   "cell_type": "code",
   "execution_count": 10,
   "id": "03092150-d5ad-4c81-825d-b4a37f0b9093",
   "metadata": {},
   "outputs": [],
   "source": [
    "my_set = {2,3,4,5,6,7,8,9}"
   ]
  },
  {
   "cell_type": "code",
   "execution_count": 17,
   "id": "8e422696-7339-444b-8b8c-934b8f3c1b7b",
   "metadata": {},
   "outputs": [
    {
     "data": {
      "text/plain": [
       "{2, 4, 5, 6, 7, 8, 9}"
      ]
     },
     "execution_count": 17,
     "metadata": {},
     "output_type": "execute_result"
    }
   ],
   "source": [
    "my_set"
   ]
  },
  {
   "cell_type": "code",
   "execution_count": 15,
   "id": "5a5f87bb-3c57-4413-a85e-16b57fa48631",
   "metadata": {},
   "outputs": [
    {
     "ename": "KeyError",
     "evalue": "3",
     "output_type": "error",
     "traceback": [
      "\u001b[1;31m---------------------------------------------------------------------------\u001b[0m",
      "\u001b[1;31mKeyError\u001b[0m                                  Traceback (most recent call last)",
      "Cell \u001b[1;32mIn[15], line 1\u001b[0m\n\u001b[1;32m----> 1\u001b[0m \u001b[43mmy_set\u001b[49m\u001b[38;5;241;43m.\u001b[39;49m\u001b[43mremove\u001b[49m\u001b[43m(\u001b[49m\u001b[38;5;241;43m3\u001b[39;49m\u001b[43m)\u001b[49m\n",
      "\u001b[1;31mKeyError\u001b[0m: 3"
     ]
    }
   ],
   "source": [
    "my_set.remove(3)"
   ]
  },
  {
   "cell_type": "code",
   "execution_count": 16,
   "id": "2286c200-73bd-4e70-bc09-a73cc6736241",
   "metadata": {},
   "outputs": [
    {
     "data": {
      "text/plain": [
       "{2, 4, 5, 6, 7, 8, 9}"
      ]
     },
     "execution_count": 16,
     "metadata": {},
     "output_type": "execute_result"
    }
   ],
   "source": [
    "my_set"
   ]
  },
  {
   "cell_type": "code",
   "execution_count": 18,
   "id": "f40aaa42-74ed-4030-922a-f7c746edaf1c",
   "metadata": {},
   "outputs": [],
   "source": [
    "my_set.discard(10)"
   ]
  },
  {
   "cell_type": "code",
   "execution_count": 19,
   "id": "a3ad3a86-ec53-467d-a361-08df2673addc",
   "metadata": {},
   "outputs": [
    {
     "data": {
      "text/plain": [
       "{2, 4, 5, 6, 7, 8, 9}"
      ]
     },
     "execution_count": 19,
     "metadata": {},
     "output_type": "execute_result"
    }
   ],
   "source": [
    "my_set"
   ]
  },
  {
   "cell_type": "code",
   "execution_count": 7,
   "id": "a693e68f",
   "metadata": {
    "id": "a693e68f"
   },
   "outputs": [
    {
     "name": "stdout",
     "output_type": "stream",
     "text": [
      "{'name': 'John', 'age': 25, 'pincode': [32453, 34564]}\n",
      "25\n"
     ]
    }
   ],
   "source": [
    "del my_dict['city']      # Removing the 'city' entry\n",
    "print(my_dict)\n",
    "popped_value = my_dict.pop('age')  # Removing and returning the 'age' value\n",
    "print(popped_value)"
   ]
  },
  {
   "cell_type": "markdown",
   "id": "9038f893",
   "metadata": {
    "id": "9038f893"
   },
   "source": [
    "#### 5. **Keys, Values, and Items:**\n",
    "   - **Definition:**\n",
    "     - `keys()`: Returns a list of all keys in the dictionary.\n",
    "     - `values()`: Returns a list of all values in the dictionary.\n",
    "     - `items()`: Returns a list of key-value pairs (tuples) in the dictionary.\n",
    "   - **Example:**"
   ]
  },
  {
   "cell_type": "code",
   "execution_count": null,
   "id": "3e860e35",
   "metadata": {
    "id": "3e860e35"
   },
   "outputs": [],
   "source": [
    "my_dict.keys()"
   ]
  },
  {
   "cell_type": "code",
   "execution_count": null,
   "id": "1e4abea0",
   "metadata": {
    "id": "1e4abea0"
   },
   "outputs": [],
   "source": [
    "my_dict.values()"
   ]
  },
  {
   "cell_type": "code",
   "execution_count": null,
   "id": "7990418a",
   "metadata": {
    "id": "7990418a"
   },
   "outputs": [],
   "source": [
    "my_dict.items()"
   ]
  },
  {
   "cell_type": "markdown",
   "id": "16291d46",
   "metadata": {
    "id": "16291d46"
   },
   "source": [
    "#### 6. **Checking Membership:**\n",
    "   - **Definition:**\n",
    "     - `key in my_dict`: Returns True if the key is present in the dictionary.\n",
    "   - **Example:**"
   ]
  },
  {
   "cell_type": "code",
   "execution_count": null,
   "id": "8d9014df",
   "metadata": {
    "id": "8d9014df"
   },
   "outputs": [],
   "source": [
    "is_name_present = 'name' in my_dict"
   ]
  },
  {
   "cell_type": "markdown",
   "id": "1420436a",
   "metadata": {
    "id": "1420436a"
   },
   "source": [
    "### Exercises:\n",
    "\n",
    "1. Create a dictionary representing information about a book (title, author, year, etc.).\n",
    "2. Access and print the author's name from the dictionary.\n",
    "3. Add the genre of the book to the dictionary.\n",
    "4. Update the year of publication in the dictionary.\n",
    "5. Remove the genre from the dictionary.\n",
    "6. Print all keys, values, and items of the dictionary.\n",
    "7. Check if 'publisher' is a key in the dictionary.\n",
    "8. Remove and print the value associated with the 'title' key.\n",
    "\n",
    "These exercises will help you practice different operations on dictionaries in Python."
   ]
  }
 ],
 "metadata": {
  "colab": {
   "provenance": []
  },
  "kernelspec": {
   "display_name": "Python 3 (ipykernel)",
   "language": "python",
   "name": "python3"
  },
  "language_info": {
   "codemirror_mode": {
    "name": "ipython",
    "version": 3
   },
   "file_extension": ".py",
   "mimetype": "text/x-python",
   "name": "python",
   "nbconvert_exporter": "python",
   "pygments_lexer": "ipython3",
   "version": "3.12.0"
  }
 },
 "nbformat": 4,
 "nbformat_minor": 5
}
