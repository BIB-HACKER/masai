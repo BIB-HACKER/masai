{
 "cells": [
  {
   "cell_type": "markdown",
   "id": "1f6b20f8",
   "metadata": {
    "id": "1f6b20f8"
   },
   "source": [
    "**1. Generate a random normally distributed 1D array of size 100 with values between 1 and 10. Compute the mean and standard deviation of the array.**"
   ]
  },
  {
   "cell_type": "code",
   "execution_count": 33,
   "id": "f181f289",
   "metadata": {
    "colab": {
     "base_uri": "https://localhost:8080/"
    },
    "id": "f181f289",
    "outputId": "2541fd6d-848c-4125-dfd8-47187af1561c"
   },
   "outputs": [
    {
     "name": "stdout",
     "output_type": "stream",
     "text": [
      "Mean of the array: 1.0872480961800204\n",
      "Deviation of the array: 0.2986504942028962\n"
     ]
    }
   ],
   "source": [
    "import numpy as np\n",
    "\n",
    "arr=np.random.normal(size=100)\n",
    "\n",
    "arr=np.clip(arr,1,10)\n",
    "\n",
    "mean=np.mean(arr)\n",
    "std=np.std(arr)\n",
    "\n",
    "print(\"Mean of the array:\",mean)\n",
    "print(\"Deviation of the array:\",std)"
   ]
  },
  {
   "cell_type": "markdown",
   "id": "a806df89",
   "metadata": {
    "id": "a806df89"
   },
   "source": [
    "**2. Create a 5x5 matrix with random integers. Extract the diagonal elements and find their sum.**"
   ]
  },
  {
   "cell_type": "code",
   "execution_count": 34,
   "id": "0812410f",
   "metadata": {
    "colab": {
     "base_uri": "https://localhost:8080/"
    },
    "id": "0812410f",
    "outputId": "8c25a16f-5c36-4f28-f0eb-5a3793a9054b"
   },
   "outputs": [
    {
     "name": "stdout",
     "output_type": "stream",
     "text": [
      "Matrix is: [[98 61 33 46 80]\n",
      " [78 34 27 17 79]\n",
      " [12 77 43 64 88]\n",
      " [85 43 99 64 15]\n",
      " [42 72 53 58 81]]\n",
      "\n",
      "Diagonal elements: [98 34 43 64 81]\n",
      "\n",
      "Diagonal elements sum: 320\n"
     ]
    }
   ],
   "source": [
    "matrix=np.random.randint(1,100,size=(5,5))\n",
    "print(\"Matrix is:\", matrix)\n",
    "\n",
    "diagonal = np.diag(matrix)\n",
    "print(\"\\nDiagonal elements:\",diagonal)\n",
    "\n",
    "sum=np.sum(diagonal)\n",
    "print(\"\\nDiagonal elements sum:\",sum)"
   ]
  },
  {
   "cell_type": "markdown",
   "id": "815e29d7",
   "metadata": {
    "id": "815e29d7"
   },
   "source": [
    "3. **Create a class named `Person` with properties `name` and `age`. Include a method `greet` that prints a simple greeting using the person's name.**\n",
    "\n",
    "- Create an instance of the `Person` class named `person1` with the name \"John\" and age 25.\n",
    "- Call the greet method on `person1` to display their greetings."
   ]
  },
  {
   "cell_type": "code",
   "execution_count": 35,
   "id": "44e48baf",
   "metadata": {
    "colab": {
     "base_uri": "https://localhost:8080/"
    },
    "id": "44e48baf",
    "outputId": "a49083cd-0aea-410c-9253-cd94edb66a9e"
   },
   "outputs": [
    {
     "name": "stdout",
     "output_type": "stream",
     "text": [
      "Person name is John\n"
     ]
    }
   ],
   "source": [
    "class Person:\n",
    "  def __init__(self,name,age):\n",
    "    self.name=name\n",
    "    self.age=age\n",
    "\n",
    "  def greet(self):\n",
    "    print(f\"Person name is {self.name}\")\n",
    "\n",
    "person1=Person(\"John\",25)\n",
    "person1.greet()"
   ]
  },
  {
   "cell_type": "markdown",
   "id": "b56785d2",
   "metadata": {
    "id": "b56785d2"
   },
   "source": [
    "4. **Design a class `Employee` with private properties `name` and `salary`. Implement a method `get_salary` that retrieves the salary. Ensure that the salary is not directly modifiable from outside the class.**\n",
    "\n",
    "- Create an instance of the `Employee` class named `employee1` with the name \"John\" and a salary of $50,000.\n",
    "- Use the `get_salary` method to retrieve and display the salary of `employee1`.\n",
    "- Attempt to modify the salary of `employee1` directly from outside the class and observe the result."
   ]
  },
  {
   "cell_type": "code",
   "execution_count": 36,
   "id": "bed3d80b",
   "metadata": {
    "colab": {
     "base_uri": "https://localhost:8080/"
    },
    "id": "bed3d80b",
    "outputId": "ba981949-4f3b-48f2-aeed-a5349f40a2cf"
   },
   "outputs": [
    {
     "name": "stdout",
     "output_type": "stream",
     "text": [
      "Employee salary is: 50000\n",
      "\n",
      "Modified salary is: 50000\n"
     ]
    }
   ],
   "source": [
    "class Employee:\n",
    "  def __init__(self,name,salary):\n",
    "    self.__name=name\n",
    "    self.__salary=salary\n",
    "\n",
    "  def get_salary(self):\n",
    "    return self.__salary\n",
    "\n",
    "employee1=Employee(\"John\",50000)\n",
    "print(\"Employee salary is:\",employee1.get_salary())\n",
    "\n",
    "employee1.__salary=250000\n",
    "print(\"\\nModified salary is:\",employee1.get_salary())"
   ]
  },
  {
   "cell_type": "markdown",
   "id": "9cd677fc",
   "metadata": {
    "id": "9cd677fc"
   },
   "source": [
    "5. **You're working on a system for tracking online orders. Create a class `Order` with properties `order_id`, `customer_name`, and `total_amount`. Include a method `calculate_discount` that returns a discounted total if the total_amount is greater than $50.**\n",
    "\n",
    "- Create an instance of the `Order` class named `order1` with an order ID of \"12345\", customer name \"Alice,\" and a total amount of $100.\n",
    "- Use the `calculate_discount` method to retrieve and display the `discounted total` for `order1`."
   ]
  },
  {
   "cell_type": "code",
   "execution_count": 37,
   "id": "7305e7aa",
   "metadata": {
    "colab": {
     "base_uri": "https://localhost:8080/"
    },
    "id": "7305e7aa",
    "outputId": "7ae85027-c8ee-47ac-f2ce-1919945eb74d"
   },
   "outputs": [
    {
     "name": "stdout",
     "output_type": "stream",
     "text": [
      "Total discount in oroder is: 90.0\n"
     ]
    }
   ],
   "source": [
    "class Order:\n",
    "  def __init__(self,order_id,customer_name,total_amount):\n",
    "    self.order_id=order_id\n",
    "    self.customer_name=customer_name\n",
    "    self.total_amount=total_amount\n",
    "\n",
    "  def calculate_discount(self):\n",
    "    if self.total_amount > 50:\n",
    "      discount=self.total_amount * 0.1\n",
    "      total_dis = self.total_amount - discount\n",
    "      return total_dis\n",
    "\n",
    "    else:\n",
    "      return self.total_amount\n",
    "\n",
    "order1 = Order(\"12345\",\"Alice\",100)\n",
    "\n",
    "discounted_total=order1.calculate_discount()\n",
    "print(\"Total discount in oroder is:\", discounted_total)\n"
   ]
  },
  {
   "cell_type": "markdown",
   "id": "809ea4c1",
   "metadata": {
    "id": "809ea4c1"
   },
   "source": [
    "6. **Create a class `BankAccount` with private properties `balance` and `account_number`. Include methods `deposit` and `withdraw` that modify the balance.**\n",
    "\n",
    "- Create an instance of the `BankAccount` class named `account1` with an account number \"123456\" and an initial balance of $1000.\n",
    "\n",
    "- Use the `deposit` method to add \\\\$500 to the balance of `account1`. Check the result.\n",
    "- Use the `withdraw` method to deduct $200 from the balance of `account1`. Check the result."
   ]
  },
  {
   "cell_type": "code",
   "execution_count": 38,
   "id": "ed227029",
   "metadata": {
    "colab": {
     "base_uri": "https://localhost:8080/"
    },
    "id": "ed227029",
    "outputId": "747f4b0a-e91e-4163-ab9e-6f266a312ed7"
   },
   "outputs": [
    {
     "name": "stdout",
     "output_type": "stream",
     "text": [
      "Balance after deposit: 1500\n",
      "After withdraw balance is: 1300\n"
     ]
    }
   ],
   "source": [
    "class BankAccount:\n",
    "  def __init__(self,account_number,balance):\n",
    "    self.__balance=balance\n",
    "    self.__account_number=account_number\n",
    "\n",
    "  def deposit(self,n):\n",
    "    self.__balance+=n\n",
    "\n",
    "  def withdraw(self,n):\n",
    "    if self.__balance>=n:\n",
    "      self.__balance-=n\n",
    "    else:\n",
    "      print(\"Insufficient fund\")\n",
    "\n",
    "  def get_balance(self):\n",
    "    return self.__balance\n",
    "\n",
    "account1=BankAccount(\"123456\",1000)\n",
    "account1.deposit(500)\n",
    "print(\"Balance after deposit:\",account1.get_balance())\n",
    "\n",
    "account1.withdraw(200)\n",
    "print(\"After withdraw balance is:\",account1.get_balance())\n"
   ]
  },
  {
   "cell_type": "code",
   "execution_count": null,
   "id": "pZEgbTD4pgJD",
   "metadata": {
    "id": "pZEgbTD4pgJD"
   },
   "outputs": [],
   "source": []
  },
  {
   "cell_type": "markdown",
   "id": "aBT5cR-xk9xv",
   "metadata": {
    "id": "aBT5cR-xk9xv"
   },
   "source": [
    "7. Create a class named `CustomMath` with a method `perform_operations`. This method should take any number of numeric values as positional arguments (`*args`) and an operation specified as a keyword argument (`operation`). The operations supported are 'add', 'subtract', 'multiply', and 'divide'. Implement the necessary logic to perform the specified operation on the given numeric values and print the result.\n",
    "\n",
    "Example outputs\n",
    "- `custom_math_instance.perform_operations('add', 5, 3, 2, 6, 5, 8,100)  # Output: Result of add operation: 129`\n",
    "- `custom_math_instance.perform_operations('subtract', 10, 2, 3)  # Output: Result of subtract operation: 5`\n",
    "- `custom_math_instance.perform_operations('multiply', 2, 4)  # Output: Result of multiply operation: 8`\n",
    "- `custom_math_instance.perform_operations('divide', 100,45)  # Output: Result of divide operation: 2.2222222222222223`\n",
    "\n",
    "\n"
   ]
  },
  {
   "cell_type": "code",
   "execution_count": 39,
   "id": "xv1TjS0-lcSn",
   "metadata": {
    "colab": {
     "base_uri": "https://localhost:8080/"
    },
    "id": "xv1TjS0-lcSn",
    "outputId": "6d038203-5638-4f6e-c921-8ce52b68f5a8"
   },
   "outputs": [
    {
     "name": "stdout",
     "output_type": "stream",
     "text": [
      "Result of add is 129\n",
      "Result of subtract is 5\n",
      "Result of multiply is 8\n",
      "Result of divide is 2.2222222222222223\n"
     ]
    }
   ],
   "source": [
    "class CustomMath:\n",
    "  def perform_operations(self, operation, *args):\n",
    "    result = None\n",
    "    if operation == \"add\":\n",
    "      result = np.sum(args)\n",
    "    elif operation == \"subtract\":\n",
    "      result = args[0]\n",
    "      for num in args[1:]:\n",
    "        result -=num\n",
    "\n",
    "    elif operation == \"multiply\":\n",
    "      result = 1\n",
    "      for num in args:\n",
    "        result *=num\n",
    "    elif operation == \"divide\":\n",
    "      result = args[0]\n",
    "      for num in args[1:]:\n",
    "        result /=num\n",
    "\n",
    "    else:\n",
    "      print(\"Invalid Operation\")\n",
    "      return\n",
    "    print(f\"Result of {operation} is\", result)\n",
    "\n",
    "custom_math_instance=CustomMath()\n",
    "\n",
    "custom_math_instance.perform_operations('add', 5, 3, 2, 6, 5, 8,100)\n",
    "custom_math_instance.perform_operations('subtract', 10, 2, 3)\n",
    "custom_math_instance.perform_operations('multiply', 2, 4)\n",
    "custom_math_instance.perform_operations('divide', 100,45)"
   ]
  },
  {
   "cell_type": "markdown",
   "id": "WA8HdKLMlbxI",
   "metadata": {
    "id": "WA8HdKLMlbxI"
   },
   "source": [
    "8. Create a class representing a `shopping_cart`. Include methods for `add_items` and `remove_items`, and `calculate_total_price`. Hint: Use a dictionary to store items and their quantities in the shopping cart, and implement methods to add items, remove items to the dictionary.\n"
   ]
  },
  {
   "cell_type": "code",
   "execution_count": 30,
   "id": "yZhRXSsylnll",
   "metadata": {
    "id": "yZhRXSsylnll"
   },
   "outputs": [],
   "source": []
  }
 ],
 "metadata": {
  "colab": {
   "provenance": []
  },
  "kernelspec": {
   "display_name": "Python 3 (ipykernel)",
   "language": "python",
   "name": "python3"
  },
  "language_info": {
   "codemirror_mode": {
    "name": "ipython",
    "version": 3
   },
   "file_extension": ".py",
   "mimetype": "text/x-python",
   "name": "python",
   "nbconvert_exporter": "python",
   "pygments_lexer": "ipython3",
   "version": "3.12.0"
  }
 },
 "nbformat": 4,
 "nbformat_minor": 5
}
