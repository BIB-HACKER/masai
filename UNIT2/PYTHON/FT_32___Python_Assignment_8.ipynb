{
  "nbformat": 4,
  "nbformat_minor": 0,
  "metadata": {
    "colab": {
      "provenance": []
    },
    "kernelspec": {
      "name": "python3",
      "display_name": "Python 3"
    },
    "language_info": {
      "name": "python"
    }
  },
  "cells": [
    {
      "cell_type": "code",
      "execution_count": 10,
      "metadata": {
        "colab": {
          "base_uri": "https://localhost:8080/",
          "height": 73
        },
        "id": "KrEBLRjZryRv",
        "outputId": "4ed72c60-8b16-4055-a60e-f3553e56cbf4"
      },
      "outputs": [
        {
          "output_type": "display_data",
          "data": {
            "text/plain": [
              "<IPython.core.display.HTML object>"
            ],
            "text/html": [
              "\n",
              "     <input type=\"file\" id=\"files-c5896d63-1634-4c43-9f99-74b202f73ada\" name=\"files[]\" multiple disabled\n",
              "        style=\"border:none\" />\n",
              "     <output id=\"result-c5896d63-1634-4c43-9f99-74b202f73ada\">\n",
              "      Upload widget is only available when the cell has been executed in the\n",
              "      current browser session. Please rerun this cell to enable.\n",
              "      </output>\n",
              "      <script>// Copyright 2017 Google LLC\n",
              "//\n",
              "// Licensed under the Apache License, Version 2.0 (the \"License\");\n",
              "// you may not use this file except in compliance with the License.\n",
              "// You may obtain a copy of the License at\n",
              "//\n",
              "//      http://www.apache.org/licenses/LICENSE-2.0\n",
              "//\n",
              "// Unless required by applicable law or agreed to in writing, software\n",
              "// distributed under the License is distributed on an \"AS IS\" BASIS,\n",
              "// WITHOUT WARRANTIES OR CONDITIONS OF ANY KIND, either express or implied.\n",
              "// See the License for the specific language governing permissions and\n",
              "// limitations under the License.\n",
              "\n",
              "/**\n",
              " * @fileoverview Helpers for google.colab Python module.\n",
              " */\n",
              "(function(scope) {\n",
              "function span(text, styleAttributes = {}) {\n",
              "  const element = document.createElement('span');\n",
              "  element.textContent = text;\n",
              "  for (const key of Object.keys(styleAttributes)) {\n",
              "    element.style[key] = styleAttributes[key];\n",
              "  }\n",
              "  return element;\n",
              "}\n",
              "\n",
              "// Max number of bytes which will be uploaded at a time.\n",
              "const MAX_PAYLOAD_SIZE = 100 * 1024;\n",
              "\n",
              "function _uploadFiles(inputId, outputId) {\n",
              "  const steps = uploadFilesStep(inputId, outputId);\n",
              "  const outputElement = document.getElementById(outputId);\n",
              "  // Cache steps on the outputElement to make it available for the next call\n",
              "  // to uploadFilesContinue from Python.\n",
              "  outputElement.steps = steps;\n",
              "\n",
              "  return _uploadFilesContinue(outputId);\n",
              "}\n",
              "\n",
              "// This is roughly an async generator (not supported in the browser yet),\n",
              "// where there are multiple asynchronous steps and the Python side is going\n",
              "// to poll for completion of each step.\n",
              "// This uses a Promise to block the python side on completion of each step,\n",
              "// then passes the result of the previous step as the input to the next step.\n",
              "function _uploadFilesContinue(outputId) {\n",
              "  const outputElement = document.getElementById(outputId);\n",
              "  const steps = outputElement.steps;\n",
              "\n",
              "  const next = steps.next(outputElement.lastPromiseValue);\n",
              "  return Promise.resolve(next.value.promise).then((value) => {\n",
              "    // Cache the last promise value to make it available to the next\n",
              "    // step of the generator.\n",
              "    outputElement.lastPromiseValue = value;\n",
              "    return next.value.response;\n",
              "  });\n",
              "}\n",
              "\n",
              "/**\n",
              " * Generator function which is called between each async step of the upload\n",
              " * process.\n",
              " * @param {string} inputId Element ID of the input file picker element.\n",
              " * @param {string} outputId Element ID of the output display.\n",
              " * @return {!Iterable<!Object>} Iterable of next steps.\n",
              " */\n",
              "function* uploadFilesStep(inputId, outputId) {\n",
              "  const inputElement = document.getElementById(inputId);\n",
              "  inputElement.disabled = false;\n",
              "\n",
              "  const outputElement = document.getElementById(outputId);\n",
              "  outputElement.innerHTML = '';\n",
              "\n",
              "  const pickedPromise = new Promise((resolve) => {\n",
              "    inputElement.addEventListener('change', (e) => {\n",
              "      resolve(e.target.files);\n",
              "    });\n",
              "  });\n",
              "\n",
              "  const cancel = document.createElement('button');\n",
              "  inputElement.parentElement.appendChild(cancel);\n",
              "  cancel.textContent = 'Cancel upload';\n",
              "  const cancelPromise = new Promise((resolve) => {\n",
              "    cancel.onclick = () => {\n",
              "      resolve(null);\n",
              "    };\n",
              "  });\n",
              "\n",
              "  // Wait for the user to pick the files.\n",
              "  const files = yield {\n",
              "    promise: Promise.race([pickedPromise, cancelPromise]),\n",
              "    response: {\n",
              "      action: 'starting',\n",
              "    }\n",
              "  };\n",
              "\n",
              "  cancel.remove();\n",
              "\n",
              "  // Disable the input element since further picks are not allowed.\n",
              "  inputElement.disabled = true;\n",
              "\n",
              "  if (!files) {\n",
              "    return {\n",
              "      response: {\n",
              "        action: 'complete',\n",
              "      }\n",
              "    };\n",
              "  }\n",
              "\n",
              "  for (const file of files) {\n",
              "    const li = document.createElement('li');\n",
              "    li.append(span(file.name, {fontWeight: 'bold'}));\n",
              "    li.append(span(\n",
              "        `(${file.type || 'n/a'}) - ${file.size} bytes, ` +\n",
              "        `last modified: ${\n",
              "            file.lastModifiedDate ? file.lastModifiedDate.toLocaleDateString() :\n",
              "                                    'n/a'} - `));\n",
              "    const percent = span('0% done');\n",
              "    li.appendChild(percent);\n",
              "\n",
              "    outputElement.appendChild(li);\n",
              "\n",
              "    const fileDataPromise = new Promise((resolve) => {\n",
              "      const reader = new FileReader();\n",
              "      reader.onload = (e) => {\n",
              "        resolve(e.target.result);\n",
              "      };\n",
              "      reader.readAsArrayBuffer(file);\n",
              "    });\n",
              "    // Wait for the data to be ready.\n",
              "    let fileData = yield {\n",
              "      promise: fileDataPromise,\n",
              "      response: {\n",
              "        action: 'continue',\n",
              "      }\n",
              "    };\n",
              "\n",
              "    // Use a chunked sending to avoid message size limits. See b/62115660.\n",
              "    let position = 0;\n",
              "    do {\n",
              "      const length = Math.min(fileData.byteLength - position, MAX_PAYLOAD_SIZE);\n",
              "      const chunk = new Uint8Array(fileData, position, length);\n",
              "      position += length;\n",
              "\n",
              "      const base64 = btoa(String.fromCharCode.apply(null, chunk));\n",
              "      yield {\n",
              "        response: {\n",
              "          action: 'append',\n",
              "          file: file.name,\n",
              "          data: base64,\n",
              "        },\n",
              "      };\n",
              "\n",
              "      let percentDone = fileData.byteLength === 0 ?\n",
              "          100 :\n",
              "          Math.round((position / fileData.byteLength) * 100);\n",
              "      percent.textContent = `${percentDone}% done`;\n",
              "\n",
              "    } while (position < fileData.byteLength);\n",
              "  }\n",
              "\n",
              "  // All done.\n",
              "  yield {\n",
              "    response: {\n",
              "      action: 'complete',\n",
              "    }\n",
              "  };\n",
              "}\n",
              "\n",
              "scope.google = scope.google || {};\n",
              "scope.google.colab = scope.google.colab || {};\n",
              "scope.google.colab._files = {\n",
              "  _uploadFiles,\n",
              "  _uploadFilesContinue,\n",
              "};\n",
              "})(self);\n",
              "</script> "
            ]
          },
          "metadata": {}
        },
        {
          "output_type": "stream",
          "name": "stdout",
          "text": [
            "Saving school.txt to school.txt\n"
          ]
        }
      ],
      "source": [
        "from google.colab import files\n",
        "# Upload multiple files\n",
        "uploaded = files.upload()"
      ]
    },
    {
      "cell_type": "markdown",
      "source": [
        "1. Write a function in python to read the content from a text file \"python.txt\" line by line and display the same on screen."
      ],
      "metadata": {
        "id": "S1JTDYmjs0zd"
      }
    },
    {
      "cell_type": "code",
      "source": [
        "def file_content(file_path):\n",
        "  try:\n",
        "        with open(file_path, 'r') as file:\n",
        "            for line in file:\n",
        "                print(line.strip())\n",
        "  except FileNotFoundError:\n",
        "      print(\"File not found!\")\n",
        "  except PermissionError:\n",
        "      print(\"Permission denied!\")\n"
      ],
      "metadata": {
        "id": "b0uFiiBzszh7"
      },
      "execution_count": 8,
      "outputs": []
    },
    {
      "cell_type": "code",
      "source": [
        "file_path = \"python.txt\"\n",
        "file_content(file_path)"
      ],
      "metadata": {
        "id": "uobByl_9s6Ha",
        "outputId": "118481a4-2d59-4c46-f719-de2efdfb19d3",
        "colab": {
          "base_uri": "https://localhost:8080/"
        }
      },
      "execution_count": 9,
      "outputs": [
        {
          "output_type": "stream",
          "name": "stdout",
          "text": [
            "Python is a high-level, general-purpose programming language. Its design philosophy emphasizes code readability with the use of significant indentation.\n",
            "\n",
            "Python is dynamically-typed and garbage-collected. It supports multiple programming paradigms, including structured (particularly procedural), object-oriented and functional programming. It is often described as a \"batteries included\" language due to its comprehensive standard library\n",
            "\n",
            "Guido van Rossum began working on Python in the late 1980s as a successor to the ABC programming language and first released it in 1991 as Python 0.9.0.[36] Python 2.0 was released in 2000 and introduced new features such as list comprehensions, cycle-detecting garbage collection, reference counting, and Unicode support. Python 3.0, released in 2008, was a major revision that is not completely backward-compatible with earlier versions. Python 2 was discontinued with version 2.7.18 in 2020.\n",
            "\n",
            "Python consistently ranks as one of the most popular programming languages.\n"
          ]
        }
      ]
    },
    {
      "cell_type": "markdown",
      "source": [
        "2.Write a function in python to count the number of lines from a text file \"school.txt\" which is not starting with an alphabet \"A\".\n",
        "Example: If the file \"story.txt\" contains the following lines:\n",
        "\n",
        "A boy is playing there.\n",
        "\n",
        "There is a playground.\n",
        "\n",
        "An aeroplane is in the sky.\n",
        "\n",
        "The sky is pink.\n",
        "\n",
        "Alphabets and numbers are allowed in the password.\n",
        "\n",
        "The function should display the output as 2"
      ],
      "metadata": {
        "id": "cSCWvqUCs6c3"
      }
    },
    {
      "cell_type": "code",
      "source": [
        "def count_lines(file_path):\n",
        "    try:\n",
        "        count = 0\n",
        "        with open(file_path, 'r') as file:\n",
        "            for line in file:\n",
        "                if not line.strip().startswith('A') and not line.strip().startswith('a'):\n",
        "                    count += 1\n",
        "        return count\n",
        "    except FileNotFoundError:\n",
        "        return(\"File not found!\")\n",
        "    except PermissionError:\n",
        "        return(\"Permission denied!\")"
      ],
      "metadata": {
        "id": "nT4Bxv8gtAXK"
      },
      "execution_count": 37,
      "outputs": []
    },
    {
      "cell_type": "code",
      "source": [
        "file_path = \"school.txt\"\n",
        "result = count_lines(file_path)\n",
        "print(\"The function should display the output as\",result)"
      ],
      "metadata": {
        "id": "ulkTcmjdtBA0",
        "outputId": "262c776a-46a5-4e49-9656-62a75c5c7782",
        "colab": {
          "base_uri": "https://localhost:8080/"
        }
      },
      "execution_count": 38,
      "outputs": [
        {
          "output_type": "stream",
          "name": "stdout",
          "text": [
            "The function should display the output as 8\n"
          ]
        }
      ]
    },
    {
      "cell_type": "markdown",
      "source": [
        "3. Write a function in Python to count and display the total number of words in all the text files."
      ],
      "metadata": {
        "id": "GYXQRdODtBZU"
      }
    },
    {
      "cell_type": "code",
      "source": [
        "import os\n",
        "import string\n",
        "\n",
        "def count_total(file_path):\n",
        "    total_words = 0\n",
        "\n",
        "    try:\n",
        "        for filename in os.listdir():\n",
        "            if filename.endswith(\".txt\"):\n",
        "                with open(filename, 'r') as file:\n",
        "                    for line in file:\n",
        "                        # Remove punctuation and split into words\n",
        "                        words = line.translate(str.maketrans('', '', string.punctuation)).split()\n",
        "                        total_words += len(words)\n",
        "    except FileNotFoundError:\n",
        "        return(\"File not found!\")\n",
        "    except PermissionError:\n",
        "        return(\"Permission denied!\")\n",
        "\n",
        "    return total_words"
      ],
      "metadata": {
        "id": "gf1wQLMktFdf"
      },
      "execution_count": 33,
      "outputs": []
    },
    {
      "cell_type": "code",
      "source": [
        "file_path1 = \"/content/school.txt\"\n",
        "result1 = count_total(file_path1)\n",
        "file_path2 = \"/content/python.txt\"\n",
        "result2 = count_total(file_path2)\n",
        "file_path3 = \"/content/masai.txt\"\n",
        "result3 = count_total(file_path3)\n",
        "print(result1+result2+result3)"
      ],
      "metadata": {
        "id": "4V6PAmcBtIWB",
        "outputId": "e8ece362-8c75-42bb-cb72-05b97afae20f",
        "colab": {
          "base_uri": "https://localhost:8080/"
        }
      },
      "execution_count": 34,
      "outputs": [
        {
          "output_type": "stream",
          "name": "stdout",
          "text": [
            "2559\n"
          ]
        }
      ]
    },
    {
      "cell_type": "markdown",
      "source": [
        "4. Write a function in Python to read lines from a text file \"python.txt\". Your function should find and display the occurrence of the word \"the\".  \n",
        "\n",
        "For example: If the content of the file is:\n",
        "\n",
        "\"India is the fastest-growing economy. India is looking for more investments around the globe. The whole world is looking at India as a great market. Most of the Indians can foresee the heights that India is capable of reaching.\"\n",
        "\n",
        "The output should be 5."
      ],
      "metadata": {
        "id": "gqh-5nXmtI89"
      }
    },
    {
      "cell_type": "code",
      "source": [
        "def find_occurrence(file_path):\n",
        "    try:\n",
        "        with open(file_path, 'r') as file:\n",
        "            content = file.read()\n",
        "            occurrences = content.lower().count('the')\n",
        "        return occurrences\n",
        "    except FileNotFoundError:\n",
        "        return(\"File not found!\")\n",
        "    except PermissionError:\n",
        "        return(\"Permission denied!\")"
      ],
      "metadata": {
        "id": "cgUhESXjtQIj"
      },
      "execution_count": 35,
      "outputs": []
    },
    {
      "cell_type": "code",
      "source": [
        "file_path = \"/content/python.txt\"\n",
        "result = find_occurrence(file_path)\n",
        "print(\"The output should be\",result)"
      ],
      "metadata": {
        "id": "OVWQVU-5tQy3",
        "outputId": "dfc76403-47c0-4b79-9986-dacc1d5f751d",
        "colab": {
          "base_uri": "https://localhost:8080/"
        }
      },
      "execution_count": 36,
      "outputs": [
        {
          "output_type": "stream",
          "name": "stdout",
          "text": [
            "The output should be 4\n"
          ]
        }
      ]
    },
    {
      "cell_type": "markdown",
      "source": [
        "5. Write a function display_words() in python to read lines from a text file \"school.txt\", and display those words, which are less than 4 characters"
      ],
      "metadata": {
        "id": "D5R_FBL_tROZ"
      }
    },
    {
      "cell_type": "code",
      "source": [
        "def display_words(file_path):\n",
        "    try:\n",
        "        with open(file_path, 'r') as file:\n",
        "            for line in file:\n",
        "                words = line.split()\n",
        "                short_words = [word for word in words if len(word) < 4]\n",
        "                print(\" \".join(short_words))\n",
        "    except FileNotFoundError:\n",
        "        print(\"File not found!\")\n",
        "    except PermissionError:\n",
        "        print(\"Permission denied!\")"
      ],
      "metadata": {
        "id": "Wb3E0d6FtWyV"
      },
      "execution_count": 47,
      "outputs": []
    },
    {
      "cell_type": "code",
      "source": [
        "file_path = \"/content/school.txt\"\n",
        "display_words(file_path)"
      ],
      "metadata": {
        "id": "TrJajX2UtXRT",
        "outputId": "ee55c7b9-0961-4e54-cca5-e407cee50bc5",
        "colab": {
          "base_uri": "https://localhost:8080/"
        }
      },
      "execution_count": 48,
      "outputs": [
        {
          "output_type": "stream",
          "name": "stdout",
          "text": [
            "A is an to and for the of the of of is In a of The for by in the but for and for who An is is a or\n",
            "\n",
            "In to in a may and in the and in the or to or may be A may be to one as a of or may and\n",
            "\n",
            "as may be the not or can be as and or a of or to for of and and\n",
            "\n",
            "of the of to for of of to do, and and of as and and to\n",
            "\n",
            "In and and the of or in a a are in and\n"
          ]
        }
      ]
    },
    {
      "cell_type": "markdown",
      "source": [
        "6. Write a function in Python to count the words \"this\" and \"these\" present in a text file \"masai.txt\". [Note that the words \"this\" and \"these\" are complete words]"
      ],
      "metadata": {
        "id": "g6Ot3vn5tXyj"
      }
    },
    {
      "cell_type": "code",
      "source": [
        "def count_words(file_path):\n",
        "\n",
        "  with open(file_path, 'r') as file:\n",
        "      content = file.read().lower()\n",
        "      occurrences_this = content.split().count('this')\n",
        "      occurrences_these = content.split().count('these')\n",
        "  return occurrences_this, occurrences_these\n"
      ],
      "metadata": {
        "id": "SHOrmgeTtcSK"
      },
      "execution_count": 56,
      "outputs": []
    },
    {
      "cell_type": "code",
      "source": [
        "file_path = \"/content/masai.txt\"\n",
        "this_count, these_count = count_words(file_path)\n",
        "print(this_count,these_count)"
      ],
      "metadata": {
        "id": "y2aSMrfItlG-",
        "outputId": "7cbbb2ac-8c66-4c21-feea-10a813942683",
        "colab": {
          "base_uri": "https://localhost:8080/"
        }
      },
      "execution_count": 57,
      "outputs": [
        {
          "output_type": "stream",
          "name": "stdout",
          "text": [
            "3 0\n"
          ]
        }
      ]
    },
    {
      "cell_type": "markdown",
      "source": [
        "7. Write a function in Python to count words in a text file those are ending with alphabet \"n\"."
      ],
      "metadata": {
        "id": "DcIFKE4AtlmT"
      }
    },
    {
      "cell_type": "code",
      "source": [
        "def count_words_ending_with_n(file_path):\n",
        "  with open(file_path, 'r') as file:\n",
        "    content = file.read().lower()\n",
        "    words = content.split()\n",
        "    count = sum(1 for word in words if word.endswith('n'))\n",
        "  return count\n",
        ""
      ],
      "metadata": {
        "id": "GYRB3fHRtpOa"
      },
      "execution_count": 60,
      "outputs": []
    },
    {
      "cell_type": "code",
      "source": [
        "file_path = \"/content/masai.txt\"\n",
        "result = count_words_ending_with_n(file_path)\n",
        "print(result)"
      ],
      "metadata": {
        "id": "P_yejkkStpsg",
        "outputId": "bcb22777-c369-44d9-b6a2-82b810810052",
        "colab": {
          "base_uri": "https://localhost:8080/"
        }
      },
      "execution_count": 61,
      "outputs": [
        {
          "output_type": "stream",
          "name": "stdout",
          "text": [
            "20\n"
          ]
        }
      ]
    },
    {
      "cell_type": "markdown",
      "source": [
        "8. Write a function in Python to count lowercase character in a text file."
      ],
      "metadata": {
        "id": "BfBUkC9xtyd3"
      }
    },
    {
      "cell_type": "code",
      "source": [
        "def count_lowercase_characters(file_path):\n",
        "  with open(file_path, 'r') as file:\n",
        "      content = file.read()\n",
        "      count = sum(1 for char in content if char.islower())\n",
        "  return count"
      ],
      "metadata": {
        "id": "oeiD_7v2t1nY"
      },
      "execution_count": 62,
      "outputs": []
    },
    {
      "cell_type": "code",
      "source": [
        "file_path = \"/content/python.txt\"\n",
        "result = count_lowercase_characters(file_path)\n",
        "print(result)"
      ],
      "metadata": {
        "id": "kic23KPCt2FS",
        "outputId": "865e2698-9e05-4087-812f-7144b2abdcea",
        "colab": {
          "base_uri": "https://localhost:8080/"
        }
      },
      "execution_count": 63,
      "outputs": [
        {
          "output_type": "stream",
          "name": "stdout",
          "text": [
            "784\n"
          ]
        }
      ]
    },
    {
      "cell_type": "markdown",
      "source": [
        "9. A text file named \"masai.txt\" contains some text, which needs to be displayed such that every next character is separated by a symbol \"#\". Write a function definition for hash_display() in Python that would display the entire content of the file matter.txt in the desired format.     \n",
        "\n",
        "Example :\n",
        "If the file masai.txt has the following content stored in it :\n",
        "\n",
        "THE WORLD IS ROUND\n",
        "\n",
        "The function hash_display() should display the following content :\n",
        "\n",
        "T#H#E# #W#O#R#L#D# #I#S# #R#O#U#N#D#"
      ],
      "metadata": {
        "id": "2adsspnmt2lY"
      }
    },
    {
      "cell_type": "code",
      "source": [
        "def hash_display(file_path):\n",
        "  with open(file_path, 'r') as file:\n",
        "      content = file.read().upper()\n",
        "      formatted_content = \"#\".join(content)\n",
        "      print(formatted_content)"
      ],
      "metadata": {
        "id": "VYoeAo4et65o"
      },
      "execution_count": 66,
      "outputs": []
    },
    {
      "cell_type": "code",
      "source": [
        "file_path = \"/content/masai.txt\"\n",
        "hash_display(file_path)"
      ],
      "metadata": {
        "id": "2jmYowvpt7um",
        "outputId": "756cfec4-6394-4514-be82-37f839f33383",
        "colab": {
          "base_uri": "https://localhost:8080/"
        }
      },
      "execution_count": 67,
      "outputs": [
        {
          "output_type": "stream",
          "name": "stdout",
          "text": [
            "L#E#T#’#S# #S#A#Y# #Y#O#U# #W#E#R#E# #A# #C#L#A#S#S# #M#O#N#I#T#O#R# #A#N#D# #Y#O#U# #H#A#V#E# #T#O# #C#O#L#L#E#C#T# #T#E#S#T# #P#A#P#E#R#S# #F#R#O#M# #A#L#L# #T#H#E# #S#T#U#D#E#N#T#S# #A#N#D# #S#O#R#T# #T#H#E#M# #A#C#C#O#R#D#I#N#G# #T#O# #T#H#E#I#R# #R#O#L#L# #N#U#M#B#E#R#S#.#\n",
            "#\n",
            "#Y#O#U# #D#I#V#I#D#E# #T#H#E# #P#A#P#E#R#S# #I#N#T#O# #E#Q#U#A#L# #H#A#L#V#E#S# #A#N#D# #G#I#V#E# #T#H#E# #O#T#H#E#R# #H#A#L#F# #T#O# #Y#O#U#R# #F#R#I#E#N#D#.# #T#H#E#N#,# #B#O#T#H# #O#F# #Y#O#U# #S#O#R#T# #Y#O#U#R# #H#A#L#V#E#S# #A#C#C#O#R#D#I#N#G# #T#O# #R#O#L#L# #N#U#M#B#E#R#S#.# #I#N# #T#H#E# #E#N#D#,# #Y#O#U# #J#U#S#T# #P#U#T# #T#O#G#E#T#H#E#R# #B#O#T#H# #O#F# #Y#O#U#R# #S#E#T#S# #O#N#E# #S#H#E#E#T# #A#F#T#E#R# #T#H#E# #O#T#H#E#R#,# #A#N#D# #V#O#I#L#A#!# #I#T#’#S# #D#O#N#E# #I#N# #H#A#L#F# #T#H#E# #T#I#M#E#.#\n",
            "#\n",
            "#Y#O#U# #M#I#G#H#T# #N#O#T# #H#A#V#E# #K#N#O#W#N# #B#U#T# #Y#O#U# #U#S#E#D# #T#H#E# #M#E#R#G#E# #S#O#R#T# #I#N# #T#H#I#S# #C#A#S#E#,# #O#N#E# #O#F# #T#H#E# #M#O#S#T# #I#M#P#O#R#T#A#N#T# #S#O#R#T#I#N#G# #A#L#G#O#R#I#T#H#M#S# #O#U#T# #T#H#E#R#E#.#\n",
            "#\n",
            "#T#H#I#S# #I#S# #A#L#S#O# #K#N#O#W#N# #A#S# #T#H#E# #‘#D#I#V#I#D#E# #A#N#D# #C#O#N#Q#U#E#R# #A#P#P#R#O#A#C#H#'#.#\n",
            "#\n",
            "#T#H#A#T#’#S# #T#H#E# #P#O#W#E#R# #O#F# #A#L#G#O#R#I#T#H#M#S#.# #B#U#T#,# #W#H#A#T# #E#X#A#C#T#L#Y# #A#R#E# #T#H#E#Y#?#\n",
            "#\n",
            "#A#L#G#O#R#I#T#H#M#S# #C#A#N# #S#I#M#P#L#Y# #B#E# #C#O#N#S#I#D#E#R#E#D# #R#E#C#I#P#E#S#.# #T#A#K#E# #F#O#R# #E#X#A#M#P#L#E# #T#H#E# #R#E#C#I#P#E# #F#O#R# #B#A#K#I#N#G# #A# #C#A#K#E#,# #O#R# #T#H#E# #P#R#O#C#E#S#S# #O#F# #F#I#N#D#I#N#G# #W#O#R#D#S# #I#N# #A# #D#I#C#T#I#O#N#A#R#Y#.# #Y#O#U# #C#A#N# #F#O#L#L#O#W# #M#U#L#T#I#P#L#E# #W#A#Y#S# #T#O# #F#I#N#D# #A# #W#O#R#D# #B#U#T# #Y#O#U#R# #O#B#J#E#C#T#I#V#E# #A#L#W#A#Y#S# #I#S# #T#O# #F#I#N#D# #I#T# #I#N# #T#H#E# #S#H#O#R#T#E#S#T# #P#O#S#S#I#B#L#E# #T#I#M#E#.#\n",
            "#\n",
            "#A#N#D#,# #T#H#A#T# #R#E#M#A#I#N#S# #T#H#E# #O#B#J#E#C#T#I#V#E# #I#N# #A#L#M#O#S#T# #A#L#L# #K#I#N#D#S# #O#F# #W#O#R#K# #W#E# #D#O#.# #W#E# #W#A#N#T# #T#O# #D#O# #I#T# #F#A#S#T# #A#N#D# #E#F#F#I#C#I#E#N#T#L#Y# #F#O#R# #B#E#T#T#E#R# #P#R#O#D#U#C#T#I#V#I#T#Y# #A#N#D# #R#E#S#U#L#T#S#.# #A#N#D# #T#H#A#T#’#S# #W#H#E#N# #W#E# #S#E#T# #U#P# #D#E#F#I#N#E#D# #P#R#O#C#E#S#S#E#S# #T#O# #C#A#R#R#Y# #O#U#T# #T#H#E# #W#O#R#K#.# #(#L#I#K#E# #T#H#E# #E#X#A#M#P#L#E# #Y#O#U# #J#U#S#T# #W#I#T#N#E#S#S#E#D# #A#B#O#V#E#)#\n",
            "#\n",
            "#A#L#G#O#R#I#T#H#M#S# #A#R#E# #A#L#L# #A#R#O#U#N#D# #U#S#.# #F#R#O#M# #T#R#A#F#F#I#C# #L#I#G#H#T#S# #T#O# #S#O#C#I#A#L# #M#E#D#I#A#,# #E#V#E#R#Y#T#H#I#N#G#’#S# #W#O#R#K#I#N#G# #O#N# #A#L#G#O#R#I#T#H#M#S#.#\n",
            "#\n",
            "#I#N# #C#O#M#P#U#T#E#R# #S#C#I#E#N#C#E#,# #A#L#G#O#R#I#T#H#M#S# #A#R#E# #A# #S#E#T# #O#F# #I#N#S#T#R#U#C#T#I#O#N#S# #G#U#I#D#I#N#G# #T#H#E# #P#R#O#G#R#A#M# #T#O# #S#O#L#V#E# #A# #P#R#O#B#L#E#M# #O#R# #F#I#N#I#S#H# #A# #C#E#R#T#A#I#N# #T#A#S#K#.#\n",
            "#\n",
            "#W#E#’#V#E# #A#L#R#E#A#D#Y# #L#E#A#R#N#E#D# #I#N# #D#E#T#A#I#L# #A#B#O#U#T# #D#A#T#A# #S#T#R#U#C#T#U#R#E#S# #A#N#D# #T#H#E# #I#M#P#O#R#T#A#N#C#E# #O#F# #S#T#O#R#I#N#G# #D#A#T#A# #I#N# #A# #S#T#R#U#C#T#U#R#E#D# #W#A#Y#.# #W#H#A#T# #H#A#P#P#E#N#S# #A#F#T#E#R# #W#E# #S#T#O#R#E# #I#T#?# #W#E# #F#E#E#D# #A#L#G#O#R#I#T#H#M#S# #T#O# #I#T# #D#E#P#E#N#D#I#N#G# #O#N# #T#H#E# #O#U#T#P#U#T# #W#E# #W#A#N#T#.#\n",
            "#\n",
            "#B#O#T#H# #D#A#T#A# #S#T#R#U#C#T#U#R#E#S# #A#N#D# #A#L#G#O#R#I#T#H#M#S# #C#O#M#B#I#N#E# #T#O#G#E#T#H#E#R# #T#O# #A#L#L#O#W# #C#O#M#P#U#T#E#R#S#,# #S#M#A#R#T#P#H#O#N#E#S#,# #A#N#D# #O#T#H#E#R# #D#E#V#I#C#E#S# #T#O# #F#U#N#C#T#I#O#N# #E#F#F#I#C#I#E#N#T#L#Y#.#\n",
            "#\n",
            "#T#H#E# #O#B#J#E#C#T#I#V#E# #O#F# #A# #P#R#O#G#R#A#M#M#E#R# #S#H#O#U#L#D# #B#E# #T#O# #U#S#E# #T#H#E# #B#E#S#T# #D#A#T#A# #S#T#R#U#C#T#U#R#E# #T#H#A#T# #R#E#Q#U#I#R#E#S# #T#H#E# #L#E#A#S#T# #S#P#A#C#E#,# #A#N#D# #T#H#E# #B#E#S#T# #A#L#G#O#R#I#T#H#M# #T#H#A#T# #R#E#Q#U#I#R#E#S# #T#H#E# #L#E#A#S#T# #A#M#O#U#N#T# #O#F# #T#I#M#E# #T#O# #P#E#R#F#O#R#M# #A# #T#A#S#K#.#\n",
            "#\n",
            "#I#N# #T#H#I#S# #A#R#T#I#C#L#E#,# #W#E#’#L#L# #B#E# #G#O#I#N#G# #T#H#R#O#U#G#H# #T#H#E# #M#O#S#T# #P#O#P#U#L#A#R# #A#N#D# #C#O#M#M#O#N#L#Y# #U#S#E#D# #A#L#G#O#R#I#T#H#M#S# #A#N#D# #W#I#L#L# #T#R#Y# #T#O# #U#N#D#E#R#S#T#A#N#D# #H#O#W# #T#H#E#Y# #B#R#E#A#K# #D#O#W#N# #P#R#O#B#L#E#M#S#.\n"
          ]
        }
      ]
    },
    {
      "cell_type": "markdown",
      "source": [
        "10. Aditi has used a text editing software to type some text. After saving the article as WORDS.TXT, she realised that she has wrongly typed alphabet T in place of alphabet N everywhere in the article.\n",
        "\n",
        "Write a function definition for TTON() in Python that would display the corrected version of entire content of the file masai.TXT with all the alphabets \"J\" to be displayed as an alphabet \"I\" on screen.\n",
        "\n",
        "Note: Assuming that WORD.TXT does not contain any J alphabet otherwise.\n",
        "\n",
        "Example:\n",
        "If Aditi has stored the following content in the file WORDS.TXT:\n",
        "\n",
        "WELL, THIS IS A WORD BY ITSELF. YOU COULD STRETCH THIS TO BE A SETTETCE\n",
        "\n",
        "The function TTON() should display the following content:"
      ],
      "metadata": {
        "id": "N1EqDfqJt8Lw"
      }
    },
    {
      "cell_type": "code",
      "source": [
        "def TTON(file_path):\n",
        "   with open(file_path, 'r') as file:\n",
        "        content = file.read()\n",
        "        corrected_content = content.replace('T', 'N').replace('J', 'I')\n",
        "        print(corrected_content)"
      ],
      "metadata": {
        "id": "qVruBxp7uIPZ"
      },
      "execution_count": 68,
      "outputs": []
    },
    {
      "cell_type": "code",
      "source": [
        "file_path = \"/content/school.txt\"\n",
        "TTON(file_path)"
      ],
      "metadata": {
        "id": "tRBlYIrEuM9Q",
        "outputId": "93bd13d9-17fb-4ce2-87ac-bb965225bb8d",
        "colab": {
          "base_uri": "https://localhost:8080/"
        }
      },
      "execution_count": 69,
      "outputs": [
        {
          "output_type": "stream",
          "name": "stdout",
          "text": [
            "A school is an educational institution designed to provide learning spaces and learning environments for the teaching of students under the direction of teachers. Most countries have systems of formal education, which is sometimes compulsory. In these systems, students progress through a series of schools. Nhe names for these schools vary by country (discussed in the Regional terms section below) but generally include primary school for young children and secondary school for teenagers who have completed primary education. An institution where higher education is taught is commonly called a university college or university.\n",
            "\n",
            "In addition to these core schools, students in a given country may also attend schools before and after primary (elementary in the U.S.) and secondary (middle school in the U.S.) education. Kindergarten or preschool provide some schooling to very young children (typically ages 3–5). University, vocational school, college or seminary may be available after secondary school. A school may be dedicated to one particular field, such as a school of economics or dance. Alternative schools may provide nontraditional curriculum and methods.\n",
            "\n",
            "Non-government schools, also known as private schools, may be required when the government does not supply adequate or specific educational needs. Other private schools can also be religious, such as Christian schools, gurukula (Hindu schools), madrasa (Arabic schools), hawzas (Shi'i Muslim schools), yeshivas (Iewish schools), and others; or schools that have a higher standard of education or seek to foster other personal achievements. Schools for adults include institutions of corporate training, military education and training and business schools.\n",
            "\n",
            "Critics of school often accuse the school system of failing to adequately prepare students for their future lives, of encouraging certain temperaments while inhibiting others,[5] of prescribing students exactly what to do, how, when, where and with whom, which would suppress creativity,[6] and of using extrinsic measures such as grades and homework, which would inhibit children's natural curiosity and desire to learn.\n",
            "\n",
            "In homeschooling and distance education, teaching and learning take place independent from the institution of school or in a virtual school outside a traditional school building, respectively. Schools are organized in several different organizational models, including departmental, small learning communities, academies, integrated, and schools-within-a-school.\n"
          ]
        }
      ]
    },
    {
      "cell_type": "markdown",
      "source": [
        "11.Create a Python program that imports the math module and uses its sqrt function to calculate the square root of a given number.  \n",
        "Calculate for (number=25)"
      ],
      "metadata": {
        "id": "sfzECMxluNTQ"
      }
    },
    {
      "cell_type": "code",
      "source": [
        "import math\n",
        "\n",
        "def root(number):\n",
        "    result = math.sqrt(number)\n",
        "    return result"
      ],
      "metadata": {
        "id": "_p-ihMfMu370"
      },
      "execution_count": 70,
      "outputs": []
    },
    {
      "cell_type": "code",
      "source": [
        "number = 25\n",
        "result = root(number)\n",
        "\n",
        "print(f\"The square root of {number} is: {result}\")"
      ],
      "metadata": {
        "id": "sKeHyZnIu4ct",
        "outputId": "c58faa80-7811-486b-e5d6-8db6660eccba",
        "colab": {
          "base_uri": "https://localhost:8080/"
        }
      },
      "execution_count": 71,
      "outputs": [
        {
          "output_type": "stream",
          "name": "stdout",
          "text": [
            "The square root of 25 is: 5.0\n"
          ]
        }
      ]
    },
    {
      "cell_type": "markdown",
      "source": [
        "12.Write a Python module with a function that generates a random number between a specified range. Use random module for this problem and the range between 100 to 500."
      ],
      "metadata": {
        "id": "L_H192Ibu461"
      }
    },
    {
      "cell_type": "code",
      "source": [
        "import random\n",
        "\n",
        "def random_number():\n",
        "    return(random.randint(100,500))"
      ],
      "metadata": {
        "id": "cu87YahBu_sP"
      },
      "execution_count": 80,
      "outputs": []
    },
    {
      "cell_type": "code",
      "source": [
        "number = random_number()\n",
        "print(f\"Random number between 100 and 500: {number}\")"
      ],
      "metadata": {
        "id": "efM4KvL-vAS1",
        "outputId": "2cd84e9b-c7fe-4d2c-da48-37bcb95f0c16",
        "colab": {
          "base_uri": "https://localhost:8080/"
        }
      },
      "execution_count": 81,
      "outputs": [
        {
          "output_type": "stream",
          "name": "stdout",
          "text": [
            "Random number between 100 and 500: 152\n"
          ]
        }
      ]
    },
    {
      "cell_type": "markdown",
      "source": [
        "13.Create a Python program that uses the datetime module to display the current date and time."
      ],
      "metadata": {
        "id": "tXMTYwTzvBKw"
      }
    },
    {
      "cell_type": "code",
      "source": [
        "import datetime\n",
        "\n",
        "def date_and_time():\n",
        "    current = datetime.datetime.now()\n",
        "    formatted = current.strftime(\"%Y-%m-%d %H:%M:%S\")\n",
        "    print(f\"Current Date and Time: {formatted}\")"
      ],
      "metadata": {
        "id": "0Kki9okEvGzH"
      },
      "execution_count": 82,
      "outputs": []
    },
    {
      "cell_type": "code",
      "source": [
        "date_and_time()"
      ],
      "metadata": {
        "id": "9g1qk3_rvHQv",
        "outputId": "747f0c48-0ed5-4af6-b794-229157835300",
        "colab": {
          "base_uri": "https://localhost:8080/"
        }
      },
      "execution_count": 83,
      "outputs": [
        {
          "output_type": "stream",
          "name": "stdout",
          "text": [
            "Current Date and Time: 2024-02-04 16:27:51\n"
          ]
        }
      ]
    }
  ]
}