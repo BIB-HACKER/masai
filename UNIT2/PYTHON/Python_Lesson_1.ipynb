{
 "cells": [
  {
   "cell_type": "markdown",
   "id": "1459fae2",
   "metadata": {
    "id": "1459fae2"
   },
   "source": [
    "# Introduction to Programming with Python\n",
    "\n",
    "![](https://multimatics.co.id/images/utilize-phyton-programming.jpg)"
   ]
  },
  {
   "cell_type": "code",
   "execution_count": null,
   "id": "L9ou_ELzI7qX",
   "metadata": {
    "id": "L9ou_ELzI7qX"
   },
   "outputs": [],
   "source": []
  },
  {
   "cell_type": "markdown",
   "id": "10f0e83f",
   "metadata": {
    "id": "10f0e83f"
   },
   "source": [
    "## Introduction to Python\n",
    "\n",
    "### Why Programming Language?\n",
    "\n",
    "> A programming language is a set of rules and commands that allows people to tell computers what to do. Computers understand binary code, which is a series of 0s and 1s, but it's not practical for humans to use. So, programming languages provide a way for us to communicate with computers using words and symbols.\n",
    "\n",
    "### How a Computer Program Works?\n",
    "\n",
    "> Think of a computer program like a detailed set of instructions you give to a robot. The instructions are written in a special language the robot understands. When you run the program, it's like pressing a start button for the robot. The robot follows each instruction, does calculations, handles information, and performs tasks you told it to do. Essentially, a computer program is a sequence of steps that makes the computer or robot do something specific.\n",
    "\n",
    "![](https://masai-school.notion.site/image/https%3A%2F%2Fs3-us-west-2.amazonaws.com%2Fsecure.notion-static.com%2F6e07e80e-065d-4685-8d85-938e7a9e6d30%2FUntitled.png?table=block&id=a4415fe2-efdd-4aad-826c-f093273d4a86&spaceId=ff94b4dd-cb13-4ede-8019-d6a8215bf3d5&width=760&userId=&cache=v2)\n",
    "\n",
    "This sequence, often abbreviated as \"IPO,\" represents the basic flow of information in a computer system:\n",
    "\n",
    "- **Input:** Information or data is entered into the computer. This could be from a keyboard, mouse, sensors, or other sources.\n",
    "\n",
    "- **Process:** The computer processes or manipulates the input data according to the instructions given by a program. This involves calculations, comparisons, and other operations.\n",
    "\n",
    "- **Memory:** The processed information is temporarily stored in the computer's memory (RAM) for quick access during the processing phase.\n",
    "\n",
    "- **Output:** The final results are produced as output, which could be displayed on a screen, printed on paper, or sent to other devices. Output represents the end result of the computer's processing.\n",
    "\n",
    "This sequence is fundamental to understanding how computers take in information, work with it, store intermediate results, and ultimately produce meaningful output."
   ]
  },
  {
   "cell_type": "markdown",
   "id": "61ba0bd4",
   "metadata": {
    "id": "61ba0bd4"
   },
   "source": [
    "### Different Programming Languages\n",
    "\n",
    "![](https://coderpad.io/wp-content/uploads/2024/01/coderpad-lnaguages-1.png)\n",
    "\n",
    "- **Diverse Languages:** From C to Java, Python, and JavaScript, there's a variety of programming languages.\n",
    "\n",
    "- **Everyday Apps:** In our daily lives, apps like VLC, Excel, and Zoom are essentially computer programs, providing a user-friendly way to interact with our devices."
   ]
  },
  {
   "cell_type": "markdown",
   "id": "928d2ab7",
   "metadata": {
    "id": "928d2ab7"
   },
   "source": [
    "### List of in - demand programming Languages\n",
    "\n",
    "![](https://torquemag.io/wp-content/uploads/2022/02/stackoverflow-developer-survey-2021-most-popular-technologies.png)\n",
    "\n",
    "### Why Learn Python?\n",
    "\n",
    "- **Versatile and Readable:** Python's clean syntax and versatility make it suitable for diverse applications, from web development to data science and artificial intelligence.\n",
    "\n",
    "- **Career Boost:** Learning Python enhances career prospects, as it is in high demand across industries, offering opportunities in technology, finance, data science, and more.\n",
    "\n",
    "- **Community Support:** Python has a large and supportive community, providing extensive resources, libraries, and frameworks, making it accessible for beginners and valuable for experienced developers.\n",
    "\n",
    "### Integrated Development Environments (IDEs)\n",
    "\n",
    "![](https://masai-school.notion.site/image/https%3A%2F%2Fs3-us-west-2.amazonaws.com%2Fsecure.notion-static.com%2F2989d9a6-d2c6-4630-87cc-58122b91c349%2FUntitled.png?table=block&id=721cb5bc-a268-433c-9a96-6cde978a3c83&spaceId=ff94b4dd-cb13-4ede-8019-d6a8215bf3d5&width=2000&userId=&cache=v2)\n",
    "\n",
    "- **What's an IDE?**\n",
    "  - An Integrated Development Environment (IDE) is like a supercharged toolbox for computer programmers. It's a computer program that brings together all the tools you need to write, test, and organize your code in one place.\n",
    "\n",
    "- **What's Inside?**\n",
    "  - Think of it like this: in one section, you have a place to write your code (like a fancy text editor), and in another part, there's a button to turn your code into something the computer understands (like magic translation). There's also a tool to find and fix mistakes (like a code detective), and even a manager to keep track of all the different pieces of your project (like a project organizer).\n",
    "\n",
    "- **Why Use It?**\n",
    "  - Using an IDE is like having a superhero sidekick for coding. It makes everything smoother and faster because you don't have to switch between different programs all the time. It's all in one place, helping you write better code and build cool things on the computer.\n",
    "\n",
    "\n",
    "- **PyCharm:** Developed by JetBrains, PyCharm is a robust Python IDE with advanced features like code analysis, debugging, and support for web development frameworks.\n",
    "\n",
    "- **Visual Studio Code (VSCode):** A lightweight and versatile code editor by Microsoft, VSCode supports Python with extensions, offering debugging, syntax highlighting, and integrated Git control.\n",
    "\n",
    "- **Jupyter Notebook:** Widely used in data science, Jupyter is an open-source web application for creating documents with live code, visualizations, and narrative text, making it ideal for interactive coding and analysis."
   ]
  },
  {
   "cell_type": "markdown",
   "id": "3f967a14",
   "metadata": {
    "id": "3f967a14"
   },
   "source": [
    "## Setup Jupyter notebook\n",
    "\n",
    "- Go to https://www.anaconda.com/\n",
    "- Go To download tab\n",
    "- Select your operating system.\n",
    "- Select python 3 or above\n",
    "- Set up and install\n",
    "\n",
    "## Exploring Jupyter Notebook\n",
    "\n",
    "![](https://georgejmount.com/wp-content/uploads/2021/05/aina_1002-1024x360.png)\n",
    "\n",
    "Jupyter Notebook has several distinct components that contribute to its functionality:\n",
    "\n",
    "1. **Notebook Dashboard:**\n",
    "   - When you start Jupyter, you are presented with a dashboard that allows you to navigate through your file system, create new notebooks, and open existing ones.\n",
    "\n",
    "2. **Notebook Interface:**\n",
    "   - The notebook interface is where you create, edit, and run your code. It consists of cells, which can be either code cells or Markdown cells.\n",
    "\n",
    "3. **Cell Types:**\n",
    "   - **Code Cells:** These cells contain executable code (e.g., Python). You can run the code in a cell by pressing Shift + Enter.\n",
    "   - **Markdown Cells:** These cells contain formatted text written in Markdown. They are used for documentation, explanations, and annotations.\n",
    "\n",
    "4. **Kernel:**\n",
    "   - The kernel is the computational engine that executes the code contained in a notebook. When you run a code cell, it sends the code to the kernel, which processes it and returns the output to the notebook.\n",
    "\n",
    "5. **Cell Toolbar:**\n",
    "   - The cell toolbar provides options for configuring and manipulating cells. You can use it to change cell types, move cells, and perform other cell-related actions.\n",
    "\n",
    "6. **Toolbar:**\n",
    "   - The toolbar contains icons for common actions such as saving the notebook, adding new cells, cutting/copying/pasting cells, and running cells.\n",
    "\n",
    "7. **Output Area:**\n",
    "   - Below each code cell is the output area, where the results of executing the code are displayed. This can include text output, tables, charts, or other visualizations.\n",
    "\n",
    "8. **Magic Commands:**\n",
    "   - Jupyter supports \"magic commands\" that provide additional functionality. For example, `%matplotlib inline` allows for inline plotting of Matplotlib figures.\n",
    "\n",
    "9. **Keyboard Shortcuts:**\n",
    "   - Jupyter provides a variety of keyboard shortcuts for efficient navigation and execution. For instance, pressing `B` adds a new cell below the current one, and pressing `A` adds a new cell above.\n",
    "\n",
    "10. **Cell Execution Order:**\n",
    "    - Each code cell has a number indicating the order in which it was executed. This helps in tracking the sequence of code execution, especially in notebooks with multiple cells.\n",
    "\n",
    "11. **File Menu:**\n",
    "    - The File menu provides options for saving, exporting, and closing notebooks. You can save your work in various formats, including .ipynb (Jupyter Notebook format), HTML, and PDF.\n",
    "\n",
    "12. **Help Menu:**\n",
    "    - The Help menu provides access to Jupyter's documentation and other helpful resources. It also includes a keyboard shortcuts reference.\n",
    "\n",
    "These components collectively create a user-friendly and interactive environment for coding, data analysis, and collaborative work in Jupyter Notebook."
   ]
  },
  {
   "cell_type": "markdown",
   "id": "f18e052f",
   "metadata": {
    "id": "f18e052f"
   },
   "source": [
    "## Variables in Python\n",
    "\n",
    "> Variables are containers for storing data values. In Python, you can create a variable and assign a value to it.\n",
    "\n",
    "Let's take an example. You are currently living somewhere, you got a job in Bangalore. You need to shift to Bangalore. What you will do?\n",
    "\n",
    "![](https://masai-school.notion.site/image/https%3A%2F%2Fs3-us-west-2.amazonaws.com%2Fsecure.notion-static.com%2Ff63f8937-2609-497e-ab4c-2e533a982a37%2FUntitled.png?table=block&id=886a218f-c21f-4b0f-8b19-5cc4e32f0bcc&spaceId=ff94b4dd-cb13-4ede-8019-d6a8215bf3d5&width=2000&userId=&cache=v2)\n",
    "\n",
    "You will pack the items. How we will pack the items?\n",
    "\n",
    "We will use different containers to pack the items. But why do we need to pack them in a proper container for each item? Because we can carry each item safely in transport and we can reuse them.\n",
    "\n",
    "In a similar way to how the containers are working, we have variables in Python.\n",
    "\n",
    "![](https://masai-school.notion.site/image/https%3A%2F%2Fs3-us-west-2.amazonaws.com%2Fsecure.notion-static.com%2F6df4064f-ee1b-4f31-960b-728636ba6210%2FUntitled.png?table=block&id=b7c7373b-2ccb-4291-b539-3089359efeec&spaceId=ff94b4dd-cb13-4ede-8019-d6a8215bf3d5&width=2000&userId=&cache=v2)\n",
    "\n",
    "`Syntax: variable_name = value`\n",
    "\n",
    "**Example:**"
   ]
  },
  {
   "cell_type": "code",
   "execution_count": null,
   "id": "be4b4cf0",
   "metadata": {
    "id": "be4b4cf0",
    "outputId": "e3317392-4205-4f7a-9376-d8714d601d21"
   },
   "outputs": [
    {
     "name": "stdout",
     "output_type": "stream",
     "text": [
      "Masai\n"
     ]
    }
   ],
   "source": [
    "# Here `name` is a box and `Masai` is your goods\n",
    "\n",
    "name = \"Masai\"\n",
    "age = 25\n",
    "height = 5.9\n",
    "\n",
    "#Now you can print the \"name\"\n",
    "\n",
    "print(name)"
   ]
  },
  {
   "cell_type": "markdown",
   "id": "e5726c99",
   "metadata": {
    "id": "e5726c99"
   },
   "source": [
    "#### Exercises"
   ]
  },
  {
   "cell_type": "code",
   "execution_count": null,
   "id": "5565194d",
   "metadata": {
    "id": "5565194d"
   },
   "outputs": [],
   "source": [
    "# Try creating some variables\n"
   ]
  },
  {
   "cell_type": "code",
   "execution_count": null,
   "id": "9d2d7e55",
   "metadata": {
    "id": "9d2d7e55"
   },
   "outputs": [],
   "source": [
    "# Try creating some variables\n"
   ]
  },
  {
   "cell_type": "code",
   "execution_count": null,
   "id": "1cdca8be",
   "metadata": {
    "id": "1cdca8be"
   },
   "outputs": [],
   "source": [
    "# Try creating some variables\n"
   ]
  },
  {
   "cell_type": "markdown",
   "id": "df8d2b4e",
   "metadata": {
    "id": "df8d2b4e"
   },
   "source": [
    "Now how does this work?\n",
    "\n",
    "> In computing, the system's memory, measured in capacities such as 512 MB, 1 GB, etc., serves as a storage space for various data during program execution. Similarly, devices like mobile phones have their own memory capacities, such as 64 GB or 128 GB. This memory is organized into smaller units known as bits.\n",
    "\n",
    "When executing code, for instance, `name = \"Masai\"`, a specific location in the computer's memory is allocated to store the value `Masai`, and the identifier or variable name `name` is assigned to reference that particular memory location. This process is commonly referred to as variable assignment.\n",
    "\n",
    "In summary, variable assignment involves associating a value with a variable name, and this association is maintained within the computer's memory for the duration of the program's execution."
   ]
  },
  {
   "cell_type": "markdown",
   "id": "34153c44",
   "metadata": {
    "id": "34153c44"
   },
   "source": [
    "## Datatypes in Python\n",
    "\n",
    "> In Python, a data type is a classification that specifies which type of value a variable can hold. It defines the operations that can be performed on the values and the way they behave.\n",
    "\n",
    "What did you find from the picture?\n",
    "\n",
    "![](https://masai-school.notion.site/image/https%3A%2F%2Fs3-us-west-2.amazonaws.com%2Fsecure.notion-static.com%2F21f7b1e2-0003-428c-a49c-1542bc1b5611%2FUntitled.png?table=block&id=5efc1608-9751-4621-a2cd-653298ef7550&spaceId=ff94b4dd-cb13-4ede-8019-d6a8215bf3d5&width=2000&userId=&cache=v2)\n",
    "\n",
    "If you have a container for ice-cream, can we pack a TV in that container? If you have a water bottle can we pack photo frame in that? No, so we need different types of containers to pack the different items.\n",
    "\n",
    "Here different types of penholders are made to store the pen we can’t store milk in that bottle.  We can’t store food in a water bottle. So different things have been built for different purposes.\n",
    "\n",
    "In a similar way, in Python, we have different datatypes. Like age is a number so all the numbers are a different datatype. Name is a string datatype. Is Delhi capital of India? True.  Is MS Dhoni a captain of Indian cricket team?  False. This type of data - True/False values are known as Boolean.\n",
    "\n",
    "![](https://pynative.com/wp-content/uploads/2021/02/python-data-types.jpg)"
   ]
  },
  {
   "cell_type": "markdown",
   "id": "d09eccea",
   "metadata": {
    "id": "d09eccea"
   },
   "source": [
    "### Different Data Types in Python:\n",
    "\n",
    "#### Numeric Data Types:\n",
    "\n",
    "##### 1. **Integer (`int`):**\n",
    "   - **Definition:** Whole numbers without a decimal point.\n",
    "   - **Example:**"
   ]
  },
  {
   "cell_type": "code",
   "execution_count": null,
   "id": "2eff2749",
   "metadata": {
    "id": "2eff2749",
    "outputId": "f3ea4a79-2dae-4094-f0f5-cf0d819a8198"
   },
   "outputs": [
    {
     "data": {
      "text/plain": [
       "5"
      ]
     },
     "execution_count": 41,
     "metadata": {},
     "output_type": "execute_result"
    }
   ],
   "source": [
    "x = 5\n",
    "x"
   ]
  },
  {
   "cell_type": "markdown",
   "id": "f749c61a",
   "metadata": {
    "id": "f749c61a"
   },
   "source": [
    "#### 2. **Float (`float`):**\n",
    "   - **Definition:** Numbers with a decimal point or written in scientific notation.\n",
    "   - **Example:**"
   ]
  },
  {
   "cell_type": "code",
   "execution_count": null,
   "id": "8e49654a",
   "metadata": {
    "id": "8e49654a",
    "outputId": "32bc0cfc-1ffe-474d-e466-d44e7e90bcda"
   },
   "outputs": [
    {
     "data": {
      "text/plain": [
       "3.14"
      ]
     },
     "execution_count": 42,
     "metadata": {},
     "output_type": "execute_result"
    }
   ],
   "source": [
    "y = 3.14\n",
    "y"
   ]
  },
  {
   "cell_type": "markdown",
   "id": "6254da5f",
   "metadata": {
    "id": "6254da5f"
   },
   "source": [
    "##### 3. **Complex (`complex`):**\n",
    "   - **Definition:** Numbers with a real and imaginary part.\n",
    "   - **Example:**"
   ]
  },
  {
   "cell_type": "code",
   "execution_count": null,
   "id": "9d1612ee",
   "metadata": {
    "id": "9d1612ee",
    "outputId": "dca3eef6-d229-49ab-ae9b-ddcafe6c821f"
   },
   "outputs": [
    {
     "data": {
      "text/plain": [
       "(2+3j)"
      ]
     },
     "execution_count": 43,
     "metadata": {},
     "output_type": "execute_result"
    }
   ],
   "source": [
    "z = 2 + 3j\n",
    "z"
   ]
  },
  {
   "cell_type": "markdown",
   "id": "47e9920a",
   "metadata": {
    "id": "47e9920a"
   },
   "source": [
    "#### Boolean Data Type:\n",
    "\n",
    "##### 4. **Boolean (`bool`):**\n",
    "   - **Definition:** Represents either True or False.\n",
    "   - **Example:**"
   ]
  },
  {
   "cell_type": "code",
   "execution_count": null,
   "id": "671b0296",
   "metadata": {
    "id": "671b0296",
    "outputId": "19885a48-4a9e-4f93-a5d9-9bebb9fc3a2c"
   },
   "outputs": [
    {
     "data": {
      "text/plain": [
       "True"
      ]
     },
     "execution_count": 44,
     "metadata": {},
     "output_type": "execute_result"
    }
   ],
   "source": [
    "is_adult = True\n",
    "is_adult"
   ]
  },
  {
   "cell_type": "markdown",
   "id": "7b3b689b",
   "metadata": {
    "id": "7b3b689b"
   },
   "source": [
    "#### Set and Dictionary Data Types:\n",
    "\n",
    "##### 5. **Set (`set`):**\n",
    "   - **Definition:** Unordered collection of unique items.\n",
    "   - **Example:**"
   ]
  },
  {
   "cell_type": "code",
   "execution_count": null,
   "id": "5b4a8990",
   "metadata": {
    "id": "5b4a8990",
    "outputId": "1482ad30-a917-4d9e-89b1-e13a5e4797d2"
   },
   "outputs": [
    {
     "data": {
      "text/plain": [
       "{2, 4, 6}"
      ]
     },
     "execution_count": 45,
     "metadata": {},
     "output_type": "execute_result"
    }
   ],
   "source": [
    "numbers_set = {2, 4, 6}\n",
    "numbers_set"
   ]
  },
  {
   "cell_type": "markdown",
   "id": "8bffac3e",
   "metadata": {
    "id": "8bffac3e"
   },
   "source": [
    "##### 6. **Dictionary (`dict`):**\n",
    "   - **Definition:** Unordered collection of key-value pairs.\n",
    "   - **Example:**"
   ]
  },
  {
   "cell_type": "code",
   "execution_count": null,
   "id": "f898a078",
   "metadata": {
    "id": "f898a078",
    "outputId": "676a9f72-292d-477a-83fd-3d071ee53f92"
   },
   "outputs": [
    {
     "data": {
      "text/plain": [
       "{'name': 'Masai', 'age': 30}"
      ]
     },
     "execution_count": 46,
     "metadata": {},
     "output_type": "execute_result"
    }
   ],
   "source": [
    "person = {\"name\": \"Masai\", \"age\": 30}\n",
    "person"
   ]
  },
  {
   "cell_type": "markdown",
   "id": "87672bec",
   "metadata": {
    "id": "87672bec"
   },
   "source": [
    "#### Sequence Data Types:\n",
    "\n",
    "##### 7. **String (`str`):**\n",
    "   - **Definition:** Sequence of characters, enclosed in single or double quotes.\n",
    "   - **Example:**"
   ]
  },
  {
   "cell_type": "code",
   "execution_count": null,
   "id": "d1857fc0",
   "metadata": {
    "id": "d1857fc0",
    "outputId": "d3dd9080-cd83-4f37-d263-d6be9cccadff"
   },
   "outputs": [
    {
     "data": {
      "text/plain": [
       "'Masai'"
      ]
     },
     "execution_count": 47,
     "metadata": {},
     "output_type": "execute_result"
    }
   ],
   "source": [
    "name = \"Masai\"\n",
    "name"
   ]
  },
  {
   "cell_type": "markdown",
   "id": "d83d69b8",
   "metadata": {
    "id": "d83d69b8"
   },
   "source": [
    "##### 8. **List (`list`):**\n",
    "   - **Definition:** Ordered and mutable collection of items.\n",
    "   - **Example:**"
   ]
  },
  {
   "cell_type": "code",
   "execution_count": null,
   "id": "a56f3185",
   "metadata": {
    "id": "a56f3185",
    "outputId": "9bddb01e-2d3b-40cc-ffa9-8b585ab304f3"
   },
   "outputs": [
    {
     "data": {
      "text/plain": [
       "['Masai', 'Python', 'Variable']"
      ]
     },
     "execution_count": 48,
     "metadata": {},
     "output_type": "execute_result"
    }
   ],
   "source": [
    "fruits = [\"Masai\", \"Python\", \"Variable\"]\n",
    "fruits"
   ]
  },
  {
   "cell_type": "markdown",
   "id": "a8c061f2",
   "metadata": {
    "id": "a8c061f2"
   },
   "source": [
    "##### 9. **Tuple (`tuple`):**\n",
    "   - **Definition:** Ordered and immutable collection of items.\n",
    "   - **Example:**"
   ]
  },
  {
   "cell_type": "code",
   "execution_count": null,
   "id": "25748768",
   "metadata": {
    "id": "25748768",
    "outputId": "c50aeb96-e2e0-4bda-e332-fcaaa2ae513f"
   },
   "outputs": [
    {
     "data": {
      "text/plain": [
       "(7, 9)"
      ]
     },
     "execution_count": 49,
     "metadata": {},
     "output_type": "execute_result"
    }
   ],
   "source": [
    "coordinates = (7, 9)\n",
    "coordinates"
   ]
  },
  {
   "cell_type": "markdown",
   "id": "bed5b2df",
   "metadata": {
    "id": "bed5b2df"
   },
   "source": [
    "### Exercises:\n",
    "\n",
    "   - Create an integer variable `num_of_books` and assign it the value `15`.\n",
    "   - Define a float variable `average_rating` with the value `4.7`.\n",
    "   - Create a complex variable `imaginary_number` with the value `3 + 2j`.\n",
    "   - Assign a boolean variable `is_raining` with the value `True`.\n",
    "   - Create another boolean variable `is_weekend` with the value `False`.\n",
    "   - Create a set variable `prime_numbers_set` with values `2, 3, 5, 7`.\n",
    "   - Define a dictionary variable `city_population` with keys \"New York\" and \"Tokyo\" and their respective population values.\n",
    "   - Create a string variable `favorite_movie` with the title of your favorite movie.\n",
    "   - Create a list variable `fruits_list` with items like \"apple,\" \"banana,\" and \"grape.\"\n",
    "   - Define a tuple variable `coordinates_tuple` with latitude and longitude values.\n",
    "   - Create a dictionary `student_info` with keys like \"name,\" \"age,\" \"grade,\" and mix different data types for their values.\n",
    "   - Change the value of `num_of_books` to `20`.\n",
    "   - Update the `favorite_movie` to a new title.\n",
    "   - Add a new fruit to the `fruits_list`.\n",
    "   - Change the imaginary part of `imaginary_number` to a different value.\n",
    "   - Print each variable along with its type using `print()`.\n",
    "\n",
    "Remember to test and print your variables at each step to ensure the correctness of your solutions."
   ]
  },
  {
   "cell_type": "markdown",
   "id": "9d086827",
   "metadata": {
    "id": "9d086827"
   },
   "source": [
    "### Variable Naming Rules in Python:\n",
    "\n",
    "1. **Start with a Letter or Underscore:**\n",
    "   - Valid: `variable_name`, `_underscore_variable`\n",
    "   - Invalid: `2variable`, `@symbol_variable`\n",
    "\n",
    "2. **Case-Sensitive:**\n",
    "   - `my_variable` and `My_Variable` are different variables.\n",
    "\n",
    "3. **Use Alphanumeric Characters and Underscores:**\n",
    "   - Valid: `num_1`, `total_count`, `data_set_2`\n",
    "   - Invalid: `user@name`, `variable#1`\n",
    "\n",
    "4. **Avoid Reserved Keywords:**\n",
    "   - You cannot use Python keywords as variable names.\n",
    "   - Invalid: `class`, `def`, `if`, `else`\n",
    "\n",
    "5. **Meaningful and Descriptive:**\n",
    "   - Choose names that convey the purpose of the variable.\n",
    "   - Good: `total_price`, `user_age`, `student_name`\n",
    "   - Avoid: `x`, `abc`, `temp`\n",
    "\n",
    "6. **No Spaces or Special Characters:**\n",
    "   - Spaces are not allowed in variable names.\n",
    "   - Invalid: `my variable`, `user-name`, `data!`\n",
    "\n",
    "7. **Snake Case for Readability:**\n",
    "   - Use snake_case for variable names (lowercase with underscores between words).\n",
    "   - Good: `user_name`, `total_count`, `data_set`\n",
    "   - Avoid: `userName`, `TotalCount`, `dataSet`\n",
    "\n",
    "8. **Avoid Single-letter Names, Except in Loops:**\n",
    "   - Use meaningful names; exceptions are often made for loop variables.\n",
    "   - Good: `index`, `value`\n",
    "   - Avoid: `i`, `j`, `k` unless in a loop context\n",
    "\n",
    "### Examples:"
   ]
  },
  {
   "cell_type": "code",
   "execution_count": null,
   "id": "2c5111a8",
   "metadata": {
    "id": "2c5111a8"
   },
   "outputs": [],
   "source": [
    "# Valid Variable Names\n",
    "user_name = \"John\"\n",
    "total_count = 100\n",
    "data_set_2 = [1, 2, 3]\n",
    "my_var = 42"
   ]
  },
  {
   "cell_type": "code",
   "execution_count": null,
   "id": "e613b9a0",
   "metadata": {
    "id": "e613b9a0",
    "outputId": "05b67d46-96fc-4dcf-9b8b-83854315aa44"
   },
   "outputs": [
    {
     "ename": "SyntaxError",
     "evalue": "invalid syntax (3350186692.py, line 2)",
     "output_type": "error",
     "traceback": [
      "\u001b[0;36m  Input \u001b[0;32mIn [51]\u001b[0;36m\u001b[0m\n\u001b[0;31m    2nd_variable = \"Invalid\"  # Starts with a number\u001b[0m\n\u001b[0m     ^\u001b[0m\n\u001b[0;31mSyntaxError\u001b[0m\u001b[0;31m:\u001b[0m invalid syntax\n"
     ]
    }
   ],
   "source": [
    "# Invalid Variable Names\n",
    "2nd_variable = \"Invalid\"  # Starts with a number\n",
    "user@name = \"Invalid\"     # Contains special character\n",
    "class = \"Invalid\"         # Reserved keyword"
   ]
  },
  {
   "cell_type": "markdown",
   "id": "0728152a",
   "metadata": {
    "id": "0728152a"
   },
   "source": [
    "Following these rules ensures that your variable names are clear, consistent, and adhere to Python's conventions, contributing to code readability and maintainability."
   ]
  },
  {
   "cell_type": "markdown",
   "id": "97f5f5ea",
   "metadata": {
    "id": "97f5f5ea"
   },
   "source": [
    "### How do we check the data types of variables?\n",
    "\n",
    "In Python, the `type()` function is used to determine the type of a variable or a value. It returns the type as a class type."
   ]
  },
  {
   "cell_type": "markdown",
   "id": "382539dd",
   "metadata": {
    "id": "382539dd"
   },
   "source": [
    "### Examples:"
   ]
  },
  {
   "cell_type": "code",
   "execution_count": null,
   "id": "a01929a6",
   "metadata": {
    "id": "a01929a6",
    "outputId": "5fff0431-534d-4ed8-c546-5829f0927280"
   },
   "outputs": [
    {
     "name": "stdout",
     "output_type": "stream",
     "text": [
      "<class 'int'>\n",
      "<class 'float'>\n",
      "<class 'str'>\n",
      "<class 'bool'>\n",
      "<class 'list'>\n",
      "<class 'tuple'>\n",
      "<class 'dict'>\n",
      "<class 'set'>\n"
     ]
    }
   ],
   "source": [
    "# Integer Type\n",
    "num = 42\n",
    "print(type(num))  # <class 'int'>\n",
    "\n",
    "# Float Type\n",
    "price = 3.14\n",
    "print(type(price))  # <class 'float'>\n",
    "\n",
    "# String Type\n",
    "name = \"Alice\"\n",
    "print(type(name))  # <class 'str'>\n",
    "\n",
    "# Boolean Type\n",
    "is_adult = True\n",
    "print(type(is_adult))  # <class 'bool'>\n",
    "\n",
    "# List Type\n",
    "fruits = [\"apple\", \"banana\", \"orange\"]\n",
    "print(type(fruits))  # <class 'list'>\n",
    "\n",
    "# Tuple Type\n",
    "coordinates = (3, 5)\n",
    "print(type(coordinates))  # <class 'tuple'>\n",
    "\n",
    "# Dictionary Type\n",
    "person = {\"name\": \"Bob\", \"age\": 30}\n",
    "print(type(person))  # <class 'dict'>\n",
    "\n",
    "# Set Type\n",
    "prime_numbers = {2, 3, 5, 7}\n",
    "print(type(prime_numbers))  # <class 'set'>"
   ]
  },
  {
   "cell_type": "markdown",
   "id": "fd804456",
   "metadata": {
    "id": "fd804456"
   },
   "source": [
    "The `type()` function is particularly useful when you want to dynamically check the type of a variable during program execution."
   ]
  },
  {
   "cell_type": "markdown",
   "id": "4977390c",
   "metadata": {
    "id": "4977390c"
   },
   "source": [
    "#### Exercise\n",
    "\n",
    "Print each variable along with its type using print() and type() functions."
   ]
  },
  {
   "cell_type": "markdown",
   "id": "4afeea26",
   "metadata": {
    "id": "4afeea26"
   },
   "source": [
    "### What's Typecasting in Python?\n",
    "\n",
    "> Typecasting in Python refers to the process of converting a variable from one data type to another. This is often necessary when you want to perform operations or combine values of different data types. Python provides several built-in functions for typecasting."
   ]
  },
  {
   "cell_type": "markdown",
   "id": "39b38609",
   "metadata": {
    "id": "39b38609"
   },
   "source": [
    "### Examples:"
   ]
  },
  {
   "cell_type": "code",
   "execution_count": null,
   "id": "4691aeb0",
   "metadata": {
    "id": "4691aeb0",
    "outputId": "738194db-0ad2-4ba2-cf9d-d7594c1574dd"
   },
   "outputs": [
    {
     "name": "stdout",
     "output_type": "stream",
     "text": [
      "3\n",
      "42\n",
      "5.0\n",
      "3.14\n",
      "42\n",
      "3.14\n",
      "False\n",
      "True\n",
      "['a', 'b', 'c']\n",
      "[1, 2, 3]\n",
      "[4, 5, 6]\n"
     ]
    }
   ],
   "source": [
    "#### 1. **Integer Typecasting (`int()`):**\n",
    "\n",
    "# Float to Integer\n",
    "float_number = 3.14\n",
    "int_number = int(float_number)\n",
    "print(int_number)  # 3\n",
    "\n",
    "# String to Integer\n",
    "str_number = \"42\"\n",
    "int_from_str = int(str_number)\n",
    "print(int_from_str)  # 42\n",
    "\n",
    "\n",
    "#### 2. **Float Typecasting (`float()`):**\n",
    "\n",
    "# Integer to Float\n",
    "int_value = 5\n",
    "float_value = float(int_value)\n",
    "print(float_value)  # 5.0\n",
    "\n",
    "# String to Float\n",
    "str_float = \"3.14\"\n",
    "float_from_str = float(str_float)\n",
    "print(float_from_str)  # 3.14\n",
    "\n",
    "\n",
    "#### 3. **String Typecasting (`str()`):**\n",
    "\n",
    "# Integer to String\n",
    "int_value = 42\n",
    "str_from_int = str(int_value)\n",
    "print(str_from_int)  # '42'\n",
    "\n",
    "# Float to String\n",
    "float_value = 3.14\n",
    "str_from_float = str(float_value)\n",
    "print(str_from_float)  # '3.14'\n",
    "\n",
    "\n",
    "#### 4. **Boolean Typecasting (`bool()`):**\n",
    "\n",
    "# Integer to Boolean\n",
    "int_value = 0\n",
    "bool_from_int = bool(int_value)\n",
    "print(bool_from_int)  # False\n",
    "\n",
    "# String to Boolean\n",
    "str_value = \"True\"\n",
    "bool_from_str = bool(str_value)\n",
    "print(bool_from_str)  # True\n",
    "\n",
    "#### 5. **List, Tuple, Set Typecasting (`list()`, `tuple()`, `set()`):**\n",
    "\n",
    "# String to List\n",
    "str_list = \"abc\"\n",
    "list_from_str = list(str_list)\n",
    "print(list_from_str)  # ['a', 'b', 'c']\n",
    "\n",
    "# Tuple to List\n",
    "tuple_values = (1, 2, 3)\n",
    "list_from_tuple = list(tuple_values)\n",
    "print(list_from_tuple)  # [1, 2, 3]\n",
    "\n",
    "# Set to List\n",
    "set_values = {4, 5, 6}\n",
    "list_from_set = list(set_values)\n",
    "print(list_from_set)  # [4, 5, 6]"
   ]
  },
  {
   "cell_type": "markdown",
   "id": "1f42065a",
   "metadata": {
    "id": "1f42065a"
   },
   "source": [
    "These typecasting functions allow you to convert variables from one data type to another as needed in your Python programs. Keep in mind that not all typecastings are possible (e.g., converting a string with non-numeric characters to an integer), and attempting such operations may result in errors."
   ]
  },
  {
   "cell_type": "markdown",
   "id": "c275d905",
   "metadata": {
    "id": "c275d905"
   },
   "source": [
    "### Exercises in Python:\n",
    "\n",
    "   - Create an integer variable `num_of_items` with the value `15`.\n",
    "     - Convert it to a float and print the result."
   ]
  },
  {
   "cell_type": "code",
   "execution_count": null,
   "id": "028e5759",
   "metadata": {
    "id": "028e5759"
   },
   "outputs": [],
   "source": []
  },
  {
   "cell_type": "markdown",
   "id": "6fa539e1",
   "metadata": {
    "id": "6fa539e1"
   },
   "source": [
    "- Create a float variable `average_rating` with the value `4.7`.\n",
    "     - Convert it to an integer and print the result."
   ]
  },
  {
   "cell_type": "code",
   "execution_count": null,
   "id": "19c4925f",
   "metadata": {
    "id": "19c4925f"
   },
   "outputs": [],
   "source": []
  },
  {
   "cell_type": "markdown",
   "id": "53b0cb0e",
   "metadata": {
    "id": "53b0cb0e"
   },
   "source": [
    "- Create a string variable `num_str` with the value `\"25\"`.\n",
    "     - Convert it to both an integer and a float. Print both results."
   ]
  },
  {
   "cell_type": "code",
   "execution_count": null,
   "id": "cac860d8",
   "metadata": {
    "id": "cac860d8"
   },
   "outputs": [],
   "source": []
  },
  {
   "cell_type": "markdown",
   "id": "98335043",
   "metadata": {
    "id": "98335043"
   },
   "source": [
    " - Create a boolean variable `is_adult` with the value `True`.\n",
    "     - Convert it to an integer and print the result."
   ]
  },
  {
   "cell_type": "code",
   "execution_count": null,
   "id": "03538689",
   "metadata": {
    "id": "03538689"
   },
   "outputs": [],
   "source": []
  },
  {
   "cell_type": "markdown",
   "id": "b5377621",
   "metadata": {
    "id": "b5377621"
   },
   "source": [
    " - Create an integer variable `quantity` with the value `30`.\n",
    "     - Convert it to a string and print the result."
   ]
  },
  {
   "cell_type": "code",
   "execution_count": null,
   "id": "25d48b18",
   "metadata": {
    "id": "25d48b18"
   },
   "outputs": [],
   "source": []
  },
  {
   "cell_type": "markdown",
   "id": "16cf3632",
   "metadata": {
    "id": "16cf3632"
   },
   "source": [
    "- Create a string variable `letters` with the value `\"abc\"`.\n",
    "     - Convert it to a list of characters and print the result.\n"
   ]
  },
  {
   "cell_type": "markdown",
   "id": "fc6a74e5",
   "metadata": {
    "id": "fc6a74e5"
   },
   "source": [
    "- Create a list variable `numbers_list` with values `1, 2, 3`.\n",
    "  - Convert it to a tuple and print the result.\n"
   ]
  },
  {
   "cell_type": "code",
   "execution_count": null,
   "id": "3170425d",
   "metadata": {
    "id": "3170425d"
   },
   "outputs": [],
   "source": []
  },
  {
   "cell_type": "markdown",
   "id": "16866dbc",
   "metadata": {
    "id": "16866dbc"
   },
   "source": [
    "- Create a string variable `unique_chars` with the value `\"abcabc\"`.\n",
    "    - Convert it to a set of unique characters and print the result."
   ]
  },
  {
   "cell_type": "code",
   "execution_count": null,
   "id": "4c711159",
   "metadata": {
    "id": "4c711159"
   },
   "outputs": [],
   "source": []
  },
  {
   "cell_type": "markdown",
   "id": "2bda8106",
   "metadata": {
    "id": "2bda8106"
   },
   "source": [
    "- Create a tuple variable `coordinates` with values `4, 5`.\n",
    "   - Convert it to a string and print the result."
   ]
  },
  {
   "cell_type": "markdown",
   "id": "a9228f7e",
   "metadata": {
    "id": "a9228f7e"
   },
   "source": [
    "## BODMAS Rule in Python"
   ]
  },
  {
   "cell_type": "markdown",
   "id": "27264c32",
   "metadata": {
    "id": "27264c32"
   },
   "source": [
    "> In Python, the BODMAS rule, which stands for Brackets, Orders (i.e., powers and square roots, etc.), Division and Multiplication, and Addition and Subtraction, is followed for evaluating mathematical expressions. It helps to define the order of operations when multiple operations are present in a single expression.\n",
    "\n",
    "### Example:"
   ]
  },
  {
   "cell_type": "code",
   "execution_count": null,
   "id": "af52437e",
   "metadata": {
    "id": "af52437e",
    "outputId": "34f61ec6-5f9e-4e9b-dcdd-f84d5877b8d1"
   },
   "outputs": [
    {
     "name": "stdout",
     "output_type": "stream",
     "text": [
      "7.0\n"
     ]
    }
   ],
   "source": [
    "# Example Expression: 2 + 3 * 4 / 2 - 1\n",
    "result = 2 + 3 * 4 / 2 - 1\n",
    "\n",
    "print(result)"
   ]
  },
  {
   "cell_type": "markdown",
   "id": "1378d27a",
   "metadata": {
    "id": "1378d27a"
   },
   "source": [
    "### BODMAS Rule in Action:\n",
    "\n",
    "1. **Brackets:**\n",
    "   - Operations inside brackets are performed first.\n",
    "   - Example: `(2 + 3) * 4 / 2 - 1`\n",
    "\n",
    "2. **Orders (Powers and Square Roots):**\n",
    "   - Exponents and square roots are calculated next.\n",
    "   - Example: `2 + 3 ** 2 * 4 / 2 - 1`\n",
    "\n",
    "3. **Division and Multiplication:**\n",
    "   - Division and multiplication are performed from left to right.\n",
    "   - Example: `2 + (3 * 4) / 2 - 1`\n",
    "\n",
    "4. **Addition and Subtraction:**\n",
    "   - Finally, addition and subtraction are performed from left to right.\n",
    "   - Example: `((2 + 3) * 4) / 2 - 1`\n",
    "\n",
    "### BODMAS Rule in Python Code:"
   ]
  },
  {
   "cell_type": "code",
   "execution_count": null,
   "id": "0c890fd2",
   "metadata": {
    "id": "0c890fd2",
    "outputId": "51182b37-fb05-489d-dfe7-9a01e3624cf7"
   },
   "outputs": [
    {
     "name": "stdout",
     "output_type": "stream",
     "text": [
      "9.0\n"
     ]
    }
   ],
   "source": [
    "# BODMAS Rule Example\n",
    "result = (2 + 3) * 4 / 2 - 1\n",
    "print(result)"
   ]
  },
  {
   "cell_type": "markdown",
   "id": "fdc955b9",
   "metadata": {
    "id": "fdc955b9"
   },
   "source": [
    "In this example, the result will be calculated following the BODMAS rule, and the final value of `result` will be printed. Understanding and applying the BODMAS rule is crucial for accurate evaluation of mathematical expressions in programming."
   ]
  },
  {
   "cell_type": "markdown",
   "id": "92ac1481",
   "metadata": {
    "id": "92ac1481"
   },
   "source": [
    "## Operators\n",
    "\n",
    "> Operators in Python are symbols that perform operations on operands.\n",
    "\n",
    "![](https://i.imgur.com/Ie8f0RM.png)\n",
    "\n",
    "### 1. Arithmetic Operators:\n",
    "\n",
    "Arithmetic operators perform basic mathematical operations on numeric operands.\n",
    "\n",
    "- **Addition (`+`):** Adds two operands."
   ]
  },
  {
   "cell_type": "code",
   "execution_count": null,
   "id": "55ad19e6",
   "metadata": {
    "id": "55ad19e6",
    "outputId": "4a7916b6-a978-49df-c540-be436aa02e9e"
   },
   "outputs": [
    {
     "data": {
      "text/plain": [
       "8"
      ]
     },
     "execution_count": 3,
     "metadata": {},
     "output_type": "execute_result"
    }
   ],
   "source": [
    "result = 5 + 3  # 8\n",
    "result"
   ]
  },
  {
   "cell_type": "markdown",
   "id": "79a87a2b",
   "metadata": {
    "id": "79a87a2b"
   },
   "source": [
    "- **Subtraction (`-`):** Subtracts the right operand from the left operand."
   ]
  },
  {
   "cell_type": "code",
   "execution_count": null,
   "id": "46e88bf1",
   "metadata": {
    "id": "46e88bf1",
    "outputId": "844f374b-d5f6-4226-a895-2d2851c0db9e"
   },
   "outputs": [
    {
     "data": {
      "text/plain": [
       "5"
      ]
     },
     "execution_count": 4,
     "metadata": {},
     "output_type": "execute_result"
    }
   ],
   "source": [
    "result = 7 - 2  # 5\n",
    "result"
   ]
  },
  {
   "cell_type": "markdown",
   "id": "29502865",
   "metadata": {
    "id": "29502865"
   },
   "source": [
    "- **Multiplication (`*`):** Multiplies two operands."
   ]
  },
  {
   "cell_type": "code",
   "execution_count": null,
   "id": "e21d1aa4",
   "metadata": {
    "id": "e21d1aa4",
    "outputId": "64ab1b33-8ac3-4874-c678-27d119a0d53e"
   },
   "outputs": [
    {
     "data": {
      "text/plain": [
       "24"
      ]
     },
     "execution_count": 5,
     "metadata": {},
     "output_type": "execute_result"
    }
   ],
   "source": [
    "result = 4 * 6  # 24\n",
    "result"
   ]
  },
  {
   "cell_type": "markdown",
   "id": "0529421c",
   "metadata": {
    "id": "0529421c"
   },
   "source": [
    "- **Division (`/`):** Divides the left operand by the right operand."
   ]
  },
  {
   "cell_type": "code",
   "execution_count": null,
   "id": "458a720e",
   "metadata": {
    "id": "458a720e",
    "outputId": "31bbfd03-812f-4b64-9e3d-7e35b2cce973"
   },
   "outputs": [
    {
     "data": {
      "text/plain": [
       "3.0"
      ]
     },
     "execution_count": 6,
     "metadata": {},
     "output_type": "execute_result"
    }
   ],
   "source": [
    "result = 9 / 3  # 3.0 (result is a float)\n",
    "result"
   ]
  },
  {
   "cell_type": "markdown",
   "id": "735dd2db",
   "metadata": {
    "id": "735dd2db"
   },
   "source": [
    "- **Modulus (`%`):** Returns the remainder of the division of the left operand by the right operand."
   ]
  },
  {
   "cell_type": "code",
   "execution_count": null,
   "id": "10e5d748",
   "metadata": {
    "id": "10e5d748",
    "outputId": "f4719bcd-7623-40a4-dbdb-823e77e4a884"
   },
   "outputs": [
    {
     "data": {
      "text/plain": [
       "1"
      ]
     },
     "execution_count": 7,
     "metadata": {},
     "output_type": "execute_result"
    }
   ],
   "source": [
    "result = 10 % 3  # 1\n",
    "result"
   ]
  },
  {
   "cell_type": "markdown",
   "id": "f7bfc354",
   "metadata": {
    "id": "f7bfc354"
   },
   "source": [
    "- **Exponentiation (`\"* *\"`):** Raises the left operand to the power of the right operand."
   ]
  },
  {
   "cell_type": "code",
   "execution_count": null,
   "id": "e4dc908b",
   "metadata": {
    "id": "e4dc908b",
    "outputId": "018431e7-9482-4cf8-b139-31dc08b10ac3"
   },
   "outputs": [
    {
     "data": {
      "text/plain": [
       "16"
      ]
     },
     "execution_count": 8,
     "metadata": {},
     "output_type": "execute_result"
    }
   ],
   "source": [
    "result = 2 ** 4  # 16\n",
    "result"
   ]
  },
  {
   "cell_type": "code",
   "execution_count": null,
   "id": "63789614",
   "metadata": {
    "id": "63789614",
    "outputId": "cbc898b1-1274-48fd-c2fa-41d710f05a4b"
   },
   "outputs": [
    {
     "data": {
      "text/plain": [
       "36"
      ]
     },
     "execution_count": 9,
     "metadata": {},
     "output_type": "execute_result"
    }
   ],
   "source": [
    "6**2"
   ]
  },
  {
   "cell_type": "code",
   "execution_count": null,
   "id": "09f9aa43",
   "metadata": {
    "id": "09f9aa43",
    "outputId": "5a901a7c-7fa5-4de0-e25a-93b80c3ed282"
   },
   "outputs": [
    {
     "data": {
      "text/plain": [
       "'sam masai'"
      ]
     },
     "execution_count": 12,
     "metadata": {},
     "output_type": "execute_result"
    }
   ],
   "source": [
    "\"sam\" + \" \" + \"masai\""
   ]
  },
  {
   "cell_type": "code",
   "execution_count": null,
   "id": "eb2ea4df",
   "metadata": {
    "id": "eb2ea4df",
    "outputId": "75f49a57-831d-4bde-a421-bbd8201eb87b"
   },
   "outputs": [
    {
     "ename": "TypeError",
     "evalue": "unsupported operand type(s) for -: 'str' and 'str'",
     "output_type": "error",
     "traceback": [
      "\u001b[0;31m---------------------------------------------------------------------------\u001b[0m",
      "\u001b[0;31mTypeError\u001b[0m                                 Traceback (most recent call last)",
      "Input \u001b[0;32mIn [11]\u001b[0m, in \u001b[0;36m<module>\u001b[0;34m\u001b[0m\n\u001b[0;32m----> 1\u001b[0m \u001b[38;5;124;43m\"\u001b[39;49m\u001b[38;5;124;43msam\u001b[39;49m\u001b[38;5;124;43m\"\u001b[39;49m\u001b[43m \u001b[49m\u001b[38;5;241;43m-\u001b[39;49m\u001b[43m \u001b[49m\u001b[38;5;124;43m\"\u001b[39;49m\u001b[38;5;124;43mmasai\u001b[39;49m\u001b[38;5;124;43m\"\u001b[39;49m\n",
      "\u001b[0;31mTypeError\u001b[0m: unsupported operand type(s) for -: 'str' and 'str'"
     ]
    }
   ],
   "source": [
    "\"sam\" - \"masai\""
   ]
  },
  {
   "cell_type": "markdown",
   "id": "d027890f",
   "metadata": {
    "id": "d027890f"
   },
   "source": [
    "### 2. Comparison Operators:\n",
    "\n",
    "Comparison operators compare two values and return a boolean result (True or False).\n",
    "\n",
    "- **Equal to (`==`):** Returns True if the left operand is equal to the right operand."
   ]
  },
  {
   "cell_type": "code",
   "execution_count": null,
   "id": "63abb3ce",
   "metadata": {
    "id": "63abb3ce",
    "outputId": "ac417db6-089e-4366-e79a-294eeece4f0e"
   },
   "outputs": [
    {
     "data": {
      "text/plain": [
       "True"
      ]
     },
     "execution_count": 13,
     "metadata": {},
     "output_type": "execute_result"
    }
   ],
   "source": [
    "5 == 5  # True"
   ]
  },
  {
   "cell_type": "markdown",
   "id": "cc9ef9bb",
   "metadata": {
    "id": "cc9ef9bb"
   },
   "source": [
    "- **Not equal to (`!=`):** Returns True if the left operand is not equal to the right operand."
   ]
  },
  {
   "cell_type": "code",
   "execution_count": null,
   "id": "2d08a116",
   "metadata": {
    "id": "2d08a116",
    "outputId": "32fdb734-7e29-4c83-c4ae-800a294021d9"
   },
   "outputs": [
    {
     "data": {
      "text/plain": [
       "True"
      ]
     },
     "execution_count": 22,
     "metadata": {},
     "output_type": "execute_result"
    }
   ],
   "source": [
    "8 != 3  # True"
   ]
  },
  {
   "cell_type": "markdown",
   "id": "d1a9e030",
   "metadata": {
    "id": "d1a9e030"
   },
   "source": [
    "- **Greater than (`>`):** Returns True if the left operand is greater than the right operand."
   ]
  },
  {
   "cell_type": "code",
   "execution_count": null,
   "id": "b527cc6c",
   "metadata": {
    "id": "b527cc6c",
    "outputId": "214fe51a-841f-4de9-ac3b-bd8efc4dc69b"
   },
   "outputs": [
    {
     "data": {
      "text/plain": [
       "True"
      ]
     },
     "execution_count": 23,
     "metadata": {},
     "output_type": "execute_result"
    }
   ],
   "source": [
    "10 > 7  # True"
   ]
  },
  {
   "cell_type": "markdown",
   "id": "459cde3a",
   "metadata": {
    "id": "459cde3a"
   },
   "source": [
    "- **Less than (`<`):** Returns True if the left operand is less than the right operand."
   ]
  },
  {
   "cell_type": "code",
   "execution_count": null,
   "id": "7f54c471",
   "metadata": {
    "id": "7f54c471",
    "outputId": "c37c42b1-3743-48c6-bf6e-206b59c15f1f"
   },
   "outputs": [
    {
     "data": {
      "text/plain": [
       "True"
      ]
     },
     "execution_count": 24,
     "metadata": {},
     "output_type": "execute_result"
    }
   ],
   "source": [
    "4 < 9  # True"
   ]
  },
  {
   "cell_type": "markdown",
   "id": "667c90fd",
   "metadata": {
    "id": "667c90fd"
   },
   "source": [
    "- **Greater than or equal to (`>=`):** Returns True if the left operand is greater than or equal to the right operand."
   ]
  },
  {
   "cell_type": "code",
   "execution_count": null,
   "id": "e6da4677",
   "metadata": {
    "id": "e6da4677",
    "outputId": "57739724-259c-4611-b4fc-3cf31670f205"
   },
   "outputs": [
    {
     "data": {
      "text/plain": [
       "True"
      ]
     },
     "execution_count": 25,
     "metadata": {},
     "output_type": "execute_result"
    }
   ],
   "source": [
    "6 >= 6  # True"
   ]
  },
  {
   "cell_type": "markdown",
   "id": "75e80bcf",
   "metadata": {
    "id": "75e80bcf"
   },
   "source": [
    "- **Less than or equal to (`<=`):** Returns True if the left operand is less than or equal to the right operand."
   ]
  },
  {
   "cell_type": "code",
   "execution_count": null,
   "id": "a722fdd2",
   "metadata": {
    "id": "a722fdd2",
    "outputId": "e7970bc2-5e97-4c88-ddc7-57e369db7924"
   },
   "outputs": [
    {
     "data": {
      "text/plain": [
       "False"
      ]
     },
     "execution_count": 26,
     "metadata": {},
     "output_type": "execute_result"
    }
   ],
   "source": [
    "3 <= 2  # False"
   ]
  },
  {
   "cell_type": "markdown",
   "id": "bb3c4059",
   "metadata": {
    "id": "bb3c4059"
   },
   "source": [
    "### 3. Logical Operators:\n",
    "\n",
    "Logical operators perform logical operations on boolean values.\n",
    "\n",
    "- **Logical AND (`and`):** Returns True if both the left and right operands are True."
   ]
  },
  {
   "cell_type": "code",
   "execution_count": null,
   "id": "09e49fba",
   "metadata": {
    "id": "09e49fba",
    "outputId": "128830ad-83af-47f2-b0fe-a2bb8f1093cd"
   },
   "outputs": [
    {
     "data": {
      "text/plain": [
       "False"
      ]
     },
     "execution_count": 27,
     "metadata": {},
     "output_type": "execute_result"
    }
   ],
   "source": [
    "True and False  # False"
   ]
  },
  {
   "cell_type": "markdown",
   "id": "1e7169f3",
   "metadata": {
    "id": "1e7169f3"
   },
   "source": [
    "- **Logical OR (`or`):** Returns True if at least one of the operands is True."
   ]
  },
  {
   "cell_type": "code",
   "execution_count": null,
   "id": "b8e32def",
   "metadata": {
    "id": "b8e32def",
    "outputId": "9ca4b3cf-4cff-478c-892f-a2742973d8c5"
   },
   "outputs": [
    {
     "data": {
      "text/plain": [
       "True"
      ]
     },
     "execution_count": 28,
     "metadata": {},
     "output_type": "execute_result"
    }
   ],
   "source": [
    "True or False  # True"
   ]
  },
  {
   "cell_type": "markdown",
   "id": "c7ed417e",
   "metadata": {
    "id": "c7ed417e"
   },
   "source": [
    "- **Logical NOT (`not`):** Returns the opposite of the operand's boolean value."
   ]
  },
  {
   "cell_type": "code",
   "execution_count": null,
   "id": "4feb16d2",
   "metadata": {
    "id": "4feb16d2",
    "outputId": "3e864797-0eb2-4863-f88f-840430112ef7"
   },
   "outputs": [
    {
     "data": {
      "text/plain": [
       "False"
      ]
     },
     "execution_count": 29,
     "metadata": {},
     "output_type": "execute_result"
    }
   ],
   "source": [
    "not True  # False"
   ]
  },
  {
   "cell_type": "markdown",
   "id": "e540e9cd",
   "metadata": {
    "id": "e540e9cd"
   },
   "source": [
    "### 4. Assignment Operators:\n",
    "\n",
    "Assignment operators assign values to variables.\n",
    "\n",
    "- **Assignment (`=`):** Assigns the value on the right to the variable on the left."
   ]
  },
  {
   "cell_type": "code",
   "execution_count": null,
   "id": "92c063ac",
   "metadata": {
    "id": "92c063ac"
   },
   "outputs": [],
   "source": [
    "x = 10"
   ]
  },
  {
   "cell_type": "markdown",
   "id": "c344bc19",
   "metadata": {
    "id": "c344bc19"
   },
   "source": [
    "- **Addition Assignment (`+=`):** Adds the right operand to the variable on the left.  "
   ]
  },
  {
   "cell_type": "code",
   "execution_count": null,
   "id": "e25ae2f9",
   "metadata": {
    "id": "e25ae2f9",
    "outputId": "6e4d7cec-5951-4ce6-e9a8-bb4ca07d74e8"
   },
   "outputs": [
    {
     "data": {
      "text/plain": [
       "8"
      ]
     },
     "execution_count": 55,
     "metadata": {},
     "output_type": "execute_result"
    }
   ],
   "source": [
    "y = 5\n",
    "y += 3  # Equivalent to y = y + 3\n",
    "y"
   ]
  },
  {
   "cell_type": "markdown",
   "id": "29492e50",
   "metadata": {
    "id": "29492e50"
   },
   "source": [
    "- **Subtraction Assignment (`-=`):** Subtracts the right operand from the variable on the left.\n",
    "\n",
    "  \n"
   ]
  },
  {
   "cell_type": "code",
   "execution_count": null,
   "id": "10063a65",
   "metadata": {
    "id": "10063a65",
    "outputId": "9855cddd-36d7-498c-eeff-3811e1c1ab2f"
   },
   "outputs": [
    {
     "data": {
      "text/plain": [
       "6"
      ]
     },
     "execution_count": 56,
     "metadata": {},
     "output_type": "execute_result"
    }
   ],
   "source": [
    "z = 8\n",
    "z -= 2  # Equivalent to z = z - 2\n",
    "z"
   ]
  },
  {
   "cell_type": "markdown",
   "id": "12613c34",
   "metadata": {
    "id": "12613c34"
   },
   "source": [
    "### 5. Identity Operators:\n",
    "\n",
    "Identity operators compare the memory locations of two objects.\n",
    "\n",
    "- **Identity (`is`):** Returns True if both operands refer to the same object."
   ]
  },
  {
   "cell_type": "code",
   "execution_count": null,
   "id": "c318f60a",
   "metadata": {
    "id": "c318f60a",
    "outputId": "d7e56ef0-e1b1-41d2-90b6-4884e0ff1897"
   },
   "outputs": [
    {
     "data": {
      "text/plain": [
       "False"
      ]
     },
     "execution_count": 57,
     "metadata": {},
     "output_type": "execute_result"
    }
   ],
   "source": [
    "a = [1, 2, 3]\n",
    "b = [1, 2, 3]\n",
    "result = a is b  # False\n",
    "result"
   ]
  },
  {
   "cell_type": "code",
   "execution_count": null,
   "id": "4fc37121",
   "metadata": {
    "id": "4fc37121",
    "outputId": "76fed736-4fb6-40e0-e08b-2f1b6ac049d5"
   },
   "outputs": [
    {
     "data": {
      "text/plain": [
       "True"
      ]
     },
     "execution_count": 58,
     "metadata": {},
     "output_type": "execute_result"
    }
   ],
   "source": [
    "a == b"
   ]
  },
  {
   "cell_type": "markdown",
   "id": "93617f70",
   "metadata": {
    "id": "93617f70"
   },
   "source": [
    "- **Non-identity (`is not`):** Returns True if both operands do not refer to the same object.\n",
    "\n"
   ]
  },
  {
   "cell_type": "code",
   "execution_count": null,
   "id": "9b936a86",
   "metadata": {
    "id": "9b936a86",
    "outputId": "ce5704b4-45df-4c7d-be8f-e31930c4a608"
   },
   "outputs": [
    {
     "data": {
      "text/plain": [
       "False"
      ]
     },
     "execution_count": 59,
     "metadata": {},
     "output_type": "execute_result"
    }
   ],
   "source": [
    "c = a\n",
    "result = a is not c  # False\n",
    "result"
   ]
  },
  {
   "cell_type": "markdown",
   "id": "eb1bdd59",
   "metadata": {
    "id": "eb1bdd59"
   },
   "source": [
    "These operators play a crucial role in performing various operations and comparisons in Python programming."
   ]
  },
  {
   "cell_type": "markdown",
   "id": "9389e8d9",
   "metadata": {
    "id": "9389e8d9"
   },
   "source": [
    "### Exercises\n",
    "\n",
    "1. Calculate the total cost of purchasing 5 items at $10 each using arithmetic operators."
   ]
  },
  {
   "cell_type": "code",
   "execution_count": null,
   "id": "799a2f90",
   "metadata": {
    "id": "799a2f90"
   },
   "outputs": [],
   "source": []
  },
  {
   "cell_type": "markdown",
   "id": "a59c8a27",
   "metadata": {
    "id": "a59c8a27"
   },
   "source": [
    "2. Check if the number 20 is less than or equal to 25 using a comparison operator.\n",
    "\n"
   ]
  },
  {
   "cell_type": "code",
   "execution_count": null,
   "id": "ca637e82",
   "metadata": {
    "id": "ca637e82"
   },
   "outputs": [],
   "source": []
  },
  {
   "cell_type": "markdown",
   "id": "2b7bafb3",
   "metadata": {
    "id": "2b7bafb3"
   },
   "source": [
    "3. Determine if it's a sunny day and the temperature is above 30 degrees using logical operators.\n",
    "\n"
   ]
  },
  {
   "cell_type": "code",
   "execution_count": null,
   "id": "14fef940",
   "metadata": {
    "id": "14fef940"
   },
   "outputs": [],
   "source": []
  },
  {
   "cell_type": "markdown",
   "id": "fa338550",
   "metadata": {
    "id": "fa338550"
   },
   "source": [
    "4. Assign a value of 15 to a variable and increment it by 5 using an assignment operator.\n",
    "\n"
   ]
  },
  {
   "cell_type": "code",
   "execution_count": null,
   "id": "9d441101",
   "metadata": {
    "id": "9d441101"
   },
   "outputs": [],
   "source": []
  },
  {
   "cell_type": "markdown",
   "id": "7f825fd8",
   "metadata": {
    "id": "7f825fd8"
   },
   "source": [
    "5. Compare two lists to check if they refer to the same memory location using an identity operator.\n",
    "\n"
   ]
  },
  {
   "cell_type": "code",
   "execution_count": null,
   "id": "90876d4f",
   "metadata": {
    "id": "90876d4f"
   },
   "outputs": [],
   "source": []
  },
  {
   "cell_type": "markdown",
   "id": "d7551d30",
   "metadata": {
    "id": "d7551d30"
   },
   "source": [
    "6. Check if the element \"apple\" is present in the list `[\"orange\", \"banana\", \"apple\"]` using a membership operator.\n",
    "\n"
   ]
  },
  {
   "cell_type": "code",
   "execution_count": null,
   "id": "eaee7ad0",
   "metadata": {
    "id": "eaee7ad0"
   },
   "outputs": [],
   "source": []
  },
  {
   "cell_type": "markdown",
   "id": "07452e2c",
   "metadata": {
    "id": "07452e2c"
   },
   "source": [
    "7. Calculate the area of a rectangle with a length of 12 and a width of 8 using arithmetic operators.\n"
   ]
  },
  {
   "cell_type": "code",
   "execution_count": null,
   "id": "434d6258",
   "metadata": {
    "id": "434d6258"
   },
   "outputs": [],
   "source": []
  },
  {
   "cell_type": "markdown",
   "id": "3bafa32e",
   "metadata": {
    "id": "3bafa32e"
   },
   "source": [
    "8. Verify if the result of `(4 + 3) * 2` is not equal to `10` using a comparison operator."
   ]
  },
  {
   "cell_type": "code",
   "execution_count": null,
   "id": "a8fdc423",
   "metadata": {
    "id": "a8fdc423"
   },
   "outputs": [],
   "source": []
  },
  {
   "cell_type": "markdown",
   "id": "34233beb",
   "metadata": {
    "id": "34233beb"
   },
   "source": [
    "9. Check if it's a rainy day or the temperature is below 20 degrees using logical operators."
   ]
  },
  {
   "cell_type": "code",
   "execution_count": null,
   "id": "6199492d",
   "metadata": {
    "id": "6199492d"
   },
   "outputs": [],
   "source": []
  },
  {
   "cell_type": "markdown",
   "id": "78a67ebf",
   "metadata": {
    "id": "78a67ebf"
   },
   "source": [
    "10. Assign a value of 25 to a variable and decrement it by 10 using an assignment operator."
   ]
  },
  {
   "cell_type": "code",
   "execution_count": null,
   "id": "f87682a7",
   "metadata": {
    "id": "f87682a7"
   },
   "outputs": [],
   "source": []
  },
  {
   "cell_type": "markdown",
   "id": "2e98ab55",
   "metadata": {
    "id": "2e98ab55"
   },
   "source": [
    "## Conditional Statements\n",
    "\n",
    "> Conditional statements in Python allow you to control the flow of your program based on certain conditions.\n",
    "\n",
    "![](https://files.realpython.com/media/Conditional-Statements-in-Python_Watermarked.b6b7d30ff62b.jpg)"
   ]
  },
  {
   "cell_type": "markdown",
   "id": "9bfd45fb",
   "metadata": {
    "id": "9bfd45fb"
   },
   "source": [
    "### 1. **if Statement:**\n",
    "The `if` statement is used to execute a block of code only if a specified condition is true.\n"
   ]
  },
  {
   "cell_type": "code",
   "execution_count": null,
   "id": "fc761747",
   "metadata": {
    "id": "fc761747"
   },
   "outputs": [],
   "source": [
    "# Example\n",
    "x = 10\n",
    "\n",
    "if x > 5:\n",
    "    print(\"x is greater than 5\")"
   ]
  },
  {
   "cell_type": "code",
   "execution_count": 7,
   "id": "cf404b09-9cfa-448b-9475-4f1c5eb83c02",
   "metadata": {},
   "outputs": [
    {
     "name": "stdout",
     "output_type": "stream",
     "text": [
      "human\n"
     ]
    }
   ],
   "source": [
    "if \"bib\" in \"Bibhakar\":\n",
    "    print(\"coder\")\n",
    "else:\n",
    "    print(\"human\")"
   ]
  },
  {
   "cell_type": "markdown",
   "id": "e6406472",
   "metadata": {
    "id": "e6406472"
   },
   "source": [
    "### 2. **if-else Statement:**\n",
    "The `if-else` statement allows you to execute one block of code if the condition is true and another block if it is false."
   ]
  },
  {
   "cell_type": "code",
   "execution_count": null,
   "id": "aed19203",
   "metadata": {
    "id": "aed19203"
   },
   "outputs": [],
   "source": [
    "# Example\n",
    "y = 3\n",
    "\n",
    "if y % 2 == 0:\n",
    "    print(\"y is even\")\n",
    "else:\n",
    "    print(\"y is odd\")"
   ]
  },
  {
   "cell_type": "markdown",
   "id": "01e0ce77",
   "metadata": {
    "id": "01e0ce77"
   },
   "source": [
    "### 3. **if-elif-else Statement:**\n",
    "The `if-elif-else` statement allows you to check multiple conditions and execute the corresponding block of code based on the first true condition."
   ]
  },
  {
   "cell_type": "code",
   "execution_count": null,
   "id": "dd1997ea",
   "metadata": {
    "id": "dd1997ea"
   },
   "outputs": [],
   "source": [
    "# Example\n",
    "grade = 75\n",
    "\n",
    "if grade >= 90:\n",
    "    print(\"A\")\n",
    "elif grade >= 80:\n",
    "    print(\"B\")\n",
    "elif grade >= 70:\n",
    "    print(\"C\")\n",
    "else:\n",
    "    print(\"Fail\")"
   ]
  },
  {
   "cell_type": "markdown",
   "id": "9cc7a0a7",
   "metadata": {
    "id": "9cc7a0a7"
   },
   "source": [
    "### 4. **Nested if Statements:**\n",
    "You can nest `if` statements inside each other to handle more complex conditions.\n",
    "\n",
    "\n",
    "\n",
    "\n"
   ]
  },
  {
   "cell_type": "code",
   "execution_count": null,
   "id": "444d8fa8",
   "metadata": {
    "id": "444d8fa8"
   },
   "outputs": [],
   "source": [
    "# Example\n",
    "age = 25\n",
    "income = 50000\n",
    "\n",
    "if age > 18:\n",
    "    if income > 30000:\n",
    "        print(\"Eligible for loan\")\n",
    "    else:\n",
    "        print(\"Income too low\")\n",
    "else:\n",
    "    print(\"Age not eligible for loan\")"
   ]
  },
  {
   "cell_type": "markdown",
   "id": "a2628cab",
   "metadata": {
    "id": "a2628cab"
   },
   "source": [
    "### 5. **Ternary Operator:**\n",
    "The ternary operator is a concise way to write an `if-else` statement in a single line."
   ]
  },
  {
   "cell_type": "code",
   "execution_count": null,
   "id": "7681052b",
   "metadata": {
    "id": "7681052b"
   },
   "outputs": [],
   "source": [
    "# Example\n",
    "result = \"Pass\" if grade >= 60 else \"Fail\"\n",
    "print(result)"
   ]
  },
  {
   "cell_type": "markdown",
   "id": "81bdce85",
   "metadata": {
    "id": "81bdce85"
   },
   "source": [
    "These conditional statements allow you to make decisions in your code, making it more flexible and responsive to different scenarios."
   ]
  },
  {
   "cell_type": "markdown",
   "id": "e9e43ced",
   "metadata": {
    "id": "e9e43ced"
   },
   "source": [
    "### Exercises\n",
    "\n",
    "1. Write a Python program that checks if a given number is positive, negative, or zero."
   ]
  },
  {
   "cell_type": "code",
   "execution_count": null,
   "id": "7d40d54f-3191-4e79-bfcc-cbb5a9113ee1",
   "metadata": {},
   "outputs": [],
   "source": []
  },
  {
   "cell_type": "code",
   "execution_count": null,
   "id": "9706eefe-5441-4cf6-8a1e-4a29824c1f8d",
   "metadata": {},
   "outputs": [],
   "source": []
  },
  {
   "cell_type": "code",
   "execution_count": null,
   "id": "7f151f5a",
   "metadata": {
    "id": "7f151f5a"
   },
   "outputs": [],
   "source": []
  },
  {
   "cell_type": "markdown",
   "id": "d6192936",
   "metadata": {
    "id": "d6192936"
   },
   "source": [
    "2. Create a program that determines if a student has passed or failed based on their exam score. A passing score is 60 or above.\n"
   ]
  },
  {
   "cell_type": "code",
   "execution_count": null,
   "id": "004a04a2",
   "metadata": {
    "id": "004a04a2"
   },
   "outputs": [],
   "source": []
  },
  {
   "cell_type": "markdown",
   "id": "ac7d5448",
   "metadata": {
    "id": "ac7d5448"
   },
   "source": [
    "3. Check if a year is a leap year. A leap year is divisible by 4, but not divisible by 100 unless it is divisible by 400."
   ]
  },
  {
   "cell_type": "code",
   "execution_count": null,
   "id": "7e4f87e7",
   "metadata": {
    "id": "7e4f87e7"
   },
   "outputs": [],
   "source": []
  },
  {
   "cell_type": "markdown",
   "id": "bdd3cf14",
   "metadata": {
    "id": "bdd3cf14"
   },
   "source": [
    "4. Write a program that categorizes a person's age into \"child\" (0-12), \"teenager\" (13-19), \"adult\" (20-64), and \"senior\" (65 and above).\n",
    "\n"
   ]
  },
  {
   "cell_type": "code",
   "execution_count": null,
   "id": "bd4f42cf",
   "metadata": {
    "id": "bd4f42cf"
   },
   "outputs": [],
   "source": []
  },
  {
   "cell_type": "markdown",
   "id": "e25f0ed1",
   "metadata": {
    "id": "e25f0ed1"
   },
   "source": [
    "5. Create a program that recommends activities based on the weather. If it's sunny, suggest outdoor activities. If it's rainy, suggest indoor activities. Handle other weather conditions as well.\n"
   ]
  },
  {
   "cell_type": "code",
   "execution_count": null,
   "id": "18d03bb2",
   "metadata": {
    "id": "18d03bb2"
   },
   "outputs": [],
   "source": []
  },
  {
   "cell_type": "markdown",
   "id": "bbed4c55",
   "metadata": {
    "id": "bbed4c55"
   },
   "source": [
    "6. Determine if a given number is even or odd."
   ]
  },
  {
   "cell_type": "code",
   "execution_count": null,
   "id": "f9a14d31",
   "metadata": {
    "id": "f9a14d31"
   },
   "outputs": [],
   "source": []
  },
  {
   "cell_type": "markdown",
   "id": "f842191b",
   "metadata": {
    "id": "f842191b"
   },
   "source": [
    "\n",
    "7. Write a program that calculates the shipping cost based on the weight of a package. If the weight is 5 kg or less, the cost is $10; otherwise, it is $20.\n"
   ]
  },
  {
   "cell_type": "code",
   "execution_count": null,
   "id": "5897c1e8",
   "metadata": {
    "id": "5897c1e8"
   },
   "outputs": [],
   "source": []
  },
  {
   "cell_type": "markdown",
   "id": "72f68b72",
   "metadata": {
    "id": "72f68b72"
   },
   "source": [
    "8. Check if a given username and password match predefined values. Allow access if the credentials are correct; otherwise, deny access."
   ]
  },
  {
   "cell_type": "code",
   "execution_count": null,
   "id": "5c4991e3",
   "metadata": {
    "id": "5c4991e3"
   },
   "outputs": [],
   "source": []
  },
  {
   "cell_type": "markdown",
   "id": "39e16035",
   "metadata": {
    "id": "39e16035"
   },
   "source": [
    "9. Create a simple calculator that performs addition, subtraction, multiplication, or division based on user input. Handle division by zero."
   ]
  },
  {
   "cell_type": "code",
   "execution_count": null,
   "id": "dfdc84e6",
   "metadata": {
    "id": "dfdc84e6"
   },
   "outputs": [],
   "source": []
  }
 ],
 "metadata": {
  "colab": {
   "provenance": []
  },
  "kernelspec": {
   "display_name": "Python 3 (ipykernel)",
   "language": "python",
   "name": "python3"
  },
  "language_info": {
   "codemirror_mode": {
    "name": "ipython",
    "version": 3
   },
   "file_extension": ".py",
   "mimetype": "text/x-python",
   "name": "python",
   "nbconvert_exporter": "python",
   "pygments_lexer": "ipython3",
   "version": "3.12.0"
  }
 },
 "nbformat": 4,
 "nbformat_minor": 5
}
